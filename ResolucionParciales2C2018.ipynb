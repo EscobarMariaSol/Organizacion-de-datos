{
 "cells": [
  {
   "cell_type": "code",
   "execution_count": 7,
   "metadata": {},
   "outputs": [],
   "source": [
    "import pyspark\n",
    "try: \n",
    "    type(sc)\n",
    "except NameError:\n",
    "    sc = pyspark.SparkContext('local[*]')"
   ]
  },
  {
   "cell_type": "markdown",
   "metadata": {},
   "source": [
    "# 1) (***) Tenemos información sobre\n",
    "recetas en 3 RDD de Spark.\n",
    "Recetas: (id_receta, nombre,\n",
    "tiempo_preparación, dificultad)\n",
    "Ingredientes: (id_ingrediente, nombre)\n",
    "Ingredientes por Receta: (id_receta,\n",
    "id_ingrediente, cantidad)\n",
    "Se pide:\n",
    "a) Obtener el nombre de todas las\n",
    "recetas que tengan Cordero. (7 puntos)\n",
    "b) Calcular la cantidad total de cada\n",
    "ingrediente si queremos hacer todas las\n",
    "recetas con Cordero que sean fáciles. (8\n",
    "puntos)"
   ]
  },
  {
   "cell_type": "code",
   "execution_count": 2,
   "metadata": {},
   "outputs": [],
   "source": [
    "recetas = [\n",
    "    (1, \"super hamburguer\", 1, \"facil\"),\n",
    "    (2, \"ravioles con pesto\", 2, \"mediana\"),\n",
    "    (3, \"cordero patagonico\", 3, \"facil\"),\n",
    "    (4, \"hamburguer con papas\", 1, \"facil\"),\n",
    "   (5, \"salmon rosado\", 3, \"dificil\"),\n",
    "    (6, \"asado criollo\", 4, \"dificil\")\n",
    "]\n",
    "ingredientes = [\n",
    "    (1, \"hamburguesa\"),\n",
    "    (2, \"ravioles\"),\n",
    "    (3, \"cordero\"),\n",
    "    (4, \"papa\"),\n",
    "   (5, \"salmon\"),\n",
    "    (6, \"asado\"),\n",
    "        (7, \"aceite\"),\n",
    "    (8, \"sal\"),\n",
    "    (9, \"salsa roja\"),\n",
    "    (10, \"queso\"),\n",
    "   (11, \"tomate\"),\n",
    "    (12, \"lechuga\")\n",
    "]\n",
    "ingredientes_por_Receta= [\n",
    "    (1,3,1),\n",
    "    (1,10,3),\n",
    "    (1,11,1),\n",
    "    (1,12,1),\n",
    "    (2,2,1),\n",
    "    (2,8,5),\n",
    "    (2,9,1),\n",
    "    (2,10,1),\n",
    "    (3,3,2),\n",
    "    (3,4,1),\n",
    "    (3,11,1),\n",
    "    (4,10,1),\n",
    "    (4,11,1),\n",
    "    (4,12,1),\n",
    "      (5,5,2),\n",
    "    (5,4,1),\n",
    "    (6,6,1),\n",
    "    (6,8,2),\n",
    "      (6,4,3),\n",
    "    \n",
    "]"
   ]
  },
  {
   "cell_type": "code",
   "execution_count": 3,
   "metadata": {},
   "outputs": [
    {
     "data": {
      "text/plain": [
       "[(1, 'hamburguesa'),\n",
       " (2, 'ravioles'),\n",
       " (3, 'cordero'),\n",
       " (4, 'papa'),\n",
       " (5, 'salmon'),\n",
       " (6, 'asado'),\n",
       " (7, 'aceite'),\n",
       " (8, 'sal'),\n",
       " (9, 'salsa roja'),\n",
       " (10, 'queso'),\n",
       " (11, 'tomate'),\n",
       " (12, 'lechuga')]"
      ]
     },
     "execution_count": 3,
     "metadata": {},
     "output_type": "execute_result"
    }
   ],
   "source": [
    "ingredientes"
   ]
  },
  {
   "cell_type": "code",
   "execution_count": 5,
   "metadata": {},
   "outputs": [
    {
     "data": {
      "text/plain": [
       "[(1, 3, 1),\n",
       " (1, 10, 3),\n",
       " (1, 11, 1),\n",
       " (1, 12, 1),\n",
       " (2, 2, 1),\n",
       " (2, 8, 5),\n",
       " (2, 9, 1),\n",
       " (2, 10, 1),\n",
       " (3, 3, 2),\n",
       " (3, 4, 1),\n",
       " (3, 11, 1),\n",
       " (4, 10, 1),\n",
       " (4, 11, 1),\n",
       " (4, 12, 1),\n",
       " (5, 5, 2),\n",
       " (5, 4, 1),\n",
       " (6, 6, 1),\n",
       " (6, 8, 2),\n",
       " (6, 4, 3)]"
      ]
     },
     "execution_count": 5,
     "metadata": {},
     "output_type": "execute_result"
    }
   ],
   "source": [
    "ingredientes_por_Receta"
   ]
  },
  {
   "cell_type": "code",
   "execution_count": 24,
   "metadata": {},
   "outputs": [],
   "source": [
    "ingredientesRDD=sc.parallelize(ingredientes)\n",
    "recetasRDD=sc.parallelize(recetas)\n",
    "ingredientes_por_RecetaRDD=sc.parallelize(ingredientes_por_Receta)"
   ]
  },
  {
   "cell_type": "markdown",
   "metadata": {},
   "source": [
    "# Todas las recetas que  tengan cordero"
   ]
  },
  {
   "cell_type": "code",
   "execution_count": 36,
   "metadata": {},
   "outputs": [
    {
     "data": {
      "text/plain": [
       "3"
      ]
     },
     "execution_count": 36,
     "metadata": {},
     "output_type": "execute_result"
    }
   ],
   "source": [
    "id_cordero=ingredientesRDD.filter(lambda x:x[1]==\"cordero\").collect()\n",
    "id_cordero[0][0]"
   ]
  },
  {
   "cell_type": "code",
   "execution_count": 58,
   "metadata": {},
   "outputs": [
    {
     "data": {
      "text/plain": [
       "[(1, ((3, 1), ('super hamburguer', 'facil'))),\n",
       " (3, ((3, 2), ('cordero patagonico', 'facil')))]"
      ]
     },
     "execution_count": 58,
     "metadata": {},
     "output_type": "execute_result"
    }
   ],
   "source": [
    "recetasCordero=ingredientes_por_RecetaRDD.filter(lambda x:x[1]==id_cordero[0][0])\\\n",
    "                                .map(lambda x: (x[0],(x[1],x[2])))\\\n",
    "                            .join(recetasRDD.map(lambda x:(x[0],(x[1],x[3]))))\n",
    "recetasCordero.collect()"
   ]
  },
  {
   "cell_type": "code",
   "execution_count": 59,
   "metadata": {},
   "outputs": [
    {
     "data": {
      "text/plain": [
       "['super hamburguer', 'cordero patagonico']"
      ]
     },
     "execution_count": 59,
     "metadata": {},
     "output_type": "execute_result"
    }
   ],
   "source": [
    "recetasCordero.map(lambda x:x[1][1][0]).collect()"
   ]
  },
  {
   "cell_type": "markdown",
   "metadata": {},
   "source": [
    "parte b"
   ]
  },
  {
   "cell_type": "code",
   "execution_count": 60,
   "metadata": {},
   "outputs": [
    {
     "data": {
      "text/plain": [
       "[(1, ((3, 1), ('super hamburguer', 'facil'))),\n",
       " (3, ((3, 2), ('cordero patagonico', 'facil')))]"
      ]
     },
     "execution_count": 60,
     "metadata": {},
     "output_type": "execute_result"
    }
   ],
   "source": [
    "recetas_faciles=recetasCordero.filter(lambda x:(x[1][1][1]=='facil'))\n",
    "recetas_faciles.collect()"
   ]
  },
  {
   "cell_type": "code",
   "execution_count": 61,
   "metadata": {},
   "outputs": [
    {
     "data": {
      "text/plain": [
       "[(1, 'super hamburguer'), (3, 'cordero patagonico')]"
      ]
     },
     "execution_count": 61,
     "metadata": {},
     "output_type": "execute_result"
    }
   ],
   "source": [
    "recetas_faciles=recetas_faciles.map(lambda x:(x[0],x[1][1][0]))\n",
    "recetas_faciles.collect()"
   ]
  },
  {
   "cell_type": "code",
   "execution_count": 63,
   "metadata": {},
   "outputs": [
    {
     "data": {
      "text/plain": [
       "[(1, (3, 1)),\n",
       " (1, (10, 3)),\n",
       " (1, (11, 1)),\n",
       " (1, (12, 1)),\n",
       " (2, (2, 1)),\n",
       " (2, (8, 5)),\n",
       " (2, (9, 1)),\n",
       " (2, (10, 1)),\n",
       " (3, (3, 2)),\n",
       " (3, (4, 1)),\n",
       " (3, (11, 1)),\n",
       " (4, (10, 1)),\n",
       " (4, (11, 1)),\n",
       " (4, (12, 1)),\n",
       " (5, (5, 2)),\n",
       " (5, (4, 1)),\n",
       " (6, (6, 1)),\n",
       " (6, (8, 2)),\n",
       " (6, (4, 3))]"
      ]
     },
     "execution_count": 63,
     "metadata": {},
     "output_type": "execute_result"
    }
   ],
   "source": [
    "ingredientes_por_RecetaRDD.map(lambda x:(x[0],(x[1],x[2]))).collect()"
   ]
  },
  {
   "cell_type": "code",
   "execution_count": 64,
   "metadata": {},
   "outputs": [
    {
     "data": {
      "text/plain": [
       "[(1, ('super hamburguer', (3, 1))),\n",
       " (1, ('super hamburguer', (10, 3))),\n",
       " (1, ('super hamburguer', (11, 1))),\n",
       " (1, ('super hamburguer', (12, 1))),\n",
       " (3, ('cordero patagonico', (3, 2))),\n",
       " (3, ('cordero patagonico', (4, 1))),\n",
       " (3, ('cordero patagonico', (11, 1)))]"
      ]
     },
     "execution_count": 64,
     "metadata": {},
     "output_type": "execute_result"
    }
   ],
   "source": [
    "recetas_faciles=recetas_faciles.join(ingredientes_por_RecetaRDD.map(lambda x:(x[0],(x[1],x[2]))))\n",
    "recetas_faciles.collect()"
   ]
  },
  {
   "cell_type": "code",
   "execution_count": 66,
   "metadata": {},
   "outputs": [
    {
     "data": {
      "text/plain": [
       "[(10, (3, 'queso')),\n",
       " (3, (1, 'cordero')),\n",
       " (3, (2, 'cordero')),\n",
       " (11, (1, 'tomate')),\n",
       " (11, (1, 'tomate')),\n",
       " (12, (1, 'lechuga')),\n",
       " (4, (1, 'papa'))]"
      ]
     },
     "execution_count": 66,
     "metadata": {},
     "output_type": "execute_result"
    }
   ],
   "source": [
    "recetas_faciles.map(lambda x:(x[1][1][0],x[1][1][1])).join(ingredientesRDD).collect()"
   ]
  },
  {
   "cell_type": "code",
   "execution_count": 67,
   "metadata": {},
   "outputs": [
    {
     "data": {
      "text/plain": [
       "[('cordero', 3), ('tomate', 2), ('lechuga', 1), ('papa', 1), ('queso', 3)]"
      ]
     },
     "execution_count": 67,
     "metadata": {},
     "output_type": "execute_result"
    }
   ],
   "source": [
    "recetas_faciles=recetas_faciles.map(lambda x:(x[1][1][0],x[1][1][1]))\n",
    "recetas_faciles.join(ingredientesRDD).map(lambda x:(x[1][1],x[1][0]))\\\n",
    "                .reduceByKey(lambda x,y:x+y).collect()"
   ]
  },
  {
   "cell_type": "code",
   "execution_count": null,
   "metadata": {},
   "outputs": [],
   "source": []
  },
  {
   "cell_type": "code",
   "execution_count": null,
   "metadata": {},
   "outputs": [],
   "source": []
  },
  {
   "cell_type": "code",
   "execution_count": 6,
   "metadata": {},
   "outputs": [
    {
     "data": {
      "text/plain": [
       "[(3, 'cordero')]"
      ]
     },
     "execution_count": 6,
     "metadata": {},
     "output_type": "execute_result"
    }
   ],
   "source": [
    "ingredientesRDD.filter(lambda x:x[1]==\"cordero\").collect()"
   ]
  },
  {
   "cell_type": "code",
   "execution_count": 7,
   "metadata": {},
   "outputs": [],
   "source": [
    "ingredientesconCordero=ingredientesRDD.filter(lambda x:x[1]==\"cordero\").cache()"
   ]
  },
  {
   "cell_type": "code",
   "execution_count": 8,
   "metadata": {},
   "outputs": [
    {
     "data": {
      "text/plain": [
       "[(3, 'cordero')]"
      ]
     },
     "execution_count": 8,
     "metadata": {},
     "output_type": "execute_result"
    }
   ],
   "source": [
    "ingredientesconCordero.collect()"
   ]
  },
  {
   "cell_type": "code",
   "execution_count": 9,
   "metadata": {},
   "outputs": [
    {
     "data": {
      "text/plain": [
       "[('hamburguesa', 1),\n",
       " ('ravioles', 2),\n",
       " ('cordero', 3),\n",
       " ('papa', 4),\n",
       " ('salmon', 5),\n",
       " ('asado', 6),\n",
       " ('aceite', 7),\n",
       " ('sal', 8),\n",
       " ('salsa roja', 9),\n",
       " ('queso', 10),\n",
       " ('tomate', 11),\n",
       " ('lechuga', 12)]"
      ]
     },
     "execution_count": 9,
     "metadata": {},
     "output_type": "execute_result"
    }
   ],
   "source": [
    "ingredientesRDD.map(lambda x:(x[1],x[0])).collect()"
   ]
  },
  {
   "cell_type": "code",
   "execution_count": 10,
   "metadata": {},
   "outputs": [
    {
     "data": {
      "text/plain": [
       "[(3, (1, 'cordero')), (3, (3, 'cordero'))]"
      ]
     },
     "execution_count": 10,
     "metadata": {},
     "output_type": "execute_result"
    }
   ],
   "source": [
    "ingredientes_por_RecetaRDD.map(lambda x:(x[1],x[0])).join(ingredientesconCordero).collect()"
   ]
  },
  {
   "cell_type": "code",
   "execution_count": 11,
   "metadata": {},
   "outputs": [
    {
     "data": {
      "text/plain": [
       "[(3, 'cordero patagonico'), (1, 'super hamburguer')]"
      ]
     },
     "execution_count": 11,
     "metadata": {},
     "output_type": "execute_result"
    }
   ],
   "source": [
    "recetas_con_Cordero=ingredientes_por_RecetaRDD.map(lambda x:(x[1],x[0])).join(ingredientesconCordero)\\\n",
    "                            .map(lambda x:(x[1][0],x[1][1]))\\\n",
    "                            .join(recetasRDD).map(lambda x:(x[0],x[1][1]))\n",
    "recetas_con_Cordero.collect()"
   ]
  },
  {
   "cell_type": "markdown",
   "metadata": {},
   "source": [
    "# cantidad total de cada ingrediente de las recetas con cordero"
   ]
  },
  {
   "cell_type": "code",
   "execution_count": 12,
   "metadata": {},
   "outputs": [
    {
     "data": {
      "text/plain": [
       "[(1, ('super hamburguer', 'super hamburguer')),\n",
       " (3, ('cordero patagonico', 'cordero patagonico'))]"
      ]
     },
     "execution_count": 12,
     "metadata": {},
     "output_type": "execute_result"
    }
   ],
   "source": [
    "recetasRDD.filter(lambda x: x[3]==\"facil\").join(recetas_con_Cordero).collect()"
   ]
  },
  {
   "cell_type": "code",
   "execution_count": 13,
   "metadata": {},
   "outputs": [
    {
     "data": {
      "text/plain": [
       "[(1, ('super hamburguer', 'super hamburguer')),\n",
       " (3, ('cordero patagonico', 'cordero patagonico'))]"
      ]
     },
     "execution_count": 13,
     "metadata": {},
     "output_type": "execute_result"
    }
   ],
   "source": [
    "recetas_faciles_con_cordero=recetasRDD.filter(lambda x: x[3]==\"facil\").join(recetas_con_Cordero).cache()\n",
    "recetas_faciles_con_cordero.collect()       "
   ]
  },
  {
   "cell_type": "code",
   "execution_count": 14,
   "metadata": {},
   "outputs": [
    {
     "data": {
      "text/plain": [
       "[(1, ((3, 1), ('super hamburguer', 'super hamburguer'))),\n",
       " (1, ((10, 3), ('super hamburguer', 'super hamburguer'))),\n",
       " (1, ((11, 1), ('super hamburguer', 'super hamburguer'))),\n",
       " (1, ((12, 1), ('super hamburguer', 'super hamburguer'))),\n",
       " (3, ((3, 2), ('cordero patagonico', 'cordero patagonico'))),\n",
       " (3, ((4, 1), ('cordero patagonico', 'cordero patagonico'))),\n",
       " (3, ((11, 1), ('cordero patagonico', 'cordero patagonico')))]"
      ]
     },
     "execution_count": 14,
     "metadata": {},
     "output_type": "execute_result"
    }
   ],
   "source": [
    "ingredientes_por_RecetaRDD.map(lambda x:(x[0],(x[1],x[2]))).join(recetas_faciles_con_cordero) \\\n",
    "                          .collect()"
   ]
  },
  {
   "cell_type": "code",
   "execution_count": 15,
   "metadata": {},
   "outputs": [
    {
     "data": {
      "text/plain": [
       "[(3, 1), (10, 3), (11, 1), (12, 1), (3, 2), (4, 1), (11, 1)]"
      ]
     },
     "execution_count": 15,
     "metadata": {},
     "output_type": "execute_result"
    }
   ],
   "source": [
    "ingredientes_por_RecetaRDD.map(lambda x:(x[0],(x[1],x[2]))).join(recetas_faciles_con_cordero) \\\n",
    "                          .map(lambda x:(x[1][0][0],x[1][0][1])).collect()"
   ]
  },
  {
   "cell_type": "code",
   "execution_count": 16,
   "metadata": {},
   "outputs": [
    {
     "data": {
      "text/plain": [
       "[(10, 3), (11, 2), (12, 1), (3, 3), (4, 1)]"
      ]
     },
     "execution_count": 16,
     "metadata": {},
     "output_type": "execute_result"
    }
   ],
   "source": [
    "ingredientes_por_RecetaRDD.map(lambda x:(x[0],(x[1],x[2]))).join(recetas_faciles_con_cordero) \\\n",
    "                          .map(lambda x:(x[1][0][0],x[1][0][1]))\\\n",
    "                          .reduceByKey(lambda x,y: x+y) \\\n",
    "                          .collect() "
   ]
  },
  {
   "cell_type": "code",
   "execution_count": 17,
   "metadata": {},
   "outputs": [
    {
     "data": {
      "text/plain": [
       "[('lechuga', 1), ('cordero', 3), ('queso', 3), ('papa', 1), ('tomate', 2)]"
      ]
     },
     "execution_count": 17,
     "metadata": {},
     "output_type": "execute_result"
    }
   ],
   "source": [
    "ingredientes_por_RecetaRDD.map(lambda x:(x[0],(x[1],x[2]))).join(recetas_faciles_con_cordero) \\\n",
    "                          .map(lambda x:(x[1][0][0],x[1][0][1]))\\\n",
    "                          .reduceByKey(lambda x,y: x+y) \\\n",
    "                          .join(ingredientesRDD) \\\n",
    "                          .map(lambda x:(x[1][1],x[1][0]))\\\n",
    "                          .collect()  "
   ]
  },
  {
   "cell_type": "markdown",
   "metadata": {},
   "source": [
    "# Ejercicio de Spark 2do cuatrimestre,2do recuperatorio 2018"
   ]
  },
  {
   "cell_type": "code",
   "execution_count": 18,
   "metadata": {},
   "outputs": [],
   "source": [
    "# usuarios=(id_usuario,pais, nickname, fecha_alta)\n",
    "#publicaciones=(id_publicacion, id_usuario, id_foto, comentario, fecha)"
   ]
  },
  {
   "cell_type": "code",
   "execution_count": 4,
   "metadata": {},
   "outputs": [],
   "source": [
    "usuarios=[[1,\"Argentina\", \"capo123\", \"20160304\"],\n",
    "         [2,\"Afganistan\", \"life12\", \"20170304\"],\n",
    "         [3,\"Brasil\", \"panDeDios\", \"20160304\"],\n",
    "         [4,\"Cuba\", \"fidel\", \"20160304\"],\n",
    "         [5,\"Argentina\", \"cheChe\", \"20180304\"],\n",
    "        [6,\"Brasil\", \"LulaPreso\", \"20190304\"],\n",
    "         [7,\"Argentina\", \"nenem2020\", \"20160304\"]]\n",
    "\n",
    "publicaciones=[[1,2,3,\"este es un comentario #estaloco\", \"20170304\"],\n",
    "              [2,1,3,\"comentario #estaEnamorado\", \"20170304\"],\n",
    "              [3,3,3,\"no se que #pasa\", \"20170304\"],\n",
    "              [4,4,3,\"que linda foro #lindafoto\", \"20170304\"],\n",
    "              [5,7,3,\" no entiedo #estaloco a este tipo \", \"20170304\"],\n",
    "              [6,7,3,\"este es un #cafelatte comentario #camáñapresidencial\", \"20170304\"],\n",
    "              [7,6,3,\"este es un comentario #eshermosa\", \"20170304\"],\n",
    "              [8,5,3,\"este comentario es #feo\", \"20170304\"],\n",
    "              [9,5,3,\"este comentario es #feo\", \"20170304\"]]\n"
   ]
  },
  {
   "cell_type": "code",
   "execution_count": 5,
   "metadata": {},
   "outputs": [
    {
     "data": {
      "text/plain": [
       "[[1, 2, 3, 'este es un comentario #estaloco', '20170304'],\n",
       " [2, 1, 3, 'comentario #estaEnamorado', '20170304'],\n",
       " [3, 3, 3, 'no se que #pasa', '20170304'],\n",
       " [4, 4, 3, 'que linda foro #lindafoto', '20170304'],\n",
       " [5, 7, 3, ' no entiedo #estaloco a este tipo ', '20170304'],\n",
       " [6, 7, 3, 'este es un #cafelatte comentario #camáñapresidencial', '20170304'],\n",
       " [7, 6, 3, 'este es un comentario #eshermosa', '20170304'],\n",
       " [8, 5, 3, 'este comentario es #feo', '20170304'],\n",
       " [9, 5, 3, 'este comentario es #feo', '20170304']]"
      ]
     },
     "execution_count": 5,
     "metadata": {},
     "output_type": "execute_result"
    }
   ],
   "source": [
    "usuariosRDD=sc.parallelize(usuarios,4)\n",
    "publicacionesRDD=sc.parallelize(publicaciones,4)\n",
    "usuariosRDD.collect()\n",
    "publicacionesRDD.collect()"
   ]
  },
  {
   "cell_type": "markdown",
   "metadata": {},
   "source": [
    "# Top 10 hastags publicados por usuarios de argentina"
   ]
  },
  {
   "cell_type": "markdown",
   "metadata": {},
   "source": [
    "Primero hay que armar registros del tipo (id_usuario,comenatrios). Para eso hay hacer un flatmap y filtrar si las palabras tienen un #. obtenemos un rdd del tipo (id_usuario, #hastag)\n",
    "Luego tenemos que filtar los usuarios que no son de argentina y hacemos un inner join entre este rdd (id_usuario, pais) con el antererior. obtenemos un rdd (#, id_usario) de todos los hashtags que no queremos. \n",
    "Con el ultimo rdd hacemos un right join con el rdd (#, id usario). Todos los registros que tengan None en el termino x[1][0], son los hashtags que queremos"
   ]
  },
  {
   "cell_type": "code",
   "execution_count": 9,
   "metadata": {},
   "outputs": [],
   "source": [
    "def tienehashtag(word):\n",
    "    if '#' in word :return True\n",
    "    else:\n",
    "        return False"
   ]
  },
  {
   "cell_type": "code",
   "execution_count": 10,
   "metadata": {},
   "outputs": [
    {
     "data": {
      "text/plain": [
       "False"
      ]
     },
     "execution_count": 10,
     "metadata": {},
     "output_type": "execute_result"
    }
   ],
   "source": [
    "tienehashtag(\"hola\")"
   ]
  },
  {
   "cell_type": "code",
   "execution_count": 11,
   "metadata": {},
   "outputs": [
    {
     "data": {
      "text/plain": [
       "True"
      ]
     },
     "execution_count": 11,
     "metadata": {},
     "output_type": "execute_result"
    }
   ],
   "source": [
    "tienehashtag(\"#hola\")"
   ]
  },
  {
   "cell_type": "code",
   "execution_count": 12,
   "metadata": {},
   "outputs": [
    {
     "data": {
      "text/plain": [
       "[(2, '#estaloco'),\n",
       " (1, '#estaEnamorado'),\n",
       " (3, '#pasa'),\n",
       " (4, '#lindafoto'),\n",
       " (7, '#estaloco'),\n",
       " (7, '#cafelatte'),\n",
       " (7, '#camáñapresidencial'),\n",
       " (6, '#eshermosa'),\n",
       " (5, '#feo'),\n",
       " (5, '#feo')]"
      ]
     },
     "execution_count": 12,
     "metadata": {},
     "output_type": "execute_result"
    }
   ],
   "source": [
    "hashpublicados=publicacionesRDD.flatMap(lambda x:[(x[1],word) for word in x[3].split()])\\\n",
    "               .filter(lambda x:tienehashtag(x[1])).cache()\n",
    "hashpublicados.collect()"
   ]
  },
  {
   "cell_type": "code",
   "execution_count": 13,
   "metadata": {},
   "outputs": [
    {
     "data": {
      "text/plain": [
       "[(2, 'Afganistan'), (3, 'Brasil'), (4, 'Cuba'), (6, 'Brasil')]"
      ]
     },
     "execution_count": 13,
     "metadata": {},
     "output_type": "execute_result"
    }
   ],
   "source": [
    "usuariosNoArgentinos=usuariosRDD.filter(lambda x :x[1]!=\"Argentina\").map(lambda x:(x[0],x[1])).cache()\n",
    "usuariosNoArgentinos.collect()"
   ]
  },
  {
   "cell_type": "code",
   "execution_count": 26,
   "metadata": {},
   "outputs": [
    {
     "data": {
      "text/plain": [
       "[(2, ('Afganistan', '#estaloco')),\n",
       " (3, ('Brasil', '#pasa')),\n",
       " (4, ('Cuba', '#lindafoto')),\n",
       " (6, ('Brasil', '#eshermosa'))]"
      ]
     },
     "execution_count": 26,
     "metadata": {},
     "output_type": "execute_result"
    }
   ],
   "source": [
    "usuariosNoArgentinos.join(hashpublicados).collect()"
   ]
  },
  {
   "cell_type": "code",
   "execution_count": 27,
   "metadata": {},
   "outputs": [
    {
     "data": {
      "text/plain": [
       "[('#eshermosa', 6), ('#estaloco', 2), ('#lindafoto', 4), ('#pasa', 3)]"
      ]
     },
     "execution_count": 27,
     "metadata": {},
     "output_type": "execute_result"
    }
   ],
   "source": [
    "hashNoArgentinos=usuariosNoArgentinos.join(hashpublicados).map(lambda x:(x[1][1],x[0])).distinct().cache()\n",
    "hashNoArgentinos.collect()"
   ]
  },
  {
   "cell_type": "code",
   "execution_count": 28,
   "metadata": {},
   "outputs": [
    {
     "data": {
      "text/plain": [
       "[('#eshermosa', (6, 6)),\n",
       " ('#pasa', (3, 3)),\n",
       " ('#cafelatte', (None, 7)),\n",
       " ('#feo', (None, 5)),\n",
       " ('#feo', (None, 5)),\n",
       " ('#lindafoto', (4, 4)),\n",
       " ('#estaEnamorado', (None, 1)),\n",
       " ('#estaloco', (2, 2)),\n",
       " ('#estaloco', (2, 7)),\n",
       " ('#camáñapresidencial', (None, 7))]"
      ]
     },
     "execution_count": 28,
     "metadata": {},
     "output_type": "execute_result"
    }
   ],
   "source": [
    "hashNoArgentinos.rightOuterJoin(hashpublicados.map(lambda x:(x[1],x[0]))).collect()"
   ]
  },
  {
   "cell_type": "code",
   "execution_count": 29,
   "metadata": {},
   "outputs": [
    {
     "data": {
      "text/plain": [
       "[('#cafelatte', 7),\n",
       " ('#feo', 5),\n",
       " ('#feo', 5),\n",
       " ('#estaEnamorado', 1),\n",
       " ('#camáñapresidencial', 7)]"
      ]
     },
     "execution_count": 29,
     "metadata": {},
     "output_type": "execute_result"
    }
   ],
   "source": [
    "hashArhentinos=hashNoArgentinos.rightOuterJoin(hashpublicados.map(lambda x:(x[1],x[0])))\\\n",
    "                .filter(lambda x: x[1][0]==None).map(lambda x:(x[0],x[1][1])).cache()\n",
    "hashArhentinos.collect()\n",
    "                "
   ]
  },
  {
   "cell_type": "code",
   "execution_count": 30,
   "metadata": {},
   "outputs": [
    {
     "data": {
      "text/plain": [
       "[('#cafelatte', (7, 7)),\n",
       " ('#feo', (5, 5)),\n",
       " ('#feo', (5, 5)),\n",
       " ('#feo', (5, 5)),\n",
       " ('#feo', (5, 5)),\n",
       " ('#camáñapresidencial', (7, 7)),\n",
       " ('#estaEnamorado', (1, 1))]"
      ]
     },
     "execution_count": 30,
     "metadata": {},
     "output_type": "execute_result"
    }
   ],
   "source": [
    "hashArhentinos.join(hashpublicados.map(lambda x:(x[1],x[0]))).collect() "
   ]
  },
  {
   "cell_type": "code",
   "execution_count": 31,
   "metadata": {},
   "outputs": [
    {
     "data": {
      "text/plain": [
       "[('#feo', 4),\n",
       " ('#cafelatte', 1),\n",
       " ('#camáñapresidencial', 1),\n",
       " ('#estaEnamorado', 1)]"
      ]
     },
     "execution_count": 31,
     "metadata": {},
     "output_type": "execute_result"
    }
   ],
   "source": [
    "hashArhentinos.join(hashpublicados.map(lambda x:(x[1],x[0])))\\\n",
    "              .map(lambda x:(x[0],1)).reduceByKey(lambda x,y:x+y)\\\n",
    "              .takeOrdered(10, key=lambda x: -x[1])          "
   ]
  },
  {
   "cell_type": "markdown",
   "metadata": {},
   "source": [
    "# Construir RDD pares de id usuario que tienen hashtags en comun"
   ]
  },
  {
   "cell_type": "code",
   "execution_count": 14,
   "metadata": {},
   "outputs": [
    {
     "data": {
      "text/plain": [
       "[('#estaloco', 2),\n",
       " ('#estaEnamorado', 1),\n",
       " ('#pasa', 3),\n",
       " ('#lindafoto', 4),\n",
       " ('#estaloco', 7),\n",
       " ('#cafelatte', 7),\n",
       " ('#camáñapresidencial', 7),\n",
       " ('#eshermosa', 6),\n",
       " ('#feo', 5),\n",
       " ('#feo', 5)]"
      ]
     },
     "execution_count": 14,
     "metadata": {},
     "output_type": "execute_result"
    }
   ],
   "source": [
    "hashRDD=hashpublicados.map(lambda x:(x[1],x[0])).cache()\n",
    "hashRDD.collect()"
   ]
  },
  {
   "cell_type": "code",
   "execution_count": 15,
   "metadata": {},
   "outputs": [
    {
     "data": {
      "text/plain": [
       "[('#estaloco', (2, 2)),\n",
       " ('#estaloco', (2, 7)),\n",
       " ('#estaloco', (7, 2)),\n",
       " ('#estaloco', (7, 7)),\n",
       " ('#eshermosa', (6, 6)),\n",
       " ('#lindafoto', (4, 4)),\n",
       " ('#cafelatte', (7, 7)),\n",
       " ('#pasa', (3, 3)),\n",
       " ('#camáñapresidencial', (7, 7)),\n",
       " ('#feo', (5, 5)),\n",
       " ('#feo', (5, 5)),\n",
       " ('#feo', (5, 5)),\n",
       " ('#feo', (5, 5)),\n",
       " ('#estaEnamorado', (1, 1))]"
      ]
     },
     "execution_count": 15,
     "metadata": {},
     "output_type": "execute_result"
    }
   ],
   "source": [
    "hashRDD.join(hashRDD).collect()"
   ]
  },
  {
   "cell_type": "code",
   "execution_count": 17,
   "metadata": {},
   "outputs": [
    {
     "data": {
      "text/plain": [
       "[('#estaloco', (2, 7)), ('#estaloco', (7, 2))]"
      ]
     },
     "execution_count": 17,
     "metadata": {},
     "output_type": "execute_result"
    }
   ],
   "source": [
    "hashRDD.join(hashRDD).distinct().filter(lambda x:x[1][0]!=x[1][1]).collect()"
   ]
  },
  {
   "cell_type": "code",
   "execution_count": 19,
   "metadata": {},
   "outputs": [],
   "source": [
    "lista=hashRDD.join(hashRDD).distinct().filter(lambda x:x[1][0]!=x[1][1]).map(lambda x: list(x[1])).collect()"
   ]
  },
  {
   "cell_type": "code",
   "execution_count": 20,
   "metadata": {},
   "outputs": [
    {
     "data": {
      "text/plain": [
       "[[2, 7], [7, 2]]"
      ]
     },
     "execution_count": 20,
     "metadata": {},
     "output_type": "execute_result"
    }
   ],
   "source": [
    "lista"
   ]
  },
  {
   "cell_type": "code",
   "execution_count": 21,
   "metadata": {},
   "outputs": [
    {
     "ename": "Py4JJavaError",
     "evalue": "An error occurred while calling z:org.apache.spark.api.python.PythonRDD.runJob.\n: org.apache.spark.SparkException: Job aborted due to stage failure: Task 0 in stage 15.0 failed 1 times, most recent failure: Lost task 0.0 in stage 15.0 (TID 91, localhost, executor driver): org.apache.spark.api.python.PythonException: Traceback (most recent call last):\n  File \"/home/jorge/anaconda3/lib/python3.7/site-packages/pyspark/python/lib/pyspark.zip/pyspark/worker.py\", line 372, in main\n    process()\n  File \"/home/jorge/anaconda3/lib/python3.7/site-packages/pyspark/python/lib/pyspark.zip/pyspark/worker.py\", line 367, in process\n    serializer.dump_stream(func(split_index, iterator), outfile)\n  File \"/home/jorge/anaconda3/lib/python3.7/site-packages/pyspark/python/lib/pyspark.zip/pyspark/serializers.py\", line 390, in dump_stream\n    vs = list(itertools.islice(iterator, batch))\n  File \"/home/jorge/anaconda3/lib/python3.7/site-packages/pyspark/rdd.py\", line 1354, in takeUpToNumLeft\n    yield next(iterator)\n  File \"/home/jorge/anaconda3/lib/python3.7/site-packages/pyspark/python/lib/pyspark.zip/pyspark/util.py\", line 99, in wrapper\n    return f(*args, **kwargs)\n  File \"<ipython-input-21-6951f23c1ce4>\", line 2, in <lambda>\nNameError: name 'hayUnhastag' is not defined\n\n\tat org.apache.spark.api.python.BasePythonRunner$ReaderIterator.handlePythonException(PythonRunner.scala:452)\n\tat org.apache.spark.api.python.PythonRunner$$anon$1.read(PythonRunner.scala:588)\n\tat org.apache.spark.api.python.PythonRunner$$anon$1.read(PythonRunner.scala:571)\n\tat org.apache.spark.api.python.BasePythonRunner$ReaderIterator.hasNext(PythonRunner.scala:406)\n\tat org.apache.spark.InterruptibleIterator.hasNext(InterruptibleIterator.scala:37)\n\tat scala.collection.Iterator$class.foreach(Iterator.scala:891)\n\tat org.apache.spark.InterruptibleIterator.foreach(InterruptibleIterator.scala:28)\n\tat scala.collection.generic.Growable$class.$plus$plus$eq(Growable.scala:59)\n\tat scala.collection.mutable.ArrayBuffer.$plus$plus$eq(ArrayBuffer.scala:104)\n\tat scala.collection.mutable.ArrayBuffer.$plus$plus$eq(ArrayBuffer.scala:48)\n\tat scala.collection.TraversableOnce$class.to(TraversableOnce.scala:310)\n\tat org.apache.spark.InterruptibleIterator.to(InterruptibleIterator.scala:28)\n\tat scala.collection.TraversableOnce$class.toBuffer(TraversableOnce.scala:302)\n\tat org.apache.spark.InterruptibleIterator.toBuffer(InterruptibleIterator.scala:28)\n\tat scala.collection.TraversableOnce$class.toArray(TraversableOnce.scala:289)\n\tat org.apache.spark.InterruptibleIterator.toArray(InterruptibleIterator.scala:28)\n\tat org.apache.spark.api.python.PythonRDD$$anonfun$3.apply(PythonRDD.scala:153)\n\tat org.apache.spark.api.python.PythonRDD$$anonfun$3.apply(PythonRDD.scala:153)\n\tat org.apache.spark.SparkContext$$anonfun$runJob$5.apply(SparkContext.scala:2101)\n\tat org.apache.spark.SparkContext$$anonfun$runJob$5.apply(SparkContext.scala:2101)\n\tat org.apache.spark.scheduler.ResultTask.runTask(ResultTask.scala:90)\n\tat org.apache.spark.scheduler.Task.run(Task.scala:121)\n\tat org.apache.spark.executor.Executor$TaskRunner$$anonfun$10.apply(Executor.scala:402)\n\tat org.apache.spark.util.Utils$.tryWithSafeFinally(Utils.scala:1360)\n\tat org.apache.spark.executor.Executor$TaskRunner.run(Executor.scala:408)\n\tat java.util.concurrent.ThreadPoolExecutor.runWorker(ThreadPoolExecutor.java:1142)\n\tat java.util.concurrent.ThreadPoolExecutor$Worker.run(ThreadPoolExecutor.java:617)\n\tat java.lang.Thread.run(Thread.java:745)\n\nDriver stacktrace:\n\tat org.apache.spark.scheduler.DAGScheduler.org$apache$spark$scheduler$DAGScheduler$$failJobAndIndependentStages(DAGScheduler.scala:1887)\n\tat org.apache.spark.scheduler.DAGScheduler$$anonfun$abortStage$1.apply(DAGScheduler.scala:1875)\n\tat org.apache.spark.scheduler.DAGScheduler$$anonfun$abortStage$1.apply(DAGScheduler.scala:1874)\n\tat scala.collection.mutable.ResizableArray$class.foreach(ResizableArray.scala:59)\n\tat scala.collection.mutable.ArrayBuffer.foreach(ArrayBuffer.scala:48)\n\tat org.apache.spark.scheduler.DAGScheduler.abortStage(DAGScheduler.scala:1874)\n\tat org.apache.spark.scheduler.DAGScheduler$$anonfun$handleTaskSetFailed$1.apply(DAGScheduler.scala:926)\n\tat org.apache.spark.scheduler.DAGScheduler$$anonfun$handleTaskSetFailed$1.apply(DAGScheduler.scala:926)\n\tat scala.Option.foreach(Option.scala:257)\n\tat org.apache.spark.scheduler.DAGScheduler.handleTaskSetFailed(DAGScheduler.scala:926)\n\tat org.apache.spark.scheduler.DAGSchedulerEventProcessLoop.doOnReceive(DAGScheduler.scala:2108)\n\tat org.apache.spark.scheduler.DAGSchedulerEventProcessLoop.onReceive(DAGScheduler.scala:2057)\n\tat org.apache.spark.scheduler.DAGSchedulerEventProcessLoop.onReceive(DAGScheduler.scala:2046)\n\tat org.apache.spark.util.EventLoop$$anon$1.run(EventLoop.scala:49)\n\tat org.apache.spark.scheduler.DAGScheduler.runJob(DAGScheduler.scala:737)\n\tat org.apache.spark.SparkContext.runJob(SparkContext.scala:2061)\n\tat org.apache.spark.SparkContext.runJob(SparkContext.scala:2082)\n\tat org.apache.spark.SparkContext.runJob(SparkContext.scala:2101)\n\tat org.apache.spark.api.python.PythonRDD$.runJob(PythonRDD.scala:153)\n\tat org.apache.spark.api.python.PythonRDD.runJob(PythonRDD.scala)\n\tat sun.reflect.NativeMethodAccessorImpl.invoke0(Native Method)\n\tat sun.reflect.NativeMethodAccessorImpl.invoke(NativeMethodAccessorImpl.java:62)\n\tat sun.reflect.DelegatingMethodAccessorImpl.invoke(DelegatingMethodAccessorImpl.java:43)\n\tat java.lang.reflect.Method.invoke(Method.java:497)\n\tat py4j.reflection.MethodInvoker.invoke(MethodInvoker.java:244)\n\tat py4j.reflection.ReflectionEngine.invoke(ReflectionEngine.java:357)\n\tat py4j.Gateway.invoke(Gateway.java:282)\n\tat py4j.commands.AbstractCommand.invokeMethod(AbstractCommand.java:132)\n\tat py4j.commands.CallCommand.execute(CallCommand.java:79)\n\tat py4j.GatewayConnection.run(GatewayConnection.java:238)\n\tat java.lang.Thread.run(Thread.java:745)\nCaused by: org.apache.spark.api.python.PythonException: Traceback (most recent call last):\n  File \"/home/jorge/anaconda3/lib/python3.7/site-packages/pyspark/python/lib/pyspark.zip/pyspark/worker.py\", line 372, in main\n    process()\n  File \"/home/jorge/anaconda3/lib/python3.7/site-packages/pyspark/python/lib/pyspark.zip/pyspark/worker.py\", line 367, in process\n    serializer.dump_stream(func(split_index, iterator), outfile)\n  File \"/home/jorge/anaconda3/lib/python3.7/site-packages/pyspark/python/lib/pyspark.zip/pyspark/serializers.py\", line 390, in dump_stream\n    vs = list(itertools.islice(iterator, batch))\n  File \"/home/jorge/anaconda3/lib/python3.7/site-packages/pyspark/rdd.py\", line 1354, in takeUpToNumLeft\n    yield next(iterator)\n  File \"/home/jorge/anaconda3/lib/python3.7/site-packages/pyspark/python/lib/pyspark.zip/pyspark/util.py\", line 99, in wrapper\n    return f(*args, **kwargs)\n  File \"<ipython-input-21-6951f23c1ce4>\", line 2, in <lambda>\nNameError: name 'hayUnhastag' is not defined\n\n\tat org.apache.spark.api.python.BasePythonRunner$ReaderIterator.handlePythonException(PythonRunner.scala:452)\n\tat org.apache.spark.api.python.PythonRunner$$anon$1.read(PythonRunner.scala:588)\n\tat org.apache.spark.api.python.PythonRunner$$anon$1.read(PythonRunner.scala:571)\n\tat org.apache.spark.api.python.BasePythonRunner$ReaderIterator.hasNext(PythonRunner.scala:406)\n\tat org.apache.spark.InterruptibleIterator.hasNext(InterruptibleIterator.scala:37)\n\tat scala.collection.Iterator$class.foreach(Iterator.scala:891)\n\tat org.apache.spark.InterruptibleIterator.foreach(InterruptibleIterator.scala:28)\n\tat scala.collection.generic.Growable$class.$plus$plus$eq(Growable.scala:59)\n\tat scala.collection.mutable.ArrayBuffer.$plus$plus$eq(ArrayBuffer.scala:104)\n\tat scala.collection.mutable.ArrayBuffer.$plus$plus$eq(ArrayBuffer.scala:48)\n\tat scala.collection.TraversableOnce$class.to(TraversableOnce.scala:310)\n\tat org.apache.spark.InterruptibleIterator.to(InterruptibleIterator.scala:28)\n\tat scala.collection.TraversableOnce$class.toBuffer(TraversableOnce.scala:302)\n\tat org.apache.spark.InterruptibleIterator.toBuffer(InterruptibleIterator.scala:28)\n\tat scala.collection.TraversableOnce$class.toArray(TraversableOnce.scala:289)\n\tat org.apache.spark.InterruptibleIterator.toArray(InterruptibleIterator.scala:28)\n\tat org.apache.spark.api.python.PythonRDD$$anonfun$3.apply(PythonRDD.scala:153)\n\tat org.apache.spark.api.python.PythonRDD$$anonfun$3.apply(PythonRDD.scala:153)\n\tat org.apache.spark.SparkContext$$anonfun$runJob$5.apply(SparkContext.scala:2101)\n\tat org.apache.spark.SparkContext$$anonfun$runJob$5.apply(SparkContext.scala:2101)\n\tat org.apache.spark.scheduler.ResultTask.runTask(ResultTask.scala:90)\n\tat org.apache.spark.scheduler.Task.run(Task.scala:121)\n\tat org.apache.spark.executor.Executor$TaskRunner$$anonfun$10.apply(Executor.scala:402)\n\tat org.apache.spark.util.Utils$.tryWithSafeFinally(Utils.scala:1360)\n\tat org.apache.spark.executor.Executor$TaskRunner.run(Executor.scala:408)\n\tat java.util.concurrent.ThreadPoolExecutor.runWorker(ThreadPoolExecutor.java:1142)\n\tat java.util.concurrent.ThreadPoolExecutor$Worker.run(ThreadPoolExecutor.java:617)\n\t... 1 more\n",
     "output_type": "error",
     "traceback": [
      "\u001b[0;31m---------------------------------------------------------------------------\u001b[0m",
      "\u001b[0;31mPy4JJavaError\u001b[0m                             Traceback (most recent call last)",
      "\u001b[0;32m<ipython-input-21-6951f23c1ce4>\u001b[0m in \u001b[0;36m<module>\u001b[0;34m\u001b[0m\n\u001b[1;32m      1\u001b[0m \u001b[0mpublicacionesRDD\u001b[0m\u001b[0;34m.\u001b[0m\u001b[0mflatMap\u001b[0m\u001b[0;34m(\u001b[0m\u001b[0;32mlambda\u001b[0m \u001b[0mx\u001b[0m\u001b[0;34m:\u001b[0m \u001b[0;34m[\u001b[0m\u001b[0;34m(\u001b[0m\u001b[0mx\u001b[0m\u001b[0;34m[\u001b[0m\u001b[0;36m1\u001b[0m\u001b[0;34m]\u001b[0m\u001b[0;34m,\u001b[0m\u001b[0;34m(\u001b[0m\u001b[0mx\u001b[0m\u001b[0;34m[\u001b[0m\u001b[0;36m0\u001b[0m\u001b[0;34m]\u001b[0m\u001b[0;34m,\u001b[0m\u001b[0mline\u001b[0m\u001b[0;34m)\u001b[0m\u001b[0;34m)\u001b[0m \u001b[0;32mfor\u001b[0m \u001b[0mline\u001b[0m \u001b[0;32min\u001b[0m  \u001b[0mx\u001b[0m\u001b[0;34m[\u001b[0m\u001b[0;36m3\u001b[0m\u001b[0;34m]\u001b[0m\u001b[0;34m.\u001b[0m\u001b[0msplit\u001b[0m\u001b[0;34m(\u001b[0m\u001b[0;34m)\u001b[0m\u001b[0;34m]\u001b[0m\u001b[0;34m)\u001b[0m\u001b[0;31m\\\u001b[0m\u001b[0;34m\u001b[0m\u001b[0;34m\u001b[0m\u001b[0m\n\u001b[1;32m      2\u001b[0m                 \u001b[0;34m.\u001b[0m\u001b[0mfilter\u001b[0m\u001b[0;34m(\u001b[0m\u001b[0;32mlambda\u001b[0m \u001b[0mx\u001b[0m\u001b[0;34m:\u001b[0m\u001b[0mhayUnhastag\u001b[0m\u001b[0;34m(\u001b[0m\u001b[0mx\u001b[0m\u001b[0;34m[\u001b[0m\u001b[0;36m1\u001b[0m\u001b[0;34m]\u001b[0m\u001b[0;34m[\u001b[0m\u001b[0;36m1\u001b[0m\u001b[0;34m]\u001b[0m\u001b[0;34m)\u001b[0m\u001b[0;34m)\u001b[0m\u001b[0;31m\\\u001b[0m\u001b[0;34m\u001b[0m\u001b[0;34m\u001b[0m\u001b[0m\n\u001b[0;32m----> 3\u001b[0;31m                 \u001b[0;34m.\u001b[0m\u001b[0mtake\u001b[0m\u001b[0;34m(\u001b[0m\u001b[0;36m3\u001b[0m\u001b[0;34m)\u001b[0m\u001b[0;34m\u001b[0m\u001b[0;34m\u001b[0m\u001b[0m\n\u001b[0m",
      "\u001b[0;32m~/anaconda3/lib/python3.7/site-packages/pyspark/rdd.py\u001b[0m in \u001b[0;36mtake\u001b[0;34m(self, num)\u001b[0m\n\u001b[1;32m   1358\u001b[0m \u001b[0;34m\u001b[0m\u001b[0m\n\u001b[1;32m   1359\u001b[0m             \u001b[0mp\u001b[0m \u001b[0;34m=\u001b[0m \u001b[0mrange\u001b[0m\u001b[0;34m(\u001b[0m\u001b[0mpartsScanned\u001b[0m\u001b[0;34m,\u001b[0m \u001b[0mmin\u001b[0m\u001b[0;34m(\u001b[0m\u001b[0mpartsScanned\u001b[0m \u001b[0;34m+\u001b[0m \u001b[0mnumPartsToTry\u001b[0m\u001b[0;34m,\u001b[0m \u001b[0mtotalParts\u001b[0m\u001b[0;34m)\u001b[0m\u001b[0;34m)\u001b[0m\u001b[0;34m\u001b[0m\u001b[0;34m\u001b[0m\u001b[0m\n\u001b[0;32m-> 1360\u001b[0;31m             \u001b[0mres\u001b[0m \u001b[0;34m=\u001b[0m \u001b[0mself\u001b[0m\u001b[0;34m.\u001b[0m\u001b[0mcontext\u001b[0m\u001b[0;34m.\u001b[0m\u001b[0mrunJob\u001b[0m\u001b[0;34m(\u001b[0m\u001b[0mself\u001b[0m\u001b[0;34m,\u001b[0m \u001b[0mtakeUpToNumLeft\u001b[0m\u001b[0;34m,\u001b[0m \u001b[0mp\u001b[0m\u001b[0;34m)\u001b[0m\u001b[0;34m\u001b[0m\u001b[0;34m\u001b[0m\u001b[0m\n\u001b[0m\u001b[1;32m   1361\u001b[0m \u001b[0;34m\u001b[0m\u001b[0m\n\u001b[1;32m   1362\u001b[0m             \u001b[0mitems\u001b[0m \u001b[0;34m+=\u001b[0m \u001b[0mres\u001b[0m\u001b[0;34m\u001b[0m\u001b[0;34m\u001b[0m\u001b[0m\n",
      "\u001b[0;32m~/anaconda3/lib/python3.7/site-packages/pyspark/context.py\u001b[0m in \u001b[0;36mrunJob\u001b[0;34m(self, rdd, partitionFunc, partitions, allowLocal)\u001b[0m\n\u001b[1;32m   1049\u001b[0m         \u001b[0;31m# SparkContext#runJob.\u001b[0m\u001b[0;34m\u001b[0m\u001b[0;34m\u001b[0m\u001b[0;34m\u001b[0m\u001b[0m\n\u001b[1;32m   1050\u001b[0m         \u001b[0mmappedRDD\u001b[0m \u001b[0;34m=\u001b[0m \u001b[0mrdd\u001b[0m\u001b[0;34m.\u001b[0m\u001b[0mmapPartitions\u001b[0m\u001b[0;34m(\u001b[0m\u001b[0mpartitionFunc\u001b[0m\u001b[0;34m)\u001b[0m\u001b[0;34m\u001b[0m\u001b[0;34m\u001b[0m\u001b[0m\n\u001b[0;32m-> 1051\u001b[0;31m         \u001b[0msock_info\u001b[0m \u001b[0;34m=\u001b[0m \u001b[0mself\u001b[0m\u001b[0;34m.\u001b[0m\u001b[0m_jvm\u001b[0m\u001b[0;34m.\u001b[0m\u001b[0mPythonRDD\u001b[0m\u001b[0;34m.\u001b[0m\u001b[0mrunJob\u001b[0m\u001b[0;34m(\u001b[0m\u001b[0mself\u001b[0m\u001b[0;34m.\u001b[0m\u001b[0m_jsc\u001b[0m\u001b[0;34m.\u001b[0m\u001b[0msc\u001b[0m\u001b[0;34m(\u001b[0m\u001b[0;34m)\u001b[0m\u001b[0;34m,\u001b[0m \u001b[0mmappedRDD\u001b[0m\u001b[0;34m.\u001b[0m\u001b[0m_jrdd\u001b[0m\u001b[0;34m,\u001b[0m \u001b[0mpartitions\u001b[0m\u001b[0;34m)\u001b[0m\u001b[0;34m\u001b[0m\u001b[0;34m\u001b[0m\u001b[0m\n\u001b[0m\u001b[1;32m   1052\u001b[0m         \u001b[0;32mreturn\u001b[0m \u001b[0mlist\u001b[0m\u001b[0;34m(\u001b[0m\u001b[0m_load_from_socket\u001b[0m\u001b[0;34m(\u001b[0m\u001b[0msock_info\u001b[0m\u001b[0;34m,\u001b[0m \u001b[0mmappedRDD\u001b[0m\u001b[0;34m.\u001b[0m\u001b[0m_jrdd_deserializer\u001b[0m\u001b[0;34m)\u001b[0m\u001b[0;34m)\u001b[0m\u001b[0;34m\u001b[0m\u001b[0;34m\u001b[0m\u001b[0m\n\u001b[1;32m   1053\u001b[0m \u001b[0;34m\u001b[0m\u001b[0m\n",
      "\u001b[0;32m~/anaconda3/lib/python3.7/site-packages/py4j/java_gateway.py\u001b[0m in \u001b[0;36m__call__\u001b[0;34m(self, *args)\u001b[0m\n\u001b[1;32m   1284\u001b[0m         \u001b[0manswer\u001b[0m \u001b[0;34m=\u001b[0m \u001b[0mself\u001b[0m\u001b[0;34m.\u001b[0m\u001b[0mgateway_client\u001b[0m\u001b[0;34m.\u001b[0m\u001b[0msend_command\u001b[0m\u001b[0;34m(\u001b[0m\u001b[0mcommand\u001b[0m\u001b[0;34m)\u001b[0m\u001b[0;34m\u001b[0m\u001b[0;34m\u001b[0m\u001b[0m\n\u001b[1;32m   1285\u001b[0m         return_value = get_return_value(\n\u001b[0;32m-> 1286\u001b[0;31m             answer, self.gateway_client, self.target_id, self.name)\n\u001b[0m\u001b[1;32m   1287\u001b[0m \u001b[0;34m\u001b[0m\u001b[0m\n\u001b[1;32m   1288\u001b[0m         \u001b[0;32mfor\u001b[0m \u001b[0mtemp_arg\u001b[0m \u001b[0;32min\u001b[0m \u001b[0mtemp_args\u001b[0m\u001b[0;34m:\u001b[0m\u001b[0;34m\u001b[0m\u001b[0;34m\u001b[0m\u001b[0m\n",
      "\u001b[0;32m~/anaconda3/lib/python3.7/site-packages/py4j/protocol.py\u001b[0m in \u001b[0;36mget_return_value\u001b[0;34m(answer, gateway_client, target_id, name)\u001b[0m\n\u001b[1;32m    326\u001b[0m                 raise Py4JJavaError(\n\u001b[1;32m    327\u001b[0m                     \u001b[0;34m\"An error occurred while calling {0}{1}{2}.\\n\"\u001b[0m\u001b[0;34m.\u001b[0m\u001b[0;34m\u001b[0m\u001b[0;34m\u001b[0m\u001b[0m\n\u001b[0;32m--> 328\u001b[0;31m                     format(target_id, \".\", name), value)\n\u001b[0m\u001b[1;32m    329\u001b[0m             \u001b[0;32melse\u001b[0m\u001b[0;34m:\u001b[0m\u001b[0;34m\u001b[0m\u001b[0;34m\u001b[0m\u001b[0m\n\u001b[1;32m    330\u001b[0m                 raise Py4JError(\n",
      "\u001b[0;31mPy4JJavaError\u001b[0m: An error occurred while calling z:org.apache.spark.api.python.PythonRDD.runJob.\n: org.apache.spark.SparkException: Job aborted due to stage failure: Task 0 in stage 15.0 failed 1 times, most recent failure: Lost task 0.0 in stage 15.0 (TID 91, localhost, executor driver): org.apache.spark.api.python.PythonException: Traceback (most recent call last):\n  File \"/home/jorge/anaconda3/lib/python3.7/site-packages/pyspark/python/lib/pyspark.zip/pyspark/worker.py\", line 372, in main\n    process()\n  File \"/home/jorge/anaconda3/lib/python3.7/site-packages/pyspark/python/lib/pyspark.zip/pyspark/worker.py\", line 367, in process\n    serializer.dump_stream(func(split_index, iterator), outfile)\n  File \"/home/jorge/anaconda3/lib/python3.7/site-packages/pyspark/python/lib/pyspark.zip/pyspark/serializers.py\", line 390, in dump_stream\n    vs = list(itertools.islice(iterator, batch))\n  File \"/home/jorge/anaconda3/lib/python3.7/site-packages/pyspark/rdd.py\", line 1354, in takeUpToNumLeft\n    yield next(iterator)\n  File \"/home/jorge/anaconda3/lib/python3.7/site-packages/pyspark/python/lib/pyspark.zip/pyspark/util.py\", line 99, in wrapper\n    return f(*args, **kwargs)\n  File \"<ipython-input-21-6951f23c1ce4>\", line 2, in <lambda>\nNameError: name 'hayUnhastag' is not defined\n\n\tat org.apache.spark.api.python.BasePythonRunner$ReaderIterator.handlePythonException(PythonRunner.scala:452)\n\tat org.apache.spark.api.python.PythonRunner$$anon$1.read(PythonRunner.scala:588)\n\tat org.apache.spark.api.python.PythonRunner$$anon$1.read(PythonRunner.scala:571)\n\tat org.apache.spark.api.python.BasePythonRunner$ReaderIterator.hasNext(PythonRunner.scala:406)\n\tat org.apache.spark.InterruptibleIterator.hasNext(InterruptibleIterator.scala:37)\n\tat scala.collection.Iterator$class.foreach(Iterator.scala:891)\n\tat org.apache.spark.InterruptibleIterator.foreach(InterruptibleIterator.scala:28)\n\tat scala.collection.generic.Growable$class.$plus$plus$eq(Growable.scala:59)\n\tat scala.collection.mutable.ArrayBuffer.$plus$plus$eq(ArrayBuffer.scala:104)\n\tat scala.collection.mutable.ArrayBuffer.$plus$plus$eq(ArrayBuffer.scala:48)\n\tat scala.collection.TraversableOnce$class.to(TraversableOnce.scala:310)\n\tat org.apache.spark.InterruptibleIterator.to(InterruptibleIterator.scala:28)\n\tat scala.collection.TraversableOnce$class.toBuffer(TraversableOnce.scala:302)\n\tat org.apache.spark.InterruptibleIterator.toBuffer(InterruptibleIterator.scala:28)\n\tat scala.collection.TraversableOnce$class.toArray(TraversableOnce.scala:289)\n\tat org.apache.spark.InterruptibleIterator.toArray(InterruptibleIterator.scala:28)\n\tat org.apache.spark.api.python.PythonRDD$$anonfun$3.apply(PythonRDD.scala:153)\n\tat org.apache.spark.api.python.PythonRDD$$anonfun$3.apply(PythonRDD.scala:153)\n\tat org.apache.spark.SparkContext$$anonfun$runJob$5.apply(SparkContext.scala:2101)\n\tat org.apache.spark.SparkContext$$anonfun$runJob$5.apply(SparkContext.scala:2101)\n\tat org.apache.spark.scheduler.ResultTask.runTask(ResultTask.scala:90)\n\tat org.apache.spark.scheduler.Task.run(Task.scala:121)\n\tat org.apache.spark.executor.Executor$TaskRunner$$anonfun$10.apply(Executor.scala:402)\n\tat org.apache.spark.util.Utils$.tryWithSafeFinally(Utils.scala:1360)\n\tat org.apache.spark.executor.Executor$TaskRunner.run(Executor.scala:408)\n\tat java.util.concurrent.ThreadPoolExecutor.runWorker(ThreadPoolExecutor.java:1142)\n\tat java.util.concurrent.ThreadPoolExecutor$Worker.run(ThreadPoolExecutor.java:617)\n\tat java.lang.Thread.run(Thread.java:745)\n\nDriver stacktrace:\n\tat org.apache.spark.scheduler.DAGScheduler.org$apache$spark$scheduler$DAGScheduler$$failJobAndIndependentStages(DAGScheduler.scala:1887)\n\tat org.apache.spark.scheduler.DAGScheduler$$anonfun$abortStage$1.apply(DAGScheduler.scala:1875)\n\tat org.apache.spark.scheduler.DAGScheduler$$anonfun$abortStage$1.apply(DAGScheduler.scala:1874)\n\tat scala.collection.mutable.ResizableArray$class.foreach(ResizableArray.scala:59)\n\tat scala.collection.mutable.ArrayBuffer.foreach(ArrayBuffer.scala:48)\n\tat org.apache.spark.scheduler.DAGScheduler.abortStage(DAGScheduler.scala:1874)\n\tat org.apache.spark.scheduler.DAGScheduler$$anonfun$handleTaskSetFailed$1.apply(DAGScheduler.scala:926)\n\tat org.apache.spark.scheduler.DAGScheduler$$anonfun$handleTaskSetFailed$1.apply(DAGScheduler.scala:926)\n\tat scala.Option.foreach(Option.scala:257)\n\tat org.apache.spark.scheduler.DAGScheduler.handleTaskSetFailed(DAGScheduler.scala:926)\n\tat org.apache.spark.scheduler.DAGSchedulerEventProcessLoop.doOnReceive(DAGScheduler.scala:2108)\n\tat org.apache.spark.scheduler.DAGSchedulerEventProcessLoop.onReceive(DAGScheduler.scala:2057)\n\tat org.apache.spark.scheduler.DAGSchedulerEventProcessLoop.onReceive(DAGScheduler.scala:2046)\n\tat org.apache.spark.util.EventLoop$$anon$1.run(EventLoop.scala:49)\n\tat org.apache.spark.scheduler.DAGScheduler.runJob(DAGScheduler.scala:737)\n\tat org.apache.spark.SparkContext.runJob(SparkContext.scala:2061)\n\tat org.apache.spark.SparkContext.runJob(SparkContext.scala:2082)\n\tat org.apache.spark.SparkContext.runJob(SparkContext.scala:2101)\n\tat org.apache.spark.api.python.PythonRDD$.runJob(PythonRDD.scala:153)\n\tat org.apache.spark.api.python.PythonRDD.runJob(PythonRDD.scala)\n\tat sun.reflect.NativeMethodAccessorImpl.invoke0(Native Method)\n\tat sun.reflect.NativeMethodAccessorImpl.invoke(NativeMethodAccessorImpl.java:62)\n\tat sun.reflect.DelegatingMethodAccessorImpl.invoke(DelegatingMethodAccessorImpl.java:43)\n\tat java.lang.reflect.Method.invoke(Method.java:497)\n\tat py4j.reflection.MethodInvoker.invoke(MethodInvoker.java:244)\n\tat py4j.reflection.ReflectionEngine.invoke(ReflectionEngine.java:357)\n\tat py4j.Gateway.invoke(Gateway.java:282)\n\tat py4j.commands.AbstractCommand.invokeMethod(AbstractCommand.java:132)\n\tat py4j.commands.CallCommand.execute(CallCommand.java:79)\n\tat py4j.GatewayConnection.run(GatewayConnection.java:238)\n\tat java.lang.Thread.run(Thread.java:745)\nCaused by: org.apache.spark.api.python.PythonException: Traceback (most recent call last):\n  File \"/home/jorge/anaconda3/lib/python3.7/site-packages/pyspark/python/lib/pyspark.zip/pyspark/worker.py\", line 372, in main\n    process()\n  File \"/home/jorge/anaconda3/lib/python3.7/site-packages/pyspark/python/lib/pyspark.zip/pyspark/worker.py\", line 367, in process\n    serializer.dump_stream(func(split_index, iterator), outfile)\n  File \"/home/jorge/anaconda3/lib/python3.7/site-packages/pyspark/python/lib/pyspark.zip/pyspark/serializers.py\", line 390, in dump_stream\n    vs = list(itertools.islice(iterator, batch))\n  File \"/home/jorge/anaconda3/lib/python3.7/site-packages/pyspark/rdd.py\", line 1354, in takeUpToNumLeft\n    yield next(iterator)\n  File \"/home/jorge/anaconda3/lib/python3.7/site-packages/pyspark/python/lib/pyspark.zip/pyspark/util.py\", line 99, in wrapper\n    return f(*args, **kwargs)\n  File \"<ipython-input-21-6951f23c1ce4>\", line 2, in <lambda>\nNameError: name 'hayUnhastag' is not defined\n\n\tat org.apache.spark.api.python.BasePythonRunner$ReaderIterator.handlePythonException(PythonRunner.scala:452)\n\tat org.apache.spark.api.python.PythonRunner$$anon$1.read(PythonRunner.scala:588)\n\tat org.apache.spark.api.python.PythonRunner$$anon$1.read(PythonRunner.scala:571)\n\tat org.apache.spark.api.python.BasePythonRunner$ReaderIterator.hasNext(PythonRunner.scala:406)\n\tat org.apache.spark.InterruptibleIterator.hasNext(InterruptibleIterator.scala:37)\n\tat scala.collection.Iterator$class.foreach(Iterator.scala:891)\n\tat org.apache.spark.InterruptibleIterator.foreach(InterruptibleIterator.scala:28)\n\tat scala.collection.generic.Growable$class.$plus$plus$eq(Growable.scala:59)\n\tat scala.collection.mutable.ArrayBuffer.$plus$plus$eq(ArrayBuffer.scala:104)\n\tat scala.collection.mutable.ArrayBuffer.$plus$plus$eq(ArrayBuffer.scala:48)\n\tat scala.collection.TraversableOnce$class.to(TraversableOnce.scala:310)\n\tat org.apache.spark.InterruptibleIterator.to(InterruptibleIterator.scala:28)\n\tat scala.collection.TraversableOnce$class.toBuffer(TraversableOnce.scala:302)\n\tat org.apache.spark.InterruptibleIterator.toBuffer(InterruptibleIterator.scala:28)\n\tat scala.collection.TraversableOnce$class.toArray(TraversableOnce.scala:289)\n\tat org.apache.spark.InterruptibleIterator.toArray(InterruptibleIterator.scala:28)\n\tat org.apache.spark.api.python.PythonRDD$$anonfun$3.apply(PythonRDD.scala:153)\n\tat org.apache.spark.api.python.PythonRDD$$anonfun$3.apply(PythonRDD.scala:153)\n\tat org.apache.spark.SparkContext$$anonfun$runJob$5.apply(SparkContext.scala:2101)\n\tat org.apache.spark.SparkContext$$anonfun$runJob$5.apply(SparkContext.scala:2101)\n\tat org.apache.spark.scheduler.ResultTask.runTask(ResultTask.scala:90)\n\tat org.apache.spark.scheduler.Task.run(Task.scala:121)\n\tat org.apache.spark.executor.Executor$TaskRunner$$anonfun$10.apply(Executor.scala:402)\n\tat org.apache.spark.util.Utils$.tryWithSafeFinally(Utils.scala:1360)\n\tat org.apache.spark.executor.Executor$TaskRunner.run(Executor.scala:408)\n\tat java.util.concurrent.ThreadPoolExecutor.runWorker(ThreadPoolExecutor.java:1142)\n\tat java.util.concurrent.ThreadPoolExecutor$Worker.run(ThreadPoolExecutor.java:617)\n\t... 1 more\n"
     ]
    }
   ],
   "source": [
    "publicacionesRDD.flatMap(lambda x: [(x[1],(x[0],line)) for line in  x[3].split()])\\\n",
    "                .filter(lambda x:hayUnhastag(x[1][1]))\\\n",
    "                .take(3)"
   ]
  },
  {
   "cell_type": "code",
   "execution_count": null,
   "metadata": {},
   "outputs": [],
   "source": [
    "publicacionesRDD.flatMap(lambda x: [(x[1],(x[0],line)) for line in  x[3].split()])\\\n",
    "                .filter(lambda x:hayUnhastag(x[1][1]))\\\n",
    "                .map(lambda x:(x[1][1],x[0])).collect()"
   ]
  },
  {
   "cell_type": "code",
   "execution_count": null,
   "metadata": {},
   "outputs": [],
   "source": [
    "hashtag_id=publicacionesRDD.flatMap(lambda x: [(x[1],(x[0],line)) for line in  x[3].split()])\\\n",
    "                .filter(lambda x:hayUnhastag(x[1][1]))\\\n",
    "                .map(lambda x:(x[1][1],x[0])).cache()"
   ]
  },
  {
   "cell_type": "code",
   "execution_count": null,
   "metadata": {},
   "outputs": [],
   "source": [
    "hashtag_id.join(hashtag_id).collect()"
   ]
  },
  {
   "cell_type": "code",
   "execution_count": null,
   "metadata": {},
   "outputs": [],
   "source": [
    "hashtag_id.join(hashtag_id).filter(lambda x:x[1][0]!=x[1][1]).distinct().collect()"
   ]
  },
  {
   "cell_type": "markdown",
   "metadata": {},
   "source": [
    "Ejercicio de pandas de 2 parcial de 2018. Spotify!"
   ]
  },
  {
   "cell_type": "code",
   "execution_count": null,
   "metadata": {},
   "outputs": [],
   "source": [
    "canciones=[['040519',1,3,\"La cucaracha\",\"Los Redondos\"],\n",
    "            ['040519',2,4,\"symphony for love\",\"Metallica\"],\n",
    "             ['030519',3,3,\"La cucaracha\",\"Los Redondos\"],\n",
    "            ['030519',4,5,\"Rock del gato\",\"Macri y su  pandilla\"],\n",
    "             ['040519',5,3,\"La cucaracha\",\"Los Redondos\"],\n",
    "          ['030519',6,6,\"Symfonia numero 8\",\"Beethoven\"],\n",
    "          ['040519',7,3,\"La cucaracha\",\"Los Redondos\"],\n",
    "          ['040519',8,3,\"La cucaracha\",\"Los Redondos\"],\n",
    "          ['040519',9,5,\"Rock del gato\",\"Macri y su  pandilla\"]]\n",
    "\n",
    "tags=[[3,\"rock pesado\"],\n",
    "      [4,\"pop\"],\n",
    "      [5,\"rock pesado\"],\n",
    "      [6,\"clasica\"],\n",
    "      [7,\"rising\"],\n",
    "      [9,\"rock pesado\"]]"
   ]
  },
  {
   "cell_type": "code",
   "execution_count": null,
   "metadata": {},
   "outputs": [],
   "source": [
    "cancionesRDD=sc.parallelize(canciones)\n",
    "tagsRDD=sc.parallelize(tags)"
   ]
  },
  {
   "cell_type": "code",
   "execution_count": null,
   "metadata": {},
   "outputs": [],
   "source": [
    "cancionesRDD.collect()"
   ]
  },
  {
   "cell_type": "code",
   "execution_count": null,
   "metadata": {},
   "outputs": [],
   "source": [
    "tagsRDD.collect()"
   ]
  },
  {
   "cell_type": "code",
   "execution_count": null,
   "metadata": {},
   "outputs": [],
   "source": [
    "from datetime import date\n",
    "from datetime import datetime, timedelta\n",
    "date.today()"
   ]
  },
  {
   "cell_type": "code",
   "execution_count": null,
   "metadata": {},
   "outputs": [],
   "source": [
    "\n",
    "yesterday = date.today() - timedelta(1)\n",
    "print (yesterday.strftime('%d%m%y'))"
   ]
  },
  {
   "cell_type": "code",
   "execution_count": null,
   "metadata": {},
   "outputs": [],
   "source": [
    "hoy=date.today().strftime('%d%m%y')\n",
    "ayer=(date.today() - timedelta(1)).strftime('%d%m%y')"
   ]
  },
  {
   "cell_type": "code",
   "execution_count": null,
   "metadata": {},
   "outputs": [],
   "source": [
    "hoy"
   ]
  },
  {
   "cell_type": "code",
   "execution_count": null,
   "metadata": {},
   "outputs": [],
   "source": [
    "#primero filtro  rl rdd canciones por fecha de ayer y hoy por separado\n",
    "# con el formato (id_song, fecha, 1)\n",
    "cancionesRDD.map(lambda x:(x[2],x[0])).filter(lambda x:x[1]==ayer).collect()"
   ]
  },
  {
   "cell_type": "code",
   "execution_count": null,
   "metadata": {},
   "outputs": [],
   "source": [
    "canciones_hoy=cancionesRDD.map(lambda x:(x[2],x[0])).filter(lambda x:x[1]==hoy).cache()\n",
    "canciones_ayer=cancionesRDD.map(lambda x:(x[2],x[0])).filter(lambda x:x[1]==ayer).cache()"
   ]
  },
  {
   "cell_type": "code",
   "execution_count": null,
   "metadata": {},
   "outputs": [],
   "source": [
    "canciones_hoy.map(lambda x:(x[0],1)).reduceByKey(lambda a,b:a+b).collect()\n"
   ]
  },
  {
   "cell_type": "code",
   "execution_count": null,
   "metadata": {},
   "outputs": [],
   "source": [
    "resumen_hoy=canciones_hoy.map(lambda x:(x[0],1)).reduceByKey(lambda a,b:a+b).cache()\n",
    "resumen_ayer=canciones_ayer.map(lambda x:(x[0],1)).reduceByKey(lambda a,b:a+b).cache()\n",
    "resumen_ayer.take(10)"
   ]
  },
  {
   "cell_type": "code",
   "execution_count": null,
   "metadata": {},
   "outputs": [],
   "source": [
    "resumen_hoy.leftOuterJoin(resumen_ayer).collect()"
   ]
  },
  {
   "cell_type": "code",
   "execution_count": null,
   "metadata": {},
   "outputs": [],
   "source": [
    "def reemplazarNone(x):\n",
    "    if x[1]==None: return (x[0],0)\n",
    "    else:\n",
    "        return x\n",
    "        \n",
    "    "
   ]
  },
  {
   "cell_type": "code",
   "execution_count": null,
   "metadata": {},
   "outputs": [],
   "source": [
    "resumen_hoy.leftOuterJoin(resumen_ayer).mapValues(reemplazarNone).collect()"
   ]
  },
  {
   "cell_type": "code",
   "execution_count": null,
   "metadata": {},
   "outputs": [],
   "source": [
    "rising=resumen_hoy.leftOuterJoin(resumen_ayer).mapValues(reemplazarNone)\\\n",
    "          .filter(lambda x:x[1][0]>x[1][1])\\\n",
    "          .map(lambda x:(x[0],'rising')).cache()\n",
    "rising.collect()"
   ]
  },
  {
   "cell_type": "code",
   "execution_count": null,
   "metadata": {},
   "outputs": [],
   "source": [
    "#union sirve para hacer un append\n",
    "tagsRDD.union(rising).collect()"
   ]
  },
  {
   "cell_type": "markdown",
   "metadata": {},
   "source": [
    "# Ejercicio instagram pandas\n",
    "(id_usuario,nickname, pais, fecha_alta , cantidad_seguidores, cant_seguidos, total_publicaciones)"
   ]
  },
  {
   "cell_type": "code",
   "execution_count": 23,
   "metadata": {},
   "outputs": [],
   "source": [
    "users=[[1,\"koo\",\"Argentina\",\"10122019\",10,20,100],\n",
    "      [2,\"Jorge\",\"Brasil\",\"10122019\",39,22,13],\n",
    "      [3,\"John33\",\"EEUU\",\"10122019\",100,30,1000],\n",
    "      [4,\"Ale12\",\"Argentina\",\"10122019\",32,20,100],\n",
    "      [5,\"Fer19\",\"Brasil\",\"10122019\",22,15,120],\n",
    "      [6,\"koo2\",\"Argentina\",\"10122019\",39,10,100],\n",
    "      [7,\"LaLula\",\"Brasil\",\"10122019\",35,50,100],\n",
    "      [8,\"Obama2000\",\"EEUU\",\"10122019\",110,130,69],\n",
    "      [9,\"BrasiCampeon\",\"Brasil\",\"10122019\",25,20,100],\n",
    "      [10,\"koo44\",\"Argentina\",\"10122019\",37,20,100],\n",
    "      [11,\"koo89\",\"Argentina\",\"10122019\",333,20,100]]"
   ]
  },
  {
   "cell_type": "code",
   "execution_count": 24,
   "metadata": {},
   "outputs": [
    {
     "data": {
      "text/html": [
       "<div>\n",
       "<style scoped>\n",
       "    .dataframe tbody tr th:only-of-type {\n",
       "        vertical-align: middle;\n",
       "    }\n",
       "\n",
       "    .dataframe tbody tr th {\n",
       "        vertical-align: top;\n",
       "    }\n",
       "\n",
       "    .dataframe thead th {\n",
       "        text-align: right;\n",
       "    }\n",
       "</style>\n",
       "<table border=\"1\" class=\"dataframe\">\n",
       "  <thead>\n",
       "    <tr style=\"text-align: right;\">\n",
       "      <th></th>\n",
       "      <th>id_user</th>\n",
       "      <th>nick</th>\n",
       "      <th>country</th>\n",
       "      <th>date</th>\n",
       "      <th>num_followers</th>\n",
       "      <th>num_followed</th>\n",
       "      <th>total_publications</th>\n",
       "    </tr>\n",
       "  </thead>\n",
       "  <tbody>\n",
       "    <tr>\n",
       "      <th>0</th>\n",
       "      <td>1</td>\n",
       "      <td>koo</td>\n",
       "      <td>Argentina</td>\n",
       "      <td>10122019</td>\n",
       "      <td>10</td>\n",
       "      <td>20</td>\n",
       "      <td>100</td>\n",
       "    </tr>\n",
       "    <tr>\n",
       "      <th>1</th>\n",
       "      <td>2</td>\n",
       "      <td>Jorge</td>\n",
       "      <td>Brasil</td>\n",
       "      <td>10122019</td>\n",
       "      <td>39</td>\n",
       "      <td>22</td>\n",
       "      <td>13</td>\n",
       "    </tr>\n",
       "    <tr>\n",
       "      <th>2</th>\n",
       "      <td>3</td>\n",
       "      <td>John33</td>\n",
       "      <td>EEUU</td>\n",
       "      <td>10122019</td>\n",
       "      <td>100</td>\n",
       "      <td>30</td>\n",
       "      <td>1000</td>\n",
       "    </tr>\n",
       "    <tr>\n",
       "      <th>3</th>\n",
       "      <td>4</td>\n",
       "      <td>Ale12</td>\n",
       "      <td>Argentina</td>\n",
       "      <td>10122019</td>\n",
       "      <td>32</td>\n",
       "      <td>20</td>\n",
       "      <td>100</td>\n",
       "    </tr>\n",
       "    <tr>\n",
       "      <th>4</th>\n",
       "      <td>5</td>\n",
       "      <td>Fer19</td>\n",
       "      <td>Brasil</td>\n",
       "      <td>10122019</td>\n",
       "      <td>22</td>\n",
       "      <td>15</td>\n",
       "      <td>120</td>\n",
       "    </tr>\n",
       "    <tr>\n",
       "      <th>5</th>\n",
       "      <td>6</td>\n",
       "      <td>koo2</td>\n",
       "      <td>Argentina</td>\n",
       "      <td>10122019</td>\n",
       "      <td>39</td>\n",
       "      <td>10</td>\n",
       "      <td>100</td>\n",
       "    </tr>\n",
       "    <tr>\n",
       "      <th>6</th>\n",
       "      <td>7</td>\n",
       "      <td>LaLula</td>\n",
       "      <td>Brasil</td>\n",
       "      <td>10122019</td>\n",
       "      <td>35</td>\n",
       "      <td>50</td>\n",
       "      <td>100</td>\n",
       "    </tr>\n",
       "    <tr>\n",
       "      <th>7</th>\n",
       "      <td>8</td>\n",
       "      <td>Obama2000</td>\n",
       "      <td>EEUU</td>\n",
       "      <td>10122019</td>\n",
       "      <td>110</td>\n",
       "      <td>130</td>\n",
       "      <td>69</td>\n",
       "    </tr>\n",
       "    <tr>\n",
       "      <th>8</th>\n",
       "      <td>9</td>\n",
       "      <td>BrasiCampeon</td>\n",
       "      <td>Brasil</td>\n",
       "      <td>10122019</td>\n",
       "      <td>25</td>\n",
       "      <td>20</td>\n",
       "      <td>100</td>\n",
       "    </tr>\n",
       "    <tr>\n",
       "      <th>9</th>\n",
       "      <td>10</td>\n",
       "      <td>koo44</td>\n",
       "      <td>Argentina</td>\n",
       "      <td>10122019</td>\n",
       "      <td>37</td>\n",
       "      <td>20</td>\n",
       "      <td>100</td>\n",
       "    </tr>\n",
       "    <tr>\n",
       "      <th>10</th>\n",
       "      <td>11</td>\n",
       "      <td>koo89</td>\n",
       "      <td>Argentina</td>\n",
       "      <td>10122019</td>\n",
       "      <td>333</td>\n",
       "      <td>20</td>\n",
       "      <td>100</td>\n",
       "    </tr>\n",
       "  </tbody>\n",
       "</table>\n",
       "</div>"
      ],
      "text/plain": [
       "    id_user          nick    country      date  num_followers  num_followed  \\\n",
       "0         1           koo  Argentina  10122019             10            20   \n",
       "1         2         Jorge     Brasil  10122019             39            22   \n",
       "2         3        John33       EEUU  10122019            100            30   \n",
       "3         4         Ale12  Argentina  10122019             32            20   \n",
       "4         5         Fer19     Brasil  10122019             22            15   \n",
       "5         6          koo2  Argentina  10122019             39            10   \n",
       "6         7        LaLula     Brasil  10122019             35            50   \n",
       "7         8     Obama2000       EEUU  10122019            110           130   \n",
       "8         9  BrasiCampeon     Brasil  10122019             25            20   \n",
       "9        10         koo44  Argentina  10122019             37            20   \n",
       "10       11         koo89  Argentina  10122019            333            20   \n",
       "\n",
       "    total_publications  \n",
       "0                  100  \n",
       "1                   13  \n",
       "2                 1000  \n",
       "3                  100  \n",
       "4                  120  \n",
       "5                  100  \n",
       "6                  100  \n",
       "7                   69  \n",
       "8                  100  \n",
       "9                  100  \n",
       "10                 100  "
      ]
     },
     "execution_count": 24,
     "metadata": {},
     "output_type": "execute_result"
    }
   ],
   "source": [
    "import pandas as pd\n",
    "import numpy as np\n",
    "usersDF=pd.DataFrame(users,columns = ['id_user','nick','country',\n",
    "                     'date','num_followers','num_followed','total_publications'])\n",
    "usersDF"
   ]
  },
  {
   "cell_type": "code",
   "execution_count": 26,
   "metadata": {},
   "outputs": [
    {
     "data": {
      "text/html": [
       "<div>\n",
       "<style scoped>\n",
       "    .dataframe tbody tr th:only-of-type {\n",
       "        vertical-align: middle;\n",
       "    }\n",
       "\n",
       "    .dataframe tbody tr th {\n",
       "        vertical-align: top;\n",
       "    }\n",
       "\n",
       "    .dataframe thead th {\n",
       "        text-align: right;\n",
       "    }\n",
       "</style>\n",
       "<table border=\"1\" class=\"dataframe\">\n",
       "  <thead>\n",
       "    <tr style=\"text-align: right;\">\n",
       "      <th></th>\n",
       "      <th>id_user</th>\n",
       "      <th>nick</th>\n",
       "      <th>country</th>\n",
       "      <th>date</th>\n",
       "      <th>num_followers</th>\n",
       "      <th>num_followed</th>\n",
       "      <th>total_publications</th>\n",
       "      <th>Max_seguidores</th>\n",
       "    </tr>\n",
       "  </thead>\n",
       "  <tbody>\n",
       "    <tr>\n",
       "      <th>0</th>\n",
       "      <td>1</td>\n",
       "      <td>koo</td>\n",
       "      <td>Argentina</td>\n",
       "      <td>10122019</td>\n",
       "      <td>10</td>\n",
       "      <td>20</td>\n",
       "      <td>100</td>\n",
       "      <td>333</td>\n",
       "    </tr>\n",
       "    <tr>\n",
       "      <th>1</th>\n",
       "      <td>2</td>\n",
       "      <td>Jorge</td>\n",
       "      <td>Brasil</td>\n",
       "      <td>10122019</td>\n",
       "      <td>39</td>\n",
       "      <td>22</td>\n",
       "      <td>13</td>\n",
       "      <td>39</td>\n",
       "    </tr>\n",
       "    <tr>\n",
       "      <th>2</th>\n",
       "      <td>3</td>\n",
       "      <td>John33</td>\n",
       "      <td>EEUU</td>\n",
       "      <td>10122019</td>\n",
       "      <td>100</td>\n",
       "      <td>30</td>\n",
       "      <td>1000</td>\n",
       "      <td>110</td>\n",
       "    </tr>\n",
       "    <tr>\n",
       "      <th>3</th>\n",
       "      <td>4</td>\n",
       "      <td>Ale12</td>\n",
       "      <td>Argentina</td>\n",
       "      <td>10122019</td>\n",
       "      <td>32</td>\n",
       "      <td>20</td>\n",
       "      <td>100</td>\n",
       "      <td>333</td>\n",
       "    </tr>\n",
       "    <tr>\n",
       "      <th>4</th>\n",
       "      <td>5</td>\n",
       "      <td>Fer19</td>\n",
       "      <td>Brasil</td>\n",
       "      <td>10122019</td>\n",
       "      <td>22</td>\n",
       "      <td>15</td>\n",
       "      <td>120</td>\n",
       "      <td>39</td>\n",
       "    </tr>\n",
       "    <tr>\n",
       "      <th>5</th>\n",
       "      <td>6</td>\n",
       "      <td>koo2</td>\n",
       "      <td>Argentina</td>\n",
       "      <td>10122019</td>\n",
       "      <td>39</td>\n",
       "      <td>10</td>\n",
       "      <td>100</td>\n",
       "      <td>333</td>\n",
       "    </tr>\n",
       "    <tr>\n",
       "      <th>6</th>\n",
       "      <td>7</td>\n",
       "      <td>LaLula</td>\n",
       "      <td>Brasil</td>\n",
       "      <td>10122019</td>\n",
       "      <td>35</td>\n",
       "      <td>50</td>\n",
       "      <td>100</td>\n",
       "      <td>39</td>\n",
       "    </tr>\n",
       "    <tr>\n",
       "      <th>7</th>\n",
       "      <td>8</td>\n",
       "      <td>Obama2000</td>\n",
       "      <td>EEUU</td>\n",
       "      <td>10122019</td>\n",
       "      <td>110</td>\n",
       "      <td>130</td>\n",
       "      <td>69</td>\n",
       "      <td>110</td>\n",
       "    </tr>\n",
       "    <tr>\n",
       "      <th>8</th>\n",
       "      <td>9</td>\n",
       "      <td>BrasiCampeon</td>\n",
       "      <td>Brasil</td>\n",
       "      <td>10122019</td>\n",
       "      <td>25</td>\n",
       "      <td>20</td>\n",
       "      <td>100</td>\n",
       "      <td>39</td>\n",
       "    </tr>\n",
       "    <tr>\n",
       "      <th>9</th>\n",
       "      <td>10</td>\n",
       "      <td>koo44</td>\n",
       "      <td>Argentina</td>\n",
       "      <td>10122019</td>\n",
       "      <td>37</td>\n",
       "      <td>20</td>\n",
       "      <td>100</td>\n",
       "      <td>333</td>\n",
       "    </tr>\n",
       "    <tr>\n",
       "      <th>10</th>\n",
       "      <td>11</td>\n",
       "      <td>koo89</td>\n",
       "      <td>Argentina</td>\n",
       "      <td>10122019</td>\n",
       "      <td>333</td>\n",
       "      <td>20</td>\n",
       "      <td>100</td>\n",
       "      <td>333</td>\n",
       "    </tr>\n",
       "  </tbody>\n",
       "</table>\n",
       "</div>"
      ],
      "text/plain": [
       "    id_user          nick    country      date  num_followers  num_followed  \\\n",
       "0         1           koo  Argentina  10122019             10            20   \n",
       "1         2         Jorge     Brasil  10122019             39            22   \n",
       "2         3        John33       EEUU  10122019            100            30   \n",
       "3         4         Ale12  Argentina  10122019             32            20   \n",
       "4         5         Fer19     Brasil  10122019             22            15   \n",
       "5         6          koo2  Argentina  10122019             39            10   \n",
       "6         7        LaLula     Brasil  10122019             35            50   \n",
       "7         8     Obama2000       EEUU  10122019            110           130   \n",
       "8         9  BrasiCampeon     Brasil  10122019             25            20   \n",
       "9        10         koo44  Argentina  10122019             37            20   \n",
       "10       11         koo89  Argentina  10122019            333            20   \n",
       "\n",
       "    total_publications  Max_seguidores  \n",
       "0                  100             333  \n",
       "1                   13              39  \n",
       "2                 1000             110  \n",
       "3                  100             333  \n",
       "4                  120              39  \n",
       "5                  100             333  \n",
       "6                  100              39  \n",
       "7                   69             110  \n",
       "8                  100              39  \n",
       "9                  100             333  \n",
       "10                 100             333  "
      ]
     },
     "execution_count": 26,
     "metadata": {},
     "output_type": "execute_result"
    }
   ],
   "source": [
    "usersDF['Max_seguidores']=usersDF.groupby('country')['num_followers'].transform(lambda x: max(x))\n",
    "usersDF"
   ]
  },
  {
   "cell_type": "code",
   "execution_count": 28,
   "metadata": {},
   "outputs": [
    {
     "data": {
      "text/html": [
       "<div>\n",
       "<style scoped>\n",
       "    .dataframe tbody tr th:only-of-type {\n",
       "        vertical-align: middle;\n",
       "    }\n",
       "\n",
       "    .dataframe tbody tr th {\n",
       "        vertical-align: top;\n",
       "    }\n",
       "\n",
       "    .dataframe thead th {\n",
       "        text-align: right;\n",
       "    }\n",
       "</style>\n",
       "<table border=\"1\" class=\"dataframe\">\n",
       "  <thead>\n",
       "    <tr style=\"text-align: right;\">\n",
       "      <th></th>\n",
       "      <th>id_user</th>\n",
       "      <th>nick</th>\n",
       "      <th>country</th>\n",
       "      <th>date</th>\n",
       "      <th>num_followers</th>\n",
       "      <th>num_followed</th>\n",
       "      <th>total_publications</th>\n",
       "      <th>Max_seguidores</th>\n",
       "    </tr>\n",
       "  </thead>\n",
       "  <tbody>\n",
       "    <tr>\n",
       "      <th>1</th>\n",
       "      <td>2</td>\n",
       "      <td>Jorge</td>\n",
       "      <td>Brasil</td>\n",
       "      <td>10122019</td>\n",
       "      <td>39</td>\n",
       "      <td>22</td>\n",
       "      <td>13</td>\n",
       "      <td>39</td>\n",
       "    </tr>\n",
       "    <tr>\n",
       "      <th>2</th>\n",
       "      <td>3</td>\n",
       "      <td>John33</td>\n",
       "      <td>EEUU</td>\n",
       "      <td>10122019</td>\n",
       "      <td>100</td>\n",
       "      <td>30</td>\n",
       "      <td>1000</td>\n",
       "      <td>110</td>\n",
       "    </tr>\n",
       "    <tr>\n",
       "      <th>10</th>\n",
       "      <td>11</td>\n",
       "      <td>koo89</td>\n",
       "      <td>Argentina</td>\n",
       "      <td>10122019</td>\n",
       "      <td>333</td>\n",
       "      <td>20</td>\n",
       "      <td>100</td>\n",
       "      <td>333</td>\n",
       "    </tr>\n",
       "  </tbody>\n",
       "</table>\n",
       "</div>"
      ],
      "text/plain": [
       "    id_user    nick    country      date  num_followers  num_followed  \\\n",
       "1         2   Jorge     Brasil  10122019             39            22   \n",
       "2         3  John33       EEUU  10122019            100            30   \n",
       "10       11   koo89  Argentina  10122019            333            20   \n",
       "\n",
       "    total_publications  Max_seguidores  \n",
       "1                   13              39  \n",
       "2                 1000             110  \n",
       "10                 100             333  "
      ]
     },
     "execution_count": 28,
     "metadata": {},
     "output_type": "execute_result"
    }
   ],
   "source": [
    "influencers=usersDF[(usersDF['num_followers']>0.8 * usersDF['Max_seguidores'])&(usersDF['num_followed']<1.15*usersDF['num_followers'])]\n",
    "influencers"
   ]
  },
  {
   "cell_type": "code",
   "execution_count": null,
   "metadata": {},
   "outputs": [],
   "source": []
  },
  {
   "cell_type": "code",
   "execution_count": null,
   "metadata": {},
   "outputs": [],
   "source": []
  },
  {
   "cell_type": "code",
   "execution_count": null,
   "metadata": {},
   "outputs": [],
   "source": []
  },
  {
   "cell_type": "code",
   "execution_count": 42,
   "metadata": {},
   "outputs": [
    {
     "data": {
      "text/html": [
       "<div>\n",
       "<style scoped>\n",
       "    .dataframe tbody tr th:only-of-type {\n",
       "        vertical-align: middle;\n",
       "    }\n",
       "\n",
       "    .dataframe tbody tr th {\n",
       "        vertical-align: top;\n",
       "    }\n",
       "\n",
       "    .dataframe thead th {\n",
       "        text-align: right;\n",
       "    }\n",
       "</style>\n",
       "<table border=\"1\" class=\"dataframe\">\n",
       "  <thead>\n",
       "    <tr style=\"text-align: right;\">\n",
       "      <th></th>\n",
       "      <th>id_user</th>\n",
       "      <th>nick</th>\n",
       "      <th>country</th>\n",
       "      <th>date</th>\n",
       "      <th>num_followers</th>\n",
       "      <th>num_followed</th>\n",
       "      <th>total_publications</th>\n",
       "      <th>maximo_seguidores</th>\n",
       "    </tr>\n",
       "  </thead>\n",
       "  <tbody>\n",
       "    <tr>\n",
       "      <th>0</th>\n",
       "      <td>1</td>\n",
       "      <td>koo</td>\n",
       "      <td>Argentina</td>\n",
       "      <td>10122019</td>\n",
       "      <td>10</td>\n",
       "      <td>20</td>\n",
       "      <td>100</td>\n",
       "      <td>333</td>\n",
       "    </tr>\n",
       "    <tr>\n",
       "      <th>1</th>\n",
       "      <td>2</td>\n",
       "      <td>Jorge</td>\n",
       "      <td>Brasil</td>\n",
       "      <td>10122019</td>\n",
       "      <td>39</td>\n",
       "      <td>22</td>\n",
       "      <td>13</td>\n",
       "      <td>39</td>\n",
       "    </tr>\n",
       "    <tr>\n",
       "      <th>2</th>\n",
       "      <td>3</td>\n",
       "      <td>John33</td>\n",
       "      <td>EEUU</td>\n",
       "      <td>10122019</td>\n",
       "      <td>100</td>\n",
       "      <td>30</td>\n",
       "      <td>1000</td>\n",
       "      <td>110</td>\n",
       "    </tr>\n",
       "    <tr>\n",
       "      <th>3</th>\n",
       "      <td>4</td>\n",
       "      <td>Ale12</td>\n",
       "      <td>Argentina</td>\n",
       "      <td>10122019</td>\n",
       "      <td>32</td>\n",
       "      <td>20</td>\n",
       "      <td>100</td>\n",
       "      <td>333</td>\n",
       "    </tr>\n",
       "    <tr>\n",
       "      <th>4</th>\n",
       "      <td>5</td>\n",
       "      <td>Fer19</td>\n",
       "      <td>Brasil</td>\n",
       "      <td>10122019</td>\n",
       "      <td>22</td>\n",
       "      <td>15</td>\n",
       "      <td>120</td>\n",
       "      <td>39</td>\n",
       "    </tr>\n",
       "    <tr>\n",
       "      <th>5</th>\n",
       "      <td>6</td>\n",
       "      <td>koo2</td>\n",
       "      <td>Argentina</td>\n",
       "      <td>10122019</td>\n",
       "      <td>39</td>\n",
       "      <td>10</td>\n",
       "      <td>100</td>\n",
       "      <td>333</td>\n",
       "    </tr>\n",
       "    <tr>\n",
       "      <th>6</th>\n",
       "      <td>7</td>\n",
       "      <td>LaLula</td>\n",
       "      <td>Brasil</td>\n",
       "      <td>10122019</td>\n",
       "      <td>35</td>\n",
       "      <td>50</td>\n",
       "      <td>100</td>\n",
       "      <td>39</td>\n",
       "    </tr>\n",
       "    <tr>\n",
       "      <th>7</th>\n",
       "      <td>8</td>\n",
       "      <td>Obama2000</td>\n",
       "      <td>EEUU</td>\n",
       "      <td>10122019</td>\n",
       "      <td>110</td>\n",
       "      <td>130</td>\n",
       "      <td>69</td>\n",
       "      <td>110</td>\n",
       "    </tr>\n",
       "    <tr>\n",
       "      <th>8</th>\n",
       "      <td>9</td>\n",
       "      <td>BrasiCampeon</td>\n",
       "      <td>Brasil</td>\n",
       "      <td>10122019</td>\n",
       "      <td>25</td>\n",
       "      <td>20</td>\n",
       "      <td>100</td>\n",
       "      <td>39</td>\n",
       "    </tr>\n",
       "    <tr>\n",
       "      <th>9</th>\n",
       "      <td>10</td>\n",
       "      <td>koo44</td>\n",
       "      <td>Argentina</td>\n",
       "      <td>10122019</td>\n",
       "      <td>37</td>\n",
       "      <td>20</td>\n",
       "      <td>100</td>\n",
       "      <td>333</td>\n",
       "    </tr>\n",
       "    <tr>\n",
       "      <th>10</th>\n",
       "      <td>11</td>\n",
       "      <td>koo89</td>\n",
       "      <td>Argentina</td>\n",
       "      <td>10122019</td>\n",
       "      <td>333</td>\n",
       "      <td>20</td>\n",
       "      <td>100</td>\n",
       "      <td>333</td>\n",
       "    </tr>\n",
       "  </tbody>\n",
       "</table>\n",
       "</div>"
      ],
      "text/plain": [
       "    id_user          nick    country      date  num_followers  num_followed  \\\n",
       "0         1           koo  Argentina  10122019             10            20   \n",
       "1         2         Jorge     Brasil  10122019             39            22   \n",
       "2         3        John33       EEUU  10122019            100            30   \n",
       "3         4         Ale12  Argentina  10122019             32            20   \n",
       "4         5         Fer19     Brasil  10122019             22            15   \n",
       "5         6          koo2  Argentina  10122019             39            10   \n",
       "6         7        LaLula     Brasil  10122019             35            50   \n",
       "7         8     Obama2000       EEUU  10122019            110           130   \n",
       "8         9  BrasiCampeon     Brasil  10122019             25            20   \n",
       "9        10         koo44  Argentina  10122019             37            20   \n",
       "10       11         koo89  Argentina  10122019            333            20   \n",
       "\n",
       "    total_publications  maximo_seguidores  \n",
       "0                  100                333  \n",
       "1                   13                 39  \n",
       "2                 1000                110  \n",
       "3                  100                333  \n",
       "4                  120                 39  \n",
       "5                  100                333  \n",
       "6                  100                 39  \n",
       "7                   69                110  \n",
       "8                  100                 39  \n",
       "9                  100                333  \n",
       "10                 100                333  "
      ]
     },
     "execution_count": 42,
     "metadata": {},
     "output_type": "execute_result"
    }
   ],
   "source": [
    "#caclulo el maximo de seguidores por pais usando transform\n",
    "usersDF['maximo_seguidores']=usersDF.groupby('country')['num_followers'].transform('max')\n",
    "usersDF"
   ]
  },
  {
   "cell_type": "code",
   "execution_count": 43,
   "metadata": {},
   "outputs": [
    {
     "data": {
      "text/plain": [
       "country\n",
       "EEUU    160\n",
       "Name: num_followed, dtype: int64"
      ]
     },
     "execution_count": 43,
     "metadata": {},
     "output_type": "execute_result"
    }
   ],
   "source": [
    "usersDF.groupby('country')['num_followed'].sum().nlargest(1)"
   ]
  },
  {
   "cell_type": "code",
   "execution_count": 79,
   "metadata": {},
   "outputs": [
    {
     "data": {
      "text/html": [
       "<div>\n",
       "<style scoped>\n",
       "    .dataframe tbody tr th:only-of-type {\n",
       "        vertical-align: middle;\n",
       "    }\n",
       "\n",
       "    .dataframe tbody tr th {\n",
       "        vertical-align: top;\n",
       "    }\n",
       "\n",
       "    .dataframe thead th {\n",
       "        text-align: right;\n",
       "    }\n",
       "</style>\n",
       "<table border=\"1\" class=\"dataframe\">\n",
       "  <thead>\n",
       "    <tr style=\"text-align: right;\">\n",
       "      <th></th>\n",
       "      <th>id_user</th>\n",
       "      <th>nick</th>\n",
       "      <th>country</th>\n",
       "      <th>date</th>\n",
       "      <th>num_followers</th>\n",
       "      <th>num_followed</th>\n",
       "      <th>total_publications</th>\n",
       "      <th>maximo_seguidores</th>\n",
       "    </tr>\n",
       "  </thead>\n",
       "  <tbody>\n",
       "    <tr>\n",
       "      <th>1</th>\n",
       "      <td>2</td>\n",
       "      <td>Jorge</td>\n",
       "      <td>Brasil</td>\n",
       "      <td>10122019</td>\n",
       "      <td>39</td>\n",
       "      <td>22</td>\n",
       "      <td>13</td>\n",
       "      <td>39</td>\n",
       "    </tr>\n",
       "    <tr>\n",
       "      <th>2</th>\n",
       "      <td>3</td>\n",
       "      <td>John33</td>\n",
       "      <td>EEUU</td>\n",
       "      <td>10122019</td>\n",
       "      <td>100</td>\n",
       "      <td>30</td>\n",
       "      <td>1000</td>\n",
       "      <td>110</td>\n",
       "    </tr>\n",
       "    <tr>\n",
       "      <th>6</th>\n",
       "      <td>7</td>\n",
       "      <td>LaLula</td>\n",
       "      <td>Brasil</td>\n",
       "      <td>10122019</td>\n",
       "      <td>35</td>\n",
       "      <td>50</td>\n",
       "      <td>100</td>\n",
       "      <td>39</td>\n",
       "    </tr>\n",
       "    <tr>\n",
       "      <th>7</th>\n",
       "      <td>8</td>\n",
       "      <td>Obama2000</td>\n",
       "      <td>EEUU</td>\n",
       "      <td>10122019</td>\n",
       "      <td>110</td>\n",
       "      <td>130</td>\n",
       "      <td>69</td>\n",
       "      <td>110</td>\n",
       "    </tr>\n",
       "    <tr>\n",
       "      <th>10</th>\n",
       "      <td>11</td>\n",
       "      <td>koo89</td>\n",
       "      <td>Argentina</td>\n",
       "      <td>10122019</td>\n",
       "      <td>333</td>\n",
       "      <td>20</td>\n",
       "      <td>100</td>\n",
       "      <td>333</td>\n",
       "    </tr>\n",
       "  </tbody>\n",
       "</table>\n",
       "</div>"
      ],
      "text/plain": [
       "    id_user       nick    country      date  num_followers  num_followed  \\\n",
       "1         2      Jorge     Brasil  10122019             39            22   \n",
       "2         3     John33       EEUU  10122019            100            30   \n",
       "6         7     LaLula     Brasil  10122019             35            50   \n",
       "7         8  Obama2000       EEUU  10122019            110           130   \n",
       "10       11      koo89  Argentina  10122019            333            20   \n",
       "\n",
       "    total_publications  maximo_seguidores  \n",
       "1                   13                 39  \n",
       "2                 1000                110  \n",
       "6                  100                 39  \n",
       "7                   69                110  \n",
       "10                 100                333  "
      ]
     },
     "execution_count": 79,
     "metadata": {},
     "output_type": "execute_result"
    }
   ],
   "source": [
    "users2=usersDF[usersDF['num_followers']>=0.8*usersDF['maximo_seguidores']]\n",
    "users2"
   ]
  },
  {
   "cell_type": "code",
   "execution_count": 81,
   "metadata": {},
   "outputs": [
    {
     "data": {
      "text/html": [
       "<div>\n",
       "<style scoped>\n",
       "    .dataframe tbody tr th:only-of-type {\n",
       "        vertical-align: middle;\n",
       "    }\n",
       "\n",
       "    .dataframe tbody tr th {\n",
       "        vertical-align: top;\n",
       "    }\n",
       "\n",
       "    .dataframe thead th {\n",
       "        text-align: right;\n",
       "    }\n",
       "</style>\n",
       "<table border=\"1\" class=\"dataframe\">\n",
       "  <thead>\n",
       "    <tr style=\"text-align: right;\">\n",
       "      <th></th>\n",
       "      <th>id_user</th>\n",
       "      <th>nick</th>\n",
       "      <th>country</th>\n",
       "      <th>date</th>\n",
       "      <th>num_followers</th>\n",
       "      <th>num_followed</th>\n",
       "      <th>total_publications</th>\n",
       "      <th>maximo_seguidores</th>\n",
       "    </tr>\n",
       "  </thead>\n",
       "  <tbody>\n",
       "    <tr>\n",
       "      <th>1</th>\n",
       "      <td>2</td>\n",
       "      <td>Jorge</td>\n",
       "      <td>Brasil</td>\n",
       "      <td>10122019</td>\n",
       "      <td>39</td>\n",
       "      <td>22</td>\n",
       "      <td>13</td>\n",
       "      <td>39</td>\n",
       "    </tr>\n",
       "    <tr>\n",
       "      <th>2</th>\n",
       "      <td>3</td>\n",
       "      <td>John33</td>\n",
       "      <td>EEUU</td>\n",
       "      <td>10122019</td>\n",
       "      <td>100</td>\n",
       "      <td>30</td>\n",
       "      <td>1000</td>\n",
       "      <td>110</td>\n",
       "    </tr>\n",
       "    <tr>\n",
       "      <th>10</th>\n",
       "      <td>11</td>\n",
       "      <td>koo89</td>\n",
       "      <td>Argentina</td>\n",
       "      <td>10122019</td>\n",
       "      <td>333</td>\n",
       "      <td>20</td>\n",
       "      <td>100</td>\n",
       "      <td>333</td>\n",
       "    </tr>\n",
       "  </tbody>\n",
       "</table>\n",
       "</div>"
      ],
      "text/plain": [
       "    id_user    nick    country      date  num_followers  num_followed  \\\n",
       "1         2   Jorge     Brasil  10122019             39            22   \n",
       "2         3  John33       EEUU  10122019            100            30   \n",
       "10       11   koo89  Argentina  10122019            333            20   \n",
       "\n",
       "    total_publications  maximo_seguidores  \n",
       "1                   13                 39  \n",
       "2                 1000                110  \n",
       "10                 100                333  "
      ]
     },
     "execution_count": 81,
     "metadata": {},
     "output_type": "execute_result"
    }
   ],
   "source": [
    "users2[users2['num_followed']<1.15*users2['num_followers']]"
   ]
  },
  {
   "cell_type": "markdown",
   "metadata": {},
   "source": [
    "#Ejercio de spark primer parcial 2019\n",
    "El servicio meteorologico registra datos del tiempo para todas las ciudades donde posea una base de medicion. La informacion se encuentra en dos RDD\n",
    "Bases_RDD(Id_base, nombre, provincia, ciudad, latitud, long)\n",
    "mediciones_RDD(timestamp, id_base, temperatura, humedad, presion, direccion_viento, velocidad_viento)\n",
    "Se pide: reporte para las bases de la provincia buenos aires  que contenga id y nombre de las bases que hayan regoistrado una variación de temperatura promedio del 30 % con respecto al mes anteriro para 2018."
   ]
  },
  {
   "cell_type": "code",
   "execution_count": 31,
   "metadata": {},
   "outputs": [],
   "source": [
    "bases=[[1,\"capitalRules\",\"CABA\",\"Ciudad de Buenos Aires\",37,50],\n",
    "      [2,\"saltita\",\"Salta\",\"Tartagal\",37,50],\n",
    "       [3,\"laPlataFolows\",\"Buenos Aires\",\"La Plata\",37,50],\n",
    "       [4,\"laMisionera\",\"Misiones\",\"Puerto Argentino\",37,50],\n",
    "       [5,\"laformoseña\",\"Formosa\",\"Formosa\",37,50],\n",
    "       [6,\"josecito\",\"Buenos Aires\",\"Jose C Paz\",37,50],\n",
    "       [7,\"santacruceña\",\"Santa Cruz\", \"Rio Gallegos\",37,50],\n",
    "       [8,\"santita\",\"Santa Fe\",\"Santa Fe\",37,50],\n",
    "       [9,\"saltooo\",\"Buenos Aires\",\"Salto\",37,50],\n",
    "       [10,\"lacordobeza\",\"Cordoba\",\"Tanti\",37,50],\n",
    "       [11,\"laBallena\",\"Buenos Aires\",\"Bahia Blanca\",37,50]]\n",
    "\n",
    "mediciones=[['2018-01-01 12:00:00',3,30,80, 1012, \"NO\",30],\n",
    "           ['2018-01-01 12:00:00',4,33,80, 1012, \"NO\",30],\n",
    "           ['2018-01-01 12:00:00',5,34,80, 1012, \"NO\",30],\n",
    "           ['2018-01-01 12:00:00',6,31,80, 1012, \"NO\",30],\n",
    "           ['2018-01-01 12:00:00',1,30,80, 1012, \"NO\",30],\n",
    "           ['2018-01-01 12:00:00',2,22,80, 1012, \"NO\",30],\n",
    "           ['2019-02-01 12:00:00',3,28,80, 1012, \"NO\",30],\n",
    "           ['2018-02-01 12:00:00',10,26,80, 1012, \"NO\",30],\n",
    "           ['2018-02-01 12:00:00',9,32,80, 1012, \"NO\",30],\n",
    "           ['2018-02-01 12:00:00',2,34,80, 1012, \"NO\",30],\n",
    "           ['2018-02-01 12:00:00',3,31,80, 1012, \"NO\",30],\n",
    "           ['2017-02-01 12:00:00',3,33,80, 1012, \"NO\",30],\n",
    "           ['2018-02-01 12:00:00',3,15,80, 1012, \"NO\",30],\n",
    "           ['2018-02-01 12:00:00',3,20,80, 1012, \"NO\",30],\n",
    "           ['2018-02-01 12:00:00',9,22,80, 1012, \"NO\",30],\n",
    "           ['2018-02-01 12:00:00',3,32,80, 1012, \"NO\",30],\n",
    "            ['2018-03-01 12:00:00',3,30,80, 1012, \"NO\",30],\n",
    "           ['2018-03-01 12:00:00',4,33,80, 1012, \"NO\",30],\n",
    "           ['2018-03-01 12:00:00',5,34,80, 1012, \"NO\",30],\n",
    "           ['2018-03-01 12:00:00',6,31,80, 1012, \"NO\",30],\n",
    "           ['2018-03-01 12:00:00',1,30,80, 1012, \"NO\",30],\n",
    "           ['2018-03-01 12:00:00',2,22,80, 1012, \"NO\",30],\n",
    "           ['2019-03-01 12:00:00',3,38,80, 1012, \"NO\",30],\n",
    "           ['2018-04-01 12:00:00',10,26,80, 1012, \"NO\",30],\n",
    "           ['2018-04-01 12:00:00',9,32,80, 1012, \"NO\",30],\n",
    "           ['2018-04-01 12:00:00',2,34,80, 1012, \"NO\",30],\n",
    "           ['2018-04-01 12:00:00',3,30,80, 1012, \"NO\",30],\n",
    "           ['2017-04-01 12:00:00',3,33,80, 1012, \"NO\",30],\n",
    "           ['2018-05-01 12:00:00',3,30,80, 1012, \"NO\",30],\n",
    "           ['2018-05-01 12:00:00',3,39,80, 1012, \"NO\",30],\n",
    "           ['2018-05-01 12:00:00',9,22,80, 1012, \"NO\",30],\n",
    "           ['2018-05-01 12:00:00',3,31,80, 1012, \"NO\",30],\n",
    "           ]\n",
    "     "
   ]
  },
  {
   "cell_type": "code",
   "execution_count": 32,
   "metadata": {},
   "outputs": [],
   "source": [
    "basesRDD=sc.parallelize(bases)\n",
    "medicionesRDD=sc.parallelize(mediciones)\n"
   ]
  },
  {
   "cell_type": "code",
   "execution_count": 33,
   "metadata": {},
   "outputs": [
    {
     "data": {
      "text/plain": [
       "[[1, 'capitalRules', 'CABA', 'Ciudad de Buenos Aires', 37, 50],\n",
       " [2, 'saltita', 'Salta', 'Tartagal', 37, 50],\n",
       " [3, 'laPlataFolows', 'Buenos Aires', 'La Plata', 37, 50],\n",
       " [4, 'laMisionera', 'Misiones', 'Puerto Argentino', 37, 50],\n",
       " [5, 'laformoseña', 'Formosa', 'Formosa', 37, 50]]"
      ]
     },
     "execution_count": 33,
     "metadata": {},
     "output_type": "execute_result"
    }
   ],
   "source": [
    "basesRDD.take(5)"
   ]
  },
  {
   "cell_type": "code",
   "execution_count": 34,
   "metadata": {},
   "outputs": [
    {
     "data": {
      "text/plain": [
       "[['2018-01-01 12:00:00', 3, 30, 80, 1012, 'NO', 30],\n",
       " ['2018-01-01 12:00:00', 4, 33, 80, 1012, 'NO', 30],\n",
       " ['2018-01-01 12:00:00', 5, 34, 80, 1012, 'NO', 30],\n",
       " ['2018-01-01 12:00:00', 6, 31, 80, 1012, 'NO', 30],\n",
       " ['2018-01-01 12:00:00', 1, 30, 80, 1012, 'NO', 30]]"
      ]
     },
     "execution_count": 34,
     "metadata": {},
     "output_type": "execute_result"
    }
   ],
   "source": [
    "medicionesRDD.take(5)"
   ]
  },
  {
   "cell_type": "code",
   "execution_count": 36,
   "metadata": {},
   "outputs": [
    {
     "data": {
      "text/plain": [
       "[(3, 'laPlataFolows'), (6, 'josecito'), (9, 'saltooo'), (11, 'laBallena')]"
      ]
     },
     "execution_count": 36,
     "metadata": {},
     "output_type": "execute_result"
    }
   ],
   "source": [
    "#filtro basese buenos aires y obtengo registros del tipo (id_base, nombre)\n",
    "basesBuenosAires=basesRDD.filter(lambda x: x[2]==\"Buenos Aires\").map(lambda x:(x[0],x[1]))\n",
    "basesBuenosAires.collect()"
   ]
  },
  {
   "cell_type": "code",
   "execution_count": 37,
   "metadata": {},
   "outputs": [],
   "source": [
    "def MONTH(timestamp):\n",
    "    month = ''\n",
    "    guardar=0\n",
    "    for caracter in timestamp:\n",
    "        if (caracter=='-') & (guardar==1):\n",
    "            return month   \n",
    "        if (caracter=='-') & (guardar==0):\n",
    "            guardar=1\n",
    "        if  (caracter!='-') & (guardar==1):    \n",
    "            month+=caracter\n",
    "    return month"
   ]
  },
  {
   "cell_type": "code",
   "execution_count": 38,
   "metadata": {},
   "outputs": [],
   "source": [
    "def YEAR(timestamp):\n",
    "    year = ''\n",
    "    guardar=0\n",
    "    for caracter in timestamp:\n",
    "        if (caracter=='-'):\n",
    "            return year   \n",
    "        year+=caracter"
   ]
  },
  {
   "cell_type": "code",
   "execution_count": 42,
   "metadata": {},
   "outputs": [
    {
     "data": {
      "text/plain": [
       "[(3, ('2018', '01', 30)),\n",
       " (4, ('2018', '01', 33)),\n",
       " (5, ('2018', '01', 34)),\n",
       " (6, ('2018', '01', 31)),\n",
       " (1, ('2018', '01', 30)),\n",
       " (2, ('2018', '01', 22)),\n",
       " (10, ('2018', '02', 26)),\n",
       " (9, ('2018', '02', 32)),\n",
       " (2, ('2018', '02', 34)),\n",
       " (3, ('2018', '02', 31)),\n",
       " (3, ('2018', '02', 15)),\n",
       " (3, ('2018', '02', 20)),\n",
       " (9, ('2018', '02', 22)),\n",
       " (3, ('2018', '02', 32)),\n",
       " (3, ('2018', '03', 30)),\n",
       " (4, ('2018', '03', 33)),\n",
       " (5, ('2018', '03', 34)),\n",
       " (6, ('2018', '03', 31)),\n",
       " (1, ('2018', '03', 30)),\n",
       " (2, ('2018', '03', 22)),\n",
       " (10, ('2018', '04', 26)),\n",
       " (9, ('2018', '04', 32)),\n",
       " (2, ('2018', '04', 34)),\n",
       " (3, ('2018', '04', 30)),\n",
       " (3, ('2018', '05', 30)),\n",
       " (3, ('2018', '05', 39)),\n",
       " (9, ('2018', '05', 22)),\n",
       " (3, ('2018', '05', 31))]"
      ]
     },
     "execution_count": 42,
     "metadata": {},
     "output_type": "execute_result"
    }
   ],
   "source": [
    "mediciones2018=medicionesRDD.filter(lambda x:(x[0]>='2017-12-01 00:00:00')& (x[0]<'2019-01-01 00:00:00') )\\\n",
    "                            .map(lambda x:(x[1],(YEAR(x[0]),MONTH(x[0]),x[2])))\n",
    "\n",
    "mediciones2018.collect()                         "
   ]
  },
  {
   "cell_type": "code",
   "execution_count": 44,
   "metadata": {},
   "outputs": [
    {
     "data": {
      "text/plain": [
       "[(9, ('saltooo', ('2018', '02', 32))),\n",
       " (9, ('saltooo', ('2018', '02', 22))),\n",
       " (9, ('saltooo', ('2018', '04', 32))),\n",
       " (9, ('saltooo', ('2018', '05', 22))),\n",
       " (6, ('josecito', ('2018', '01', 31))),\n",
       " (6, ('josecito', ('2018', '03', 31))),\n",
       " (3, ('laPlataFolows', ('2018', '01', 30))),\n",
       " (3, ('laPlataFolows', ('2018', '02', 31))),\n",
       " (3, ('laPlataFolows', ('2018', '02', 15))),\n",
       " (3, ('laPlataFolows', ('2018', '02', 20))),\n",
       " (3, ('laPlataFolows', ('2018', '02', 32))),\n",
       " (3, ('laPlataFolows', ('2018', '03', 30))),\n",
       " (3, ('laPlataFolows', ('2018', '04', 30))),\n",
       " (3, ('laPlataFolows', ('2018', '05', 30))),\n",
       " (3, ('laPlataFolows', ('2018', '05', 39))),\n",
       " (3, ('laPlataFolows', ('2018', '05', 31)))]"
      ]
     },
     "execution_count": 44,
     "metadata": {},
     "output_type": "execute_result"
    }
   ],
   "source": [
    "bases_joinned=basesBuenosAires.join(mediciones2018)\n",
    "bases_joinned.collect()"
   ]
  },
  {
   "cell_type": "code",
   "execution_count": null,
   "metadata": {},
   "outputs": [],
   "source": [
    "bases_joinned.map(lambda x:(x[0],(x[1][0],x[1][1][0],x[1][1][1],))"
   ]
  },
  {
   "cell_type": "code",
   "execution_count": null,
   "metadata": {},
   "outputs": [],
   "source": []
  },
  {
   "cell_type": "code",
   "execution_count": null,
   "metadata": {},
   "outputs": [],
   "source": []
  },
  {
   "cell_type": "code",
   "execution_count": null,
   "metadata": {},
   "outputs": [],
   "source": []
  },
  {
   "cell_type": "code",
   "execution_count": null,
   "metadata": {},
   "outputs": [],
   "source": []
  },
  {
   "cell_type": "code",
   "execution_count": 356,
   "metadata": {},
   "outputs": [
    {
     "data": {
      "text/plain": [
       "[[3, 'laPlataFolows', 'Buenos Aires', 'La Plata', 37, 50],\n",
       " [6, 'josecito', 'Buenos Aires', 'Jose C Paz', 37, 50],\n",
       " [9, 'saltooo', 'Buenos Aires', 'Salto', 37, 50],\n",
       " [11, 'laBallena', 'Buenos Aires', 'Bahia Blanca', 37, 50]]"
      ]
     },
     "execution_count": 356,
     "metadata": {},
     "output_type": "execute_result"
    }
   ],
   "source": [
    "bases_buenosAires=basesRDD.filter(lambda x: x[2]=='Buenos Aires')\n",
    "bases_buenosAires.take(10)"
   ]
  },
  {
   "cell_type": "code",
   "execution_count": 357,
   "metadata": {},
   "outputs": [
    {
     "data": {
      "text/plain": [
       "[(3, ('2018-01-01 12:00:00', 30)),\n",
       " (4, ('2018-01-01 12:00:00', 33)),\n",
       " (5, ('2018-01-01 12:00:00', 34))]"
      ]
     },
     "execution_count": 357,
     "metadata": {},
     "output_type": "execute_result"
    }
   ],
   "source": [
    "mediciones2018=medicionesRDD.filter(lambda x: ((x[0]>='2017-12-01') & (x[0]<'2019-01-01')))\\\n",
    "                            .map(lambda x:(x[1],(x[0],x[2])))\n",
    "mediciones2018.take(3)"
   ]
  },
  {
   "cell_type": "code",
   "execution_count": 358,
   "metadata": {},
   "outputs": [],
   "source": [
    "def MONTH(timestamp):\n",
    "    year = ''\n",
    "    guardar=0\n",
    "    for caracter in timestamp:\n",
    "        if (caracter=='-') & (guardar==1):\n",
    "            return year   \n",
    "        if (caracter=='-') & (guardar==0):\n",
    "            guardar=1\n",
    "        if  (caracter!='-') & (guardar==1):    \n",
    "            year+=caracter\n",
    "    return year\n",
    "       "
   ]
  },
  {
   "cell_type": "code",
   "execution_count": 359,
   "metadata": {},
   "outputs": [
    {
     "data": {
      "text/plain": [
       "'01'"
      ]
     },
     "execution_count": 359,
     "metadata": {},
     "output_type": "execute_result"
    }
   ],
   "source": [
    "MONTH('2018-01-01 12:00:00')"
   ]
  },
  {
   "cell_type": "code",
   "execution_count": 360,
   "metadata": {},
   "outputs": [],
   "source": [
    "def YEAR(timestamp):\n",
    "    year = ''\n",
    "    guardar=0\n",
    "    for caracter in timestamp:\n",
    "        if (caracter=='-'):\n",
    "            return year   \n",
    "        year+=caracter"
   ]
  },
  {
   "cell_type": "code",
   "execution_count": 361,
   "metadata": {},
   "outputs": [
    {
     "data": {
      "text/plain": [
       "'2018'"
      ]
     },
     "execution_count": 361,
     "metadata": {},
     "output_type": "execute_result"
    }
   ],
   "source": [
    "YEAR('2018-01-01 12:00:00')"
   ]
  },
  {
   "cell_type": "code",
   "execution_count": null,
   "metadata": {},
   "outputs": [],
   "source": []
  },
  {
   "cell_type": "code",
   "execution_count": 362,
   "metadata": {},
   "outputs": [
    {
     "data": {
      "text/plain": [
       "[(9, ('saltooo', ('2018-02-01 12:00:00', 32))),\n",
       " (9, ('saltooo', ('2018-02-01 12:00:00', 22))),\n",
       " (9, ('saltooo', ('2018-04-01 12:00:00', 32)))]"
      ]
     },
     "execution_count": 362,
     "metadata": {},
     "output_type": "execute_result"
    }
   ],
   "source": [
    "bases_join=bases_buenosAires.join(mediciones2018)\n",
    "bases_join.take(3)"
   ]
  },
  {
   "cell_type": "code",
   "execution_count": 363,
   "metadata": {},
   "outputs": [
    {
     "data": {
      "text/plain": [
       "[((9, '2018', '02', 'saltooo'), (32, 1)),\n",
       " ((9, '2018', '02', 'saltooo'), (22, 1)),\n",
       " ((9, '2018', '04', 'saltooo'), (32, 1)),\n",
       " ((9, '2018', '05', 'saltooo'), (22, 1)),\n",
       " ((6, '2018', '01', 'josecito'), (31, 1)),\n",
       " ((6, '2018', '03', 'josecito'), (31, 1)),\n",
       " ((3, '2018', '01', 'laPlataFolows'), (30, 1)),\n",
       " ((3, '2018', '02', 'laPlataFolows'), (31, 1)),\n",
       " ((3, '2018', '02', 'laPlataFolows'), (15, 1)),\n",
       " ((3, '2018', '02', 'laPlataFolows'), (20, 1))]"
      ]
     },
     "execution_count": 363,
     "metadata": {},
     "output_type": "execute_result"
    }
   ],
   "source": [
    "med=bases_join.map(lambda x:((x[0],YEAR(x[1][1][0]),MONTH(x[1][1][0]),x[1][0]),(x[1][1][1],1)))\n",
    "med.take(10)"
   ]
  },
  {
   "cell_type": "code",
   "execution_count": 364,
   "metadata": {},
   "outputs": [
    {
     "data": {
      "text/plain": [
       "[((3, '2018', '02', 'laPlataFolows'), (98, 4)),\n",
       " ((3, '2018', '04', 'laPlataFolows'), (30, 1)),\n",
       " ((9, '2018', '05', 'saltooo'), (22, 1))]"
      ]
     },
     "execution_count": 364,
     "metadata": {},
     "output_type": "execute_result"
    }
   ],
   "source": [
    "med2=med.reduceByKey(lambda x, y: (x[0]+y[0] ,x[1]+y[1]))\n",
    "med2.take(3)"
   ]
  },
  {
   "cell_type": "code",
   "execution_count": 367,
   "metadata": {},
   "outputs": [
    {
     "data": {
      "text/plain": [
       "[(3, ('2018', '02', 'laPlataFolows', 24.5)),\n",
       " (3, ('2018', '04', 'laPlataFolows', 30.0)),\n",
       " (9, ('2018', '05', 'saltooo', 22.0)),\n",
       " (9, ('2018', '02', 'saltooo', 27.0)),\n",
       " (9, ('2018', '04', 'saltooo', 32.0)),\n",
       " (6, ('2018', '01', 'josecito', 31.0)),\n",
       " (3, ('2018', '01', 'laPlataFolows', 30.0)),\n",
       " (6, ('2018', '03', 'josecito', 31.0)),\n",
       " (3, ('2018', '03', 'laPlataFolows', 30.0)),\n",
       " (3, ('2018', '05', 'laPlataFolows', 33.333333333333336))]"
      ]
     },
     "execution_count": 367,
     "metadata": {},
     "output_type": "execute_result"
    }
   ],
   "source": [
    "med3=med2.map(lambda x: (x[0][0],(x[0][1],x[0][2],x[0][3],x[1][0]/x[1][1])))\n",
    "med3.take(16)"
   ]
  },
  {
   "cell_type": "code",
   "execution_count": 371,
   "metadata": {},
   "outputs": [
    {
     "data": {
      "text/plain": [
       "[(9,\n",
       "  [('2018', '05', 'saltooo', 22.0),\n",
       "   ('2018', '02', 'saltooo', 27.0),\n",
       "   ('2018', '04', 'saltooo', 32.0)]),\n",
       " (6, [('2018', '01', 'josecito', 31.0), ('2018', '03', 'josecito', 31.0)]),\n",
       " (3,\n",
       "  [('2018', '02', 'laPlataFolows', 24.5),\n",
       "   ('2018', '04', 'laPlataFolows', 30.0),\n",
       "   ('2018', '01', 'laPlataFolows', 30.0),\n",
       "   ('2018', '03', 'laPlataFolows', 30.0),\n",
       "   ('2018', '05', 'laPlataFolows', 33.333333333333336)])]"
      ]
     },
     "execution_count": 371,
     "metadata": {},
     "output_type": "execute_result"
    }
   ],
   "source": [
    "med3.groupByKey().map(lambda x : (x[0], list(x[1]))).collect()"
   ]
  },
  {
   "cell_type": "code",
   "execution_count": 372,
   "metadata": {},
   "outputs": [
    {
     "data": {
      "text/plain": [
       "5"
      ]
     },
     "execution_count": 372,
     "metadata": {},
     "output_type": "execute_result"
    }
   ],
   "source": [
    "int('05')"
   ]
  },
  {
   "cell_type": "code",
   "execution_count": 48,
   "metadata": {},
   "outputs": [],
   "source": [
    "import operator\n",
    "def compara(lista):\n",
    "    mes=0\n",
    "    tem=0\n",
    "    lista.sort(key = operator.itemgetter(0, 1)) # ordeno por año y mes\n",
    "    #sorted(lista, key = lambda x: (x[0], x[1]))\n",
    "    for tupla in lista:\n",
    "            if (lista.index(tupla)==0):\n",
    "                mes=int(tupla[1])\n",
    "                tem=int(tupla[3])\n",
    "            else: \n",
    "                if (int(tupla[1])==mes +1):\n",
    "                    if ((int(tupla[3]))>=1.3*tem) |((int(tupla[3]))<=tem/1.3):\n",
    "                        return tupla[2] # devuleve el no,bvre\n",
    "                mes=int(tupla[1])\n",
    "                tem=int(tupla[3])\n",
    "    \n",
    "    return 'Ninguna'\n",
    "\n"
   ]
  },
  {
   "cell_type": "code",
   "execution_count": null,
   "metadata": {},
   "outputs": [],
   "source": []
  },
  {
   "cell_type": "code",
   "execution_count": 49,
   "metadata": {},
   "outputs": [],
   "source": [
    "lista=   [('2018', '05', 'saltooo', 22.0),\n",
    "   ('2018', '02', 'saltooo', 27.0),\n",
    "   ('2018', '04', 'saltooo', 32.0)]"
   ]
  },
  {
   "cell_type": "code",
   "execution_count": 50,
   "metadata": {},
   "outputs": [
    {
     "data": {
      "text/plain": [
       "'saltooo'"
      ]
     },
     "execution_count": 50,
     "metadata": {},
     "output_type": "execute_result"
    }
   ],
   "source": [
    "compara(lista)"
   ]
  },
  {
   "cell_type": "code",
   "execution_count": 389,
   "metadata": {},
   "outputs": [
    {
     "data": {
      "text/plain": [
       "[(9, 'saltooo'), (6, 'Ninguna'), (3, 'Ninguna')]"
      ]
     },
     "execution_count": 389,
     "metadata": {},
     "output_type": "execute_result"
    }
   ],
   "source": [
    "respuesta=med3.groupByKey().map(lambda x : (x[0], list(x[1]))).map(lambda x: (x[0],compara(x[1])))\\\n",
    "              \n",
    "respuesta.take(30)"
   ]
  },
  {
   "cell_type": "code",
   "execution_count": 390,
   "metadata": {},
   "outputs": [
    {
     "data": {
      "text/plain": [
       "[(9, 'saltooo')]"
      ]
     },
     "execution_count": 390,
     "metadata": {},
     "output_type": "execute_result"
    }
   ],
   "source": [
    "respuesta=med3.groupByKey().map(lambda x : (x[0], list(x[1]))).map(lambda x: (x[0],compara(x[1])))\\\n",
    "                            .filter(lambda x: x[1]!='Ninguna')\n",
    "              \n",
    "respuesta.take(30)"
   ]
  },
  {
   "cell_type": "code",
   "execution_count": 393,
   "metadata": {},
   "outputs": [
    {
     "data": {
      "text/plain": [
       "[(9, 'saltooo'), (6, 'josecito'), (3, 'laPlataFolows')]"
      ]
     },
     "execution_count": 393,
     "metadata": {},
     "output_type": "execute_result"
    }
   ],
   "source": [
    "respuesta=med3.groupByKey().map(lambda x : (x[0], list(x[1]))).map(lambda x: (x[0],x[1][0][2]))\n",
    "                            \n",
    "              \n",
    "respuesta.take(30)"
   ]
  },
  {
   "cell_type": "markdown",
   "metadata": {},
   "source": [
    "# Parcial 1 c 2014\n",
    "1) Se tiene un archivo con información sobre visitas a páginas\n",
    "web de la forma: (URL, visitas, fecha). Existe solo un registro\n",
    "por día para cada URL. Se quiere generar un archivo que, por\n",
    "cada URL, indique cuál fue la fecha en la que tuvo mas visitas\n",
    "y la cantidad de visitas.\n",
    "Programar lo pedido en Map Reduce usando agregación para\n",
    "minimizar la cantidad de datos que deben transferirse en la\n",
    "red."
   ]
  },
  {
   "cell_type": "code",
   "execution_count": 29,
   "metadata": {},
   "outputs": [],
   "source": [
    "visitas=[[\"google.com\",37,'2018-02-01'],\n",
    "      [\"google.com\",100,'2018-03-01'],\n",
    "        [\"google.com\",1000,'2018-04-01'],\n",
    "        [\"yahoo.com\",317,'2018-02-01'],\n",
    "        [\"lanacion.com\",52,'2018-02-01'],\n",
    "        [\"spotify.com\",183,'2018-02-01'],\n",
    "        [\"clarin.com\",274,'2018-02-01'],\n",
    "        [\"lanacion.com\",337,'2018-03-01'],\n",
    "        [\"google.com\",37,'2018-05-01'],\n",
    "         [\"google.com\",57,'2018-06-01'],\n",
    "        [\"clarin.com\",300,'2018-03-01'],\n",
    "        [\"lanacion.com\",17,'2018-04-01'],\n",
    "         [\"yahoo.com\",67,'2018-03-01'],\n",
    "        [\"google.com\",31,'2018-07-01'],\n",
    "        [\"spotify.com\",19,'2018-02-01'],\n",
    "         [\"yahoo.com\",4000,'2018-04-01'],\n",
    "         [\"google.com\",3472,'2018-08-01'],\n",
    "         [\"spotify.com\",337,'2018-04-01'],\n",
    "         [\"lanacion.com\",17,'2018-06-01']]"
   ]
  },
  {
   "cell_type": "code",
   "execution_count": 30,
   "metadata": {},
   "outputs": [
    {
     "data": {
      "text/plain": [
       "[['google.com', 37, '2018-02-01'],\n",
       " ['google.com', 100, '2018-03-01'],\n",
       " ['google.com', 1000, '2018-04-01']]"
      ]
     },
     "execution_count": 30,
     "metadata": {},
     "output_type": "execute_result"
    }
   ],
   "source": [
    "visitas_rdd=sc.parallelize(visitas)\n",
    "visitas_rdd.take(3)"
   ]
  },
  {
   "cell_type": "code",
   "execution_count": 31,
   "metadata": {},
   "outputs": [],
   "source": [
    "respuesta_rdd=visitas_rdd.map(lambda x:(x[0],(x[2],x[1])))\\\n",
    "                .reduceByKey(lambda x,y: (x[0] if x[1] >= y[1] else y[0],max(x[1],y[1])))\\\n",
    "                .map(lambda x:(x[0],x[1][0],x[1][1]))"
   ]
  },
  {
   "cell_type": "code",
   "execution_count": 32,
   "metadata": {},
   "outputs": [
    {
     "data": {
      "text/plain": [
       "[('google.com', '2018-08-01', 3472),\n",
       " ('yahoo.com', '2018-04-01', 4000),\n",
       " ('lanacion.com', '2018-03-01', 337),\n",
       " ('spotify.com', '2018-04-01', 337),\n",
       " ('clarin.com', '2018-03-01', 300)]"
      ]
     },
     "execution_count": 32,
     "metadata": {},
     "output_type": "execute_result"
    }
   ],
   "source": [
    "respuesta_rdd.collect()"
   ]
  },
  {
   "cell_type": "code",
   "execution_count": 36,
   "metadata": {},
   "outputs": [],
   "source": [
    "#ottra forma\n",
    "respuesta_rdd=visitas_rdd.map(lambda x:(x[0],(x[2],x[1])))\\\n",
    "                .reduceByKey(lambda x,y: (x[0] if x[1] >= y[1] else y[0],x[1] if x[1] >= y[1] else y[1]))\\\n",
    "                .map(lambda x:(x[0],x[1][0],x[1][1]))"
   ]
  },
  {
   "cell_type": "code",
   "execution_count": 37,
   "metadata": {},
   "outputs": [
    {
     "data": {
      "text/plain": [
       "[('google.com', '2018-08-01', 3472),\n",
       " ('yahoo.com', '2018-04-01', 4000),\n",
       " ('lanacion.com', '2018-03-01', 337),\n",
       " ('spotify.com', '2018-04-01', 337),\n",
       " ('clarin.com', '2018-03-01', 300)]"
      ]
     },
     "execution_count": 37,
     "metadata": {},
     "output_type": "execute_result"
    }
   ],
   "source": [
    "respuesta_rdd.collect()"
   ]
  },
  {
   "cell_type": "markdown",
   "metadata": {},
   "source": [
    " # Parcial 1 c 2014 2da oportunidad\n",
    " ) Se tiene un archivo distribuido con información de una red\n",
    "social en la cual cada registro tiene información sobre un\n",
    "usuario y una lista de sus amigos y sus enemigos (user_id,\n",
    "vector_ids_amigos,vector_ids_enemigos). Queremos encontrar\n",
    "al usuario que figura en mas listas de enemigos, para\n",
    "designarlo el enemigo público número uno (***) (8 pts por\n",
    "programar lo pedido) (5 pts por programar la agregació\n",
    "\n",
    " "
   ]
  },
  {
   "cell_type": "code",
   "execution_count": null,
   "metadata": {},
   "outputs": [],
   "source": []
  },
  {
   "cell_type": "code",
   "execution_count": 18,
   "metadata": {},
   "outputs": [],
   "source": [
    "AmigosEnemigos=[[0,[1,2,4],[1,2,4]],\n",
    "                [1,[0,2,3],[0,6,1]],\n",
    "                [2,[1,2,4],[0,4,3]],\n",
    "                [3,[1,2,4],[0,5,6]],\n",
    "                [4,[5,2,4],[1,2,3]],\n",
    "                [5,[6,2,4],[1,0,7]],\n",
    "                [6,[5,2,4],[1,2,4]]]\n",
    "\n",
    "                \n",
    "                "
   ]
  },
  {
   "cell_type": "code",
   "execution_count": 19,
   "metadata": {},
   "outputs": [
    {
     "data": {
      "text/plain": [
       "[[0, [1, 2, 4], [1, 2, 4]],\n",
       " [1, [0, 2, 3], [0, 6, 1]],\n",
       " [2, [1, 2, 4], [0, 4, 3]],\n",
       " [3, [1, 2, 4], [0, 5, 6]],\n",
       " [4, [5, 2, 4], [1, 2, 3]],\n",
       " [5, [6, 2, 4], [1, 0, 7]],\n",
       " [6, [5, 2, 4], [1, 2, 4]]]"
      ]
     },
     "execution_count": 19,
     "metadata": {},
     "output_type": "execute_result"
    }
   ],
   "source": [
    "AmigosEnemigos"
   ]
  },
  {
   "cell_type": "code",
   "execution_count": 20,
   "metadata": {},
   "outputs": [],
   "source": [
    "enemigos_RDD=sc.parallelize(AmigosEnemigos)"
   ]
  },
  {
   "cell_type": "code",
   "execution_count": 21,
   "metadata": {},
   "outputs": [
    {
     "data": {
      "text/plain": [
       "[[0, [1, 2, 4], [1, 2, 4]], [1, [0, 2, 3], [0, 6, 1]]]"
      ]
     },
     "execution_count": 21,
     "metadata": {},
     "output_type": "execute_result"
    }
   ],
   "source": [
    "enemigos_RDD.take(2)"
   ]
  },
  {
   "cell_type": "code",
   "execution_count": 23,
   "metadata": {},
   "outputs": [
    {
     "data": {
      "text/plain": [
       "[(1, 1),\n",
       " (2, 1),\n",
       " (4, 1),\n",
       " (0, 1),\n",
       " (6, 1),\n",
       " (1, 1),\n",
       " (0, 1),\n",
       " (4, 1),\n",
       " (3, 1),\n",
       " (0, 1)]"
      ]
     },
     "execution_count": 23,
     "metadata": {},
     "output_type": "execute_result"
    }
   ],
   "source": [
    "enemigos_RDD.flatMap(lambda x:[(id,1) for id in x[2]]).take()"
   ]
  },
  {
   "cell_type": "code",
   "execution_count": 25,
   "metadata": {},
   "outputs": [
    {
     "data": {
      "text/plain": [
       "(1, 5)"
      ]
     },
     "execution_count": 25,
     "metadata": {},
     "output_type": "execute_result"
    }
   ],
   "source": [
    "enemigos_RDD.flatMap(lambda x:[(id,1) for id in x[2]])\\\n",
    "            .reduceByKey(lambda x,y: x+y)\\\n",
    "            .reduce(lambda x,y: x if x[1]>y[1] else y )"
   ]
  },
  {
   "cell_type": "code",
   "execution_count": null,
   "metadata": {},
   "outputs": [],
   "source": []
  }
 ],
 "metadata": {
  "kernelspec": {
   "display_name": "Python 3",
   "language": "python",
   "name": "python3"
  },
  "language_info": {
   "codemirror_mode": {
    "name": "ipython",
    "version": 3
   },
   "file_extension": ".py",
   "mimetype": "text/x-python",
   "name": "python",
   "nbconvert_exporter": "python",
   "pygments_lexer": "ipython3",
   "version": "3.7.1"
  }
 },
 "nbformat": 4,
 "nbformat_minor": 2
}
