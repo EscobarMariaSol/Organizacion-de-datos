{
 "cells": [
  {
   "cell_type": "code",
   "execution_count": 2,
   "metadata": {},
   "outputs": [],
   "source": [
    "import pandas as pd"
   ]
  },
  {
   "cell_type": "code",
   "execution_count": 3,
   "metadata": {
    "scrolled": true
   },
   "outputs": [],
   "source": [
    "import seaborn as sns"
   ]
  },
  {
   "cell_type": "code",
   "execution_count": 4,
   "metadata": {},
   "outputs": [],
   "source": [
    "import numpy as np"
   ]
  },
  {
   "cell_type": "code",
   "execution_count": 5,
   "metadata": {},
   "outputs": [],
   "source": [
    "import matplotlib.pyplot as plt"
   ]
  },
  {
   "cell_type": "code",
   "execution_count": 6,
   "metadata": {},
   "outputs": [],
   "source": [
    "inst = pd.read_csv(\"data/installs.csv\", dtype = {\"application_id\": np.int16, \"click_hash\": np.float16})"
   ]
  },
  {
   "cell_type": "code",
   "execution_count": 7,
   "metadata": {},
   "outputs": [
    {
     "data": {
      "text/plain": [
       "created               3412\n",
       "application_id        3412\n",
       "ref_type              3412\n",
       "ref_hash              3412\n",
       "click_hash               0\n",
       "attributed            3412\n",
       "implicit              3412\n",
       "device_countrycode    3412\n",
       "device_brand          1047\n",
       "device_model          3411\n",
       "session_user_agent    3364\n",
       "user_agent            1729\n",
       "event_uuid             865\n",
       "kind                   865\n",
       "wifi                  1729\n",
       "trans_id                 6\n",
       "ip_address            3412\n",
       "device_language       3378\n",
       "dtype: int64"
      ]
     },
     "execution_count": 7,
     "metadata": {},
     "output_type": "execute_result"
    }
   ],
   "source": [
    "inst.count()"
   ]
  },
  {
   "cell_type": "code",
   "execution_count": 8,
   "metadata": {},
   "outputs": [
    {
     "data": {
      "text/plain": [
       "3412"
      ]
     },
     "execution_count": 8,
     "metadata": {},
     "output_type": "execute_result"
    }
   ],
   "source": [
    "inst.ip_address.count()"
   ]
  },
  {
   "cell_type": "code",
   "execution_count": 9,
   "metadata": {},
   "outputs": [
    {
     "data": {
      "text/html": [
       "<div>\n",
       "<style scoped>\n",
       "    .dataframe tbody tr th:only-of-type {\n",
       "        vertical-align: middle;\n",
       "    }\n",
       "\n",
       "    .dataframe tbody tr th {\n",
       "        vertical-align: top;\n",
       "    }\n",
       "\n",
       "    .dataframe thead th {\n",
       "        text-align: right;\n",
       "    }\n",
       "</style>\n",
       "<table border=\"1\" class=\"dataframe\">\n",
       "  <thead>\n",
       "    <tr style=\"text-align: right;\">\n",
       "      <th></th>\n",
       "      <th>created</th>\n",
       "      <th>application_id</th>\n",
       "      <th>ref_type</th>\n",
       "      <th>ref_hash</th>\n",
       "      <th>click_hash</th>\n",
       "      <th>attributed</th>\n",
       "      <th>implicit</th>\n",
       "      <th>device_countrycode</th>\n",
       "      <th>device_brand</th>\n",
       "      <th>device_model</th>\n",
       "      <th>session_user_agent</th>\n",
       "      <th>user_agent</th>\n",
       "      <th>event_uuid</th>\n",
       "      <th>kind</th>\n",
       "      <th>wifi</th>\n",
       "      <th>trans_id</th>\n",
       "      <th>ip_address</th>\n",
       "      <th>device_language</th>\n",
       "    </tr>\n",
       "  </thead>\n",
       "  <tbody>\n",
       "    <tr>\n",
       "      <th>0</th>\n",
       "      <td>2019-03-13 01:43:33.445</td>\n",
       "      <td>0</td>\n",
       "      <td>1891515180541284343</td>\n",
       "      <td>8464844987297247076</td>\n",
       "      <td>NaN</td>\n",
       "      <td>False</td>\n",
       "      <td>False</td>\n",
       "      <td>6333597102633388268</td>\n",
       "      <td>3.083059e+17</td>\n",
       "      <td>4.445252e+18</td>\n",
       "      <td>NaN</td>\n",
       "      <td>NaN</td>\n",
       "      <td>NaN</td>\n",
       "      <td>NaN</td>\n",
       "      <td>NaN</td>\n",
       "      <td>NaN</td>\n",
       "      <td>5529284367937637301</td>\n",
       "      <td>NaN</td>\n",
       "    </tr>\n",
       "    <tr>\n",
       "      <th>1</th>\n",
       "      <td>2019-03-13 04:58:35.078</td>\n",
       "      <td>0</td>\n",
       "      <td>1891515180541284343</td>\n",
       "      <td>3250564871270161533</td>\n",
       "      <td>NaN</td>\n",
       "      <td>False</td>\n",
       "      <td>False</td>\n",
       "      <td>6333597102633388268</td>\n",
       "      <td>3.083059e+17</td>\n",
       "      <td>4.445252e+18</td>\n",
       "      <td>NaN</td>\n",
       "      <td>NaN</td>\n",
       "      <td>NaN</td>\n",
       "      <td>NaN</td>\n",
       "      <td>NaN</td>\n",
       "      <td>NaN</td>\n",
       "      <td>6098022721363533304</td>\n",
       "      <td>NaN</td>\n",
       "    </tr>\n",
       "    <tr>\n",
       "      <th>2</th>\n",
       "      <td>2019-03-13 04:20:57.666</td>\n",
       "      <td>0</td>\n",
       "      <td>1891515180541284343</td>\n",
       "      <td>7953318831018100268</td>\n",
       "      <td>NaN</td>\n",
       "      <td>False</td>\n",
       "      <td>True</td>\n",
       "      <td>6333597102633388268</td>\n",
       "      <td>5.137992e+17</td>\n",
       "      <td>6.026543e+18</td>\n",
       "      <td>HasOffers Mobile AppTracking v1.0</td>\n",
       "      <td>NaN</td>\n",
       "      <td>0bfa9b4c-e07a-4522-b32d-138e3165ac98</td>\n",
       "      <td>Open</td>\n",
       "      <td>NaN</td>\n",
       "      <td>NaN</td>\n",
       "      <td>4636407223847323867</td>\n",
       "      <td>3.301378e+18</td>\n",
       "    </tr>\n",
       "    <tr>\n",
       "      <th>3</th>\n",
       "      <td>2019-03-13 04:20:57.698</td>\n",
       "      <td>0</td>\n",
       "      <td>1891515180541284343</td>\n",
       "      <td>7953318831018100268</td>\n",
       "      <td>NaN</td>\n",
       "      <td>False</td>\n",
       "      <td>False</td>\n",
       "      <td>6333597102633388268</td>\n",
       "      <td>5.137992e+17</td>\n",
       "      <td>6.026543e+18</td>\n",
       "      <td>NaN</td>\n",
       "      <td>NaN</td>\n",
       "      <td>NaN</td>\n",
       "      <td>NaN</td>\n",
       "      <td>NaN</td>\n",
       "      <td>NaN</td>\n",
       "      <td>4636407223847323867</td>\n",
       "      <td>NaN</td>\n",
       "    </tr>\n",
       "    <tr>\n",
       "      <th>4</th>\n",
       "      <td>2019-03-10 22:24:56.684</td>\n",
       "      <td>0</td>\n",
       "      <td>1891515180541284343</td>\n",
       "      <td>8355110941557237501</td>\n",
       "      <td>NaN</td>\n",
       "      <td>False</td>\n",
       "      <td>True</td>\n",
       "      <td>6333597102633388268</td>\n",
       "      <td>1.083369e+18</td>\n",
       "      <td>7.876612e+18</td>\n",
       "      <td>HasOffers Mobile AppTracking v1.0</td>\n",
       "      <td>NaN</td>\n",
       "      <td>8f235a8c-41bf-4399-b33d-c41577c949b0</td>\n",
       "      <td>Open</td>\n",
       "      <td>NaN</td>\n",
       "      <td>NaN</td>\n",
       "      <td>685400811232710215</td>\n",
       "      <td>3.301378e+18</td>\n",
       "    </tr>\n",
       "  </tbody>\n",
       "</table>\n",
       "</div>"
      ],
      "text/plain": [
       "                   created  application_id             ref_type  \\\n",
       "0  2019-03-13 01:43:33.445               0  1891515180541284343   \n",
       "1  2019-03-13 04:58:35.078               0  1891515180541284343   \n",
       "2  2019-03-13 04:20:57.666               0  1891515180541284343   \n",
       "3  2019-03-13 04:20:57.698               0  1891515180541284343   \n",
       "4  2019-03-10 22:24:56.684               0  1891515180541284343   \n",
       "\n",
       "              ref_hash  click_hash  attributed  implicit   device_countrycode  \\\n",
       "0  8464844987297247076         NaN       False     False  6333597102633388268   \n",
       "1  3250564871270161533         NaN       False     False  6333597102633388268   \n",
       "2  7953318831018100268         NaN       False      True  6333597102633388268   \n",
       "3  7953318831018100268         NaN       False     False  6333597102633388268   \n",
       "4  8355110941557237501         NaN       False      True  6333597102633388268   \n",
       "\n",
       "   device_brand  device_model                 session_user_agent user_agent  \\\n",
       "0  3.083059e+17  4.445252e+18                                NaN        NaN   \n",
       "1  3.083059e+17  4.445252e+18                                NaN        NaN   \n",
       "2  5.137992e+17  6.026543e+18  HasOffers Mobile AppTracking v1.0        NaN   \n",
       "3  5.137992e+17  6.026543e+18                                NaN        NaN   \n",
       "4  1.083369e+18  7.876612e+18  HasOffers Mobile AppTracking v1.0        NaN   \n",
       "\n",
       "                             event_uuid  kind wifi trans_id  \\\n",
       "0                                   NaN   NaN  NaN      NaN   \n",
       "1                                   NaN   NaN  NaN      NaN   \n",
       "2  0bfa9b4c-e07a-4522-b32d-138e3165ac98  Open  NaN      NaN   \n",
       "3                                   NaN   NaN  NaN      NaN   \n",
       "4  8f235a8c-41bf-4399-b33d-c41577c949b0  Open  NaN      NaN   \n",
       "\n",
       "            ip_address  device_language  \n",
       "0  5529284367937637301              NaN  \n",
       "1  6098022721363533304              NaN  \n",
       "2  4636407223847323867     3.301378e+18  \n",
       "3  4636407223847323867              NaN  \n",
       "4   685400811232710215     3.301378e+18  "
      ]
     },
     "execution_count": 9,
     "metadata": {},
     "output_type": "execute_result"
    }
   ],
   "source": [
    "inst.head()"
   ]
  },
  {
   "cell_type": "code",
   "execution_count": 10,
   "metadata": {
    "scrolled": true
   },
   "outputs": [
    {
     "data": {
      "text/plain": [
       "array([nan, 'Dalvik/2.1.0 (Linux; U; Android 22; SM-J200M Build/LMY47X)',\n",
       "       'Dalvik/2.1.0 (Linux; U; Android 8.0.0; SM-G570M Build/R16NW)',\n",
       "       'Dalvik/2.1.0 (Linux; U; Android 6.0; MotoG3-TE Build/MPDS24.65-33-1-30)',\n",
       "       'Dalvik/2.1.0 (Linux; U; Android 8.1.0; Redmi 6 MIUI/V10.2.5.0.OCGMIXM)',\n",
       "       'Dalvik/2.1.0 (Linux; U; Android 5.1.1; SM-G531H Build/LMY48B)',\n",
       "       'Dalvik/2.1.0 (Linux; U; Android 7.1.1; Moto G Play Build/NPIS26.48-43-2)',\n",
       "       'Dalvik/2.1.0 (Linux; U; Android 7.0; LG-M400 Build/NRD90U)',\n",
       "       'Dalvik/2.1.0 (Linux; U; Android 8.0.0; SM-A605GN Build/R16NW)',\n",
       "       'Dalvik/2.1.0 (Linux; U; Android 7.1.2; LM-X410.F Build/N2G47H)',\n",
       "       'Dalvik/2.1.0 (Linux; U; Android 9; moto g(6) plus Build/PPWS29.116-16-2)',\n",
       "       'Dalvik/2.1.0 (Linux; U; Android 9; motorola one Build/PPKS29.68-16-21-3)',\n",
       "       'Dalvik/2.1.0 (Linux; U; Android 5.1.1; SM-J320M Build/LMY47V)',\n",
       "       'Dalvik/2.1.0 (Linux; U; Android 7.0; LG-M250 Build/NRD90U)',\n",
       "       'Dalvik/2.1.0 (Linux; U; Android 8.0.0; Moto Z2 Play Build/OPSS27.76-12-25-13)',\n",
       "       'Dalvik/2.1.0 (Linux; U; Android 5.1.1; SM-G531BT Build/LMY48B)',\n",
       "       'Dalvik/2.1.0 (Linux; U; Android 7.1.1; SM-J250M Build/NMF26X)',\n",
       "       'Dalvik/2.1.0 (Linux; U; Android 7.1.1; Moto E (4) Plus Build/NMA26.42-167)',\n",
       "       'Dalvik/2.1.0 (Linux; U; Android 6.0.1; SM-J510MN Build/MMB29M)',\n",
       "       'Dalvik/2.1.0 (Linux; U; Android 8.0.0; SM-J810M Build/R16NW)',\n",
       "       'Dalvik/2.1.0 (Linux; U; Android 8.0.0; moto g(6) play Build/OPPS27.91-177-2)',\n",
       "       'Dalvik/2.1.0 (Linux; U; Android 8.0.0; SM-J400M Build/R16NW)',\n",
       "       'Dalvik/2.1.0 (Linux; U; Android 8.1.0; SM-J530G Build/M1AJQ)',\n",
       "       'Dalvik/2.1.0 (Linux; U; Android 6.0.1; SM-G532M Build/MMB29T)',\n",
       "       'Dalvik/2.1.0 (Linux; U; Android 7.0; 9008J Build/NRD90M)',\n",
       "       'Dalvik/2.1.0 (Linux; U; Android 8.1.0; Redmi S2 MIUI/V10.2.1.0.OEFMIXM)',\n",
       "       'Dalvik/1.6.0 (Linux; U; Android 4.3; SM-G3502T Build/JLS36C)',\n",
       "       'Dalvik/2.1.0 (Linux; U; Android 5.1.1; SM-J200BT Build/LMY47X)',\n",
       "       'Dalvik/2.1.0 (Linux; U; Android 6.0; 4034E Build/MRA58K)',\n",
       "       'Dalvik/1.6.0 (Linux; U; Android 4.4.2; GT-S5312C Build/KOT49H)',\n",
       "       'Dalvik/2.1.0 (Linux; U; Android 8.0.0; SM-J600GT Build/R16NW)',\n",
       "       'Dalvik/2.1.0 (Linux; U; Android 9; moto g(6) play Build/PPP29.55-25)',\n",
       "       'Dalvik/2.1.0 (Linux; U; Android 5.0; ASUS_Z00AD Build/LRX21V)',\n",
       "       'Dalvik/2.1.0 (Linux; U; Android 6.0; MotoG3 Build/MPIS24.65-33.1-2-16)',\n",
       "       'Dalvik/2.1.0 (Linux; U; Android 9; motorola one Build/PPKS29.68-16-21-2)',\n",
       "       'Dalvik/2.1.0 (Linux; U; Android 6.0.1; SM-G532MT Build/MMB29T)',\n",
       "       'Dalvik/2.1.0 (Linux; U; Android 5.0.1; LG-H502 Build/LRX21Y)',\n",
       "       'Dalvik/2.1.0 (Linux; U; Android 7.0; Lenovo K33b36 Build/NRD90N)',\n",
       "       'Dalvik/2.1.0 (Linux; U; Android 8.0.0; Moto Z2 Play Build/OPSS27.76-12-25-15)',\n",
       "       'Dalvik/1.6.0 (Linux; U; Android 4.1.2; GT-I8552B Build/JZO54K)',\n",
       "       'Dalvik/2.1.0 (Linux; U; Android 8.0.0; SM-G935F Build/R16NW)',\n",
       "       'Dalvik/2.1.0 (Linux; U; Android 7.0; SM-G928G Build/NRD90M)',\n",
       "       'Dalvik/2.1.0 (Linux; U; Android 5.0.2; Redmi Note 3 MIUI/77.0.19.0.LHNCNCJ)',\n",
       "       'Dalvik/2.1.0 (Linux; U; Android 5.1.1; SM-J120H Build/LMY47V)',\n",
       "       'Dalvik/2.1.0 (Linux; U; Android 8.1.0; Moto G (5S) Build/OPPS28.65-37-7-2)',\n",
       "       'Dalvik/2.1.0 (Linux; U; Android 8.0.0; moto g(6) play Build/OPP27.91-87)',\n",
       "       'Dalvik/2.1.0 (Linux; U; Android 8.0.0; SM-A750G Build/R16NW)',\n",
       "       'Dalvik/2.1.0 (Linux; U; Android 8.0.0; LG-H870I Build/OPR1.170623.032)',\n",
       "       'Dalvik/2.1.0 (Linux; U; Android 7.1.1; SM-J510MN Build/NMF26X)',\n",
       "       'Dalvik/2.1.0 (Linux; U; Android 8.1.0; Moto G (5) Build/OPPS28.85-16-4)',\n",
       "       'Dalvik/2.1.0 (Linux; U; Android 8.1.0; Moto G (5) Plus Build/OPSS28.85-13-5)',\n",
       "       'Dalvik/2.1.0 (Linux; U; Android 7.0; Moto C Plus Build/NRD90M.06.045)',\n",
       "       'Dalvik/2.1.0 (Linux; U; Android 7.0; Moto G (5) Build/NPP25.137-93-2)',\n",
       "       'Dalvik/2.1.0 (Linux; U; Android 7.0; Moto G (5) Build/NPPS25.137-93-2-5)',\n",
       "       'Dalvik/2.1.0 (Linux; U; Android 7.0; MS60F Build/NRD90M)',\n",
       "       'Dalvik/2.1.0 (Linux; U; Android 6.0; 5010E Build/MRA58K)',\n",
       "       'Dalvik/2.1.0 (Linux; U; Android 8.0.0; moto g(6) play Build/OPP27.91-177)',\n",
       "       'Dalvik/2.1.0 (Linux; U; Android 6.0; LG-K430 Build/MRA58K)',\n",
       "       'Dalvik/2.1.0 (Linux; U; Android 8.0.0; SM-G611MT Build/R16NW)',\n",
       "       'Dalvik/2.1.0 (Linux; U; Android 6.0.1; SM-J500M Build/MMB29M)',\n",
       "       'Dalvik/2.1.0 (Linux; U; Android 8.1.0; SM-G610M Build/M1AJQ)',\n",
       "       'Dalvik/2.1.0 (Linux; U; Android 6.0.1; LG-K200 Build/MXB48T)',\n",
       "       'Dalvik/2.1.0 (Linux; U; Android 8.1.0; ASUS_X00LD Build/OPM1.171019.011)',\n",
       "       'Dalvik/2.1.0 (Linux; U; Android 5.1.1; ASUS_X013D Build/LMY47V)',\n",
       "       'Dalvik/2.1.0 (Linux; U; Android 8.1.0; SM-J710MN Build/M1AJQ)',\n",
       "       'Dalvik/2.1.0 (Linux; U; Android 8.1.0; SM-J701MT Build/M1AJQ)',\n",
       "       'Dalvik/2.1.0 (Linux; U; Android 5.1.1; LG-K130 Build/LMY47V)',\n",
       "       'Dalvik/2.1.0 (Linux; U; Android 5.1.1; SM-J105B Build/LMY47V)',\n",
       "       'Dalvik/2.1.0 (Linux; U; Android 7.1.2; LM-X210 Build/N2G47H)',\n",
       "       'Dalvik/2.1.0 (Linux; U; Android 5.1; XT1033 Build/LPBS23.13-56-2)',\n",
       "       'Dalvik/1.6.0 (Linux; U; Android 4.4.2; 4009E Build/KOT49H)',\n",
       "       'Dalvik/2.1.0 (Linux; U; Android 7.0; LG-M320 Build/NRD90U)',\n",
       "       'Mozilla/5.0 (Linux; U; Android 6.0; pt-br; 5045J Build/MRA58K) AppleWebKit/537.36 (KHTML, like Gecko) Version/4.0 Mobile Safari/537.36',\n",
       "       'MercadoPago/2.58.0.2 CFNetwork/976 Darwin/18.2.0',\n",
       "       'MercadoPago/2.57.0.2 CFNetwork/976 Darwin/18.2.0',\n",
       "       'MercadoPago/2.58.0.2 CFNetwork/974.2.1 Darwin/18.0.0',\n",
       "       'MercadoPago/2.58.0.2 CFNetwork/897.15 Darwin/17.5.0',\n",
       "       'MercadoPago/2.58.0.2 CFNetwork/978.0.6 Darwin/18.5.0',\n",
       "       'MercadoPago/2.58.0.2 CFNetwork/894 Darwin/17.4.0',\n",
       "       'MercadoPago/2.58.0.2 CFNetwork/975.0.3 Darwin/18.2.0',\n",
       "       'MercadoPago/2.56.0.0 CFNetwork/976 Darwin/18.2.0',\n",
       "       'MercadoPago/2.58.0.2 CFNetwork/901.1 Darwin/17.6.0',\n",
       "       'MercadoPago/2.57.0.2 CFNetwork/889.9 Darwin/17.2.0',\n",
       "       'MercadoPago/2.58.0.2 CFNetwork/893.14.2 Darwin/17.3.0',\n",
       "       'MercadoPago/2.58.0.2 CFNetwork/811.5.4 Darwin/16.7.0',\n",
       "       'MercadoPago/2.58.0.2 CFNetwork/902.2 Darwin/17.7.0',\n",
       "       'MercadoPago/2.39.0.1 CFNetwork/976 Darwin/18.2.0',\n",
       "       'MercadoPago/2.57.0.2 CFNetwork/974.2.1 Darwin/18.0.0',\n",
       "       'MercadoPago/2.57.0.2 CFNetwork/897.15 Darwin/17.5.0',\n",
       "       'MercadoPago/2.57.0.2 CFNetwork/975.0.3 Darwin/18.2.0',\n",
       "       'MercadoPago/2.57.0.2 CFNetwork/902.2 Darwin/17.7.0',\n",
       "       'MercadoPago/2.57.0.2 CFNetwork/811.5.4 Darwin/16.7.0',\n",
       "       'MercadoPago/2.45.1.6 CFNetwork/897.15 Darwin/17.5.0',\n",
       "       'MercadoPago/2.57.0.2 CFNetwork/894 Darwin/17.4.0',\n",
       "       'MercadoPago/2.56.0.0 CFNetwork/975.0.3 Darwin/18.2.0',\n",
       "       'MercadoPago/2.57.0.2 CFNetwork/901.1 Darwin/17.6.0',\n",
       "       'MercadoPago/2.32.0.8 CFNetwork/976 Darwin/18.2.0',\n",
       "       'MercadoPago/2.58.0.2 CFNetwork/889.9 Darwin/17.2.0',\n",
       "       'MercadoPago/2.58.0.2 CFNetwork/808.2.16 Darwin/16.3.0',\n",
       "       'MercadoPago/2.49.0.4 CFNetwork/902.2 Darwin/17.7.0',\n",
       "       'Dalvik/2.1.0 (Linux; U; Android 9; moto g(6) plus Build/PPW29.116-16)',\n",
       "       'Dalvik/2.1.0 (Linux; U; Android 8.0.0; SM-G9600 Build/R16NW)',\n",
       "       'Dalvik/2.1.0 (Linux; U; Android 8.1.0; SM-J415G Build/M1AJQ)',\n",
       "       'Dalvik/2.1.0 (Linux; U; Android 8.0.0; moto e5 Build/OPPS27.91-176-2)',\n",
       "       'Dalvik/2.1.0 (Linux; U; Android 6.0; LG-X230 Build/MRA58K)',\n",
       "       'Dalvik/2.1.0 (Linux; U; Android 6.0.1; ASUS_A007 Build/MMB29P)',\n",
       "       'Dalvik/2.1.0 (Linux; U; Android 6.0.1; SM-G800H Build/MMB29M)',\n",
       "       'Dalvik/1.6.0 (Linux; U; Android 4.4.2; SM-G110B Build/KOT49H)',\n",
       "       'Dalvik/2.1.0 (Linux; U; Android 6.0.1; LG-M154 Build/MXB48T)',\n",
       "       'Dalvik/2.1.0 (Linux; U; Android 5.1; XT1058 Build/LPAS23.12-21.7-1)',\n",
       "       'Dalvik/2.1.0 (Linux; U; Android 8.1.0; SM-J260M Build/M1AJB)',\n",
       "       'Dalvik/2.1.0 (Linux; U; Android 6.0; LGLS991 Build/MRA58K)',\n",
       "       'Dalvik/2.1.0 (Linux; U; Android 9; SM-G950F Build/PPR1.180610.011)',\n",
       "       'Dalvik/2.1.0 (Linux; U; Android 5.1.1; SM-J320FN Build/LMY47V)',\n",
       "       'Dalvik/2.1.0 (Linux; U; Android 6.0.1; Lenovo TB-X103F Build/LenovoTB-X103F)',\n",
       "       'NextGen/1261 CFNetwork/976 Darwin/18.2.0',\n",
       "       'NextGen/1270 CFNetwork/976 Darwin/18.2.0',\n",
       "       'NextGen/1270 CFNetwork/975.0.3 Darwin/18.2.0',\n",
       "       'PeixeUrbano/2 CFNetwork/894 Darwin/17.4.0',\n",
       "       'PeixeUrbano/2 CFNetwork/976 Darwin/18.2.0',\n",
       "       'Dalvik/2.1.0 (Linux; U; Android 8.1.0; M7-3G-PLUS Build/v5_20180906)',\n",
       "       'Dalvik/2.1.0 (Linux; U; Android 6.0; LG-K350 Build/MRA58K)',\n",
       "       'Dalvik/2.1.0 (Linux; U; Android 8.0.0; SM-A920F Build/R16NW)',\n",
       "       'Dalvik/2.1.0 (Linux; U; Android 8.1.0; moto e5 play Build/OPGS28.54-53-2)',\n",
       "       'Dalvik/2.1.0 (Linux; U; Android 8.1.0; SM-J730G Build/M1AJQ)',\n",
       "       'Dalvik/2.1.0 (Linux; U; Android 7.1.2; Redmi 4A MIUI/V10.2.1.0.NCCMIXM)',\n",
       "       'Dalvik/2.1.0 (Linux; U; Android 8.0.0; SM-G930F Build/R16NW)',\n",
       "       'Dalvik/2.1.0 (Linux; U; Android 5.1; ASUS_Z00VD Build/LMY47I)',\n",
       "       'Dalvik/2.1.0 (Linux; U; Android 5.1.1; SM-J700M Build/LMY48B)',\n",
       "       'Dalvik/2.1.0 (Linux; U; Android 5.1; 8050E Build/LMY47I)',\n",
       "       'Dalvik/2.1.0 (Linux; U; Android 6.0.1; LG-K220 Build/MXB48T)',\n",
       "       'Dalvik/2.1.0 (Linux; U; Android 6.0.1; SM-J700M Build/MMB29K)',\n",
       "       'Dalvik/1.6.0 (Linux; U; Android 4.4.4; SM-G316M Build/KTU84P)',\n",
       "       'Dalvik/1.6.0 (Linux; U; Android 4.4.4; SM-G530H Build/KTU84P)',\n",
       "       'Dalvik/2.1.0 (Linux; U; Android 7.1.1; ASUS_X00DDA Build/NMF26F)',\n",
       "       'Dalvik/2.1.0 (Linux; U; Android 5.1.1; Lenovo A6020l36 Build/LMY47V)',\n",
       "       'Dalvik/2.1.0 (Linux; U; Android 8.0.0; moto g(6) play Build/OPP27.91-143)',\n",
       "       'Dalvik/2.1.0 (Linux; U; Android 8.0.0; ASUS_Z017DC Build/OPR1.170623.026)',\n",
       "       'Dalvik/2.1.0 (Linux; U; Android 7.0; Positivo Slim Build/NRD90M)',\n",
       "       'Dalvik/2.1.0 (Linux; U; Android 7.0; SM-J710MN Build/NRD90M)',\n",
       "       'Dalvik/2.1.0 (Linux; U; Android 6.0.1; SM-J500H Build/MMB29M)',\n",
       "       'Dalvik/2.1.0 (Linux; U; Android 9; HMA-L09 Build/HUAWEIHMA-L09)',\n",
       "       'Dalvik/2.1.0 (Linux; U; Android 6.0; Bluboo Maya Max Build/MRA58K)',\n",
       "       'Dalvik/2.1.0 (Linux; U; Android 7.0; Redmi Note 4X MIUI/V9.5.2.0.NCFCNFA)',\n",
       "       'Dalvik/2.1.0 (Linux; U; Android 7.0; LG-M430 Build/NRD90U)',\n",
       "       'Dalvik/2.1.0 (Linux; U; Android 5.0.2; SM-A300M Build/LRX22G)',\n",
       "       'Dalvik/2.1.0 (Linux; U; Android 7.1.1; LG-M700 Build/NMF26X)',\n",
       "       'Dalvik/2.1.0 (Linux; U; Android 8.0.0; SM-N950F Build/R16NW)',\n",
       "       'Dalvik/1.6.0 (Linux; U; Android 4.1.2; GT-I8262B Build/JZO54K)',\n",
       "       'Dalvik/1.6.0 (Linux; U; Android 4.4.4; XT1032 Build/KXB21.14-L1.40)',\n",
       "       'Dalvik/2.1.0 (Linux; U; Android 8.1.0; SM-J410G Build/M1AJB)',\n",
       "       'Dalvik/2.1.0 (Linux; U; Android 5.1.1; LG-K120 Build/LMY47V)',\n",
       "       'Dalvik/2.1.0 (Linux; U; Android 8.0.0; ANE-LX3 Build/HUAWEIANE-LX3)',\n",
       "       'Dalvik/2.1.0 (Linux; U; Android 8.0.0; ASUS_Z012DC Build/OPR1.170623.026)',\n",
       "       'Dalvik/2.1.0 (Linux; U; Android 6.0; LG-X240 Build/MRA58K)',\n",
       "       'Dalvik/2.1.0 (Linux; U; Android 8.0.0; MI 6 MIUI/V10.2.1.0.OCAMIXM)',\n",
       "       'Dalvik/1.6.0 (Linux; U; Android 4.4.4; SM-T116BU Build/KTU84P)',\n",
       "       'Dalvik/2.1.0 (Linux; U; Android 5.0.2; SM-G360BT Build/LRX22G)',\n",
       "       'Dalvik/2.1.0 (Linux; U; Android 5.1; Lenovo A7010a48 Build/LMY47D)',\n",
       "       'Dalvik/1.6.0 (Linux; U; Android 4.1.2; XT890 Build/9.8.2I-50_SML-29)',\n",
       "       'Dalvik/2.1.0 (Linux; U; Android 5.0.2; SM-G530BT Build/LRX22G)',\n",
       "       'Dalvik/2.1.0 (Linux; U; Android 9; SM-G9650 Build/PPR1.180610.011)',\n",
       "       'Dalvik/1.6.0 (Linux; U; Android 4.4.2; XT1032 Build/KXB20.9-1.10-1.18)',\n",
       "       'Dalvik/1.6.0 (Linux; U; Android 4.2.2; GT-I9063T Build/JDQ39)',\n",
       "       'Dalvik/2.1.0 (Linux; U; Android 8.0.0; SM-G9650 Build/R16NW)',\n",
       "       'Dalvik/2.1.0 (Linux; U; Android 6.0; XI-TAB3G10 Build/LMY47I)',\n",
       "       'Dalvik/2.1.0 (Linux; U; Android 8.0.0; SM-A910F Build/R16NW)',\n",
       "       'Dalvik/2.1.0 (Linux; U; Android 7.0; Moto G (4) Build/NPJS25.93-14-18)',\n",
       "       'Dalvik/2.1.0 (Linux; U; Android 8.0.0; RNE-L03 Build/HUAWEIRNE-L03)',\n",
       "       'Dalvik/1.6.0 (Linux; U; Android 4.3; SM-G7102T Build/JLS36C)',\n",
       "       'Dalvik/2.1.0 (Linux; U; Android 6.0.1; ASUS_Z00XS Build/MMB29P)',\n",
       "       'Dalvik/1.6.0 (Linux; U; Android 4.4.2; Tablet DL 3503 Build/KOT49H)',\n",
       "       'Dalvik/2.1.0 (Linux; U; Android 8.0.0; SM-G950F Build/R16NW)',\n",
       "       'takealot/201812181130 CFNetwork/976 Darwin/18.2.0',\n",
       "       'HotelUrbano/2189 CFNetwork/902.2 Darwin/17.7.0',\n",
       "       'HotelUrbano/2189 CFNetwork/976 Darwin/18.2.0',\n",
       "       'HotelUrbano/2189 CFNetwork/897.15 Darwin/17.5.0',\n",
       "       'MercadoPago/2.43.0.2 CFNetwork/902.2 Darwin/17.7.0',\n",
       "       'MercadoPago/2.59.0.1 CFNetwork/976 Darwin/18.2.0',\n",
       "       'MercadoPago/2.59.0.1 CFNetwork/902.2 Darwin/17.7.0',\n",
       "       'MercadoPago/2.59.0.1 CFNetwork/811.5.4 Darwin/16.7.0',\n",
       "       'MercadoPago/2.59.0.1 CFNetwork/808.3 Darwin/16.3.0',\n",
       "       'MercadoPago/2.59.0.1 CFNetwork/978.0.5 Darwin/18.5.0',\n",
       "       'MercadoPago/2.59.0.1 CFNetwork/901.1 Darwin/17.6.0',\n",
       "       'MercadoPago/2.59.0.1 CFNetwork/974.2.1 Darwin/18.0.0',\n",
       "       'MercadoPago/2.59.0.1 CFNetwork/975.0.3 Darwin/18.2.0',\n",
       "       'MercadoPago/2.59.0.1 CFNetwork/897.15 Darwin/17.5.0',\n",
       "       'Dalvik/2.1.0 (Linux; U; Android 5.1.1; SM-J111M Build/LMY47V)',\n",
       "       'Dalvik/2.1.0 (Linux; U; Android 8.0.0; moto g(6) Build/OPSS27.82-87-3)',\n",
       "       'Dalvik/2.1.0 (Linux; U; Android 6.0.1; SM-G900M Build/MMB29M)',\n",
       "       'Dalvik/2.1.0 (Linux; U; Android 7.1.1; Moto E (4) Plus Build/NMA26.42-162)',\n",
       "       'Dalvik/2.1.0 (Linux; U; Android 7.1.1; Moto E (4) Build/NMA26.42-167)',\n",
       "       'Dalvik/2.1.0 (Linux; U; Android 5.0.1; LG-H326 Build/LRX21Y)',\n",
       "       'Dalvik/2.1.0 (Linux; U; Android 9; Mi A1 MIUI/V10.0.5.0.PDHMIXM)',\n",
       "       'Dalvik/2.1.0 (Linux; U; Android 7.0; Redmi Note 4 MIUI/V10.2.3.0.NCFMIXM)',\n",
       "       'Dalvik/2.1.0 (Linux; U; Android 7.0; Life One X3 Build/NRD90M)',\n",
       "       'Dalvik/2.1.0 (Linux; U; Android 5.1; HUAWEI LUA-L03 Build/HUAWEILUA-L03)',\n",
       "       'Dalvik/2.1.0 (Linux; U; Android 9; ONEPLUS A6013 Build/PKQ1.180716.001)',\n",
       "       'Dalvik/2.1.0 (Linux; U; Android 9; SM-N960F Build/PPR1.180610.011)',\n",
       "       'Dalvik/2.1.0 (Linux; U; Android 7.1.2; Redmi 4X MIUI/V10.1.1.0.NAMMIFI)',\n",
       "       'Dalvik/2.1.0 (Linux; U; Android 7.0; SM-G930F Build/NRD90M)',\n",
       "       'Dalvik/2.1.0 (Linux; U; Android 5.0; ALE-L23 Build/HuaweiALE-L23)',\n",
       "       'Dalvik/2.1.0 (Linux; U; Android 8.0.0; SM-J600G Build/R16NW)',\n",
       "       'Dalvik/2.1.0 (Linux; U; Android 8.0.0; SM-G955F Build/R16NW)',\n",
       "       'Dalvik/2.1.0 (Linux; U; Android 7.0; SM-A510M Build/NRD90M)',\n",
       "       'Dalvik/2.1.0 (Linux; U; Android 8.1.0; Redmi Note 5 MIUI/V10.2.1.0.OEIMIXM)',\n",
       "       'Dalvik/2.1.0 (Linux; U; Android 8.1.0; SM-J610G Build/M1AJQ)',\n",
       "       'Dalvik/2.1.0 (Linux; U; Android 8.1.0; MI MAX 3 MIUI/V10.2.1.0.OEDMIFK)',\n",
       "       'Dalvik/2.1.0 (Linux; U; Android 5.0; SM-G900M Build/LRX21T)',\n",
       "       'Dalvik/2.1.0 (Linux; U; Android 7.1.2; Redmi Note 5A Prime MIUI/V10.2.1.0.NDKMIXM)',\n",
       "       'Dalvik/1.6.0 (Linux; U; Android 4.4.4; SM-T113NU Build/KTU84P)',\n",
       "       'Dalvik/2.1.0 (Linux; U; Android 7.0; Redmi Note 4 MIUI/8.12.20)',\n",
       "       'Dalvik/2.1.0 (Linux; U; Android 6.0; CAM-L03 Build/HUAWEICAM-L03)',\n",
       "       'Dalvik/1.6.0 (Linux; U; Android 4.4.2; SM-T535 Build/KOT49H)',\n",
       "       'Dalvik/2.1.0 (Linux; U; Android 7.1.1; TA-1038 Build/NMF26O)',\n",
       "       'Dalvik/2.1.0 (Linux; U; Android 8.0.0; moto g(6) Build/OPS27.82-87)',\n",
       "       'Dalvik/2.1.0 (Linux; U; Android 7.0; Vivo 8 Build/NRD90M)',\n",
       "       'Dalvik/1.6.0 (Linux; U; Android 4.4.4; SM-T560 Build/KTU84P)',\n",
       "       'Dalvik/2.1.0 (Linux; U; Android 5.1.1; ZTE N939Sc Build/LMY47V)',\n",
       "       'Dalvik/2.1.0 (Linux; U; Android 9; EML-L09 Build/HUAWEIEML-L09)',\n",
       "       'Dalvik/2.1.0 (Linux; U; Android 8.1.0; Moto G (5S) Build/OPP28.65-37-7)',\n",
       "       'Dalvik/2.1.0 (Linux; U; Android 7.1.1; Moto X Play Build/NPD26.48-24-1)',\n",
       "       'Dalvik/2.1.0 (Linux; U; Android 8.0.0; SM-A520F Build/R16NW)',\n",
       "       'Dalvik/2.1.0 (Linux; U; Android 7.0; Moto G (4) Build/NPJS25.93-14-13)',\n",
       "       'Dalvik/2.1.0 (Linux; U; Android 8.1.0; Moto G (5S) Plus Build/OPSS28.65-36-6)',\n",
       "       'Dalvik/2.1.0 (Linux; U; Android 8.0.0; SM-A750GN Build/R16NW)',\n",
       "       'Dalvik/2.1.0 (Linux; U; Android 8.0.0; RNE-L23 Build/HUAWEIRNE-L23)',\n",
       "       'Dalvik/1.6.0 (Linux; U; Android 7.0; A985P Build/KOT49H)',\n",
       "       'Dalvik/2.1.0 (Linux; U; Android 7.0; LG-H910 Build/NRD90M)',\n",
       "       'Dalvik/2.1.0 (Linux; U; Android 5.0.2; SM-G360F Build/LRX22G)',\n",
       "       'Dalvik/2.1.0 (Linux; U; Android 8.1.0; SNE-LX3 Build/HUAWEISNE-LX3)',\n",
       "       'Dalvik/2.1.0 (Linux; U; Android 6.0; HUAWEI VNS-L23 Build/HUAWEIVNS-L23)',\n",
       "       'Dalvik/2.1.0 (Linux; U; Android 6.0.1; Redmi 3S MIUI/V7.5.8.0.MALMIDE)',\n",
       "       'Dalvik/2.1.0 (Linux; U; Android 7.0; SM-J701MT Build/NRD90M)',\n",
       "       'Dalvik/2.1.0 (Linux; U; Android 9; Mi A2 Lite Build/PKQ1.180917.001)',\n",
       "       'Dalvik/2.1.0 (Linux; U; Android 7.0; SM-N920G Build/NRD90M)',\n",
       "       'Dalvik/2.1.0 (Linux; U; Android 9; TA-1025 Build/PKQ1.181105.001)',\n",
       "       'Dalvik/2.1.0 (Linux; U; Android 7.0; SM-G950F Build/NRD90M)',\n",
       "       'Dalvik/2.1.0 (Linux; U; Android 8.0.0; XT1635-02 Build/OPNS27.76-12-22-9)',\n",
       "       'Dalvik/2.1.0 (Linux; U; Android 7.0; SM-G570M Build/NRD90M)',\n",
       "       'Dalvik/2.1.0 (Linux; U; Android 7.0; TRT-LX3 Build/HUAWEITRT-LX3)',\n",
       "       'Dalvik/2.1.0 (Linux; U; Android 9; SM-N950F Build/PPR1.180610.011)',\n",
       "       'Dalvik/2.1.0 (Linux; U; Android 8.1.0; Moto G (5) Plus Build/OPSS28.85-17-4)',\n",
       "       'Dalvik/2.1.0 (Linux; U; Android 7.1.2; Redmi Note 5A MIUI/V10.2.1.0.NDFMIXM)',\n",
       "       'Dalvik/2.1.0 (Linux; U; Android 9; SM-G960F Build/PPR1.180610.011)',\n",
       "       'Dalvik/2.1.0 (Linux; U; Android 7.0; SM-G920I Build/NRD90M)',\n",
       "       'Dalvik/2.1.0 (Linux; U; Android 9; Mi A2 Build/PKQ1.180904.001)',\n",
       "       'Dalvik/2.1.0 (Linux; U; Android 6.0.1; SM-N910C Build/MMB29K)',\n",
       "       'Dalvik/2.1.0 (Linux; U; Android 8.1.0; Moto G (5S) Plus Build/OPSS28.65-36-9)',\n",
       "       'Dalvik/2.1.0 (Linux; U; Android 7.1.2; Redmi 4X MIUI/V9.6.2.0.NAMMIFD)',\n",
       "       'Dalvik/2.1.0 (Linux; U; Android 6.0; LG-H540 Build/MRA58K)',\n",
       "       'Dalvik/2.1.0 (Linux; U; Android 7.1.2; Redmi 4A MIUI/V9.6.5.0.NCCMIFD)',\n",
       "       'NextGen/1204 CFNetwork/976 Darwin/18.2.0',\n",
       "       'NextGen/1270 CFNetwork/811.5.4 Darwin/16.7.0',\n",
       "       'NextGen/1230.4 CFNetwork/974.2.1 Darwin/18.0.0',\n",
       "       'HotelUrbano/2189 CFNetwork/811.5.4 Darwin/16.7.0',\n",
       "       'Dalvik/2.1.0 (Linux; U; Android 6.0; XT1068 Build/MPB24.65-34-3)',\n",
       "       'Dalvik/2.1.0 (Linux; U; Android 8.0.0; SM-A730F Build/R16NW)',\n",
       "       'Dalvik/2.1.0 (Linux; U; Android 8.1.0; ASUS_X00TDB Build/OPM1)',\n",
       "       'Dalvik/2.1.0 (Linux; U; Android 6.0; LG-D855 Build/MRA58K)',\n",
       "       'Dalvik/2.1.0 (Linux; U; Android 7.0; X203-B Build/NRD90M)',\n",
       "       'Dalvik/2.1.0 (Linux; U; Android 8.1.0; DRA-LX3 Build/HUAWEIDRA-LX3)',\n",
       "       'Dalvik/2.1.0 (Linux; U; Android 5.1; ZTE Blade L5 Build/LMY47I)',\n",
       "       'Dalvik/2.1.0 (Linux; U; Android 5.0.2; S455 Build/LRX22G)',\n",
       "       'Dalvik/2.1.0 (Linux; U; Android 6.0.1; SM-G600FY Build/MMB29M)',\n",
       "       'Dalvik/2.1.0 (Linux; U; Android 5.0; LG-X170fTV Build/LRX21M)',\n",
       "       'Dalvik/2.1.0 (Linux; U; Android 6.0; XT1069 Build/MPB24.65-34-3)',\n",
       "       'Dalvik/2.1.0 (Linux; U; Android 6.0; moto g6 Build/MRA58K)',\n",
       "       'Dalvik/2.1.0 (Linux; U; Android 7.0; Moto G (5) Build/NPP25.137-93)',\n",
       "       'Dalvik/2.1.0 (Linux; U; Android 5.1.1; C6806 Build/14.6.A.1.236)',\n",
       "       'Dalvik/2.1.0 (Linux; U; Android 6.0.1; TX2 Build/MXC89L)',\n",
       "       'Dalvik/1.6.0 (Linux; U; Android 4.4.2; LG-H222 Build/KOT49I)',\n",
       "       'Dalvik/2.1.0 (Linux; U; Android 8.0.0; moto g(6) Build/OPSS27.82-87-6)',\n",
       "       'Dalvik/2.1.0 (Linux; U; Android 7.0; SM-J530G Build/NRD90M)',\n",
       "       'Dalvik/2.1.0 (Linux; U; Android 9; moto g(7) power Build/PPO29.80-27)',\n",
       "       'Dalvik/2.1.0 (Linux; U; Android 7.1.1; ASUS_Z01MD Build/NMF26F)',\n",
       "       'Dalvik/2.1.0 (Linux; U; Android 6.0.1; Lenovo A6020l36 Build/MMB29M)',\n",
       "       'Dalvik/2.1.0 (Linux; U; Android 5.0.2; LG-D410 Build/LRX22G.A1440649755)',\n",
       "       'Dalvik/2.1.0 (Linux; U; Android 7.0; ASUS_X008DC Build/NRD90M)',\n",
       "       'Dalvik/2.1.0 (Linux; U; Android 6.0; MotoE2(4G-LTE) Build/MPI24.65-39-4)',\n",
       "       'Dalvik/2.1.0 (Linux; U; Android 6.0; XT1097 Build/MPES24.49-18-7)',\n",
       "       'Dalvik/1.6.0 (Linux; U; Android 4.4.2; LG-D325 Build/KOT49I)',\n",
       "       'Dalvik/2.1.0 (Linux; U; Android 8.1.0; Moto G (5) Build/OPPS28.85-16-2)',\n",
       "       'Dalvik/2.1.0 (Linux; U; Android 8.1.0; MI 8 Lite MIUI/V10.2.2.0.ODTMIXM)',\n",
       "       'Dalvik/2.1.0 (Linux; U; Android 8.1.0; Moto Z3 Play Build/OPWS28.70-47-8)',\n",
       "       'Dalvik/2.1.0 (Linux; U; Android 7.1.2; Redmi 5A MIUI/V10.1.1.0.NCKMIFI)',\n",
       "       'Dalvik/2.1.0 (Linux; U; Android 8.1.0; TA-1044 Build/OPR1.170623.026)',\n",
       "       'Dalvik/2.1.0 (Linux; U; Android 8.1.0; motorola one Build/OPK28.63-18)',\n",
       "       'Dalvik/1.6.0 (Linux; U; Android 4.1.2; GT-N8000 Build/JZO54K)',\n",
       "       'PeixeUrbano/2 CFNetwork/889.9 Darwin/17.2.0',\n",
       "       'PeixeUrbano/2 CFNetwork/902.2 Darwin/17.7.0',\n",
       "       'Dalvik/2.1.0 (Linux; U; Android 8.0.0; SM-G950U Build/R16NW)',\n",
       "       'Dalvik/2.1.0 (Linux; U; Android 7.0; A102 Build/NRD90M)',\n",
       "       'Dalvik/2.1.0 (Linux; U; Android 8.1.0; Redmi 6A MIUI/V10.2.5.0.OCBMIXM)',\n",
       "       'Dalvik/2.1.0 (Linux; U; Android 7.0; LG-M150 Build/NRD90U)',\n",
       "       'Dalvik/2.1.0 (Linux; U; Android 8.0.0; Mi MIX 2 MIUI/V10.2.2.0.ODEMIXM)',\n",
       "       'Dalvik/2.1.0 (Linux; U; Android 8.0.0; moto g(6) Build/OPS27.82-72)',\n",
       "       'Dalvik/2.1.0 (Linux; U; Android 8.0.0; ATU-LX3 Build/HUAWEIATU-LX3)',\n",
       "       'Dalvik/2.1.0 (Linux; U; Android 5.0.2; LG-D337 Build/LRX22G)',\n",
       "       'Dalvik/2.1.0 (Linux; U; Android 8.1.0; JKM-LX3 Build/HUAWEIJKM-LX3)',\n",
       "       'Dalvik/2.1.0 (Linux; U; Android 8.1.0; SM-N9600 Build/M1AJQ)',\n",
       "       'Dalvik/2.1.0 (Linux; U; Android 8.0.0; SM-G955U1 Build/R16NW)',\n",
       "       'Dalvik/2.1.0 (Linux; U; Android 9; SM-G955F Build/PPR1.180610.011)',\n",
       "       'Dalvik/2.1.0 (Linux; U; Android 7.0; Kylin_5.0S Build/NRD90M)',\n",
       "       'Dalvik/2.1.0 (Linux; U; Android 8.0.0; G3123 Build/48.1.A.2.73)',\n",
       "       'Dalvik/2.1.0 (Linux; U; Android 8.1.0; Redmi Note 5 MIUI/V9.5.19.0.OEIMIFA)',\n",
       "       'Dalvik/2.1.0 (Linux; U; Android 6.0; CRO-L03 Build/HUAWEICRO-L03)',\n",
       "       'Dalvik/2.1.0 (Linux; U; Android 6.0.1; D6543 Build/23.5.A.1.291)',\n",
       "       'Dalvik/2.1.0 (Linux; U; Android 8.0.0; ASUS_Z01HDA Build/OPR1.170623.026)',\n",
       "       'Dalvik/2.1.0 (Linux; U; Android 6.0.1; Redmi 3S MIUI/V10.1.1.0.MALMIFI)',\n",
       "       'Dalvik/2.1.0 (Linux; U; Android 8.1.0; Redmi Note 6 Pro MIUI/V10.2.2.0.OEKMIXM)',\n",
       "       'Dalvik/2.1.0 (Linux; U; Android 7.0; Moto G (4) Build/NPJS25.93-14.7-8)',\n",
       "       'Dalvik/2.1.0 (Linux; U; Android 5.0; SM-N900W8 Build/LRX21V)',\n",
       "       'Dalvik/2.1.0 (Linux; U; Android 7.0; SM-G928P Build/NRD90M)',\n",
       "       'Dalvik/2.1.0 (Linux; U; Android 5.1; ZTE BLADE A110 Build/LMY47D)',\n",
       "       'Dalvik/2.1.0 (Linux; U; Android 5.1; 5016J Build/LMY47I)',\n",
       "       'Dalvik/2.1.0 (Linux; U; Android 9; moto x4 Build/PPWS29.69-26-4)',\n",
       "       'Dalvik/2.1.0 (Linux; U; Android 8.1.0; Nokia 3.1 Build/O11019)',\n",
       "       'Dalvik/2.1.0 (Linux; U; Android 8.0.0; LDN-LX3 Build/HUAWEILDN-LX3)',\n",
       "       'Dalvik/1.6.0 (Linux; U; Android 4.4.2; LG-D100 Build/KOT49I)',\n",
       "       'Dalvik/2.1.0 (Linux; U; Android 5.0.1; ALE-L23 Build/HuaweiALE-L23)',\n",
       "       'Dalvik/2.1.0 (Linux; U; Android 6.0; E5606 Build/30.2.A.1.21)',\n",
       "       'Dalvik/2.1.0 (Linux; U; Android 6.0.1; SM-G920F Build/MMB29K)',\n",
       "       'Dalvik/2.1.0 (Linux; U; Android 6.0; ALE-L23 Build/HuaweiALE-L23)',\n",
       "       'Dalvik/2.1.0 (Linux; U; Android 6.0; XT1078 Build/MPBS24.65-34-5)',\n",
       "       'Dalvik/2.1.0 (Linux; U; Android 8.0.0; SM-A530F Build/R16NW)',\n",
       "       'Dalvik/1.6.0 (Linux; U; Android 4.4.2; GT-P5210 Build/KOT49H)',\n",
       "       'Dalvik/2.1.0 (Linux; U; Android 7.1.1; M7SQC_Plus Build/N9F27F)',\n",
       "       'Dalvik/2.1.0 (Linux; U; Android 5.1.1; SM-J105M Build/LMY47V)',\n",
       "       'Dalvik/2.1.0 (Linux; U; Android 6.0.1; Redmi 4A MIUI/V8.5.5.0.MCCMIED)',\n",
       "       'Dalvik/2.1.0 (Linux; U; Android 8.0.0; SM-G935T Build/R16NW)',\n",
       "       'Dalvik/1.6.0 (Linux; U; Android 4.1.2; LG-E475f Build/JZO54K)',\n",
       "       'Dalvik/2.1.0 (Linux; U; Android 6.0; Positivo Twist M Build/MRA58K)',\n",
       "       'Dalvik/2.1.0 (Linux; U; Android 6.0.1; ASUS_Z00UD Build/MMB29P)',\n",
       "       'Dalvik/2.1.0 (Linux; U; Android 9; POCOPHONE F1 MIUI/9.3.7)'],\n",
       "      dtype=object)"
      ]
     },
     "execution_count": 10,
     "metadata": {},
     "output_type": "execute_result"
    }
   ],
   "source": [
    "inst.user_agent.unique()"
   ]
  },
  {
   "cell_type": "code",
   "execution_count": 11,
   "metadata": {},
   "outputs": [
    {
     "data": {
      "text/plain": [
       "Dalvik          956\n",
       "Mercado Pago    731\n",
       "NextGen          20\n",
       "HotelUrbano      13\n",
       "PeixenUrbano      7\n",
       "Name: user_agent, dtype: int64"
      ]
     },
     "execution_count": 11,
     "metadata": {},
     "output_type": "execute_result"
    }
   ],
   "source": [
    "count_user = inst.user_agent.dropna()\n",
    "count_user = count_user.transform(lambda x: x[0:6]).dropna().value_counts()\n",
    "count_user.index = ['Dalvik', 'Mercado Pago', 'NextGen', 'HotelUrbano', 'PeixenUrbano', 'Takeal', 'Mozilla']\n",
    "count_user.head(5)\n"
   ]
  },
  {
   "cell_type": "markdown",
   "metadata": {},
   "source": [
    "# ver otra manera de deducir tipos de dispositivos y no a ojo"
   ]
  },
  {
   "cell_type": "code",
   "execution_count": 12,
   "metadata": {},
   "outputs": [
    {
     "data": {
      "text/plain": [
       "Index(['Dalvik', 'Mercado Pago', 'NextGen', 'HotelUrbano', 'PeixenUrbano',\n",
       "       'Takeal', 'Mozilla'],\n",
       "      dtype='object')"
      ]
     },
     "execution_count": 12,
     "metadata": {},
     "output_type": "execute_result"
    }
   ],
   "source": [
    "count_user.index"
   ]
  },
  {
   "cell_type": "code",
   "execution_count": 13,
   "metadata": {},
   "outputs": [
    {
     "data": {
      "text/plain": [
       "Dalvik          956\n",
       "Mercado Pago    731\n",
       "NextGen          20\n",
       "HotelUrbano      13\n",
       "PeixenUrbano      7\n",
       "Takeal            1\n",
       "Mozilla           1\n",
       "Name: user_agent, dtype: int64"
      ]
     },
     "execution_count": 13,
     "metadata": {},
     "output_type": "execute_result"
    }
   ],
   "source": [
    "count_user.head(10)"
   ]
  },
  {
   "cell_type": "code",
   "execution_count": 46,
   "metadata": {},
   "outputs": [
    {
     "data": {
      "text/plain": [
       "Text(0.5, 0, 'Agente de usuario relacionado al dispositivo')"
      ]
     },
     "execution_count": 46,
     "metadata": {},
     "output_type": "execute_result"
    },
    {
     "data": {
      "image/png": "[encoded data removed]",
      "text/plain": [
       "<Figure size 432x288 with 1 Axes>"
      ]
     },
     "metadata": {
      "needs_background": "light"
     },
     "output_type": "display_data"
    }
   ],
   "source": [
    "grf2 = sns.barplot(x = count_user[0:3].index, y = count_user[0:3].values, orient = 'v', palette = 'muted') \n",
    "grf2.set_title(\"Numero de instalaciones por agentes de Usuarios\", fontsize = 20)\n",
    "grf2.set_ylabel(\"Agentes de usuarios\", fontsize = 15)\n",
    "grf2.set_xlabel(\"Agente de usuario relacionado al dispositivo\", fontsize = 15)"
   ]
  },
  {
   "cell_type": "code",
   "execution_count": 15,
   "metadata": {},
   "outputs": [],
   "source": [
    "dalvik = inst[inst['user_agent'].str.contains(r\"\\Dalvik\\b\", case=False, na=False, regex=True)].reset_index()"
   ]
  },
  {
   "cell_type": "code",
   "execution_count": 16,
   "metadata": {},
   "outputs": [],
   "source": [
    "dalvik = dalvik.user_agent.dropna()"
   ]
  },
  {
   "cell_type": "code",
   "execution_count": 17,
   "metadata": {},
   "outputs": [],
   "source": [
    "def parser(values):\n",
    "    dispositivo = []\n",
    "    for x in values:\n",
    "        inicio=x[30:].find(\";\")+30\n",
    "        final=x.find(\"Build/\")\n",
    "        dispositivo.append(x[inicio+1:final])\n",
    "    return dispositivo"
   ]
  },
  {
   "cell_type": "code",
   "execution_count": 18,
   "metadata": {},
   "outputs": [],
   "source": [
    "dispositivos=parser(dalvik.values)"
   ]
  },
  {
   "cell_type": "code",
   "execution_count": 19,
   "metadata": {},
   "outputs": [],
   "source": [
    "d_dalvik=pd.DataFrame(dispositivos)"
   ]
  },
  {
   "cell_type": "code",
   "execution_count": 20,
   "metadata": {},
   "outputs": [
    {
     "data": {
      "text/plain": [
       " SM    460\n",
       " Mo    122\n",
       " LG    101\n",
       " Re     49\n",
       " mo     41\n",
       "Name: 0, dtype: int64"
      ]
     },
     "execution_count": 20,
     "metadata": {},
     "output_type": "execute_result"
    }
   ],
   "source": [
    "marcas = d_dalvik[0].transform(lambda x: x[0:3]).dropna().value_counts()\n",
    "#marcas.index = ['Dalvik', 'Mercado Pago', 'NextGen', 'HotelUrbano', 'PeixenUrbano', 'Takeal', 'Mozilla']\n",
    "marcas.head()"
   ]
  },
  {
   "cell_type": "code",
   "execution_count": 21,
   "metadata": {},
   "outputs": [
    {
     "data": {
      "text/plain": [
       "Text(0.5, 0, 'Modelos de moviles')"
      ]
     },
     "execution_count": 21,
     "metadata": {},
     "output_type": "execute_result"
    },
    {
     "data": {
      "image/png": "[encoded data removed]",
      "text/plain": [
       "<Figure size 432x288 with 1 Axes>"
      ]
     },
     "metadata": {
      "needs_background": "light"
     },
     "output_type": "display_data"
    }
   ],
   "source": [
    "grf3 = sns.barplot(x = marcas[0:9].index, y = marcas[0:9].values, orient = 'v', palette = 'Spectral') \n",
    "grf3.set_title(\"Instalaciones vs Marcas moviles\", fontsize = 20)\n",
    "grf3.set_ylabel(\"Numero de Instalaciones\", fontsize = 15)\n",
    "grf3.set_xlabel(\"Modelos de moviles\", fontsize = 15)"
   ]
  },
  {
   "cell_type": "code",
   "execution_count": 22,
   "metadata": {},
   "outputs": [],
   "source": [
    "mercadopago = inst[inst['user_agent'].str.contains('Mercadopago', case=False, na=False, regex=True)].reset_index()"
   ]
  },
  {
   "cell_type": "code",
   "execution_count": 23,
   "metadata": {},
   "outputs": [],
   "source": [
    "mercadopago = mercadopago.user_agent.dropna()"
   ]
  },
  {
   "cell_type": "code",
   "execution_count": 24,
   "metadata": {},
   "outputs": [],
   "source": [
    "nextgen = inst[inst['user_agent'].str.contains('NextGen', case=False, na=False, regex=True)].reset_index()"
   ]
  },
  {
   "cell_type": "code",
   "execution_count": 25,
   "metadata": {},
   "outputs": [],
   "source": [
    "nextgen = nextgen.user_agent.dropna()"
   ]
  },
  {
   "cell_type": "code",
   "execution_count": 26,
   "metadata": {},
   "outputs": [
    {
     "data": {
      "text/plain": [
       "Index(['created', 'application_id', 'ref_type', 'ref_hash', 'click_hash',\n",
       "       'attributed', 'implicit', 'device_countrycode', 'device_brand',\n",
       "       'device_model', 'session_user_agent', 'user_agent', 'event_uuid',\n",
       "       'kind', 'wifi', 'trans_id', 'ip_address', 'device_language'],\n",
       "      dtype='object')"
      ]
     },
     "execution_count": 26,
     "metadata": {},
     "output_type": "execute_result"
    }
   ],
   "source": [
    "inst.columns"
   ]
  },
  {
   "cell_type": "code",
   "execution_count": 27,
   "metadata": {},
   "outputs": [
    {
     "data": {
      "text/plain": [
       "created                object\n",
       "application_id          int16\n",
       "ref_type                int64\n",
       "ref_hash                int64\n",
       "click_hash            float16\n",
       "attributed               bool\n",
       "implicit                 bool\n",
       "device_countrycode      int64\n",
       "device_brand          float64\n",
       "device_model          float64\n",
       "session_user_agent     object\n",
       "user_agent             object\n",
       "event_uuid             object\n",
       "kind                   object\n",
       "wifi                   object\n",
       "trans_id               object\n",
       "ip_address              int64\n",
       "device_language       float64\n",
       "dtype: object"
      ]
     },
     "execution_count": 27,
     "metadata": {},
     "output_type": "execute_result"
    }
   ],
   "source": [
    "inst.dtypes"
   ]
  },
  {
   "cell_type": "code",
   "execution_count": 28,
   "metadata": {},
   "outputs": [],
   "source": [
    "inst.loc[:,'created'] = pd.to_datetime(inst['created'], errors='coerce')"
   ]
  },
  {
   "cell_type": "code",
   "execution_count": 29,
   "metadata": {},
   "outputs": [
    {
     "data": {
      "text/plain": [
       "created               datetime64[ns]\n",
       "application_id                 int16\n",
       "ref_type                       int64\n",
       "ref_hash                       int64\n",
       "click_hash                   float16\n",
       "attributed                      bool\n",
       "implicit                        bool\n",
       "device_countrycode             int64\n",
       "device_brand                 float64\n",
       "device_model                 float64\n",
       "session_user_agent            object\n",
       "user_agent                    object\n",
       "event_uuid                    object\n",
       "kind                          object\n",
       "wifi                          object\n",
       "trans_id                      object\n",
       "ip_address                     int64\n",
       "device_language              float64\n",
       "dtype: object"
      ]
     },
     "execution_count": 29,
     "metadata": {},
     "output_type": "execute_result"
    }
   ],
   "source": [
    "inst.dtypes"
   ]
  },
  {
   "cell_type": "code",
   "execution_count": 30,
   "metadata": {},
   "outputs": [],
   "source": [
    "group=inst[['created','user_agent']].groupby('created').sum()"
   ]
  },
  {
   "cell_type": "code",
   "execution_count": 31,
   "metadata": {},
   "outputs": [],
   "source": [
    "group = group[group['user_agent'].str.contains(r\"\\Dalvik\\b\", case=False, na=False, regex=True)].reset_index()"
   ]
  },
  {
   "cell_type": "code",
   "execution_count": 32,
   "metadata": {},
   "outputs": [
    {
     "data": {
      "text/html": [
       "<div>\n",
       "<style scoped>\n",
       "    .dataframe tbody tr th:only-of-type {\n",
       "        vertical-align: middle;\n",
       "    }\n",
       "\n",
       "    .dataframe tbody tr th {\n",
       "        vertical-align: top;\n",
       "    }\n",
       "\n",
       "    .dataframe thead th {\n",
       "        text-align: right;\n",
       "    }\n",
       "</style>\n",
       "<table border=\"1\" class=\"dataframe\">\n",
       "  <thead>\n",
       "    <tr style=\"text-align: right;\">\n",
       "      <th></th>\n",
       "      <th>created</th>\n",
       "      <th>user_agent</th>\n",
       "    </tr>\n",
       "  </thead>\n",
       "  <tbody>\n",
       "    <tr>\n",
       "      <th>0</th>\n",
       "      <td>2019-03-05 00:05:35.234</td>\n",
       "      <td>Dalvik/2.1.0 (Linux; U; Android 9; HMA-L09 Bui...</td>\n",
       "    </tr>\n",
       "    <tr>\n",
       "      <th>1</th>\n",
       "      <td>2019-03-05 00:07:25.431</td>\n",
       "      <td>Dalvik/2.1.0 (Linux; U; Android 9; ONEPLUS A60...</td>\n",
       "    </tr>\n",
       "    <tr>\n",
       "      <th>2</th>\n",
       "      <td>2019-03-05 00:12:34.027</td>\n",
       "      <td>Dalvik/1.6.0 (Linux; U; Android 4.2.2; GT-I906...</td>\n",
       "    </tr>\n",
       "    <tr>\n",
       "      <th>3</th>\n",
       "      <td>2019-03-05 00:17:46.709</td>\n",
       "      <td>Dalvik/2.1.0 (Linux; U; Android 8.1.0; SM-J410...</td>\n",
       "    </tr>\n",
       "    <tr>\n",
       "      <th>4</th>\n",
       "      <td>2019-03-05 00:36:34.347</td>\n",
       "      <td>Dalvik/2.1.0 (Linux; U; Android 7.0; LG-M250 B...</td>\n",
       "    </tr>\n",
       "  </tbody>\n",
       "</table>\n",
       "</div>"
      ],
      "text/plain": [
       "                  created                                         user_agent\n",
       "0 2019-03-05 00:05:35.234  Dalvik/2.1.0 (Linux; U; Android 9; HMA-L09 Bui...\n",
       "1 2019-03-05 00:07:25.431  Dalvik/2.1.0 (Linux; U; Android 9; ONEPLUS A60...\n",
       "2 2019-03-05 00:12:34.027  Dalvik/1.6.0 (Linux; U; Android 4.2.2; GT-I906...\n",
       "3 2019-03-05 00:17:46.709  Dalvik/2.1.0 (Linux; U; Android 8.1.0; SM-J410...\n",
       "4 2019-03-05 00:36:34.347  Dalvik/2.1.0 (Linux; U; Android 7.0; LG-M250 B..."
      ]
     },
     "execution_count": 32,
     "metadata": {},
     "output_type": "execute_result"
    }
   ],
   "source": [
    "group.head(5)"
   ]
  },
  {
   "cell_type": "code",
   "execution_count": 33,
   "metadata": {},
   "outputs": [],
   "source": [
    "dispositivos=parser(group['user_agent'])"
   ]
  },
  {
   "cell_type": "code",
   "execution_count": 34,
   "metadata": {},
   "outputs": [],
   "source": [
    "dispositivos=pd.DataFrame(dispositivos)"
   ]
  },
  {
   "cell_type": "code",
   "execution_count": 35,
   "metadata": {},
   "outputs": [],
   "source": [
    "dispositivos = dispositivos[0].transform(lambda x: x[0:3])"
   ]
  },
  {
   "cell_type": "code",
   "execution_count": 36,
   "metadata": {},
   "outputs": [
    {
     "data": {
      "text/plain": [
       "0     HM\n",
       "1     ON\n",
       "2     GT\n",
       "3     SM\n",
       "4     LG\n",
       "Name: 0, dtype: object"
      ]
     },
     "execution_count": 36,
     "metadata": {},
     "output_type": "execute_result"
    }
   ],
   "source": [
    "dispositivos.head()"
   ]
  },
  {
   "cell_type": "code",
   "execution_count": 37,
   "metadata": {},
   "outputs": [],
   "source": [
    "group['dispositivo']=dispositivos"
   ]
  },
  {
   "cell_type": "code",
   "execution_count": 38,
   "metadata": {},
   "outputs": [],
   "source": [
    "#group.groupby('created').agg({'dispositivo':'sum'}).sort_values('dispositivo',ascending=False).head(100)"
   ]
  },
  {
   "cell_type": "code",
   "execution_count": 39,
   "metadata": {},
   "outputs": [
    {
     "data": {
      "text/html": [
       "<div>\n",
       "<style scoped>\n",
       "    .dataframe tbody tr th:only-of-type {\n",
       "        vertical-align: middle;\n",
       "    }\n",
       "\n",
       "    .dataframe tbody tr th {\n",
       "        vertical-align: top;\n",
       "    }\n",
       "\n",
       "    .dataframe thead th {\n",
       "        text-align: right;\n",
       "    }\n",
       "</style>\n",
       "<table border=\"1\" class=\"dataframe\">\n",
       "  <thead>\n",
       "    <tr style=\"text-align: right;\">\n",
       "      <th></th>\n",
       "      <th>created</th>\n",
       "      <th>user_agent</th>\n",
       "      <th>dispositivo</th>\n",
       "    </tr>\n",
       "  </thead>\n",
       "  <tbody>\n",
       "    <tr>\n",
       "      <th>0</th>\n",
       "      <td>2019-03-05 00:05:35.234</td>\n",
       "      <td>Dalvik/2.1.0 (Linux; U; Android 9; HMA-L09 Bui...</td>\n",
       "      <td>HM</td>\n",
       "    </tr>\n",
       "    <tr>\n",
       "      <th>1</th>\n",
       "      <td>2019-03-05 00:07:25.431</td>\n",
       "      <td>Dalvik/2.1.0 (Linux; U; Android 9; ONEPLUS A60...</td>\n",
       "      <td>ON</td>\n",
       "    </tr>\n",
       "    <tr>\n",
       "      <th>2</th>\n",
       "      <td>2019-03-05 00:12:34.027</td>\n",
       "      <td>Dalvik/1.6.0 (Linux; U; Android 4.2.2; GT-I906...</td>\n",
       "      <td>GT</td>\n",
       "    </tr>\n",
       "    <tr>\n",
       "      <th>3</th>\n",
       "      <td>2019-03-05 00:17:46.709</td>\n",
       "      <td>Dalvik/2.1.0 (Linux; U; Android 8.1.0; SM-J410...</td>\n",
       "      <td>SM</td>\n",
       "    </tr>\n",
       "    <tr>\n",
       "      <th>4</th>\n",
       "      <td>2019-03-05 00:36:34.347</td>\n",
       "      <td>Dalvik/2.1.0 (Linux; U; Android 7.0; LG-M250 B...</td>\n",
       "      <td>LG</td>\n",
       "    </tr>\n",
       "  </tbody>\n",
       "</table>\n",
       "</div>"
      ],
      "text/plain": [
       "                  created                                         user_agent  \\\n",
       "0 2019-03-05 00:05:35.234  Dalvik/2.1.0 (Linux; U; Android 9; HMA-L09 Bui...   \n",
       "1 2019-03-05 00:07:25.431  Dalvik/2.1.0 (Linux; U; Android 9; ONEPLUS A60...   \n",
       "2 2019-03-05 00:12:34.027  Dalvik/1.6.0 (Linux; U; Android 4.2.2; GT-I906...   \n",
       "3 2019-03-05 00:17:46.709  Dalvik/2.1.0 (Linux; U; Android 8.1.0; SM-J410...   \n",
       "4 2019-03-05 00:36:34.347  Dalvik/2.1.0 (Linux; U; Android 7.0; LG-M250 B...   \n",
       "\n",
       "  dispositivo  \n",
       "0          HM  \n",
       "1          ON  \n",
       "2          GT  \n",
       "3          SM  \n",
       "4          LG  "
      ]
     },
     "execution_count": 39,
     "metadata": {},
     "output_type": "execute_result"
    }
   ],
   "source": [
    "group.head(5)"
   ]
  },
  {
   "cell_type": "code",
   "execution_count": 40,
   "metadata": {},
   "outputs": [],
   "source": []
  },
  {
   "cell_type": "code",
   "execution_count": 41,
   "metadata": {},
   "outputs": [],
   "source": [
    "sm = group[group['dispositivo'].str.contains('SM', case=False, na=False, regex=True)].reset_index()"
   ]
  },
  {
   "cell_type": "code",
   "execution_count": 42,
   "metadata": {},
   "outputs": [],
   "source": [
    "lg = group[group['dispositivo'].str.contains('LG', case=False, na=False, regex=True)].reset_index()"
   ]
  },
  {
   "cell_type": "code",
   "execution_count": 49,
   "metadata": {},
   "outputs": [],
   "source": [
    "mo = group[group['dispositivo'].str.contains('MO', case=False, na=False, regex=True)].reset_index()"
   ]
  },
  {
   "cell_type": "code",
   "execution_count": 51,
   "metadata": {},
   "outputs": [],
   "source": [
    "re = group[group['dispositivo'].str.contains('Re', case=False, na=False, regex=True)].reset_index()"
   ]
  },
  {
   "cell_type": "code",
   "execution_count": 52,
   "metadata": {},
   "outputs": [
    {
     "data": {
      "text/plain": [
       "Text(0, 0.5, 'Instalaciones')"
      ]
     },
     "execution_count": 52,
     "metadata": {},
     "output_type": "execute_result"
    },
    {
     "data": {
      "image/png": "[encoded data removed]",
      "text/plain": [
       "<Figure size 1080x360 with 1 Axes>"
      ]
     },
     "metadata": {
      "needs_background": "light"
     },
     "output_type": "display_data"
    }
   ],
   "source": [
    "plt.figure(figsize=(15,5))\n",
    "plot1 = sns.lineplot(x = sm.created, y = sm.index, label='Samsumg', markers=True, dashes=True )\n",
    "plot1 = sns.lineplot(x = lg.created, y = lg.index, label='LG', markers=True, dashes=True )\n",
    "plot1 = sns.lineplot(x = mo.created, y = mo.index, label='Motorola', markers=True, dashes=True )\n",
    "plot1 = sns.lineplot(x = re.created, y = re.index, label='Redmi', markers=True, dashes=True )\n",
    "plot1.set_title(\"Installs por Modelo de Movil en el tiempo\", fontsize = 25)\n",
    "plot1.set_xlabel(\"Fechas\", fontsize = 15)\n",
    "plot1.set_ylabel(\"Instalaciones\", fontsize = 15)"
   ]
  },
  {
   "cell_type": "code",
   "execution_count": null,
   "metadata": {},
   "outputs": [],
   "source": []
  },
  {
   "cell_type": "code",
   "execution_count": null,
   "metadata": {},
   "outputs": [],
   "source": []
  },
  {
   "cell_type": "code",
   "execution_count": null,
   "metadata": {},
   "outputs": [],
   "source": []
  },
  {
   "cell_type": "code",
   "execution_count": null,
   "metadata": {},
   "outputs": [],
   "source": []
  }
 ],
 "metadata": {
  "kernelspec": {
   "display_name": "Python 3",
   "language": "python",
   "name": "python3"
  },
  "language_info": {
   "codemirror_mode": {
    "name": "ipython",
    "version": 3
   },
   "file_extension": ".py",
   "mimetype": "text/x-python",
   "name": "python",
   "nbconvert_exporter": "python",
   "pygments_lexer": "ipython3",
   "version": "3.6.7"
  }
 },
 "nbformat": 4,
 "nbformat_minor": 2
}
