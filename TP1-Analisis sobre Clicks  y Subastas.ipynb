{
 "cells": [
  {
   "cell_type": "code",
   "execution_count": null,
   "metadata": {},
   "outputs": [],
   "source": [
    "import pandas as pd\n",
    "import seaborn as sns \n",
    "import numpy as np\n",
    "import matplotlib.pyplot as plt"
   ]
  },
  {
   "cell_type": "code",
   "execution_count": null,
   "metadata": {},
   "outputs": [],
   "source": [
    "subs = pd.read_csv(\"data/auctions.csv\", dtype = {\"platform\": np.int8, \"ref_type_id\": np.int8, \"source_id\": np.int8}, usecols = ['auction_type_id', 'date', 'platform', 'source_id'])\n",
    "#evts = pd.read_csv(\"data/events.csv\", dtype = {\"event_id\": np.int16, \"application_id\": np.int16})\n",
    "#inst = pd.read_csv(\"data/installs.csv\", dtype = {\"application_id\": np.int16, \"click_hash\": np.float16})\n",
    "clks = pd.read_csv(\"data/clicks.csv.gzip\", dtype = {\"advertiser_id\": np.int8, \"action_id\": np.float16, \"source_id\": np.int8, \"wifi_connection\": bool, \"carrier_id\": np.float16, \"brand\": np.float16, \"touchX\": np.float16, \"touchY\": np.float16})"
   ]
  },
  {
   "cell_type": "markdown",
   "metadata": {},
   "source": [
    "# Análisis sobre los clicks"
   ]
  },
  {
   "cell_type": "code",
   "execution_count": null,
   "metadata": {
    "scrolled": true
   },
   "outputs": [],
   "source": [
    "clks.describe()"
   ]
  },
  {
   "cell_type": "code",
   "execution_count": null,
   "metadata": {},
   "outputs": [],
   "source": [
    "clks.head()"
   ]
  },
  {
   "cell_type": "code",
   "execution_count": null,
   "metadata": {},
   "outputs": [],
   "source": [
    "clks['wifi_connection'].value_counts()"
   ]
  },
  {
   "cell_type": "code",
   "execution_count": null,
   "metadata": {},
   "outputs": [],
   "source": [
    "clks.memory_usage(deep = True).sum()"
   ]
  },
  {
   "cell_type": "markdown",
   "metadata": {},
   "source": [
    "## ¿Cómo se distribuye el tiempo que tardan los usuarios en dar click?"
   ]
  },
  {
   "cell_type": "code",
   "execution_count": null,
   "metadata": {},
   "outputs": [],
   "source": [
    "clks.count()"
   ]
  },
  {
   "cell_type": "code",
   "execution_count": null,
   "metadata": {},
   "outputs": [],
   "source": [
    "clickTime = clks['timeToClick'].dropna()"
   ]
  },
  {
   "cell_type": "code",
   "execution_count": null,
   "metadata": {},
   "outputs": [],
   "source": [
    "clickTime.count()"
   ]
  },
  {
   "cell_type": "code",
   "execution_count": null,
   "metadata": {},
   "outputs": [],
   "source": [
    "clickTime.nlargest(5)"
   ]
  },
  {
   "cell_type": "code",
   "execution_count": null,
   "metadata": {},
   "outputs": [],
   "source": [
    "grafico = clickTime.plot.hist(bins=50, color='goldenrod', figsize=(10,8))\n",
    "grafico.set_title(\"Histograma: cantidad de segundos que tarda un usuario en dar click\", fontsize = 20)\n",
    "grafico.set_xlabel(\"Tiempo en segundos\",fontsize=15)\n",
    "grafico.set_ylabel(\"Frecuencia\", fontsize=15)"
   ]
  },
  {
   "cell_type": "markdown",
   "metadata": {},
   "source": [
    "Veamos si aplicando el logaritmo se logra un gráfico más descriptivo:"
   ]
  },
  {
   "cell_type": "code",
   "execution_count": null,
   "metadata": {},
   "outputs": [],
   "source": [
    "clickTimeLog = clickTime.transform(lambda x: np.log(x))"
   ]
  },
  {
   "cell_type": "code",
   "execution_count": null,
   "metadata": {},
   "outputs": [],
   "source": [
    "sns.set_style('darkgrid')\n",
    "grafico_log = clickTimeLog.plot.hist(bins=50, color='skyblue', figsize=(10,5))\n",
    "grafico_log.set_title(\"Histograma: cantidad de segundos (log) que tarda un usuario en dar click\", fontsize = 20)\n",
    "grafico_log.set_xlabel(\"Tiempo en segundos (log)\",fontsize=15)\n",
    "grafico_log.set_ylabel(\"Frecuencia\", fontsize=15)"
   ]
  },
  {
   "cell_type": "markdown",
   "metadata": {},
   "source": [
    "## Veamos ahora qué sucede con la posición desde donde se dan los clicks:"
   ]
  },
  {
   "cell_type": "code",
   "execution_count": null,
   "metadata": {},
   "outputs": [],
   "source": [
    "clickPos = clks.loc[:, ['touchX', 'touchY']].dropna()\n",
    "clickPos.head()"
   ]
  },
  {
   "cell_type": "code",
   "execution_count": null,
   "metadata": {},
   "outputs": [],
   "source": [
    "clickPos['touchX'].value_counts().head()"
   ]
  },
  {
   "cell_type": "code",
   "execution_count": null,
   "metadata": {},
   "outputs": [],
   "source": [
    "clickPos['touchY'].value_counts().head()"
   ]
  },
  {
   "cell_type": "markdown",
   "metadata": {},
   "source": [
    "Veo si un gráfico de distribución conjunta me muestra algo sobre estos valores"
   ]
  },
  {
   "cell_type": "code",
   "execution_count": null,
   "metadata": {},
   "outputs": [],
   "source": [
    "plt.figure(figsize=(8,8))\n",
    "g_dist = sns.distplot(clickPos['touchX'], color='crimson', label = 'Posición en X')\n",
    "g_dist = sns.distplot(clickPos['touchY'], color='royalblue', label = 'posición en Y')\n",
    "g_dist.set_title(\"Distribución de la posición de clicks en pantalla\", fontsize = 25)\n",
    "g_dist.set_xlabel(\"Posición en pantalla\", fontsize = 15)\n",
    "g_dist.set_ylabel(\"Densidad\", fontsize = 15)\n",
    "g_dist.legend()"
   ]
  },
  {
   "cell_type": "markdown",
   "metadata": {},
   "source": [
    "Alternativa utilizando un Scatter plot"
   ]
  },
  {
   "cell_type": "code",
   "execution_count": null,
   "metadata": {},
   "outputs": [],
   "source": [
    "plt.figure(figsize = (10,5))\n",
    "g = sns.regplot(x = \"touchX\", y = \"touchY\", \n",
    "                    data = clickPos, color = 'orchid')\n",
    "g.set_title(\"Relacion entre los clicks en la posición X e Y\", fontsize = 20)\n",
    "g.set_xlabel(\"Posición en X\", fontsize = 15)\n",
    "g.set_ylabel(\"Posición en Y\", fontsize = 15)"
   ]
  },
  {
   "cell_type": "markdown",
   "metadata": {},
   "source": [
    "# Análisis sobre las subastas"
   ]
  },
  {
   "cell_type": "code",
   "execution_count": null,
   "metadata": {},
   "outputs": [],
   "source": [
    "subs.describe()"
   ]
  },
  {
   "cell_type": "code",
   "execution_count": null,
   "metadata": {},
   "outputs": [],
   "source": [
    "subs.count()"
   ]
  },
  {
   "cell_type": "markdown",
   "metadata": {},
   "source": [
    "## Veo que información puedo obtener de las Fechas y horarios en que se realizan las subastas"
   ]
  },
  {
   "cell_type": "code",
   "execution_count": null,
   "metadata": {},
   "outputs": [],
   "source": [
    "subs['day'] = pd.to_datetime(subs['date'], format='%Y%m%d %H:%M:%S.%f').dt.day\n",
    "subs['hour'] = pd.to_datetime(subs['date'], format='%Y%m%d %H:%M:%S.%f').dt.hour"
   ]
  },
  {
   "cell_type": "code",
   "execution_count": null,
   "metadata": {},
   "outputs": [],
   "source": [
    "subs.head()"
   ]
  },
  {
   "cell_type": "code",
   "execution_count": null,
   "metadata": {},
   "outputs": [],
   "source": [
    "subs_counts = subs.groupby(['day', 'hour']).count()"
   ]
  },
  {
   "cell_type": "code",
   "execution_count": null,
   "metadata": {},
   "outputs": [],
   "source": [
    "subs_counts = subs_counts.reset_index()\n",
    "subs_counts.head()"
   ]
  },
  {
   "cell_type": "code",
   "execution_count": null,
   "metadata": {},
   "outputs": [],
   "source": [
    "subs_day_hour = subs_counts.pivot_table(index='day', columns='hour', values='date', aggfunc='mean')\n",
    "subs_day_hour.head()"
   ]
  },
  {
   "cell_type": "code",
   "execution_count": null,
   "metadata": {},
   "outputs": [],
   "source": [
    "plt.figure(figsize = (10,5))\n",
    "heatMap = sns.heatmap(subs_day_hour,  cmap=\"PuRd\", )\n",
    "heatMap.set_title(\"Cantidad Promedio de Subastas por Día y Hora\", fontsize = 20)\n",
    "heatMap.set_xlabel(\"Hora\", fontsize = 15)\n",
    "heatMap.set_ylabel(\"Día\", fontsize = 15)"
   ]
  },
  {
   "cell_type": "markdown",
   "metadata": {},
   "source": [
    "## Veo que información encuentro sobre el campo platform"
   ]
  },
  {
   "cell_type": "code",
   "execution_count": null,
   "metadata": {},
   "outputs": [],
   "source": [
    "platformCount = subs['platform'].value_counts().reset_index()\n",
    "platformCount['platform_name'] = platformCount['index'].apply(lambda x: 'Android' if (x == 1) else 'IOS')\n",
    "platformCount.columns = ['platform_id', 'platform_count', 'platform_name']\n",
    "platformCount"
   ]
  },
  {
   "cell_type": "code",
   "execution_count": null,
   "metadata": {},
   "outputs": [],
   "source": [
    "plt.pie(platformCount['platform_count'].to_list(), labels = platformCount['platform_name'].to_list(), autopct='%1.1f%%', colors = ['yellowgreen', 'mediumaquamarine'], shadow=True, radius = 1.7)\n",
    "plt.legend(platformCount['platform_name'].to_list(), loc = \"upper right\")\n",
    "plt.title(\"Subastas: Plataforma de Dispositivo Utilizadas\", {'fontsize': 20,\n",
    "        'fontweight' : 20,\n",
    "        'verticalalignment': 'bottom',\n",
    "        'horizontalalignment': 'center'})\n",
    "plt.show()"
   ]
  },
  {
   "cell_type": "code",
   "execution_count": null,
   "metadata": {},
   "outputs": [],
   "source": []
  },
  {
   "cell_type": "markdown",
   "metadata": {},
   "source": [
    "## Quiero averiguar si los source_id más populares coinciden con los que generan más clicks"
   ]
  },
  {
   "cell_type": "code",
   "execution_count": null,
   "metadata": {},
   "outputs": [],
   "source": [
    "source_subs = subs['source_id'].value_counts()\n",
    "source_subs"
   ]
  },
  {
   "cell_type": "code",
   "execution_count": null,
   "metadata": {},
   "outputs": [],
   "source": [
    "source_clicks = clks['source_id'].value_counts()\n",
    "source_clicks"
   ]
  },
  {
   "cell_type": "markdown",
   "metadata": {},
   "source": [
    "Como hay varios source_ids que tienen muy pocos clicks los descarto ya que no aportan mucho, y tomo sólo los 5 ids más populares"
   ]
  },
  {
   "cell_type": "code",
   "execution_count": null,
   "metadata": {},
   "outputs": [],
   "source": [
    "source_clicks = source_clicks.nlargest(5)\n",
    "source_clicks"
   ]
  },
  {
   "cell_type": "markdown",
   "metadata": {},
   "source": [
    "Grafico estos valores para ver mejor la relación entre los ids"
   ]
  },
  {
   "cell_type": "code",
   "execution_count": null,
   "metadata": {},
   "outputs": [],
   "source": [
    "plt.figure(figsize = (10,8))\n",
    "plot_source_subs = sns.barplot(x = source_subs.index, y = source_subs.values, orient = 'v', palette = 'YlOrRd')\n",
    "plot_source_subs.set_title(\"Cantidad de Subastas según su source_id\", fontsize = '25')\n",
    "plot_source_subs.set_xlabel(\"Source_id\", fontsize = 15)\n",
    "plot_source_subs.set_ylabel(\"Cantidad de Apariciones\", fontsize = 15)\n",
    "for p in plot_source_subs.patches:\n",
    "    plot_source_subs.annotate(format(p.get_height()), (p.get_x() + p.get_width() / 2.,\n",
    "                                               p.get_height()), ha = 'center', va = 'center', xytext = (0, 10), textcoords = 'offset points')"
   ]
  },
  {
   "cell_type": "markdown",
   "metadata": {},
   "source": [
    "Ahora veo que sucede con los source_id de los clicks"
   ]
  },
  {
   "cell_type": "code",
   "execution_count": null,
   "metadata": {},
   "outputs": [],
   "source": [
    "plt.figure(figsize = (10,8))\n",
    "plot_source_clicks = sns.barplot(x = source_clicks.index, y = source_clicks.values, orient = 'v', palette = 'Spectral')\n",
    "plot_source_clicks.set_title(\"Source_ids Más Populares entre los Clicks\", fontsize = '25')\n",
    "plot_source_clicks.set_xlabel(\"Source_id\", fontsize = 15)\n",
    "plot_source_clicks.set_ylabel(\"Cantidad de Apariciones\", fontsize = 15)\n",
    "for p in plot_source_clicks.patches:\n",
    "    plot_source_clicks.annotate(format(p.get_height()), (p.get_x() + p.get_width() / 2.,\n",
    "                                               p.get_height()), ha = 'center', va = 'center', xytext = (0, 10), textcoords = 'offset points')"
   ]
  },
  {
   "cell_type": "markdown",
   "metadata": {},
   "source": [
    "## Veo si hay algo interesante en el campo Carrier_id del set de clicks "
   ]
  },
  {
   "cell_type": "code",
   "execution_count": null,
   "metadata": {},
   "outputs": [],
   "source": [
    "clks.count()"
   ]
  },
  {
   "cell_type": "code",
   "execution_count": null,
   "metadata": {},
   "outputs": [],
   "source": [
    "carriers = clks['carrier_id'].value_counts().to_frame().reset_index()\n",
    "carriers.columns = ['carrier_id', 'carrier_id_count']"
   ]
  },
  {
   "cell_type": "markdown",
   "metadata": {},
   "source": [
    "## ¿Habrá fechas en que se generaron más clicks desde ciertos operadores móviles?"
   ]
  },
  {
   "cell_type": "code",
   "execution_count": null,
   "metadata": {},
   "outputs": [],
   "source": [
    "# filtro los datos\n",
    "carriers_days = clks.loc[:, ['created', 'carrier_id']]\n",
    "carriers_days['Fecha'] = pd.to_datetime(carriers_days['created']).dt.date\n",
    "carriers_days.head()"
   ]
  },
  {
   "cell_type": "code",
   "execution_count": null,
   "metadata": {},
   "outputs": [],
   "source": [
    "#como tengo muchoos carrier_ids pero unos pocos concentran la mayoria de los clciks, los filtro\n",
    "carriers = carriers.loc[carriers['carrier_id_count'] > 1000,:]\n",
    "carriers.count()"
   ]
  },
  {
   "cell_type": "code",
   "execution_count": null,
   "metadata": {},
   "outputs": [],
   "source": [
    "carriers_days.head()"
   ]
  },
  {
   "cell_type": "code",
   "execution_count": null,
   "metadata": {},
   "outputs": [],
   "source": [
    "#Agrupo por día y operador para ver cuantos clicks tengo cada día segun el operador\n",
    "days = pd.merge(carriers_days, carriers, on = 'carrier_id', how = 'inner' )\n",
    "days = days.groupby(['Fecha', 'carrier_id']).agg({'created': 'count'}).reset_index()\n",
    "days.head()"
   ]
  },
  {
   "cell_type": "markdown",
   "metadata": {},
   "source": [
    "Pruebo una visualización con un heatmap"
   ]
  },
  {
   "cell_type": "code",
   "execution_count": null,
   "metadata": {},
   "outputs": [],
   "source": [
    "pivot_days = pd.pivot_table(days, columns = 'carrier_id', index = 'Fecha', values = 'created', aggfunc = 'sum').fillna(0)\n",
    "pivot_days.head()"
   ]
  },
  {
   "cell_type": "code",
   "execution_count": null,
   "metadata": {},
   "outputs": [],
   "source": [
    "plt.figure(figsize = (15,8))\n",
    "heat_map = sns.heatmap(pivot_days,  cmap = \"OrRd\",  linewidths = 0.1)\n",
    "heat_map.set_title(\"Cantidad de clicks según el día para los carrier_id más populares\", fontsize = '20')\n",
    "heat_map.set_xlabel(\"Carrier_id\", fontsize = 15)\n",
    "heat_map.set_ylabel(\"Fecha\", fontsize = 15)"
   ]
  },
  {
   "cell_type": "markdown",
   "metadata": {},
   "source": [
    "De este gráfico lo que logramos ver como el carrier_id 13 tiene alta cantidad de Clicks durante el día 13, y lo mismo se repite para el carrier_id 4 durante el día 11 y 12.\n",
    "El resto de los carrier_ids son menos frecuentes, aunque también se denota un leve aumento, al menos hasta el día 12.\n",
    "Otra cosa a remarcar del gráfico es que durante los días 5 y 6 la actividad resgistrada es muy baja, de hecho, esto ya lo hemos visto en otra sección del informe, donde podíamos ver que, a grandes rasgos, la cantidad de clicks iba aumentando en función del tiempo."
   ]
  },
  {
   "cell_type": "markdown",
   "metadata": {},
   "source": [
    "# Análisis Sobre Coordenadas"
   ]
  },
  {
   "cell_type": "markdown",
   "metadata": {},
   "source": [
    "## Me interesa saber cómo se distrubuyen los valores de latitud y longitud desde donde se dan los clicks"
   ]
  },
  {
   "cell_type": "code",
   "execution_count": null,
   "metadata": {},
   "outputs": [],
   "source": [
    "lat_long = clks.filter(items = ['latitude', 'longitude']).dropna()\n",
    "lat_long.head()"
   ]
  },
  {
   "cell_type": "code",
   "execution_count": null,
   "metadata": {},
   "outputs": [],
   "source": [
    "plt.figure(figsize=(10,5))\n",
    "lat_dist = sns.distplot(lat_long['latitude'], color = 'purple', label = 'Latitud')\n",
    "lat_dist.set_title(\"Distribución de la Latitud desde donde se generan los Clicks\", fontsize = 25)\n",
    "lat_dist.set_xlabel(\"Latitud\", fontsize = 15)\n",
    "lat_dist.set_ylabel(\"Densidad\", fontsize = 15)\n"
   ]
  },
  {
   "cell_type": "markdown",
   "metadata": {},
   "source": [
    "Voe que pasa si utilizo el logaritmo"
   ]
  },
  {
   "cell_type": "code",
   "execution_count": null,
   "metadata": {},
   "outputs": [],
   "source": [
    "lat_long['latitude_log'] = lat_long['longitude'].transform(lambda x : np.log(x))\n",
    "lat_long.head()"
   ]
  },
  {
   "cell_type": "markdown",
   "metadata": {},
   "source": [
    "Vuelvo a graficar a ver si mejora la representación"
   ]
  },
  {
   "cell_type": "code",
   "execution_count": null,
   "metadata": {},
   "outputs": [],
   "source": [
    "plt.figure(figsize=(10,5))\n",
    "lat_dist = sns.distplot(lat_long['latitude_log'], color = 'purple', label = 'Latitud_log')\n",
    "lat_dist.set_title(\"Distribución de la Latitud_log desde donde se generan los Clicks\", fontsize = 25)\n",
    "lat_dist.set_xlabel(\"Latitud_log\", fontsize = 15)\n",
    "lat_dist.set_ylabel(\"Densidad\", fontsize = 15)\n"
   ]
  },
  {
   "cell_type": "markdown",
   "metadata": {},
   "source": [
    "## Intento de BaseMap"
   ]
  },
  {
   "cell_type": "markdown",
   "metadata": {},
   "source": [
    "Importo bibliotecas necesarias para utilizar mapas"
   ]
  },
  {
   "cell_type": "code",
   "execution_count": null,
   "metadata": {},
   "outputs": [],
   "source": [
    "from mpl_toolkits.basemap import Basemap\n",
    "import numpy as np\n",
    "import matplotlib.pyplot as plt\n",
    "from matplotlib.patches import Polygon\n",
    "from matplotlib.collections import PatchCollection\n",
    "\n",
    "from matplotlib.colors import Normalize\n",
    "import matplotlib.colors as colors\n",
    "from numpy import array\n",
    "from numpy import max"
   ]
  },
  {
   "cell_type": "markdown",
   "metadata": {},
   "source": [
    "Hago una lista con las latiudes y longitudes"
   ]
  },
  {
   "cell_type": "code",
   "execution_count": null,
   "metadata": {},
   "outputs": [],
   "source": [
    "lats, long = list(clks['latitude']), list(clks['longitude'])"
   ]
  },
  {
   "cell_type": "markdown",
   "metadata": {},
   "source": [
    "Creo un mapa sin los puntos para chquear"
   ]
  },
  {
   "cell_type": "code",
   "execution_count": null,
   "metadata": {},
   "outputs": [],
   "source": [
    "eq_map = Basemap(projection='robin', resolution = 'l', area_thresh = 1000.0, lat_0=0, lon_0=-130) eq_map.drawcoastlines() eq_map.drawcountries() eq_map.fillcontinents(color = 'gray') eq_map.drawmapboundary() plt.show()\n"
   ]
  },
  {
   "cell_type": "markdown",
   "metadata": {},
   "source": [
    "Ahora creo el mismo pero marcando las coordenadas del data frame\n"
   ]
  },
  {
   "cell_type": "code",
   "execution_count": null,
   "metadata": {},
   "outputs": [],
   "source": [
    "figu, ax = plt.subplots(figsize=(20,10)) eq_map = Basemap(projection='robin', resolution = 'l', area_thresh = 1000.0, lat_0=1.20, lon_0=1.07, llcrnrlon=-2, llcrnrlat=4, urcrnrlon=4, urcrnrlat=0.3) eq_map.drawcoastlines() eq_map.drawcountries() eq_map.fillcontinents(color = 'gray') eq_map.drawmapboundary() eq_map.drawmeridians(np.arange(0, 360, 30)) eq_map.drawparallels(np.arange(-90, 90, 30))"
   ]
  },
  {
   "cell_type": "markdown",
   "metadata": {},
   "source": [
    "## Coordenadas a posiciones"
   ]
  },
  {
   "cell_type": "code",
   "execution_count": null,
   "metadata": {},
   "outputs": [],
   "source": [
    "x,y = eq_map(long, lats) eq_map.plot(x, y, '^', markersize=6)"
   ]
  },
  {
   "cell_type": "markdown",
   "metadata": {},
   "source": [
    "Observo que todos los puntos caen en el mismo lugar. Las coordenadas son diferentes pero casi todas provienen casi del mismo lugar. Chequeo esto en el data frame\n"
   ]
  },
  {
   "cell_type": "code",
   "execution_count": null,
   "metadata": {},
   "outputs": [],
   "source": [
    "clks.head(4)"
   ]
  },
  {
   "cell_type": "code",
   "execution_count": null,
   "metadata": {},
   "outputs": [],
   "source": [
    "coord = clks.loc[:, ['longitude', 'latitude']].dropna() coord.head()"
   ]
  },
  {
   "cell_type": "markdown",
   "metadata": {},
   "source": [
    "Acerco el mapa en la zona donde caen dichos puntos (Es el Golfo de Guinea en el Atlántico Norte)"
   ]
  },
  {
   "cell_type": "code",
   "execution_count": null,
   "metadata": {},
   "outputs": [],
   "source": [
    "figu, ax = plt.subplots(figsize=(20,10)) mapa2 = Basemap(projection='merc', lat_0 = 0, lon_0 = 0, resolution = 'i', llcrnrlon=-10, llcrnrlat=-10, urcrnrlon=10, urcrnrlat=10) mapa2.drawcoastlines() mapa2.drawcountries() mapa2.fillcontinents(color = 'gray') mapa2.drawmapboundary() mapa2.drawmeridians(np.arange(0, 360, 30)) mapa2.drawparallels(np.arange(-90, 90, 30))"
   ]
  },
  {
   "cell_type": "markdown",
   "metadata": {},
   "source": [
    "## Coordenadas a posiciones"
   ]
  },
  {
   "cell_type": "code",
   "execution_count": null,
   "metadata": {},
   "outputs": [],
   "source": [
    "x,y = mapa2(long, lats) mapa2.plot(x, y, '^', markersize=6)"
   ]
  },
  {
   "cell_type": "markdown",
   "metadata": {},
   "source": [
    "Debido a los pocos codigos de pais, podemos decir que no provenian de muchos, sin embargo los datos de la procedencia de los clicks no aportan información contundente."
   ]
  },
  {
   "cell_type": "code",
   "execution_count": null,
   "metadata": {},
   "outputs": [],
   "source": [
    "clks[\"country_code\"].unique()"
   ]
  },
  {
   "cell_type": "code",
   "execution_count": null,
   "metadata": {},
   "outputs": [],
   "source": []
  }
 ],
 "metadata": {
  "kernelspec": {
   "display_name": "Python 3",
   "language": "python",
   "name": "python3"
  },
  "language_info": {
   "codemirror_mode": {
    "name": "ipython",
    "version": 3
   },
   "file_extension": ".py",
   "mimetype": "text/x-python",
   "name": "python",
   "nbconvert_exporter": "python",
   "pygments_lexer": "ipython3",
   "version": "3.6.7"
  }
 },
 "nbformat": 4,
 "nbformat_minor": 2
}
