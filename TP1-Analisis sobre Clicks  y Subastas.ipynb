{
 "cells": [
  {
   "cell_type": "code",
   "execution_count": 1,
   "metadata": {},
   "outputs": [],
   "source": [
    "import pandas as pd\n",
    "import seaborn as sns \n",
    "import numpy as np\n",
    "import matplotlib.pyplot as plt"
   ]
  },
  {
   "cell_type": "code",
   "execution_count": 2,
   "metadata": {},
   "outputs": [],
   "source": [
    "subs = pd.read_csv(\"data/auctions.csv\", dtype = {\"platform\": np.int8, \"ref_type_id\": np.int8, \"source_id\": np.int8}, usecols = ['auction_type_id', 'date', 'platform', 'source_id'])\n",
    "#evts = pd.read_csv(\"data/events.csv\", dtype = {\"event_id\": np.int16, \"application_id\": np.int16})\n",
    "#inst = pd.read_csv(\"data/installs.csv\", dtype = {\"application_id\": np.int16, \"click_hash\": np.float16})\n",
    "clks = pd.read_csv(\"data/clicks.csv.gzip\", dtype = {\"advertiser_id\": np.int8, \"action_id\": np.float16, \"source_id\": np.int8, \"wifi_connection\": bool, \"carrier_id\": np.float16, \"brand\": np.float16, \"touchX\": np.float16, \"touchY\": np.float16})"
   ]
  },
  {
   "cell_type": "markdown",
   "metadata": {},
   "source": [
    "# Análisis sobre los clicks"
   ]
  },
  {
   "cell_type": "code",
   "execution_count": 3,
   "metadata": {
    "scrolled": true
   },
   "outputs": [
    {
     "data": {
      "text/html": [
       "<div>\n",
       "<style scoped>\n",
       "    .dataframe tbody tr th:only-of-type {\n",
       "        vertical-align: middle;\n",
       "    }\n",
       "\n",
       "    .dataframe tbody tr th {\n",
       "        vertical-align: top;\n",
       "    }\n",
       "\n",
       "    .dataframe thead th {\n",
       "        text-align: right;\n",
       "    }\n",
       "</style>\n",
       "<table border=\"1\" class=\"dataframe\">\n",
       "  <thead>\n",
       "    <tr style=\"text-align: right;\">\n",
       "      <th></th>\n",
       "      <th>advertiser_id</th>\n",
       "      <th>action_id</th>\n",
       "      <th>source_id</th>\n",
       "      <th>country_code</th>\n",
       "      <th>latitude</th>\n",
       "      <th>longitude</th>\n",
       "      <th>carrier_id</th>\n",
       "      <th>os_minor</th>\n",
       "      <th>agent_device</th>\n",
       "      <th>os_major</th>\n",
       "      <th>specs_brand</th>\n",
       "      <th>brand</th>\n",
       "      <th>timeToClick</th>\n",
       "      <th>touchX</th>\n",
       "      <th>touchY</th>\n",
       "      <th>ref_type</th>\n",
       "      <th>ref_hash</th>\n",
       "    </tr>\n",
       "  </thead>\n",
       "  <tbody>\n",
       "    <tr>\n",
       "      <th>count</th>\n",
       "      <td>26351.000000</td>\n",
       "      <td>0.0</td>\n",
       "      <td>26351.000000</td>\n",
       "      <td>2.635100e+04</td>\n",
       "      <td>26351.000000</td>\n",
       "      <td>26351.000000</td>\n",
       "      <td>2.634000e+04</td>\n",
       "      <td>2.633900e+04</td>\n",
       "      <td>3.243000e+03</td>\n",
       "      <td>2.633900e+04</td>\n",
       "      <td>2.635100e+04</td>\n",
       "      <td>6235.000000</td>\n",
       "      <td>22977.000000</td>\n",
       "      <td>23011.000000</td>\n",
       "      <td>23011.000000</td>\n",
       "      <td>2.635100e+04</td>\n",
       "      <td>2.635100e+04</td>\n",
       "    </tr>\n",
       "    <tr>\n",
       "      <th>mean</th>\n",
       "      <td>2.991993</td>\n",
       "      <td>NaN</td>\n",
       "      <td>1.245266</td>\n",
       "      <td>6.333597e+18</td>\n",
       "      <td>1.206906</td>\n",
       "      <td>1.070233</td>\n",
       "      <td>inf</td>\n",
       "      <td>4.635375e+18</td>\n",
       "      <td>4.171028e+18</td>\n",
       "      <td>3.913451e+18</td>\n",
       "      <td>1.299055e+18</td>\n",
       "      <td>1.481445</td>\n",
       "      <td>230.403309</td>\n",
       "      <td>0.639160</td>\n",
       "      <td>1.478516</td>\n",
       "      <td>1.888100e+18</td>\n",
       "      <td>4.611581e+18</td>\n",
       "    </tr>\n",
       "    <tr>\n",
       "      <th>std</th>\n",
       "      <td>0.164070</td>\n",
       "      <td>NaN</td>\n",
       "      <td>2.188948</td>\n",
       "      <td>1.024019e+03</td>\n",
       "      <td>0.004484</td>\n",
       "      <td>0.001896</td>\n",
       "      <td>7.015625e+00</td>\n",
       "      <td>1.642969e+18</td>\n",
       "      <td>2.460496e+18</td>\n",
       "      <td>1.885866e+18</td>\n",
       "      <td>1.149672e+18</td>\n",
       "      <td>1.583008</td>\n",
       "      <td>976.849149</td>\n",
       "      <td>0.302002</td>\n",
       "      <td>2.623047</td>\n",
       "      <td>1.721252e+17</td>\n",
       "      <td>2.673175e+18</td>\n",
       "    </tr>\n",
       "    <tr>\n",
       "      <th>min</th>\n",
       "      <td>0.000000</td>\n",
       "      <td>NaN</td>\n",
       "      <td>0.000000</td>\n",
       "      <td>6.333597e+18</td>\n",
       "      <td>1.205058</td>\n",
       "      <td>1.058204</td>\n",
       "      <td>0.000000e+00</td>\n",
       "      <td>6.666626e+17</td>\n",
       "      <td>4.513618e+16</td>\n",
       "      <td>7.436481e+17</td>\n",
       "      <td>3.921844e+17</td>\n",
       "      <td>0.000000</td>\n",
       "      <td>0.017000</td>\n",
       "      <td>0.000000</td>\n",
       "      <td>0.000000</td>\n",
       "      <td>1.494519e+18</td>\n",
       "      <td>9.286192e+14</td>\n",
       "    </tr>\n",
       "    <tr>\n",
       "      <th>25%</th>\n",
       "      <td>3.000000</td>\n",
       "      <td>NaN</td>\n",
       "      <td>0.000000</td>\n",
       "      <td>6.333597e+18</td>\n",
       "      <td>1.205689</td>\n",
       "      <td>1.070234</td>\n",
       "      <td>3.000000e+00</td>\n",
       "      <td>3.378640e+18</td>\n",
       "      <td>1.975183e+18</td>\n",
       "      <td>1.774085e+18</td>\n",
       "      <td>3.921844e+17</td>\n",
       "      <td>0.000000</td>\n",
       "      <td>2.915000</td>\n",
       "      <td>0.426025</td>\n",
       "      <td>0.182983</td>\n",
       "      <td>1.891515e+18</td>\n",
       "      <td>2.273798e+18</td>\n",
       "    </tr>\n",
       "    <tr>\n",
       "      <th>50%</th>\n",
       "      <td>3.000000</td>\n",
       "      <td>NaN</td>\n",
       "      <td>0.000000</td>\n",
       "      <td>6.333597e+18</td>\n",
       "      <td>1.205689</td>\n",
       "      <td>1.070234</td>\n",
       "      <td>6.000000e+00</td>\n",
       "      <td>3.511538e+18</td>\n",
       "      <td>3.516812e+18</td>\n",
       "      <td>3.072849e+18</td>\n",
       "      <td>3.921844e+17</td>\n",
       "      <td>1.000000</td>\n",
       "      <td>10.588000</td>\n",
       "      <td>0.726074</td>\n",
       "      <td>0.645020</td>\n",
       "      <td>1.891515e+18</td>\n",
       "      <td>4.623721e+18</td>\n",
       "    </tr>\n",
       "    <tr>\n",
       "      <th>75%</th>\n",
       "      <td>3.000000</td>\n",
       "      <td>NaN</td>\n",
       "      <td>1.000000</td>\n",
       "      <td>6.333597e+18</td>\n",
       "      <td>1.205689</td>\n",
       "      <td>1.070234</td>\n",
       "      <td>1.300000e+01</td>\n",
       "      <td>6.391567e+18</td>\n",
       "      <td>6.589622e+18</td>\n",
       "      <td>4.566454e+18</td>\n",
       "      <td>2.733036e+18</td>\n",
       "      <td>2.000000</td>\n",
       "      <td>71.703000</td>\n",
       "      <td>0.900879</td>\n",
       "      <td>0.991211</td>\n",
       "      <td>1.891515e+18</td>\n",
       "      <td>6.917850e+18</td>\n",
       "    </tr>\n",
       "    <tr>\n",
       "      <th>max</th>\n",
       "      <td>8.000000</td>\n",
       "      <td>NaN</td>\n",
       "      <td>10.000000</td>\n",
       "      <td>6.333597e+18</td>\n",
       "      <td>1.237861</td>\n",
       "      <td>1.085358</td>\n",
       "      <td>1.160000e+02</td>\n",
       "      <td>9.081082e+18</td>\n",
       "      <td>9.221733e+18</td>\n",
       "      <td>7.499732e+18</td>\n",
       "      <td>8.930605e+18</td>\n",
       "      <td>13.000000</td>\n",
       "      <td>17616.188000</td>\n",
       "      <td>1.000000</td>\n",
       "      <td>16.593750</td>\n",
       "      <td>6.323872e+18</td>\n",
       "      <td>9.221118e+18</td>\n",
       "    </tr>\n",
       "  </tbody>\n",
       "</table>\n",
       "</div>"
      ],
      "text/plain": [
       "       advertiser_id  action_id     source_id  country_code      latitude  \\\n",
       "count   26351.000000        0.0  26351.000000  2.635100e+04  26351.000000   \n",
       "mean        2.991993        NaN      1.245266  6.333597e+18      1.206906   \n",
       "std         0.164070        NaN      2.188948  1.024019e+03      0.004484   \n",
       "min         0.000000        NaN      0.000000  6.333597e+18      1.205058   \n",
       "25%         3.000000        NaN      0.000000  6.333597e+18      1.205689   \n",
       "50%         3.000000        NaN      0.000000  6.333597e+18      1.205689   \n",
       "75%         3.000000        NaN      1.000000  6.333597e+18      1.205689   \n",
       "max         8.000000        NaN     10.000000  6.333597e+18      1.237861   \n",
       "\n",
       "          longitude    carrier_id      os_minor  agent_device      os_major  \\\n",
       "count  26351.000000  2.634000e+04  2.633900e+04  3.243000e+03  2.633900e+04   \n",
       "mean       1.070233           inf  4.635375e+18  4.171028e+18  3.913451e+18   \n",
       "std        0.001896  7.015625e+00  1.642969e+18  2.460496e+18  1.885866e+18   \n",
       "min        1.058204  0.000000e+00  6.666626e+17  4.513618e+16  7.436481e+17   \n",
       "25%        1.070234  3.000000e+00  3.378640e+18  1.975183e+18  1.774085e+18   \n",
       "50%        1.070234  6.000000e+00  3.511538e+18  3.516812e+18  3.072849e+18   \n",
       "75%        1.070234  1.300000e+01  6.391567e+18  6.589622e+18  4.566454e+18   \n",
       "max        1.085358  1.160000e+02  9.081082e+18  9.221733e+18  7.499732e+18   \n",
       "\n",
       "        specs_brand        brand   timeToClick        touchX        touchY  \\\n",
       "count  2.635100e+04  6235.000000  22977.000000  23011.000000  23011.000000   \n",
       "mean   1.299055e+18     1.481445    230.403309      0.639160      1.478516   \n",
       "std    1.149672e+18     1.583008    976.849149      0.302002      2.623047   \n",
       "min    3.921844e+17     0.000000      0.017000      0.000000      0.000000   \n",
       "25%    3.921844e+17     0.000000      2.915000      0.426025      0.182983   \n",
       "50%    3.921844e+17     1.000000     10.588000      0.726074      0.645020   \n",
       "75%    2.733036e+18     2.000000     71.703000      0.900879      0.991211   \n",
       "max    8.930605e+18    13.000000  17616.188000      1.000000     16.593750   \n",
       "\n",
       "           ref_type      ref_hash  \n",
       "count  2.635100e+04  2.635100e+04  \n",
       "mean   1.888100e+18  4.611581e+18  \n",
       "std    1.721252e+17  2.673175e+18  \n",
       "min    1.494519e+18  9.286192e+14  \n",
       "25%    1.891515e+18  2.273798e+18  \n",
       "50%    1.891515e+18  4.623721e+18  \n",
       "75%    1.891515e+18  6.917850e+18  \n",
       "max    6.323872e+18  9.221118e+18  "
      ]
     },
     "execution_count": 3,
     "metadata": {},
     "output_type": "execute_result"
    }
   ],
   "source": [
    "clks.describe()"
   ]
  },
  {
   "cell_type": "code",
   "execution_count": 4,
   "metadata": {},
   "outputs": [
    {
     "data": {
      "text/html": [
       "<div>\n",
       "<style scoped>\n",
       "    .dataframe tbody tr th:only-of-type {\n",
       "        vertical-align: middle;\n",
       "    }\n",
       "\n",
       "    .dataframe tbody tr th {\n",
       "        vertical-align: top;\n",
       "    }\n",
       "\n",
       "    .dataframe thead th {\n",
       "        text-align: right;\n",
       "    }\n",
       "</style>\n",
       "<table border=\"1\" class=\"dataframe\">\n",
       "  <thead>\n",
       "    <tr style=\"text-align: right;\">\n",
       "      <th></th>\n",
       "      <th>advertiser_id</th>\n",
       "      <th>action_id</th>\n",
       "      <th>source_id</th>\n",
       "      <th>created</th>\n",
       "      <th>country_code</th>\n",
       "      <th>latitude</th>\n",
       "      <th>longitude</th>\n",
       "      <th>wifi_connection</th>\n",
       "      <th>carrier_id</th>\n",
       "      <th>trans_id</th>\n",
       "      <th>os_minor</th>\n",
       "      <th>agent_device</th>\n",
       "      <th>os_major</th>\n",
       "      <th>specs_brand</th>\n",
       "      <th>brand</th>\n",
       "      <th>timeToClick</th>\n",
       "      <th>touchX</th>\n",
       "      <th>touchY</th>\n",
       "      <th>ref_type</th>\n",
       "      <th>ref_hash</th>\n",
       "    </tr>\n",
       "  </thead>\n",
       "  <tbody>\n",
       "    <tr>\n",
       "      <th>0</th>\n",
       "      <td>2</td>\n",
       "      <td>NaN</td>\n",
       "      <td>4</td>\n",
       "      <td>2019-03-06T22:42:12.755Z</td>\n",
       "      <td>6333597102633388268</td>\n",
       "      <td>1.205689</td>\n",
       "      <td>1.070234</td>\n",
       "      <td>False</td>\n",
       "      <td>1.0</td>\n",
       "      <td>iGgClCM9exiHF4K31g94XmvHEBSLKIY</td>\n",
       "      <td>6.768137e+18</td>\n",
       "      <td>NaN</td>\n",
       "      <td>3.072849e+18</td>\n",
       "      <td>2733035977666442898</td>\n",
       "      <td>NaN</td>\n",
       "      <td>1.563</td>\n",
       "      <td>0.904785</td>\n",
       "      <td>0.078003</td>\n",
       "      <td>1891515180541284343</td>\n",
       "      <td>1904083516767779093</td>\n",
       "    </tr>\n",
       "    <tr>\n",
       "      <th>1</th>\n",
       "      <td>0</td>\n",
       "      <td>NaN</td>\n",
       "      <td>0</td>\n",
       "      <td>2019-03-08T10:24:30.641Z</td>\n",
       "      <td>6333597102633388268</td>\n",
       "      <td>1.218924</td>\n",
       "      <td>1.071209</td>\n",
       "      <td>False</td>\n",
       "      <td>4.0</td>\n",
       "      <td>MMHTOJ6qKAOeIH_Eywh1KIcCaxtO9oM</td>\n",
       "      <td>3.025219e+18</td>\n",
       "      <td>NaN</td>\n",
       "      <td>1.774085e+18</td>\n",
       "      <td>392184377613098015</td>\n",
       "      <td>NaN</td>\n",
       "      <td>NaN</td>\n",
       "      <td>NaN</td>\n",
       "      <td>NaN</td>\n",
       "      <td>1891515180541284343</td>\n",
       "      <td>3086509764961796666</td>\n",
       "    </tr>\n",
       "    <tr>\n",
       "      <th>2</th>\n",
       "      <td>0</td>\n",
       "      <td>NaN</td>\n",
       "      <td>0</td>\n",
       "      <td>2019-03-08T15:24:16.069Z</td>\n",
       "      <td>6333597102633388268</td>\n",
       "      <td>1.205689</td>\n",
       "      <td>1.070234</td>\n",
       "      <td>False</td>\n",
       "      <td>6.0</td>\n",
       "      <td>vIrEIdf9izUaWdAri6Ezk7T3nHFvNQU</td>\n",
       "      <td>5.975656e+18</td>\n",
       "      <td>NaN</td>\n",
       "      <td>3.072849e+18</td>\n",
       "      <td>392184377613098015</td>\n",
       "      <td>NaN</td>\n",
       "      <td>NaN</td>\n",
       "      <td>0.945801</td>\n",
       "      <td>0.472900</td>\n",
       "      <td>1891515180541284343</td>\n",
       "      <td>6958163894863846647</td>\n",
       "    </tr>\n",
       "    <tr>\n",
       "      <th>3</th>\n",
       "      <td>2</td>\n",
       "      <td>NaN</td>\n",
       "      <td>3</td>\n",
       "      <td>2019-03-06T03:08:51.543Z</td>\n",
       "      <td>6333597102633388268</td>\n",
       "      <td>1.205689</td>\n",
       "      <td>1.070234</td>\n",
       "      <td>False</td>\n",
       "      <td>45.0</td>\n",
       "      <td>YaKxxEAs2UmZhSpRfiCO9Zpa82B_AKM</td>\n",
       "      <td>6.768137e+18</td>\n",
       "      <td>NaN</td>\n",
       "      <td>3.072849e+18</td>\n",
       "      <td>2733035977666442898</td>\n",
       "      <td>NaN</td>\n",
       "      <td>19.013</td>\n",
       "      <td>0.035004</td>\n",
       "      <td>0.430908</td>\n",
       "      <td>1891515180541284343</td>\n",
       "      <td>4368617728156436525</td>\n",
       "    </tr>\n",
       "    <tr>\n",
       "      <th>4</th>\n",
       "      <td>2</td>\n",
       "      <td>NaN</td>\n",
       "      <td>3</td>\n",
       "      <td>2019-03-06T03:32:55.570Z</td>\n",
       "      <td>6333597102633388268</td>\n",
       "      <td>1.205689</td>\n",
       "      <td>1.070234</td>\n",
       "      <td>False</td>\n",
       "      <td>45.0</td>\n",
       "      <td>X5XTOcYQovkl6yadYdAD7xioVGU9jiY</td>\n",
       "      <td>6.768137e+18</td>\n",
       "      <td>NaN</td>\n",
       "      <td>3.072849e+18</td>\n",
       "      <td>2733035977666442898</td>\n",
       "      <td>NaN</td>\n",
       "      <td>28.110</td>\n",
       "      <td>0.053986</td>\n",
       "      <td>0.423096</td>\n",
       "      <td>1891515180541284343</td>\n",
       "      <td>4368617728156436525</td>\n",
       "    </tr>\n",
       "  </tbody>\n",
       "</table>\n",
       "</div>"
      ],
      "text/plain": [
       "   advertiser_id  action_id  source_id                   created  \\\n",
       "0              2        NaN          4  2019-03-06T22:42:12.755Z   \n",
       "1              0        NaN          0  2019-03-08T10:24:30.641Z   \n",
       "2              0        NaN          0  2019-03-08T15:24:16.069Z   \n",
       "3              2        NaN          3  2019-03-06T03:08:51.543Z   \n",
       "4              2        NaN          3  2019-03-06T03:32:55.570Z   \n",
       "\n",
       "          country_code  latitude  longitude  wifi_connection  carrier_id  \\\n",
       "0  6333597102633388268  1.205689   1.070234            False         1.0   \n",
       "1  6333597102633388268  1.218924   1.071209            False         4.0   \n",
       "2  6333597102633388268  1.205689   1.070234            False         6.0   \n",
       "3  6333597102633388268  1.205689   1.070234            False        45.0   \n",
       "4  6333597102633388268  1.205689   1.070234            False        45.0   \n",
       "\n",
       "                          trans_id      os_minor  agent_device      os_major  \\\n",
       "0  iGgClCM9exiHF4K31g94XmvHEBSLKIY  6.768137e+18           NaN  3.072849e+18   \n",
       "1  MMHTOJ6qKAOeIH_Eywh1KIcCaxtO9oM  3.025219e+18           NaN  1.774085e+18   \n",
       "2  vIrEIdf9izUaWdAri6Ezk7T3nHFvNQU  5.975656e+18           NaN  3.072849e+18   \n",
       "3  YaKxxEAs2UmZhSpRfiCO9Zpa82B_AKM  6.768137e+18           NaN  3.072849e+18   \n",
       "4  X5XTOcYQovkl6yadYdAD7xioVGU9jiY  6.768137e+18           NaN  3.072849e+18   \n",
       "\n",
       "           specs_brand  brand  timeToClick    touchX    touchY  \\\n",
       "0  2733035977666442898    NaN        1.563  0.904785  0.078003   \n",
       "1   392184377613098015    NaN          NaN       NaN       NaN   \n",
       "2   392184377613098015    NaN          NaN  0.945801  0.472900   \n",
       "3  2733035977666442898    NaN       19.013  0.035004  0.430908   \n",
       "4  2733035977666442898    NaN       28.110  0.053986  0.423096   \n",
       "\n",
       "              ref_type             ref_hash  \n",
       "0  1891515180541284343  1904083516767779093  \n",
       "1  1891515180541284343  3086509764961796666  \n",
       "2  1891515180541284343  6958163894863846647  \n",
       "3  1891515180541284343  4368617728156436525  \n",
       "4  1891515180541284343  4368617728156436525  "
      ]
     },
     "execution_count": 4,
     "metadata": {},
     "output_type": "execute_result"
    }
   ],
   "source": [
    "clks.head()"
   ]
  },
  {
   "cell_type": "code",
   "execution_count": 5,
   "metadata": {},
   "outputs": [
    {
     "data": {
      "text/plain": [
       "False    26351\n",
       "Name: wifi_connection, dtype: int64"
      ]
     },
     "execution_count": 5,
     "metadata": {},
     "output_type": "execute_result"
    }
   ],
   "source": [
    "clks['wifi_connection'].value_counts()"
   ]
  },
  {
   "cell_type": "code",
   "execution_count": 6,
   "metadata": {},
   "outputs": [
    {
     "data": {
      "text/plain": [
       "6904042"
      ]
     },
     "execution_count": 6,
     "metadata": {},
     "output_type": "execute_result"
    }
   ],
   "source": [
    "clks.memory_usage(deep = True).sum()"
   ]
  },
  {
   "cell_type": "markdown",
   "metadata": {},
   "source": [
    "## ¿Cómo se distribuye el tiempo que tardan los usuarios en dar click?"
   ]
  },
  {
   "cell_type": "code",
   "execution_count": 7,
   "metadata": {},
   "outputs": [
    {
     "data": {
      "text/plain": [
       "advertiser_id      26351\n",
       "action_id              0\n",
       "source_id          26351\n",
       "created            26351\n",
       "country_code       26351\n",
       "latitude           26351\n",
       "longitude          26351\n",
       "wifi_connection    26351\n",
       "carrier_id         26340\n",
       "trans_id           26351\n",
       "os_minor           26339\n",
       "agent_device        3243\n",
       "os_major           26339\n",
       "specs_brand        26351\n",
       "brand               6235\n",
       "timeToClick        22977\n",
       "touchX             23011\n",
       "touchY             23011\n",
       "ref_type           26351\n",
       "ref_hash           26351\n",
       "dtype: int64"
      ]
     },
     "execution_count": 7,
     "metadata": {},
     "output_type": "execute_result"
    }
   ],
   "source": [
    "clks.count()"
   ]
  },
  {
   "cell_type": "code",
   "execution_count": 8,
   "metadata": {},
   "outputs": [],
   "source": [
    "clickTime = clks['timeToClick'].dropna()"
   ]
  },
  {
   "cell_type": "code",
   "execution_count": 9,
   "metadata": {},
   "outputs": [
    {
     "data": {
      "text/plain": [
       "22977"
      ]
     },
     "execution_count": 9,
     "metadata": {},
     "output_type": "execute_result"
    }
   ],
   "source": [
    "clickTime.count()"
   ]
  },
  {
   "cell_type": "code",
   "execution_count": 10,
   "metadata": {},
   "outputs": [
    {
     "data": {
      "text/plain": [
       "23818    17616.188\n",
       "5606     16915.195\n",
       "13465    16698.536\n",
       "14350    16466.667\n",
       "15691    15776.097\n",
       "Name: timeToClick, dtype: float64"
      ]
     },
     "execution_count": 10,
     "metadata": {},
     "output_type": "execute_result"
    }
   ],
   "source": [
    "clickTime.nlargest(5)"
   ]
  },
  {
   "cell_type": "code",
   "execution_count": 11,
   "metadata": {},
   "outputs": [
    {
     "data": {
      "text/plain": [
       "Text(0,0.5,'Frecuencia')"
      ]
     },
     "execution_count": 11,
     "metadata": {},
     "output_type": "execute_result"
    },
    {
     "data": {
      "image/png": "[encoded data removed]",
      "text/plain": [
       "<matplotlib.figure.Figure at 0x7fb257cd77f0>"
      ]
     },
     "metadata": {
      "needs_background": "light"
     },
     "output_type": "display_data"
    }
   ],
   "source": [
    "grafico = clickTime.plot.hist(bins=50, color='goldenrod', figsize=(10,8))\n",
    "grafico.set_title(\"Histograma: cantidad de segundos que tarda un usuario en dar click\", fontsize = 20)\n",
    "grafico.set_xlabel(\"Tiempo en segundos\",fontsize=15)\n",
    "grafico.set_ylabel(\"Frecuencia\", fontsize=15)"
   ]
  },
  {
   "cell_type": "markdown",
   "metadata": {},
   "source": [
    "Veamos si aplicando el logaritmo se logra un gráfico más descriptivo:"
   ]
  },
  {
   "cell_type": "code",
   "execution_count": 12,
   "metadata": {},
   "outputs": [],
   "source": [
    "clickTimeLog = clickTime.transform(lambda x: np.log(x))"
   ]
  },
  {
   "cell_type": "code",
   "execution_count": 56,
   "metadata": {},
   "outputs": [
    {
     "data": {
      "text/plain": [
       "Text(0,0.5,'Frecuencia')"
      ]
     },
     "execution_count": 56,
     "metadata": {},
     "output_type": "execute_result"
    },
    {
     "data": {
      "image/png": "[encoded data removed]",
      "text/plain": [
       "<matplotlib.figure.Figure at 0x7fb1ef545240>"
      ]
     },
     "metadata": {},
     "output_type": "display_data"
    }
   ],
   "source": [
    "sns.set_style('darkgrid')\n",
    "grafico_log = clickTimeLog.plot.hist(bins=50, color='skyblue', figsize=(10,7))\n",
    "grafico_log.set_title(\"Histograma: Segundos (log) que tarda un usuario en dar click\", fontsize = 20)\n",
    "grafico_log.set_xlabel(\"Tiempo en segundos (log)\",fontsize=15)\n",
    "grafico_log.set_ylabel(\"Frecuencia\", fontsize=15)"
   ]
  },
  {
   "cell_type": "markdown",
   "metadata": {},
   "source": [
    "## Veamos ahora qué sucede con la posición desde donde se dan los clicks:"
   ]
  },
  {
   "cell_type": "code",
   "execution_count": 14,
   "metadata": {},
   "outputs": [
    {
     "data": {
      "text/html": [
       "<div>\n",
       "<style scoped>\n",
       "    .dataframe tbody tr th:only-of-type {\n",
       "        vertical-align: middle;\n",
       "    }\n",
       "\n",
       "    .dataframe tbody tr th {\n",
       "        vertical-align: top;\n",
       "    }\n",
       "\n",
       "    .dataframe thead th {\n",
       "        text-align: right;\n",
       "    }\n",
       "</style>\n",
       "<table border=\"1\" class=\"dataframe\">\n",
       "  <thead>\n",
       "    <tr style=\"text-align: right;\">\n",
       "      <th></th>\n",
       "      <th>touchX</th>\n",
       "      <th>touchY</th>\n",
       "    </tr>\n",
       "  </thead>\n",
       "  <tbody>\n",
       "    <tr>\n",
       "      <th>0</th>\n",
       "      <td>0.904785</td>\n",
       "      <td>0.078003</td>\n",
       "    </tr>\n",
       "    <tr>\n",
       "      <th>2</th>\n",
       "      <td>0.945801</td>\n",
       "      <td>0.472900</td>\n",
       "    </tr>\n",
       "    <tr>\n",
       "      <th>3</th>\n",
       "      <td>0.035004</td>\n",
       "      <td>0.430908</td>\n",
       "    </tr>\n",
       "    <tr>\n",
       "      <th>4</th>\n",
       "      <td>0.053986</td>\n",
       "      <td>0.423096</td>\n",
       "    </tr>\n",
       "    <tr>\n",
       "      <th>5</th>\n",
       "      <td>0.605957</td>\n",
       "      <td>0.458984</td>\n",
       "    </tr>\n",
       "  </tbody>\n",
       "</table>\n",
       "</div>"
      ],
      "text/plain": [
       "     touchX    touchY\n",
       "0  0.904785  0.078003\n",
       "2  0.945801  0.472900\n",
       "3  0.035004  0.430908\n",
       "4  0.053986  0.423096\n",
       "5  0.605957  0.458984"
      ]
     },
     "execution_count": 14,
     "metadata": {},
     "output_type": "execute_result"
    }
   ],
   "source": [
    "clickPos = clks.loc[:, ['touchX', 'touchY']].dropna()\n",
    "clickPos.head()"
   ]
  },
  {
   "cell_type": "code",
   "execution_count": 15,
   "metadata": {},
   "outputs": [
    {
     "data": {
      "text/plain": [
       "0.996094    204\n",
       "0.994141    129\n",
       "0.995117    110\n",
       "0.937988     94\n",
       "0.998047     92\n",
       "Name: touchX, dtype: int64"
      ]
     },
     "execution_count": 15,
     "metadata": {},
     "output_type": "execute_result"
    }
   ],
   "source": [
    "clickPos['touchX'].value_counts().head()"
   ]
  },
  {
   "cell_type": "code",
   "execution_count": 16,
   "metadata": {},
   "outputs": [
    {
     "data": {
      "text/plain": [
       "0.000000    193\n",
       "0.998047    140\n",
       "0.994141     81\n",
       "0.996094     80\n",
       "0.022995     79\n",
       "Name: touchY, dtype: int64"
      ]
     },
     "execution_count": 16,
     "metadata": {},
     "output_type": "execute_result"
    }
   ],
   "source": [
    "clickPos['touchY'].value_counts().head()"
   ]
  },
  {
   "cell_type": "markdown",
   "metadata": {},
   "source": [
    "Veo si un gráfico de distribución conjunta me muestra algo sobre estos valores"
   ]
  },
  {
   "cell_type": "code",
   "execution_count": 17,
   "metadata": {},
   "outputs": [
    {
     "data": {
      "text/plain": [
       "<matplotlib.legend.Legend at 0x7fb2568af898>"
      ]
     },
     "execution_count": 17,
     "metadata": {},
     "output_type": "execute_result"
    },
    {
     "data": {
      "image/png": "[encoded data removed]",
      "text/plain": [
       "<matplotlib.figure.Figure at 0x7fb257c41780>"
      ]
     },
     "metadata": {},
     "output_type": "display_data"
    }
   ],
   "source": [
    "plt.figure(figsize=(8,8))\n",
    "g_dist = sns.distplot(clickPos['touchX'], color='crimson', label = 'Posición en X')\n",
    "g_dist = sns.distplot(clickPos['touchY'], color='royalblue', label = 'posición en Y')\n",
    "g_dist.set_title(\"Distribución de la posición de clicks en pantalla\", fontsize = 25)\n",
    "g_dist.set_xlabel(\"Posición en pantalla\", fontsize = 15)\n",
    "g_dist.set_ylabel(\"Densidad\", fontsize = 15)\n",
    "g_dist.legend()"
   ]
  },
  {
   "cell_type": "markdown",
   "metadata": {},
   "source": [
    "Alternativa utilizando un Scatter plot"
   ]
  },
  {
   "cell_type": "code",
   "execution_count": 18,
   "metadata": {},
   "outputs": [
    {
     "data": {
      "text/plain": [
       "Text(0,0.5,'Posición en Y')"
      ]
     },
     "execution_count": 18,
     "metadata": {},
     "output_type": "execute_result"
    },
    {
     "data": {
      "image/png": "[encoded data removed]",
      "text/plain": [
       "<matplotlib.figure.Figure at 0x7fb256863080>"
      ]
     },
     "metadata": {},
     "output_type": "display_data"
    }
   ],
   "source": [
    "plt.figure(figsize = (10,5))\n",
    "g = sns.regplot(x = \"touchX\", y = \"touchY\", \n",
    "                    data = clickPos, color = 'orchid')\n",
    "g.set_title(\"Relacion entre los clicks en la posición X e Y\", fontsize = 20)\n",
    "g.set_xlabel(\"Posición en X\", fontsize = 15)\n",
    "g.set_ylabel(\"Posición en Y\", fontsize = 15)"
   ]
  },
  {
   "cell_type": "markdown",
   "metadata": {},
   "source": [
    "# Análisis sobre las subastas"
   ]
  },
  {
   "cell_type": "code",
   "execution_count": 19,
   "metadata": {},
   "outputs": [
    {
     "data": {
      "text/html": [
       "<div>\n",
       "<style scoped>\n",
       "    .dataframe tbody tr th:only-of-type {\n",
       "        vertical-align: middle;\n",
       "    }\n",
       "\n",
       "    .dataframe tbody tr th {\n",
       "        vertical-align: top;\n",
       "    }\n",
       "\n",
       "    .dataframe thead th {\n",
       "        text-align: right;\n",
       "    }\n",
       "</style>\n",
       "<table border=\"1\" class=\"dataframe\">\n",
       "  <thead>\n",
       "    <tr style=\"text-align: right;\">\n",
       "      <th></th>\n",
       "      <th>auction_type_id</th>\n",
       "      <th>platform</th>\n",
       "      <th>source_id</th>\n",
       "    </tr>\n",
       "  </thead>\n",
       "  <tbody>\n",
       "    <tr>\n",
       "      <th>count</th>\n",
       "      <td>0.0</td>\n",
       "      <td>1.957132e+07</td>\n",
       "      <td>1.957132e+07</td>\n",
       "    </tr>\n",
       "    <tr>\n",
       "      <th>mean</th>\n",
       "      <td>NaN</td>\n",
       "      <td>1.205888e+00</td>\n",
       "      <td>6.857898e-01</td>\n",
       "    </tr>\n",
       "    <tr>\n",
       "      <th>std</th>\n",
       "      <td>NaN</td>\n",
       "      <td>4.043488e-01</td>\n",
       "      <td>1.416215e+00</td>\n",
       "    </tr>\n",
       "    <tr>\n",
       "      <th>min</th>\n",
       "      <td>NaN</td>\n",
       "      <td>1.000000e+00</td>\n",
       "      <td>0.000000e+00</td>\n",
       "    </tr>\n",
       "    <tr>\n",
       "      <th>25%</th>\n",
       "      <td>NaN</td>\n",
       "      <td>1.000000e+00</td>\n",
       "      <td>0.000000e+00</td>\n",
       "    </tr>\n",
       "    <tr>\n",
       "      <th>50%</th>\n",
       "      <td>NaN</td>\n",
       "      <td>1.000000e+00</td>\n",
       "      <td>0.000000e+00</td>\n",
       "    </tr>\n",
       "    <tr>\n",
       "      <th>75%</th>\n",
       "      <td>NaN</td>\n",
       "      <td>1.000000e+00</td>\n",
       "      <td>1.000000e+00</td>\n",
       "    </tr>\n",
       "    <tr>\n",
       "      <th>max</th>\n",
       "      <td>NaN</td>\n",
       "      <td>2.000000e+00</td>\n",
       "      <td>6.000000e+00</td>\n",
       "    </tr>\n",
       "  </tbody>\n",
       "</table>\n",
       "</div>"
      ],
      "text/plain": [
       "       auction_type_id      platform     source_id\n",
       "count              0.0  1.957132e+07  1.957132e+07\n",
       "mean               NaN  1.205888e+00  6.857898e-01\n",
       "std                NaN  4.043488e-01  1.416215e+00\n",
       "min                NaN  1.000000e+00  0.000000e+00\n",
       "25%                NaN  1.000000e+00  0.000000e+00\n",
       "50%                NaN  1.000000e+00  0.000000e+00\n",
       "75%                NaN  1.000000e+00  1.000000e+00\n",
       "max                NaN  2.000000e+00  6.000000e+00"
      ]
     },
     "execution_count": 19,
     "metadata": {},
     "output_type": "execute_result"
    }
   ],
   "source": [
    "subs.describe()"
   ]
  },
  {
   "cell_type": "code",
   "execution_count": 20,
   "metadata": {},
   "outputs": [
    {
     "data": {
      "text/plain": [
       "auction_type_id           0\n",
       "date               19571319\n",
       "platform           19571319\n",
       "source_id          19571319\n",
       "dtype: int64"
      ]
     },
     "execution_count": 20,
     "metadata": {},
     "output_type": "execute_result"
    }
   ],
   "source": [
    "subs.count()"
   ]
  },
  {
   "cell_type": "markdown",
   "metadata": {},
   "source": [
    "## Veo que información puedo obtener de las Fechas y horarios en que se realizan las subastas"
   ]
  },
  {
   "cell_type": "code",
   "execution_count": 21,
   "metadata": {},
   "outputs": [],
   "source": [
    "subs['day'] = pd.to_datetime(subs['date'], format='%Y%m%d %H:%M:%S.%f').dt.day\n",
    "subs['hour'] = pd.to_datetime(subs['date'], format='%Y%m%d %H:%M:%S.%f').dt.hour"
   ]
  },
  {
   "cell_type": "code",
   "execution_count": 22,
   "metadata": {},
   "outputs": [
    {
     "data": {
      "text/html": [
       "<div>\n",
       "<style scoped>\n",
       "    .dataframe tbody tr th:only-of-type {\n",
       "        vertical-align: middle;\n",
       "    }\n",
       "\n",
       "    .dataframe tbody tr th {\n",
       "        vertical-align: top;\n",
       "    }\n",
       "\n",
       "    .dataframe thead th {\n",
       "        text-align: right;\n",
       "    }\n",
       "</style>\n",
       "<table border=\"1\" class=\"dataframe\">\n",
       "  <thead>\n",
       "    <tr style=\"text-align: right;\">\n",
       "      <th></th>\n",
       "      <th>auction_type_id</th>\n",
       "      <th>date</th>\n",
       "      <th>platform</th>\n",
       "      <th>source_id</th>\n",
       "      <th>day</th>\n",
       "      <th>hour</th>\n",
       "    </tr>\n",
       "  </thead>\n",
       "  <tbody>\n",
       "    <tr>\n",
       "      <th>0</th>\n",
       "      <td>NaN</td>\n",
       "      <td>2019-03-11 14:18:33.290763</td>\n",
       "      <td>1</td>\n",
       "      <td>0</td>\n",
       "      <td>11</td>\n",
       "      <td>14</td>\n",
       "    </tr>\n",
       "    <tr>\n",
       "      <th>1</th>\n",
       "      <td>NaN</td>\n",
       "      <td>2019-03-11 14:18:34.440157</td>\n",
       "      <td>1</td>\n",
       "      <td>0</td>\n",
       "      <td>11</td>\n",
       "      <td>14</td>\n",
       "    </tr>\n",
       "    <tr>\n",
       "      <th>2</th>\n",
       "      <td>NaN</td>\n",
       "      <td>2019-03-11 14:18:35.862360</td>\n",
       "      <td>1</td>\n",
       "      <td>0</td>\n",
       "      <td>11</td>\n",
       "      <td>14</td>\n",
       "    </tr>\n",
       "    <tr>\n",
       "      <th>3</th>\n",
       "      <td>NaN</td>\n",
       "      <td>2019-03-11 14:18:36.167163</td>\n",
       "      <td>1</td>\n",
       "      <td>0</td>\n",
       "      <td>11</td>\n",
       "      <td>14</td>\n",
       "    </tr>\n",
       "    <tr>\n",
       "      <th>4</th>\n",
       "      <td>NaN</td>\n",
       "      <td>2019-03-11 14:18:37.728590</td>\n",
       "      <td>1</td>\n",
       "      <td>0</td>\n",
       "      <td>11</td>\n",
       "      <td>14</td>\n",
       "    </tr>\n",
       "  </tbody>\n",
       "</table>\n",
       "</div>"
      ],
      "text/plain": [
       "   auction_type_id                        date  platform  source_id  day  hour\n",
       "0              NaN  2019-03-11 14:18:33.290763         1          0   11    14\n",
       "1              NaN  2019-03-11 14:18:34.440157         1          0   11    14\n",
       "2              NaN  2019-03-11 14:18:35.862360         1          0   11    14\n",
       "3              NaN  2019-03-11 14:18:36.167163         1          0   11    14\n",
       "4              NaN  2019-03-11 14:18:37.728590         1          0   11    14"
      ]
     },
     "execution_count": 22,
     "metadata": {},
     "output_type": "execute_result"
    }
   ],
   "source": [
    "subs.head()"
   ]
  },
  {
   "cell_type": "code",
   "execution_count": 23,
   "metadata": {},
   "outputs": [],
   "source": [
    "subs_counts = subs.groupby(['day', 'hour']).count()"
   ]
  },
  {
   "cell_type": "code",
   "execution_count": 24,
   "metadata": {},
   "outputs": [
    {
     "data": {
      "text/html": [
       "<div>\n",
       "<style scoped>\n",
       "    .dataframe tbody tr th:only-of-type {\n",
       "        vertical-align: middle;\n",
       "    }\n",
       "\n",
       "    .dataframe tbody tr th {\n",
       "        vertical-align: top;\n",
       "    }\n",
       "\n",
       "    .dataframe thead th {\n",
       "        text-align: right;\n",
       "    }\n",
       "</style>\n",
       "<table border=\"1\" class=\"dataframe\">\n",
       "  <thead>\n",
       "    <tr style=\"text-align: right;\">\n",
       "      <th></th>\n",
       "      <th>day</th>\n",
       "      <th>hour</th>\n",
       "      <th>auction_type_id</th>\n",
       "      <th>date</th>\n",
       "      <th>platform</th>\n",
       "      <th>source_id</th>\n",
       "    </tr>\n",
       "  </thead>\n",
       "  <tbody>\n",
       "    <tr>\n",
       "      <th>0</th>\n",
       "      <td>5</td>\n",
       "      <td>0</td>\n",
       "      <td>0</td>\n",
       "      <td>14859</td>\n",
       "      <td>14859</td>\n",
       "      <td>14859</td>\n",
       "    </tr>\n",
       "    <tr>\n",
       "      <th>1</th>\n",
       "      <td>5</td>\n",
       "      <td>1</td>\n",
       "      <td>0</td>\n",
       "      <td>174893</td>\n",
       "      <td>174893</td>\n",
       "      <td>174893</td>\n",
       "    </tr>\n",
       "    <tr>\n",
       "      <th>2</th>\n",
       "      <td>5</td>\n",
       "      <td>2</td>\n",
       "      <td>0</td>\n",
       "      <td>155339</td>\n",
       "      <td>155339</td>\n",
       "      <td>155339</td>\n",
       "    </tr>\n",
       "    <tr>\n",
       "      <th>3</th>\n",
       "      <td>5</td>\n",
       "      <td>3</td>\n",
       "      <td>0</td>\n",
       "      <td>108498</td>\n",
       "      <td>108498</td>\n",
       "      <td>108498</td>\n",
       "    </tr>\n",
       "    <tr>\n",
       "      <th>4</th>\n",
       "      <td>5</td>\n",
       "      <td>4</td>\n",
       "      <td>0</td>\n",
       "      <td>74230</td>\n",
       "      <td>74230</td>\n",
       "      <td>74230</td>\n",
       "    </tr>\n",
       "  </tbody>\n",
       "</table>\n",
       "</div>"
      ],
      "text/plain": [
       "   day  hour  auction_type_id    date  platform  source_id\n",
       "0    5     0                0   14859     14859      14859\n",
       "1    5     1                0  174893    174893     174893\n",
       "2    5     2                0  155339    155339     155339\n",
       "3    5     3                0  108498    108498     108498\n",
       "4    5     4                0   74230     74230      74230"
      ]
     },
     "execution_count": 24,
     "metadata": {},
     "output_type": "execute_result"
    }
   ],
   "source": [
    "subs_counts = subs_counts.reset_index()\n",
    "subs_counts.head()"
   ]
  },
  {
   "cell_type": "code",
   "execution_count": 25,
   "metadata": {},
   "outputs": [
    {
     "data": {
      "text/html": [
       "<div>\n",
       "<style scoped>\n",
       "    .dataframe tbody tr th:only-of-type {\n",
       "        vertical-align: middle;\n",
       "    }\n",
       "\n",
       "    .dataframe tbody tr th {\n",
       "        vertical-align: top;\n",
       "    }\n",
       "\n",
       "    .dataframe thead th {\n",
       "        text-align: right;\n",
       "    }\n",
       "</style>\n",
       "<table border=\"1\" class=\"dataframe\">\n",
       "  <thead>\n",
       "    <tr style=\"text-align: right;\">\n",
       "      <th>hour</th>\n",
       "      <th>0</th>\n",
       "      <th>1</th>\n",
       "      <th>2</th>\n",
       "      <th>3</th>\n",
       "      <th>4</th>\n",
       "      <th>5</th>\n",
       "      <th>6</th>\n",
       "      <th>7</th>\n",
       "      <th>8</th>\n",
       "      <th>9</th>\n",
       "      <th>...</th>\n",
       "      <th>14</th>\n",
       "      <th>15</th>\n",
       "      <th>16</th>\n",
       "      <th>17</th>\n",
       "      <th>18</th>\n",
       "      <th>19</th>\n",
       "      <th>20</th>\n",
       "      <th>21</th>\n",
       "      <th>22</th>\n",
       "      <th>23</th>\n",
       "    </tr>\n",
       "    <tr>\n",
       "      <th>day</th>\n",
       "      <th></th>\n",
       "      <th></th>\n",
       "      <th></th>\n",
       "      <th></th>\n",
       "      <th></th>\n",
       "      <th></th>\n",
       "      <th></th>\n",
       "      <th></th>\n",
       "      <th></th>\n",
       "      <th></th>\n",
       "      <th></th>\n",
       "      <th></th>\n",
       "      <th></th>\n",
       "      <th></th>\n",
       "      <th></th>\n",
       "      <th></th>\n",
       "      <th></th>\n",
       "      <th></th>\n",
       "      <th></th>\n",
       "      <th></th>\n",
       "      <th></th>\n",
       "    </tr>\n",
       "  </thead>\n",
       "  <tbody>\n",
       "    <tr>\n",
       "      <th>5</th>\n",
       "      <td>14859</td>\n",
       "      <td>174893</td>\n",
       "      <td>155339</td>\n",
       "      <td>108498</td>\n",
       "      <td>74230</td>\n",
       "      <td>52970</td>\n",
       "      <td>38836</td>\n",
       "      <td>29149</td>\n",
       "      <td>25668</td>\n",
       "      <td>25213</td>\n",
       "      <td>...</td>\n",
       "      <td>20191</td>\n",
       "      <td>21520</td>\n",
       "      <td>24486</td>\n",
       "      <td>25590</td>\n",
       "      <td>27850</td>\n",
       "      <td>27216</td>\n",
       "      <td>32064</td>\n",
       "      <td>34112</td>\n",
       "      <td>32031</td>\n",
       "      <td>33081</td>\n",
       "    </tr>\n",
       "    <tr>\n",
       "      <th>6</th>\n",
       "      <td>34045</td>\n",
       "      <td>121530</td>\n",
       "      <td>144125</td>\n",
       "      <td>105575</td>\n",
       "      <td>79694</td>\n",
       "      <td>49859</td>\n",
       "      <td>32616</td>\n",
       "      <td>22241</td>\n",
       "      <td>19658</td>\n",
       "      <td>25923</td>\n",
       "      <td>...</td>\n",
       "      <td>15835</td>\n",
       "      <td>18415</td>\n",
       "      <td>19282</td>\n",
       "      <td>19893</td>\n",
       "      <td>21387</td>\n",
       "      <td>21257</td>\n",
       "      <td>25604</td>\n",
       "      <td>28133</td>\n",
       "      <td>27221</td>\n",
       "      <td>26983</td>\n",
       "    </tr>\n",
       "    <tr>\n",
       "      <th>7</th>\n",
       "      <td>33714</td>\n",
       "      <td>73944</td>\n",
       "      <td>117576</td>\n",
       "      <td>105663</td>\n",
       "      <td>69720</td>\n",
       "      <td>48781</td>\n",
       "      <td>30441</td>\n",
       "      <td>23366</td>\n",
       "      <td>25644</td>\n",
       "      <td>39185</td>\n",
       "      <td>...</td>\n",
       "      <td>107234</td>\n",
       "      <td>116834</td>\n",
       "      <td>120279</td>\n",
       "      <td>122796</td>\n",
       "      <td>118613</td>\n",
       "      <td>113646</td>\n",
       "      <td>110337</td>\n",
       "      <td>118925</td>\n",
       "      <td>128495</td>\n",
       "      <td>119828</td>\n",
       "    </tr>\n",
       "    <tr>\n",
       "      <th>8</th>\n",
       "      <td>147676</td>\n",
       "      <td>179568</td>\n",
       "      <td>132846</td>\n",
       "      <td>96914</td>\n",
       "      <td>66466</td>\n",
       "      <td>44932</td>\n",
       "      <td>28167</td>\n",
       "      <td>21769</td>\n",
       "      <td>22414</td>\n",
       "      <td>33677</td>\n",
       "      <td>...</td>\n",
       "      <td>90983</td>\n",
       "      <td>105656</td>\n",
       "      <td>112503</td>\n",
       "      <td>115820</td>\n",
       "      <td>112643</td>\n",
       "      <td>116859</td>\n",
       "      <td>126961</td>\n",
       "      <td>141799</td>\n",
       "      <td>150264</td>\n",
       "      <td>171646</td>\n",
       "    </tr>\n",
       "    <tr>\n",
       "      <th>9</th>\n",
       "      <td>159540</td>\n",
       "      <td>154556</td>\n",
       "      <td>137265</td>\n",
       "      <td>100093</td>\n",
       "      <td>72865</td>\n",
       "      <td>52740</td>\n",
       "      <td>35537</td>\n",
       "      <td>30032</td>\n",
       "      <td>29218</td>\n",
       "      <td>30745</td>\n",
       "      <td>...</td>\n",
       "      <td>114978</td>\n",
       "      <td>131906</td>\n",
       "      <td>140556</td>\n",
       "      <td>151099</td>\n",
       "      <td>169759</td>\n",
       "      <td>146123</td>\n",
       "      <td>31244</td>\n",
       "      <td>30868</td>\n",
       "      <td>31956</td>\n",
       "      <td>38739</td>\n",
       "    </tr>\n",
       "  </tbody>\n",
       "</table>\n",
       "<p>5 rows × 24 columns</p>\n",
       "</div>"
      ],
      "text/plain": [
       "hour      0       1       2       3      4      5      6      7      8   \\\n",
       "day                                                                       \n",
       "5      14859  174893  155339  108498  74230  52970  38836  29149  25668   \n",
       "6      34045  121530  144125  105575  79694  49859  32616  22241  19658   \n",
       "7      33714   73944  117576  105663  69720  48781  30441  23366  25644   \n",
       "8     147676  179568  132846   96914  66466  44932  28167  21769  22414   \n",
       "9     159540  154556  137265  100093  72865  52740  35537  30032  29218   \n",
       "\n",
       "hour     9   ...      14      15      16      17      18      19      20  \\\n",
       "day          ...                                                           \n",
       "5     25213  ...   20191   21520   24486   25590   27850   27216   32064   \n",
       "6     25923  ...   15835   18415   19282   19893   21387   21257   25604   \n",
       "7     39185  ...  107234  116834  120279  122796  118613  113646  110337   \n",
       "8     33677  ...   90983  105656  112503  115820  112643  116859  126961   \n",
       "9     30745  ...  114978  131906  140556  151099  169759  146123   31244   \n",
       "\n",
       "hour      21      22      23  \n",
       "day                           \n",
       "5      34112   32031   33081  \n",
       "6      28133   27221   26983  \n",
       "7     118925  128495  119828  \n",
       "8     141799  150264  171646  \n",
       "9      30868   31956   38739  \n",
       "\n",
       "[5 rows x 24 columns]"
      ]
     },
     "execution_count": 25,
     "metadata": {},
     "output_type": "execute_result"
    }
   ],
   "source": [
    "subs_day_hour = subs_counts.pivot_table(index='day', columns='hour', values='date', aggfunc='mean')\n",
    "subs_day_hour.head()"
   ]
  },
  {
   "cell_type": "code",
   "execution_count": 26,
   "metadata": {},
   "outputs": [
    {
     "data": {
      "text/plain": [
       "Text(69,0.5,'Día')"
      ]
     },
     "execution_count": 26,
     "metadata": {},
     "output_type": "execute_result"
    },
    {
     "data": {
      "image/png": "[encoded data removed]",
      "text/plain": [
       "<matplotlib.figure.Figure at 0x7fb25671e1d0>"
      ]
     },
     "metadata": {},
     "output_type": "display_data"
    }
   ],
   "source": [
    "plt.figure(figsize = (10,5))\n",
    "heatMap = sns.heatmap(subs_day_hour,  cmap=\"PuRd\", )\n",
    "heatMap.set_title(\"Cantidad Promedio de Subastas por Día y Hora\", fontsize = 20)\n",
    "heatMap.set_xlabel(\"Hora\", fontsize = 15)\n",
    "heatMap.set_ylabel(\"Día\", fontsize = 15)"
   ]
  },
  {
   "cell_type": "markdown",
   "metadata": {},
   "source": [
    "## Veo que información encuentro sobre el campo platform"
   ]
  },
  {
   "cell_type": "code",
   "execution_count": 27,
   "metadata": {},
   "outputs": [
    {
     "data": {
      "text/html": [
       "<div>\n",
       "<style scoped>\n",
       "    .dataframe tbody tr th:only-of-type {\n",
       "        vertical-align: middle;\n",
       "    }\n",
       "\n",
       "    .dataframe tbody tr th {\n",
       "        vertical-align: top;\n",
       "    }\n",
       "\n",
       "    .dataframe thead th {\n",
       "        text-align: right;\n",
       "    }\n",
       "</style>\n",
       "<table border=\"1\" class=\"dataframe\">\n",
       "  <thead>\n",
       "    <tr style=\"text-align: right;\">\n",
       "      <th></th>\n",
       "      <th>platform_id</th>\n",
       "      <th>platform_count</th>\n",
       "      <th>platform_name</th>\n",
       "    </tr>\n",
       "  </thead>\n",
       "  <tbody>\n",
       "    <tr>\n",
       "      <th>0</th>\n",
       "      <td>1</td>\n",
       "      <td>15541825</td>\n",
       "      <td>Android</td>\n",
       "    </tr>\n",
       "    <tr>\n",
       "      <th>1</th>\n",
       "      <td>2</td>\n",
       "      <td>4029494</td>\n",
       "      <td>IOS</td>\n",
       "    </tr>\n",
       "  </tbody>\n",
       "</table>\n",
       "</div>"
      ],
      "text/plain": [
       "   platform_id  platform_count platform_name\n",
       "0            1        15541825       Android\n",
       "1            2         4029494           IOS"
      ]
     },
     "execution_count": 27,
     "metadata": {},
     "output_type": "execute_result"
    }
   ],
   "source": [
    "platformCount = subs['platform'].value_counts().reset_index()\n",
    "platformCount['platform_name'] = platformCount['index'].apply(lambda x: 'Android' if (x == 1) else 'IOS')\n",
    "platformCount.columns = ['platform_id', 'platform_count', 'platform_name']\n",
    "platformCount"
   ]
  },
  {
   "cell_type": "code",
   "execution_count": 28,
   "metadata": {},
   "outputs": [
    {
     "data": {
      "text/plain": [
       "<matplotlib.legend.Legend at 0x7fb2555ceb70>"
      ]
     },
     "execution_count": 28,
     "metadata": {},
     "output_type": "execute_result"
    },
    {
     "data": {
      "image/png": "[encoded data removed]",
      "text/plain": [
       "<matplotlib.figure.Figure at 0x7fb25566ed30>"
      ]
     },
     "metadata": {},
     "output_type": "display_data"
    }
   ],
   "source": [
    "import matplotlib.ticker as ticker\n",
    "import matplotlib.cm as cm\n",
    "import matplotlib as mpl\n",
    "from matplotlib.gridspec import GridSpec\n",
    "\n",
    "import matplotlib.pyplot as plt\n",
    "%matplotlib inline\n",
    "\n",
    "source_labels = platformCount['platform_name']\n",
    "source_counts = platformCount['platform_count']\n",
    "plt.figure(1, figsize=(8,8))\n",
    "the_grid = GridSpec(1, 1)\n",
    "\n",
    "\n",
    "cmap = plt.get_cmap('Spectral')\n",
    "colors = [cmap(i) for i in np.linspace(0, 1, 8)]\n",
    "\n",
    "source_pie = plt.pie(source_counts, labels=source_labels, autopct='%1.1f%%', shadow=True, colors=colors)\n",
    "\n",
    "plt.suptitle('Subastas: Tipos de Dispositivos Utilizados', fontsize = 20)\n",
    "\n",
    "plt.legend()"
   ]
  },
  {
   "cell_type": "code",
   "execution_count": null,
   "metadata": {},
   "outputs": [],
   "source": []
  },
  {
   "cell_type": "markdown",
   "metadata": {},
   "source": [
    "## Quiero averiguar si los source_id más populares coinciden con los que generan más clicks"
   ]
  },
  {
   "cell_type": "code",
   "execution_count": 29,
   "metadata": {},
   "outputs": [
    {
     "data": {
      "text/plain": [
       "0    13354597\n",
       "1     4016739\n",
       "5     1466494\n",
       "2      582083\n",
       "6      151406\n",
       "Name: source_id, dtype: int64"
      ]
     },
     "execution_count": 29,
     "metadata": {},
     "output_type": "execute_result"
    }
   ],
   "source": [
    "source_subs = subs['source_id'].value_counts()\n",
    "source_subs"
   ]
  },
  {
   "cell_type": "code",
   "execution_count": 30,
   "metadata": {},
   "outputs": [
    {
     "data": {
      "text/plain": [
       "0     17009\n",
       "1      4298\n",
       "6      3371\n",
       "5      1628\n",
       "2        27\n",
       "3         9\n",
       "10        3\n",
       "7         2\n",
       "4         2\n",
       "9         1\n",
       "8         1\n",
       "Name: source_id, dtype: int64"
      ]
     },
     "execution_count": 30,
     "metadata": {},
     "output_type": "execute_result"
    }
   ],
   "source": [
    "source_clicks = clks['source_id'].value_counts()\n",
    "source_clicks"
   ]
  },
  {
   "cell_type": "markdown",
   "metadata": {},
   "source": [
    "Como hay varios source_ids que tienen muy pocos clicks los descarto ya que no aportan mucho, y tomo sólo los 5 ids más populares"
   ]
  },
  {
   "cell_type": "code",
   "execution_count": 31,
   "metadata": {},
   "outputs": [
    {
     "data": {
      "text/plain": [
       "0    17009\n",
       "1     4298\n",
       "6     3371\n",
       "5     1628\n",
       "2       27\n",
       "Name: source_id, dtype: int64"
      ]
     },
     "execution_count": 31,
     "metadata": {},
     "output_type": "execute_result"
    }
   ],
   "source": [
    "source_clicks = source_clicks.nlargest(5)\n",
    "source_clicks"
   ]
  },
  {
   "cell_type": "markdown",
   "metadata": {},
   "source": [
    "Grafico estos valores para ver mejor la relación entre los ids"
   ]
  },
  {
   "cell_type": "code",
   "execution_count": 32,
   "metadata": {},
   "outputs": [
    {
     "data": {
      "image/png": "[encoded data removed]",
      "text/plain": [
       "<matplotlib.figure.Figure at 0x7fb255596198>"
      ]
     },
     "metadata": {
      "needs_background": "light"
     },
     "output_type": "display_data"
    }
   ],
   "source": [
    "plt.figure(figsize = (10,8))\n",
    "plot_source_subs = sns.barplot(x = source_subs.index, y = source_subs.values, orient = 'v', palette = 'YlOrRd')\n",
    "plot_source_subs.set_title(\"Cantidad de Subastas según su source_id\", fontsize = '25')\n",
    "plot_source_subs.set_xlabel(\"Source_id\", fontsize = 15)\n",
    "plot_source_subs.set_ylabel(\"Cantidad de Apariciones\", fontsize = 15)\n",
    "for p in plot_source_subs.patches:\n",
    "    plot_source_subs.annotate(format(p.get_height()), (p.get_x() + p.get_width() / 2.,\n",
    "                                               p.get_height()), ha = 'center', va = 'center', xytext = (0, 10), textcoords = 'offset points')"
   ]
  },
  {
   "cell_type": "markdown",
   "metadata": {},
   "source": [
    "Ahora veo que sucede con los source_id de los clicks"
   ]
  },
  {
   "cell_type": "code",
   "execution_count": 33,
   "metadata": {},
   "outputs": [
    {
     "data": {
      "image/png": "[encoded data removed]",
      "text/plain": [
       "<matplotlib.figure.Figure at 0x7fb25557f588>"
      ]
     },
     "metadata": {
      "needs_background": "light"
     },
     "output_type": "display_data"
    }
   ],
   "source": [
    "plt.figure(figsize = (10,8))\n",
    "plot_source_clicks = sns.barplot(x = source_clicks.index, y = source_clicks.values, orient = 'v', palette = 'Spectral')\n",
    "plot_source_clicks.set_title(\"Source_ids Más Populares entre los Clicks\", fontsize = '25')\n",
    "plot_source_clicks.set_xlabel(\"Source_id\", fontsize = 15)\n",
    "plot_source_clicks.set_ylabel(\"Cantidad de Apariciones\", fontsize = 15)\n",
    "for p in plot_source_clicks.patches:\n",
    "    plot_source_clicks.annotate(format(p.get_height()), (p.get_x() + p.get_width() / 2.,\n",
    "                                               p.get_height()), ha = 'center', va = 'center', xytext = (0, 10), textcoords = 'offset points')"
   ]
  },
  {
   "cell_type": "markdown",
   "metadata": {},
   "source": [
    "## Veo si hay algo interesante en el campo Carrier_id del set de clicks "
   ]
  },
  {
   "cell_type": "code",
   "execution_count": 34,
   "metadata": {},
   "outputs": [
    {
     "data": {
      "text/plain": [
       "advertiser_id      26351\n",
       "action_id              0\n",
       "source_id          26351\n",
       "created            26351\n",
       "country_code       26351\n",
       "latitude           26351\n",
       "longitude          26351\n",
       "wifi_connection    26351\n",
       "carrier_id         26340\n",
       "trans_id           26351\n",
       "os_minor           26339\n",
       "agent_device        3243\n",
       "os_major           26339\n",
       "specs_brand        26351\n",
       "brand               6235\n",
       "timeToClick        22977\n",
       "touchX             23011\n",
       "touchY             23011\n",
       "ref_type           26351\n",
       "ref_hash           26351\n",
       "dtype: int64"
      ]
     },
     "execution_count": 34,
     "metadata": {},
     "output_type": "execute_result"
    }
   ],
   "source": [
    "clks.count()"
   ]
  },
  {
   "cell_type": "code",
   "execution_count": 35,
   "metadata": {},
   "outputs": [],
   "source": [
    "carriers = clks['carrier_id'].value_counts().to_frame().reset_index()\n",
    "carriers.columns = ['carrier_id', 'carrier_id_count']"
   ]
  },
  {
   "cell_type": "markdown",
   "metadata": {},
   "source": [
    "## ¿Habrá fechas en que se generaron más clicks desde ciertos operadores móviles?"
   ]
  },
  {
   "cell_type": "code",
   "execution_count": 36,
   "metadata": {},
   "outputs": [
    {
     "data": {
      "text/html": [
       "<div>\n",
       "<style scoped>\n",
       "    .dataframe tbody tr th:only-of-type {\n",
       "        vertical-align: middle;\n",
       "    }\n",
       "\n",
       "    .dataframe tbody tr th {\n",
       "        vertical-align: top;\n",
       "    }\n",
       "\n",
       "    .dataframe thead th {\n",
       "        text-align: right;\n",
       "    }\n",
       "</style>\n",
       "<table border=\"1\" class=\"dataframe\">\n",
       "  <thead>\n",
       "    <tr style=\"text-align: right;\">\n",
       "      <th></th>\n",
       "      <th>created</th>\n",
       "      <th>carrier_id</th>\n",
       "      <th>Fecha</th>\n",
       "    </tr>\n",
       "  </thead>\n",
       "  <tbody>\n",
       "    <tr>\n",
       "      <th>0</th>\n",
       "      <td>2019-03-06T22:42:12.755Z</td>\n",
       "      <td>1.0</td>\n",
       "      <td>2019-03-06</td>\n",
       "    </tr>\n",
       "    <tr>\n",
       "      <th>1</th>\n",
       "      <td>2019-03-08T10:24:30.641Z</td>\n",
       "      <td>4.0</td>\n",
       "      <td>2019-03-08</td>\n",
       "    </tr>\n",
       "    <tr>\n",
       "      <th>2</th>\n",
       "      <td>2019-03-08T15:24:16.069Z</td>\n",
       "      <td>6.0</td>\n",
       "      <td>2019-03-08</td>\n",
       "    </tr>\n",
       "    <tr>\n",
       "      <th>3</th>\n",
       "      <td>2019-03-06T03:08:51.543Z</td>\n",
       "      <td>45.0</td>\n",
       "      <td>2019-03-06</td>\n",
       "    </tr>\n",
       "    <tr>\n",
       "      <th>4</th>\n",
       "      <td>2019-03-06T03:32:55.570Z</td>\n",
       "      <td>45.0</td>\n",
       "      <td>2019-03-06</td>\n",
       "    </tr>\n",
       "  </tbody>\n",
       "</table>\n",
       "</div>"
      ],
      "text/plain": [
       "                    created  carrier_id       Fecha\n",
       "0  2019-03-06T22:42:12.755Z         1.0  2019-03-06\n",
       "1  2019-03-08T10:24:30.641Z         4.0  2019-03-08\n",
       "2  2019-03-08T15:24:16.069Z         6.0  2019-03-08\n",
       "3  2019-03-06T03:08:51.543Z        45.0  2019-03-06\n",
       "4  2019-03-06T03:32:55.570Z        45.0  2019-03-06"
      ]
     },
     "execution_count": 36,
     "metadata": {},
     "output_type": "execute_result"
    }
   ],
   "source": [
    "# filtro los datos\n",
    "carriers_days = clks.loc[:, ['created', 'carrier_id']]\n",
    "carriers_days['Fecha'] = pd.to_datetime(carriers_days['created']).dt.date\n",
    "carriers_days.head()"
   ]
  },
  {
   "cell_type": "code",
   "execution_count": 37,
   "metadata": {},
   "outputs": [
    {
     "data": {
      "text/plain": [
       "carrier_id          7\n",
       "carrier_id_count    7\n",
       "dtype: int64"
      ]
     },
     "execution_count": 37,
     "metadata": {},
     "output_type": "execute_result"
    }
   ],
   "source": [
    "#como tengo muchoos carrier_ids pero unos pocos concentran la mayoria de los clciks, los filtro\n",
    "carriers = carriers.loc[carriers['carrier_id_count'] > 1000,:]\n",
    "carriers.count()"
   ]
  },
  {
   "cell_type": "code",
   "execution_count": 38,
   "metadata": {},
   "outputs": [
    {
     "data": {
      "text/html": [
       "<div>\n",
       "<style scoped>\n",
       "    .dataframe tbody tr th:only-of-type {\n",
       "        vertical-align: middle;\n",
       "    }\n",
       "\n",
       "    .dataframe tbody tr th {\n",
       "        vertical-align: top;\n",
       "    }\n",
       "\n",
       "    .dataframe thead th {\n",
       "        text-align: right;\n",
       "    }\n",
       "</style>\n",
       "<table border=\"1\" class=\"dataframe\">\n",
       "  <thead>\n",
       "    <tr style=\"text-align: right;\">\n",
       "      <th></th>\n",
       "      <th>created</th>\n",
       "      <th>carrier_id</th>\n",
       "      <th>Fecha</th>\n",
       "    </tr>\n",
       "  </thead>\n",
       "  <tbody>\n",
       "    <tr>\n",
       "      <th>0</th>\n",
       "      <td>2019-03-06T22:42:12.755Z</td>\n",
       "      <td>1.0</td>\n",
       "      <td>2019-03-06</td>\n",
       "    </tr>\n",
       "    <tr>\n",
       "      <th>1</th>\n",
       "      <td>2019-03-08T10:24:30.641Z</td>\n",
       "      <td>4.0</td>\n",
       "      <td>2019-03-08</td>\n",
       "    </tr>\n",
       "    <tr>\n",
       "      <th>2</th>\n",
       "      <td>2019-03-08T15:24:16.069Z</td>\n",
       "      <td>6.0</td>\n",
       "      <td>2019-03-08</td>\n",
       "    </tr>\n",
       "    <tr>\n",
       "      <th>3</th>\n",
       "      <td>2019-03-06T03:08:51.543Z</td>\n",
       "      <td>45.0</td>\n",
       "      <td>2019-03-06</td>\n",
       "    </tr>\n",
       "    <tr>\n",
       "      <th>4</th>\n",
       "      <td>2019-03-06T03:32:55.570Z</td>\n",
       "      <td>45.0</td>\n",
       "      <td>2019-03-06</td>\n",
       "    </tr>\n",
       "  </tbody>\n",
       "</table>\n",
       "</div>"
      ],
      "text/plain": [
       "                    created  carrier_id       Fecha\n",
       "0  2019-03-06T22:42:12.755Z         1.0  2019-03-06\n",
       "1  2019-03-08T10:24:30.641Z         4.0  2019-03-08\n",
       "2  2019-03-08T15:24:16.069Z         6.0  2019-03-08\n",
       "3  2019-03-06T03:08:51.543Z        45.0  2019-03-06\n",
       "4  2019-03-06T03:32:55.570Z        45.0  2019-03-06"
      ]
     },
     "execution_count": 38,
     "metadata": {},
     "output_type": "execute_result"
    }
   ],
   "source": [
    "carriers_days.head()"
   ]
  },
  {
   "cell_type": "code",
   "execution_count": 39,
   "metadata": {},
   "outputs": [
    {
     "data": {
      "text/html": [
       "<div>\n",
       "<style scoped>\n",
       "    .dataframe tbody tr th:only-of-type {\n",
       "        vertical-align: middle;\n",
       "    }\n",
       "\n",
       "    .dataframe tbody tr th {\n",
       "        vertical-align: top;\n",
       "    }\n",
       "\n",
       "    .dataframe thead th {\n",
       "        text-align: right;\n",
       "    }\n",
       "</style>\n",
       "<table border=\"1\" class=\"dataframe\">\n",
       "  <thead>\n",
       "    <tr style=\"text-align: right;\">\n",
       "      <th></th>\n",
       "      <th>Fecha</th>\n",
       "      <th>carrier_id</th>\n",
       "      <th>created</th>\n",
       "    </tr>\n",
       "  </thead>\n",
       "  <tbody>\n",
       "    <tr>\n",
       "      <th>0</th>\n",
       "      <td>2019-03-05</td>\n",
       "      <td>1.0</td>\n",
       "      <td>6</td>\n",
       "    </tr>\n",
       "    <tr>\n",
       "      <th>1</th>\n",
       "      <td>2019-03-05</td>\n",
       "      <td>4.0</td>\n",
       "      <td>1</td>\n",
       "    </tr>\n",
       "    <tr>\n",
       "      <th>2</th>\n",
       "      <td>2019-03-05</td>\n",
       "      <td>6.0</td>\n",
       "      <td>3</td>\n",
       "    </tr>\n",
       "    <tr>\n",
       "      <th>3</th>\n",
       "      <td>2019-03-05</td>\n",
       "      <td>13.0</td>\n",
       "      <td>8</td>\n",
       "    </tr>\n",
       "    <tr>\n",
       "      <th>4</th>\n",
       "      <td>2019-03-06</td>\n",
       "      <td>1.0</td>\n",
       "      <td>1</td>\n",
       "    </tr>\n",
       "  </tbody>\n",
       "</table>\n",
       "</div>"
      ],
      "text/plain": [
       "        Fecha  carrier_id  created\n",
       "0  2019-03-05         1.0        6\n",
       "1  2019-03-05         4.0        1\n",
       "2  2019-03-05         6.0        3\n",
       "3  2019-03-05        13.0        8\n",
       "4  2019-03-06         1.0        1"
      ]
     },
     "execution_count": 39,
     "metadata": {},
     "output_type": "execute_result"
    }
   ],
   "source": [
    "#Agrupo por día y operador para ver cuantos clicks tengo cada día segun el operador\n",
    "days = pd.merge(carriers_days, carriers, on = 'carrier_id', how = 'inner' )\n",
    "days = days.groupby(['Fecha', 'carrier_id']).agg({'created': 'count'}).reset_index()\n",
    "days.head()"
   ]
  },
  {
   "cell_type": "markdown",
   "metadata": {},
   "source": [
    "Pruebo una visualización con un heatmap"
   ]
  },
  {
   "cell_type": "code",
   "execution_count": 40,
   "metadata": {},
   "outputs": [
    {
     "data": {
      "text/html": [
       "<div>\n",
       "<style scoped>\n",
       "    .dataframe tbody tr th:only-of-type {\n",
       "        vertical-align: middle;\n",
       "    }\n",
       "\n",
       "    .dataframe tbody tr th {\n",
       "        vertical-align: top;\n",
       "    }\n",
       "\n",
       "    .dataframe thead th {\n",
       "        text-align: right;\n",
       "    }\n",
       "</style>\n",
       "<table border=\"1\" class=\"dataframe\">\n",
       "  <thead>\n",
       "    <tr style=\"text-align: right;\">\n",
       "      <th>carrier_id</th>\n",
       "      <th>0.0</th>\n",
       "      <th>1.0</th>\n",
       "      <th>3.0</th>\n",
       "      <th>4.0</th>\n",
       "      <th>6.0</th>\n",
       "      <th>12.0</th>\n",
       "      <th>13.0</th>\n",
       "    </tr>\n",
       "    <tr>\n",
       "      <th>Fecha</th>\n",
       "      <th></th>\n",
       "      <th></th>\n",
       "      <th></th>\n",
       "      <th></th>\n",
       "      <th></th>\n",
       "      <th></th>\n",
       "      <th></th>\n",
       "    </tr>\n",
       "  </thead>\n",
       "  <tbody>\n",
       "    <tr>\n",
       "      <th>2019-03-05</th>\n",
       "      <td>0.0</td>\n",
       "      <td>6.0</td>\n",
       "      <td>0.0</td>\n",
       "      <td>1.0</td>\n",
       "      <td>3.0</td>\n",
       "      <td>0.0</td>\n",
       "      <td>8.0</td>\n",
       "    </tr>\n",
       "    <tr>\n",
       "      <th>2019-03-06</th>\n",
       "      <td>0.0</td>\n",
       "      <td>1.0</td>\n",
       "      <td>0.0</td>\n",
       "      <td>1.0</td>\n",
       "      <td>2.0</td>\n",
       "      <td>0.0</td>\n",
       "      <td>0.0</td>\n",
       "    </tr>\n",
       "    <tr>\n",
       "      <th>2019-03-07</th>\n",
       "      <td>187.0</td>\n",
       "      <td>424.0</td>\n",
       "      <td>289.0</td>\n",
       "      <td>539.0</td>\n",
       "      <td>371.0</td>\n",
       "      <td>219.0</td>\n",
       "      <td>322.0</td>\n",
       "    </tr>\n",
       "    <tr>\n",
       "      <th>2019-03-08</th>\n",
       "      <td>164.0</td>\n",
       "      <td>316.0</td>\n",
       "      <td>382.0</td>\n",
       "      <td>572.0</td>\n",
       "      <td>417.0</td>\n",
       "      <td>258.0</td>\n",
       "      <td>231.0</td>\n",
       "    </tr>\n",
       "    <tr>\n",
       "      <th>2019-03-09</th>\n",
       "      <td>203.0</td>\n",
       "      <td>400.0</td>\n",
       "      <td>469.0</td>\n",
       "      <td>641.0</td>\n",
       "      <td>516.0</td>\n",
       "      <td>332.0</td>\n",
       "      <td>158.0</td>\n",
       "    </tr>\n",
       "  </tbody>\n",
       "</table>\n",
       "</div>"
      ],
      "text/plain": [
       "carrier_id   0.0    1.0    3.0    4.0    6.0    12.0   13.0\n",
       "Fecha                                                      \n",
       "2019-03-05    0.0    6.0    0.0    1.0    3.0    0.0    8.0\n",
       "2019-03-06    0.0    1.0    0.0    1.0    2.0    0.0    0.0\n",
       "2019-03-07  187.0  424.0  289.0  539.0  371.0  219.0  322.0\n",
       "2019-03-08  164.0  316.0  382.0  572.0  417.0  258.0  231.0\n",
       "2019-03-09  203.0  400.0  469.0  641.0  516.0  332.0  158.0"
      ]
     },
     "execution_count": 40,
     "metadata": {},
     "output_type": "execute_result"
    }
   ],
   "source": [
    "pivot_days = pd.pivot_table(days, columns = 'carrier_id', index = 'Fecha', values = 'created', aggfunc = 'sum').fillna(0)\n",
    "pivot_days.head()"
   ]
  },
  {
   "cell_type": "code",
   "execution_count": 41,
   "metadata": {},
   "outputs": [
    {
     "data": {
      "text/plain": [
       "Text(114,0.5,'Fecha')"
      ]
     },
     "execution_count": 41,
     "metadata": {},
     "output_type": "execute_result"
    },
    {
     "data": {
      "image/png": "[encoded data removed]",
      "text/plain": [
       "<matplotlib.figure.Figure at 0x7fb2553ea2b0>"
      ]
     },
     "metadata": {
      "needs_background": "light"
     },
     "output_type": "display_data"
    }
   ],
   "source": [
    "plt.figure(figsize = (15,8))\n",
    "heat_map = sns.heatmap(pivot_days,  cmap = \"OrRd\",  linewidths = 0.1)\n",
    "heat_map.set_title(\"Cantidad de clicks según el día para los carrier_id más populares\", fontsize = '20')\n",
    "heat_map.set_xlabel(\"Carrier_id\", fontsize = 15)\n",
    "heat_map.set_ylabel(\"Fecha\", fontsize = 15)"
   ]
  },
  {
   "cell_type": "markdown",
   "metadata": {},
   "source": [
    "De este gráfico lo que logramos ver como el carrier_id 13 tiene alta cantidad de Clicks durante el día 13, y lo mismo se repite para el carrier_id 4 durante el día 11 y 12.\n",
    "El resto de los carrier_ids son menos frecuentes, aunque también se denota un leve aumento, al menos hasta el día 12.\n",
    "Otra cosa a remarcar del gráfico es que durante los días 5 y 6 la actividad resgistrada es muy baja, de hecho, esto ya lo hemos visto en otra sección del informe, donde podíamos ver que, a grandes rasgos, la cantidad de clicks iba aumentando en función del tiempo."
   ]
  },
  {
   "cell_type": "markdown",
   "metadata": {},
   "source": [
    "# Análisis Sobre Coordenadas"
   ]
  },
  {
   "cell_type": "markdown",
   "metadata": {},
   "source": [
    "## Me interesa saber cómo se distrubuyen los valores de latitud y longitud desde donde se dan los clicks"
   ]
  },
  {
   "cell_type": "code",
   "execution_count": 42,
   "metadata": {},
   "outputs": [
    {
     "data": {
      "text/html": [
       "<div>\n",
       "<style scoped>\n",
       "    .dataframe tbody tr th:only-of-type {\n",
       "        vertical-align: middle;\n",
       "    }\n",
       "\n",
       "    .dataframe tbody tr th {\n",
       "        vertical-align: top;\n",
       "    }\n",
       "\n",
       "    .dataframe thead th {\n",
       "        text-align: right;\n",
       "    }\n",
       "</style>\n",
       "<table border=\"1\" class=\"dataframe\">\n",
       "  <thead>\n",
       "    <tr style=\"text-align: right;\">\n",
       "      <th></th>\n",
       "      <th>latitude</th>\n",
       "      <th>longitude</th>\n",
       "    </tr>\n",
       "  </thead>\n",
       "  <tbody>\n",
       "    <tr>\n",
       "      <th>0</th>\n",
       "      <td>1.205689</td>\n",
       "      <td>1.070234</td>\n",
       "    </tr>\n",
       "    <tr>\n",
       "      <th>1</th>\n",
       "      <td>1.218924</td>\n",
       "      <td>1.071209</td>\n",
       "    </tr>\n",
       "    <tr>\n",
       "      <th>2</th>\n",
       "      <td>1.205689</td>\n",
       "      <td>1.070234</td>\n",
       "    </tr>\n",
       "    <tr>\n",
       "      <th>3</th>\n",
       "      <td>1.205689</td>\n",
       "      <td>1.070234</td>\n",
       "    </tr>\n",
       "    <tr>\n",
       "      <th>4</th>\n",
       "      <td>1.205689</td>\n",
       "      <td>1.070234</td>\n",
       "    </tr>\n",
       "  </tbody>\n",
       "</table>\n",
       "</div>"
      ],
      "text/plain": [
       "   latitude  longitude\n",
       "0  1.205689   1.070234\n",
       "1  1.218924   1.071209\n",
       "2  1.205689   1.070234\n",
       "3  1.205689   1.070234\n",
       "4  1.205689   1.070234"
      ]
     },
     "execution_count": 42,
     "metadata": {},
     "output_type": "execute_result"
    }
   ],
   "source": [
    "lat_long = clks.filter(items = ['latitude', 'longitude']).dropna()\n",
    "lat_long.head()"
   ]
  },
  {
   "cell_type": "code",
   "execution_count": 48,
   "metadata": {},
   "outputs": [
    {
     "data": {
      "text/plain": [
       "Text(0,0.5,'Densidad')"
      ]
     },
     "execution_count": 48,
     "metadata": {},
     "output_type": "execute_result"
    },
    {
     "data": {
      "image/png": "[encoded data removed]",
      "text/plain": [
       "<matplotlib.figure.Figure at 0x7fb2551a47b8>"
      ]
     },
     "metadata": {
      "needs_background": "light"
     },
     "output_type": "display_data"
    }
   ],
   "source": [
    "plt.figure(figsize=(10,5))\n",
    "lat_dist = sns.distplot(lat_long['latitude'], color = 'purple', label = 'Latitud')\n",
    "lat_dist.set_title(\"Distribución de la Latitud desde donde se generan los Clicks\", fontsize = 25)\n",
    "lat_dist.set_xlabel(\"Latitud\", fontsize = 15)\n",
    "lat_dist.set_ylabel(\"Densidad\", fontsize = 15)\n"
   ]
  },
  {
   "cell_type": "markdown",
   "metadata": {},
   "source": [
    "Voe que pasa si utilizo el logaritmo"
   ]
  },
  {
   "cell_type": "code",
   "execution_count": 52,
   "metadata": {},
   "outputs": [
    {
     "data": {
      "text/html": [
       "<div>\n",
       "<style scoped>\n",
       "    .dataframe tbody tr th:only-of-type {\n",
       "        vertical-align: middle;\n",
       "    }\n",
       "\n",
       "    .dataframe tbody tr th {\n",
       "        vertical-align: top;\n",
       "    }\n",
       "\n",
       "    .dataframe thead th {\n",
       "        text-align: right;\n",
       "    }\n",
       "</style>\n",
       "<table border=\"1\" class=\"dataframe\">\n",
       "  <thead>\n",
       "    <tr style=\"text-align: right;\">\n",
       "      <th></th>\n",
       "      <th>latitude</th>\n",
       "      <th>longitude</th>\n",
       "      <th>latitude_log</th>\n",
       "    </tr>\n",
       "  </thead>\n",
       "  <tbody>\n",
       "    <tr>\n",
       "      <th>0</th>\n",
       "      <td>1.205689</td>\n",
       "      <td>1.070234</td>\n",
       "      <td>0.187051</td>\n",
       "    </tr>\n",
       "    <tr>\n",
       "      <th>1</th>\n",
       "      <td>1.218924</td>\n",
       "      <td>1.071209</td>\n",
       "      <td>0.197968</td>\n",
       "    </tr>\n",
       "    <tr>\n",
       "      <th>2</th>\n",
       "      <td>1.205689</td>\n",
       "      <td>1.070234</td>\n",
       "      <td>0.187051</td>\n",
       "    </tr>\n",
       "    <tr>\n",
       "      <th>3</th>\n",
       "      <td>1.205689</td>\n",
       "      <td>1.070234</td>\n",
       "      <td>0.187051</td>\n",
       "    </tr>\n",
       "    <tr>\n",
       "      <th>4</th>\n",
       "      <td>1.205689</td>\n",
       "      <td>1.070234</td>\n",
       "      <td>0.187051</td>\n",
       "    </tr>\n",
       "  </tbody>\n",
       "</table>\n",
       "</div>"
      ],
      "text/plain": [
       "   latitude  longitude  latitude_log\n",
       "0  1.205689   1.070234      0.187051\n",
       "1  1.218924   1.071209      0.197968\n",
       "2  1.205689   1.070234      0.187051\n",
       "3  1.205689   1.070234      0.187051\n",
       "4  1.205689   1.070234      0.187051"
      ]
     },
     "execution_count": 52,
     "metadata": {},
     "output_type": "execute_result"
    }
   ],
   "source": [
    "lat_long['latitude_log'] = lat_long['latitude'].transform(lambda x : np.log(x))\n",
    "lat_long.head()"
   ]
  },
  {
   "cell_type": "markdown",
   "metadata": {},
   "source": [
    "Vuelvo a graficar a ver si mejora la representación"
   ]
  },
  {
   "cell_type": "code",
   "execution_count": 55,
   "metadata": {
    "scrolled": false
   },
   "outputs": [
    {
     "data": {
      "text/plain": [
       "Text(0,0.5,'Densidad')"
      ]
     },
     "execution_count": 55,
     "metadata": {},
     "output_type": "execute_result"
    },
    {
     "data": {
      "image/png": "[encoded data removed]",
      "text/plain": [
       "<matplotlib.figure.Figure at 0x7fb1ef521198>"
      ]
     },
     "metadata": {
      "needs_background": "light"
     },
     "output_type": "display_data"
    }
   ],
   "source": [
    "plt.figure(figsize=(10,5))\n",
    "lat_dist = sns.distplot(lat_long['latitude_log'], color = 'purple', label = 'Latitud_log')\n",
    "lat_dist.set_title(\"Distribución de la Latitud_log desde donde se generan los Clicks\", fontsize = 25)\n",
    "lat_dist.set_xlabel(\"Latitud_log\", fontsize = 15)\n",
    "lat_dist.set_ylabel(\"Densidad\", fontsize = 15)\n"
   ]
  },
  {
   "cell_type": "code",
   "execution_count": 51,
   "metadata": {},
   "outputs": [
    {
     "data": {
      "text/plain": [
       "Text(0,0.5,'Densidad')"
      ]
     },
     "execution_count": 51,
     "metadata": {},
     "output_type": "execute_result"
    },
    {
     "data": {
      "image/png": "[encoded data removed]",
      "text/plain": [
       "<matplotlib.figure.Figure at 0x7fb1ef6a6ac8>"
      ]
     },
     "metadata": {
      "needs_background": "light"
     },
     "output_type": "display_data"
    }
   ],
   "source": [
    "plt.figure(figsize=(10,5))\n",
    "long_dist = sns.distplot(lat_long['longitude'], color = 'purple', label = 'Longitud')\n",
    "long_dist.set_title(\"Distribución de la Longitud desde donde se generan los Clicks\", fontsize = 20)\n",
    "long_dist.set_xlabel(\"Latitud\", fontsize = 15)\n",
    "long_dist.set_ylabel(\"Densidad\", fontsize = 15)\n"
   ]
  },
  {
   "cell_type": "code",
   "execution_count": 53,
   "metadata": {},
   "outputs": [
    {
     "data": {
      "text/html": [
       "<div>\n",
       "<style scoped>\n",
       "    .dataframe tbody tr th:only-of-type {\n",
       "        vertical-align: middle;\n",
       "    }\n",
       "\n",
       "    .dataframe tbody tr th {\n",
       "        vertical-align: top;\n",
       "    }\n",
       "\n",
       "    .dataframe thead th {\n",
       "        text-align: right;\n",
       "    }\n",
       "</style>\n",
       "<table border=\"1\" class=\"dataframe\">\n",
       "  <thead>\n",
       "    <tr style=\"text-align: right;\">\n",
       "      <th></th>\n",
       "      <th>latitude</th>\n",
       "      <th>longitude</th>\n",
       "      <th>latitude_log</th>\n",
       "      <th>longitude_log</th>\n",
       "    </tr>\n",
       "  </thead>\n",
       "  <tbody>\n",
       "    <tr>\n",
       "      <th>0</th>\n",
       "      <td>1.205689</td>\n",
       "      <td>1.070234</td>\n",
       "      <td>0.187051</td>\n",
       "      <td>0.067878</td>\n",
       "    </tr>\n",
       "    <tr>\n",
       "      <th>1</th>\n",
       "      <td>1.218924</td>\n",
       "      <td>1.071209</td>\n",
       "      <td>0.197968</td>\n",
       "      <td>0.068788</td>\n",
       "    </tr>\n",
       "    <tr>\n",
       "      <th>2</th>\n",
       "      <td>1.205689</td>\n",
       "      <td>1.070234</td>\n",
       "      <td>0.187051</td>\n",
       "      <td>0.067878</td>\n",
       "    </tr>\n",
       "    <tr>\n",
       "      <th>3</th>\n",
       "      <td>1.205689</td>\n",
       "      <td>1.070234</td>\n",
       "      <td>0.187051</td>\n",
       "      <td>0.067878</td>\n",
       "    </tr>\n",
       "    <tr>\n",
       "      <th>4</th>\n",
       "      <td>1.205689</td>\n",
       "      <td>1.070234</td>\n",
       "      <td>0.187051</td>\n",
       "      <td>0.067878</td>\n",
       "    </tr>\n",
       "  </tbody>\n",
       "</table>\n",
       "</div>"
      ],
      "text/plain": [
       "   latitude  longitude  latitude_log  longitude_log\n",
       "0  1.205689   1.070234      0.187051       0.067878\n",
       "1  1.218924   1.071209      0.197968       0.068788\n",
       "2  1.205689   1.070234      0.187051       0.067878\n",
       "3  1.205689   1.070234      0.187051       0.067878\n",
       "4  1.205689   1.070234      0.187051       0.067878"
      ]
     },
     "execution_count": 53,
     "metadata": {},
     "output_type": "execute_result"
    }
   ],
   "source": [
    "# Pruebo usango el logaritmo\n",
    "lat_long['longitude_log'] = lat_long['longitude'].transform(lambda x : np.log(x))\n",
    "lat_long.head()"
   ]
  },
  {
   "cell_type": "code",
   "execution_count": 54,
   "metadata": {},
   "outputs": [
    {
     "data": {
      "text/plain": [
       "Text(0,0.5,'Densidad')"
      ]
     },
     "execution_count": 54,
     "metadata": {},
     "output_type": "execute_result"
    },
    {
     "data": {
      "image/png": "[encoded data removed]",
      "text/plain": [
       "<matplotlib.figure.Figure at 0x7fb1ef5f0940>"
      ]
     },
     "metadata": {
      "needs_background": "light"
     },
     "output_type": "display_data"
    }
   ],
   "source": [
    "plt.figure(figsize=(10,5))\n",
    "long_dist = sns.distplot(lat_long['longitude_log'], color = 'purple', label = 'Longitud_log')\n",
    "long_dist.set_title(\"Distribución de la Longitud_log desde donde se generan los Clicks\", fontsize = 20)\n",
    "long_dist.set_xlabel(\"Latitud\", fontsize = 15)\n",
    "long_dist.set_ylabel(\"Densidad\", fontsize = 15)\n"
   ]
  },
  {
   "cell_type": "markdown",
   "metadata": {},
   "source": [
    "Vemos que no varía mucho la distribución entre longitud/latitud y longitud/latitud log. A simple vista parecen el mismo gráfico, pero difieren en los valores"
   ]
  },
  {
   "cell_type": "markdown",
   "metadata": {},
   "source": [
    "## Intento de BaseMap"
   ]
  },
  {
   "cell_type": "markdown",
   "metadata": {},
   "source": [
    "Importo bibliotecas necesarias para utilizar mapas"
   ]
  },
  {
   "cell_type": "code",
   "execution_count": null,
   "metadata": {},
   "outputs": [],
   "source": [
    "from mpl_toolkits.basemap import Basemap\n",
    "import numpy as np\n",
    "import matplotlib.pyplot as plt\n",
    "from matplotlib.patches import Polygon\n",
    "from matplotlib.collections import PatchCollection\n",
    "\n",
    "from matplotlib.colors import Normalize\n",
    "import matplotlib.colors as colors\n",
    "from numpy import array\n",
    "from numpy import max"
   ]
  },
  {
   "cell_type": "markdown",
   "metadata": {},
   "source": [
    "Hago una lista con las latiudes y longitudes"
   ]
  },
  {
   "cell_type": "code",
   "execution_count": null,
   "metadata": {},
   "outputs": [],
   "source": [
    "lats, long = list(clks['latitude']), list(clks['longitude'])"
   ]
  },
  {
   "cell_type": "markdown",
   "metadata": {},
   "source": [
    "Creo un mapa sin los puntos para chquear"
   ]
  },
  {
   "cell_type": "code",
   "execution_count": null,
   "metadata": {},
   "outputs": [],
   "source": [
    "eq_map = Basemap(projection='robin', resolution = 'l', area_thresh = 1000.0, lat_0=0, lon_0=-130) eq_map.drawcoastlines() eq_map.drawcountries() eq_map.fillcontinents(color = 'gray') eq_map.drawmapboundary() plt.show()\n"
   ]
  },
  {
   "cell_type": "markdown",
   "metadata": {},
   "source": [
    "Ahora creo el mismo pero marcando las coordenadas del data frame\n"
   ]
  },
  {
   "cell_type": "code",
   "execution_count": null,
   "metadata": {},
   "outputs": [],
   "source": [
    "figu, ax = plt.subplots(figsize=(20,10)) eq_map = Basemap(projection='robin', resolution = 'l', area_thresh = 1000.0, lat_0=1.20, lon_0=1.07, llcrnrlon=-2, llcrnrlat=4, urcrnrlon=4, urcrnrlat=0.3) eq_map.drawcoastlines() eq_map.drawcountries() eq_map.fillcontinents(color = 'gray') eq_map.drawmapboundary() eq_map.drawmeridians(np.arange(0, 360, 30)) eq_map.drawparallels(np.arange(-90, 90, 30))"
   ]
  },
  {
   "cell_type": "markdown",
   "metadata": {},
   "source": [
    "## Coordenadas a posiciones"
   ]
  },
  {
   "cell_type": "code",
   "execution_count": null,
   "metadata": {},
   "outputs": [],
   "source": [
    "x,y = eq_map(long, lats) eq_map.plot(x, y, '^', markersize=6)"
   ]
  },
  {
   "cell_type": "markdown",
   "metadata": {},
   "source": [
    "Observo que todos los puntos caen en el mismo lugar. Las coordenadas son diferentes pero casi todas provienen casi del mismo lugar. Chequeo esto en el data frame\n"
   ]
  },
  {
   "cell_type": "code",
   "execution_count": null,
   "metadata": {},
   "outputs": [],
   "source": [
    "clks.head(4)"
   ]
  },
  {
   "cell_type": "code",
   "execution_count": null,
   "metadata": {},
   "outputs": [],
   "source": [
    "coord = clks.loc[:, ['longitude', 'latitude']].dropna() coord.head()"
   ]
  },
  {
   "cell_type": "markdown",
   "metadata": {},
   "source": [
    "Acerco el mapa en la zona donde caen dichos puntos (Es el Golfo de Guinea en el Atlántico Norte)"
   ]
  },
  {
   "cell_type": "code",
   "execution_count": null,
   "metadata": {},
   "outputs": [],
   "source": [
    "figu, ax = plt.subplots(figsize=(20,10)) mapa2 = Basemap(projection='merc', lat_0 = 0, lon_0 = 0, resolution = 'i', llcrnrlon=-10, llcrnrlat=-10, urcrnrlon=10, urcrnrlat=10) mapa2.drawcoastlines() mapa2.drawcountries() mapa2.fillcontinents(color = 'gray') mapa2.drawmapboundary() mapa2.drawmeridians(np.arange(0, 360, 30)) mapa2.drawparallels(np.arange(-90, 90, 30))"
   ]
  },
  {
   "cell_type": "markdown",
   "metadata": {},
   "source": [
    "## Coordenadas a posiciones"
   ]
  },
  {
   "cell_type": "code",
   "execution_count": null,
   "metadata": {},
   "outputs": [],
   "source": [
    "x,y = mapa2(long, lats) mapa2.plot(x, y, '^', markersize=6)"
   ]
  },
  {
   "cell_type": "markdown",
   "metadata": {},
   "source": [
    "Debido a los pocos codigos de pais, podemos decir que no provenian de muchos, sin embargo los datos de la procedencia de los clicks no aportan información contundente."
   ]
  },
  {
   "cell_type": "code",
   "execution_count": null,
   "metadata": {},
   "outputs": [],
   "source": [
    "clks[\"country_code\"].unique()"
   ]
  },
  {
   "cell_type": "code",
   "execution_count": null,
   "metadata": {},
   "outputs": [],
   "source": []
  }
 ],
 "metadata": {
  "kernelspec": {
   "display_name": "Python 3",
   "language": "python",
   "name": "python3"
  },
  "language_info": {
   "codemirror_mode": {
    "name": "ipython",
    "version": 3
   },
   "file_extension": ".py",
   "mimetype": "text/x-python",
   "name": "python",
   "nbconvert_exporter": "python",
   "pygments_lexer": "ipython3",
   "version": "3.6.7"
  }
 },
 "nbformat": 4,
 "nbformat_minor": 2
}
