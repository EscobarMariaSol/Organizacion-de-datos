{
 "cells": [
  {
   "cell_type": "code",
   "execution_count": 2,
   "metadata": {},
   "outputs": [],
   "source": [
    "import pandas as pd\n",
    "import numpy as np"
   ]
  },
  {
   "cell_type": "code",
   "execution_count": 3,
   "metadata": {},
   "outputs": [],
   "source": [
    "# Realizo una función para calcular el porcentaje de reducción del tamaño de los datos\n",
    "# de acuerdo a los cambios en los tipos de datos de los campos de los Datasets\n",
    "def porcentaje_reducido(final, inicial):\n",
    "    result = 100 - ((final * 100)/inicial)\n",
    "    print(\"Porcentaje reducido = \", int(result), \"% Aprox.\")"
   ]
  },
  {
   "cell_type": "markdown",
   "metadata": {},
   "source": [
    "# Analizo auctions"
   ]
  },
  {
   "cell_type": "code",
   "execution_count": 3,
   "metadata": {},
   "outputs": [],
   "source": [
    "auctions= pd.read_csv(\"data/auctions.csv.gzip\")"
   ]
  },
  {
   "cell_type": "code",
   "execution_count": 4,
   "metadata": {},
   "outputs": [
    {
     "data": {
      "text/html": [
       "<div>\n",
       "<style scoped>\n",
       "    .dataframe tbody tr th:only-of-type {\n",
       "        vertical-align: middle;\n",
       "    }\n",
       "\n",
       "    .dataframe tbody tr th {\n",
       "        vertical-align: top;\n",
       "    }\n",
       "\n",
       "    .dataframe thead th {\n",
       "        text-align: right;\n",
       "    }\n",
       "</style>\n",
       "<table border=\"1\" class=\"dataframe\">\n",
       "  <thead>\n",
       "    <tr style=\"text-align: right;\">\n",
       "      <th></th>\n",
       "      <th>date</th>\n",
       "      <th>device_id</th>\n",
       "      <th>ref_type_id</th>\n",
       "      <th>source_id</th>\n",
       "    </tr>\n",
       "  </thead>\n",
       "  <tbody>\n",
       "    <tr>\n",
       "      <th>0</th>\n",
       "      <td>2019-04-23 18:58:00.842116</td>\n",
       "      <td>2564673204772915246</td>\n",
       "      <td>1</td>\n",
       "      <td>0</td>\n",
       "    </tr>\n",
       "    <tr>\n",
       "      <th>1</th>\n",
       "      <td>2019-04-23 18:58:01.530771</td>\n",
       "      <td>4441121667607578179</td>\n",
       "      <td>7</td>\n",
       "      <td>0</td>\n",
       "    </tr>\n",
       "    <tr>\n",
       "      <th>2</th>\n",
       "      <td>2019-04-23 18:58:01.767562</td>\n",
       "      <td>7721769811471055264</td>\n",
       "      <td>1</td>\n",
       "      <td>0</td>\n",
       "    </tr>\n",
       "    <tr>\n",
       "      <th>3</th>\n",
       "      <td>2019-04-23 18:58:02.363468</td>\n",
       "      <td>6416039086842158968</td>\n",
       "      <td>1</td>\n",
       "      <td>0</td>\n",
       "    </tr>\n",
       "    <tr>\n",
       "      <th>4</th>\n",
       "      <td>2019-04-23 18:58:02.397559</td>\n",
       "      <td>1258642015983312729</td>\n",
       "      <td>1</td>\n",
       "      <td>0</td>\n",
       "    </tr>\n",
       "  </tbody>\n",
       "</table>\n",
       "</div>"
      ],
      "text/plain": [
       "                         date            device_id  ref_type_id  source_id\n",
       "0  2019-04-23 18:58:00.842116  2564673204772915246            1          0\n",
       "1  2019-04-23 18:58:01.530771  4441121667607578179            7          0\n",
       "2  2019-04-23 18:58:01.767562  7721769811471055264            1          0\n",
       "3  2019-04-23 18:58:02.363468  6416039086842158968            1          0\n",
       "4  2019-04-23 18:58:02.397559  1258642015983312729            1          0"
      ]
     },
     "execution_count": 4,
     "metadata": {},
     "output_type": "execute_result"
    }
   ],
   "source": [
    "auctions.head()"
   ]
  },
  {
   "cell_type": "code",
   "execution_count": 5,
   "metadata": {},
   "outputs": [
    {
     "data": {
      "text/plain": [
       "Index                  80\n",
       "date           3934990824\n",
       "device_id       379276224\n",
       "ref_type_id     379276224\n",
       "source_id       379276224\n",
       "dtype: int64"
      ]
     },
     "execution_count": 5,
     "metadata": {},
     "output_type": "execute_result"
    }
   ],
   "source": [
    "auctions.memory_usage(deep=True)"
   ]
  },
  {
   "cell_type": "code",
   "execution_count": 5,
   "metadata": {},
   "outputs": [
    {
     "name": "stdout",
     "output_type": "stream",
     "text": [
      "<class 'pandas.core.frame.DataFrame'>\n",
      "RangeIndex: 47409528 entries, 0 to 47409527\n",
      "Data columns (total 4 columns):\n",
      "date           object\n",
      "device_id      int64\n",
      "ref_type_id    int64\n",
      "source_id      int64\n",
      "dtypes: int64(3), object(1)\n",
      "memory usage: 1.4+ GB\n"
     ]
    }
   ],
   "source": [
    "auctions.info()"
   ]
  },
  {
   "cell_type": "markdown",
   "metadata": {},
   "source": [
    "## ref_type_id"
   ]
  },
  {
   "cell_type": "code",
   "execution_count": 6,
   "metadata": {},
   "outputs": [
    {
     "data": {
      "text/plain": [
       "2"
      ]
     },
     "execution_count": 6,
     "metadata": {},
     "output_type": "execute_result"
    }
   ],
   "source": [
    "auctions['ref_type_id'].nunique()"
   ]
  },
  {
   "cell_type": "code",
   "execution_count": 7,
   "metadata": {},
   "outputs": [
    {
     "data": {
      "text/plain": [
       "7"
      ]
     },
     "execution_count": 7,
     "metadata": {},
     "output_type": "execute_result"
    }
   ],
   "source": [
    "auctions['ref_type_id'].max()"
   ]
  },
  {
   "cell_type": "code",
   "execution_count": 8,
   "metadata": {},
   "outputs": [
    {
     "data": {
      "text/plain": [
       "379276304"
      ]
     },
     "execution_count": 8,
     "metadata": {},
     "output_type": "execute_result"
    }
   ],
   "source": [
    "auctions['ref_type_id'].memory_usage(deep = True)"
   ]
  },
  {
   "cell_type": "code",
   "execution_count": 9,
   "metadata": {},
   "outputs": [],
   "source": [
    "auctions['ref_type_id']=auctions['ref_type_id'].astype('int8')"
   ]
  },
  {
   "cell_type": "code",
   "execution_count": 10,
   "metadata": {},
   "outputs": [
    {
     "data": {
      "text/plain": [
       "47409608"
      ]
     },
     "execution_count": 10,
     "metadata": {},
     "output_type": "execute_result"
    }
   ],
   "source": [
    "auctions['ref_type_id'].memory_usage(deep = True)"
   ]
  },
  {
   "cell_type": "code",
   "execution_count": 11,
   "metadata": {},
   "outputs": [
    {
     "name": "stdout",
     "output_type": "stream",
     "text": [
      "Porcentaje reducido =  87 % Aprox.\n"
     ]
    }
   ],
   "source": [
    "porcentaje_reducido(47409608,379276304)"
   ]
  },
  {
   "cell_type": "markdown",
   "metadata": {},
   "source": [
    "## Source_id"
   ]
  },
  {
   "cell_type": "code",
   "execution_count": 12,
   "metadata": {},
   "outputs": [
    {
     "data": {
      "text/plain": [
       "array([0, 1, 3, 5, 8, 4, 2, 6, 7, 9])"
      ]
     },
     "execution_count": 12,
     "metadata": {},
     "output_type": "execute_result"
    }
   ],
   "source": [
    "auctions['source_id'].unique()"
   ]
  },
  {
   "cell_type": "code",
   "execution_count": 13,
   "metadata": {},
   "outputs": [
    {
     "data": {
      "text/plain": [
       "379276304"
      ]
     },
     "execution_count": 13,
     "metadata": {},
     "output_type": "execute_result"
    }
   ],
   "source": [
    "auctions['source_id'].memory_usage(deep = True)"
   ]
  },
  {
   "cell_type": "code",
   "execution_count": 14,
   "metadata": {},
   "outputs": [],
   "source": [
    "auctions['source_id']=auctions['source_id'].astype('int8')"
   ]
  },
  {
   "cell_type": "code",
   "execution_count": 15,
   "metadata": {},
   "outputs": [
    {
     "data": {
      "text/plain": [
       "47409608"
      ]
     },
     "execution_count": 15,
     "metadata": {},
     "output_type": "execute_result"
    }
   ],
   "source": [
    "auctions['source_id'].memory_usage(deep = True)"
   ]
  },
  {
   "cell_type": "code",
   "execution_count": 16,
   "metadata": {},
   "outputs": [
    {
     "name": "stdout",
     "output_type": "stream",
     "text": [
      "Porcentaje reducido =  87 % Aprox.\n"
     ]
    }
   ],
   "source": [
    "porcentaje_reducido(47409608,379276304)"
   ]
  },
  {
   "cell_type": "code",
   "execution_count": 17,
   "metadata": {},
   "outputs": [
    {
     "name": "stdout",
     "output_type": "stream",
     "text": [
      "<class 'pandas.core.frame.DataFrame'>\n",
      "RangeIndex: 47409528 entries, 0 to 47409527\n",
      "Data columns (total 4 columns):\n",
      "date           object\n",
      "device_id      int64\n",
      "ref_type_id    int8\n",
      "source_id      int8\n",
      "dtypes: int64(1), int8(2), object(1)\n",
      "memory usage: 813.8+ MB\n"
     ]
    }
   ],
   "source": [
    "auctions.info()"
   ]
  },
  {
   "cell_type": "code",
   "execution_count": null,
   "metadata": {},
   "outputs": [],
   "source": [
    "auctions.memory_usage(deep=True)"
   ]
  },
  {
   "cell_type": "code",
   "execution_count": null,
   "metadata": {},
   "outputs": [],
   "source": [
    "auctions.memory_usage(deep=True).sum()"
   ]
  },
  {
   "cell_type": "markdown",
   "metadata": {},
   "source": [
    "# Analizo events"
   ]
  },
  {
   "cell_type": "code",
   "execution_count": null,
   "metadata": {},
   "outputs": [],
   "source": [
    "events= pd.read_csv(\"data/events.csv.gzip\")"
   ]
  },
  {
   "cell_type": "code",
   "execution_count": null,
   "metadata": {},
   "outputs": [],
   "source": [
    "events.head()"
   ]
  },
  {
   "cell_type": "code",
   "execution_count": null,
   "metadata": {},
   "outputs": [],
   "source": [
    "events.memory_usage(deep=True).sum()"
   ]
  },
  {
   "cell_type": "code",
   "execution_count": null,
   "metadata": {
    "scrolled": false
   },
   "outputs": [],
   "source": [
    "events.info()"
   ]
  },
  {
   "cell_type": "markdown",
   "metadata": {},
   "source": [
    "## elimino al columna index"
   ]
  },
  {
   "cell_type": "code",
   "execution_count": null,
   "metadata": {},
   "outputs": [],
   "source": [
    "del events['index']"
   ]
  },
  {
   "cell_type": "code",
   "execution_count": null,
   "metadata": {},
   "outputs": [],
   "source": [
    "events.head(1)"
   ]
  },
  {
   "cell_type": "markdown",
   "metadata": {},
   "source": [
    "## event_id"
   ]
  },
  {
   "cell_type": "code",
   "execution_count": null,
   "metadata": {},
   "outputs": [],
   "source": [
    "events['event_id'].memory_usage(deep = True)"
   ]
  },
  {
   "cell_type": "code",
   "execution_count": null,
   "metadata": {},
   "outputs": [],
   "source": [
    "len(events['event_id'].unique())"
   ]
  },
  {
   "cell_type": "code",
   "execution_count": null,
   "metadata": {},
   "outputs": [],
   "source": [
    "events['event_id']= events['event_id'].astype('category')"
   ]
  },
  {
   "cell_type": "code",
   "execution_count": null,
   "metadata": {},
   "outputs": [],
   "source": [
    "events['event_id'].memory_usage(deep=True)"
   ]
  },
  {
   "cell_type": "code",
   "execution_count": null,
   "metadata": {},
   "outputs": [],
   "source": [
    "porcentaje_reducido(15513850,61956728)"
   ]
  },
  {
   "cell_type": "markdown",
   "metadata": {},
   "source": [
    "## ref_type"
   ]
  },
  {
   "cell_type": "code",
   "execution_count": null,
   "metadata": {},
   "outputs": [],
   "source": [
    "events['ref_type'].memory_usage(deep=True)"
   ]
  },
  {
   "cell_type": "code",
   "execution_count": null,
   "metadata": {},
   "outputs": [],
   "source": [
    "events['ref_type'].unique()"
   ]
  },
  {
   "cell_type": "code",
   "execution_count": null,
   "metadata": {},
   "outputs": [],
   "source": [
    "events['ref_type']=events['ref_type'].astype('category')"
   ]
  },
  {
   "cell_type": "code",
   "execution_count": null,
   "metadata": {},
   "outputs": [],
   "source": [
    "events['ref_type'].memory_usage(deep=True)"
   ]
  },
  {
   "cell_type": "code",
   "execution_count": null,
   "metadata": {},
   "outputs": [],
   "source": [
    "porcentaje_reducido(7744757,61956728)"
   ]
  },
  {
   "cell_type": "markdown",
   "metadata": {},
   "source": [
    "## application_id"
   ]
  },
  {
   "cell_type": "code",
   "execution_count": null,
   "metadata": {},
   "outputs": [],
   "source": [
    "events['application_id'].memory_usage(deep=True)"
   ]
  },
  {
   "cell_type": "code",
   "execution_count": null,
   "metadata": {},
   "outputs": [],
   "source": [
    "len(events['application_id'].unique())"
   ]
  },
  {
   "cell_type": "code",
   "execution_count": null,
   "metadata": {},
   "outputs": [],
   "source": [
    "events['application_id'].max()"
   ]
  },
  {
   "cell_type": "code",
   "execution_count": null,
   "metadata": {},
   "outputs": [],
   "source": [
    "events['application_id']=events['application_id'].astype(np.int16)\n",
    "events['application_id'].memory_usage(deep=True)"
   ]
  },
  {
   "cell_type": "code",
   "execution_count": null,
   "metadata": {},
   "outputs": [],
   "source": [
    "porcentaje_reducido(15489242, 61956728)"
   ]
  },
  {
   "cell_type": "markdown",
   "metadata": {},
   "source": [
    "## device_countrycode"
   ]
  },
  {
   "cell_type": "code",
   "execution_count": null,
   "metadata": {},
   "outputs": [],
   "source": [
    "events['device_countrycode'].unique()"
   ]
  },
  {
   "cell_type": "code",
   "execution_count": null,
   "metadata": {},
   "outputs": [],
   "source": [
    "events['device_countrycode'].memory_usage(deep = True)"
   ]
  },
  {
   "cell_type": "code",
   "execution_count": null,
   "metadata": {},
   "outputs": [],
   "source": [
    "events['device_countrycode'] = events['device_countrycode'].astype('category')\n",
    "events['device_countrycode'].memory_usage(deep = True)"
   ]
  },
  {
   "cell_type": "code",
   "execution_count": null,
   "metadata": {},
   "outputs": [],
   "source": [
    "porcentaje_reducido(7744749,61956728)"
   ]
  },
  {
   "cell_type": "markdown",
   "metadata": {},
   "source": [
    "## device_os_version"
   ]
  },
  {
   "cell_type": "code",
   "execution_count": null,
   "metadata": {},
   "outputs": [],
   "source": [
    "len(events['device_os_version'].unique())"
   ]
  },
  {
   "cell_type": "code",
   "execution_count": null,
   "metadata": {},
   "outputs": [],
   "source": [
    "events['device_os_version'].memory_usage(deep = True)"
   ]
  },
  {
   "cell_type": "code",
   "execution_count": null,
   "metadata": {},
   "outputs": [],
   "source": [
    "events['device_os_version']=events['device_os_version'].astype('category')\n",
    "events['device_os_version'].memory_usage(deep = True)"
   ]
  },
  {
   "cell_type": "code",
   "execution_count": null,
   "metadata": {},
   "outputs": [],
   "source": [
    "porcentaje_reducido(7747989,61956728)"
   ]
  },
  {
   "cell_type": "markdown",
   "metadata": {},
   "source": [
    "## device_brand"
   ]
  },
  {
   "cell_type": "code",
   "execution_count": null,
   "metadata": {},
   "outputs": [],
   "source": [
    "len(events['device_brand'].unique())"
   ]
  },
  {
   "cell_type": "code",
   "execution_count": null,
   "metadata": {},
   "outputs": [],
   "source": [
    "events['device_brand'].memory_usage(deep = True)"
   ]
  },
  {
   "cell_type": "code",
   "execution_count": null,
   "metadata": {},
   "outputs": [],
   "source": [
    "events['device_brand']=events['device_brand'].astype('category')\n",
    "events['device_brand'].memory_usage(deep = True)"
   ]
  },
  {
   "cell_type": "code",
   "execution_count": null,
   "metadata": {},
   "outputs": [],
   "source": [
    "porcentaje_reducido(15513770,61956728)"
   ]
  },
  {
   "cell_type": "markdown",
   "metadata": {},
   "source": [
    "## device_model"
   ]
  },
  {
   "cell_type": "code",
   "execution_count": null,
   "metadata": {},
   "outputs": [],
   "source": [
    "events['device_model'].memory_usage(deep = True)"
   ]
  },
  {
   "cell_type": "code",
   "execution_count": null,
   "metadata": {},
   "outputs": [],
   "source": [
    "events['device_model'].nunique()"
   ]
  },
  {
   "cell_type": "code",
   "execution_count": null,
   "metadata": {},
   "outputs": [],
   "source": [
    "events['device_model']=events['device_model'].astype('category')\n",
    "events['device_model'].memory_usage(deep = True)"
   ]
  },
  {
   "cell_type": "code",
   "execution_count": null,
   "metadata": {},
   "outputs": [],
   "source": [
    "porcentaje_reducido(15690842,61956728)"
   ]
  },
  {
   "cell_type": "markdown",
   "metadata": {},
   "source": [
    "## Device_city"
   ]
  },
  {
   "cell_type": "code",
   "execution_count": null,
   "metadata": {},
   "outputs": [],
   "source": [
    "events['device_city'].memory_usage(deep = True)"
   ]
  },
  {
   "cell_type": "code",
   "execution_count": null,
   "metadata": {},
   "outputs": [],
   "source": [
    "len(events['device_city'].unique())"
   ]
  },
  {
   "cell_type": "code",
   "execution_count": null,
   "metadata": {},
   "outputs": [],
   "source": [
    "events['device_city']=events['device_city'].astype('category')\n",
    "events['device_city'].memory_usage(deep = True)"
   ]
  },
  {
   "cell_type": "code",
   "execution_count": null,
   "metadata": {},
   "outputs": [],
   "source": [
    "porcentaje_reducido(15515746,61956728)"
   ]
  },
  {
   "cell_type": "markdown",
   "metadata": {},
   "source": [
    "## session_user_agent"
   ]
  },
  {
   "cell_type": "code",
   "execution_count": null,
   "metadata": {},
   "outputs": [],
   "source": [
    "events['session_user_agent'].memory_usage(deep = True)"
   ]
  },
  {
   "cell_type": "code",
   "execution_count": null,
   "metadata": {},
   "outputs": [],
   "source": [
    "len(events['session_user_agent'].unique())"
   ]
  },
  {
   "cell_type": "code",
   "execution_count": null,
   "metadata": {},
   "outputs": [],
   "source": [
    "events['session_user_agent']=events['session_user_agent'].astype('category')\n",
    "events['session_user_agent'].memory_usage(deep = True)"
   ]
  },
  {
   "cell_type": "code",
   "execution_count": null,
   "metadata": {},
   "outputs": [],
   "source": [
    "porcentaje_reducido(15589538,61956728)"
   ]
  },
  {
   "cell_type": "markdown",
   "metadata": {},
   "source": [
    "## trans_id"
   ]
  },
  {
   "cell_type": "code",
   "execution_count": null,
   "metadata": {},
   "outputs": [],
   "source": [
    "events['trans_id'].memory_usage(deep = True)"
   ]
  },
  {
   "cell_type": "code",
   "execution_count": null,
   "metadata": {},
   "outputs": [],
   "source": [
    "len(events['trans_id'].unique())"
   ]
  },
  {
   "cell_type": "code",
   "execution_count": null,
   "metadata": {},
   "outputs": [],
   "source": [
    "events['trans_id']=events['trans_id'].astype('category')\n",
    "events['trans_id'].memory_usage(deep = True)"
   ]
  },
  {
   "cell_type": "code",
   "execution_count": null,
   "metadata": {},
   "outputs": [],
   "source": [
    "porcentaje_reducido(17405909,251526464)"
   ]
  },
  {
   "cell_type": "markdown",
   "metadata": {},
   "source": [
    "## user_agent"
   ]
  },
  {
   "cell_type": "code",
   "execution_count": null,
   "metadata": {},
   "outputs": [],
   "source": [
    "len(events['user_agent'].unique())"
   ]
  },
  {
   "cell_type": "code",
   "execution_count": null,
   "metadata": {},
   "outputs": [],
   "source": [
    "events['user_agent'].memory_usage(deep = True)"
   ]
  },
  {
   "cell_type": "code",
   "execution_count": null,
   "metadata": {},
   "outputs": [],
   "source": [
    "events['user_agent']=events['user_agent'].astype('category')\n",
    "events['user_agent'].memory_usage(deep = True)"
   ]
  },
  {
   "cell_type": "code",
   "execution_count": null,
   "metadata": {},
   "outputs": [],
   "source": [
    "porcentaje_reducido(16261762,61956728)"
   ]
  },
  {
   "cell_type": "markdown",
   "metadata": {},
   "source": [
    "## event_uuid"
   ]
  },
  {
   "cell_type": "code",
   "execution_count": null,
   "metadata": {},
   "outputs": [],
   "source": [
    "events['event_uuid'].describe()"
   ]
  },
  {
   "cell_type": "code",
   "execution_count": null,
   "metadata": {},
   "outputs": [],
   "source": [
    "events['event_uuid'].head()"
   ]
  },
  {
   "cell_type": "markdown",
   "metadata": {},
   "source": [
    "Como los event_uuid son únicos, no puedo hacer nada más que mantenerlos como están, ya que tampoco puedo modificar su tipo."
   ]
  },
  {
   "cell_type": "markdown",
   "metadata": {},
   "source": [
    "## carrier"
   ]
  },
  {
   "cell_type": "code",
   "execution_count": null,
   "metadata": {},
   "outputs": [],
   "source": [
    "events['carrier'].memory_usage(deep = True)"
   ]
  },
  {
   "cell_type": "code",
   "execution_count": null,
   "metadata": {},
   "outputs": [],
   "source": [
    "len(events['carrier'].unique())"
   ]
  },
  {
   "cell_type": "code",
   "execution_count": null,
   "metadata": {},
   "outputs": [],
   "source": [
    "events['carrier']=events['carrier'].astype('category')\n",
    "events['carrier'].memory_usage(deep = True)"
   ]
  },
  {
   "cell_type": "code",
   "execution_count": null,
   "metadata": {},
   "outputs": [],
   "source": [
    "porcentaje_reducido(15501554,61956728)"
   ]
  },
  {
   "cell_type": "markdown",
   "metadata": {},
   "source": [
    "## device_os"
   ]
  },
  {
   "cell_type": "code",
   "execution_count": null,
   "metadata": {},
   "outputs": [],
   "source": [
    "events['device_os'].memory_usage(deep = True)"
   ]
  },
  {
   "cell_type": "code",
   "execution_count": null,
   "metadata": {},
   "outputs": [],
   "source": [
    "events['device_os'].nunique()"
   ]
  },
  {
   "cell_type": "code",
   "execution_count": null,
   "metadata": {},
   "outputs": [],
   "source": [
    "events['device_os'].value_counts()"
   ]
  },
  {
   "cell_type": "code",
   "execution_count": null,
   "metadata": {},
   "outputs": [],
   "source": [
    "events['device_os']=events['device_os'].astype('category')\n",
    "events['device_os'].memory_usage(deep = True)"
   ]
  },
  {
   "cell_type": "code",
   "execution_count": null,
   "metadata": {},
   "outputs": [],
   "source": [
    "porcentaje_reducido(7744757,61956728)"
   ]
  },
  {
   "cell_type": "markdown",
   "metadata": {},
   "source": [
    "## kind"
   ]
  },
  {
   "cell_type": "code",
   "execution_count": null,
   "metadata": {},
   "outputs": [],
   "source": [
    "events['kind'].memory_usage(deep = True)"
   ]
  },
  {
   "cell_type": "code",
   "execution_count": null,
   "metadata": {},
   "outputs": [],
   "source": [
    "len(events['kind'].unique())"
   ]
  },
  {
   "cell_type": "code",
   "execution_count": null,
   "metadata": {},
   "outputs": [],
   "source": [
    "events['kind']=events['kind'].astype('category')\n",
    "events['kind'].memory_usage(deep = True)"
   ]
  },
  {
   "cell_type": "code",
   "execution_count": null,
   "metadata": {},
   "outputs": [],
   "source": [
    "porcentaje_reducido(15513826,61956728)"
   ]
  },
  {
   "cell_type": "markdown",
   "metadata": {},
   "source": [
    "## connection_type"
   ]
  },
  {
   "cell_type": "code",
   "execution_count": null,
   "metadata": {},
   "outputs": [],
   "source": [
    "len(events['connection_type'].unique())"
   ]
  },
  {
   "cell_type": "code",
   "execution_count": null,
   "metadata": {},
   "outputs": [],
   "source": [
    "events['connection_type'].memory_usage(deep = True)"
   ]
  },
  {
   "cell_type": "code",
   "execution_count": null,
   "metadata": {},
   "outputs": [],
   "source": [
    "events['connection_type']=events['connection_type'].astype('category')\n",
    "events['connection_type'].memory_usage(deep = True)"
   ]
  },
  {
   "cell_type": "code",
   "execution_count": 113,
   "metadata": {},
   "outputs": [
    {
     "name": "stdout",
     "output_type": "stream",
     "text": [
      "Porcentaje reducido =  97 % Aprox.\n"
     ]
    }
   ],
   "source": [
    "porcentaje_reducido(7745081,308825373)"
   ]
  },
  {
   "cell_type": "markdown",
   "metadata": {},
   "source": [
    "## ip_address"
   ]
  },
  {
   "cell_type": "code",
   "execution_count": 114,
   "metadata": {},
   "outputs": [
    {
     "data": {
      "text/plain": [
       "61956728"
      ]
     },
     "execution_count": 114,
     "metadata": {},
     "output_type": "execute_result"
    }
   ],
   "source": [
    "events['ip_address'].memory_usage(deep = True)"
   ]
  },
  {
   "cell_type": "code",
   "execution_count": 115,
   "metadata": {},
   "outputs": [
    {
     "data": {
      "text/plain": [
       "381784"
      ]
     },
     "execution_count": 115,
     "metadata": {},
     "output_type": "execute_result"
    }
   ],
   "source": [
    "len(events['ip_address'].unique())"
   ]
  },
  {
   "cell_type": "code",
   "execution_count": 116,
   "metadata": {},
   "outputs": [
    {
     "data": {
      "text/plain": [
       "44518436"
      ]
     },
     "execution_count": 116,
     "metadata": {},
     "output_type": "execute_result"
    }
   ],
   "source": [
    "events['ip_address']=events['ip_address'].astype('category')\n",
    "events['ip_address'].memory_usage(deep = True)"
   ]
  },
  {
   "cell_type": "code",
   "execution_count": 117,
   "metadata": {},
   "outputs": [
    {
     "name": "stdout",
     "output_type": "stream",
     "text": [
      "Porcentaje reducido =  28 % Aprox.\n"
     ]
    }
   ],
   "source": [
    "porcentaje_reducido(44518436,61956728)"
   ]
  },
  {
   "cell_type": "markdown",
   "metadata": {},
   "source": [
    "## device_language"
   ]
  },
  {
   "cell_type": "code",
   "execution_count": 119,
   "metadata": {},
   "outputs": [
    {
     "data": {
      "text/plain": [
       "61956728"
      ]
     },
     "execution_count": 119,
     "metadata": {},
     "output_type": "execute_result"
    }
   ],
   "source": [
    "events['device_language'].memory_usage(deep = True)"
   ]
  },
  {
   "cell_type": "code",
   "execution_count": 99,
   "metadata": {},
   "outputs": [
    {
     "data": {
      "text/plain": [
       "210"
      ]
     },
     "execution_count": 99,
     "metadata": {},
     "output_type": "execute_result"
    }
   ],
   "source": [
    "len(events['device_language'].unique())"
   ]
  },
  {
   "cell_type": "code",
   "execution_count": 120,
   "metadata": {},
   "outputs": [
    {
     "data": {
      "text/plain": [
       "count    5.665409e+06\n",
       "mean     5.347474e+18\n",
       "std      1.981312e+18\n",
       "min      6.645612e+16\n",
       "25%      3.301378e+18\n",
       "50%      6.584214e+18\n",
       "75%      6.977049e+18\n",
       "max      9.210226e+18\n",
       "Name: device_language, dtype: float64"
      ]
     },
     "execution_count": 120,
     "metadata": {},
     "output_type": "execute_result"
    }
   ],
   "source": [
    "events['device_language'].describe()"
   ]
  },
  {
   "cell_type": "code",
   "execution_count": 121,
   "metadata": {},
   "outputs": [
    {
     "data": {
      "text/plain": [
       "15501154"
      ]
     },
     "execution_count": 121,
     "metadata": {},
     "output_type": "execute_result"
    }
   ],
   "source": [
    "events['device_language']=events['device_language'].astype('category')\n",
    "events['device_language'].memory_usage(deep = True)"
   ]
  },
  {
   "cell_type": "code",
   "execution_count": 123,
   "metadata": {},
   "outputs": [
    {
     "name": "stdout",
     "output_type": "stream",
     "text": [
      "Porcentaje reducido =  74 % Aprox.\n"
     ]
    }
   ],
   "source": [
    "porcentaje_reducido(15501154,61956728)"
   ]
  },
  {
   "cell_type": "markdown",
   "metadata": {},
   "source": [
    "## Tamaño final del set de datos Events"
   ]
  },
  {
   "cell_type": "code",
   "execution_count": 103,
   "metadata": {},
   "outputs": [
    {
     "data": {
      "text/plain": [
       "Index                       80\n",
       "date                  61956648\n",
       "event_id              15513770\n",
       "ref_type               7744677\n",
       "ref_hash              44365036\n",
       "application_id        15501402\n",
       "attributed             7744581\n",
       "device_os_version      7747909\n",
       "device_brand          15513690\n",
       "device_model          15589458\n",
       "device_city           15515666\n",
       "session_user_agent    15589458\n",
       "trans_id              17405825\n",
       "user_agent            16261682\n",
       "carrier               15501474\n",
       "kind                  15513746\n",
       "device_os              7744677\n",
       "wifi                   7744581\n",
       "connection_type        7745001\n",
       "ip_address            44518356\n",
       "device_language       15501074\n",
       "dtype: int64"
      ]
     },
     "execution_count": 103,
     "metadata": {},
     "output_type": "execute_result"
    }
   ],
   "source": [
    "events.memory_usage(deep=True)"
   ]
  },
  {
   "cell_type": "code",
   "execution_count": 104,
   "metadata": {},
   "outputs": [
    {
     "data": {
      "text/plain": [
       "370718791"
      ]
     },
     "execution_count": 104,
     "metadata": {},
     "output_type": "execute_result"
    }
   ],
   "source": [
    "events.memory_usage(deep=True).sum()"
   ]
  },
  {
   "cell_type": "code",
   "execution_count": 124,
   "metadata": {},
   "outputs": [
    {
     "name": "stdout",
     "output_type": "stream",
     "text": [
      "<class 'pandas.core.frame.DataFrame'>\n",
      "RangeIndex: 7744581 entries, 0 to 7744580\n",
      "Data columns (total 22 columns):\n",
      "date                  object\n",
      "event_id              category\n",
      "ref_type              category\n",
      "ref_hash              category\n",
      "application_id        int16\n",
      "attributed            bool\n",
      "device_countrycode    category\n",
      "device_os_version     category\n",
      "device_brand          category\n",
      "device_model          category\n",
      "device_city           category\n",
      "session_user_agent    category\n",
      "trans_id              category\n",
      "user_agent            category\n",
      "event_uuid            object\n",
      "carrier               category\n",
      "kind                  category\n",
      "device_os             category\n",
      "wifi                  bool\n",
      "connection_type       category\n",
      "ip_address            category\n",
      "device_language       category\n",
      "dtypes: bool(2), category(17), int16(1), object(2)\n",
      "memory usage: 418.7+ MB\n"
     ]
    }
   ],
   "source": [
    "events.info()"
   ]
  },
  {
   "cell_type": "code",
   "execution_count": 125,
   "metadata": {},
   "outputs": [
    {
     "name": "stdout",
     "output_type": "stream",
     "text": [
      "Porcentaje reducido =  87 % Aprox.\n"
     ]
    }
   ],
   "source": [
    "porcentaje_reducido(370718791,2967070572)"
   ]
  },
  {
   "cell_type": "markdown",
   "metadata": {},
   "source": [
    "Analizo clicks"
   ]
  },
  {
   "cell_type": "code",
   "execution_count": 105,
   "metadata": {},
   "outputs": [
    {
     "name": "stderr",
     "output_type": "stream",
     "text": [
      "C:\\Users\\AJorg\\Anaconda3\\lib\\site-packages\\IPython\\core\\interactiveshell.py:3049: DtypeWarning: Columns (16,17) have mixed types. Specify dtype option on import or set low_memory=False.\n",
      "  interactivity=interactivity, compiler=compiler, result=result)\n"
     ]
    }
   ],
   "source": [
    "clicks= pd.read_csv(\"datos/clicks.csv.gzip\", compression='gzip')"
   ]
  },
  {
   "cell_type": "code",
   "execution_count": 106,
   "metadata": {},
   "outputs": [
    {
     "data": {
      "text/plain": [
       "Index                   80\n",
       "advertiser_id       514368\n",
       "action_id           514368\n",
       "source_id           514368\n",
       "created            5207976\n",
       "country_code        514368\n",
       "latitude            514368\n",
       "longitude           514368\n",
       "wifi_connection      64296\n",
       "carrier_id          514368\n",
       "trans_id           5658048\n",
       "os_minor            514368\n",
       "agent_device        514368\n",
       "os_major            514368\n",
       "specs_brand         514368\n",
       "brand               514368\n",
       "timeToClick         514368\n",
       "touchX             2731425\n",
       "touchY             2731944\n",
       "ref_type            514368\n",
       "ref_hash            514368\n",
       "dtype: int64"
      ]
     },
     "execution_count": 106,
     "metadata": {},
     "output_type": "execute_result"
    }
   ],
   "source": [
    "clicks.memory_usage(deep=True)"
   ]
  },
  {
   "cell_type": "code",
   "execution_count": 107,
   "metadata": {},
   "outputs": [
    {
     "data": {
      "text/html": [
       "<div>\n",
       "<style scoped>\n",
       "    .dataframe tbody tr th:only-of-type {\n",
       "        vertical-align: middle;\n",
       "    }\n",
       "\n",
       "    .dataframe tbody tr th {\n",
       "        vertical-align: top;\n",
       "    }\n",
       "\n",
       "    .dataframe thead th {\n",
       "        text-align: right;\n",
       "    }\n",
       "</style>\n",
       "<table border=\"1\" class=\"dataframe\">\n",
       "  <thead>\n",
       "    <tr style=\"text-align: right;\">\n",
       "      <th></th>\n",
       "      <th>advertiser_id</th>\n",
       "      <th>action_id</th>\n",
       "      <th>source_id</th>\n",
       "      <th>created</th>\n",
       "      <th>country_code</th>\n",
       "      <th>latitude</th>\n",
       "      <th>longitude</th>\n",
       "      <th>wifi_connection</th>\n",
       "      <th>carrier_id</th>\n",
       "      <th>trans_id</th>\n",
       "      <th>os_minor</th>\n",
       "      <th>agent_device</th>\n",
       "      <th>os_major</th>\n",
       "      <th>specs_brand</th>\n",
       "      <th>brand</th>\n",
       "      <th>timeToClick</th>\n",
       "      <th>touchX</th>\n",
       "      <th>touchY</th>\n",
       "      <th>ref_type</th>\n",
       "      <th>ref_hash</th>\n",
       "    </tr>\n",
       "  </thead>\n",
       "  <tbody>\n",
       "    <tr>\n",
       "      <th>0</th>\n",
       "      <td>1</td>\n",
       "      <td>NaN</td>\n",
       "      <td>2</td>\n",
       "      <td>2019-04-18T05:27:42.197Z</td>\n",
       "      <td>6287817205707153877</td>\n",
       "      <td>1.714547</td>\n",
       "      <td>0.871535</td>\n",
       "      <td>False</td>\n",
       "      <td>3.0</td>\n",
       "      <td>9JMAfrb-b9cSEVCJb0P9JfihGthaS7E</td>\n",
       "      <td>1.517644e+18</td>\n",
       "      <td>NaN</td>\n",
       "      <td>5.131616e+18</td>\n",
       "      <td>71913840936116953</td>\n",
       "      <td>0.0</td>\n",
       "      <td>2.317</td>\n",
       "      <td>0.968</td>\n",
       "      <td>0.503</td>\n",
       "      <td>1891515180541284343</td>\n",
       "      <td>1293710398598742392</td>\n",
       "    </tr>\n",
       "    <tr>\n",
       "      <th>1</th>\n",
       "      <td>1</td>\n",
       "      <td>NaN</td>\n",
       "      <td>1</td>\n",
       "      <td>2019-04-18T05:27:03.164Z</td>\n",
       "      <td>6287817205707153877</td>\n",
       "      <td>1.714512</td>\n",
       "      <td>0.871062</td>\n",
       "      <td>True</td>\n",
       "      <td>2.0</td>\n",
       "      <td>r3xtTRv2lInfiXG8JI3NQsNcBo8GyFQ</td>\n",
       "      <td>1.288578e+18</td>\n",
       "      <td>NaN</td>\n",
       "      <td>3.908390e+18</td>\n",
       "      <td>3576558787748411622</td>\n",
       "      <td>1.0</td>\n",
       "      <td>7.653</td>\n",
       "      <td>0.712</td>\n",
       "      <td>1.689</td>\n",
       "      <td>1891515180541284343</td>\n",
       "      <td>1663930990551616564</td>\n",
       "    </tr>\n",
       "    <tr>\n",
       "      <th>2</th>\n",
       "      <td>1</td>\n",
       "      <td>NaN</td>\n",
       "      <td>1</td>\n",
       "      <td>2019-04-18T05:42:07.926Z</td>\n",
       "      <td>6287817205707153877</td>\n",
       "      <td>1.714547</td>\n",
       "      <td>0.871535</td>\n",
       "      <td>True</td>\n",
       "      <td>4.0</td>\n",
       "      <td>WOnHFqQtY48z_ygKZ-030U_g0TMGVMw</td>\n",
       "      <td>2.238736e+18</td>\n",
       "      <td>NaN</td>\n",
       "      <td>3.581233e+18</td>\n",
       "      <td>3576558787748411622</td>\n",
       "      <td>NaN</td>\n",
       "      <td>464.796</td>\n",
       "      <td>0.227</td>\n",
       "      <td>0.251</td>\n",
       "      <td>1891515180541284343</td>\n",
       "      <td>8488038938665586188</td>\n",
       "    </tr>\n",
       "    <tr>\n",
       "      <th>3</th>\n",
       "      <td>1</td>\n",
       "      <td>NaN</td>\n",
       "      <td>1</td>\n",
       "      <td>2019-04-18T05:26:04.446Z</td>\n",
       "      <td>6287817205707153877</td>\n",
       "      <td>1.708041</td>\n",
       "      <td>0.870772</td>\n",
       "      <td>True</td>\n",
       "      <td>1.0</td>\n",
       "      <td>wQMLLmYqiFhSuha9p9B13PMtcyBW_vM</td>\n",
       "      <td>2.411640e+18</td>\n",
       "      <td>NaN</td>\n",
       "      <td>3.908390e+18</td>\n",
       "      <td>3576558787748411622</td>\n",
       "      <td>NaN</td>\n",
       "      <td>225.311</td>\n",
       "      <td>0.696</td>\n",
       "      <td>6.587</td>\n",
       "      <td>1891515180541284343</td>\n",
       "      <td>6488361690105189959</td>\n",
       "    </tr>\n",
       "    <tr>\n",
       "      <th>4</th>\n",
       "      <td>1</td>\n",
       "      <td>NaN</td>\n",
       "      <td>1</td>\n",
       "      <td>2019-04-18T05:23:37.764Z</td>\n",
       "      <td>6287817205707153877</td>\n",
       "      <td>1.715514</td>\n",
       "      <td>0.870772</td>\n",
       "      <td>True</td>\n",
       "      <td>2.0</td>\n",
       "      <td>GeFoyBzMA7taylMxxjzlNPTU-n4FXFs</td>\n",
       "      <td>1.517644e+18</td>\n",
       "      <td>NaN</td>\n",
       "      <td>5.131616e+18</td>\n",
       "      <td>3576558787748411622</td>\n",
       "      <td>0.0</td>\n",
       "      <td>84.736</td>\n",
       "      <td>0.059</td>\n",
       "      <td>0.142</td>\n",
       "      <td>1891515180541284343</td>\n",
       "      <td>1348993302102753419</td>\n",
       "    </tr>\n",
       "  </tbody>\n",
       "</table>\n",
       "</div>"
      ],
      "text/plain": [
       "   advertiser_id  action_id  source_id                   created  \\\n",
       "0              1        NaN          2  2019-04-18T05:27:42.197Z   \n",
       "1              1        NaN          1  2019-04-18T05:27:03.164Z   \n",
       "2              1        NaN          1  2019-04-18T05:42:07.926Z   \n",
       "3              1        NaN          1  2019-04-18T05:26:04.446Z   \n",
       "4              1        NaN          1  2019-04-18T05:23:37.764Z   \n",
       "\n",
       "          country_code  latitude  longitude  wifi_connection  carrier_id  \\\n",
       "0  6287817205707153877  1.714547   0.871535            False         3.0   \n",
       "1  6287817205707153877  1.714512   0.871062             True         2.0   \n",
       "2  6287817205707153877  1.714547   0.871535             True         4.0   \n",
       "3  6287817205707153877  1.708041   0.870772             True         1.0   \n",
       "4  6287817205707153877  1.715514   0.870772             True         2.0   \n",
       "\n",
       "                          trans_id      os_minor  agent_device      os_major  \\\n",
       "0  9JMAfrb-b9cSEVCJb0P9JfihGthaS7E  1.517644e+18           NaN  5.131616e+18   \n",
       "1  r3xtTRv2lInfiXG8JI3NQsNcBo8GyFQ  1.288578e+18           NaN  3.908390e+18   \n",
       "2  WOnHFqQtY48z_ygKZ-030U_g0TMGVMw  2.238736e+18           NaN  3.581233e+18   \n",
       "3  wQMLLmYqiFhSuha9p9B13PMtcyBW_vM  2.411640e+18           NaN  3.908390e+18   \n",
       "4  GeFoyBzMA7taylMxxjzlNPTU-n4FXFs  1.517644e+18           NaN  5.131616e+18   \n",
       "\n",
       "           specs_brand  brand  timeToClick touchX touchY             ref_type  \\\n",
       "0    71913840936116953    0.0        2.317  0.968  0.503  1891515180541284343   \n",
       "1  3576558787748411622    1.0        7.653  0.712  1.689  1891515180541284343   \n",
       "2  3576558787748411622    NaN      464.796  0.227  0.251  1891515180541284343   \n",
       "3  3576558787748411622    NaN      225.311  0.696  6.587  1891515180541284343   \n",
       "4  3576558787748411622    0.0       84.736  0.059  0.142  1891515180541284343   \n",
       "\n",
       "              ref_hash  \n",
       "0  1293710398598742392  \n",
       "1  1663930990551616564  \n",
       "2  8488038938665586188  \n",
       "3  6488361690105189959  \n",
       "4  1348993302102753419  "
      ]
     },
     "execution_count": 107,
     "metadata": {},
     "output_type": "execute_result"
    }
   ],
   "source": [
    "clicks.head()"
   ]
  },
  {
   "cell_type": "markdown",
   "metadata": {},
   "source": [
    "Analizo installs"
   ]
  },
  {
   "cell_type": "code",
   "execution_count": 108,
   "metadata": {},
   "outputs": [
    {
     "name": "stderr",
     "output_type": "stream",
     "text": [
      "C:\\Users\\AJorg\\Anaconda3\\lib\\site-packages\\IPython\\core\\interactiveshell.py:3049: DtypeWarning: Columns (4,15) have mixed types. Specify dtype option on import or set low_memory=False.\n",
      "  interactivity=interactivity, compiler=compiler, result=result)\n"
     ]
    }
   ],
   "source": [
    "installs= pd.read_csv(\"datos/installs.csv.gzip\", compression='gzip')"
   ]
  },
  {
   "cell_type": "code",
   "execution_count": 109,
   "metadata": {},
   "outputs": [
    {
     "data": {
      "text/plain": [
       "Index                       80\n",
       "created               38520880\n",
       "application_id         3852088\n",
       "ref_type               3852088\n",
       "ref_hash               3852088\n",
       "click_hash            15472304\n",
       "attributed              481511\n",
       "implicit                481511\n",
       "device_countrycode     3852088\n",
       "device_brand           3852088\n",
       "device_model           3852088\n",
       "session_user_agent    34864961\n",
       "user_agent            45694873\n",
       "event_uuid            21701600\n",
       "kind                  18853379\n",
       "wifi                  16348872\n",
       "trans_id              16164177\n",
       "ip_address             3852088\n",
       "device_language        3852088\n",
       "dtype: int64"
      ]
     },
     "execution_count": 109,
     "metadata": {},
     "output_type": "execute_result"
    }
   ],
   "source": [
    "installs.memory_usage(deep=True)"
   ]
  },
  {
   "cell_type": "code",
   "execution_count": null,
   "metadata": {},
   "outputs": [],
   "source": [
    "installs= pd.read_csv(\"datos/installs.csv.gzip\", compression='gzip')"
   ]
  },
  {
   "cell_type": "code",
   "execution_count": 112,
   "metadata": {},
   "outputs": [
    {
     "name": "stdout",
     "output_type": "stream",
     "text": [
      "<class 'pandas.core.frame.DataFrame'>\n",
      "RangeIndex: 481511 entries, 0 to 481510\n",
      "Data columns (total 18 columns):\n",
      "created               481511 non-null object\n",
      "application_id        481511 non-null int64\n",
      "ref_type              481511 non-null int64\n",
      "ref_hash              481511 non-null int64\n",
      "click_hash            1142 non-null object\n",
      "attributed            481511 non-null bool\n",
      "implicit              481511 non-null bool\n",
      "device_countrycode    481511 non-null int64\n",
      "device_brand          276443 non-null float64\n",
      "device_model          454619 non-null float64\n",
      "session_user_agent    466672 non-null object\n",
      "user_agent            330768 non-null object\n",
      "event_uuid            103168 non-null object\n",
      "kind                  103168 non-null object\n",
      "wifi                  294829 non-null object\n",
      "trans_id              8933 non-null object\n",
      "ip_address            481511 non-null int64\n",
      "device_language       453934 non-null float64\n",
      "dtypes: bool(2), float64(3), int64(5), object(8)\n",
      "memory usage: 59.7+ MB\n"
     ]
    }
   ],
   "source": [
    "installs.info()"
   ]
  },
  {
   "cell_type": "code",
   "execution_count": 110,
   "metadata": {},
   "outputs": [
    {
     "data": {
      "text/html": [
       "<div>\n",
       "<style scoped>\n",
       "    .dataframe tbody tr th:only-of-type {\n",
       "        vertical-align: middle;\n",
       "    }\n",
       "\n",
       "    .dataframe tbody tr th {\n",
       "        vertical-align: top;\n",
       "    }\n",
       "\n",
       "    .dataframe thead th {\n",
       "        text-align: right;\n",
       "    }\n",
       "</style>\n",
       "<table border=\"1\" class=\"dataframe\">\n",
       "  <thead>\n",
       "    <tr style=\"text-align: right;\">\n",
       "      <th></th>\n",
       "      <th>created</th>\n",
       "      <th>application_id</th>\n",
       "      <th>ref_type</th>\n",
       "      <th>ref_hash</th>\n",
       "      <th>click_hash</th>\n",
       "      <th>attributed</th>\n",
       "      <th>implicit</th>\n",
       "      <th>device_countrycode</th>\n",
       "      <th>device_brand</th>\n",
       "      <th>device_model</th>\n",
       "      <th>session_user_agent</th>\n",
       "      <th>user_agent</th>\n",
       "      <th>event_uuid</th>\n",
       "      <th>kind</th>\n",
       "      <th>wifi</th>\n",
       "      <th>trans_id</th>\n",
       "      <th>ip_address</th>\n",
       "      <th>device_language</th>\n",
       "    </tr>\n",
       "  </thead>\n",
       "  <tbody>\n",
       "    <tr>\n",
       "      <th>0</th>\n",
       "      <td>2019-04-24 06:23:29.495</td>\n",
       "      <td>1</td>\n",
       "      <td>1494519392962156891</td>\n",
       "      <td>4716708407362582887</td>\n",
       "      <td>NaN</td>\n",
       "      <td>False</td>\n",
       "      <td>True</td>\n",
       "      <td>6287817205707153877</td>\n",
       "      <td>NaN</td>\n",
       "      <td>3.739127e+17</td>\n",
       "      <td>adjust.com</td>\n",
       "      <td>NaN</td>\n",
       "      <td>79837499-2f2a-4605-a663-e322f759424f</td>\n",
       "      <td>app_open</td>\n",
       "      <td>NaN</td>\n",
       "      <td>NaN</td>\n",
       "      <td>4243443387795468703</td>\n",
       "      <td>3.301378e+18</td>\n",
       "    </tr>\n",
       "    <tr>\n",
       "      <th>1</th>\n",
       "      <td>2019-04-24 02:06:01.032</td>\n",
       "      <td>1</td>\n",
       "      <td>1494519392962156891</td>\n",
       "      <td>7143568733100935872</td>\n",
       "      <td>NaN</td>\n",
       "      <td>False</td>\n",
       "      <td>False</td>\n",
       "      <td>6287817205707153877</td>\n",
       "      <td>NaN</td>\n",
       "      <td>7.805539e+18</td>\n",
       "      <td>adjust.com</td>\n",
       "      <td>NaN</td>\n",
       "      <td>NaN</td>\n",
       "      <td>NaN</td>\n",
       "      <td>NaN</td>\n",
       "      <td>NaN</td>\n",
       "      <td>4724288679627032761</td>\n",
       "      <td>3.301378e+18</td>\n",
       "    </tr>\n",
       "    <tr>\n",
       "      <th>2</th>\n",
       "      <td>2019-04-20 10:15:36.274</td>\n",
       "      <td>1</td>\n",
       "      <td>1494519392962156891</td>\n",
       "      <td>5230323462636548010</td>\n",
       "      <td>NaN</td>\n",
       "      <td>False</td>\n",
       "      <td>True</td>\n",
       "      <td>6287817205707153877</td>\n",
       "      <td>NaN</td>\n",
       "      <td>8.355496e+18</td>\n",
       "      <td>adjust.com</td>\n",
       "      <td>NaN</td>\n",
       "      <td>dda99e3c-9c4b-487d-891c-79f0a02cb4a8</td>\n",
       "      <td>app_open</td>\n",
       "      <td>NaN</td>\n",
       "      <td>NaN</td>\n",
       "      <td>8291809486355890410</td>\n",
       "      <td>4.060930e+18</td>\n",
       "    </tr>\n",
       "    <tr>\n",
       "      <th>3</th>\n",
       "      <td>2019-04-20 21:56:47.151</td>\n",
       "      <td>1</td>\n",
       "      <td>1494519392962156891</td>\n",
       "      <td>5097163995161606833</td>\n",
       "      <td>NaN</td>\n",
       "      <td>False</td>\n",
       "      <td>True</td>\n",
       "      <td>6287817205707153877</td>\n",
       "      <td>NaN</td>\n",
       "      <td>2.355772e+18</td>\n",
       "      <td>adjust.com</td>\n",
       "      <td>NaN</td>\n",
       "      <td>7010c3ce-0fcf-46c6-9be8-374cc0e20af4</td>\n",
       "      <td>app_open</td>\n",
       "      <td>NaN</td>\n",
       "      <td>NaN</td>\n",
       "      <td>4006811922873399949</td>\n",
       "      <td>3.301378e+18</td>\n",
       "    </tr>\n",
       "    <tr>\n",
       "      <th>4</th>\n",
       "      <td>2019-04-20 22:40:41.239</td>\n",
       "      <td>1</td>\n",
       "      <td>1494519392962156891</td>\n",
       "      <td>6328027616411983332</td>\n",
       "      <td>NaN</td>\n",
       "      <td>False</td>\n",
       "      <td>False</td>\n",
       "      <td>6287817205707153877</td>\n",
       "      <td>NaN</td>\n",
       "      <td>6.156971e+18</td>\n",
       "      <td>adjust.com</td>\n",
       "      <td>NaN</td>\n",
       "      <td>NaN</td>\n",
       "      <td>NaN</td>\n",
       "      <td>NaN</td>\n",
       "      <td>NaN</td>\n",
       "      <td>3386455054590810771</td>\n",
       "      <td>3.301378e+18</td>\n",
       "    </tr>\n",
       "    <tr>\n",
       "      <th>5</th>\n",
       "      <td>2019-04-20 18:19:27.485</td>\n",
       "      <td>1</td>\n",
       "      <td>1494519392962156891</td>\n",
       "      <td>7522785771858684314</td>\n",
       "      <td>NaN</td>\n",
       "      <td>False</td>\n",
       "      <td>True</td>\n",
       "      <td>6287817205707153877</td>\n",
       "      <td>NaN</td>\n",
       "      <td>6.208879e+18</td>\n",
       "      <td>adjust.com</td>\n",
       "      <td>NaN</td>\n",
       "      <td>35e7504f-cd9b-4a78-b89f-7335a8bd735a</td>\n",
       "      <td>app_open</td>\n",
       "      <td>NaN</td>\n",
       "      <td>NaN</td>\n",
       "      <td>7297343258015606683</td>\n",
       "      <td>3.301378e+18</td>\n",
       "    </tr>\n",
       "    <tr>\n",
       "      <th>6</th>\n",
       "      <td>2019-04-20 03:40:21.239</td>\n",
       "      <td>1</td>\n",
       "      <td>1494519392962156891</td>\n",
       "      <td>7882044913917355073</td>\n",
       "      <td>NaN</td>\n",
       "      <td>False</td>\n",
       "      <td>True</td>\n",
       "      <td>6287817205707153877</td>\n",
       "      <td>NaN</td>\n",
       "      <td>4.566898e+18</td>\n",
       "      <td>adjust.com</td>\n",
       "      <td>NaN</td>\n",
       "      <td>f3a8649c-bd47-4874-a20e-8d3d5cedac2e</td>\n",
       "      <td>app_open</td>\n",
       "      <td>NaN</td>\n",
       "      <td>NaN</td>\n",
       "      <td>4764130939738113581</td>\n",
       "      <td>4.060930e+18</td>\n",
       "    </tr>\n",
       "    <tr>\n",
       "      <th>7</th>\n",
       "      <td>2019-04-23 20:55:27.691</td>\n",
       "      <td>1</td>\n",
       "      <td>1494519392962156891</td>\n",
       "      <td>404154463572960372</td>\n",
       "      <td>NaN</td>\n",
       "      <td>False</td>\n",
       "      <td>True</td>\n",
       "      <td>6287817205707153877</td>\n",
       "      <td>NaN</td>\n",
       "      <td>6.208879e+18</td>\n",
       "      <td>adjust.com</td>\n",
       "      <td>NaN</td>\n",
       "      <td>06f054c1-608b-437b-a7d7-21d7c5860fe4</td>\n",
       "      <td>app_open</td>\n",
       "      <td>NaN</td>\n",
       "      <td>NaN</td>\n",
       "      <td>5153039437575809299</td>\n",
       "      <td>3.301378e+18</td>\n",
       "    </tr>\n",
       "    <tr>\n",
       "      <th>8</th>\n",
       "      <td>2019-04-23 18:14:14.756</td>\n",
       "      <td>1</td>\n",
       "      <td>1494519392962156891</td>\n",
       "      <td>1448747284042458525</td>\n",
       "      <td>NaN</td>\n",
       "      <td>False</td>\n",
       "      <td>False</td>\n",
       "      <td>6287817205707153877</td>\n",
       "      <td>NaN</td>\n",
       "      <td>6.208879e+18</td>\n",
       "      <td>adjust.com</td>\n",
       "      <td>NaN</td>\n",
       "      <td>NaN</td>\n",
       "      <td>NaN</td>\n",
       "      <td>NaN</td>\n",
       "      <td>NaN</td>\n",
       "      <td>7469505621463131113</td>\n",
       "      <td>3.301378e+18</td>\n",
       "    </tr>\n",
       "    <tr>\n",
       "      <th>9</th>\n",
       "      <td>2019-04-23 06:32:40.906</td>\n",
       "      <td>1</td>\n",
       "      <td>1494519392962156891</td>\n",
       "      <td>1465267208368809184</td>\n",
       "      <td>NaN</td>\n",
       "      <td>False</td>\n",
       "      <td>True</td>\n",
       "      <td>6287817205707153877</td>\n",
       "      <td>NaN</td>\n",
       "      <td>4.322426e+18</td>\n",
       "      <td>adjust.com</td>\n",
       "      <td>NaN</td>\n",
       "      <td>e47c9cd6-121e-4c29-91a3-bb6d26afd36f</td>\n",
       "      <td>app_open</td>\n",
       "      <td>NaN</td>\n",
       "      <td>NaN</td>\n",
       "      <td>3744928684799347195</td>\n",
       "      <td>3.301378e+18</td>\n",
       "    </tr>\n",
       "  </tbody>\n",
       "</table>\n",
       "</div>"
      ],
      "text/plain": [
       "                   created  application_id             ref_type  \\\n",
       "0  2019-04-24 06:23:29.495               1  1494519392962156891   \n",
       "1  2019-04-24 02:06:01.032               1  1494519392962156891   \n",
       "2  2019-04-20 10:15:36.274               1  1494519392962156891   \n",
       "3  2019-04-20 21:56:47.151               1  1494519392962156891   \n",
       "4  2019-04-20 22:40:41.239               1  1494519392962156891   \n",
       "5  2019-04-20 18:19:27.485               1  1494519392962156891   \n",
       "6  2019-04-20 03:40:21.239               1  1494519392962156891   \n",
       "7  2019-04-23 20:55:27.691               1  1494519392962156891   \n",
       "8  2019-04-23 18:14:14.756               1  1494519392962156891   \n",
       "9  2019-04-23 06:32:40.906               1  1494519392962156891   \n",
       "\n",
       "              ref_hash click_hash  attributed  implicit   device_countrycode  \\\n",
       "0  4716708407362582887        NaN       False      True  6287817205707153877   \n",
       "1  7143568733100935872        NaN       False     False  6287817205707153877   \n",
       "2  5230323462636548010        NaN       False      True  6287817205707153877   \n",
       "3  5097163995161606833        NaN       False      True  6287817205707153877   \n",
       "4  6328027616411983332        NaN       False     False  6287817205707153877   \n",
       "5  7522785771858684314        NaN       False      True  6287817205707153877   \n",
       "6  7882044913917355073        NaN       False      True  6287817205707153877   \n",
       "7   404154463572960372        NaN       False      True  6287817205707153877   \n",
       "8  1448747284042458525        NaN       False     False  6287817205707153877   \n",
       "9  1465267208368809184        NaN       False      True  6287817205707153877   \n",
       "\n",
       "   device_brand  device_model session_user_agent user_agent  \\\n",
       "0           NaN  3.739127e+17         adjust.com        NaN   \n",
       "1           NaN  7.805539e+18         adjust.com        NaN   \n",
       "2           NaN  8.355496e+18         adjust.com        NaN   \n",
       "3           NaN  2.355772e+18         adjust.com        NaN   \n",
       "4           NaN  6.156971e+18         adjust.com        NaN   \n",
       "5           NaN  6.208879e+18         adjust.com        NaN   \n",
       "6           NaN  4.566898e+18         adjust.com        NaN   \n",
       "7           NaN  6.208879e+18         adjust.com        NaN   \n",
       "8           NaN  6.208879e+18         adjust.com        NaN   \n",
       "9           NaN  4.322426e+18         adjust.com        NaN   \n",
       "\n",
       "                             event_uuid      kind wifi trans_id  \\\n",
       "0  79837499-2f2a-4605-a663-e322f759424f  app_open  NaN      NaN   \n",
       "1                                   NaN       NaN  NaN      NaN   \n",
       "2  dda99e3c-9c4b-487d-891c-79f0a02cb4a8  app_open  NaN      NaN   \n",
       "3  7010c3ce-0fcf-46c6-9be8-374cc0e20af4  app_open  NaN      NaN   \n",
       "4                                   NaN       NaN  NaN      NaN   \n",
       "5  35e7504f-cd9b-4a78-b89f-7335a8bd735a  app_open  NaN      NaN   \n",
       "6  f3a8649c-bd47-4874-a20e-8d3d5cedac2e  app_open  NaN      NaN   \n",
       "7  06f054c1-608b-437b-a7d7-21d7c5860fe4  app_open  NaN      NaN   \n",
       "8                                   NaN       NaN  NaN      NaN   \n",
       "9  e47c9cd6-121e-4c29-91a3-bb6d26afd36f  app_open  NaN      NaN   \n",
       "\n",
       "            ip_address  device_language  \n",
       "0  4243443387795468703     3.301378e+18  \n",
       "1  4724288679627032761     3.301378e+18  \n",
       "2  8291809486355890410     4.060930e+18  \n",
       "3  4006811922873399949     3.301378e+18  \n",
       "4  3386455054590810771     3.301378e+18  \n",
       "5  7297343258015606683     3.301378e+18  \n",
       "6  4764130939738113581     4.060930e+18  \n",
       "7  5153039437575809299     3.301378e+18  \n",
       "8  7469505621463131113     3.301378e+18  \n",
       "9  3744928684799347195     3.301378e+18  "
      ]
     },
     "execution_count": 110,
     "metadata": {},
     "output_type": "execute_result"
    }
   ],
   "source": [
    "installs.head(10)"
   ]
  },
  {
   "cell_type": "code",
   "execution_count": null,
   "metadata": {},
   "outputs": [],
   "source": []
  }
 ],
 "metadata": {
  "kernelspec": {
   "display_name": "Python 3",
   "language": "python",
   "name": "python3"
  }
 },
 "nbformat": 4,
 "nbformat_minor": 2
}
