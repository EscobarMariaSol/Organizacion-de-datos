{
 "cells": [
  {
   "cell_type": "code",
   "execution_count": null,
   "metadata": {},
   "outputs": [],
   "source": [
    "import pandas as pd\n",
    "import numpy as np\n",
    "import datetime as dt"
   ]
  },
  {
   "cell_type": "markdown",
   "metadata": {},
   "source": [
    "## Leo todos los datos para tomar ventanas de 3 días"
   ]
  },
  {
   "cell_type": "markdown",
   "metadata": {},
   "source": [
    "Auctions"
   ]
  },
  {
   "cell_type": "code",
   "execution_count": null,
   "metadata": {},
   "outputs": [],
   "source": [
    "auct = pd.read_csv(\"data/auctions.csv.gzip\",dtype = {\"ref_type_id\": np.int8, \"source_id\": np.int8})"
   ]
  },
  {
   "cell_type": "code",
   "execution_count": null,
   "metadata": {},
   "outputs": [],
   "source": [
    "auct.head()"
   ]
  },
  {
   "cell_type": "code",
   "execution_count": null,
   "metadata": {},
   "outputs": [],
   "source": [
    "auct['date'].min()"
   ]
  },
  {
   "cell_type": "code",
   "execution_count": null,
   "metadata": {},
   "outputs": [],
   "source": [
    "auct['date'].max()"
   ]
  },
  {
   "cell_type": "markdown",
   "metadata": {},
   "source": [
    "Events"
   ]
  },
  {
   "cell_type": "code",
   "execution_count": null,
   "metadata": {},
   "outputs": [],
   "source": [
    "evts = pd.read_csv(\"data/events.csv.gzip\", dtype = {\"event_id\": np.int16, \"application_id\": np.int16})"
   ]
  },
  {
   "cell_type": "code",
   "execution_count": null,
   "metadata": {},
   "outputs": [],
   "source": [
    "evts.drop(columns = 'index', inplace = True)"
   ]
  },
  {
   "cell_type": "code",
   "execution_count": null,
   "metadata": {},
   "outputs": [],
   "source": [
    "evts.dtypes"
   ]
  },
  {
   "cell_type": "markdown",
   "metadata": {},
   "source": [
    "Clicks"
   ]
  },
  {
   "cell_type": "code",
   "execution_count": null,
   "metadata": {},
   "outputs": [],
   "source": [
    "clks = pd.read_csv(\"data/clicks.csv.gzip\", dtype = {'advertiser_id': np.int8, 'action_id': np.float32, 'source_id': np.int8, 'country_codde': 'category',  'carrier_id': np.float16, 'specs_brand': 'category', 'brand': np.float16, 'ref_type': 'category'})"
   ]
  },
  {
   "cell_type": "code",
   "execution_count": null,
   "metadata": {},
   "outputs": [],
   "source": [
    "clks.head()"
   ]
  },
  {
   "cell_type": "code",
   "execution_count": null,
   "metadata": {},
   "outputs": [],
   "source": [
    "clks.dtypes"
   ]
  },
  {
   "cell_type": "markdown",
   "metadata": {},
   "source": [
    "Installs"
   ]
  },
  {
   "cell_type": "code",
   "execution_count": null,
   "metadata": {},
   "outputs": [],
   "source": [
    "inst = pd.read_csv('data/installs.csv.gzip', dtype = {'application_id': np.int16, 'ref_type': 'category', 'click_hash': 'category', 'device_country_code': 'category', 'device_brand': 'category', 'device_model': 'category', 'kind': 'category', 'device_language': 'category'})"
   ]
  },
  {
   "cell_type": "code",
   "execution_count": null,
   "metadata": {},
   "outputs": [],
   "source": [
    "inst.memory_usage(deep = True).sum()"
   ]
  },
  {
   "cell_type": "code",
   "execution_count": null,
   "metadata": {},
   "outputs": [],
   "source": [
    "inst.info()"
   ]
  },
  {
   "cell_type": "code",
   "execution_count": null,
   "metadata": {},
   "outputs": [],
   "source": [
    "inst.head()"
   ]
  },
  {
   "cell_type": "markdown",
   "metadata": {},
   "source": [
    "# Armo los sets de datos por ventanas de 3 días"
   ]
  },
  {
   "cell_type": "markdown",
   "metadata": {},
   "source": [
    "## Ventana N° 1: 18 al 20 de abril"
   ]
  },
  {
   "cell_type": "code",
   "execution_count": null,
   "metadata": {},
   "outputs": [],
   "source": [
    "ventana1 = auct.loc[(auct[\"date\"].str.contains('2019-04-18')) | (auct[\"date\"].str.contains('2019-04-19')) | (auct[\"date\"].str.contains('2019-04-20')), :]\n",
    "\n",
    "ventana1.to_csv(path_or_buf = 'data/auctions_ventana1.csv', index = False)"
   ]
  },
  {
   "cell_type": "code",
   "execution_count": null,
   "metadata": {},
   "outputs": [],
   "source": [
    "evts_vent1 = evts.loc[evts[\"date\"].str.contains('2019-04-18') | evts[\"date\"].str.contains('2019-04-19') | evts[\"date\"].str.contains('2019-04-20'), :]\n",
    "\n",
    "evts_vent1.to_csv(path_or_buf = 'data/events_ventana1.csv', index = False)"
   ]
  },
  {
   "cell_type": "code",
   "execution_count": null,
   "metadata": {},
   "outputs": [],
   "source": [
    "clks_ventana1 = clks.loc[clks[\"created\"].str.contains('2019-04-18') | clks[\"created\"].str.contains('2019-04-19') | clks[\"created\"].str.contains('2019-04-20'), :]\n",
    "clks_ventana1.to_csv(path_or_buf = 'data/clks_ventana1.csv', index = False)"
   ]
  },
  {
   "cell_type": "code",
   "execution_count": null,
   "metadata": {},
   "outputs": [],
   "source": [
    "installs_ventana1 = inst.loc[inst[\"created\"].str.contains('2019-04-18') | inst[\"created\"].str.contains('2019-04-19') | inst[\"created\"].str.contains('2019-04-20'), :]\n",
    "installs_ventana1.to_csv(path_or_buf = 'data/installs_ventana1.csv', index = False)"
   ]
  },
  {
   "cell_type": "markdown",
   "metadata": {},
   "source": [
    "## Ventana N° 2: 19 al 21 de abril"
   ]
  },
  {
   "cell_type": "code",
   "execution_count": null,
   "metadata": {},
   "outputs": [],
   "source": [
    "ventana2 = auct.loc[auct[\"date\"].str.contains('2019-04-19') | auct[\"date\"].str.contains('2019-04-20') | auct[\"date\"].str.contains('2019-04-21'), :]"
   ]
  },
  {
   "cell_type": "code",
   "execution_count": null,
   "metadata": {},
   "outputs": [],
   "source": [
    "ventana2.to_csv(path_or_buf = 'data/auctions_ventana2.csv', index = False)"
   ]
  },
  {
   "cell_type": "code",
   "execution_count": null,
   "metadata": {},
   "outputs": [],
   "source": [
    "evts_vent2 = evts.loc[evts[\"date\"].str.contains('2019-04-19') | evts[\"date\"].str.contains('2019-04-20') | evts[\"date\"].str.contains('2019-04-21'), :]"
   ]
  },
  {
   "cell_type": "code",
   "execution_count": null,
   "metadata": {},
   "outputs": [],
   "source": [
    "evts_vent2.to_csv(path_or_buf = 'data/events_ventana2.csv', index = False)"
   ]
  },
  {
   "cell_type": "code",
   "execution_count": null,
   "metadata": {},
   "outputs": [],
   "source": [
    "clks_ventana2 = clks.loc[clks[\"created\"].str.contains('2019-04-19') | clks[\"created\"].str.contains('2019-04-20') | clks[\"created\"].str.contains('2019-04-21'), :]\n",
    "clks_ventana2.to_csv(path_or_buf = 'data/clks_ventana2.csv', index = False)"
   ]
  },
  {
   "cell_type": "code",
   "execution_count": null,
   "metadata": {},
   "outputs": [],
   "source": [
    "installs_ventana2 = inst.loc[inst[\"created\"].str.contains('2019-04-19') | inst[\"created\"].str.contains('2019-04-20') | inst[\"created\"].str.contains('2019-04-21'), :]\n",
    "installs_ventana2.to_csv(path_or_buf = 'data/installs_ventana2.csv', index = False)"
   ]
  },
  {
   "cell_type": "code",
   "execution_count": null,
   "metadata": {},
   "outputs": [],
   "source": [
    "installs_ventana2.count()"
   ]
  },
  {
   "cell_type": "markdown",
   "metadata": {},
   "source": [
    "## Ventana N° 3: 20 al 22 de abril"
   ]
  },
  {
   "cell_type": "code",
   "execution_count": null,
   "metadata": {},
   "outputs": [],
   "source": [
    "ventana3 = auct.loc[auct[\"date\"].str.contains('2019-04-20') | auct[\"date\"].str.contains('2019-04-21') | auct[\"date\"].str.contains('2019-04-22'), :]"
   ]
  },
  {
   "cell_type": "code",
   "execution_count": null,
   "metadata": {},
   "outputs": [],
   "source": [
    "ventana3.to_csv(path_or_buf = 'data/auctions_ventana3.csv', index = False)"
   ]
  },
  {
   "cell_type": "code",
   "execution_count": null,
   "metadata": {},
   "outputs": [],
   "source": [
    "evts_vent3 = evts.loc[evts[\"date\"].str.contains('2019-04-20') | evts[\"date\"].str.contains('2019-04-21') | evts[\"date\"].str.contains('2019-04-22'), :]"
   ]
  },
  {
   "cell_type": "code",
   "execution_count": null,
   "metadata": {},
   "outputs": [],
   "source": [
    "evts_vent3.to_csv(path_or_buf = 'data/events_ventana3.csv', index = False)"
   ]
  },
  {
   "cell_type": "code",
   "execution_count": null,
   "metadata": {},
   "outputs": [],
   "source": [
    "clks_ventana3 = clks.loc[clks[\"created\"].str.contains('2019-04-20') | clks[\"created\"].str.contains('2019-04-21') | clks[\"created\"].str.contains('2019-04-22'), :]\n",
    "clks_ventana3.to_csv(path_or_buf = 'data/clks_ventana3.csv', index = False)"
   ]
  },
  {
   "cell_type": "code",
   "execution_count": null,
   "metadata": {},
   "outputs": [],
   "source": [
    "installs_ventana3 = inst.loc[inst[\"created\"].str.contains('2019-04-20') | inst[\"created\"].str.contains('2019-04-21') | inst[\"created\"].str.contains('2019-04-22'), :]\n",
    "installs_ventana3.to_csv(path_or_buf = 'data/installs_ventana3.csv', index = False)"
   ]
  },
  {
   "cell_type": "code",
   "execution_count": null,
   "metadata": {},
   "outputs": [],
   "source": []
  },
  {
   "cell_type": "markdown",
   "metadata": {},
   "source": [
    "## Ventana N° 4: 21 al 23 de abril"
   ]
  },
  {
   "cell_type": "code",
   "execution_count": null,
   "metadata": {},
   "outputs": [],
   "source": [
    "ventana4 = auct.loc[auct[\"date\"].str.contains('2019-04-21') | auct[\"date\"].str.contains('2019-04-22') | auct[\"date\"].str.contains('2019-04-23'), :]"
   ]
  },
  {
   "cell_type": "code",
   "execution_count": null,
   "metadata": {},
   "outputs": [],
   "source": [
    "ventana4.to_csv(path_or_buf = 'data/auctions_ventana4.csv', index = False)"
   ]
  },
  {
   "cell_type": "code",
   "execution_count": null,
   "metadata": {},
   "outputs": [],
   "source": [
    "evts_vent4 = evts.loc[evts[\"date\"].str.contains('2019-04-21') | evts[\"date\"].str.contains('2019-04-22') | evts[\"date\"].str.contains('2019-04-23'), :]"
   ]
  },
  {
   "cell_type": "code",
   "execution_count": null,
   "metadata": {},
   "outputs": [],
   "source": [
    "evts_vent4.to_csv(path_or_buf = 'data/events_ventana4.csv', index = False)"
   ]
  },
  {
   "cell_type": "code",
   "execution_count": null,
   "metadata": {},
   "outputs": [],
   "source": [
    "clks_ventana4 = clks.loc[clks[\"created\"].str.contains('2019-04-21') | clks[\"created\"].str.contains('2019-04-22') | clks[\"created\"].str.contains('2019-04-23'), :]\n",
    "clks_ventana4.to_csv(path_or_buf = 'data/clks_ventana4.csv', index = False)"
   ]
  },
  {
   "cell_type": "code",
   "execution_count": null,
   "metadata": {},
   "outputs": [],
   "source": [
    "installs_ventana4 = inst.loc[inst[\"created\"].str.contains('2019-04-21') | inst[\"created\"].str.contains('2019-04-22') | inst[\"created\"].str.contains('2019-04-23'), :]\n",
    "installs_ventana4.to_csv(path_or_buf = 'data/installs_ventana4.csv', index = False)"
   ]
  },
  {
   "cell_type": "markdown",
   "metadata": {},
   "source": [
    "## Ventana N° 5: 22 al 24 de abril"
   ]
  },
  {
   "cell_type": "code",
   "execution_count": null,
   "metadata": {},
   "outputs": [],
   "source": [
    "ventana5 = auct.loc[auct[\"date\"].str.contains('2019-04-22') | auct[\"date\"].str.contains('2019-04-23') | auct[\"date\"].str.contains('2019-04-24'), :]"
   ]
  },
  {
   "cell_type": "code",
   "execution_count": null,
   "metadata": {},
   "outputs": [],
   "source": [
    "ventana5.to_csv(path_or_buf = 'data/auctions_ventana5.csv', index = False)"
   ]
  },
  {
   "cell_type": "code",
   "execution_count": null,
   "metadata": {},
   "outputs": [],
   "source": [
    "evts_vent5 = evts.loc[evts[\"date\"].str.contains('2019-04-22') | evts[\"date\"].str.contains('2019-04-23') | evts[\"date\"].str.contains('2019-04-24'), :]"
   ]
  },
  {
   "cell_type": "code",
   "execution_count": null,
   "metadata": {},
   "outputs": [],
   "source": [
    "evts_vent5.to_csv(path_or_buf = 'data/events_ventana5.csv', index = False)"
   ]
  },
  {
   "cell_type": "code",
   "execution_count": null,
   "metadata": {},
   "outputs": [],
   "source": [
    "clks_ventana5 = clks.loc[clks[\"created\"].str.contains('2019-04-22') | clks[\"created\"].str.contains('2019-04-23') | clks[\"created\"].str.contains('2019-04-24'), :]\n",
    "clks_ventana5.to_csv(path_or_buf = 'data/clks_ventana5.csv', index = False)"
   ]
  },
  {
   "cell_type": "code",
   "execution_count": null,
   "metadata": {},
   "outputs": [],
   "source": [
    "installs_ventana5 = inst.loc[inst[\"created\"].str.contains('2019-04-22') | inst[\"created\"].str.contains('2019-04-23') | inst[\"created\"].str.contains('2019-04-24'), :]\n",
    "installs_ventana5.to_csv(path_or_buf = 'data/installs_ventana5.csv', index = False)"
   ]
  },
  {
   "cell_type": "markdown",
   "metadata": {},
   "source": [
    "## Ventana N° 6: 23 al 25 de abril"
   ]
  },
  {
   "cell_type": "code",
   "execution_count": null,
   "metadata": {},
   "outputs": [],
   "source": [
    "ventana6 = auct.loc[(auct[\"date\"].str.contains('2019-04-23 ')) | auct[\"date\"].str.contains('2019-04-24 ') | auct[\"date\"].str.contains('2019-04-25'), :]\n",
    "ventana6.to_csv(path_or_buf = 'data/auctions_ventana6.csv', index = False)"
   ]
  },
  {
   "cell_type": "code",
   "execution_count": null,
   "metadata": {},
   "outputs": [],
   "source": [
    "evts_vent6 = evts.loc[evts[\"date\"].str.contains('2019-04-23') | evts[\"date\"].str.contains('2019-04-24') | evts[\"date\"].str.contains('2019-04-25'), :]\n",
    "evts_vent6.to_csv(path_or_buf = 'data/events_ventana6.csv', index = False)"
   ]
  },
  {
   "cell_type": "code",
   "execution_count": null,
   "metadata": {},
   "outputs": [],
   "source": [
    "clks_ventana6 = clks.loc[clks[\"created\"].str.contains('2019-04-23') | clks[\"created\"].str.contains('2019-04-24') | clks[\"created\"].str.contains('2019-04-25'), :]\n",
    "clks_ventana6.to_csv(path_or_buf = 'data/clks_ventana6.csv', index = False)"
   ]
  },
  {
   "cell_type": "code",
   "execution_count": null,
   "metadata": {},
   "outputs": [],
   "source": [
    "installs_ventana6 = inst.loc[inst[\"created\"].str.contains('2019-04-23') | inst[\"created\"].str.contains('2019-04-24') | inst[\"created\"].str.contains('2019-04-25'), :]\n",
    "installs_ventana6.to_csv(path_or_buf = 'data/installs_ventana6.csv', index = False)"
   ]
  },
  {
   "cell_type": "markdown",
   "metadata": {},
   "source": [
    "## Ventana N°7: 24 al 26 de abril"
   ]
  },
  {
   "cell_type": "code",
   "execution_count": null,
   "metadata": {},
   "outputs": [],
   "source": [
    "ventana7 = auct.loc[(auct[\"date\"].str.contains('2019-04-24 ')) | auct[\"date\"].str.contains('2019-04-25 ') | auct[\"date\"].str.contains('2019-04-26'), :]\n",
    "ventana7.to_csv(path_or_buf = 'data/auctions_ventana7.csv', index = False)"
   ]
  },
  {
   "cell_type": "code",
   "execution_count": null,
   "metadata": {},
   "outputs": [],
   "source": [
    "evts_vent7 = evts.loc[evts[\"date\"].str.contains('2019-04-24') | evts[\"date\"].str.contains('2019-04-25') | evts[\"date\"].str.contains('2019-04-26'), :]\n",
    "evts_vent7.to_csv(path_or_buf = 'data/events_ventana7.csv', index = False)"
   ]
  },
  {
   "cell_type": "code",
   "execution_count": null,
   "metadata": {},
   "outputs": [],
   "source": [
    "clks_ventana7 = clks.loc[clks[\"created\"].str.contains('2019-04-24') | clks[\"created\"].str.contains('2019-04-25') | clks[\"created\"].str.contains('2019-04-26'), :]\n",
    "clks_ventana7.to_csv(path_or_buf = 'data/clks_ventana7.csv', index = False)"
   ]
  },
  {
   "cell_type": "code",
   "execution_count": null,
   "metadata": {},
   "outputs": [],
   "source": [
    "installs_ventana7 = inst.loc[inst[\"created\"].str.contains('2019-04-24') | inst[\"created\"].str.contains('2019-04-25') | inst[\"created\"].str.contains('2019-04-26'), :]\n",
    "installs_ventana7.to_csv(path_or_buf = 'data/installs_ventana7.csv', index = False)"
   ]
  },
  {
   "cell_type": "code",
   "execution_count": null,
   "metadata": {},
   "outputs": [],
   "source": []
  },
  {
   "cell_type": "code",
   "execution_count": null,
   "metadata": {},
   "outputs": [],
   "source": []
  }
 ],
 "metadata": {
  "kernelspec": {
   "display_name": "Python 3",
   "language": "python",
   "name": "python3"
  },
  "language_info": {
   "codemirror_mode": {
    "name": "ipython",
    "version": 3
   },
   "file_extension": ".py",
   "mimetype": "text/x-python",
   "name": "python",
   "nbconvert_exporter": "python",
   "pygments_lexer": "ipython3",
   "version": "3.6.8"
  }
 },
 "nbformat": 4,
 "nbformat_minor": 2
}
