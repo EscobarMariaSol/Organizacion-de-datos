{
 "cells": [
  {
   "cell_type": "code",
   "execution_count": 2,
   "metadata": {},
   "outputs": [],
   "source": [
    "import pandas as pd\n",
    "import numpy as np"
   ]
  },
  {
   "cell_type": "markdown",
   "metadata": {},
   "source": [
    "## Leo todos los datos para tomar ventanas de 3 días"
   ]
  },
  {
   "cell_type": "code",
   "execution_count": null,
   "metadata": {},
   "outputs": [],
   "source": [
    "auct = pd.read_csv(\"data/auctions.csv.gzip\",dtype = {\"ref_type_id\": np.int8, \"source_id\": np.int8})"
   ]
  },
  {
   "cell_type": "code",
   "execution_count": null,
   "metadata": {},
   "outputs": [],
   "source": [
    "auct.head()"
   ]
  },
  {
   "cell_type": "code",
   "execution_count": null,
   "metadata": {},
   "outputs": [],
   "source": [
    "evts = pd.read_csv(\"data/events.csv.gzip\", dtype = {\"index\": np.int32, \"event_id\": np.int16, \"application_id\": np.int16})"
   ]
  },
  {
   "cell_type": "code",
   "execution_count": null,
   "metadata": {},
   "outputs": [],
   "source": [
    "evts.head(1)"
   ]
  },
  {
   "cell_type": "code",
   "execution_count": null,
   "metadata": {},
   "outputs": [],
   "source": [
    "evts.dtypes"
   ]
  },
  {
   "cell_type": "code",
   "execution_count": 28,
   "metadata": {},
   "outputs": [],
   "source": [
    "clks = pd.read_csv(\"data/clicks.csv.gzip\", dtype = {'advertiser_id': np.int8, 'action_id': np.float32, 'source_id': np.int8, 'country_codde': 'category',  'carrier_id': np.float16, 'specs_brand': 'category', 'brand': np.float16, 'ref_type': 'category', 'ref_hash': 'category'})"
   ]
  },
  {
   "cell_type": "code",
   "execution_count": 12,
   "metadata": {},
   "outputs": [
    {
     "data": {
      "text/html": [
       "<div>\n",
       "<style scoped>\n",
       "    .dataframe tbody tr th:only-of-type {\n",
       "        vertical-align: middle;\n",
       "    }\n",
       "\n",
       "    .dataframe tbody tr th {\n",
       "        vertical-align: top;\n",
       "    }\n",
       "\n",
       "    .dataframe thead th {\n",
       "        text-align: right;\n",
       "    }\n",
       "</style>\n",
       "<table border=\"1\" class=\"dataframe\">\n",
       "  <thead>\n",
       "    <tr style=\"text-align: right;\">\n",
       "      <th></th>\n",
       "      <th>advertiser_id</th>\n",
       "      <th>action_id</th>\n",
       "      <th>source_id</th>\n",
       "      <th>created</th>\n",
       "      <th>country_code</th>\n",
       "      <th>latitude</th>\n",
       "      <th>longitude</th>\n",
       "      <th>wifi_connection</th>\n",
       "      <th>carrier_id</th>\n",
       "      <th>trans_id</th>\n",
       "      <th>os_minor</th>\n",
       "      <th>agent_device</th>\n",
       "      <th>os_major</th>\n",
       "      <th>specs_brand</th>\n",
       "      <th>brand</th>\n",
       "      <th>timeToClick</th>\n",
       "      <th>touchX</th>\n",
       "      <th>touchY</th>\n",
       "      <th>ref_type</th>\n",
       "      <th>ref_hash</th>\n",
       "    </tr>\n",
       "  </thead>\n",
       "  <tbody>\n",
       "    <tr>\n",
       "      <th>0</th>\n",
       "      <td>1</td>\n",
       "      <td>NaN</td>\n",
       "      <td>2</td>\n",
       "      <td>2019-04-18T05:27:42.197Z</td>\n",
       "      <td>6287817205707153877</td>\n",
       "      <td>1.714547</td>\n",
       "      <td>0.871535</td>\n",
       "      <td>False</td>\n",
       "      <td>3.0</td>\n",
       "      <td>9JMAfrb-b9cSEVCJb0P9JfihGthaS7E</td>\n",
       "      <td>1.517644e+18</td>\n",
       "      <td>NaN</td>\n",
       "      <td>5.131616e+18</td>\n",
       "      <td>71913840936116953</td>\n",
       "      <td>0.0</td>\n",
       "      <td>2.317</td>\n",
       "      <td>0.968</td>\n",
       "      <td>0.503</td>\n",
       "      <td>1891515180541284343</td>\n",
       "      <td>1293710398598742392</td>\n",
       "    </tr>\n",
       "    <tr>\n",
       "      <th>1</th>\n",
       "      <td>1</td>\n",
       "      <td>NaN</td>\n",
       "      <td>1</td>\n",
       "      <td>2019-04-18T05:27:03.164Z</td>\n",
       "      <td>6287817205707153877</td>\n",
       "      <td>1.714512</td>\n",
       "      <td>0.871062</td>\n",
       "      <td>True</td>\n",
       "      <td>2.0</td>\n",
       "      <td>r3xtTRv2lInfiXG8JI3NQsNcBo8GyFQ</td>\n",
       "      <td>1.288578e+18</td>\n",
       "      <td>NaN</td>\n",
       "      <td>3.908390e+18</td>\n",
       "      <td>3576558787748411622</td>\n",
       "      <td>1.0</td>\n",
       "      <td>7.653</td>\n",
       "      <td>0.712</td>\n",
       "      <td>1.689</td>\n",
       "      <td>1891515180541284343</td>\n",
       "      <td>1663930990551616564</td>\n",
       "    </tr>\n",
       "    <tr>\n",
       "      <th>2</th>\n",
       "      <td>1</td>\n",
       "      <td>NaN</td>\n",
       "      <td>1</td>\n",
       "      <td>2019-04-18T05:42:07.926Z</td>\n",
       "      <td>6287817205707153877</td>\n",
       "      <td>1.714547</td>\n",
       "      <td>0.871535</td>\n",
       "      <td>True</td>\n",
       "      <td>4.0</td>\n",
       "      <td>WOnHFqQtY48z_ygKZ-030U_g0TMGVMw</td>\n",
       "      <td>2.238736e+18</td>\n",
       "      <td>NaN</td>\n",
       "      <td>3.581233e+18</td>\n",
       "      <td>3576558787748411622</td>\n",
       "      <td>NaN</td>\n",
       "      <td>464.796</td>\n",
       "      <td>0.227</td>\n",
       "      <td>0.251</td>\n",
       "      <td>1891515180541284343</td>\n",
       "      <td>8488038938665586188</td>\n",
       "    </tr>\n",
       "    <tr>\n",
       "      <th>3</th>\n",
       "      <td>1</td>\n",
       "      <td>NaN</td>\n",
       "      <td>1</td>\n",
       "      <td>2019-04-18T05:26:04.446Z</td>\n",
       "      <td>6287817205707153877</td>\n",
       "      <td>1.708041</td>\n",
       "      <td>0.870772</td>\n",
       "      <td>True</td>\n",
       "      <td>1.0</td>\n",
       "      <td>wQMLLmYqiFhSuha9p9B13PMtcyBW_vM</td>\n",
       "      <td>2.411640e+18</td>\n",
       "      <td>NaN</td>\n",
       "      <td>3.908390e+18</td>\n",
       "      <td>3576558787748411622</td>\n",
       "      <td>NaN</td>\n",
       "      <td>225.311</td>\n",
       "      <td>0.696</td>\n",
       "      <td>6.587</td>\n",
       "      <td>1891515180541284343</td>\n",
       "      <td>6488361690105189959</td>\n",
       "    </tr>\n",
       "    <tr>\n",
       "      <th>4</th>\n",
       "      <td>1</td>\n",
       "      <td>NaN</td>\n",
       "      <td>1</td>\n",
       "      <td>2019-04-18T05:23:37.764Z</td>\n",
       "      <td>6287817205707153877</td>\n",
       "      <td>1.715514</td>\n",
       "      <td>0.870772</td>\n",
       "      <td>True</td>\n",
       "      <td>2.0</td>\n",
       "      <td>GeFoyBzMA7taylMxxjzlNPTU-n4FXFs</td>\n",
       "      <td>1.517644e+18</td>\n",
       "      <td>NaN</td>\n",
       "      <td>5.131616e+18</td>\n",
       "      <td>3576558787748411622</td>\n",
       "      <td>0.0</td>\n",
       "      <td>84.736</td>\n",
       "      <td>0.059</td>\n",
       "      <td>0.142</td>\n",
       "      <td>1891515180541284343</td>\n",
       "      <td>1348993302102753419</td>\n",
       "    </tr>\n",
       "  </tbody>\n",
       "</table>\n",
       "</div>"
      ],
      "text/plain": [
       "   advertiser_id  action_id  source_id                   created  \\\n",
       "0              1        NaN          2  2019-04-18T05:27:42.197Z   \n",
       "1              1        NaN          1  2019-04-18T05:27:03.164Z   \n",
       "2              1        NaN          1  2019-04-18T05:42:07.926Z   \n",
       "3              1        NaN          1  2019-04-18T05:26:04.446Z   \n",
       "4              1        NaN          1  2019-04-18T05:23:37.764Z   \n",
       "\n",
       "          country_code  latitude  longitude  wifi_connection  carrier_id  \\\n",
       "0  6287817205707153877  1.714547   0.871535            False         3.0   \n",
       "1  6287817205707153877  1.714512   0.871062             True         2.0   \n",
       "2  6287817205707153877  1.714547   0.871535             True         4.0   \n",
       "3  6287817205707153877  1.708041   0.870772             True         1.0   \n",
       "4  6287817205707153877  1.715514   0.870772             True         2.0   \n",
       "\n",
       "                          trans_id      os_minor  agent_device      os_major  \\\n",
       "0  9JMAfrb-b9cSEVCJb0P9JfihGthaS7E  1.517644e+18           NaN  5.131616e+18   \n",
       "1  r3xtTRv2lInfiXG8JI3NQsNcBo8GyFQ  1.288578e+18           NaN  3.908390e+18   \n",
       "2  WOnHFqQtY48z_ygKZ-030U_g0TMGVMw  2.238736e+18           NaN  3.581233e+18   \n",
       "3  wQMLLmYqiFhSuha9p9B13PMtcyBW_vM  2.411640e+18           NaN  3.908390e+18   \n",
       "4  GeFoyBzMA7taylMxxjzlNPTU-n4FXFs  1.517644e+18           NaN  5.131616e+18   \n",
       "\n",
       "           specs_brand  brand  timeToClick touchX touchY             ref_type  \\\n",
       "0    71913840936116953    0.0        2.317  0.968  0.503  1891515180541284343   \n",
       "1  3576558787748411622    1.0        7.653  0.712  1.689  1891515180541284343   \n",
       "2  3576558787748411622    NaN      464.796  0.227  0.251  1891515180541284343   \n",
       "3  3576558787748411622    NaN      225.311  0.696  6.587  1891515180541284343   \n",
       "4  3576558787748411622    0.0       84.736  0.059  0.142  1891515180541284343   \n",
       "\n",
       "              ref_hash  \n",
       "0  1293710398598742392  \n",
       "1  1663930990551616564  \n",
       "2  8488038938665586188  \n",
       "3  6488361690105189959  \n",
       "4  1348993302102753419  "
      ]
     },
     "execution_count": 12,
     "metadata": {},
     "output_type": "execute_result"
    }
   ],
   "source": [
    "clks.head()"
   ]
  },
  {
   "cell_type": "code",
   "execution_count": 11,
   "metadata": {},
   "outputs": [
    {
     "data": {
      "text/plain": [
       "advertiser_id        int64\n",
       "action_id          float64\n",
       "source_id            int64\n",
       "created             object\n",
       "country_code         int64\n",
       "latitude           float64\n",
       "longitude          float64\n",
       "wifi_connection       bool\n",
       "carrier_id         float64\n",
       "trans_id            object\n",
       "os_minor           float64\n",
       "agent_device       float64\n",
       "os_major           float64\n",
       "specs_brand          int64\n",
       "brand              float64\n",
       "timeToClick        float64\n",
       "touchX              object\n",
       "touchY              object\n",
       "ref_type             int64\n",
       "ref_hash             int64\n",
       "dtype: object"
      ]
     },
     "execution_count": 11,
     "metadata": {},
     "output_type": "execute_result"
    }
   ],
   "source": [
    "clks.dtypes"
   ]
  },
  {
   "cell_type": "code",
   "execution_count": 3,
   "metadata": {},
   "outputs": [
    {
     "name": "stderr",
     "output_type": "stream",
     "text": [
      "/home/sol/.local/lib/python3.6/site-packages/IPython/core/interactiveshell.py:3044: DtypeWarning: Columns (15) have mixed types. Specify dtype option on import or set low_memory=False.\n",
      "  interactivity=interactivity, compiler=compiler, result=result)\n"
     ]
    }
   ],
   "source": [
    "inst = pd.read_csv('data/installs.csv.gzip', dtype = {'application_id': np.int16, 'ref_type': 'category', 'ref_hash': 'category', 'click_hash': 'category', 'device_country_code': 'category', 'device_brand': 'category', 'device_model': 'category', 'kind': 'category', 'device_language': 'category'})"
   ]
  },
  {
   "cell_type": "code",
   "execution_count": 61,
   "metadata": {},
   "outputs": [
    {
     "data": {
      "text/plain": [
       "231656897"
      ]
     },
     "execution_count": 61,
     "metadata": {},
     "output_type": "execute_result"
    }
   ],
   "source": [
    "inst.memory_usage(deep = True).sum()"
   ]
  },
  {
   "cell_type": "code",
   "execution_count": 62,
   "metadata": {},
   "outputs": [
    {
     "name": "stdout",
     "output_type": "stream",
     "text": [
      "<class 'pandas.core.frame.DataFrame'>\n",
      "RangeIndex: 481511 entries, 0 to 481510\n",
      "Data columns (total 18 columns):\n",
      "created               481511 non-null object\n",
      "application_id        481511 non-null int16\n",
      "ref_type              481511 non-null category\n",
      "ref_hash              481511 non-null category\n",
      "click_hash            1142 non-null category\n",
      "attributed            481511 non-null bool\n",
      "implicit              481511 non-null bool\n",
      "device_countrycode    481511 non-null int64\n",
      "device_brand          276443 non-null category\n",
      "device_model          454619 non-null category\n",
      "session_user_agent    466672 non-null object\n",
      "user_agent            330768 non-null object\n",
      "event_uuid            103168 non-null object\n",
      "kind                  103168 non-null category\n",
      "wifi                  294829 non-null object\n",
      "trans_id              8933 non-null object\n",
      "ip_address            481511 non-null int64\n",
      "device_language       453934 non-null category\n",
      "dtypes: bool(2), category(7), int16(1), int64(2), object(6)\n",
      "memory usage: 51.6+ MB\n"
     ]
    }
   ],
   "source": [
    "inst.info()"
   ]
  },
  {
   "cell_type": "code",
   "execution_count": 44,
   "metadata": {},
   "outputs": [
    {
     "data": {
      "text/html": [
       "<div>\n",
       "<style scoped>\n",
       "    .dataframe tbody tr th:only-of-type {\n",
       "        vertical-align: middle;\n",
       "    }\n",
       "\n",
       "    .dataframe tbody tr th {\n",
       "        vertical-align: top;\n",
       "    }\n",
       "\n",
       "    .dataframe thead th {\n",
       "        text-align: right;\n",
       "    }\n",
       "</style>\n",
       "<table border=\"1\" class=\"dataframe\">\n",
       "  <thead>\n",
       "    <tr style=\"text-align: right;\">\n",
       "      <th></th>\n",
       "      <th>created</th>\n",
       "      <th>application_id</th>\n",
       "      <th>ref_type</th>\n",
       "      <th>ref_hash</th>\n",
       "      <th>click_hash</th>\n",
       "      <th>attributed</th>\n",
       "      <th>implicit</th>\n",
       "      <th>device_countrycode</th>\n",
       "      <th>device_brand</th>\n",
       "      <th>device_model</th>\n",
       "      <th>session_user_agent</th>\n",
       "      <th>user_agent</th>\n",
       "      <th>event_uuid</th>\n",
       "      <th>kind</th>\n",
       "      <th>wifi</th>\n",
       "      <th>trans_id</th>\n",
       "      <th>ip_address</th>\n",
       "      <th>device_language</th>\n",
       "    </tr>\n",
       "  </thead>\n",
       "  <tbody>\n",
       "    <tr>\n",
       "      <th>0</th>\n",
       "      <td>2019-04-24 06:23:29.495</td>\n",
       "      <td>1</td>\n",
       "      <td>1494519392962156891</td>\n",
       "      <td>4716708407362582887</td>\n",
       "      <td>NaN</td>\n",
       "      <td>False</td>\n",
       "      <td>True</td>\n",
       "      <td>6287817205707153877</td>\n",
       "      <td>NaN</td>\n",
       "      <td>3.739127e+17</td>\n",
       "      <td>adjust.com</td>\n",
       "      <td>NaN</td>\n",
       "      <td>79837499-2f2a-4605-a663-e322f759424f</td>\n",
       "      <td>app_open</td>\n",
       "      <td>NaN</td>\n",
       "      <td>NaN</td>\n",
       "      <td>4243443387795468703</td>\n",
       "      <td>3.301378e+18</td>\n",
       "    </tr>\n",
       "    <tr>\n",
       "      <th>1</th>\n",
       "      <td>2019-04-24 02:06:01.032</td>\n",
       "      <td>1</td>\n",
       "      <td>1494519392962156891</td>\n",
       "      <td>7143568733100935872</td>\n",
       "      <td>NaN</td>\n",
       "      <td>False</td>\n",
       "      <td>False</td>\n",
       "      <td>6287817205707153877</td>\n",
       "      <td>NaN</td>\n",
       "      <td>7.805539e+18</td>\n",
       "      <td>adjust.com</td>\n",
       "      <td>NaN</td>\n",
       "      <td>NaN</td>\n",
       "      <td>NaN</td>\n",
       "      <td>NaN</td>\n",
       "      <td>NaN</td>\n",
       "      <td>4724288679627032761</td>\n",
       "      <td>3.301378e+18</td>\n",
       "    </tr>\n",
       "    <tr>\n",
       "      <th>2</th>\n",
       "      <td>2019-04-20 10:15:36.274</td>\n",
       "      <td>1</td>\n",
       "      <td>1494519392962156891</td>\n",
       "      <td>5230323462636548010</td>\n",
       "      <td>NaN</td>\n",
       "      <td>False</td>\n",
       "      <td>True</td>\n",
       "      <td>6287817205707153877</td>\n",
       "      <td>NaN</td>\n",
       "      <td>8.355496e+18</td>\n",
       "      <td>adjust.com</td>\n",
       "      <td>NaN</td>\n",
       "      <td>dda99e3c-9c4b-487d-891c-79f0a02cb4a8</td>\n",
       "      <td>app_open</td>\n",
       "      <td>NaN</td>\n",
       "      <td>NaN</td>\n",
       "      <td>8291809486355890410</td>\n",
       "      <td>4.060930e+18</td>\n",
       "    </tr>\n",
       "    <tr>\n",
       "      <th>3</th>\n",
       "      <td>2019-04-20 21:56:47.151</td>\n",
       "      <td>1</td>\n",
       "      <td>1494519392962156891</td>\n",
       "      <td>5097163995161606833</td>\n",
       "      <td>NaN</td>\n",
       "      <td>False</td>\n",
       "      <td>True</td>\n",
       "      <td>6287817205707153877</td>\n",
       "      <td>NaN</td>\n",
       "      <td>2.355772e+18</td>\n",
       "      <td>adjust.com</td>\n",
       "      <td>NaN</td>\n",
       "      <td>7010c3ce-0fcf-46c6-9be8-374cc0e20af4</td>\n",
       "      <td>app_open</td>\n",
       "      <td>NaN</td>\n",
       "      <td>NaN</td>\n",
       "      <td>4006811922873399949</td>\n",
       "      <td>3.301378e+18</td>\n",
       "    </tr>\n",
       "    <tr>\n",
       "      <th>4</th>\n",
       "      <td>2019-04-20 22:40:41.239</td>\n",
       "      <td>1</td>\n",
       "      <td>1494519392962156891</td>\n",
       "      <td>6328027616411983332</td>\n",
       "      <td>NaN</td>\n",
       "      <td>False</td>\n",
       "      <td>False</td>\n",
       "      <td>6287817205707153877</td>\n",
       "      <td>NaN</td>\n",
       "      <td>6.156971e+18</td>\n",
       "      <td>adjust.com</td>\n",
       "      <td>NaN</td>\n",
       "      <td>NaN</td>\n",
       "      <td>NaN</td>\n",
       "      <td>NaN</td>\n",
       "      <td>NaN</td>\n",
       "      <td>3386455054590810771</td>\n",
       "      <td>3.301378e+18</td>\n",
       "    </tr>\n",
       "  </tbody>\n",
       "</table>\n",
       "</div>"
      ],
      "text/plain": [
       "                   created  application_id             ref_type  \\\n",
       "0  2019-04-24 06:23:29.495               1  1494519392962156891   \n",
       "1  2019-04-24 02:06:01.032               1  1494519392962156891   \n",
       "2  2019-04-20 10:15:36.274               1  1494519392962156891   \n",
       "3  2019-04-20 21:56:47.151               1  1494519392962156891   \n",
       "4  2019-04-20 22:40:41.239               1  1494519392962156891   \n",
       "\n",
       "              ref_hash click_hash  attributed  implicit   device_countrycode  \\\n",
       "0  4716708407362582887        NaN       False      True  6287817205707153877   \n",
       "1  7143568733100935872        NaN       False     False  6287817205707153877   \n",
       "2  5230323462636548010        NaN       False      True  6287817205707153877   \n",
       "3  5097163995161606833        NaN       False      True  6287817205707153877   \n",
       "4  6328027616411983332        NaN       False     False  6287817205707153877   \n",
       "\n",
       "   device_brand  device_model session_user_agent user_agent  \\\n",
       "0           NaN  3.739127e+17         adjust.com        NaN   \n",
       "1           NaN  7.805539e+18         adjust.com        NaN   \n",
       "2           NaN  8.355496e+18         adjust.com        NaN   \n",
       "3           NaN  2.355772e+18         adjust.com        NaN   \n",
       "4           NaN  6.156971e+18         adjust.com        NaN   \n",
       "\n",
       "                             event_uuid      kind wifi trans_id  \\\n",
       "0  79837499-2f2a-4605-a663-e322f759424f  app_open  NaN      NaN   \n",
       "1                                   NaN       NaN  NaN      NaN   \n",
       "2  dda99e3c-9c4b-487d-891c-79f0a02cb4a8  app_open  NaN      NaN   \n",
       "3  7010c3ce-0fcf-46c6-9be8-374cc0e20af4  app_open  NaN      NaN   \n",
       "4                                   NaN       NaN  NaN      NaN   \n",
       "\n",
       "            ip_address  device_language  \n",
       "0  4243443387795468703     3.301378e+18  \n",
       "1  4724288679627032761     3.301378e+18  \n",
       "2  8291809486355890410     4.060930e+18  \n",
       "3  4006811922873399949     3.301378e+18  \n",
       "4  3386455054590810771     3.301378e+18  "
      ]
     },
     "execution_count": 44,
     "metadata": {},
     "output_type": "execute_result"
    }
   ],
   "source": [
    "inst.head()"
   ]
  },
  {
   "cell_type": "markdown",
   "metadata": {},
   "source": [
    "# Armo los sets de datos por ventanas de 3 días"
   ]
  },
  {
   "cell_type": "markdown",
   "metadata": {},
   "source": [
    "## Ventana N° 1: 18 al 20 de abril"
   ]
  },
  {
   "cell_type": "code",
   "execution_count": null,
   "metadata": {},
   "outputs": [],
   "source": [
    "ventana1 = auct.loc[auct[\"date\"].str.contains('2019-04-18') | auct[\"date\"].str.contains('2019-04-19') | auct[\"date\"].str.contains('2019-04-20'), :]\n",
    "\n",
    "ventana1.to_csv(path_or_buf = 'data/auctions_ventana1.csv', index = False)"
   ]
  },
  {
   "cell_type": "code",
   "execution_count": null,
   "metadata": {},
   "outputs": [],
   "source": [
    "evts_vent1 = evts.loc[evts[\"date\"].str.contains('2019-04-18') | evts[\"date\"].str.contains('2019-04-19') | evts[\"date\"].str.contains('2019-04-20'), :]\n",
    "\n",
    "evts_vent1.to_csv(path_or_buf = 'data/events_ventana1.csv', index = False)"
   ]
  },
  {
   "cell_type": "code",
   "execution_count": 63,
   "metadata": {},
   "outputs": [],
   "source": [
    "clks_ventana1 = clks.loc[clks[\"created\"].str.contains('2019-04-18') | clks[\"created\"].str.contains('2019-04-19') | clks[\"created\"].str.contains('2019-04-20'), :]\n",
    "clks_ventana1.to_csv(path_or_buf = 'data/clks_ventana1.csv', index = False)"
   ]
  },
  {
   "cell_type": "code",
   "execution_count": 5,
   "metadata": {},
   "outputs": [],
   "source": [
    "installs_ventana1 = inst.loc[inst[\"created\"].str.contains('2019-04-18') | inst[\"created\"].str.contains('2019-04-19') | inst[\"created\"].str.contains('2019-04-20'), :]\n",
    "installs_ventana1.to_csv(path_or_buf = 'data/installs_ventana1.csv', index = False)"
   ]
  },
  {
   "cell_type": "markdown",
   "metadata": {},
   "source": [
    "## Ventana N° 2: 19 al 21 de abril"
   ]
  },
  {
   "cell_type": "code",
   "execution_count": null,
   "metadata": {},
   "outputs": [],
   "source": [
    "ventana2 = auct.loc[auct[\"date\"].str.contains('2019-04-19') | auct[\"date\"].str.contains('2019-04-20') | auct[\"date\"].str.contains('2019-04-21'), :]"
   ]
  },
  {
   "cell_type": "code",
   "execution_count": null,
   "metadata": {},
   "outputs": [],
   "source": [
    "ventana2.to_csv(path_or_buf = 'data/auctions_ventana2.csv', index = False)"
   ]
  },
  {
   "cell_type": "code",
   "execution_count": null,
   "metadata": {},
   "outputs": [],
   "source": [
    "evts_vent2 = evts.loc[evts[\"date\"].str.contains('2019-04-19') | evts[\"date\"].str.contains('2019-04-20') | evts[\"date\"].str.contains('2019-04-21'), :]"
   ]
  },
  {
   "cell_type": "code",
   "execution_count": null,
   "metadata": {},
   "outputs": [],
   "source": [
    "evts_vent2.to_csv(path_or_buf = 'data/events_ventana2.csv', index = False)"
   ]
  },
  {
   "cell_type": "code",
   "execution_count": 64,
   "metadata": {},
   "outputs": [],
   "source": [
    "clks_ventana2 = clks.loc[clks[\"created\"].str.contains('2019-04-19') | clks[\"created\"].str.contains('2019-04-20') | clks[\"created\"].str.contains('2019-04-21'), :]\n",
    "clks_ventana2.to_csv(path_or_buf = 'data/clks_ventana2.csv', index = False)"
   ]
  },
  {
   "cell_type": "code",
   "execution_count": 66,
   "metadata": {},
   "outputs": [],
   "source": [
    "installs_ventana2 = inst.loc[clks[\"created\"].str.contains('2019-04-19') | inst[\"created\"].str.contains('2019-04-20') | inst[\"created\"].str.contains('2019-04-21'), :]\n",
    "installs_ventana2.to_csv(path_or_buf = 'data/installs_ventana2.csv', index = False)"
   ]
  },
  {
   "cell_type": "markdown",
   "metadata": {},
   "source": [
    "## Ventana N° 3: 20 al 22 de abril"
   ]
  },
  {
   "cell_type": "code",
   "execution_count": null,
   "metadata": {},
   "outputs": [],
   "source": [
    "ventana3 = auct.loc[auct[\"date\"].str.contains('2019-04-20') | auct[\"date\"].str.contains('2019-04-21') | auct[\"date\"].str.contains('2019-04-22'), :]"
   ]
  },
  {
   "cell_type": "code",
   "execution_count": null,
   "metadata": {},
   "outputs": [],
   "source": [
    "ventana3.to_csv(path_or_buf = 'data/auctions_ventana3.csv', index = False)"
   ]
  },
  {
   "cell_type": "code",
   "execution_count": null,
   "metadata": {},
   "outputs": [],
   "source": [
    "evts_vent3 = evts.loc[evts[\"date\"].str.contains('2019-04-20') | evts[\"date\"].str.contains('2019-04-21') | evts[\"date\"].str.contains('2019-04-22'), :]"
   ]
  },
  {
   "cell_type": "code",
   "execution_count": null,
   "metadata": {},
   "outputs": [],
   "source": [
    "evts_vent3.to_csv(path_or_buf = 'data/events_ventana3.csv', index = False)"
   ]
  },
  {
   "cell_type": "code",
   "execution_count": 67,
   "metadata": {},
   "outputs": [],
   "source": [
    "clks_ventana3 = clks.loc[clks[\"created\"].str.contains('2019-04-20') | clks[\"created\"].str.contains('2019-04-21') | clks[\"created\"].str.contains('2019-04-22'), :]\n",
    "clks_ventana3.to_csv(path_or_buf = 'data/clks_ventana3.csv', index = False)"
   ]
  },
  {
   "cell_type": "code",
   "execution_count": 68,
   "metadata": {},
   "outputs": [],
   "source": [
    "installs_ventana3 = inst.loc[clks[\"created\"].str.contains('2019-04-20') | inst[\"created\"].str.contains('2019-04-21') | inst[\"created\"].str.contains('2019-04-22'), :]\n",
    "installs_ventana3.to_csv(path_or_buf = 'data/installs_ventana3.csv', index = False)"
   ]
  },
  {
   "cell_type": "markdown",
   "metadata": {},
   "source": [
    "## Ventana N° 4: 21 al 23 de abril"
   ]
  },
  {
   "cell_type": "code",
   "execution_count": null,
   "metadata": {},
   "outputs": [],
   "source": [
    "ventana4 = auct.loc[auct[\"date\"].str.contains('2019-04-21') | auct[\"date\"].str.contains('2019-04-22') | auct[\"date\"].str.contains('2019-04-23'), :]"
   ]
  },
  {
   "cell_type": "code",
   "execution_count": null,
   "metadata": {},
   "outputs": [],
   "source": [
    "ventana4.to_csv(path_or_buf = 'data/auctions_ventana4.csv', index = False)"
   ]
  },
  {
   "cell_type": "code",
   "execution_count": null,
   "metadata": {},
   "outputs": [],
   "source": [
    "evts_vent4 = evts.loc[evts[\"date\"].str.contains('2019-04-21') | evts[\"date\"].str.contains('2019-04-22') | evts[\"date\"].str.contains('2019-04-23'), :]"
   ]
  },
  {
   "cell_type": "code",
   "execution_count": null,
   "metadata": {},
   "outputs": [],
   "source": [
    "evts_vent4.to_csv(path_or_buf = 'data/events_ventana4.csv', index = False)"
   ]
  },
  {
   "cell_type": "code",
   "execution_count": 69,
   "metadata": {},
   "outputs": [],
   "source": [
    "clks_ventana4 = clks.loc[clks[\"created\"].str.contains('2019-04-21') | clks[\"created\"].str.contains('2019-04-22') | clks[\"created\"].str.contains('2019-04-23'), :]\n",
    "clks_ventana4.to_csv(path_or_buf = 'data/clks_ventana4.csv', index = False)"
   ]
  },
  {
   "cell_type": "code",
   "execution_count": 70,
   "metadata": {},
   "outputs": [],
   "source": [
    "installs_ventana4 = inst.loc[clks[\"created\"].str.contains('2019-04-21') | inst[\"created\"].str.contains('2019-04-22') | inst[\"created\"].str.contains('2019-04-23'), :]\n",
    "installs_ventana4.to_csv(path_or_buf = 'data/installs_ventana4.csv', index = False)"
   ]
  },
  {
   "cell_type": "markdown",
   "metadata": {},
   "source": [
    "## Ventana N° 5: 22 al 24 de abril"
   ]
  },
  {
   "cell_type": "code",
   "execution_count": null,
   "metadata": {},
   "outputs": [],
   "source": [
    "ventana5 = auct.loc[auct[\"date\"].str.contains('2019-04-22') | auct[\"date\"].str.contains('2019-04-23') | auct[\"date\"].str.contains('2019-04-24'), :]"
   ]
  },
  {
   "cell_type": "code",
   "execution_count": null,
   "metadata": {},
   "outputs": [],
   "source": [
    "ventana5.to_csv(path_or_buf = 'data/auctions_ventana5.csv', index = False)"
   ]
  },
  {
   "cell_type": "code",
   "execution_count": null,
   "metadata": {},
   "outputs": [],
   "source": [
    "evts_vent5 = evts.loc[evts[\"date\"].str.contains('2019-04-22') | evts[\"date\"].str.contains('2019-04-23') | evts[\"date\"].str.contains('2019-04-24'), :]"
   ]
  },
  {
   "cell_type": "code",
   "execution_count": null,
   "metadata": {},
   "outputs": [],
   "source": [
    "evts_vent5.to_csv(path_or_buf = 'data/events_ventana5.csv', index = False)"
   ]
  },
  {
   "cell_type": "code",
   "execution_count": 71,
   "metadata": {},
   "outputs": [],
   "source": [
    "clks_ventana5 = clks.loc[clks[\"created\"].str.contains('2019-04-22') | clks[\"created\"].str.contains('2019-04-23') | clks[\"created\"].str.contains('2019-04-24'), :]\n",
    "clks_ventana5.to_csv(path_or_buf = 'data/clks_ventana5.csv', index = False)"
   ]
  },
  {
   "cell_type": "code",
   "execution_count": 72,
   "metadata": {},
   "outputs": [],
   "source": [
    "installs_ventana5 = inst.loc[clks[\"created\"].str.contains('2019-04-22') | inst[\"created\"].str.contains('2019-04-23') | inst[\"created\"].str.contains('2019-04-24'), :]\n",
    "installs_ventana5.to_csv(path_or_buf = 'data/installs_ventana5.csv', index = False)"
   ]
  },
  {
   "cell_type": "code",
   "execution_count": null,
   "metadata": {},
   "outputs": [],
   "source": []
  }
 ],
 "metadata": {
  "kernelspec": {
   "display_name": "Python 3",
   "language": "python",
   "name": "python3"
  },
  "language_info": {
   "codemirror_mode": {
    "name": "ipython",
    "version": 3
   },
   "file_extension": ".py",
   "mimetype": "text/x-python",
   "name": "python",
   "nbconvert_exporter": "python",
   "pygments_lexer": "ipython3",
   "version": "3.6.7"
  }
 },
 "nbformat": 4,
 "nbformat_minor": 2
}
