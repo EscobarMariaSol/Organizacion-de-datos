{
 "cells": [
  {
   "cell_type": "code",
   "execution_count": 635,
   "metadata": {},
   "outputs": [],
   "source": [
    "import pandas as pd\n",
    "import numpy as np\n",
    "import matplotlib.pyplot as plt\n",
    "import seaborn as sns\n",
    "from sklearn.metrics import auc, accuracy_score\n",
    "from sklearn.model_selection import cross_val_score, cross_val_predict, GridSearchCV, KFold, RandomizedSearchCV, train_test_split\n",
    "import datetime as dt"
   ]
  },
  {
   "cell_type": "markdown",
   "metadata": {},
   "source": [
    "Cargo los csv con los features"
   ]
  },
  {
   "cell_type": "code",
   "execution_count": 656,
   "metadata": {},
   "outputs": [],
   "source": [
    "aut1= pd.read_csv( 'data/features1_aut1.csv')\n",
    "aut2= pd.read_csv( 'data/features1_aut2.csv')\n",
    "aut3= pd.read_csv( 'data/features1_aut3.csv')\n",
    "aut4= pd.read_csv( 'data/features1_aut4.csv')\n",
    "aut5= pd.read_csv( 'data/features1_aut5.csv')\n",
    "aut6= pd.read_csv( 'data/features1_aut6.csv')\n",
    "target_aut= pd.read_csv( 'data/features1_target.csv')"
   ]
  },
  {
   "cell_type": "code",
   "execution_count": 614,
   "metadata": {},
   "outputs": [
    {
     "data": {
      "text/html": [
       "<div>\n",
       "<style scoped>\n",
       "    .dataframe tbody tr th:only-of-type {\n",
       "        vertical-align: middle;\n",
       "    }\n",
       "\n",
       "    .dataframe tbody tr th {\n",
       "        vertical-align: top;\n",
       "    }\n",
       "\n",
       "    .dataframe thead th {\n",
       "        text-align: right;\n",
       "    }\n",
       "</style>\n",
       "<table border=\"1\" class=\"dataframe\">\n",
       "  <thead>\n",
       "    <tr style=\"text-align: right;\">\n",
       "      <th></th>\n",
       "      <th>ref_hash</th>\n",
       "      <th>auctions_count</th>\n",
       "      <th>dia_semana_mean</th>\n",
       "      <th>hora_mean</th>\n",
       "      <th>cantidad de eventos</th>\n",
       "      <th>st</th>\n",
       "    </tr>\n",
       "  </thead>\n",
       "  <tbody>\n",
       "    <tr>\n",
       "      <th>0</th>\n",
       "      <td>1000169251625791246</td>\n",
       "      <td>13.0</td>\n",
       "      <td>4.538462</td>\n",
       "      <td>11.923077</td>\n",
       "      <td>2.0</td>\n",
       "      <td>0</td>\n",
       "    </tr>\n",
       "    <tr>\n",
       "      <th>1</th>\n",
       "      <td>1000395625957344683</td>\n",
       "      <td>15.0</td>\n",
       "      <td>3.533333</td>\n",
       "      <td>15.733333</td>\n",
       "      <td>0.0</td>\n",
       "      <td>0</td>\n",
       "    </tr>\n",
       "    <tr>\n",
       "      <th>2</th>\n",
       "      <td>1003027494996471685</td>\n",
       "      <td>168.0</td>\n",
       "      <td>3.220238</td>\n",
       "      <td>8.952381</td>\n",
       "      <td>9.0</td>\n",
       "      <td>0</td>\n",
       "    </tr>\n",
       "    <tr>\n",
       "      <th>3</th>\n",
       "      <td>1006670001679961544</td>\n",
       "      <td>3.0</td>\n",
       "      <td>4.333333</td>\n",
       "      <td>19.000000</td>\n",
       "      <td>0.0</td>\n",
       "      <td>0</td>\n",
       "    </tr>\n",
       "    <tr>\n",
       "      <th>4</th>\n",
       "      <td>1007573308966476713</td>\n",
       "      <td>7.0</td>\n",
       "      <td>3.571429</td>\n",
       "      <td>15.857143</td>\n",
       "      <td>0.0</td>\n",
       "      <td>0</td>\n",
       "    </tr>\n",
       "  </tbody>\n",
       "</table>\n",
       "</div>"
      ],
      "text/plain": [
       "              ref_hash  auctions_count  dia_semana_mean  hora_mean  \\\n",
       "0  1000169251625791246            13.0         4.538462  11.923077   \n",
       "1  1000395625957344683            15.0         3.533333  15.733333   \n",
       "2  1003027494996471685           168.0         3.220238   8.952381   \n",
       "3  1006670001679961544             3.0         4.333333  19.000000   \n",
       "4  1007573308966476713             7.0         3.571429  15.857143   \n",
       "\n",
       "   cantidad de eventos  st  \n",
       "0                  2.0   0  \n",
       "1                  0.0   0  \n",
       "2                  9.0   0  \n",
       "3                  0.0   0  \n",
       "4                  0.0   0  "
      ]
     },
     "execution_count": 614,
     "metadata": {},
     "output_type": "execute_result"
    }
   ],
   "source": [
    "target_aut.head()"
   ]
  },
  {
   "cell_type": "code",
   "execution_count": 615,
   "metadata": {},
   "outputs": [
    {
     "name": "stdout",
     "output_type": "stream",
     "text": [
      "<class 'pandas.core.frame.DataFrame'>\n",
      "RangeIndex: 4037 entries, 0 to 4036\n",
      "Data columns (total 6 columns):\n",
      "ref_hash               4037 non-null int64\n",
      "auctions_count         4037 non-null float64\n",
      "dia_semana_mean        4037 non-null float64\n",
      "hora_mean              4037 non-null float64\n",
      "cantidad de eventos    4037 non-null float64\n",
      "st                     4037 non-null int64\n",
      "dtypes: float64(4), int64(2)\n",
      "memory usage: 189.3 KB\n"
     ]
    }
   ],
   "source": [
    "target_aut.info()"
   ]
  },
  {
   "cell_type": "code",
   "execution_count": 6,
   "metadata": {},
   "outputs": [
    {
     "data": {
      "text/html": [
       "<div>\n",
       "<style scoped>\n",
       "    .dataframe tbody tr th:only-of-type {\n",
       "        vertical-align: middle;\n",
       "    }\n",
       "\n",
       "    .dataframe tbody tr th {\n",
       "        vertical-align: top;\n",
       "    }\n",
       "\n",
       "    .dataframe thead th {\n",
       "        text-align: right;\n",
       "    }\n",
       "</style>\n",
       "<table border=\"1\" class=\"dataframe\">\n",
       "  <thead>\n",
       "    <tr style=\"text-align: right;\">\n",
       "      <th></th>\n",
       "      <th>ref_hash</th>\n",
       "      <th>auctions_count</th>\n",
       "      <th>dia_semana_mean</th>\n",
       "      <th>hora_mean</th>\n",
       "      <th>cantidad de eventos</th>\n",
       "      <th>st</th>\n",
       "    </tr>\n",
       "  </thead>\n",
       "  <tbody>\n",
       "    <tr>\n",
       "      <th>0</th>\n",
       "      <td>1000169251625791246</td>\n",
       "      <td>5.0</td>\n",
       "      <td>5.200000</td>\n",
       "      <td>8.600000</td>\n",
       "      <td>29.0</td>\n",
       "      <td>26346.707184</td>\n",
       "    </tr>\n",
       "    <tr>\n",
       "      <th>1</th>\n",
       "      <td>1000395625957344683</td>\n",
       "      <td>3.0</td>\n",
       "      <td>3.000000</td>\n",
       "      <td>8.000000</td>\n",
       "      <td>2.0</td>\n",
       "      <td>24334.885605</td>\n",
       "    </tr>\n",
       "    <tr>\n",
       "      <th>2</th>\n",
       "      <td>1003027494996471685</td>\n",
       "      <td>3.0</td>\n",
       "      <td>6.666667</td>\n",
       "      <td>21.333333</td>\n",
       "      <td>27.0</td>\n",
       "      <td>73885.671334</td>\n",
       "    </tr>\n",
       "    <tr>\n",
       "      <th>3</th>\n",
       "      <td>1006670001679961544</td>\n",
       "      <td>0.0</td>\n",
       "      <td>0.000000</td>\n",
       "      <td>0.000000</td>\n",
       "      <td>3.0</td>\n",
       "      <td>259200.000000</td>\n",
       "    </tr>\n",
       "    <tr>\n",
       "      <th>4</th>\n",
       "      <td>1007573308966476713</td>\n",
       "      <td>3.0</td>\n",
       "      <td>4.333333</td>\n",
       "      <td>17.333333</td>\n",
       "      <td>3.0</td>\n",
       "      <td>168200.072256</td>\n",
       "    </tr>\n",
       "  </tbody>\n",
       "</table>\n",
       "</div>"
      ],
      "text/plain": [
       "              ref_hash  auctions_count  dia_semana_mean  hora_mean  \\\n",
       "0  1000169251625791246             5.0         5.200000   8.600000   \n",
       "1  1000395625957344683             3.0         3.000000   8.000000   \n",
       "2  1003027494996471685             3.0         6.666667  21.333333   \n",
       "3  1006670001679961544             0.0         0.000000   0.000000   \n",
       "4  1007573308966476713             3.0         4.333333  17.333333   \n",
       "\n",
       "   cantidad de eventos             st  \n",
       "0                 29.0   26346.707184  \n",
       "1                  2.0   24334.885605  \n",
       "2                 27.0   73885.671334  \n",
       "3                  3.0  259200.000000  \n",
       "4                  3.0  168200.072256  "
      ]
     },
     "execution_count": 6,
     "metadata": {},
     "output_type": "execute_result"
    }
   ],
   "source": [
    "aut3.head()"
   ]
  },
  {
   "cell_type": "code",
   "execution_count": 683,
   "metadata": {},
   "outputs": [],
   "source": [
    "inst1= pd.read_csv( 'data/features1_inst1.csv')\n",
    "inst2= pd.read_csv( 'data/features1_inst2.csv')\n",
    "inst3= pd.read_csv( 'data/features1_inst3.csv')\n",
    "inst4= pd.read_csv( 'data/features1_inst4.csv')\n",
    "inst5= pd.read_csv( 'data/features1_inst5.csv')\n",
    "inst6= pd.read_csv( 'data/features1_inst6.csv')\n",
    "target_inst= pd.read_csv( 'data/features1_target_installs.csv')"
   ]
  },
  {
   "cell_type": "code",
   "execution_count": 11,
   "metadata": {},
   "outputs": [
    {
     "data": {
      "text/html": [
       "<div>\n",
       "<style scoped>\n",
       "    .dataframe tbody tr th:only-of-type {\n",
       "        vertical-align: middle;\n",
       "    }\n",
       "\n",
       "    .dataframe tbody tr th {\n",
       "        vertical-align: top;\n",
       "    }\n",
       "\n",
       "    .dataframe thead th {\n",
       "        text-align: right;\n",
       "    }\n",
       "</style>\n",
       "<table border=\"1\" class=\"dataframe\">\n",
       "  <thead>\n",
       "    <tr style=\"text-align: right;\">\n",
       "      <th></th>\n",
       "      <th>ref_hash</th>\n",
       "      <th>installs_count</th>\n",
       "      <th>dia_semana_mean</th>\n",
       "      <th>hora_mean</th>\n",
       "      <th>cantidad de eventos</th>\n",
       "      <th>sc</th>\n",
       "    </tr>\n",
       "  </thead>\n",
       "  <tbody>\n",
       "    <tr>\n",
       "      <th>0</th>\n",
       "      <td>1000169251625791246</td>\n",
       "      <td>0.0</td>\n",
       "      <td>0.0</td>\n",
       "      <td>0.0</td>\n",
       "      <td>2.0</td>\n",
       "      <td>0</td>\n",
       "    </tr>\n",
       "    <tr>\n",
       "      <th>1</th>\n",
       "      <td>1000395625957344683</td>\n",
       "      <td>0.0</td>\n",
       "      <td>0.0</td>\n",
       "      <td>0.0</td>\n",
       "      <td>0.0</td>\n",
       "      <td>0</td>\n",
       "    </tr>\n",
       "    <tr>\n",
       "      <th>2</th>\n",
       "      <td>1003027494996471685</td>\n",
       "      <td>0.0</td>\n",
       "      <td>0.0</td>\n",
       "      <td>0.0</td>\n",
       "      <td>9.0</td>\n",
       "      <td>0</td>\n",
       "    </tr>\n",
       "    <tr>\n",
       "      <th>3</th>\n",
       "      <td>1006670001679961544</td>\n",
       "      <td>0.0</td>\n",
       "      <td>0.0</td>\n",
       "      <td>0.0</td>\n",
       "      <td>0.0</td>\n",
       "      <td>0</td>\n",
       "    </tr>\n",
       "    <tr>\n",
       "      <th>4</th>\n",
       "      <td>1007573308966476713</td>\n",
       "      <td>0.0</td>\n",
       "      <td>0.0</td>\n",
       "      <td>0.0</td>\n",
       "      <td>0.0</td>\n",
       "      <td>0</td>\n",
       "    </tr>\n",
       "  </tbody>\n",
       "</table>\n",
       "</div>"
      ],
      "text/plain": [
       "              ref_hash  installs_count  dia_semana_mean  hora_mean  \\\n",
       "0  1000169251625791246             0.0              0.0        0.0   \n",
       "1  1000395625957344683             0.0              0.0        0.0   \n",
       "2  1003027494996471685             0.0              0.0        0.0   \n",
       "3  1006670001679961544             0.0              0.0        0.0   \n",
       "4  1007573308966476713             0.0              0.0        0.0   \n",
       "\n",
       "   cantidad de eventos  sc  \n",
       "0                  2.0   0  \n",
       "1                  0.0   0  \n",
       "2                  9.0   0  \n",
       "3                  0.0   0  \n",
       "4                  0.0   0  "
      ]
     },
     "execution_count": 11,
     "metadata": {},
     "output_type": "execute_result"
    }
   ],
   "source": [
    "target_inst.head(5)"
   ]
  },
  {
   "cell_type": "markdown",
   "metadata": {},
   "source": [
    "# Pruebo algunos features "
   ]
  },
  {
   "cell_type": "code",
   "execution_count": 359,
   "metadata": {},
   "outputs": [
    {
     "data": {
      "text/html": [
       "<div>\n",
       "<style scoped>\n",
       "    .dataframe tbody tr th:only-of-type {\n",
       "        vertical-align: middle;\n",
       "    }\n",
       "\n",
       "    .dataframe tbody tr th {\n",
       "        vertical-align: top;\n",
       "    }\n",
       "\n",
       "    .dataframe thead th {\n",
       "        text-align: right;\n",
       "    }\n",
       "</style>\n",
       "<table border=\"1\" class=\"dataframe\">\n",
       "  <thead>\n",
       "    <tr style=\"text-align: right;\">\n",
       "      <th></th>\n",
       "      <th>ref_hash</th>\n",
       "      <th>timeToAuction_min</th>\n",
       "    </tr>\n",
       "  </thead>\n",
       "  <tbody>\n",
       "    <tr>\n",
       "      <th>0</th>\n",
       "      <td>1000169251625791246</td>\n",
       "      <td>11275.349980</td>\n",
       "    </tr>\n",
       "    <tr>\n",
       "      <th>1</th>\n",
       "      <td>1000395625957344683</td>\n",
       "      <td>110734.885605</td>\n",
       "    </tr>\n",
       "    <tr>\n",
       "      <th>2</th>\n",
       "      <td>1003027494996471685</td>\n",
       "      <td>75911.481120</td>\n",
       "    </tr>\n",
       "    <tr>\n",
       "      <th>3</th>\n",
       "      <td>1006670001679961544</td>\n",
       "      <td>259200.000000</td>\n",
       "    </tr>\n",
       "    <tr>\n",
       "      <th>4</th>\n",
       "      <td>1007573308966476713</td>\n",
       "      <td>18137.251334</td>\n",
       "    </tr>\n",
       "  </tbody>\n",
       "</table>\n",
       "</div>"
      ],
      "text/plain": [
       "              ref_hash  timeToAuction_min\n",
       "0  1000169251625791246       11275.349980\n",
       "1  1000395625957344683      110734.885605\n",
       "2  1003027494996471685       75911.481120\n",
       "3  1006670001679961544      259200.000000\n",
       "4  1007573308966476713       18137.251334"
      ]
     },
     "execution_count": 359,
     "metadata": {},
     "output_type": "execute_result"
    }
   ],
   "source": [
    "st=aut2[['ref_hash', 'st']]\n",
    "st.columns=['ref_hash','timeToAuction_min']\n",
    "st.head()"
   ]
  },
  {
   "cell_type": "code",
   "execution_count": 361,
   "metadata": {},
   "outputs": [
    {
     "data": {
      "text/html": [
       "<div>\n",
       "<style scoped>\n",
       "    .dataframe tbody tr th:only-of-type {\n",
       "        vertical-align: middle;\n",
       "    }\n",
       "\n",
       "    .dataframe tbody tr th {\n",
       "        vertical-align: top;\n",
       "    }\n",
       "\n",
       "    .dataframe thead th {\n",
       "        text-align: right;\n",
       "    }\n",
       "</style>\n",
       "<table border=\"1\" class=\"dataframe\">\n",
       "  <thead>\n",
       "    <tr style=\"text-align: right;\">\n",
       "      <th></th>\n",
       "      <th>ref_hash</th>\n",
       "      <th>auctions_count</th>\n",
       "      <th>dia_semana_mean</th>\n",
       "      <th>hora_mean</th>\n",
       "      <th>cantidad de eventos</th>\n",
       "      <th>st</th>\n",
       "      <th>timeToAuction_min</th>\n",
       "    </tr>\n",
       "  </thead>\n",
       "  <tbody>\n",
       "    <tr>\n",
       "      <th>0</th>\n",
       "      <td>1000169251625791246</td>\n",
       "      <td>10.0</td>\n",
       "      <td>5.300000</td>\n",
       "      <td>6.100000</td>\n",
       "      <td>17.0</td>\n",
       "      <td>10509.519448</td>\n",
       "      <td>11275.349980</td>\n",
       "    </tr>\n",
       "    <tr>\n",
       "      <th>1</th>\n",
       "      <td>1000395625957344683</td>\n",
       "      <td>18.0</td>\n",
       "      <td>4.833333</td>\n",
       "      <td>8.222222</td>\n",
       "      <td>2.0</td>\n",
       "      <td>21512.080498</td>\n",
       "      <td>110734.885605</td>\n",
       "    </tr>\n",
       "    <tr>\n",
       "      <th>2</th>\n",
       "      <td>1003027494996471685</td>\n",
       "      <td>1.0</td>\n",
       "      <td>6.000000</td>\n",
       "      <td>22.000000</td>\n",
       "      <td>1.0</td>\n",
       "      <td>162311.481120</td>\n",
       "      <td>75911.481120</td>\n",
       "    </tr>\n",
       "    <tr>\n",
       "      <th>3</th>\n",
       "      <td>1006670001679961544</td>\n",
       "      <td>0.0</td>\n",
       "      <td>0.000000</td>\n",
       "      <td>0.000000</td>\n",
       "      <td>0.0</td>\n",
       "      <td>259200.000000</td>\n",
       "      <td>259200.000000</td>\n",
       "    </tr>\n",
       "    <tr>\n",
       "      <th>4</th>\n",
       "      <td>1007573308966476713</td>\n",
       "      <td>2.0</td>\n",
       "      <td>6.000000</td>\n",
       "      <td>14.500000</td>\n",
       "      <td>4.0</td>\n",
       "      <td>104537.251334</td>\n",
       "      <td>18137.251334</td>\n",
       "    </tr>\n",
       "  </tbody>\n",
       "</table>\n",
       "</div>"
      ],
      "text/plain": [
       "              ref_hash  auctions_count  dia_semana_mean  hora_mean  \\\n",
       "0  1000169251625791246            10.0         5.300000   6.100000   \n",
       "1  1000395625957344683            18.0         4.833333   8.222222   \n",
       "2  1003027494996471685             1.0         6.000000  22.000000   \n",
       "3  1006670001679961544             0.0         0.000000   0.000000   \n",
       "4  1007573308966476713             2.0         6.000000  14.500000   \n",
       "\n",
       "   cantidad de eventos             st  timeToAuction_min  \n",
       "0                 17.0   10509.519448       11275.349980  \n",
       "1                  2.0   21512.080498      110734.885605  \n",
       "2                  1.0  162311.481120       75911.481120  \n",
       "3                  0.0  259200.000000      259200.000000  \n",
       "4                  4.0  104537.251334       18137.251334  "
      ]
     },
     "execution_count": 361,
     "metadata": {},
     "output_type": "execute_result"
    }
   ],
   "source": [
    "prueba=aut1.merge(st, on='ref_hash', how='left')\n",
    "prueba['timeToAuction_min'] = prueba['timeToAuction_min'].fillna(72 * 60 * 60)\n",
    "prueba.head()"
   ]
  },
  {
   "cell_type": "code",
   "execution_count": 371,
   "metadata": {},
   "outputs": [],
   "source": [
    "evts = pd.read_csv(\"data/events_ventana1.csv\", dtype = {\"event_id\": np.int16, \"application_id\": np.int16, 'device_countrycode': 'category', 'device_os_version': 'category', 'device_brand': 'category', 'device_model': 'category', 'device_city': 'category', 'session_user_agent': 'category', 'trans_id': 'category', 'user_agent': 'category', 'carrier' : 'category', 'kind': 'category', 'device_os': 'category', 'connection_type': 'category', 'ip_address': 'category', 'device_language': 'category'})"
   ]
  },
  {
   "cell_type": "code",
   "execution_count": 372,
   "metadata": {},
   "outputs": [
    {
     "data": {
      "text/html": [
       "<div>\n",
       "<style scoped>\n",
       "    .dataframe tbody tr th:only-of-type {\n",
       "        vertical-align: middle;\n",
       "    }\n",
       "\n",
       "    .dataframe tbody tr th {\n",
       "        vertical-align: top;\n",
       "    }\n",
       "\n",
       "    .dataframe thead th {\n",
       "        text-align: right;\n",
       "    }\n",
       "</style>\n",
       "<table border=\"1\" class=\"dataframe\">\n",
       "  <thead>\n",
       "    <tr style=\"text-align: right;\">\n",
       "      <th></th>\n",
       "      <th>index</th>\n",
       "      <th>date</th>\n",
       "      <th>event_id</th>\n",
       "      <th>ref_type</th>\n",
       "      <th>ref_hash</th>\n",
       "      <th>application_id</th>\n",
       "      <th>attributed</th>\n",
       "      <th>device_countrycode</th>\n",
       "      <th>device_os_version</th>\n",
       "      <th>device_brand</th>\n",
       "      <th>...</th>\n",
       "      <th>trans_id</th>\n",
       "      <th>user_agent</th>\n",
       "      <th>event_uuid</th>\n",
       "      <th>carrier</th>\n",
       "      <th>kind</th>\n",
       "      <th>device_os</th>\n",
       "      <th>wifi</th>\n",
       "      <th>connection_type</th>\n",
       "      <th>ip_address</th>\n",
       "      <th>device_language</th>\n",
       "    </tr>\n",
       "  </thead>\n",
       "  <tbody>\n",
       "    <tr>\n",
       "      <th>0</th>\n",
       "      <td>2130678</td>\n",
       "      <td>2019-04-20 01:42:49.120</td>\n",
       "      <td>0</td>\n",
       "      <td>1891515180541284343</td>\n",
       "      <td>5857744372586891366</td>\n",
       "      <td>210</td>\n",
       "      <td>False</td>\n",
       "      <td>6287817205707153877</td>\n",
       "      <td>NaN</td>\n",
       "      <td>NaN</td>\n",
       "      <td>...</td>\n",
       "      <td>NaN</td>\n",
       "      <td>5.046185273150854e+18</td>\n",
       "      <td>5b506964-5f47-4b28-a8c2-8a92d6c23379</td>\n",
       "      <td>NaN</td>\n",
       "      <td>5.882882097123621e+18</td>\n",
       "      <td>NaN</td>\n",
       "      <td>False</td>\n",
       "      <td>NaN</td>\n",
       "      <td>7544543351571901618</td>\n",
       "      <td>3.3013777759777e+18</td>\n",
       "    </tr>\n",
       "    <tr>\n",
       "      <th>1</th>\n",
       "      <td>2130680</td>\n",
       "      <td>2019-04-20 01:42:49.340</td>\n",
       "      <td>1</td>\n",
       "      <td>1891515180541284343</td>\n",
       "      <td>7642521036780133571</td>\n",
       "      <td>210</td>\n",
       "      <td>False</td>\n",
       "      <td>6287817205707153877</td>\n",
       "      <td>NaN</td>\n",
       "      <td>NaN</td>\n",
       "      <td>...</td>\n",
       "      <td>NaN</td>\n",
       "      <td>NaN</td>\n",
       "      <td>f1fb9d15-1a7b-4116-8d3b-c4c403e197e2</td>\n",
       "      <td>NaN</td>\n",
       "      <td>4.017674184041173e+18</td>\n",
       "      <td>NaN</td>\n",
       "      <td>False</td>\n",
       "      <td>NaN</td>\n",
       "      <td>6949523255335024165</td>\n",
       "      <td>NaN</td>\n",
       "    </tr>\n",
       "    <tr>\n",
       "      <th>2</th>\n",
       "      <td>2130681</td>\n",
       "      <td>2019-04-20 01:42:49.365</td>\n",
       "      <td>1</td>\n",
       "      <td>1891515180541284343</td>\n",
       "      <td>2548841562898283198</td>\n",
       "      <td>210</td>\n",
       "      <td>False</td>\n",
       "      <td>6287817205707153877</td>\n",
       "      <td>NaN</td>\n",
       "      <td>NaN</td>\n",
       "      <td>...</td>\n",
       "      <td>NaN</td>\n",
       "      <td>NaN</td>\n",
       "      <td>c85a0b15-a5d7-472e-8116-6bfa3db19687</td>\n",
       "      <td>NaN</td>\n",
       "      <td>4.017674184041173e+18</td>\n",
       "      <td>NaN</td>\n",
       "      <td>False</td>\n",
       "      <td>NaN</td>\n",
       "      <td>6428537280982666957</td>\n",
       "      <td>NaN</td>\n",
       "    </tr>\n",
       "    <tr>\n",
       "      <th>3</th>\n",
       "      <td>2130684</td>\n",
       "      <td>2019-04-20 01:42:51.438</td>\n",
       "      <td>2</td>\n",
       "      <td>1891515180541284343</td>\n",
       "      <td>609402887625919085</td>\n",
       "      <td>210</td>\n",
       "      <td>False</td>\n",
       "      <td>6287817205707153877</td>\n",
       "      <td>NaN</td>\n",
       "      <td>NaN</td>\n",
       "      <td>...</td>\n",
       "      <td>NaN</td>\n",
       "      <td>NaN</td>\n",
       "      <td>f4aa0a97-2de6-4f22-95c6-1b3150112cb9</td>\n",
       "      <td>NaN</td>\n",
       "      <td>6.168308581888313e+18</td>\n",
       "      <td>NaN</td>\n",
       "      <td>False</td>\n",
       "      <td>NaN</td>\n",
       "      <td>7607371352198017145</td>\n",
       "      <td>NaN</td>\n",
       "    </tr>\n",
       "    <tr>\n",
       "      <th>4</th>\n",
       "      <td>2130688</td>\n",
       "      <td>2019-04-20 01:42:51.838</td>\n",
       "      <td>1</td>\n",
       "      <td>1891515180541284343</td>\n",
       "      <td>9114651763556439823</td>\n",
       "      <td>210</td>\n",
       "      <td>False</td>\n",
       "      <td>6287817205707153877</td>\n",
       "      <td>NaN</td>\n",
       "      <td>NaN</td>\n",
       "      <td>...</td>\n",
       "      <td>NaN</td>\n",
       "      <td>NaN</td>\n",
       "      <td>08e2f7f7-875f-4aa0-b337-b9b87b0d83ea</td>\n",
       "      <td>NaN</td>\n",
       "      <td>4.017674184041173e+18</td>\n",
       "      <td>NaN</td>\n",
       "      <td>False</td>\n",
       "      <td>NaN</td>\n",
       "      <td>2901772839007473756</td>\n",
       "      <td>NaN</td>\n",
       "    </tr>\n",
       "  </tbody>\n",
       "</table>\n",
       "<p>5 rows × 23 columns</p>\n",
       "</div>"
      ],
      "text/plain": [
       "     index                     date  event_id             ref_type  \\\n",
       "0  2130678  2019-04-20 01:42:49.120         0  1891515180541284343   \n",
       "1  2130680  2019-04-20 01:42:49.340         1  1891515180541284343   \n",
       "2  2130681  2019-04-20 01:42:49.365         1  1891515180541284343   \n",
       "3  2130684  2019-04-20 01:42:51.438         2  1891515180541284343   \n",
       "4  2130688  2019-04-20 01:42:51.838         1  1891515180541284343   \n",
       "\n",
       "              ref_hash  application_id  attributed   device_countrycode  \\\n",
       "0  5857744372586891366             210       False  6287817205707153877   \n",
       "1  7642521036780133571             210       False  6287817205707153877   \n",
       "2  2548841562898283198             210       False  6287817205707153877   \n",
       "3   609402887625919085             210       False  6287817205707153877   \n",
       "4  9114651763556439823             210       False  6287817205707153877   \n",
       "\n",
       "  device_os_version device_brand  ... trans_id             user_agent  \\\n",
       "0               NaN          NaN  ...      NaN  5.046185273150854e+18   \n",
       "1               NaN          NaN  ...      NaN                    NaN   \n",
       "2               NaN          NaN  ...      NaN                    NaN   \n",
       "3               NaN          NaN  ...      NaN                    NaN   \n",
       "4               NaN          NaN  ...      NaN                    NaN   \n",
       "\n",
       "                             event_uuid carrier                   kind  \\\n",
       "0  5b506964-5f47-4b28-a8c2-8a92d6c23379     NaN  5.882882097123621e+18   \n",
       "1  f1fb9d15-1a7b-4116-8d3b-c4c403e197e2     NaN  4.017674184041173e+18   \n",
       "2  c85a0b15-a5d7-472e-8116-6bfa3db19687     NaN  4.017674184041173e+18   \n",
       "3  f4aa0a97-2de6-4f22-95c6-1b3150112cb9     NaN  6.168308581888313e+18   \n",
       "4  08e2f7f7-875f-4aa0-b337-b9b87b0d83ea     NaN  4.017674184041173e+18   \n",
       "\n",
       "  device_os   wifi connection_type           ip_address      device_language  \n",
       "0       NaN  False             NaN  7544543351571901618  3.3013777759777e+18  \n",
       "1       NaN  False             NaN  6949523255335024165                  NaN  \n",
       "2       NaN  False             NaN  6428537280982666957                  NaN  \n",
       "3       NaN  False             NaN  7607371352198017145                  NaN  \n",
       "4       NaN  False             NaN  2901772839007473756                  NaN  \n",
       "\n",
       "[5 rows x 23 columns]"
      ]
     },
     "execution_count": 372,
     "metadata": {},
     "output_type": "execute_result"
    }
   ],
   "source": [
    "evts.head()"
   ]
  },
  {
   "cell_type": "code",
   "execution_count": 376,
   "metadata": {},
   "outputs": [
    {
     "data": {
      "text/html": [
       "<div>\n",
       "<style scoped>\n",
       "    .dataframe tbody tr th:only-of-type {\n",
       "        vertical-align: middle;\n",
       "    }\n",
       "\n",
       "    .dataframe tbody tr th {\n",
       "        vertical-align: top;\n",
       "    }\n",
       "\n",
       "    .dataframe thead th {\n",
       "        text-align: right;\n",
       "    }\n",
       "</style>\n",
       "<table border=\"1\" class=\"dataframe\">\n",
       "  <thead>\n",
       "    <tr style=\"text-align: right;\">\n",
       "      <th></th>\n",
       "      <th>application_id</th>\n",
       "      <th>popularidad_app</th>\n",
       "    </tr>\n",
       "  </thead>\n",
       "  <tbody>\n",
       "    <tr>\n",
       "      <th>0</th>\n",
       "      <td>1</td>\n",
       "      <td>21</td>\n",
       "    </tr>\n",
       "    <tr>\n",
       "      <th>1</th>\n",
       "      <td>2</td>\n",
       "      <td>153</td>\n",
       "    </tr>\n",
       "    <tr>\n",
       "      <th>2</th>\n",
       "      <td>3</td>\n",
       "      <td>699</td>\n",
       "    </tr>\n",
       "    <tr>\n",
       "      <th>3</th>\n",
       "      <td>5</td>\n",
       "      <td>36</td>\n",
       "    </tr>\n",
       "    <tr>\n",
       "      <th>4</th>\n",
       "      <td>6</td>\n",
       "      <td>19</td>\n",
       "    </tr>\n",
       "  </tbody>\n",
       "</table>\n",
       "</div>"
      ],
      "text/plain": [
       "   application_id  popularidad_app\n",
       "0               1               21\n",
       "1               2              153\n",
       "2               3              699\n",
       "3               5               36\n",
       "4               6               19"
      ]
     },
     "execution_count": 376,
     "metadata": {},
     "output_type": "execute_result"
    }
   ],
   "source": [
    "apps_populares = evts[['application_id', 'ref_hash']].groupby('application_id').count().reset_index()\n",
    "apps_populares.columns = ['application_id', 'popularidad_app']\n",
    "apps_populares.head()"
   ]
  },
  {
   "cell_type": "code",
   "execution_count": 377,
   "metadata": {},
   "outputs": [
    {
     "data": {
      "text/html": [
       "<div>\n",
       "<style scoped>\n",
       "    .dataframe tbody tr th:only-of-type {\n",
       "        vertical-align: middle;\n",
       "    }\n",
       "\n",
       "    .dataframe tbody tr th {\n",
       "        vertical-align: top;\n",
       "    }\n",
       "\n",
       "    .dataframe thead th {\n",
       "        text-align: right;\n",
       "    }\n",
       "</style>\n",
       "<table border=\"1\" class=\"dataframe\">\n",
       "  <thead>\n",
       "    <tr style=\"text-align: right;\">\n",
       "      <th></th>\n",
       "      <th>ref_hash</th>\n",
       "      <th>application_id</th>\n",
       "      <th>popularidad_app</th>\n",
       "    </tr>\n",
       "  </thead>\n",
       "  <tbody>\n",
       "    <tr>\n",
       "      <th>0</th>\n",
       "      <td>5857744372586891366</td>\n",
       "      <td>210</td>\n",
       "      <td>574130</td>\n",
       "    </tr>\n",
       "    <tr>\n",
       "      <th>1</th>\n",
       "      <td>7642521036780133571</td>\n",
       "      <td>210</td>\n",
       "      <td>574130</td>\n",
       "    </tr>\n",
       "    <tr>\n",
       "      <th>2</th>\n",
       "      <td>2548841562898283198</td>\n",
       "      <td>210</td>\n",
       "      <td>574130</td>\n",
       "    </tr>\n",
       "    <tr>\n",
       "      <th>3</th>\n",
       "      <td>609402887625919085</td>\n",
       "      <td>210</td>\n",
       "      <td>574130</td>\n",
       "    </tr>\n",
       "    <tr>\n",
       "      <th>4</th>\n",
       "      <td>9114651763556439823</td>\n",
       "      <td>210</td>\n",
       "      <td>574130</td>\n",
       "    </tr>\n",
       "  </tbody>\n",
       "</table>\n",
       "</div>"
      ],
      "text/plain": [
       "              ref_hash  application_id  popularidad_app\n",
       "0  5857744372586891366             210           574130\n",
       "1  7642521036780133571             210           574130\n",
       "2  2548841562898283198             210           574130\n",
       "3   609402887625919085             210           574130\n",
       "4  9114651763556439823             210           574130"
      ]
     },
     "execution_count": 377,
     "metadata": {},
     "output_type": "execute_result"
    }
   ],
   "source": [
    "apps_populares = evts[['ref_hash', 'application_id']].merge(apps_populares, on = 'application_id')\n",
    "apps_populares.head()"
   ]
  },
  {
   "cell_type": "code",
   "execution_count": 378,
   "metadata": {},
   "outputs": [
    {
     "data": {
      "text/html": [
       "<div>\n",
       "<style scoped>\n",
       "    .dataframe tbody tr th:only-of-type {\n",
       "        vertical-align: middle;\n",
       "    }\n",
       "\n",
       "    .dataframe tbody tr th {\n",
       "        vertical-align: top;\n",
       "    }\n",
       "\n",
       "    .dataframe thead th {\n",
       "        text-align: right;\n",
       "    }\n",
       "</style>\n",
       "<table border=\"1\" class=\"dataframe\">\n",
       "  <thead>\n",
       "    <tr style=\"text-align: right;\">\n",
       "      <th></th>\n",
       "      <th>ref_hash</th>\n",
       "      <th>pop_media_apps</th>\n",
       "    </tr>\n",
       "  </thead>\n",
       "  <tbody>\n",
       "    <tr>\n",
       "      <th>0</th>\n",
       "      <td>41863526108385</td>\n",
       "      <td>477288.295455</td>\n",
       "    </tr>\n",
       "    <tr>\n",
       "      <th>1</th>\n",
       "      <td>161514654074162</td>\n",
       "      <td>196761.000000</td>\n",
       "    </tr>\n",
       "    <tr>\n",
       "      <th>2</th>\n",
       "      <td>186034136943920</td>\n",
       "      <td>574130.000000</td>\n",
       "    </tr>\n",
       "    <tr>\n",
       "      <th>3</th>\n",
       "      <td>360710529886978</td>\n",
       "      <td>36346.000000</td>\n",
       "    </tr>\n",
       "    <tr>\n",
       "      <th>4</th>\n",
       "      <td>365882020742330</td>\n",
       "      <td>43009.000000</td>\n",
       "    </tr>\n",
       "  </tbody>\n",
       "</table>\n",
       "</div>"
      ],
      "text/plain": [
       "          ref_hash  pop_media_apps\n",
       "0   41863526108385   477288.295455\n",
       "1  161514654074162   196761.000000\n",
       "2  186034136943920   574130.000000\n",
       "3  360710529886978    36346.000000\n",
       "4  365882020742330    43009.000000"
      ]
     },
     "execution_count": 378,
     "metadata": {},
     "output_type": "execute_result"
    }
   ],
   "source": [
    "pop=apps_populares.groupby('ref_hash')['popularidad_app'].mean().reset_index()\n",
    "pop.columns=['ref_hash', 'pop_media_apps']\n",
    "pop.head()"
   ]
  },
  {
   "cell_type": "code",
   "execution_count": 379,
   "metadata": {},
   "outputs": [
    {
     "data": {
      "text/html": [
       "<div>\n",
       "<style scoped>\n",
       "    .dataframe tbody tr th:only-of-type {\n",
       "        vertical-align: middle;\n",
       "    }\n",
       "\n",
       "    .dataframe tbody tr th {\n",
       "        vertical-align: top;\n",
       "    }\n",
       "\n",
       "    .dataframe thead th {\n",
       "        text-align: right;\n",
       "    }\n",
       "</style>\n",
       "<table border=\"1\" class=\"dataframe\">\n",
       "  <thead>\n",
       "    <tr style=\"text-align: right;\">\n",
       "      <th></th>\n",
       "      <th>ref_hash</th>\n",
       "      <th>auctions_count</th>\n",
       "      <th>dia_semana_mean</th>\n",
       "      <th>hora_mean</th>\n",
       "      <th>cantidad de eventos</th>\n",
       "      <th>st</th>\n",
       "      <th>timeToAuction_min</th>\n",
       "      <th>pop_media_apps</th>\n",
       "    </tr>\n",
       "  </thead>\n",
       "  <tbody>\n",
       "    <tr>\n",
       "      <th>0</th>\n",
       "      <td>1000169251625791246</td>\n",
       "      <td>10.0</td>\n",
       "      <td>5.300000</td>\n",
       "      <td>6.100000</td>\n",
       "      <td>17.0</td>\n",
       "      <td>10509.519448</td>\n",
       "      <td>11275.349980</td>\n",
       "      <td>85646.0</td>\n",
       "    </tr>\n",
       "    <tr>\n",
       "      <th>1</th>\n",
       "      <td>1000395625957344683</td>\n",
       "      <td>18.0</td>\n",
       "      <td>4.833333</td>\n",
       "      <td>8.222222</td>\n",
       "      <td>2.0</td>\n",
       "      <td>21512.080498</td>\n",
       "      <td>110734.885605</td>\n",
       "      <td>196761.0</td>\n",
       "    </tr>\n",
       "    <tr>\n",
       "      <th>2</th>\n",
       "      <td>1003027494996471685</td>\n",
       "      <td>1.0</td>\n",
       "      <td>6.000000</td>\n",
       "      <td>22.000000</td>\n",
       "      <td>1.0</td>\n",
       "      <td>162311.481120</td>\n",
       "      <td>75911.481120</td>\n",
       "      <td>53782.0</td>\n",
       "    </tr>\n",
       "    <tr>\n",
       "      <th>3</th>\n",
       "      <td>1006670001679961544</td>\n",
       "      <td>0.0</td>\n",
       "      <td>0.000000</td>\n",
       "      <td>0.000000</td>\n",
       "      <td>0.0</td>\n",
       "      <td>259200.000000</td>\n",
       "      <td>259200.000000</td>\n",
       "      <td>0.0</td>\n",
       "    </tr>\n",
       "    <tr>\n",
       "      <th>4</th>\n",
       "      <td>1007573308966476713</td>\n",
       "      <td>2.0</td>\n",
       "      <td>6.000000</td>\n",
       "      <td>14.500000</td>\n",
       "      <td>4.0</td>\n",
       "      <td>104537.251334</td>\n",
       "      <td>18137.251334</td>\n",
       "      <td>12546.0</td>\n",
       "    </tr>\n",
       "  </tbody>\n",
       "</table>\n",
       "</div>"
      ],
      "text/plain": [
       "              ref_hash  auctions_count  dia_semana_mean  hora_mean  \\\n",
       "0  1000169251625791246            10.0         5.300000   6.100000   \n",
       "1  1000395625957344683            18.0         4.833333   8.222222   \n",
       "2  1003027494996471685             1.0         6.000000  22.000000   \n",
       "3  1006670001679961544             0.0         0.000000   0.000000   \n",
       "4  1007573308966476713             2.0         6.000000  14.500000   \n",
       "\n",
       "   cantidad de eventos             st  timeToAuction_min  pop_media_apps  \n",
       "0                 17.0   10509.519448       11275.349980         85646.0  \n",
       "1                  2.0   21512.080498      110734.885605        196761.0  \n",
       "2                  1.0  162311.481120       75911.481120         53782.0  \n",
       "3                  0.0  259200.000000      259200.000000             0.0  \n",
       "4                  4.0  104537.251334       18137.251334         12546.0  "
      ]
     },
     "execution_count": 379,
     "metadata": {},
     "output_type": "execute_result"
    }
   ],
   "source": [
    "prueba=prueba.merge(pop, on='ref_hash', how='left')\n",
    "prueba['pop_media_apps'] = prueba['pop_media_apps'].fillna(0)\n",
    "prueba.head()"
   ]
  },
  {
   "cell_type": "code",
   "execution_count": 386,
   "metadata": {},
   "outputs": [
    {
     "data": {
      "text/plain": [
       "Index(['index', 'date', 'event_id', 'ref_type', 'ref_hash', 'application_id',\n",
       "       'attributed', 'device_countrycode', 'device_os_version', 'device_brand',\n",
       "       'device_model', 'device_city', 'session_user_agent', 'trans_id',\n",
       "       'user_agent', 'event_uuid', 'carrier', 'kind', 'device_os', 'wifi',\n",
       "       'connection_type', 'ip_address', 'device_language'],\n",
       "      dtype='object')"
      ]
     },
     "execution_count": 386,
     "metadata": {},
     "output_type": "execute_result"
    }
   ],
   "source": [
    "evts.columns"
   ]
  },
  {
   "cell_type": "code",
   "execution_count": 395,
   "metadata": {},
   "outputs": [
    {
     "data": {
      "text/html": [
       "<div>\n",
       "<style scoped>\n",
       "    .dataframe tbody tr th:only-of-type {\n",
       "        vertical-align: middle;\n",
       "    }\n",
       "\n",
       "    .dataframe tbody tr th {\n",
       "        vertical-align: top;\n",
       "    }\n",
       "\n",
       "    .dataframe thead th {\n",
       "        text-align: right;\n",
       "    }\n",
       "</style>\n",
       "<table border=\"1\" class=\"dataframe\">\n",
       "  <thead>\n",
       "    <tr style=\"text-align: right;\">\n",
       "      <th></th>\n",
       "      <th>created</th>\n",
       "      <th>application_id</th>\n",
       "      <th>ref_type</th>\n",
       "      <th>ref_hash</th>\n",
       "      <th>click_hash</th>\n",
       "      <th>attributed</th>\n",
       "      <th>implicit</th>\n",
       "      <th>device_countrycode</th>\n",
       "      <th>device_brand</th>\n",
       "      <th>device_model</th>\n",
       "      <th>session_user_agent</th>\n",
       "      <th>user_agent</th>\n",
       "      <th>event_uuid</th>\n",
       "      <th>kind</th>\n",
       "      <th>wifi</th>\n",
       "      <th>trans_id</th>\n",
       "      <th>ip_address</th>\n",
       "      <th>device_language</th>\n",
       "    </tr>\n",
       "  </thead>\n",
       "  <tbody>\n",
       "    <tr>\n",
       "      <th>0</th>\n",
       "      <td>2019-04-24 06:23:29.495</td>\n",
       "      <td>1</td>\n",
       "      <td>1494519392962156891</td>\n",
       "      <td>4716708407362582887</td>\n",
       "      <td>NaN</td>\n",
       "      <td>False</td>\n",
       "      <td>True</td>\n",
       "      <td>6287817205707153877</td>\n",
       "      <td>NaN</td>\n",
       "      <td>3.739127e+17</td>\n",
       "      <td>adjust.com</td>\n",
       "      <td>NaN</td>\n",
       "      <td>79837499-2f2a-4605-a663-e322f759424f</td>\n",
       "      <td>app_open</td>\n",
       "      <td>NaN</td>\n",
       "      <td>NaN</td>\n",
       "      <td>4243443387795468703</td>\n",
       "      <td>3.301378e+18</td>\n",
       "    </tr>\n",
       "    <tr>\n",
       "      <th>1</th>\n",
       "      <td>2019-04-24 02:06:01.032</td>\n",
       "      <td>1</td>\n",
       "      <td>1494519392962156891</td>\n",
       "      <td>7143568733100935872</td>\n",
       "      <td>NaN</td>\n",
       "      <td>False</td>\n",
       "      <td>False</td>\n",
       "      <td>6287817205707153877</td>\n",
       "      <td>NaN</td>\n",
       "      <td>7.805539e+18</td>\n",
       "      <td>adjust.com</td>\n",
       "      <td>NaN</td>\n",
       "      <td>NaN</td>\n",
       "      <td>NaN</td>\n",
       "      <td>NaN</td>\n",
       "      <td>NaN</td>\n",
       "      <td>4724288679627032761</td>\n",
       "      <td>3.301378e+18</td>\n",
       "    </tr>\n",
       "    <tr>\n",
       "      <th>2</th>\n",
       "      <td>2019-04-20 10:15:36.274</td>\n",
       "      <td>1</td>\n",
       "      <td>1494519392962156891</td>\n",
       "      <td>5230323462636548010</td>\n",
       "      <td>NaN</td>\n",
       "      <td>False</td>\n",
       "      <td>True</td>\n",
       "      <td>6287817205707153877</td>\n",
       "      <td>NaN</td>\n",
       "      <td>8.355496e+18</td>\n",
       "      <td>adjust.com</td>\n",
       "      <td>NaN</td>\n",
       "      <td>dda99e3c-9c4b-487d-891c-79f0a02cb4a8</td>\n",
       "      <td>app_open</td>\n",
       "      <td>NaN</td>\n",
       "      <td>NaN</td>\n",
       "      <td>8291809486355890410</td>\n",
       "      <td>4.060930e+18</td>\n",
       "    </tr>\n",
       "    <tr>\n",
       "      <th>3</th>\n",
       "      <td>2019-04-20 21:56:47.151</td>\n",
       "      <td>1</td>\n",
       "      <td>1494519392962156891</td>\n",
       "      <td>5097163995161606833</td>\n",
       "      <td>NaN</td>\n",
       "      <td>False</td>\n",
       "      <td>True</td>\n",
       "      <td>6287817205707153877</td>\n",
       "      <td>NaN</td>\n",
       "      <td>2.355772e+18</td>\n",
       "      <td>adjust.com</td>\n",
       "      <td>NaN</td>\n",
       "      <td>7010c3ce-0fcf-46c6-9be8-374cc0e20af4</td>\n",
       "      <td>app_open</td>\n",
       "      <td>NaN</td>\n",
       "      <td>NaN</td>\n",
       "      <td>4006811922873399949</td>\n",
       "      <td>3.301378e+18</td>\n",
       "    </tr>\n",
       "    <tr>\n",
       "      <th>4</th>\n",
       "      <td>2019-04-20 22:40:41.239</td>\n",
       "      <td>1</td>\n",
       "      <td>1494519392962156891</td>\n",
       "      <td>6328027616411983332</td>\n",
       "      <td>NaN</td>\n",
       "      <td>False</td>\n",
       "      <td>False</td>\n",
       "      <td>6287817205707153877</td>\n",
       "      <td>NaN</td>\n",
       "      <td>6.156971e+18</td>\n",
       "      <td>adjust.com</td>\n",
       "      <td>NaN</td>\n",
       "      <td>NaN</td>\n",
       "      <td>NaN</td>\n",
       "      <td>NaN</td>\n",
       "      <td>NaN</td>\n",
       "      <td>3386455054590810771</td>\n",
       "      <td>3.301378e+18</td>\n",
       "    </tr>\n",
       "  </tbody>\n",
       "</table>\n",
       "</div>"
      ],
      "text/plain": [
       "                   created  application_id             ref_type  \\\n",
       "0  2019-04-24 06:23:29.495               1  1494519392962156891   \n",
       "1  2019-04-24 02:06:01.032               1  1494519392962156891   \n",
       "2  2019-04-20 10:15:36.274               1  1494519392962156891   \n",
       "3  2019-04-20 21:56:47.151               1  1494519392962156891   \n",
       "4  2019-04-20 22:40:41.239               1  1494519392962156891   \n",
       "\n",
       "              ref_hash click_hash  attributed  implicit   device_countrycode  \\\n",
       "0  4716708407362582887        NaN       False      True  6287817205707153877   \n",
       "1  7143568733100935872        NaN       False     False  6287817205707153877   \n",
       "2  5230323462636548010        NaN       False      True  6287817205707153877   \n",
       "3  5097163995161606833        NaN       False      True  6287817205707153877   \n",
       "4  6328027616411983332        NaN       False     False  6287817205707153877   \n",
       "\n",
       "   device_brand  device_model session_user_agent user_agent  \\\n",
       "0           NaN  3.739127e+17         adjust.com        NaN   \n",
       "1           NaN  7.805539e+18         adjust.com        NaN   \n",
       "2           NaN  8.355496e+18         adjust.com        NaN   \n",
       "3           NaN  2.355772e+18         adjust.com        NaN   \n",
       "4           NaN  6.156971e+18         adjust.com        NaN   \n",
       "\n",
       "                             event_uuid      kind wifi trans_id  \\\n",
       "0  79837499-2f2a-4605-a663-e322f759424f  app_open  NaN      NaN   \n",
       "1                                   NaN       NaN  NaN      NaN   \n",
       "2  dda99e3c-9c4b-487d-891c-79f0a02cb4a8  app_open  NaN      NaN   \n",
       "3  7010c3ce-0fcf-46c6-9be8-374cc0e20af4  app_open  NaN      NaN   \n",
       "4                                   NaN       NaN  NaN      NaN   \n",
       "\n",
       "            ip_address  device_language  \n",
       "0  4243443387795468703     3.301378e+18  \n",
       "1  4724288679627032761     3.301378e+18  \n",
       "2  8291809486355890410     4.060930e+18  \n",
       "3  4006811922873399949     3.301378e+18  \n",
       "4  3386455054590810771     3.301378e+18  "
      ]
     },
     "execution_count": 395,
     "metadata": {},
     "output_type": "execute_result"
    }
   ],
   "source": [
    "installs= pd.read_csv(\"data/installs.csv.gzip\", compression='gzip')\n",
    "installs.head()"
   ]
  },
  {
   "cell_type": "code",
   "execution_count": 474,
   "metadata": {},
   "outputs": [
    {
     "data": {
      "text/html": [
       "<div>\n",
       "<style scoped>\n",
       "    .dataframe tbody tr th:only-of-type {\n",
       "        vertical-align: middle;\n",
       "    }\n",
       "\n",
       "    .dataframe tbody tr th {\n",
       "        vertical-align: top;\n",
       "    }\n",
       "\n",
       "    .dataframe thead th {\n",
       "        text-align: right;\n",
       "    }\n",
       "</style>\n",
       "<table border=\"1\" class=\"dataframe\">\n",
       "  <thead>\n",
       "    <tr style=\"text-align: right;\">\n",
       "      <th></th>\n",
       "      <th>index</th>\n",
       "      <th>created</th>\n",
       "      <th>application_id</th>\n",
       "      <th>ref_type</th>\n",
       "      <th>ref_hash</th>\n",
       "      <th>click_hash</th>\n",
       "      <th>attributed</th>\n",
       "      <th>implicit</th>\n",
       "      <th>device_countrycode</th>\n",
       "      <th>device_brand</th>\n",
       "      <th>device_model</th>\n",
       "      <th>session_user_agent</th>\n",
       "      <th>user_agent</th>\n",
       "      <th>event_uuid</th>\n",
       "      <th>kind</th>\n",
       "      <th>wifi</th>\n",
       "      <th>trans_id</th>\n",
       "      <th>ip_address</th>\n",
       "      <th>device_language</th>\n",
       "    </tr>\n",
       "  </thead>\n",
       "  <tbody>\n",
       "    <tr>\n",
       "      <th>0</th>\n",
       "      <td>1514</td>\n",
       "      <td>2019-04-18 01:53:11.534</td>\n",
       "      <td>7</td>\n",
       "      <td>1891515180541284343</td>\n",
       "      <td>5935409935371325543</td>\n",
       "      <td>NaN</td>\n",
       "      <td>False</td>\n",
       "      <td>True</td>\n",
       "      <td>6287817205707153877</td>\n",
       "      <td>2.208835e+18</td>\n",
       "      <td>2.095801e+18</td>\n",
       "      <td>http-kit/2.0</td>\n",
       "      <td>Dalvik/2.1.0 (Linux; U; Android 8.1.0; Moto G ...</td>\n",
       "      <td>28e70d7a-39fd-4a74-ae06-fa4ef9067716</td>\n",
       "      <td>Open</td>\n",
       "      <td>True</td>\n",
       "      <td>NaN</td>\n",
       "      <td>8206492104262932286</td>\n",
       "      <td>6.584214e+18</td>\n",
       "    </tr>\n",
       "  </tbody>\n",
       "</table>\n",
       "</div>"
      ],
      "text/plain": [
       "   index                  created  application_id             ref_type  \\\n",
       "0   1514  2019-04-18 01:53:11.534               7  1891515180541284343   \n",
       "\n",
       "              ref_hash click_hash  attributed  implicit   device_countrycode  \\\n",
       "0  5935409935371325543        NaN       False      True  6287817205707153877   \n",
       "\n",
       "   device_brand  device_model session_user_agent  \\\n",
       "0  2.208835e+18  2.095801e+18       http-kit/2.0   \n",
       "\n",
       "                                          user_agent  \\\n",
       "0  Dalvik/2.1.0 (Linux; U; Android 8.1.0; Moto G ...   \n",
       "\n",
       "                             event_uuid  kind  wifi trans_id  \\\n",
       "0  28e70d7a-39fd-4a74-ae06-fa4ef9067716  Open  True      NaN   \n",
       "\n",
       "            ip_address  device_language  \n",
       "0  8206492104262932286     6.584214e+18  "
      ]
     },
     "execution_count": 474,
     "metadata": {},
     "output_type": "execute_result"
    }
   ],
   "source": [
    "dalvik = installs[installs['user_agent'].str.contains(r\"\\Dalvik\\b\", case=False, na=False, regex=True)].reset_index()\n",
    "dalvik.head(1)"
   ]
  },
  {
   "cell_type": "code",
   "execution_count": 421,
   "metadata": {},
   "outputs": [
    {
     "name": "stdout",
     "output_type": "stream",
     "text": [
      "<class 'pandas.core.frame.DataFrame'>\n",
      "RangeIndex: 255175 entries, 0 to 255174\n",
      "Data columns (total 19 columns):\n",
      "index                 255175 non-null int64\n",
      "created               255175 non-null object\n",
      "application_id        255175 non-null int64\n",
      "ref_type              255175 non-null int64\n",
      "ref_hash              255175 non-null int64\n",
      "click_hash            863 non-null object\n",
      "attributed            255175 non-null bool\n",
      "implicit              255175 non-null bool\n",
      "device_countrycode    255175 non-null int64\n",
      "device_brand          239275 non-null float64\n",
      "device_model          254937 non-null float64\n",
      "session_user_agent    255175 non-null object\n",
      "user_agent            255175 non-null object\n",
      "event_uuid            55368 non-null object\n",
      "kind                  55368 non-null object\n",
      "wifi                  239276 non-null object\n",
      "trans_id              3 non-null object\n",
      "ip_address            255175 non-null int64\n",
      "device_language       255175 non-null float64\n",
      "dtypes: bool(2), float64(3), int64(6), object(8)\n",
      "memory usage: 33.6+ MB\n"
     ]
    }
   ],
   "source": [
    "dalvik .info()"
   ]
  },
  {
   "cell_type": "code",
   "execution_count": 422,
   "metadata": {},
   "outputs": [
    {
     "name": "stdout",
     "output_type": "stream",
     "text": [
      "<class 'pandas.core.frame.DataFrame'>\n",
      "RangeIndex: 255175 entries, 0 to 255174\n",
      "Data columns (total 19 columns):\n",
      "index                 255175 non-null int64\n",
      "created               255175 non-null object\n",
      "application_id        255175 non-null int64\n",
      "ref_type              255175 non-null int64\n",
      "ref_hash              255175 non-null int64\n",
      "click_hash            863 non-null object\n",
      "attributed            255175 non-null bool\n",
      "implicit              255175 non-null bool\n",
      "device_countrycode    255175 non-null int64\n",
      "device_brand          239275 non-null float64\n",
      "device_model          254937 non-null float64\n",
      "session_user_agent    255175 non-null object\n",
      "user_agent            255175 non-null object\n",
      "event_uuid            55368 non-null object\n",
      "kind                  55368 non-null object\n",
      "wifi                  239276 non-null object\n",
      "trans_id              3 non-null object\n",
      "ip_address            255175 non-null int64\n",
      "device_language       255175 non-null float64\n",
      "dtypes: bool(2), float64(3), int64(6), object(8)\n",
      "memory usage: 33.6+ MB\n"
     ]
    }
   ],
   "source": [
    "#dalvik = dalvik.dropna()\n",
    "dalvik.info()"
   ]
  },
  {
   "cell_type": "code",
   "execution_count": 424,
   "metadata": {},
   "outputs": [],
   "source": [
    "def parser2(values):\n",
    "    dispositivo = []\n",
    "    x=values.str.split(';')\n",
    "    x=x.str.get(3)\n",
    "    x=x.str.split('Build')\n",
    "   \n",
    "\n",
    "   \n",
    "    z=x.str.get(0)\n",
    "    z=z.str.split('MIUI')\n",
    "    \n",
    "    return z.str.get(0)"
   ]
  },
  {
   "cell_type": "code",
   "execution_count": 425,
   "metadata": {},
   "outputs": [
    {
     "data": {
      "text/html": [
       "<div>\n",
       "<style scoped>\n",
       "    .dataframe tbody tr th:only-of-type {\n",
       "        vertical-align: middle;\n",
       "    }\n",
       "\n",
       "    .dataframe tbody tr th {\n",
       "        vertical-align: top;\n",
       "    }\n",
       "\n",
       "    .dataframe thead th {\n",
       "        text-align: right;\n",
       "    }\n",
       "</style>\n",
       "<table border=\"1\" class=\"dataframe\">\n",
       "  <thead>\n",
       "    <tr style=\"text-align: right;\">\n",
       "      <th></th>\n",
       "      <th>user_agent</th>\n",
       "    </tr>\n",
       "  </thead>\n",
       "  <tbody>\n",
       "    <tr>\n",
       "      <th>0</th>\n",
       "      <td>Moto G (5S) Plus</td>\n",
       "    </tr>\n",
       "    <tr>\n",
       "      <th>1</th>\n",
       "      <td>Redmi Note 5</td>\n",
       "    </tr>\n",
       "    <tr>\n",
       "      <th>2</th>\n",
       "      <td>Redmi Note 5</td>\n",
       "    </tr>\n",
       "    <tr>\n",
       "      <th>3</th>\n",
       "      <td>LT5216</td>\n",
       "    </tr>\n",
       "    <tr>\n",
       "      <th>4</th>\n",
       "      <td>Z835</td>\n",
       "    </tr>\n",
       "    <tr>\n",
       "      <th>5</th>\n",
       "      <td>LG-M320</td>\n",
       "    </tr>\n",
       "    <tr>\n",
       "      <th>6</th>\n",
       "      <td>SM-J400M</td>\n",
       "    </tr>\n",
       "    <tr>\n",
       "      <th>7</th>\n",
       "      <td>Ilium M7</td>\n",
       "    </tr>\n",
       "    <tr>\n",
       "      <th>8</th>\n",
       "      <td>SM-G530H</td>\n",
       "    </tr>\n",
       "    <tr>\n",
       "      <th>9</th>\n",
       "      <td>moto e5 play</td>\n",
       "    </tr>\n",
       "  </tbody>\n",
       "</table>\n",
       "</div>"
      ],
      "text/plain": [
       "           user_agent\n",
       "0   Moto G (5S) Plus \n",
       "1       Redmi Note 5 \n",
       "2       Redmi Note 5 \n",
       "3             LT5216 \n",
       "4               Z835 \n",
       "5            LG-M320 \n",
       "6           SM-J400M \n",
       "7           Ilium M7 \n",
       "8           SM-G530H \n",
       "9       moto e5 play "
      ]
     },
     "execution_count": 425,
     "metadata": {},
     "output_type": "execute_result"
    }
   ],
   "source": [
    "dispositivos2=parser2(dalvik.user_agent)\n",
    "d_dalvik2=pd.DataFrame(dispositivos2)\n",
    "d_dalvik2.head(10)"
   ]
  },
  {
   "cell_type": "code",
   "execution_count": 427,
   "metadata": {},
   "outputs": [
    {
     "name": "stdout",
     "output_type": "stream",
     "text": [
      "<class 'pandas.core.frame.DataFrame'>\n",
      "RangeIndex: 255175 entries, 0 to 255174\n",
      "Data columns (total 1 columns):\n",
      "user_agent    255169 non-null object\n",
      "dtypes: object(1)\n",
      "memory usage: 1.9+ MB\n"
     ]
    }
   ],
   "source": [
    "d_dalvik2.info()"
   ]
  },
  {
   "cell_type": "code",
   "execution_count": 428,
   "metadata": {},
   "outputs": [
    {
     "name": "stdout",
     "output_type": "stream",
     "text": [
      "<class 'pandas.core.frame.DataFrame'>\n",
      "RangeIndex: 255175 entries, 0 to 255174\n",
      "Data columns (total 2 columns):\n",
      "user_agent    255169 non-null object\n",
      "ref_hash      255175 non-null int64\n",
      "dtypes: int64(1), object(1)\n",
      "memory usage: 3.9+ MB\n"
     ]
    }
   ],
   "source": [
    "d_dalvik2['ref_hash']=dalvik['ref_hash']\n",
    "d_dalvik2.info()"
   ]
  },
  {
   "cell_type": "code",
   "execution_count": 429,
   "metadata": {},
   "outputs": [
    {
     "data": {
      "text/html": [
       "<div>\n",
       "<style scoped>\n",
       "    .dataframe tbody tr th:only-of-type {\n",
       "        vertical-align: middle;\n",
       "    }\n",
       "\n",
       "    .dataframe tbody tr th {\n",
       "        vertical-align: top;\n",
       "    }\n",
       "\n",
       "    .dataframe thead th {\n",
       "        text-align: right;\n",
       "    }\n",
       "</style>\n",
       "<table border=\"1\" class=\"dataframe\">\n",
       "  <thead>\n",
       "    <tr style=\"text-align: right;\">\n",
       "      <th></th>\n",
       "      <th>user_agent</th>\n",
       "      <th>ref_hash</th>\n",
       "    </tr>\n",
       "  </thead>\n",
       "  <tbody>\n",
       "    <tr>\n",
       "      <th>0</th>\n",
       "      <td>Moto G (5S) Plus</td>\n",
       "      <td>5935409935371325543</td>\n",
       "    </tr>\n",
       "    <tr>\n",
       "      <th>1</th>\n",
       "      <td>Redmi Note 5</td>\n",
       "      <td>7322471555202088203</td>\n",
       "    </tr>\n",
       "    <tr>\n",
       "      <th>2</th>\n",
       "      <td>Redmi Note 5</td>\n",
       "      <td>7322471555202088203</td>\n",
       "    </tr>\n",
       "    <tr>\n",
       "      <th>3</th>\n",
       "      <td>LT5216</td>\n",
       "      <td>3587734752131001332</td>\n",
       "    </tr>\n",
       "    <tr>\n",
       "      <th>4</th>\n",
       "      <td>Z835</td>\n",
       "      <td>277671479478293909</td>\n",
       "    </tr>\n",
       "  </tbody>\n",
       "</table>\n",
       "</div>"
      ],
      "text/plain": [
       "           user_agent             ref_hash\n",
       "0   Moto G (5S) Plus   5935409935371325543\n",
       "1       Redmi Note 5   7322471555202088203\n",
       "2       Redmi Note 5   7322471555202088203\n",
       "3             LT5216   3587734752131001332\n",
       "4               Z835    277671479478293909"
      ]
     },
     "execution_count": 429,
     "metadata": {},
     "output_type": "execute_result"
    }
   ],
   "source": [
    "d_dalvik2.head()"
   ]
  },
  {
   "cell_type": "code",
   "execution_count": 436,
   "metadata": {},
   "outputs": [
    {
     "data": {
      "text/html": [
       "<div>\n",
       "<style scoped>\n",
       "    .dataframe tbody tr th:only-of-type {\n",
       "        vertical-align: middle;\n",
       "    }\n",
       "\n",
       "    .dataframe tbody tr th {\n",
       "        vertical-align: top;\n",
       "    }\n",
       "\n",
       "    .dataframe thead th {\n",
       "        text-align: right;\n",
       "    }\n",
       "</style>\n",
       "<table border=\"1\" class=\"dataframe\">\n",
       "  <thead>\n",
       "    <tr style=\"text-align: right;\">\n",
       "      <th></th>\n",
       "      <th>user_agent</th>\n",
       "      <th>Total</th>\n",
       "      <th>%Modelo</th>\n",
       "    </tr>\n",
       "  </thead>\n",
       "  <tbody>\n",
       "    <tr>\n",
       "      <th>0</th>\n",
       "      <td>SM-G532M</td>\n",
       "      <td>9756</td>\n",
       "      <td>3.823348</td>\n",
       "    </tr>\n",
       "    <tr>\n",
       "      <th>1</th>\n",
       "      <td>moto g(6) play</td>\n",
       "      <td>6050</td>\n",
       "      <td>2.370978</td>\n",
       "    </tr>\n",
       "    <tr>\n",
       "      <th>2</th>\n",
       "      <td>ANE-LX3</td>\n",
       "      <td>5789</td>\n",
       "      <td>2.268693</td>\n",
       "    </tr>\n",
       "    <tr>\n",
       "      <th>3</th>\n",
       "      <td>Moto E (4)</td>\n",
       "      <td>4492</td>\n",
       "      <td>1.760402</td>\n",
       "    </tr>\n",
       "    <tr>\n",
       "      <th>4</th>\n",
       "      <td>SNE-LX3</td>\n",
       "      <td>4212</td>\n",
       "      <td>1.650671</td>\n",
       "    </tr>\n",
       "  </tbody>\n",
       "</table>\n",
       "</div>"
      ],
      "text/plain": [
       "         user_agent  Total   %Modelo\n",
       "0         SM-G532M    9756  3.823348\n",
       "1   moto g(6) play    6050  2.370978\n",
       "2          ANE-LX3    5789  2.268693\n",
       "3       Moto E (4)    4492  1.760402\n",
       "4          SNE-LX3    4212  1.650671"
      ]
     },
     "execution_count": 436,
     "metadata": {},
     "output_type": "execute_result"
    }
   ],
   "source": [
    "grupo=d_dalvik2.groupby(['user_agent'])['user_agent'].count().sort_values(ascending=False).rename(\"Total\").reset_index()\n",
    "suma=grupo['Total'].sum()\n",
    "grupo['%Modelo']=grupo['Total']/suma *100\n",
    "grupo.head()"
   ]
  },
  {
   "cell_type": "code",
   "execution_count": 438,
   "metadata": {},
   "outputs": [
    {
     "data": {
      "text/html": [
       "<div>\n",
       "<style scoped>\n",
       "    .dataframe tbody tr th:only-of-type {\n",
       "        vertical-align: middle;\n",
       "    }\n",
       "\n",
       "    .dataframe tbody tr th {\n",
       "        vertical-align: top;\n",
       "    }\n",
       "\n",
       "    .dataframe thead th {\n",
       "        text-align: right;\n",
       "    }\n",
       "</style>\n",
       "<table border=\"1\" class=\"dataframe\">\n",
       "  <thead>\n",
       "    <tr style=\"text-align: right;\">\n",
       "      <th></th>\n",
       "      <th>user_agent</th>\n",
       "      <th>ref_hash</th>\n",
       "      <th>%Modelo</th>\n",
       "    </tr>\n",
       "  </thead>\n",
       "  <tbody>\n",
       "    <tr>\n",
       "      <th>0</th>\n",
       "      <td>Moto G (5S) Plus</td>\n",
       "      <td>5935409935371325543</td>\n",
       "      <td>0.080731</td>\n",
       "    </tr>\n",
       "    <tr>\n",
       "      <th>1</th>\n",
       "      <td>Moto G (5S) Plus</td>\n",
       "      <td>654355544285026705</td>\n",
       "      <td>0.080731</td>\n",
       "    </tr>\n",
       "    <tr>\n",
       "      <th>2</th>\n",
       "      <td>Moto G (5S) Plus</td>\n",
       "      <td>3812493979217960770</td>\n",
       "      <td>0.080731</td>\n",
       "    </tr>\n",
       "    <tr>\n",
       "      <th>3</th>\n",
       "      <td>Moto G (5S) Plus</td>\n",
       "      <td>6187127045207955752</td>\n",
       "      <td>0.080731</td>\n",
       "    </tr>\n",
       "    <tr>\n",
       "      <th>4</th>\n",
       "      <td>Moto G (5S) Plus</td>\n",
       "      <td>6594933933642936379</td>\n",
       "      <td>0.080731</td>\n",
       "    </tr>\n",
       "  </tbody>\n",
       "</table>\n",
       "</div>"
      ],
      "text/plain": [
       "           user_agent             ref_hash   %Modelo\n",
       "0   Moto G (5S) Plus   5935409935371325543  0.080731\n",
       "1   Moto G (5S) Plus    654355544285026705  0.080731\n",
       "2   Moto G (5S) Plus   3812493979217960770  0.080731\n",
       "3   Moto G (5S) Plus   6187127045207955752  0.080731\n",
       "4   Moto G (5S) Plus   6594933933642936379  0.080731"
      ]
     },
     "execution_count": 438,
     "metadata": {},
     "output_type": "execute_result"
    }
   ],
   "source": [
    "merged_model=d_dalvik2.merge(grupo[['user_agent','%Modelo']],on='user_agent')\n",
    "merged_model.head()"
   ]
  },
  {
   "cell_type": "code",
   "execution_count": 443,
   "metadata": {},
   "outputs": [
    {
     "name": "stdout",
     "output_type": "stream",
     "text": [
      "<class 'pandas.core.frame.DataFrame'>\n",
      "Int64Index: 255169 entries, 0 to 255168\n",
      "Data columns (total 3 columns):\n",
      "user_agent    255169 non-null object\n",
      "ref_hash      255169 non-null int64\n",
      "%Modelo       255169 non-null float64\n",
      "dtypes: float64(1), int64(1), object(1)\n",
      "memory usage: 7.8+ MB\n"
     ]
    },
    {
     "data": {
      "text/plain": [
       "count    255169.000000\n",
       "mean          0.752151\n",
       "std           0.882685\n",
       "min           0.000392\n",
       "25%           0.108947\n",
       "50%           0.444803\n",
       "75%           1.080460\n",
       "max           3.823348\n",
       "Name: %Modelo, dtype: float64"
      ]
     },
     "execution_count": 443,
     "metadata": {},
     "output_type": "execute_result"
    }
   ],
   "source": [
    "merged_model.info()\n",
    "merged_model['%Modelo'].describe()"
   ]
  },
  {
   "cell_type": "code",
   "execution_count": 440,
   "metadata": {},
   "outputs": [
    {
     "data": {
      "text/html": [
       "<div>\n",
       "<style scoped>\n",
       "    .dataframe tbody tr th:only-of-type {\n",
       "        vertical-align: middle;\n",
       "    }\n",
       "\n",
       "    .dataframe tbody tr th {\n",
       "        vertical-align: top;\n",
       "    }\n",
       "\n",
       "    .dataframe thead th {\n",
       "        text-align: right;\n",
       "    }\n",
       "</style>\n",
       "<table border=\"1\" class=\"dataframe\">\n",
       "  <thead>\n",
       "    <tr style=\"text-align: right;\">\n",
       "      <th></th>\n",
       "      <th>ref_hash</th>\n",
       "      <th>auctions_count</th>\n",
       "      <th>dia_semana_mean</th>\n",
       "      <th>hora_mean</th>\n",
       "      <th>cantidad de eventos</th>\n",
       "      <th>st</th>\n",
       "      <th>timeToAuction_min</th>\n",
       "      <th>pop_media_apps</th>\n",
       "      <th>%Modelo</th>\n",
       "    </tr>\n",
       "  </thead>\n",
       "  <tbody>\n",
       "    <tr>\n",
       "      <th>0</th>\n",
       "      <td>1000169251625791246</td>\n",
       "      <td>10.0</td>\n",
       "      <td>5.300000</td>\n",
       "      <td>6.100000</td>\n",
       "      <td>17.0</td>\n",
       "      <td>10509.519448</td>\n",
       "      <td>11275.349980</td>\n",
       "      <td>85646.0</td>\n",
       "      <td>NaN</td>\n",
       "    </tr>\n",
       "    <tr>\n",
       "      <th>1</th>\n",
       "      <td>1000395625957344683</td>\n",
       "      <td>18.0</td>\n",
       "      <td>4.833333</td>\n",
       "      <td>8.222222</td>\n",
       "      <td>2.0</td>\n",
       "      <td>21512.080498</td>\n",
       "      <td>110734.885605</td>\n",
       "      <td>196761.0</td>\n",
       "      <td>0.591765</td>\n",
       "    </tr>\n",
       "    <tr>\n",
       "      <th>2</th>\n",
       "      <td>1000395625957344683</td>\n",
       "      <td>18.0</td>\n",
       "      <td>4.833333</td>\n",
       "      <td>8.222222</td>\n",
       "      <td>2.0</td>\n",
       "      <td>21512.080498</td>\n",
       "      <td>110734.885605</td>\n",
       "      <td>196761.0</td>\n",
       "      <td>0.591765</td>\n",
       "    </tr>\n",
       "    <tr>\n",
       "      <th>3</th>\n",
       "      <td>1003027494996471685</td>\n",
       "      <td>1.0</td>\n",
       "      <td>6.000000</td>\n",
       "      <td>22.000000</td>\n",
       "      <td>1.0</td>\n",
       "      <td>162311.481120</td>\n",
       "      <td>75911.481120</td>\n",
       "      <td>53782.0</td>\n",
       "      <td>NaN</td>\n",
       "    </tr>\n",
       "    <tr>\n",
       "      <th>4</th>\n",
       "      <td>1006670001679961544</td>\n",
       "      <td>0.0</td>\n",
       "      <td>0.000000</td>\n",
       "      <td>0.000000</td>\n",
       "      <td>0.0</td>\n",
       "      <td>259200.000000</td>\n",
       "      <td>259200.000000</td>\n",
       "      <td>0.0</td>\n",
       "      <td>NaN</td>\n",
       "    </tr>\n",
       "  </tbody>\n",
       "</table>\n",
       "</div>"
      ],
      "text/plain": [
       "              ref_hash  auctions_count  dia_semana_mean  hora_mean  \\\n",
       "0  1000169251625791246            10.0         5.300000   6.100000   \n",
       "1  1000395625957344683            18.0         4.833333   8.222222   \n",
       "2  1000395625957344683            18.0         4.833333   8.222222   \n",
       "3  1003027494996471685             1.0         6.000000  22.000000   \n",
       "4  1006670001679961544             0.0         0.000000   0.000000   \n",
       "\n",
       "   cantidad de eventos             st  timeToAuction_min  pop_media_apps  \\\n",
       "0                 17.0   10509.519448       11275.349980         85646.0   \n",
       "1                  2.0   21512.080498      110734.885605        196761.0   \n",
       "2                  2.0   21512.080498      110734.885605        196761.0   \n",
       "3                  1.0  162311.481120       75911.481120         53782.0   \n",
       "4                  0.0  259200.000000      259200.000000             0.0   \n",
       "\n",
       "    %Modelo  \n",
       "0       NaN  \n",
       "1  0.591765  \n",
       "2  0.591765  \n",
       "3       NaN  \n",
       "4       NaN  "
      ]
     },
     "execution_count": 440,
     "metadata": {},
     "output_type": "execute_result"
    }
   ],
   "source": [
    "prueba=prueba.merge(merged_model[['ref_hash','%Modelo']], on='ref_hash', how='left')\n",
    "\n"
   ]
  },
  {
   "cell_type": "code",
   "execution_count": 445,
   "metadata": {},
   "outputs": [
    {
     "name": "stdout",
     "output_type": "stream",
     "text": [
      "<class 'pandas.core.frame.DataFrame'>\n",
      "Int64Index: 80351 entries, 0 to 80350\n",
      "Data columns (total 9 columns):\n",
      "ref_hash               80351 non-null int64\n",
      "auctions_count         80351 non-null float64\n",
      "dia_semana_mean        80351 non-null float64\n",
      "hora_mean              80351 non-null float64\n",
      "cantidad de eventos    80351 non-null float64\n",
      "st                     80351 non-null float64\n",
      "timeToAuction_min      80351 non-null float64\n",
      "pop_media_apps         80351 non-null float64\n",
      "%Modelo                80351 non-null float64\n",
      "dtypes: float64(8), int64(1)\n",
      "memory usage: 6.1 MB\n"
     ]
    }
   ],
   "source": [
    "prueba=prueba.merge(merged_model[['ref_hash','%Modelo']], on='ref_hash', how='left')\n",
    "prueba['%Modelo'] = prueba['%Modelo'].fillna(0.75)\n",
    "prueba.info()"
   ]
  },
  {
   "cell_type": "markdown",
   "metadata": {},
   "source": [
    "# agrego los nuevos features a todos"
   ]
  },
  {
   "cell_type": "code",
   "execution_count": 482,
   "metadata": {},
   "outputs": [
    {
     "data": {
      "text/html": [
       "<div>\n",
       "<style scoped>\n",
       "    .dataframe tbody tr th:only-of-type {\n",
       "        vertical-align: middle;\n",
       "    }\n",
       "\n",
       "    .dataframe tbody tr th {\n",
       "        vertical-align: top;\n",
       "    }\n",
       "\n",
       "    .dataframe thead th {\n",
       "        text-align: right;\n",
       "    }\n",
       "</style>\n",
       "<table border=\"1\" class=\"dataframe\">\n",
       "  <thead>\n",
       "    <tr style=\"text-align: right;\">\n",
       "      <th></th>\n",
       "      <th>ref_hash</th>\n",
       "      <th>auctions_count</th>\n",
       "      <th>dia_semana_mean</th>\n",
       "      <th>hora_mean</th>\n",
       "      <th>cantidad de eventos</th>\n",
       "      <th>st</th>\n",
       "      <th>timeToAuction_min</th>\n",
       "    </tr>\n",
       "  </thead>\n",
       "  <tbody>\n",
       "    <tr>\n",
       "      <th>0</th>\n",
       "      <td>1000169251625791246</td>\n",
       "      <td>11.0</td>\n",
       "      <td>5.454545</td>\n",
       "      <td>6.272727</td>\n",
       "      <td>29.0</td>\n",
       "      <td>11275.349980</td>\n",
       "      <td>10509.519448</td>\n",
       "    </tr>\n",
       "    <tr>\n",
       "      <th>1</th>\n",
       "      <td>1000395625957344683</td>\n",
       "      <td>16.0</td>\n",
       "      <td>5.125000</td>\n",
       "      <td>6.125000</td>\n",
       "      <td>2.0</td>\n",
       "      <td>110734.885605</td>\n",
       "      <td>21512.080498</td>\n",
       "    </tr>\n",
       "    <tr>\n",
       "      <th>2</th>\n",
       "      <td>1003027494996471685</td>\n",
       "      <td>3.0</td>\n",
       "      <td>6.666667</td>\n",
       "      <td>21.333333</td>\n",
       "      <td>16.0</td>\n",
       "      <td>75911.481120</td>\n",
       "      <td>162311.481120</td>\n",
       "    </tr>\n",
       "    <tr>\n",
       "      <th>3</th>\n",
       "      <td>1006670001679961544</td>\n",
       "      <td>0.0</td>\n",
       "      <td>0.000000</td>\n",
       "      <td>0.000000</td>\n",
       "      <td>2.0</td>\n",
       "      <td>259200.000000</td>\n",
       "      <td>259200.000000</td>\n",
       "    </tr>\n",
       "    <tr>\n",
       "      <th>4</th>\n",
       "      <td>1007573308966476713</td>\n",
       "      <td>2.0</td>\n",
       "      <td>6.000000</td>\n",
       "      <td>14.500000</td>\n",
       "      <td>1.0</td>\n",
       "      <td>18137.251334</td>\n",
       "      <td>104537.251334</td>\n",
       "    </tr>\n",
       "  </tbody>\n",
       "</table>\n",
       "</div>"
      ],
      "text/plain": [
       "              ref_hash  auctions_count  dia_semana_mean  hora_mean  \\\n",
       "0  1000169251625791246            11.0         5.454545   6.272727   \n",
       "1  1000395625957344683            16.0         5.125000   6.125000   \n",
       "2  1003027494996471685             3.0         6.666667  21.333333   \n",
       "3  1006670001679961544             0.0         0.000000   0.000000   \n",
       "4  1007573308966476713             2.0         6.000000  14.500000   \n",
       "\n",
       "   cantidad de eventos             st  timeToAuction_min  \n",
       "0                 29.0   11275.349980       10509.519448  \n",
       "1                  2.0  110734.885605       21512.080498  \n",
       "2                 16.0   75911.481120      162311.481120  \n",
       "3                  2.0  259200.000000      259200.000000  \n",
       "4                  1.0   18137.251334      104537.251334  "
      ]
     },
     "execution_count": 482,
     "metadata": {},
     "output_type": "execute_result"
    }
   ],
   "source": [
    "st1=aut1[['ref_hash', 'st']]\n",
    "st1.columns=['ref_hash','timeToAuction_min']\n",
    "aut2=aut2.merge(st1, on='ref_hash', how='left')\n",
    "aut2.head()"
   ]
  },
  {
   "cell_type": "code",
   "execution_count": 658,
   "metadata": {},
   "outputs": [],
   "source": [
    "# usa solo las ventanas 2,3,4,5,6\n",
    "st1=aut1[['ref_hash', 'st']]\n",
    "st1.columns=['ref_hash','timeToAuction_min']\n",
    "aut2=aut2.merge(st1, on='ref_hash', how='left')\n",
    "aut2['timeToAuction_min'] = aut2['timeToAuction_min'].fillna(72 * 60 * 60)\n",
    "\n",
    "st2=aut2[['ref_hash', 'st']]\n",
    "st2.columns=['ref_hash','timeToAuction_min']\n",
    "aut3=aut3.merge(st2, on='ref_hash', how='left')\n",
    "aut3['timeToAuction_min'] = aut3['timeToAuction_min'].fillna(72 * 60 * 60)\n",
    "\n",
    "st3=aut3[['ref_hash', 'st']]\n",
    "st3.columns=['ref_hash','timeToAuction_min']\n",
    "aut4=aut4.merge(st3, on='ref_hash', how='left')\n",
    "aut4['timeToAuction_min'] = aut4['timeToAuction_min'].fillna(72 * 60 * 60)\n",
    "\n",
    "st4=aut4[['ref_hash', 'st']]\n",
    "st4.columns=['ref_hash','timeToAuction_min']\n",
    "aut5=aut5.merge(st4, on='ref_hash', how='left')\n",
    "aut5['timeToAuction_min'] = aut5['timeToAuction_min'].fillna(72 * 60 * 60)\n",
    "\n",
    "st5=aut5[['ref_hash', 'st']]\n",
    "st5.columns=['ref_hash','timeToAuction_min']\n",
    "aut6=aut6.merge(st5, on='ref_hash', how='left')\n",
    "aut6['timeToAuction_min'] = aut6['timeToAuction_min'].fillna(72 * 60 * 60)\n",
    "\n",
    "#st6=aut6[['ref_hash', 'st']]\n",
    "#st6.columns=['ref_hash','timeToAuction_min']\n",
    "#target_aut=target_aut.merge(st6, on='ref_hash', how='left')\n",
    "#target_aut['timeToAuction_min'] =target_aut['timeToAuction_min'].fillna(72 * 60 * 60)\n",
    "\n"
   ]
  },
  {
   "cell_type": "code",
   "execution_count": 659,
   "metadata": {},
   "outputs": [],
   "source": [
    "st6=aut6[['ref_hash', 'st']]\n",
    "st6.columns=['ref_hash','timeToAuction_min']\n",
    "target_aut=target_aut.merge(st6, on='ref_hash', how='left')\n",
    "target_aut['timeToAuction_min'] =target_aut['timeToAuction_min'].fillna(72 * 60 * 60)\n"
   ]
  },
  {
   "cell_type": "code",
   "execution_count": 660,
   "metadata": {},
   "outputs": [
    {
     "name": "stdout",
     "output_type": "stream",
     "text": [
      "<class 'pandas.core.frame.DataFrame'>\n",
      "Int64Index: 4037 entries, 0 to 4036\n",
      "Data columns (total 7 columns):\n",
      "ref_hash               4037 non-null int64\n",
      "auctions_count         4037 non-null float64\n",
      "dia_semana_mean        4037 non-null float64\n",
      "hora_mean              4037 non-null float64\n",
      "cantidad de eventos    4037 non-null float64\n",
      "st                     4037 non-null int64\n",
      "timeToAuction_min      4037 non-null float64\n",
      "dtypes: float64(5), int64(2)\n",
      "memory usage: 252.3 KB\n"
     ]
    }
   ],
   "source": [
    "target_aut.info()"
   ]
  },
  {
   "cell_type": "code",
   "execution_count": null,
   "metadata": {},
   "outputs": [],
   "source": []
  },
  {
   "cell_type": "code",
   "execution_count": 488,
   "metadata": {},
   "outputs": [],
   "source": [
    "evts2 = pd.read_csv(\"data/events_ventana2.csv\", dtype = {\"event_id\": np.int16, \"application_id\": np.int16, 'device_countrycode': 'category', 'device_os_version': 'category', 'device_brand': 'category', 'device_model': 'category', 'device_city': 'category', 'session_user_agent': 'category', 'trans_id': 'category', 'user_agent': 'category', 'carrier' : 'category', 'kind': 'category', 'device_os': 'category', 'connection_type': 'category', 'ip_address': 'category', 'device_language': 'category'})\n",
    "evts3 = pd.read_csv(\"data/events_ventana3.csv\", dtype = {\"event_id\": np.int16, \"application_id\": np.int16, 'device_countrycode': 'category', 'device_os_version': 'category', 'device_brand': 'category', 'device_model': 'category', 'device_city': 'category', 'session_user_agent': 'category', 'trans_id': 'category', 'user_agent': 'category', 'carrier' : 'category', 'kind': 'category', 'device_os': 'category', 'connection_type': 'category', 'ip_address': 'category', 'device_language': 'category'})\n",
    "evts4 = pd.read_csv(\"data/events_ventana4.csv\", dtype = {\"event_id\": np.int16, \"application_id\": np.int16, 'device_countrycode': 'category', 'device_os_version': 'category', 'device_brand': 'category', 'device_model': 'category', 'device_city': 'category', 'session_user_agent': 'category', 'trans_id': 'category', 'user_agent': 'category', 'carrier' : 'category', 'kind': 'category', 'device_os': 'category', 'connection_type': 'category', 'ip_address': 'category', 'device_language': 'category'})\n",
    "evts5 = pd.read_csv(\"data/events_ventana5.csv\", dtype = {\"event_id\": np.int16, \"application_id\": np.int16, 'device_countrycode': 'category', 'device_os_version': 'category', 'device_brand': 'category', 'device_model': 'category', 'device_city': 'category', 'session_user_agent': 'category', 'trans_id': 'category', 'user_agent': 'category', 'carrier' : 'category', 'kind': 'category', 'device_os': 'category', 'connection_type': 'category', 'ip_address': 'category', 'device_language': 'category'})\n",
    "evts6 = pd.read_csv(\"data/events_ventana6.csv\", dtype = {\"event_id\": np.int16, \"application_id\": np.int16, 'device_countrycode': 'category', 'device_os_version': 'category', 'device_brand': 'category', 'device_model': 'category', 'device_city': 'category', 'session_user_agent': 'category', 'trans_id': 'category', 'user_agent': 'category', 'carrier' : 'category', 'kind': 'category', 'device_os': 'category', 'connection_type': 'category', 'ip_address': 'category', 'device_language': 'category'})\n",
    "evts7 = pd.read_csv(\"data/events_ventana7.csv\", dtype = {\"event_id\": np.int16, \"application_id\": np.int16, 'device_countrycode': 'category', 'device_os_version': 'category', 'device_brand': 'category', 'device_model': 'category', 'device_city': 'category', 'session_user_agent': 'category', 'trans_id': 'category', 'user_agent': 'category', 'carrier' : 'category', 'kind': 'category', 'device_os': 'category', 'connection_type': 'category', 'ip_address': 'category', 'device_language': 'category'})"
   ]
  },
  {
   "cell_type": "code",
   "execution_count": 661,
   "metadata": {},
   "outputs": [],
   "source": [
    "apps_populares2 = evts2[['application_id', 'ref_hash']].groupby('application_id').count().reset_index()\n",
    "apps_populares2.columns = ['application_id', 'popularidad_app']\n",
    "apps_populares2 = evts2[['ref_hash', 'application_id']].merge(apps_populares2, on = 'application_id')\n",
    "pop2=apps_populares2.groupby('ref_hash')['popularidad_app'].mean().reset_index()\n",
    "pop2.columns=['ref_hash', 'pop_media_apps']\n",
    "aut2=aut2.merge(pop2, on='ref_hash', how='left')\n",
    "aut2['pop_media_apps'] = aut2['pop_media_apps'].fillna(0)\n",
    "\n",
    "apps_populares3 = evts3[['application_id', 'ref_hash']].groupby('application_id').count().reset_index()\n",
    "apps_populares3.columns = ['application_id', 'popularidad_app']\n",
    "apps_populares3 = evts3[['ref_hash', 'application_id']].merge(apps_populares3, on = 'application_id')\n",
    "pop3=apps_populares3.groupby('ref_hash')['popularidad_app'].mean().reset_index()\n",
    "pop3.columns=['ref_hash', 'pop_media_apps']\n",
    "aut3=aut3.merge(pop3, on='ref_hash', how='left')\n",
    "aut3['pop_media_apps'] = aut3['pop_media_apps'].fillna(0)\n",
    "\n",
    "apps_populares4 = evts4[['application_id', 'ref_hash']].groupby('application_id').count().reset_index()\n",
    "apps_populares4.columns = ['application_id', 'popularidad_app']\n",
    "apps_populares4 = evts4[['ref_hash', 'application_id']].merge(apps_populares4, on = 'application_id')\n",
    "pop4=apps_populares4.groupby('ref_hash')['popularidad_app'].mean().reset_index()\n",
    "pop4.columns=['ref_hash', 'pop_media_apps']\n",
    "aut4=aut4.merge(pop4, on='ref_hash', how='left')\n",
    "aut4['pop_media_apps'] = aut4['pop_media_apps'].fillna(0)\n",
    "\n",
    "apps_populares5 = evts5[['application_id', 'ref_hash']].groupby('application_id').count().reset_index()\n",
    "apps_populares5.columns = ['application_id', 'popularidad_app']\n",
    "apps_populares5 = evts5[['ref_hash', 'application_id']].merge(apps_populares5, on = 'application_id')\n",
    "pop5=apps_populares5.groupby('ref_hash')['popularidad_app'].mean().reset_index()\n",
    "pop5.columns=['ref_hash', 'pop_media_apps']\n",
    "aut5=aut5.merge(pop5, on='ref_hash', how='left')\n",
    "aut5['pop_media_apps'] = aut5['pop_media_apps'].fillna(0)\n",
    "\n",
    "apps_populares6 = evts6[['application_id', 'ref_hash']].groupby('application_id').count().reset_index()\n",
    "apps_populares6.columns = ['application_id', 'popularidad_app']\n",
    "apps_populares6 = evts6[['ref_hash', 'application_id']].merge(apps_populares6, on = 'application_id')\n",
    "pop6=apps_populares6.groupby('ref_hash')['popularidad_app'].mean().reset_index()\n",
    "pop6.columns=['ref_hash', 'pop_media_apps']\n",
    "aut6=aut6.merge(pop6, on='ref_hash', how='left')\n",
    "aut6['pop_media_apps'] = aut6['pop_media_apps'].fillna(0)\n",
    "\n",
    "apps_populares7 = evts7[['application_id', 'ref_hash']].groupby('application_id').count().reset_index()\n",
    "apps_populares7.columns = ['application_id', 'popularidad_app']\n",
    "apps_populares7 = evts7[['ref_hash', 'application_id']].merge(apps_populares7, on = 'application_id')\n",
    "pop7=apps_populares7.groupby('ref_hash')['popularidad_app'].mean().reset_index()\n",
    "pop7.columns=['ref_hash', 'pop_media_apps']\n",
    "target_aut=target_aut.merge(pop7, on='ref_hash', how='left')\n",
    "target_aut['pop_media_apps'] = target_aut['pop_media_apps'].fillna(0)\n"
   ]
  },
  {
   "cell_type": "code",
   "execution_count": 662,
   "metadata": {},
   "outputs": [
    {
     "name": "stdout",
     "output_type": "stream",
     "text": [
      "<class 'pandas.core.frame.DataFrame'>\n",
      "Int64Index: 4037 entries, 0 to 4036\n",
      "Data columns (total 8 columns):\n",
      "ref_hash               4037 non-null int64\n",
      "auctions_count         4037 non-null float64\n",
      "dia_semana_mean        4037 non-null float64\n",
      "hora_mean              4037 non-null float64\n",
      "cantidad de eventos    4037 non-null float64\n",
      "st                     4037 non-null int64\n",
      "timeToAuction_min      4037 non-null float64\n",
      "pop_media_apps         4037 non-null float64\n",
      "dtypes: float64(6), int64(2)\n",
      "memory usage: 283.9 KB\n"
     ]
    }
   ],
   "source": [
    "target_aut.info()"
   ]
  },
  {
   "cell_type": "code",
   "execution_count": 663,
   "metadata": {},
   "outputs": [],
   "source": [
    "aut2=aut2.merge(merged_model[['ref_hash','%Modelo']], on='ref_hash', how='left')\n",
    "aut2['%Modelo'] = aut2['%Modelo'].fillna(0.75)\n",
    "\n",
    "aut3=aut3.merge(merged_model[['ref_hash','%Modelo']], on='ref_hash', how='left')\n",
    "aut3['%Modelo'] = aut3['%Modelo'].fillna(0.75)\n",
    "\n",
    "aut4=aut4.merge(merged_model[['ref_hash','%Modelo']], on='ref_hash', how='left')\n",
    "aut4['%Modelo'] = aut4['%Modelo'].fillna(0.75)\n",
    "\n",
    "aut5=aut5.merge(merged_model[['ref_hash','%Modelo']], on='ref_hash', how='left')\n",
    "aut5['%Modelo'] = aut5['%Modelo'].fillna(0.75)\n",
    "\n",
    "aut6=aut6.merge(merged_model[['ref_hash','%Modelo']], on='ref_hash', how='left')\n",
    "aut6['%Modelo'] = aut6['%Modelo'].fillna(0.75)\n",
    "\n",
    "target_aut=target_aut.merge(merged_model[['ref_hash','%Modelo']], on='ref_hash', how='left')\n",
    "target_aut['%Modelo'] = target_aut['%Modelo'].fillna(0.75)\n",
    "\n"
   ]
  },
  {
   "cell_type": "code",
   "execution_count": 664,
   "metadata": {},
   "outputs": [
    {
     "data": {
      "text/plain": [
       "4037"
      ]
     },
     "execution_count": 664,
     "metadata": {},
     "output_type": "execute_result"
    }
   ],
   "source": [
    "target_aut['ref_hash'].unique().size"
   ]
  },
  {
   "cell_type": "code",
   "execution_count": 675,
   "metadata": {},
   "outputs": [],
   "source": [
    "aut2.drop_duplicates(keep=\"first\",inplace=True) \n",
    "aut3.drop_duplicates(keep=\"first\",inplace=True) \n",
    "aut4.drop_duplicates(keep=\"first\",inplace=True)\n",
    "aut5.drop_duplicates(keep=\"first\",inplace=True) \n",
    "aut6.drop_duplicates(keep=\"first\",inplace=True) \n",
    "target_aut.drop_duplicates(keep=\"first\",inplace=True) "
   ]
  },
  {
   "cell_type": "code",
   "execution_count": 676,
   "metadata": {},
   "outputs": [
    {
     "data": {
      "text/plain": [
       "4037"
      ]
     },
     "execution_count": 676,
     "metadata": {},
     "output_type": "execute_result"
    }
   ],
   "source": [
    "target_aut['ref_hash'].unique().size"
   ]
  },
  {
   "cell_type": "code",
   "execution_count": 677,
   "metadata": {},
   "outputs": [
    {
     "data": {
      "text/plain": [
       "4037"
      ]
     },
     "execution_count": 677,
     "metadata": {},
     "output_type": "execute_result"
    }
   ],
   "source": [
    "target = pd.read_csv('data/target_competencia_ids.csv')\n",
    "target['ref_hash'] = target['ref_hash'].transform(lambda x: str(x)[:-3])\n",
    "target['ref_hash'] = target['ref_hash'].astype(np.int64)\n",
    "target.drop_duplicates(subset = 'ref_hash', inplace = True)\n",
    "merged=target_aut.merge(target[['ref_hash']], on='ref_hash')\n",
    "merged['ref_hash'].unique().size"
   ]
  },
  {
   "cell_type": "code",
   "execution_count": 678,
   "metadata": {},
   "outputs": [
    {
     "name": "stdout",
     "output_type": "stream",
     "text": [
      "<class 'pandas.core.frame.DataFrame'>\n",
      "Int64Index: 72242 entries, 0 to 81817\n",
      "Data columns (total 9 columns):\n",
      "ref_hash               72242 non-null int64\n",
      "auctions_count         72242 non-null float64\n",
      "dia_semana_mean        72242 non-null float64\n",
      "hora_mean              72242 non-null float64\n",
      "cantidad de eventos    72242 non-null float64\n",
      "st                     72242 non-null float64\n",
      "timeToAuction_min      72242 non-null float64\n",
      "pop_media_apps         72242 non-null float64\n",
      "%Modelo                72242 non-null float64\n",
      "dtypes: float64(8), int64(1)\n",
      "memory usage: 5.5 MB\n"
     ]
    }
   ],
   "source": [
    "aut2.info()"
   ]
  },
  {
   "cell_type": "code",
   "execution_count": 495,
   "metadata": {},
   "outputs": [
    {
     "data": {
      "text/plain": [
       "Index(['ref_hash', 'auctions_count', 'dia_semana_mean', 'hora_mean',\n",
       "       'cantidad de eventos', 'st', 'timeToAuction_min', 'pop_media_apps',\n",
       "       '%Modelo'],\n",
       "      dtype='object')"
      ]
     },
     "execution_count": 495,
     "metadata": {},
     "output_type": "execute_result"
    }
   ],
   "source": [
    "aut6.columns"
   ]
  },
  {
   "cell_type": "code",
   "execution_count": 541,
   "metadata": {},
   "outputs": [
    {
     "data": {
      "text/html": [
       "<div>\n",
       "<style scoped>\n",
       "    .dataframe tbody tr th:only-of-type {\n",
       "        vertical-align: middle;\n",
       "    }\n",
       "\n",
       "    .dataframe tbody tr th {\n",
       "        vertical-align: top;\n",
       "    }\n",
       "\n",
       "    .dataframe thead th {\n",
       "        text-align: right;\n",
       "    }\n",
       "</style>\n",
       "<table border=\"1\" class=\"dataframe\">\n",
       "  <thead>\n",
       "    <tr style=\"text-align: right;\">\n",
       "      <th></th>\n",
       "      <th>ref_hash</th>\n",
       "      <th>auctions_count</th>\n",
       "      <th>dia_semana_mean</th>\n",
       "      <th>hora_mean</th>\n",
       "      <th>cantidad de eventos</th>\n",
       "      <th>st</th>\n",
       "      <th>timeToAuction_min</th>\n",
       "      <th>pop_media_apps</th>\n",
       "      <th>%Modelo</th>\n",
       "    </tr>\n",
       "  </thead>\n",
       "  <tbody>\n",
       "    <tr>\n",
       "      <th>0</th>\n",
       "      <td>1000169251625791246</td>\n",
       "      <td>13.0</td>\n",
       "      <td>4.538462</td>\n",
       "      <td>11.923077</td>\n",
       "      <td>2.0</td>\n",
       "      <td>0</td>\n",
       "      <td>76114.647428</td>\n",
       "      <td>372540.000000</td>\n",
       "      <td>0.750000</td>\n",
       "    </tr>\n",
       "    <tr>\n",
       "      <th>1</th>\n",
       "      <td>1000395625957344683</td>\n",
       "      <td>15.0</td>\n",
       "      <td>3.533333</td>\n",
       "      <td>15.733333</td>\n",
       "      <td>0.0</td>\n",
       "      <td>0</td>\n",
       "      <td>8034.974209</td>\n",
       "      <td>0.000000</td>\n",
       "      <td>0.591765</td>\n",
       "    </tr>\n",
       "    <tr>\n",
       "      <th>2</th>\n",
       "      <td>1000395625957344683</td>\n",
       "      <td>15.0</td>\n",
       "      <td>3.533333</td>\n",
       "      <td>15.733333</td>\n",
       "      <td>0.0</td>\n",
       "      <td>0</td>\n",
       "      <td>8034.974209</td>\n",
       "      <td>0.000000</td>\n",
       "      <td>0.591765</td>\n",
       "    </tr>\n",
       "    <tr>\n",
       "      <th>3</th>\n",
       "      <td>1003027494996471685</td>\n",
       "      <td>168.0</td>\n",
       "      <td>3.220238</td>\n",
       "      <td>8.952381</td>\n",
       "      <td>9.0</td>\n",
       "      <td>0</td>\n",
       "      <td>12171.691046</td>\n",
       "      <td>111596.111111</td>\n",
       "      <td>0.750000</td>\n",
       "    </tr>\n",
       "    <tr>\n",
       "      <th>4</th>\n",
       "      <td>1006670001679961544</td>\n",
       "      <td>3.0</td>\n",
       "      <td>4.333333</td>\n",
       "      <td>19.000000</td>\n",
       "      <td>0.0</td>\n",
       "      <td>0</td>\n",
       "      <td>64857.606340</td>\n",
       "      <td>0.000000</td>\n",
       "      <td>0.750000</td>\n",
       "    </tr>\n",
       "  </tbody>\n",
       "</table>\n",
       "</div>"
      ],
      "text/plain": [
       "              ref_hash  auctions_count  dia_semana_mean  hora_mean  \\\n",
       "0  1000169251625791246            13.0         4.538462  11.923077   \n",
       "1  1000395625957344683            15.0         3.533333  15.733333   \n",
       "2  1000395625957344683            15.0         3.533333  15.733333   \n",
       "3  1003027494996471685           168.0         3.220238   8.952381   \n",
       "4  1006670001679961544             3.0         4.333333  19.000000   \n",
       "\n",
       "   cantidad de eventos  st  timeToAuction_min  pop_media_apps   %Modelo  \n",
       "0                  2.0   0       76114.647428   372540.000000  0.750000  \n",
       "1                  0.0   0        8034.974209        0.000000  0.591765  \n",
       "2                  0.0   0        8034.974209        0.000000  0.591765  \n",
       "3                  9.0   0       12171.691046   111596.111111  0.750000  \n",
       "4                  0.0   0       64857.606340        0.000000  0.750000  "
      ]
     },
     "execution_count": 541,
     "metadata": {},
     "output_type": "execute_result"
    }
   ],
   "source": [
    "target_aut.head()"
   ]
  },
  {
   "cell_type": "code",
   "execution_count": 679,
   "metadata": {},
   "outputs": [],
   "source": [
    "aut2=aut2[['ref_hash', 'auctions_count', 'dia_semana_mean', 'hora_mean',\n",
    "       'cantidad de eventos', 'timeToAuction_min', 'pop_media_apps',\n",
    "       '%Modelo', 'st']]\n",
    "aut3=aut3[['ref_hash', 'auctions_count', 'dia_semana_mean', 'hora_mean',\n",
    "       'cantidad de eventos', 'timeToAuction_min', 'pop_media_apps',\n",
    "       '%Modelo', 'st']]\n",
    "aut4=aut4[['ref_hash', 'auctions_count', 'dia_semana_mean', 'hora_mean',\n",
    "       'cantidad de eventos', 'timeToAuction_min', 'pop_media_apps',\n",
    "       '%Modelo', 'st']]\n",
    "aut5=aut5[['ref_hash', 'auctions_count', 'dia_semana_mean', 'hora_mean',\n",
    "       'cantidad de eventos', 'timeToAuction_min', 'pop_media_apps',\n",
    "       '%Modelo', 'st']]\n",
    "aut6=aut6[['ref_hash', 'auctions_count', 'dia_semana_mean', 'hora_mean',\n",
    "       'cantidad de eventos', 'timeToAuction_min', 'pop_media_apps',\n",
    "       '%Modelo', 'st']]\n",
    "target_aut=target_aut[['ref_hash', 'auctions_count', 'dia_semana_mean', 'hora_mean',\n",
    "       'cantidad de eventos', 'timeToAuction_min', 'pop_media_apps',\n",
    "       '%Modelo', 'st']]\n"
   ]
  },
  {
   "cell_type": "code",
   "execution_count": 681,
   "metadata": {},
   "outputs": [
    {
     "data": {
      "text/plain": [
       "4037"
      ]
     },
     "execution_count": 681,
     "metadata": {},
     "output_type": "execute_result"
    }
   ],
   "source": [
    "target_aut['ref_hash'].unique().size"
   ]
  },
  {
   "cell_type": "code",
   "execution_count": 682,
   "metadata": {},
   "outputs": [],
   "source": [
    "aut2.to_csv(path_or_buf = \"data/features_aut2_more.csv\", index = False)\n",
    "aut3.to_csv(path_or_buf = \"data/features_aut3_more.csv\", index = False)\n",
    "aut4.to_csv(path_or_buf = \"data/features_aut4_more.csv\", index = False)\n",
    "aut5.to_csv(path_or_buf = \"data/features_aut5_more.csv\", index = False)\n",
    "aut6.to_csv(path_or_buf = \"data/features_aut6_more.csv\", index = False)\n",
    "target_aut.to_csv(path_or_buf = \"data/features_target_more.csv\", index = False)"
   ]
  },
  {
   "cell_type": "markdown",
   "metadata": {},
   "source": [
    "# agrego los mismos features a installs"
   ]
  },
  {
   "cell_type": "code",
   "execution_count": 684,
   "metadata": {},
   "outputs": [],
   "source": [
    "# usa solo las ventanas 2,3,4,5,6\n",
    "sc1=inst1[['ref_hash', 'sc']]\n",
    "sc1.columns=['ref_hash','timeToConversion_min']\n",
    "inst2=inst2.merge(sc1, on='ref_hash', how='left')\n",
    "inst2['timeToConversion_min'] = inst2['timeToConversion_min'].fillna(72 * 60 * 60)\n",
    "\n",
    "sc2=inst2[['ref_hash', 'sc']]\n",
    "sc2.columns=['ref_hash','timeToConversion_min']\n",
    "inst3=inst3.merge(sc2, on='ref_hash', how='left')\n",
    "inst3['timeToConversion_min'] = inst3['timeToConversion_min'].fillna(72 * 60 * 60)\n",
    "\n",
    "sc3=inst3[['ref_hash', 'sc']]\n",
    "sc3.columns=['ref_hash','timeToConversion_min']\n",
    "inst4=inst4.merge(sc3, on='ref_hash', how='left')\n",
    "inst4['timeToConversion_min'] = inst4['timeToConversion_min'].fillna(72 * 60 * 60)\n",
    "\n",
    "sc4=inst4[['ref_hash', 'sc']]\n",
    "sc4.columns=['ref_hash','timeToConversion_min']\n",
    "inst5=inst5.merge(sc4, on='ref_hash', how='left')\n",
    "inst5['timeToConversion_min'] = inst5['timeToConversion_min'].fillna(72 * 60 * 60)\n",
    "\n",
    "sc5=inst5[['ref_hash', 'sc']]\n",
    "sc5.columns=['ref_hash','timeToConversion_min']\n",
    "inst6=inst6.merge(sc5, on='ref_hash', how='left')\n",
    "inst6['timeToConversion_min'] = inst2['timeToConversion_min'].fillna(72 * 60 * 60)\n",
    "\n",
    "\n",
    "\n",
    "sc6=inst6[['ref_hash', 'sc']]\n",
    "sc6.columns=['ref_hash','timeToConversion_min']\n",
    "target_inst=target_inst.merge(sc6, on='ref_hash', how='left')\n",
    "target_inst['timeToConversion_min'] =target_inst['timeToConversion_min'].fillna(72 * 60 * 60)\n"
   ]
  },
  {
   "cell_type": "code",
   "execution_count": 685,
   "metadata": {},
   "outputs": [
    {
     "name": "stdout",
     "output_type": "stream",
     "text": [
      "<class 'pandas.core.frame.DataFrame'>\n",
      "Int64Index: 4037 entries, 0 to 4036\n",
      "Data columns (total 7 columns):\n",
      "ref_hash                4037 non-null int64\n",
      "installs_count          4037 non-null float64\n",
      "dia_semana_mean         4037 non-null float64\n",
      "hora_mean               4037 non-null float64\n",
      "cantidad de eventos     4037 non-null float64\n",
      "sc                      4037 non-null int64\n",
      "timeToConversion_min    4037 non-null float64\n",
      "dtypes: float64(5), int64(2)\n",
      "memory usage: 252.3 KB\n"
     ]
    }
   ],
   "source": [
    "target_inst.info()"
   ]
  },
  {
   "cell_type": "code",
   "execution_count": 686,
   "metadata": {},
   "outputs": [],
   "source": [
    "apps_populares2 = evts2[['application_id', 'ref_hash']].groupby('application_id').count().reset_index()\n",
    "apps_populares2.columns = ['application_id', 'popularidad_app']\n",
    "apps_populares2 = evts2[['ref_hash', 'application_id']].merge(apps_populares2, on = 'application_id')\n",
    "pop2=apps_populares2.groupby('ref_hash')['popularidad_app'].mean().reset_index()\n",
    "pop2.columns=['ref_hash', 'pop_media_apps']\n",
    "inst2=inst2.merge(pop2, on='ref_hash', how='left')\n",
    "inst2['pop_media_apps'] = inst2['pop_media_apps'].fillna(0)\n",
    "\n",
    "apps_populares3 = evts3[['application_id', 'ref_hash']].groupby('application_id').count().reset_index()\n",
    "apps_populares3.columns = ['application_id', 'popularidad_app']\n",
    "apps_populares3 = evts3[['ref_hash', 'application_id']].merge(apps_populares3, on = 'application_id')\n",
    "pop3=apps_populares3.groupby('ref_hash')['popularidad_app'].mean().reset_index()\n",
    "pop3.columns=['ref_hash', 'pop_media_apps']\n",
    "inst3=inst3.merge(pop3, on='ref_hash', how='left')\n",
    "inst3['pop_media_apps'] = inst3['pop_media_apps'].fillna(0)\n",
    "\n",
    "apps_populares4 = evts4[['application_id', 'ref_hash']].groupby('application_id').count().reset_index()\n",
    "apps_populares4.columns = ['application_id', 'popularidad_app']\n",
    "apps_populares4 = evts4[['ref_hash', 'application_id']].merge(apps_populares4, on = 'application_id')\n",
    "pop4=apps_populares4.groupby('ref_hash')['popularidad_app'].mean().reset_index()\n",
    "pop4.columns=['ref_hash', 'pop_media_apps']\n",
    "inst4=inst4.merge(pop4, on='ref_hash', how='left')\n",
    "inst4['pop_media_apps'] = inst4['pop_media_apps'].fillna(0)\n",
    "\n",
    "apps_populares5 = evts5[['application_id', 'ref_hash']].groupby('application_id').count().reset_index()\n",
    "apps_populares5.columns = ['application_id', 'popularidad_app']\n",
    "apps_populares5 = evts5[['ref_hash', 'application_id']].merge(apps_populares5, on = 'application_id')\n",
    "pop5=apps_populares5.groupby('ref_hash')['popularidad_app'].mean().reset_index()\n",
    "pop5.columns=['ref_hash', 'pop_media_apps']\n",
    "inst5=inst5.merge(pop5, on='ref_hash', how='left')\n",
    "inst5['pop_media_apps'] = inst5['pop_media_apps'].fillna(0)\n",
    "\n",
    "apps_populares6 = evts6[['application_id', 'ref_hash']].groupby('application_id').count().reset_index()\n",
    "apps_populares6.columns = ['application_id', 'popularidad_app']\n",
    "apps_populares6 = evts6[['ref_hash', 'application_id']].merge(apps_populares6, on = 'application_id')\n",
    "pop6=apps_populares6.groupby('ref_hash')['popularidad_app'].mean().reset_index()\n",
    "pop6.columns=['ref_hash', 'pop_media_apps']\n",
    "inst6=inst6.merge(pop6, on='ref_hash', how='left')\n",
    "inst6['pop_media_apps'] = inst6['pop_media_apps'].fillna(0)\n",
    "\n",
    "apps_populares7 = evts7[['application_id', 'ref_hash']].groupby('application_id').count().reset_index()\n",
    "apps_populares7.columns = ['application_id', 'popularidad_app']\n",
    "apps_populares7 = evts7[['ref_hash', 'application_id']].merge(apps_populares7, on = 'application_id')\n",
    "pop7=apps_populares7.groupby('ref_hash')['popularidad_app'].mean().reset_index()\n",
    "pop7.columns=['ref_hash', 'pop_media_apps']\n",
    "target_inst=target_inst.merge(pop7, on='ref_hash', how='left')\n",
    "target_inst['pop_media_apps'] = target_inst['pop_media_apps'].fillna(0)"
   ]
  },
  {
   "cell_type": "code",
   "execution_count": 687,
   "metadata": {},
   "outputs": [
    {
     "name": "stdout",
     "output_type": "stream",
     "text": [
      "<class 'pandas.core.frame.DataFrame'>\n",
      "Int64Index: 4037 entries, 0 to 4036\n",
      "Data columns (total 8 columns):\n",
      "ref_hash                4037 non-null int64\n",
      "installs_count          4037 non-null float64\n",
      "dia_semana_mean         4037 non-null float64\n",
      "hora_mean               4037 non-null float64\n",
      "cantidad de eventos     4037 non-null float64\n",
      "sc                      4037 non-null int64\n",
      "timeToConversion_min    4037 non-null float64\n",
      "pop_media_apps          4037 non-null float64\n",
      "dtypes: float64(6), int64(2)\n",
      "memory usage: 283.9 KB\n"
     ]
    }
   ],
   "source": [
    "target_inst.info()"
   ]
  },
  {
   "cell_type": "code",
   "execution_count": 688,
   "metadata": {},
   "outputs": [],
   "source": [
    "inst2=inst2.merge(merged_model[['ref_hash','%Modelo']], on='ref_hash', how='left')\n",
    "inst2['%Modelo'] = inst2['%Modelo'].fillna(0.75)\n",
    "\n",
    "inst3=inst3.merge(merged_model[['ref_hash','%Modelo']], on='ref_hash', how='left')\n",
    "inst3['%Modelo'] = inst3['%Modelo'].fillna(0.75)\n",
    "\n",
    "inst4=inst4.merge(merged_model[['ref_hash','%Modelo']], on='ref_hash', how='left')\n",
    "inst4['%Modelo'] = inst4['%Modelo'].fillna(0.75)\n",
    "\n",
    "inst5=inst5.merge(merged_model[['ref_hash','%Modelo']], on='ref_hash', how='left')\n",
    "inst5['%Modelo'] = inst5['%Modelo'].fillna(0.75)\n",
    "\n",
    "inst6=inst6.merge(merged_model[['ref_hash','%Modelo']], on='ref_hash', how='left')\n",
    "inst6['%Modelo'] = inst6['%Modelo'].fillna(0.75)\n",
    "\n",
    "target_inst=target_inst.merge(merged_model[['ref_hash','%Modelo']], on='ref_hash', how='left')\n",
    "target_inst['%Modelo'] = target_inst['%Modelo'].fillna(0.75)\n"
   ]
  },
  {
   "cell_type": "code",
   "execution_count": 690,
   "metadata": {},
   "outputs": [],
   "source": [
    "inst2.drop_duplicates(keep=\"first\",inplace=True) \n",
    "inst3.drop_duplicates(keep=\"first\",inplace=True) \n",
    "inst4.drop_duplicates(keep=\"first\",inplace=True)\n",
    "inst5.drop_duplicates(keep=\"first\",inplace=True) \n",
    "inst6.drop_duplicates(keep=\"first\",inplace=True) \n",
    "target_inst.drop_duplicates(keep=\"first\",inplace=True) "
   ]
  },
  {
   "cell_type": "code",
   "execution_count": 691,
   "metadata": {},
   "outputs": [
    {
     "name": "stdout",
     "output_type": "stream",
     "text": [
      "<class 'pandas.core.frame.DataFrame'>\n",
      "Int64Index: 4037 entries, 0 to 4771\n",
      "Data columns (total 9 columns):\n",
      "ref_hash                4037 non-null int64\n",
      "installs_count          4037 non-null float64\n",
      "dia_semana_mean         4037 non-null float64\n",
      "hora_mean               4037 non-null float64\n",
      "cantidad de eventos     4037 non-null float64\n",
      "sc                      4037 non-null int64\n",
      "timeToConversion_min    4037 non-null float64\n",
      "pop_media_apps          4037 non-null float64\n",
      "%Modelo                 4037 non-null float64\n",
      "dtypes: float64(7), int64(2)\n",
      "memory usage: 315.4 KB\n"
     ]
    }
   ],
   "source": [
    "target_inst.info()"
   ]
  },
  {
   "cell_type": "code",
   "execution_count": 692,
   "metadata": {},
   "outputs": [
    {
     "data": {
      "text/plain": [
       "Index(['ref_hash', 'installs_count', 'dia_semana_mean', 'hora_mean',\n",
       "       'cantidad de eventos', 'sc', 'timeToConversion_min', 'pop_media_apps',\n",
       "       '%Modelo'],\n",
       "      dtype='object')"
      ]
     },
     "execution_count": 692,
     "metadata": {},
     "output_type": "execute_result"
    }
   ],
   "source": [
    "target_inst.columns"
   ]
  },
  {
   "cell_type": "code",
   "execution_count": 697,
   "metadata": {},
   "outputs": [],
   "source": [
    "inst2=inst2[['ref_hash', 'installs_count', 'dia_semana_mean', 'hora_mean',\n",
    "       'cantidad de eventos', 'timeToConversion_min', 'pop_media_apps',\n",
    "       '%Modelo', 'sc']]\n",
    "inst3=inst3[['ref_hash', 'installs_count', 'dia_semana_mean', 'hora_mean',\n",
    "       'cantidad de eventos', 'timeToConversion_min', 'pop_media_apps',\n",
    "       '%Modelo', 'sc']]\n",
    "\n",
    "inst4=inst4[['ref_hash', 'installs_count', 'dia_semana_mean', 'hora_mean',\n",
    "       'cantidad de eventos', 'timeToConversion_min', 'pop_media_apps',\n",
    "       '%Modelo', 'sc']]\n",
    "\n",
    "inst5=inst5[['ref_hash', 'installs_count', 'dia_semana_mean', 'hora_mean',\n",
    "       'cantidad de eventos', 'timeToConversion_min', 'pop_media_apps',\n",
    "       '%Modelo', 'sc']]\n",
    "\n",
    "inst6=inst6[['ref_hash', 'installs_count', 'dia_semana_mean', 'hora_mean',\n",
    "       'cantidad de eventos', 'timeToConversion_min', 'pop_media_apps',\n",
    "       '%Modelo', 'sc']]\n",
    "\n",
    "target_inst=target_inst[['ref_hash', 'installs_count', 'dia_semana_mean', 'hora_mean',\n",
    "       'cantidad de eventos', 'timeToConversion_min', 'pop_media_apps',\n",
    "       '%Modelo', 'sc']]\n",
    "\n",
    "\n"
   ]
  },
  {
   "cell_type": "code",
   "execution_count": 698,
   "metadata": {},
   "outputs": [
    {
     "data": {
      "text/html": [
       "<div>\n",
       "<style scoped>\n",
       "    .dataframe tbody tr th:only-of-type {\n",
       "        vertical-align: middle;\n",
       "    }\n",
       "\n",
       "    .dataframe tbody tr th {\n",
       "        vertical-align: top;\n",
       "    }\n",
       "\n",
       "    .dataframe thead th {\n",
       "        text-align: right;\n",
       "    }\n",
       "</style>\n",
       "<table border=\"1\" class=\"dataframe\">\n",
       "  <thead>\n",
       "    <tr style=\"text-align: right;\">\n",
       "      <th></th>\n",
       "      <th>ref_hash</th>\n",
       "      <th>installs_count</th>\n",
       "      <th>dia_semana_mean</th>\n",
       "      <th>hora_mean</th>\n",
       "      <th>cantidad de eventos</th>\n",
       "      <th>timeToConversion_min</th>\n",
       "      <th>pop_media_apps</th>\n",
       "      <th>%Modelo</th>\n",
       "      <th>sc</th>\n",
       "    </tr>\n",
       "  </thead>\n",
       "  <tbody>\n",
       "    <tr>\n",
       "      <th>0</th>\n",
       "      <td>1000169251625791246</td>\n",
       "      <td>0.0</td>\n",
       "      <td>0.0</td>\n",
       "      <td>0.0</td>\n",
       "      <td>2.0</td>\n",
       "      <td>259200.0</td>\n",
       "      <td>372540.000000</td>\n",
       "      <td>0.750000</td>\n",
       "      <td>0</td>\n",
       "    </tr>\n",
       "    <tr>\n",
       "      <th>1</th>\n",
       "      <td>1000395625957344683</td>\n",
       "      <td>0.0</td>\n",
       "      <td>0.0</td>\n",
       "      <td>0.0</td>\n",
       "      <td>0.0</td>\n",
       "      <td>259200.0</td>\n",
       "      <td>0.000000</td>\n",
       "      <td>0.591765</td>\n",
       "      <td>0</td>\n",
       "    </tr>\n",
       "    <tr>\n",
       "      <th>3</th>\n",
       "      <td>1003027494996471685</td>\n",
       "      <td>0.0</td>\n",
       "      <td>0.0</td>\n",
       "      <td>0.0</td>\n",
       "      <td>9.0</td>\n",
       "      <td>259200.0</td>\n",
       "      <td>111596.111111</td>\n",
       "      <td>0.750000</td>\n",
       "      <td>0</td>\n",
       "    </tr>\n",
       "    <tr>\n",
       "      <th>4</th>\n",
       "      <td>1006670001679961544</td>\n",
       "      <td>0.0</td>\n",
       "      <td>0.0</td>\n",
       "      <td>0.0</td>\n",
       "      <td>0.0</td>\n",
       "      <td>259200.0</td>\n",
       "      <td>0.000000</td>\n",
       "      <td>0.750000</td>\n",
       "      <td>0</td>\n",
       "    </tr>\n",
       "    <tr>\n",
       "      <th>5</th>\n",
       "      <td>1007573308966476713</td>\n",
       "      <td>0.0</td>\n",
       "      <td>0.0</td>\n",
       "      <td>0.0</td>\n",
       "      <td>0.0</td>\n",
       "      <td>259200.0</td>\n",
       "      <td>0.000000</td>\n",
       "      <td>0.750000</td>\n",
       "      <td>0</td>\n",
       "    </tr>\n",
       "  </tbody>\n",
       "</table>\n",
       "</div>"
      ],
      "text/plain": [
       "              ref_hash  installs_count  dia_semana_mean  hora_mean  \\\n",
       "0  1000169251625791246             0.0              0.0        0.0   \n",
       "1  1000395625957344683             0.0              0.0        0.0   \n",
       "3  1003027494996471685             0.0              0.0        0.0   \n",
       "4  1006670001679961544             0.0              0.0        0.0   \n",
       "5  1007573308966476713             0.0              0.0        0.0   \n",
       "\n",
       "   cantidad de eventos  timeToConversion_min  pop_media_apps   %Modelo  sc  \n",
       "0                  2.0              259200.0   372540.000000  0.750000   0  \n",
       "1                  0.0              259200.0        0.000000  0.591765   0  \n",
       "3                  9.0              259200.0   111596.111111  0.750000   0  \n",
       "4                  0.0              259200.0        0.000000  0.750000   0  \n",
       "5                  0.0              259200.0        0.000000  0.750000   0  "
      ]
     },
     "execution_count": 698,
     "metadata": {},
     "output_type": "execute_result"
    }
   ],
   "source": [
    "target_inst.head()"
   ]
  },
  {
   "cell_type": "code",
   "execution_count": 695,
   "metadata": {},
   "outputs": [],
   "source": [
    "inst2.to_csv(path_or_buf = \"data/features_inst2_more.csv\", index = False)\n",
    "inst3.to_csv(path_or_buf = \"data/features_inst3_more.csv\", index = False)\n",
    "inst4.to_csv(path_or_buf = \"data/features_inst4_more.csv\", index = False)\n",
    "inst5.to_csv(path_or_buf = \"data/features_inst5_more.csv\", index = False)\n",
    "inst6.to_csv(path_or_buf = \"data/features_inst6_more.csv\", index = False)\n",
    "target_inst.to_csv(path_or_buf = \"data/features_target_inst_more.csv\", index = False)"
   ]
  },
  {
   "cell_type": "code",
   "execution_count": 696,
   "metadata": {},
   "outputs": [
    {
     "name": "stdout",
     "output_type": "stream",
     "text": [
      "<class 'pandas.core.frame.DataFrame'>\n",
      "Int64Index: 4037 entries, 0 to 4771\n",
      "Data columns (total 9 columns):\n",
      "ref_hash                4037 non-null int64\n",
      "installs_count          4037 non-null float64\n",
      "dia_semana_mean         4037 non-null float64\n",
      "hora_mean               4037 non-null float64\n",
      "cantidad de eventos     4037 non-null float64\n",
      "timeToConversion_min    4037 non-null float64\n",
      "pop_media_apps          4037 non-null float64\n",
      "%Modelo                 4037 non-null float64\n",
      "sc                      4037 non-null int64\n",
      "dtypes: float64(7), int64(2)\n",
      "memory usage: 315.4 KB\n"
     ]
    }
   ],
   "source": [
    "target_inst.info()"
   ]
  },
  {
   "cell_type": "code",
   "execution_count": null,
   "metadata": {},
   "outputs": [],
   "source": []
  },
  {
   "cell_type": "markdown",
   "metadata": {},
   "source": [
    "# Corro los modelos auctions"
   ]
  },
  {
   "cell_type": "code",
   "execution_count": 554,
   "metadata": {},
   "outputs": [],
   "source": [
    "from sklearn.ensemble import RandomForestRegressor\n",
    "from sklearn.datasets import make_regression\n",
    "from sklearn.ensemble import VotingClassifier\n",
    "from sklearn.model_selection import train_test_split\n",
    "from sklearn.metrics import mean_squared_error\n",
    "from sklearn.ensemble import GradientBoostingRegressor\n",
    "from sklearn.ensemble import AdaBoostRegressor\n",
    "from sklearn.tree import DecisionTreeRegressor\n",
    "from sklearn.linear_model import Ridge\n",
    "from sklearn.linear_model import Lasso\n",
    "from sklearn.ensemble import ExtraTreesRegressor\n",
    "from sklearn.model_selection import RepeatedStratifiedKFold\n",
    "import xgboost as xgb"
   ]
  },
  {
   "cell_type": "markdown",
   "metadata": {},
   "source": [
    "# ventana 1 auctions"
   ]
  },
  {
   "cell_type": "markdown",
   "metadata": {},
   "source": [
    "### Metodo k fold"
   ]
  },
  {
   "cell_type": "code",
   "execution_count": 699,
   "metadata": {},
   "outputs": [],
   "source": [
    "data=aut2"
   ]
  },
  {
   "cell_type": "code",
   "execution_count": 700,
   "metadata": {},
   "outputs": [
    {
     "name": "stdout",
     "output_type": "stream",
     "text": [
      "[16:37:11] src/tree/updater_prune.cc:74: tree pruning end, 1 roots, 2156 extra nodes, 0 pruned nodes, max_depth=13\n",
      "[16:37:11] src/tree/updater_prune.cc:74: tree pruning end, 1 roots, 2164 extra nodes, 0 pruned nodes, max_depth=13\n",
      "[16:37:11] src/tree/updater_prune.cc:74: tree pruning end, 1 roots, 2206 extra nodes, 0 pruned nodes, max_depth=13\n",
      "[16:37:11] src/tree/updater_prune.cc:74: tree pruning end, 1 roots, 2170 extra nodes, 0 pruned nodes, max_depth=13\n",
      "[16:37:11] src/tree/updater_prune.cc:74: tree pruning end, 1 roots, 1628 extra nodes, 0 pruned nodes, max_depth=13\n",
      "[16:37:11] src/tree/updater_prune.cc:74: tree pruning end, 1 roots, 1724 extra nodes, 0 pruned nodes, max_depth=13\n",
      "[16:37:11] src/tree/updater_prune.cc:74: tree pruning end, 1 roots, 1892 extra nodes, 0 pruned nodes, max_depth=13\n",
      "[16:37:11] src/tree/updater_prune.cc:74: tree pruning end, 1 roots, 1618 extra nodes, 0 pruned nodes, max_depth=13\n",
      "[16:37:11] src/tree/updater_prune.cc:74: tree pruning end, 1 roots, 1870 extra nodes, 0 pruned nodes, max_depth=13\n",
      "[16:37:11] src/tree/updater_prune.cc:74: tree pruning end, 1 roots, 2328 extra nodes, 0 pruned nodes, max_depth=13\n",
      "[16:37:12] src/tree/updater_prune.cc:74: tree pruning end, 1 roots, 2782 extra nodes, 0 pruned nodes, max_depth=13\n",
      "[16:37:12] src/tree/updater_prune.cc:74: tree pruning end, 1 roots, 1390 extra nodes, 0 pruned nodes, max_depth=13\n",
      "[16:37:12] src/tree/updater_prune.cc:74: tree pruning end, 1 roots, 1940 extra nodes, 0 pruned nodes, max_depth=13\n",
      "[16:37:12] src/tree/updater_prune.cc:74: tree pruning end, 1 roots, 1452 extra nodes, 0 pruned nodes, max_depth=13\n",
      "[16:37:12] src/tree/updater_prune.cc:74: tree pruning end, 1 roots, 2602 extra nodes, 0 pruned nodes, max_depth=13\n",
      "[16:37:12] src/tree/updater_prune.cc:74: tree pruning end, 1 roots, 2608 extra nodes, 0 pruned nodes, max_depth=13\n",
      "[16:37:12] src/tree/updater_prune.cc:74: tree pruning end, 1 roots, 1438 extra nodes, 0 pruned nodes, max_depth=13\n",
      "[16:37:12] src/tree/updater_prune.cc:74: tree pruning end, 1 roots, 2160 extra nodes, 0 pruned nodes, max_depth=13\n",
      "[16:37:12] src/tree/updater_prune.cc:74: tree pruning end, 1 roots, 1998 extra nodes, 0 pruned nodes, max_depth=13\n",
      "[16:37:12] src/tree/updater_prune.cc:74: tree pruning end, 1 roots, 2304 extra nodes, 0 pruned nodes, max_depth=13\n",
      "[16:37:12] src/tree/updater_prune.cc:74: tree pruning end, 1 roots, 1832 extra nodes, 0 pruned nodes, max_depth=13\n",
      "[16:37:12] src/tree/updater_prune.cc:74: tree pruning end, 1 roots, 1572 extra nodes, 0 pruned nodes, max_depth=13\n",
      "[16:37:12] src/tree/updater_prune.cc:74: tree pruning end, 1 roots, 2166 extra nodes, 0 pruned nodes, max_depth=13\n",
      "[16:37:12] src/tree/updater_prune.cc:74: tree pruning end, 1 roots, 2200 extra nodes, 0 pruned nodes, max_depth=13\n",
      "[16:37:12] src/tree/updater_prune.cc:74: tree pruning end, 1 roots, 1470 extra nodes, 0 pruned nodes, max_depth=13\n",
      "[16:37:12] src/tree/updater_prune.cc:74: tree pruning end, 1 roots, 932 extra nodes, 0 pruned nodes, max_depth=13\n",
      "[16:37:12] src/tree/updater_prune.cc:74: tree pruning end, 1 roots, 1478 extra nodes, 0 pruned nodes, max_depth=13\n",
      "[16:37:12] src/tree/updater_prune.cc:74: tree pruning end, 1 roots, 1232 extra nodes, 0 pruned nodes, max_depth=13\n",
      "[16:37:12] src/tree/updater_prune.cc:74: tree pruning end, 1 roots, 1428 extra nodes, 0 pruned nodes, max_depth=13\n",
      "[16:37:12] src/tree/updater_prune.cc:74: tree pruning end, 1 roots, 1732 extra nodes, 0 pruned nodes, max_depth=13\n",
      "[16:37:12] src/tree/updater_prune.cc:74: tree pruning end, 1 roots, 2682 extra nodes, 0 pruned nodes, max_depth=13\n",
      "[16:37:12] src/tree/updater_prune.cc:74: tree pruning end, 1 roots, 1734 extra nodes, 0 pruned nodes, max_depth=13\n",
      "[16:37:12] src/tree/updater_prune.cc:74: tree pruning end, 1 roots, 2956 extra nodes, 0 pruned nodes, max_depth=13\n",
      "[16:37:12] src/tree/updater_prune.cc:74: tree pruning end, 1 roots, 3096 extra nodes, 0 pruned nodes, max_depth=13\n",
      "[16:37:12] src/tree/updater_prune.cc:74: tree pruning end, 1 roots, 2292 extra nodes, 0 pruned nodes, max_depth=13\n",
      "[16:37:12] src/tree/updater_prune.cc:74: tree pruning end, 1 roots, 2296 extra nodes, 0 pruned nodes, max_depth=13\n",
      "[16:37:13] src/tree/updater_prune.cc:74: tree pruning end, 1 roots, 2804 extra nodes, 0 pruned nodes, max_depth=13\n",
      "[16:37:13] src/tree/updater_prune.cc:74: tree pruning end, 1 roots, 2912 extra nodes, 0 pruned nodes, max_depth=13\n",
      "[16:37:13] src/tree/updater_prune.cc:74: tree pruning end, 1 roots, 1090 extra nodes, 0 pruned nodes, max_depth=13\n",
      "[16:37:13] src/tree/updater_prune.cc:74: tree pruning end, 1 roots, 2622 extra nodes, 0 pruned nodes, max_depth=13\n",
      "[16:37:13] src/tree/updater_prune.cc:74: tree pruning end, 1 roots, 2604 extra nodes, 0 pruned nodes, max_depth=13\n",
      "[16:37:13] src/tree/updater_prune.cc:74: tree pruning end, 1 roots, 2050 extra nodes, 0 pruned nodes, max_depth=13\n",
      "[16:37:13] src/tree/updater_prune.cc:74: tree pruning end, 1 roots, 2968 extra nodes, 0 pruned nodes, max_depth=13\n",
      "[16:37:13] src/tree/updater_prune.cc:74: tree pruning end, 1 roots, 2480 extra nodes, 0 pruned nodes, max_depth=13\n",
      "[16:37:13] src/tree/updater_prune.cc:74: tree pruning end, 1 roots, 1446 extra nodes, 0 pruned nodes, max_depth=13\n",
      "[16:37:13] src/tree/updater_prune.cc:74: tree pruning end, 1 roots, 2052 extra nodes, 0 pruned nodes, max_depth=13\n",
      "[16:37:13] src/tree/updater_prune.cc:74: tree pruning end, 1 roots, 2112 extra nodes, 0 pruned nodes, max_depth=13\n",
      "[16:37:13] src/tree/updater_prune.cc:74: tree pruning end, 1 roots, 2910 extra nodes, 0 pruned nodes, max_depth=13\n",
      "[16:37:13] src/tree/updater_prune.cc:74: tree pruning end, 1 roots, 2108 extra nodes, 0 pruned nodes, max_depth=13\n",
      "[16:37:13] src/tree/updater_prune.cc:74: tree pruning end, 1 roots, 2546 extra nodes, 0 pruned nodes, max_depth=13\n",
      "[16:37:13] src/tree/updater_prune.cc:74: tree pruning end, 1 roots, 2154 extra nodes, 0 pruned nodes, max_depth=13\n",
      "[16:37:13] src/tree/updater_prune.cc:74: tree pruning end, 1 roots, 2594 extra nodes, 0 pruned nodes, max_depth=13\n",
      "[16:37:13] src/tree/updater_prune.cc:74: tree pruning end, 1 roots, 3102 extra nodes, 0 pruned nodes, max_depth=13\n",
      "[16:37:13] src/tree/updater_prune.cc:74: tree pruning end, 1 roots, 1370 extra nodes, 0 pruned nodes, max_depth=13\n",
      "[16:37:14] src/tree/updater_prune.cc:74: tree pruning end, 1 roots, 2592 extra nodes, 0 pruned nodes, max_depth=13\n",
      "[16:37:14] src/tree/updater_prune.cc:74: tree pruning end, 1 roots, 1972 extra nodes, 0 pruned nodes, max_depth=13\n",
      "[16:37:14] src/tree/updater_prune.cc:74: tree pruning end, 1 roots, 2408 extra nodes, 0 pruned nodes, max_depth=13\n",
      "[16:37:14] src/tree/updater_prune.cc:74: tree pruning end, 1 roots, 1890 extra nodes, 0 pruned nodes, max_depth=13\n",
      "[16:37:14] src/tree/updater_prune.cc:74: tree pruning end, 1 roots, 1918 extra nodes, 0 pruned nodes, max_depth=13\n",
      "[16:37:14] src/tree/updater_prune.cc:74: tree pruning end, 1 roots, 1118 extra nodes, 0 pruned nodes, max_depth=13\n",
      "[16:37:14] src/tree/updater_prune.cc:74: tree pruning end, 1 roots, 2712 extra nodes, 0 pruned nodes, max_depth=13\n",
      "[16:37:14] src/tree/updater_prune.cc:74: tree pruning end, 1 roots, 2750 extra nodes, 0 pruned nodes, max_depth=13\n",
      "[16:37:14] src/tree/updater_prune.cc:74: tree pruning end, 1 roots, 3332 extra nodes, 0 pruned nodes, max_depth=13\n",
      "[16:37:14] src/tree/updater_prune.cc:74: tree pruning end, 1 roots, 2172 extra nodes, 0 pruned nodes, max_depth=13\n",
      "[16:37:14] src/tree/updater_prune.cc:74: tree pruning end, 1 roots, 822 extra nodes, 0 pruned nodes, max_depth=13\n",
      "[16:37:14] src/tree/updater_prune.cc:74: tree pruning end, 1 roots, 1424 extra nodes, 0 pruned nodes, max_depth=13\n",
      "[16:37:14] src/tree/updater_prune.cc:74: tree pruning end, 1 roots, 2598 extra nodes, 0 pruned nodes, max_depth=13\n",
      "[16:37:14] src/tree/updater_prune.cc:74: tree pruning end, 1 roots, 1238 extra nodes, 0 pruned nodes, max_depth=13\n",
      "[16:37:14] src/tree/updater_prune.cc:74: tree pruning end, 1 roots, 2402 extra nodes, 0 pruned nodes, max_depth=13\n",
      "[16:37:14] src/tree/updater_prune.cc:74: tree pruning end, 1 roots, 2888 extra nodes, 0 pruned nodes, max_depth=13\n",
      "[16:37:14] src/tree/updater_prune.cc:74: tree pruning end, 1 roots, 2684 extra nodes, 0 pruned nodes, max_depth=13\n",
      "[16:37:14] src/tree/updater_prune.cc:74: tree pruning end, 1 roots, 720 extra nodes, 0 pruned nodes, max_depth=13\n",
      "[16:37:14] src/tree/updater_prune.cc:74: tree pruning end, 1 roots, 2724 extra nodes, 0 pruned nodes, max_depth=13\n",
      "[16:37:14] src/tree/updater_prune.cc:74: tree pruning end, 1 roots, 1950 extra nodes, 0 pruned nodes, max_depth=13\n"
     ]
    },
    {
     "name": "stdout",
     "output_type": "stream",
     "text": [
      "[16:37:14] src/tree/updater_prune.cc:74: tree pruning end, 1 roots, 1556 extra nodes, 0 pruned nodes, max_depth=13\n",
      "[16:37:15] src/tree/updater_prune.cc:74: tree pruning end, 1 roots, 2964 extra nodes, 0 pruned nodes, max_depth=13\n",
      "[16:37:15] src/tree/updater_prune.cc:74: tree pruning end, 1 roots, 1848 extra nodes, 0 pruned nodes, max_depth=13\n",
      "[16:37:15] src/tree/updater_prune.cc:74: tree pruning end, 1 roots, 3070 extra nodes, 0 pruned nodes, max_depth=13\n",
      "[16:37:15] src/tree/updater_prune.cc:74: tree pruning end, 1 roots, 2840 extra nodes, 0 pruned nodes, max_depth=13\n",
      "[16:37:15] src/tree/updater_prune.cc:74: tree pruning end, 1 roots, 3040 extra nodes, 0 pruned nodes, max_depth=13\n",
      "[16:37:15] src/tree/updater_prune.cc:74: tree pruning end, 1 roots, 2258 extra nodes, 0 pruned nodes, max_depth=13\n",
      "[16:37:15] src/tree/updater_prune.cc:74: tree pruning end, 1 roots, 1888 extra nodes, 0 pruned nodes, max_depth=13\n",
      "[16:37:15] src/tree/updater_prune.cc:74: tree pruning end, 1 roots, 1562 extra nodes, 0 pruned nodes, max_depth=13\n",
      "[16:37:15] src/tree/updater_prune.cc:74: tree pruning end, 1 roots, 2948 extra nodes, 0 pruned nodes, max_depth=13\n",
      "[16:37:15] src/tree/updater_prune.cc:74: tree pruning end, 1 roots, 1328 extra nodes, 0 pruned nodes, max_depth=13\n",
      "[16:37:15] src/tree/updater_prune.cc:74: tree pruning end, 1 roots, 1552 extra nodes, 0 pruned nodes, max_depth=13\n",
      "[16:37:15] src/tree/updater_prune.cc:74: tree pruning end, 1 roots, 2276 extra nodes, 0 pruned nodes, max_depth=13\n",
      "[16:37:15] src/tree/updater_prune.cc:74: tree pruning end, 1 roots, 2768 extra nodes, 0 pruned nodes, max_depth=13\n",
      "[16:37:15] src/tree/updater_prune.cc:74: tree pruning end, 1 roots, 3080 extra nodes, 0 pruned nodes, max_depth=13\n",
      "[16:37:15] src/tree/updater_prune.cc:74: tree pruning end, 1 roots, 2316 extra nodes, 0 pruned nodes, max_depth=13\n",
      "[16:37:15] src/tree/updater_prune.cc:74: tree pruning end, 1 roots, 3184 extra nodes, 0 pruned nodes, max_depth=13\n",
      "[16:37:15] src/tree/updater_prune.cc:74: tree pruning end, 1 roots, 1956 extra nodes, 0 pruned nodes, max_depth=13\n",
      "[16:37:15] src/tree/updater_prune.cc:74: tree pruning end, 1 roots, 2294 extra nodes, 0 pruned nodes, max_depth=13\n",
      "[16:37:15] src/tree/updater_prune.cc:74: tree pruning end, 1 roots, 2998 extra nodes, 0 pruned nodes, max_depth=13\n",
      "[16:37:15] src/tree/updater_prune.cc:74: tree pruning end, 1 roots, 872 extra nodes, 0 pruned nodes, max_depth=13\n",
      "[16:37:16] src/tree/updater_prune.cc:74: tree pruning end, 1 roots, 2500 extra nodes, 0 pruned nodes, max_depth=13\n",
      "[16:37:16] src/tree/updater_prune.cc:74: tree pruning end, 1 roots, 1964 extra nodes, 0 pruned nodes, max_depth=13\n",
      "[16:37:16] src/tree/updater_prune.cc:74: tree pruning end, 1 roots, 780 extra nodes, 0 pruned nodes, max_depth=13\n",
      "[16:37:16] src/tree/updater_prune.cc:74: tree pruning end, 1 roots, 3608 extra nodes, 0 pruned nodes, max_depth=13\n",
      "[16:37:16] src/tree/updater_prune.cc:74: tree pruning end, 1 roots, 2394 extra nodes, 0 pruned nodes, max_depth=13\n",
      "[16:37:16] src/tree/updater_prune.cc:74: tree pruning end, 1 roots, 2204 extra nodes, 0 pruned nodes, max_depth=13\n",
      "[16:37:16] src/tree/updater_prune.cc:74: tree pruning end, 1 roots, 4114 extra nodes, 0 pruned nodes, max_depth=13\n",
      "[16:37:16] src/tree/updater_prune.cc:74: tree pruning end, 1 roots, 2634 extra nodes, 0 pruned nodes, max_depth=13\n",
      "[16:37:16] src/tree/updater_prune.cc:74: tree pruning end, 1 roots, 2826 extra nodes, 0 pruned nodes, max_depth=13\n",
      "[16:37:16] src/tree/updater_prune.cc:74: tree pruning end, 1 roots, 2504 extra nodes, 0 pruned nodes, max_depth=13\n",
      "[16:37:16] src/tree/updater_prune.cc:74: tree pruning end, 1 roots, 3004 extra nodes, 0 pruned nodes, max_depth=13\n",
      "[16:37:16] src/tree/updater_prune.cc:74: tree pruning end, 1 roots, 2698 extra nodes, 0 pruned nodes, max_depth=13\n",
      "[16:37:16] src/tree/updater_prune.cc:74: tree pruning end, 1 roots, 1622 extra nodes, 0 pruned nodes, max_depth=13\n",
      "[16:37:16] src/tree/updater_prune.cc:74: tree pruning end, 1 roots, 2392 extra nodes, 0 pruned nodes, max_depth=13\n",
      "[16:37:16] src/tree/updater_prune.cc:74: tree pruning end, 1 roots, 1616 extra nodes, 0 pruned nodes, max_depth=13\n",
      "[16:37:16] src/tree/updater_prune.cc:74: tree pruning end, 1 roots, 1658 extra nodes, 0 pruned nodes, max_depth=13\n",
      "[16:37:16] src/tree/updater_prune.cc:74: tree pruning end, 1 roots, 2064 extra nodes, 0 pruned nodes, max_depth=13\n",
      "[16:37:16] src/tree/updater_prune.cc:74: tree pruning end, 1 roots, 2642 extra nodes, 0 pruned nodes, max_depth=13\n",
      "[16:37:17] src/tree/updater_prune.cc:74: tree pruning end, 1 roots, 2136 extra nodes, 0 pruned nodes, max_depth=13\n",
      "[16:37:17] src/tree/updater_prune.cc:74: tree pruning end, 1 roots, 1780 extra nodes, 0 pruned nodes, max_depth=13\n",
      "[16:37:17] src/tree/updater_prune.cc:74: tree pruning end, 1 roots, 3936 extra nodes, 0 pruned nodes, max_depth=13\n",
      "[16:37:17] src/tree/updater_prune.cc:74: tree pruning end, 1 roots, 2546 extra nodes, 0 pruned nodes, max_depth=13\n",
      "[16:37:17] src/tree/updater_prune.cc:74: tree pruning end, 1 roots, 2270 extra nodes, 0 pruned nodes, max_depth=13\n",
      "[16:37:17] src/tree/updater_prune.cc:74: tree pruning end, 1 roots, 4286 extra nodes, 0 pruned nodes, max_depth=13\n",
      "[16:37:17] src/tree/updater_prune.cc:74: tree pruning end, 1 roots, 1600 extra nodes, 0 pruned nodes, max_depth=13\n",
      "[16:37:17] src/tree/updater_prune.cc:74: tree pruning end, 1 roots, 2886 extra nodes, 0 pruned nodes, max_depth=13\n",
      "[16:37:17] src/tree/updater_prune.cc:74: tree pruning end, 1 roots, 2558 extra nodes, 0 pruned nodes, max_depth=13\n",
      "[16:37:17] src/tree/updater_prune.cc:74: tree pruning end, 1 roots, 2430 extra nodes, 0 pruned nodes, max_depth=13\n",
      "[16:37:17] src/tree/updater_prune.cc:74: tree pruning end, 1 roots, 3740 extra nodes, 0 pruned nodes, max_depth=13\n",
      "[16:37:17] src/tree/updater_prune.cc:74: tree pruning end, 1 roots, 2686 extra nodes, 0 pruned nodes, max_depth=13\n",
      "[16:37:17] src/tree/updater_prune.cc:74: tree pruning end, 1 roots, 3250 extra nodes, 0 pruned nodes, max_depth=13\n",
      "[16:37:17] src/tree/updater_prune.cc:74: tree pruning end, 1 roots, 2734 extra nodes, 0 pruned nodes, max_depth=13\n",
      "[16:37:17] src/tree/updater_prune.cc:74: tree pruning end, 1 roots, 2410 extra nodes, 0 pruned nodes, max_depth=13\n",
      "[16:37:18] src/tree/updater_prune.cc:74: tree pruning end, 1 roots, 2242 extra nodes, 0 pruned nodes, max_depth=13\n",
      "[16:37:18] src/tree/updater_prune.cc:74: tree pruning end, 1 roots, 2124 extra nodes, 0 pruned nodes, max_depth=13\n",
      "[16:37:18] src/tree/updater_prune.cc:74: tree pruning end, 1 roots, 1792 extra nodes, 0 pruned nodes, max_depth=13\n",
      "[16:37:18] src/tree/updater_prune.cc:74: tree pruning end, 1 roots, 2894 extra nodes, 0 pruned nodes, max_depth=13\n",
      "[16:37:18] src/tree/updater_prune.cc:74: tree pruning end, 1 roots, 2374 extra nodes, 0 pruned nodes, max_depth=13\n",
      "[16:37:18] src/tree/updater_prune.cc:74: tree pruning end, 1 roots, 2720 extra nodes, 0 pruned nodes, max_depth=13\n",
      "[16:37:18] src/tree/updater_prune.cc:74: tree pruning end, 1 roots, 3402 extra nodes, 0 pruned nodes, max_depth=13\n",
      "[16:37:18] src/tree/updater_prune.cc:74: tree pruning end, 1 roots, 2446 extra nodes, 0 pruned nodes, max_depth=13\n",
      "[16:37:18] src/tree/updater_prune.cc:74: tree pruning end, 1 roots, 2370 extra nodes, 0 pruned nodes, max_depth=13\n",
      "[16:37:18] src/tree/updater_prune.cc:74: tree pruning end, 1 roots, 2714 extra nodes, 0 pruned nodes, max_depth=13\n",
      "[16:37:18] src/tree/updater_prune.cc:74: tree pruning end, 1 roots, 2486 extra nodes, 0 pruned nodes, max_depth=13\n",
      "[16:37:18] src/tree/updater_prune.cc:74: tree pruning end, 1 roots, 1240 extra nodes, 0 pruned nodes, max_depth=13\n",
      "[16:37:18] src/tree/updater_prune.cc:74: tree pruning end, 1 roots, 830 extra nodes, 0 pruned nodes, max_depth=13\n",
      "[16:37:18] src/tree/updater_prune.cc:74: tree pruning end, 1 roots, 2366 extra nodes, 0 pruned nodes, max_depth=13\n",
      "[16:37:18] src/tree/updater_prune.cc:74: tree pruning end, 1 roots, 3806 extra nodes, 0 pruned nodes, max_depth=13\n",
      "[16:37:18] src/tree/updater_prune.cc:74: tree pruning end, 1 roots, 588 extra nodes, 0 pruned nodes, max_depth=13\n",
      "[16:37:18] src/tree/updater_prune.cc:74: tree pruning end, 1 roots, 2328 extra nodes, 0 pruned nodes, max_depth=13\n",
      "[16:37:18] src/tree/updater_prune.cc:74: tree pruning end, 1 roots, 2756 extra nodes, 0 pruned nodes, max_depth=13\n",
      "[16:37:19] src/tree/updater_prune.cc:74: tree pruning end, 1 roots, 2114 extra nodes, 0 pruned nodes, max_depth=13\n"
     ]
    },
    {
     "name": "stdout",
     "output_type": "stream",
     "text": [
      "[16:37:19] src/tree/updater_prune.cc:74: tree pruning end, 1 roots, 2322 extra nodes, 0 pruned nodes, max_depth=13\n",
      "[16:37:19] src/tree/updater_prune.cc:74: tree pruning end, 1 roots, 2570 extra nodes, 0 pruned nodes, max_depth=13\n",
      "[16:37:19] src/tree/updater_prune.cc:74: tree pruning end, 1 roots, 3628 extra nodes, 0 pruned nodes, max_depth=13\n",
      "[16:37:19] src/tree/updater_prune.cc:74: tree pruning end, 1 roots, 2180 extra nodes, 0 pruned nodes, max_depth=13\n",
      "[16:37:19] src/tree/updater_prune.cc:74: tree pruning end, 1 roots, 2488 extra nodes, 0 pruned nodes, max_depth=13\n",
      "[16:37:19] src/tree/updater_prune.cc:74: tree pruning end, 1 roots, 2400 extra nodes, 0 pruned nodes, max_depth=13\n",
      "[16:37:19] src/tree/updater_prune.cc:74: tree pruning end, 1 roots, 2342 extra nodes, 0 pruned nodes, max_depth=13\n",
      "[16:37:19] src/tree/updater_prune.cc:74: tree pruning end, 1 roots, 2366 extra nodes, 0 pruned nodes, max_depth=13\n",
      "[16:37:19] src/tree/updater_prune.cc:74: tree pruning end, 1 roots, 2340 extra nodes, 0 pruned nodes, max_depth=13\n",
      "[16:37:19] src/tree/updater_prune.cc:74: tree pruning end, 1 roots, 3010 extra nodes, 0 pruned nodes, max_depth=13\n",
      "[16:37:19] src/tree/updater_prune.cc:74: tree pruning end, 1 roots, 2374 extra nodes, 0 pruned nodes, max_depth=13\n",
      "[16:37:19] src/tree/updater_prune.cc:74: tree pruning end, 1 roots, 2090 extra nodes, 0 pruned nodes, max_depth=13\n",
      "[16:37:19] src/tree/updater_prune.cc:74: tree pruning end, 1 roots, 2428 extra nodes, 0 pruned nodes, max_depth=13\n",
      "[16:37:19] src/tree/updater_prune.cc:74: tree pruning end, 1 roots, 2382 extra nodes, 0 pruned nodes, max_depth=13\n",
      "[16:37:19] src/tree/updater_prune.cc:74: tree pruning end, 1 roots, 2076 extra nodes, 0 pruned nodes, max_depth=13\n",
      "[16:37:19] src/tree/updater_prune.cc:74: tree pruning end, 1 roots, 1904 extra nodes, 0 pruned nodes, max_depth=13\n",
      "[16:37:20] src/tree/updater_prune.cc:74: tree pruning end, 1 roots, 2362 extra nodes, 0 pruned nodes, max_depth=13\n",
      "[16:37:20] src/tree/updater_prune.cc:74: tree pruning end, 1 roots, 2496 extra nodes, 0 pruned nodes, max_depth=13\n",
      "[16:37:20] src/tree/updater_prune.cc:74: tree pruning end, 1 roots, 2820 extra nodes, 0 pruned nodes, max_depth=13\n",
      "[16:37:20] src/tree/updater_prune.cc:74: tree pruning end, 1 roots, 2750 extra nodes, 0 pruned nodes, max_depth=13\n",
      "[16:37:20] src/tree/updater_prune.cc:74: tree pruning end, 1 roots, 2318 extra nodes, 0 pruned nodes, max_depth=13\n",
      "[16:37:20] src/tree/updater_prune.cc:74: tree pruning end, 1 roots, 2336 extra nodes, 0 pruned nodes, max_depth=13\n",
      "[16:37:20] src/tree/updater_prune.cc:74: tree pruning end, 1 roots, 4294 extra nodes, 0 pruned nodes, max_depth=13\n",
      "[16:37:20] src/tree/updater_prune.cc:74: tree pruning end, 1 roots, 2540 extra nodes, 0 pruned nodes, max_depth=13\n",
      "[16:37:20] src/tree/updater_prune.cc:74: tree pruning end, 1 roots, 3142 extra nodes, 0 pruned nodes, max_depth=13\n",
      "[16:37:20] src/tree/updater_prune.cc:74: tree pruning end, 1 roots, 2138 extra nodes, 0 pruned nodes, max_depth=13\n",
      "[16:37:20] src/tree/updater_prune.cc:74: tree pruning end, 1 roots, 2624 extra nodes, 0 pruned nodes, max_depth=13\n",
      "[16:37:20] src/tree/updater_prune.cc:74: tree pruning end, 1 roots, 1930 extra nodes, 0 pruned nodes, max_depth=13\n",
      "[16:37:20] src/tree/updater_prune.cc:74: tree pruning end, 1 roots, 2648 extra nodes, 0 pruned nodes, max_depth=13\n",
      "[16:37:20] src/tree/updater_prune.cc:74: tree pruning end, 1 roots, 2540 extra nodes, 0 pruned nodes, max_depth=13\n",
      "[16:37:20] src/tree/updater_prune.cc:74: tree pruning end, 1 roots, 1532 extra nodes, 0 pruned nodes, max_depth=13\n",
      "[16:37:20] src/tree/updater_prune.cc:74: tree pruning end, 1 roots, 876 extra nodes, 0 pruned nodes, max_depth=13\n",
      "[16:37:20] src/tree/updater_prune.cc:74: tree pruning end, 1 roots, 2612 extra nodes, 0 pruned nodes, max_depth=13\n",
      "[16:37:20] src/tree/updater_prune.cc:74: tree pruning end, 1 roots, 3746 extra nodes, 0 pruned nodes, max_depth=13\n",
      "[16:37:20] src/tree/updater_prune.cc:74: tree pruning end, 1 roots, 2372 extra nodes, 0 pruned nodes, max_depth=13\n",
      "[16:37:20] src/tree/updater_prune.cc:74: tree pruning end, 1 roots, 2690 extra nodes, 0 pruned nodes, max_depth=13\n",
      "[16:37:21] src/tree/updater_prune.cc:74: tree pruning end, 1 roots, 1960 extra nodes, 0 pruned nodes, max_depth=13\n",
      "[16:37:21] src/tree/updater_prune.cc:74: tree pruning end, 1 roots, 2592 extra nodes, 0 pruned nodes, max_depth=13\n",
      "[16:37:21] src/tree/updater_prune.cc:74: tree pruning end, 1 roots, 2626 extra nodes, 0 pruned nodes, max_depth=13\n",
      "[16:37:21] src/tree/updater_prune.cc:74: tree pruning end, 1 roots, 2944 extra nodes, 0 pruned nodes, max_depth=13\n",
      "[16:37:21] src/tree/updater_prune.cc:74: tree pruning end, 1 roots, 2656 extra nodes, 0 pruned nodes, max_depth=13\n",
      "[16:37:21] src/tree/updater_prune.cc:74: tree pruning end, 1 roots, 624 extra nodes, 0 pruned nodes, max_depth=13\n",
      "[16:37:21] src/tree/updater_prune.cc:74: tree pruning end, 1 roots, 2258 extra nodes, 0 pruned nodes, max_depth=13\n",
      "[16:37:21] src/tree/updater_prune.cc:74: tree pruning end, 1 roots, 2512 extra nodes, 0 pruned nodes, max_depth=13\n",
      "[16:37:21] src/tree/updater_prune.cc:74: tree pruning end, 1 roots, 2228 extra nodes, 0 pruned nodes, max_depth=13\n",
      "[16:37:21] src/tree/updater_prune.cc:74: tree pruning end, 1 roots, 2770 extra nodes, 0 pruned nodes, max_depth=13\n",
      "[16:37:21] src/tree/updater_prune.cc:74: tree pruning end, 1 roots, 2314 extra nodes, 0 pruned nodes, max_depth=13\n",
      "[16:37:21] src/tree/updater_prune.cc:74: tree pruning end, 1 roots, 1860 extra nodes, 0 pruned nodes, max_depth=13\n",
      "[16:37:21] src/tree/updater_prune.cc:74: tree pruning end, 1 roots, 3832 extra nodes, 0 pruned nodes, max_depth=13\n",
      "[16:37:21] src/tree/updater_prune.cc:74: tree pruning end, 1 roots, 1728 extra nodes, 0 pruned nodes, max_depth=13\n",
      "[16:37:21] src/tree/updater_prune.cc:74: tree pruning end, 1 roots, 3042 extra nodes, 0 pruned nodes, max_depth=13\n",
      "[16:37:21] src/tree/updater_prune.cc:74: tree pruning end, 1 roots, 3720 extra nodes, 0 pruned nodes, max_depth=13\n",
      "[16:37:21] src/tree/updater_prune.cc:74: tree pruning end, 1 roots, 2456 extra nodes, 0 pruned nodes, max_depth=13\n",
      "[16:37:21] src/tree/updater_prune.cc:74: tree pruning end, 1 roots, 3716 extra nodes, 0 pruned nodes, max_depth=13\n",
      "[16:37:21] src/tree/updater_prune.cc:74: tree pruning end, 1 roots, 2880 extra nodes, 0 pruned nodes, max_depth=13\n",
      "[16:37:21] src/tree/updater_prune.cc:74: tree pruning end, 1 roots, 2206 extra nodes, 0 pruned nodes, max_depth=13\n",
      "[16:37:21] src/tree/updater_prune.cc:74: tree pruning end, 1 roots, 2556 extra nodes, 0 pruned nodes, max_depth=13\n",
      "[16:37:22] src/tree/updater_prune.cc:74: tree pruning end, 1 roots, 2334 extra nodes, 0 pruned nodes, max_depth=13\n",
      "[16:37:22] src/tree/updater_prune.cc:74: tree pruning end, 1 roots, 1996 extra nodes, 0 pruned nodes, max_depth=13\n",
      "[16:37:22] src/tree/updater_prune.cc:74: tree pruning end, 1 roots, 1310 extra nodes, 0 pruned nodes, max_depth=13\n",
      "[16:37:22] src/tree/updater_prune.cc:74: tree pruning end, 1 roots, 2158 extra nodes, 0 pruned nodes, max_depth=13\n",
      "[16:37:22] src/tree/updater_prune.cc:74: tree pruning end, 1 roots, 1952 extra nodes, 0 pruned nodes, max_depth=13\n",
      "[16:37:22] src/tree/updater_prune.cc:74: tree pruning end, 1 roots, 2304 extra nodes, 0 pruned nodes, max_depth=13\n",
      "[16:37:22] src/tree/updater_prune.cc:74: tree pruning end, 1 roots, 2184 extra nodes, 0 pruned nodes, max_depth=13\n",
      "[16:37:22] src/tree/updater_prune.cc:74: tree pruning end, 1 roots, 388 extra nodes, 0 pruned nodes, max_depth=13\n",
      "[16:37:22] src/tree/updater_prune.cc:74: tree pruning end, 1 roots, 1580 extra nodes, 0 pruned nodes, max_depth=13\n",
      "[16:37:22] src/tree/updater_prune.cc:74: tree pruning end, 1 roots, 2610 extra nodes, 0 pruned nodes, max_depth=13\n",
      "[16:37:22] src/tree/updater_prune.cc:74: tree pruning end, 1 roots, 2296 extra nodes, 0 pruned nodes, max_depth=13\n",
      "[16:37:22] src/tree/updater_prune.cc:74: tree pruning end, 1 roots, 2696 extra nodes, 0 pruned nodes, max_depth=13\n",
      "[16:37:22] src/tree/updater_prune.cc:74: tree pruning end, 1 roots, 1774 extra nodes, 0 pruned nodes, max_depth=13\n",
      "[16:37:22] src/tree/updater_prune.cc:74: tree pruning end, 1 roots, 3852 extra nodes, 0 pruned nodes, max_depth=13\n",
      "[16:37:22] src/tree/updater_prune.cc:74: tree pruning end, 1 roots, 2526 extra nodes, 0 pruned nodes, max_depth=13\n"
     ]
    },
    {
     "name": "stdout",
     "output_type": "stream",
     "text": [
      "[16:37:22] src/tree/updater_prune.cc:74: tree pruning end, 1 roots, 2188 extra nodes, 0 pruned nodes, max_depth=13\n",
      "[16:37:22] src/tree/updater_prune.cc:74: tree pruning end, 1 roots, 1562 extra nodes, 0 pruned nodes, max_depth=13\n",
      "[16:37:22] src/tree/updater_prune.cc:74: tree pruning end, 1 roots, 2146 extra nodes, 0 pruned nodes, max_depth=13\n",
      "[16:37:22] src/tree/updater_prune.cc:74: tree pruning end, 1 roots, 1760 extra nodes, 0 pruned nodes, max_depth=13\n",
      "[16:37:22] src/tree/updater_prune.cc:74: tree pruning end, 1 roots, 1098 extra nodes, 0 pruned nodes, max_depth=13\n",
      "[16:37:22] src/tree/updater_prune.cc:74: tree pruning end, 1 roots, 2098 extra nodes, 0 pruned nodes, max_depth=13\n",
      "[16:37:23] src/tree/updater_prune.cc:74: tree pruning end, 1 roots, 1296 extra nodes, 0 pruned nodes, max_depth=13\n",
      "[16:37:23] src/tree/updater_prune.cc:74: tree pruning end, 1 roots, 2188 extra nodes, 0 pruned nodes, max_depth=13\n",
      "[16:37:23] src/tree/updater_prune.cc:74: tree pruning end, 1 roots, 3760 extra nodes, 0 pruned nodes, max_depth=13\n",
      "[16:37:23] src/tree/updater_prune.cc:74: tree pruning end, 1 roots, 1844 extra nodes, 0 pruned nodes, max_depth=13\n",
      "[16:37:23] src/tree/updater_prune.cc:74: tree pruning end, 1 roots, 2246 extra nodes, 0 pruned nodes, max_depth=13\n",
      "[16:37:23] src/tree/updater_prune.cc:74: tree pruning end, 1 roots, 4026 extra nodes, 0 pruned nodes, max_depth=13\n",
      "[16:37:23] src/tree/updater_prune.cc:74: tree pruning end, 1 roots, 1930 extra nodes, 0 pruned nodes, max_depth=13\n",
      "[16:37:23] src/tree/updater_prune.cc:74: tree pruning end, 1 roots, 2762 extra nodes, 0 pruned nodes, max_depth=13\n",
      "[16:37:23] src/tree/updater_prune.cc:74: tree pruning end, 1 roots, 708 extra nodes, 0 pruned nodes, max_depth=13\n",
      "[16:37:23] src/tree/updater_prune.cc:74: tree pruning end, 1 roots, 2472 extra nodes, 0 pruned nodes, max_depth=13\n",
      "[16:37:23] src/tree/updater_prune.cc:74: tree pruning end, 1 roots, 2048 extra nodes, 0 pruned nodes, max_depth=13\n",
      "[16:37:23] src/tree/updater_prune.cc:74: tree pruning end, 1 roots, 1304 extra nodes, 0 pruned nodes, max_depth=13\n",
      "[16:37:23] src/tree/updater_prune.cc:74: tree pruning end, 1 roots, 974 extra nodes, 0 pruned nodes, max_depth=13\n",
      "[16:37:23] src/tree/updater_prune.cc:74: tree pruning end, 1 roots, 818 extra nodes, 0 pruned nodes, max_depth=13\n",
      "[16:37:23] src/tree/updater_prune.cc:74: tree pruning end, 1 roots, 720 extra nodes, 0 pruned nodes, max_depth=13\n",
      "[16:37:23] src/tree/updater_prune.cc:74: tree pruning end, 1 roots, 1502 extra nodes, 0 pruned nodes, max_depth=13\n",
      "[16:37:23] src/tree/updater_prune.cc:74: tree pruning end, 1 roots, 984 extra nodes, 0 pruned nodes, max_depth=13\n",
      "[16:37:23] src/tree/updater_prune.cc:74: tree pruning end, 1 roots, 2308 extra nodes, 0 pruned nodes, max_depth=13\n",
      "[16:37:23] src/tree/updater_prune.cc:74: tree pruning end, 1 roots, 2522 extra nodes, 0 pruned nodes, max_depth=13\n",
      "[16:37:23] src/tree/updater_prune.cc:74: tree pruning end, 1 roots, 2360 extra nodes, 0 pruned nodes, max_depth=13\n",
      "[16:37:24] src/tree/updater_prune.cc:74: tree pruning end, 1 roots, 1954 extra nodes, 0 pruned nodes, max_depth=13\n",
      "[16:37:24] src/tree/updater_prune.cc:74: tree pruning end, 1 roots, 1266 extra nodes, 0 pruned nodes, max_depth=13\n",
      "[16:37:24] src/tree/updater_prune.cc:74: tree pruning end, 1 roots, 1372 extra nodes, 0 pruned nodes, max_depth=13\n",
      "[16:37:24] src/tree/updater_prune.cc:74: tree pruning end, 1 roots, 1528 extra nodes, 0 pruned nodes, max_depth=13\n",
      "[16:37:24] src/tree/updater_prune.cc:74: tree pruning end, 1 roots, 2032 extra nodes, 0 pruned nodes, max_depth=13\n",
      "[16:37:24] src/tree/updater_prune.cc:74: tree pruning end, 1 roots, 2008 extra nodes, 0 pruned nodes, max_depth=13\n",
      "[16:37:24] src/tree/updater_prune.cc:74: tree pruning end, 1 roots, 3858 extra nodes, 0 pruned nodes, max_depth=13\n",
      "[16:37:24] src/tree/updater_prune.cc:74: tree pruning end, 1 roots, 498 extra nodes, 0 pruned nodes, max_depth=13\n",
      "[16:37:24] src/tree/updater_prune.cc:74: tree pruning end, 1 roots, 1260 extra nodes, 0 pruned nodes, max_depth=13\n",
      "[16:37:24] src/tree/updater_prune.cc:74: tree pruning end, 1 roots, 1300 extra nodes, 0 pruned nodes, max_depth=13\n",
      "[16:37:24] src/tree/updater_prune.cc:74: tree pruning end, 1 roots, 2060 extra nodes, 0 pruned nodes, max_depth=13\n",
      "[16:37:24] src/tree/updater_prune.cc:74: tree pruning end, 1 roots, 1960 extra nodes, 0 pruned nodes, max_depth=13\n",
      "[16:37:24] src/tree/updater_prune.cc:74: tree pruning end, 1 roots, 644 extra nodes, 0 pruned nodes, max_depth=13\n",
      "[16:37:24] src/tree/updater_prune.cc:74: tree pruning end, 1 roots, 2322 extra nodes, 0 pruned nodes, max_depth=13\n",
      "[16:37:24] src/tree/updater_prune.cc:74: tree pruning end, 1 roots, 2632 extra nodes, 0 pruned nodes, max_depth=13\n",
      "[16:37:24] src/tree/updater_prune.cc:74: tree pruning end, 1 roots, 1750 extra nodes, 0 pruned nodes, max_depth=13\n",
      "[16:37:24] src/tree/updater_prune.cc:74: tree pruning end, 1 roots, 1182 extra nodes, 0 pruned nodes, max_depth=13\n",
      "[16:37:24] src/tree/updater_prune.cc:74: tree pruning end, 1 roots, 1654 extra nodes, 0 pruned nodes, max_depth=13\n",
      "[16:37:24] src/tree/updater_prune.cc:74: tree pruning end, 1 roots, 2018 extra nodes, 0 pruned nodes, max_depth=13\n",
      "[16:37:24] src/tree/updater_prune.cc:74: tree pruning end, 1 roots, 3654 extra nodes, 0 pruned nodes, max_depth=13\n",
      "[16:37:25] src/tree/updater_prune.cc:74: tree pruning end, 1 roots, 1972 extra nodes, 0 pruned nodes, max_depth=13\n",
      "[16:37:25] src/tree/updater_prune.cc:74: tree pruning end, 1 roots, 1758 extra nodes, 0 pruned nodes, max_depth=13\n",
      "[16:37:25] src/tree/updater_prune.cc:74: tree pruning end, 1 roots, 1954 extra nodes, 0 pruned nodes, max_depth=13\n",
      "[16:37:25] src/tree/updater_prune.cc:74: tree pruning end, 1 roots, 706 extra nodes, 0 pruned nodes, max_depth=13\n",
      "[16:37:25] src/tree/updater_prune.cc:74: tree pruning end, 1 roots, 2140 extra nodes, 0 pruned nodes, max_depth=13\n",
      "[16:37:25] src/tree/updater_prune.cc:74: tree pruning end, 1 roots, 1048 extra nodes, 0 pruned nodes, max_depth=13\n",
      "[16:37:25] src/tree/updater_prune.cc:74: tree pruning end, 1 roots, 2384 extra nodes, 0 pruned nodes, max_depth=13\n",
      "[16:37:25] src/tree/updater_prune.cc:74: tree pruning end, 1 roots, 1668 extra nodes, 0 pruned nodes, max_depth=13\n",
      "[16:37:25] src/tree/updater_prune.cc:74: tree pruning end, 1 roots, 1612 extra nodes, 0 pruned nodes, max_depth=13\n",
      "[16:37:25] src/tree/updater_prune.cc:74: tree pruning end, 1 roots, 2794 extra nodes, 0 pruned nodes, max_depth=13\n",
      "[16:37:25] src/tree/updater_prune.cc:74: tree pruning end, 1 roots, 1370 extra nodes, 0 pruned nodes, max_depth=13\n",
      "[16:37:25] src/tree/updater_prune.cc:74: tree pruning end, 1 roots, 780 extra nodes, 0 pruned nodes, max_depth=13\n",
      "[16:37:25] src/tree/updater_prune.cc:74: tree pruning end, 1 roots, 1816 extra nodes, 0 pruned nodes, max_depth=13\n",
      "[16:37:25] src/tree/updater_prune.cc:74: tree pruning end, 1 roots, 1776 extra nodes, 0 pruned nodes, max_depth=13\n",
      "[16:37:25] src/tree/updater_prune.cc:74: tree pruning end, 1 roots, 2402 extra nodes, 0 pruned nodes, max_depth=13\n",
      "[16:37:25] src/tree/updater_prune.cc:74: tree pruning end, 1 roots, 1624 extra nodes, 0 pruned nodes, max_depth=13\n",
      "[16:37:25] src/tree/updater_prune.cc:74: tree pruning end, 1 roots, 682 extra nodes, 0 pruned nodes, max_depth=13\n",
      "[16:37:25] src/tree/updater_prune.cc:74: tree pruning end, 1 roots, 1492 extra nodes, 0 pruned nodes, max_depth=13\n",
      "[16:37:25] src/tree/updater_prune.cc:74: tree pruning end, 1 roots, 1272 extra nodes, 0 pruned nodes, max_depth=13\n",
      "[16:37:25] src/tree/updater_prune.cc:74: tree pruning end, 1 roots, 2008 extra nodes, 0 pruned nodes, max_depth=13\n",
      "[16:37:25] src/tree/updater_prune.cc:74: tree pruning end, 1 roots, 1160 extra nodes, 0 pruned nodes, max_depth=13\n",
      "[16:37:25] src/tree/updater_prune.cc:74: tree pruning end, 1 roots, 1924 extra nodes, 0 pruned nodes, max_depth=13\n",
      "[16:37:25] src/tree/updater_prune.cc:74: tree pruning end, 1 roots, 1472 extra nodes, 0 pruned nodes, max_depth=13\n",
      "[16:37:26] src/tree/updater_prune.cc:74: tree pruning end, 1 roots, 2018 extra nodes, 0 pruned nodes, max_depth=13\n",
      "[16:37:26] src/tree/updater_prune.cc:74: tree pruning end, 1 roots, 1300 extra nodes, 0 pruned nodes, max_depth=13\n",
      "[16:37:26] src/tree/updater_prune.cc:74: tree pruning end, 1 roots, 1744 extra nodes, 0 pruned nodes, max_depth=13\n"
     ]
    },
    {
     "name": "stdout",
     "output_type": "stream",
     "text": [
      "[16:37:26] src/tree/updater_prune.cc:74: tree pruning end, 1 roots, 1280 extra nodes, 0 pruned nodes, max_depth=13\n",
      "[16:37:26] src/tree/updater_prune.cc:74: tree pruning end, 1 roots, 2090 extra nodes, 0 pruned nodes, max_depth=13\n",
      "[16:37:26] src/tree/updater_prune.cc:74: tree pruning end, 1 roots, 3370 extra nodes, 0 pruned nodes, max_depth=13\n",
      "[16:37:26] src/tree/updater_prune.cc:74: tree pruning end, 1 roots, 3350 extra nodes, 0 pruned nodes, max_depth=13\n",
      "[16:37:26] src/tree/updater_prune.cc:74: tree pruning end, 1 roots, 2356 extra nodes, 0 pruned nodes, max_depth=13\n",
      "[16:37:26] src/tree/updater_prune.cc:74: tree pruning end, 1 roots, 3668 extra nodes, 0 pruned nodes, max_depth=13\n",
      "[16:37:26] src/tree/updater_prune.cc:74: tree pruning end, 1 roots, 498 extra nodes, 0 pruned nodes, max_depth=13\n",
      "[16:37:26] src/tree/updater_prune.cc:74: tree pruning end, 1 roots, 1668 extra nodes, 0 pruned nodes, max_depth=13\n",
      "[16:37:26] src/tree/updater_prune.cc:74: tree pruning end, 1 roots, 2364 extra nodes, 0 pruned nodes, max_depth=13\n"
     ]
    }
   ],
   "source": [
    "data_dmatrix = xgb.DMatrix(data=X,label=y)\n",
    "params = {\"objective\":\"reg:linear\",'colsample_bytree': 0.3,\n",
    "          'learning_rate': 0.1, 'max_depth': 13, 'alpha': 10}\n",
    "\n",
    "cv_results = xgb.cv(dtrain=data_dmatrix, params=params, nfold=3,\n",
    "                    num_boost_round=100, early_stopping_rounds=10,\n",
    "                    metrics=\"rmse\", as_pandas=True, seed=123)"
   ]
  },
  {
   "cell_type": "code",
   "execution_count": 512,
   "metadata": {},
   "outputs": [
    {
     "data": {
      "text/html": [
       "<div>\n",
       "<style scoped>\n",
       "    .dataframe tbody tr th:only-of-type {\n",
       "        vertical-align: middle;\n",
       "    }\n",
       "\n",
       "    .dataframe tbody tr th {\n",
       "        vertical-align: top;\n",
       "    }\n",
       "\n",
       "    .dataframe thead th {\n",
       "        text-align: right;\n",
       "    }\n",
       "</style>\n",
       "<table border=\"1\" class=\"dataframe\">\n",
       "  <thead>\n",
       "    <tr style=\"text-align: right;\">\n",
       "      <th></th>\n",
       "      <th>train-rmse-mean</th>\n",
       "      <th>train-rmse-std</th>\n",
       "      <th>test-rmse-mean</th>\n",
       "      <th>test-rmse-std</th>\n",
       "    </tr>\n",
       "  </thead>\n",
       "  <tbody>\n",
       "    <tr>\n",
       "      <th>0</th>\n",
       "      <td>0.595411</td>\n",
       "      <td>0.003849</td>\n",
       "      <td>0.595373</td>\n",
       "      <td>0.007880</td>\n",
       "    </tr>\n",
       "    <tr>\n",
       "      <th>1</th>\n",
       "      <td>0.586198</td>\n",
       "      <td>0.003771</td>\n",
       "      <td>0.586166</td>\n",
       "      <td>0.007918</td>\n",
       "    </tr>\n",
       "    <tr>\n",
       "      <th>2</th>\n",
       "      <td>0.578655</td>\n",
       "      <td>0.003716</td>\n",
       "      <td>0.578623</td>\n",
       "      <td>0.007924</td>\n",
       "    </tr>\n",
       "    <tr>\n",
       "      <th>3</th>\n",
       "      <td>0.572471</td>\n",
       "      <td>0.003670</td>\n",
       "      <td>0.572440</td>\n",
       "      <td>0.007911</td>\n",
       "    </tr>\n",
       "    <tr>\n",
       "      <th>4</th>\n",
       "      <td>0.567290</td>\n",
       "      <td>0.003719</td>\n",
       "      <td>0.567270</td>\n",
       "      <td>0.007788</td>\n",
       "    </tr>\n",
       "  </tbody>\n",
       "</table>\n",
       "</div>"
      ],
      "text/plain": [
       "   train-rmse-mean  train-rmse-std  test-rmse-mean  test-rmse-std\n",
       "0         0.595411        0.003849        0.595373       0.007880\n",
       "1         0.586198        0.003771        0.586166       0.007918\n",
       "2         0.578655        0.003716        0.578623       0.007924\n",
       "3         0.572471        0.003670        0.572440       0.007911\n",
       "4         0.567290        0.003719        0.567270       0.007788"
      ]
     },
     "execution_count": 512,
     "metadata": {},
     "output_type": "execute_result"
    }
   ],
   "source": [
    "cv_results.head()"
   ]
  },
  {
   "cell_type": "code",
   "execution_count": 513,
   "metadata": {},
   "outputs": [
    {
     "name": "stdout",
     "output_type": "stream",
     "text": [
      "99    0.538687\n",
      "Name: test-rmse-mean, dtype: float64\n"
     ]
    }
   ],
   "source": [
    "print((cv_results[\"test-rmse-mean\"]).tail(1))"
   ]
  },
  {
   "cell_type": "code",
   "execution_count": 462,
   "metadata": {},
   "outputs": [
    {
     "name": "stdout",
     "output_type": "stream",
     "text": [
      "[13:34:23] src/tree/updater_prune.cc:74: tree pruning end, 1 roots, 1918 extra nodes, 0 pruned nodes, max_depth=13\n",
      "[13:34:23] src/tree/updater_prune.cc:74: tree pruning end, 1 roots, 1502 extra nodes, 0 pruned nodes, max_depth=13\n",
      "[13:34:23] src/tree/updater_prune.cc:74: tree pruning end, 1 roots, 3144 extra nodes, 0 pruned nodes, max_depth=13\n",
      "[13:34:23] src/tree/updater_prune.cc:74: tree pruning end, 1 roots, 1950 extra nodes, 0 pruned nodes, max_depth=13\n",
      "[13:34:23] src/tree/updater_prune.cc:74: tree pruning end, 1 roots, 1940 extra nodes, 0 pruned nodes, max_depth=13\n",
      "[13:34:23] src/tree/updater_prune.cc:74: tree pruning end, 1 roots, 2922 extra nodes, 0 pruned nodes, max_depth=13\n",
      "[13:34:23] src/tree/updater_prune.cc:74: tree pruning end, 1 roots, 1952 extra nodes, 0 pruned nodes, max_depth=13\n",
      "[13:34:23] src/tree/updater_prune.cc:74: tree pruning end, 1 roots, 1846 extra nodes, 0 pruned nodes, max_depth=13\n",
      "[13:34:23] src/tree/updater_prune.cc:74: tree pruning end, 1 roots, 2688 extra nodes, 0 pruned nodes, max_depth=13\n",
      "[13:34:23] src/tree/updater_prune.cc:74: tree pruning end, 1 roots, 1874 extra nodes, 0 pruned nodes, max_depth=13\n",
      "[13:34:23] src/tree/updater_prune.cc:74: tree pruning end, 1 roots, 2524 extra nodes, 0 pruned nodes, max_depth=13\n",
      "[13:34:23] src/tree/updater_prune.cc:74: tree pruning end, 1 roots, 1078 extra nodes, 0 pruned nodes, max_depth=13\n",
      "[13:34:24] src/tree/updater_prune.cc:74: tree pruning end, 1 roots, 3056 extra nodes, 0 pruned nodes, max_depth=13\n",
      "[13:34:24] src/tree/updater_prune.cc:74: tree pruning end, 1 roots, 2668 extra nodes, 0 pruned nodes, max_depth=13\n",
      "[13:34:24] src/tree/updater_prune.cc:74: tree pruning end, 1 roots, 1676 extra nodes, 0 pruned nodes, max_depth=13\n",
      "[13:34:24] src/tree/updater_prune.cc:74: tree pruning end, 1 roots, 2770 extra nodes, 0 pruned nodes, max_depth=13\n",
      "[13:34:24] src/tree/updater_prune.cc:74: tree pruning end, 1 roots, 2618 extra nodes, 0 pruned nodes, max_depth=13\n",
      "[13:34:24] src/tree/updater_prune.cc:74: tree pruning end, 1 roots, 2686 extra nodes, 0 pruned nodes, max_depth=13\n",
      "[13:34:24] src/tree/updater_prune.cc:74: tree pruning end, 1 roots, 2452 extra nodes, 0 pruned nodes, max_depth=13\n",
      "[13:34:24] src/tree/updater_prune.cc:74: tree pruning end, 1 roots, 1750 extra nodes, 0 pruned nodes, max_depth=13\n"
     ]
    }
   ],
   "source": [
    "xg_reg = xgb.train(params=params, dtrain=data_dmatrix, num_boost_round=20)"
   ]
  },
  {
   "cell_type": "code",
   "execution_count": 701,
   "metadata": {},
   "outputs": [
    {
     "ename": "ExecutableNotFound",
     "evalue": "failed to execute ['dot', '-Tpng'], make sure the Graphviz executables are on your systems' PATH",
     "output_type": "error",
     "traceback": [
      "\u001b[1;31m---------------------------------------------------------------------------\u001b[0m",
      "\u001b[1;31mFileNotFoundError\u001b[0m                         Traceback (most recent call last)",
      "\u001b[1;32m~\\Anaconda3\\lib\\site-packages\\graphviz\\backend.py\u001b[0m in \u001b[0;36mrun\u001b[1;34m(cmd, input, capture_output, check, quiet, **kwargs)\u001b[0m\n\u001b[0;32m    146\u001b[0m     \u001b[1;32mtry\u001b[0m\u001b[1;33m:\u001b[0m\u001b[1;33m\u001b[0m\u001b[1;33m\u001b[0m\u001b[0m\n\u001b[1;32m--> 147\u001b[1;33m         \u001b[0mproc\u001b[0m \u001b[1;33m=\u001b[0m \u001b[0msubprocess\u001b[0m\u001b[1;33m.\u001b[0m\u001b[0mPopen\u001b[0m\u001b[1;33m(\u001b[0m\u001b[0mcmd\u001b[0m\u001b[1;33m,\u001b[0m \u001b[0mstartupinfo\u001b[0m\u001b[1;33m=\u001b[0m\u001b[0mget_startupinfo\u001b[0m\u001b[1;33m(\u001b[0m\u001b[1;33m)\u001b[0m\u001b[1;33m,\u001b[0m \u001b[1;33m**\u001b[0m\u001b[0mkwargs\u001b[0m\u001b[1;33m)\u001b[0m\u001b[1;33m\u001b[0m\u001b[1;33m\u001b[0m\u001b[0m\n\u001b[0m\u001b[0;32m    148\u001b[0m     \u001b[1;32mexcept\u001b[0m \u001b[0mOSError\u001b[0m \u001b[1;32mas\u001b[0m \u001b[0me\u001b[0m\u001b[1;33m:\u001b[0m\u001b[1;33m\u001b[0m\u001b[1;33m\u001b[0m\u001b[0m\n",
      "\u001b[1;32m~\\Anaconda3\\lib\\subprocess.py\u001b[0m in \u001b[0;36m__init__\u001b[1;34m(self, args, bufsize, executable, stdin, stdout, stderr, preexec_fn, close_fds, shell, cwd, env, universal_newlines, startupinfo, creationflags, restore_signals, start_new_session, pass_fds, encoding, errors, text)\u001b[0m\n\u001b[0;32m    774\u001b[0m                                 \u001b[0merrread\u001b[0m\u001b[1;33m,\u001b[0m \u001b[0merrwrite\u001b[0m\u001b[1;33m,\u001b[0m\u001b[1;33m\u001b[0m\u001b[1;33m\u001b[0m\u001b[0m\n\u001b[1;32m--> 775\u001b[1;33m                                 restore_signals, start_new_session)\n\u001b[0m\u001b[0;32m    776\u001b[0m         \u001b[1;32mexcept\u001b[0m\u001b[1;33m:\u001b[0m\u001b[1;33m\u001b[0m\u001b[1;33m\u001b[0m\u001b[0m\n",
      "\u001b[1;32m~\\Anaconda3\\lib\\subprocess.py\u001b[0m in \u001b[0;36m_execute_child\u001b[1;34m(self, args, executable, preexec_fn, close_fds, pass_fds, cwd, env, startupinfo, creationflags, shell, p2cread, p2cwrite, c2pread, c2pwrite, errread, errwrite, unused_restore_signals, unused_start_new_session)\u001b[0m\n\u001b[0;32m   1177\u001b[0m                                          \u001b[0mos\u001b[0m\u001b[1;33m.\u001b[0m\u001b[0mfspath\u001b[0m\u001b[1;33m(\u001b[0m\u001b[0mcwd\u001b[0m\u001b[1;33m)\u001b[0m \u001b[1;32mif\u001b[0m \u001b[0mcwd\u001b[0m \u001b[1;32mis\u001b[0m \u001b[1;32mnot\u001b[0m \u001b[1;32mNone\u001b[0m \u001b[1;32melse\u001b[0m \u001b[1;32mNone\u001b[0m\u001b[1;33m,\u001b[0m\u001b[1;33m\u001b[0m\u001b[1;33m\u001b[0m\u001b[0m\n\u001b[1;32m-> 1178\u001b[1;33m                                          startupinfo)\n\u001b[0m\u001b[0;32m   1179\u001b[0m             \u001b[1;32mfinally\u001b[0m\u001b[1;33m:\u001b[0m\u001b[1;33m\u001b[0m\u001b[1;33m\u001b[0m\u001b[0m\n",
      "\u001b[1;31mFileNotFoundError\u001b[0m: [WinError 2] El sistema no puede encontrar el archivo especificado",
      "\nDuring handling of the above exception, another exception occurred:\n",
      "\u001b[1;31mExecutableNotFound\u001b[0m                        Traceback (most recent call last)",
      "\u001b[1;32m<ipython-input-701-8c8c206eb643>\u001b[0m in \u001b[0;36m<module>\u001b[1;34m\u001b[0m\n\u001b[0;32m      1\u001b[0m \u001b[1;32mimport\u001b[0m \u001b[0mmatplotlib\u001b[0m\u001b[1;33m.\u001b[0m\u001b[0mpyplot\u001b[0m \u001b[1;32mas\u001b[0m \u001b[0mplt\u001b[0m\u001b[1;33m\u001b[0m\u001b[1;33m\u001b[0m\u001b[0m\n\u001b[0;32m      2\u001b[0m \u001b[1;33m\u001b[0m\u001b[0m\n\u001b[1;32m----> 3\u001b[1;33m \u001b[0mxgb\u001b[0m\u001b[1;33m.\u001b[0m\u001b[0mplot_tree\u001b[0m\u001b[1;33m(\u001b[0m\u001b[0mxg_reg\u001b[0m\u001b[1;33m,\u001b[0m\u001b[0mnum_trees\u001b[0m\u001b[1;33m=\u001b[0m\u001b[1;36m0\u001b[0m\u001b[1;33m)\u001b[0m\u001b[1;33m\u001b[0m\u001b[1;33m\u001b[0m\u001b[0m\n\u001b[0m\u001b[0;32m      4\u001b[0m \u001b[0mplt\u001b[0m\u001b[1;33m.\u001b[0m\u001b[0mrcParams\u001b[0m\u001b[1;33m[\u001b[0m\u001b[1;34m'figure.figsize'\u001b[0m\u001b[1;33m]\u001b[0m \u001b[1;33m=\u001b[0m \u001b[1;33m[\u001b[0m\u001b[1;36m100\u001b[0m\u001b[1;33m,\u001b[0m \u001b[1;36m100\u001b[0m\u001b[1;33m]\u001b[0m\u001b[1;33m\u001b[0m\u001b[1;33m\u001b[0m\u001b[0m\n\u001b[0;32m      5\u001b[0m \u001b[0mplt\u001b[0m\u001b[1;33m.\u001b[0m\u001b[0mshow\u001b[0m\u001b[1;33m(\u001b[0m\u001b[1;33m)\u001b[0m\u001b[1;33m\u001b[0m\u001b[1;33m\u001b[0m\u001b[0m\n",
      "\u001b[1;32m~\\Anaconda3\\lib\\site-packages\\xgboost\\plotting.py\u001b[0m in \u001b[0;36mplot_tree\u001b[1;34m(booster, fmap, num_trees, rankdir, ax, **kwargs)\u001b[0m\n\u001b[0;32m    260\u001b[0m \u001b[1;33m\u001b[0m\u001b[0m\n\u001b[0;32m    261\u001b[0m     \u001b[0ms\u001b[0m \u001b[1;33m=\u001b[0m \u001b[0mBytesIO\u001b[0m\u001b[1;33m(\u001b[0m\u001b[1;33m)\u001b[0m\u001b[1;33m\u001b[0m\u001b[1;33m\u001b[0m\u001b[0m\n\u001b[1;32m--> 262\u001b[1;33m     \u001b[0ms\u001b[0m\u001b[1;33m.\u001b[0m\u001b[0mwrite\u001b[0m\u001b[1;33m(\u001b[0m\u001b[0mg\u001b[0m\u001b[1;33m.\u001b[0m\u001b[0mpipe\u001b[0m\u001b[1;33m(\u001b[0m\u001b[0mformat\u001b[0m\u001b[1;33m=\u001b[0m\u001b[1;34m'png'\u001b[0m\u001b[1;33m)\u001b[0m\u001b[1;33m)\u001b[0m\u001b[1;33m\u001b[0m\u001b[1;33m\u001b[0m\u001b[0m\n\u001b[0m\u001b[0;32m    263\u001b[0m     \u001b[0ms\u001b[0m\u001b[1;33m.\u001b[0m\u001b[0mseek\u001b[0m\u001b[1;33m(\u001b[0m\u001b[1;36m0\u001b[0m\u001b[1;33m)\u001b[0m\u001b[1;33m\u001b[0m\u001b[1;33m\u001b[0m\u001b[0m\n\u001b[0;32m    264\u001b[0m     \u001b[0mimg\u001b[0m \u001b[1;33m=\u001b[0m \u001b[0mimage\u001b[0m\u001b[1;33m.\u001b[0m\u001b[0mimread\u001b[0m\u001b[1;33m(\u001b[0m\u001b[0ms\u001b[0m\u001b[1;33m)\u001b[0m\u001b[1;33m\u001b[0m\u001b[1;33m\u001b[0m\u001b[0m\n",
      "\u001b[1;32m~\\Anaconda3\\lib\\site-packages\\graphviz\\files.py\u001b[0m in \u001b[0;36mpipe\u001b[1;34m(self, format, renderer, formatter)\u001b[0m\n\u001b[0;32m    126\u001b[0m         \u001b[0mdata\u001b[0m \u001b[1;33m=\u001b[0m \u001b[0mtext_type\u001b[0m\u001b[1;33m(\u001b[0m\u001b[0mself\u001b[0m\u001b[1;33m.\u001b[0m\u001b[0msource\u001b[0m\u001b[1;33m)\u001b[0m\u001b[1;33m.\u001b[0m\u001b[0mencode\u001b[0m\u001b[1;33m(\u001b[0m\u001b[0mself\u001b[0m\u001b[1;33m.\u001b[0m\u001b[0m_encoding\u001b[0m\u001b[1;33m)\u001b[0m\u001b[1;33m\u001b[0m\u001b[1;33m\u001b[0m\u001b[0m\n\u001b[0;32m    127\u001b[0m \u001b[1;33m\u001b[0m\u001b[0m\n\u001b[1;32m--> 128\u001b[1;33m         \u001b[0mout\u001b[0m \u001b[1;33m=\u001b[0m \u001b[0mbackend\u001b[0m\u001b[1;33m.\u001b[0m\u001b[0mpipe\u001b[0m\u001b[1;33m(\u001b[0m\u001b[0mself\u001b[0m\u001b[1;33m.\u001b[0m\u001b[0m_engine\u001b[0m\u001b[1;33m,\u001b[0m \u001b[0mformat\u001b[0m\u001b[1;33m,\u001b[0m \u001b[0mdata\u001b[0m\u001b[1;33m,\u001b[0m \u001b[0mrenderer\u001b[0m\u001b[1;33m,\u001b[0m \u001b[0mformatter\u001b[0m\u001b[1;33m)\u001b[0m\u001b[1;33m\u001b[0m\u001b[1;33m\u001b[0m\u001b[0m\n\u001b[0m\u001b[0;32m    129\u001b[0m \u001b[1;33m\u001b[0m\u001b[0m\n\u001b[0;32m    130\u001b[0m         \u001b[1;32mreturn\u001b[0m \u001b[0mout\u001b[0m\u001b[1;33m\u001b[0m\u001b[1;33m\u001b[0m\u001b[0m\n",
      "\u001b[1;32m~\\Anaconda3\\lib\\site-packages\\graphviz\\backend.py\u001b[0m in \u001b[0;36mpipe\u001b[1;34m(engine, format, data, renderer, formatter, quiet)\u001b[0m\n\u001b[0;32m    204\u001b[0m     \"\"\"\n\u001b[0;32m    205\u001b[0m     \u001b[0mcmd\u001b[0m\u001b[1;33m,\u001b[0m \u001b[0m_\u001b[0m \u001b[1;33m=\u001b[0m \u001b[0mcommand\u001b[0m\u001b[1;33m(\u001b[0m\u001b[0mengine\u001b[0m\u001b[1;33m,\u001b[0m \u001b[0mformat\u001b[0m\u001b[1;33m,\u001b[0m \u001b[1;32mNone\u001b[0m\u001b[1;33m,\u001b[0m \u001b[0mrenderer\u001b[0m\u001b[1;33m,\u001b[0m \u001b[0mformatter\u001b[0m\u001b[1;33m)\u001b[0m\u001b[1;33m\u001b[0m\u001b[1;33m\u001b[0m\u001b[0m\n\u001b[1;32m--> 206\u001b[1;33m     \u001b[0mout\u001b[0m\u001b[1;33m,\u001b[0m \u001b[0m_\u001b[0m \u001b[1;33m=\u001b[0m \u001b[0mrun\u001b[0m\u001b[1;33m(\u001b[0m\u001b[0mcmd\u001b[0m\u001b[1;33m,\u001b[0m \u001b[0minput\u001b[0m\u001b[1;33m=\u001b[0m\u001b[0mdata\u001b[0m\u001b[1;33m,\u001b[0m \u001b[0mcapture_output\u001b[0m\u001b[1;33m=\u001b[0m\u001b[1;32mTrue\u001b[0m\u001b[1;33m,\u001b[0m \u001b[0mcheck\u001b[0m\u001b[1;33m=\u001b[0m\u001b[1;32mTrue\u001b[0m\u001b[1;33m,\u001b[0m \u001b[0mquiet\u001b[0m\u001b[1;33m=\u001b[0m\u001b[0mquiet\u001b[0m\u001b[1;33m)\u001b[0m\u001b[1;33m\u001b[0m\u001b[1;33m\u001b[0m\u001b[0m\n\u001b[0m\u001b[0;32m    207\u001b[0m     \u001b[1;32mreturn\u001b[0m \u001b[0mout\u001b[0m\u001b[1;33m\u001b[0m\u001b[1;33m\u001b[0m\u001b[0m\n\u001b[0;32m    208\u001b[0m \u001b[1;33m\u001b[0m\u001b[0m\n",
      "\u001b[1;32m~\\Anaconda3\\lib\\site-packages\\graphviz\\backend.py\u001b[0m in \u001b[0;36mrun\u001b[1;34m(cmd, input, capture_output, check, quiet, **kwargs)\u001b[0m\n\u001b[0;32m    148\u001b[0m     \u001b[1;32mexcept\u001b[0m \u001b[0mOSError\u001b[0m \u001b[1;32mas\u001b[0m \u001b[0me\u001b[0m\u001b[1;33m:\u001b[0m\u001b[1;33m\u001b[0m\u001b[1;33m\u001b[0m\u001b[0m\n\u001b[0;32m    149\u001b[0m         \u001b[1;32mif\u001b[0m \u001b[0me\u001b[0m\u001b[1;33m.\u001b[0m\u001b[0merrno\u001b[0m \u001b[1;33m==\u001b[0m \u001b[0merrno\u001b[0m\u001b[1;33m.\u001b[0m\u001b[0mENOENT\u001b[0m\u001b[1;33m:\u001b[0m\u001b[1;33m\u001b[0m\u001b[1;33m\u001b[0m\u001b[0m\n\u001b[1;32m--> 150\u001b[1;33m             \u001b[1;32mraise\u001b[0m \u001b[0mExecutableNotFound\u001b[0m\u001b[1;33m(\u001b[0m\u001b[0mcmd\u001b[0m\u001b[1;33m)\u001b[0m\u001b[1;33m\u001b[0m\u001b[1;33m\u001b[0m\u001b[0m\n\u001b[0m\u001b[0;32m    151\u001b[0m         \u001b[1;32melse\u001b[0m\u001b[1;33m:\u001b[0m  \u001b[1;31m# pragma: no cover\u001b[0m\u001b[1;33m\u001b[0m\u001b[1;33m\u001b[0m\u001b[0m\n\u001b[0;32m    152\u001b[0m             \u001b[1;32mraise\u001b[0m\u001b[1;33m\u001b[0m\u001b[1;33m\u001b[0m\u001b[0m\n",
      "\u001b[1;31mExecutableNotFound\u001b[0m: failed to execute ['dot', '-Tpng'], make sure the Graphviz executables are on your systems' PATH"
     ]
    },
    {
     "data": {
      "image/png": "[encoded data removed]",
      "text/plain": [
       "<Figure size 720x720 with 1 Axes>"
      ]
     },
     "metadata": {
      "needs_background": "light"
     },
     "output_type": "display_data"
    }
   ],
   "source": [
    "import matplotlib.pyplot as plt\n",
    "\n",
    "xgb.plot_tree(xg_reg,num_trees=0)\n",
    "plt.rcParams['figure.figsize'] = [100, 100]\n",
    "plt.show()"
   ]
  },
  {
   "cell_type": "code",
   "execution_count": 702,
   "metadata": {},
   "outputs": [
    {
     "data": {
      "image/png": "[encoded data removed]",
      "text/plain": [
       "<Figure size 720x720 with 1 Axes>"
      ]
     },
     "metadata": {
      "needs_background": "light"
     },
     "output_type": "display_data"
    }
   ],
   "source": [
    "\n",
    "xgb.plot_importance(xg_reg)\n",
    "plt.rcParams['figure.figsize'] = [10, 10]\n",
    "plt.show()"
   ]
  },
  {
   "cell_type": "markdown",
   "metadata": {},
   "source": [
    "# ventana 2 auctions"
   ]
  },
  {
   "cell_type": "code",
   "execution_count": 763,
   "metadata": {},
   "outputs": [],
   "source": [
    "data=aut2"
   ]
  },
  {
   "cell_type": "code",
   "execution_count": 764,
   "metadata": {},
   "outputs": [
    {
     "name": "stdout",
     "output_type": "stream",
     "text": [
      "RMSE: 28587.162940\n"
     ]
    }
   ],
   "source": [
    "y= data['st']\n",
    "X = data.drop(['ref_hash','st'], axis=1)\n",
    "X_train, X_test, y_train, y_test = train_test_split(X, y, test_size=0.2, random_state=123)\n",
    "#XGB1 = xgb.XGBRegressor(objective ='reg:linear', colsample_bytree = 0.3, learning_rate = 0.1,\n",
    "#max_depth = 5, alpha = 10, n_estimators = 10)\n",
    "\n",
    "XGB2 = xgb.XGBRegressor()\n",
    "XGB2.fit(X_train,y_train)\n",
    "\n",
    "preds = XGB2.predict(X_test)\n",
    "#XGB1.fit(X, y)\n",
    "rmse = np.sqrt(mean_squared_error(y_test, preds))\n",
    "print(\"RMSE: %f\" % (rmse))\n",
    "#scores = cross_val_score(XGB1 , X, y, scoring = \"neg_mean_squared_error\", cv=5)\n",
    "\n",
    "#mse_scores = -scores\n",
    "# paso de MSE a RMSE\n",
    "#rmse_scores = np.sqrt(mse_scores)\n",
    "#rmse_scores.mean()"
   ]
  },
  {
   "cell_type": "markdown",
   "metadata": {},
   "source": [
    "# ventana 3 auctions"
   ]
  },
  {
   "cell_type": "code",
   "execution_count": 765,
   "metadata": {},
   "outputs": [],
   "source": [
    "data=aut3"
   ]
  },
  {
   "cell_type": "code",
   "execution_count": 766,
   "metadata": {},
   "outputs": [
    {
     "name": "stdout",
     "output_type": "stream",
     "text": [
      "RMSE: 28180.560989\n"
     ]
    }
   ],
   "source": [
    "y= data['st']\n",
    "X = data.drop(['ref_hash','st'], axis=1)\n",
    "X_train, X_test, y_train, y_test = train_test_split(X, y, test_size=0.2, random_state=123)\n",
    "#XGB1 = xgb.XGBRegressor(objective ='reg:linear', colsample_bytree = 0.3, learning_rate = 0.1,\n",
    "#max_depth = 5, alpha = 10, n_estimators = 10)\n",
    "\n",
    "XGB3 = xgb.XGBRegressor()\n",
    "XGB3.fit(X_train,y_train)\n",
    "\n",
    "preds = XGB3.predict(X_test)\n",
    "#XGB1.fit(X, y)\n",
    "rmse = np.sqrt(mean_squared_error(y_test, preds))\n",
    "print(\"RMSE: %f\" % (rmse))\n",
    "#scores = cross_val_score(XGB1 , X, y, scoring = \"neg_mean_squared_error\", cv=5)\n",
    "\n",
    "#mse_scores = -scores\n",
    "# paso de MSE a RMSE\n",
    "#rmse_scores = np.sqrt(mse_scores)\n",
    "#rmse_scores.mean()"
   ]
  },
  {
   "cell_type": "markdown",
   "metadata": {},
   "source": [
    "# ventana 4 auctions"
   ]
  },
  {
   "cell_type": "code",
   "execution_count": 767,
   "metadata": {},
   "outputs": [],
   "source": [
    "data=aut4"
   ]
  },
  {
   "cell_type": "code",
   "execution_count": 768,
   "metadata": {},
   "outputs": [
    {
     "name": "stdout",
     "output_type": "stream",
     "text": [
      "RMSE: 26983.499789\n"
     ]
    }
   ],
   "source": [
    "y= data['st']\n",
    "X = data.drop(['ref_hash','st'], axis=1)\n",
    "X_train, X_test, y_train, y_test = train_test_split(X, y, test_size=0.2, random_state=123)\n",
    "#XGB1 = xgb.XGBRegressor(objective ='reg:linear', colsample_bytree = 0.3, learning_rate = 0.1,\n",
    "#max_depth = 5, alpha = 10, n_estimators = 10)\n",
    "\n",
    "XGB4 = xgb.XGBRegressor()\n",
    "XGB4.fit(X_train,y_train)\n",
    "\n",
    "preds = XGB4.predict(X_test)\n",
    "#XGB1.fit(X, y)\n",
    "rmse = np.sqrt(mean_squared_error(y_test, preds))\n",
    "print(\"RMSE: %f\" % (rmse))\n",
    "#scores = cross_val_score(XGB1 , X, y, scoring = \"neg_mean_squared_error\", cv=5)\n",
    "\n",
    "#mse_scores = -scores\n",
    "# paso de MSE a RMSE\n",
    "#rmse_scores = np.sqrt(mse_scores)\n",
    "#rmse_scores.mean()"
   ]
  },
  {
   "cell_type": "markdown",
   "metadata": {},
   "source": [
    "# ventana 5 auctions"
   ]
  },
  {
   "cell_type": "code",
   "execution_count": 769,
   "metadata": {},
   "outputs": [],
   "source": [
    "data=aut5"
   ]
  },
  {
   "cell_type": "code",
   "execution_count": 770,
   "metadata": {},
   "outputs": [
    {
     "name": "stdout",
     "output_type": "stream",
     "text": [
      "RMSE: 29034.456444\n"
     ]
    }
   ],
   "source": [
    "y= data['st']\n",
    "X = data.drop(['ref_hash','st'], axis=1)\n",
    "X_train, X_test, y_train, y_test = train_test_split(X, y, test_size=0.2, random_state=123)\n",
    "#XGB1 = xgb.XGBRegressor(objective ='reg:linear', colsample_bytree = 0.3, learning_rate = 0.1,\n",
    "#max_depth = 5, alpha = 10, n_estimators = 10)\n",
    "\n",
    "XGB5 = xgb.XGBRegressor()\n",
    "XGB5.fit(X_train,y_train)\n",
    "\n",
    "preds = XGB5.predict(X_test)\n",
    "#XGB1.fit(X, y)\n",
    "rmse = np.sqrt(mean_squared_error(y_test, preds))\n",
    "print(\"RMSE: %f\" % (rmse))\n",
    "#scores = cross_val_score(XGB1 , X, y, scoring = \"neg_mean_squared_error\", cv=5)\n",
    "\n",
    "#mse_scores = -scores\n",
    "# paso de MSE a RMSE\n",
    "#rmse_scores = np.sqrt(mse_scores)\n",
    "#rmse_scores.mean()"
   ]
  },
  {
   "cell_type": "markdown",
   "metadata": {},
   "source": [
    "# ventana 6 auctions"
   ]
  },
  {
   "cell_type": "code",
   "execution_count": 771,
   "metadata": {},
   "outputs": [],
   "source": [
    "data=aut6"
   ]
  },
  {
   "cell_type": "code",
   "execution_count": 772,
   "metadata": {},
   "outputs": [
    {
     "name": "stdout",
     "output_type": "stream",
     "text": [
      "RMSE: 28103.226983\n"
     ]
    }
   ],
   "source": [
    "y= data['st']\n",
    "X = data.drop(['ref_hash','st'], axis=1)\n",
    "X_train, X_test, y_train, y_test = train_test_split(X, y, test_size=0.2, random_state=123)\n",
    "#XGB1 = xgb.XGBRegressor(objective ='reg:linear', colsample_bytree = 0.3, learning_rate = 0.1,\n",
    "#max_depth = 5, alpha = 10, n_estimators = 10)\n",
    "\n",
    "XGB6 = xgb.XGBRegressor()\n",
    "XGB6.fit(X_train,y_train)\n",
    "\n",
    "preds = XGB6.predict(X_test)\n",
    "#XGB1.fit(X, y)\n",
    "rmse = np.sqrt(mean_squared_error(y_test, preds))\n",
    "print(\"RMSE: %f\" % (rmse))\n",
    "#scores = cross_val_score(XGB1 , X, y, scoring = \"neg_mean_squared_error\", cv=5)\n",
    "\n",
    "#mse_scores = -scores\n",
    "# paso de MSE a RMSE\n",
    "#rmse_scores = np.sqrt(mse_scores)\n",
    "#rmse_scores.mean()"
   ]
  },
  {
   "cell_type": "code",
   "execution_count": null,
   "metadata": {},
   "outputs": [],
   "source": []
  },
  {
   "cell_type": "markdown",
   "metadata": {},
   "source": [
    "# Predicciones  auctions"
   ]
  },
  {
   "cell_type": "code",
   "execution_count": 773,
   "metadata": {},
   "outputs": [],
   "source": [
    "data=target_aut"
   ]
  },
  {
   "cell_type": "code",
   "execution_count": 774,
   "metadata": {},
   "outputs": [
    {
     "name": "stdout",
     "output_type": "stream",
     "text": [
      "<class 'pandas.core.frame.DataFrame'>\n",
      "Int64Index: 4037 entries, 0 to 4771\n",
      "Data columns (total 9 columns):\n",
      "ref_hash               4037 non-null int64\n",
      "auctions_count         4037 non-null float64\n",
      "dia_semana_mean        4037 non-null float64\n",
      "hora_mean              4037 non-null float64\n",
      "cantidad de eventos    4037 non-null float64\n",
      "timeToAuction_min      4037 non-null float64\n",
      "pop_media_apps         4037 non-null float64\n",
      "%Modelo                4037 non-null float64\n",
      "st                     4037 non-null int64\n",
      "dtypes: float64(7), int64(2)\n",
      "memory usage: 315.4 KB\n"
     ]
    }
   ],
   "source": [
    "data.info()"
   ]
  },
  {
   "cell_type": "code",
   "execution_count": 775,
   "metadata": {},
   "outputs": [
    {
     "data": {
      "text/html": [
       "<div>\n",
       "<style scoped>\n",
       "    .dataframe tbody tr th:only-of-type {\n",
       "        vertical-align: middle;\n",
       "    }\n",
       "\n",
       "    .dataframe tbody tr th {\n",
       "        vertical-align: top;\n",
       "    }\n",
       "\n",
       "    .dataframe thead th {\n",
       "        text-align: right;\n",
       "    }\n",
       "</style>\n",
       "<table border=\"1\" class=\"dataframe\">\n",
       "  <thead>\n",
       "    <tr style=\"text-align: right;\">\n",
       "      <th></th>\n",
       "      <th>ref_hash</th>\n",
       "      <th>auctions_count</th>\n",
       "      <th>dia_semana_mean</th>\n",
       "      <th>hora_mean</th>\n",
       "      <th>cantidad de eventos</th>\n",
       "      <th>timeToAuction_min</th>\n",
       "      <th>pop_media_apps</th>\n",
       "      <th>%Modelo</th>\n",
       "      <th>st</th>\n",
       "    </tr>\n",
       "  </thead>\n",
       "  <tbody>\n",
       "    <tr>\n",
       "      <th>0</th>\n",
       "      <td>1000169251625791246</td>\n",
       "      <td>13.0</td>\n",
       "      <td>4.538462</td>\n",
       "      <td>11.923077</td>\n",
       "      <td>2.0</td>\n",
       "      <td>76114.647428</td>\n",
       "      <td>372540.000000</td>\n",
       "      <td>0.750000</td>\n",
       "      <td>0</td>\n",
       "    </tr>\n",
       "    <tr>\n",
       "      <th>1</th>\n",
       "      <td>1000395625957344683</td>\n",
       "      <td>15.0</td>\n",
       "      <td>3.533333</td>\n",
       "      <td>15.733333</td>\n",
       "      <td>0.0</td>\n",
       "      <td>8034.974209</td>\n",
       "      <td>0.000000</td>\n",
       "      <td>0.591765</td>\n",
       "      <td>0</td>\n",
       "    </tr>\n",
       "    <tr>\n",
       "      <th>3</th>\n",
       "      <td>1003027494996471685</td>\n",
       "      <td>168.0</td>\n",
       "      <td>3.220238</td>\n",
       "      <td>8.952381</td>\n",
       "      <td>9.0</td>\n",
       "      <td>12171.691046</td>\n",
       "      <td>111596.111111</td>\n",
       "      <td>0.750000</td>\n",
       "      <td>0</td>\n",
       "    </tr>\n",
       "    <tr>\n",
       "      <th>4</th>\n",
       "      <td>1006670001679961544</td>\n",
       "      <td>3.0</td>\n",
       "      <td>4.333333</td>\n",
       "      <td>19.000000</td>\n",
       "      <td>0.0</td>\n",
       "      <td>64857.606340</td>\n",
       "      <td>0.000000</td>\n",
       "      <td>0.750000</td>\n",
       "      <td>0</td>\n",
       "    </tr>\n",
       "    <tr>\n",
       "      <th>5</th>\n",
       "      <td>1007573308966476713</td>\n",
       "      <td>7.0</td>\n",
       "      <td>3.571429</td>\n",
       "      <td>15.857143</td>\n",
       "      <td>0.0</td>\n",
       "      <td>18726.239096</td>\n",
       "      <td>0.000000</td>\n",
       "      <td>0.750000</td>\n",
       "      <td>0</td>\n",
       "    </tr>\n",
       "  </tbody>\n",
       "</table>\n",
       "</div>"
      ],
      "text/plain": [
       "              ref_hash  auctions_count  dia_semana_mean  hora_mean  \\\n",
       "0  1000169251625791246            13.0         4.538462  11.923077   \n",
       "1  1000395625957344683            15.0         3.533333  15.733333   \n",
       "3  1003027494996471685           168.0         3.220238   8.952381   \n",
       "4  1006670001679961544             3.0         4.333333  19.000000   \n",
       "5  1007573308966476713             7.0         3.571429  15.857143   \n",
       "\n",
       "   cantidad de eventos  timeToAuction_min  pop_media_apps   %Modelo  st  \n",
       "0                  2.0       76114.647428   372540.000000  0.750000   0  \n",
       "1                  0.0        8034.974209        0.000000  0.591765   0  \n",
       "3                  9.0       12171.691046   111596.111111  0.750000   0  \n",
       "4                  0.0       64857.606340        0.000000  0.750000   0  \n",
       "5                  0.0       18726.239096        0.000000  0.750000   0  "
      ]
     },
     "execution_count": 775,
     "metadata": {},
     "output_type": "execute_result"
    }
   ],
   "source": [
    "data.head()"
   ]
  },
  {
   "cell_type": "code",
   "execution_count": 776,
   "metadata": {},
   "outputs": [
    {
     "data": {
      "text/plain": [
       "Index(['ref_hash', 'auctions_count', 'dia_semana_mean', 'hora_mean',\n",
       "       'cantidad de eventos', 'timeToAuction_min', 'pop_media_apps', '%Modelo',\n",
       "       'st'],\n",
       "      dtype='object')"
      ]
     },
     "execution_count": 776,
     "metadata": {},
     "output_type": "execute_result"
    }
   ],
   "source": [
    "data.columns"
   ]
  },
  {
   "cell_type": "code",
   "execution_count": 777,
   "metadata": {},
   "outputs": [
    {
     "data": {
      "text/html": [
       "<div>\n",
       "<style scoped>\n",
       "    .dataframe tbody tr th:only-of-type {\n",
       "        vertical-align: middle;\n",
       "    }\n",
       "\n",
       "    .dataframe tbody tr th {\n",
       "        vertical-align: top;\n",
       "    }\n",
       "\n",
       "    .dataframe thead th {\n",
       "        text-align: right;\n",
       "    }\n",
       "</style>\n",
       "<table border=\"1\" class=\"dataframe\">\n",
       "  <thead>\n",
       "    <tr style=\"text-align: right;\">\n",
       "      <th></th>\n",
       "      <th>auctions_count</th>\n",
       "      <th>dia_semana_mean</th>\n",
       "      <th>hora_mean</th>\n",
       "      <th>cantidad de eventos</th>\n",
       "      <th>timeToAuction_min</th>\n",
       "      <th>pop_media_apps</th>\n",
       "      <th>%Modelo</th>\n",
       "    </tr>\n",
       "  </thead>\n",
       "  <tbody>\n",
       "    <tr>\n",
       "      <th>0</th>\n",
       "      <td>13.0</td>\n",
       "      <td>4.538462</td>\n",
       "      <td>11.923077</td>\n",
       "      <td>2.0</td>\n",
       "      <td>76114.647428</td>\n",
       "      <td>372540.000000</td>\n",
       "      <td>0.750000</td>\n",
       "    </tr>\n",
       "    <tr>\n",
       "      <th>1</th>\n",
       "      <td>15.0</td>\n",
       "      <td>3.533333</td>\n",
       "      <td>15.733333</td>\n",
       "      <td>0.0</td>\n",
       "      <td>8034.974209</td>\n",
       "      <td>0.000000</td>\n",
       "      <td>0.591765</td>\n",
       "    </tr>\n",
       "    <tr>\n",
       "      <th>3</th>\n",
       "      <td>168.0</td>\n",
       "      <td>3.220238</td>\n",
       "      <td>8.952381</td>\n",
       "      <td>9.0</td>\n",
       "      <td>12171.691046</td>\n",
       "      <td>111596.111111</td>\n",
       "      <td>0.750000</td>\n",
       "    </tr>\n",
       "    <tr>\n",
       "      <th>4</th>\n",
       "      <td>3.0</td>\n",
       "      <td>4.333333</td>\n",
       "      <td>19.000000</td>\n",
       "      <td>0.0</td>\n",
       "      <td>64857.606340</td>\n",
       "      <td>0.000000</td>\n",
       "      <td>0.750000</td>\n",
       "    </tr>\n",
       "    <tr>\n",
       "      <th>5</th>\n",
       "      <td>7.0</td>\n",
       "      <td>3.571429</td>\n",
       "      <td>15.857143</td>\n",
       "      <td>0.0</td>\n",
       "      <td>18726.239096</td>\n",
       "      <td>0.000000</td>\n",
       "      <td>0.750000</td>\n",
       "    </tr>\n",
       "  </tbody>\n",
       "</table>\n",
       "</div>"
      ],
      "text/plain": [
       "   auctions_count  dia_semana_mean  hora_mean  cantidad de eventos  \\\n",
       "0            13.0         4.538462  11.923077                  2.0   \n",
       "1            15.0         3.533333  15.733333                  0.0   \n",
       "3           168.0         3.220238   8.952381                  9.0   \n",
       "4             3.0         4.333333  19.000000                  0.0   \n",
       "5             7.0         3.571429  15.857143                  0.0   \n",
       "\n",
       "   timeToAuction_min  pop_media_apps   %Modelo  \n",
       "0       76114.647428   372540.000000  0.750000  \n",
       "1        8034.974209        0.000000  0.591765  \n",
       "3       12171.691046   111596.111111  0.750000  \n",
       "4       64857.606340        0.000000  0.750000  \n",
       "5       18726.239096        0.000000  0.750000  "
      ]
     },
     "execution_count": 777,
     "metadata": {},
     "output_type": "execute_result"
    }
   ],
   "source": [
    "\n",
    "feature_final = data.drop(columns = ['ref_hash','st'])\n",
    "feature_final.head()"
   ]
  },
  {
   "cell_type": "code",
   "execution_count": 604,
   "metadata": {},
   "outputs": [],
   "source": [
    "\n",
    "#VC = VotingClassifier(estimators=[('xgb', XGB1), ('xgb', XGB2),('xgb', XGB3),('xgb', XGB4),('xgb', XGB5),('xgb', XGB6)], voting='soft', weights = [1,2,3,4,5,6])"
   ]
  },
  {
   "cell_type": "code",
   "execution_count": 778,
   "metadata": {},
   "outputs": [],
   "source": [
    "#result1 = XGB1.predict(feature_final)\n",
    "result2 = XGB2.predict(feature_final)\n",
    "result3 = XGB3.predict(feature_final)\n",
    "result4 = XGB4.predict(feature_final)\n",
    "result5 = XGB5.predict(feature_final)\n",
    "result6 = XGB6.predict(feature_final)"
   ]
  },
  {
   "cell_type": "code",
   "execution_count": 779,
   "metadata": {},
   "outputs": [],
   "source": [
    "#hago un promedio ponderado\n",
    "#result_ponderado=result1 *0.05 + result2 * 0.10 + result3* 0.15 + result4 *0.20 + result5*0.23 + result6 *0.27\n",
    "#result_ponderado= result2 * 0.07 + result3* 0.13 + result4 *0.20 + result5*0.25 + result6 *0.35\n",
    "result_ponderado= result2 * 0.2+ result3* 0.2 + result4 *0.2 + result5*0.2 + result6 *0.2"
   ]
  },
  {
   "cell_type": "code",
   "execution_count": 780,
   "metadata": {},
   "outputs": [
    {
     "data": {
      "text/html": [
       "<div>\n",
       "<style scoped>\n",
       "    .dataframe tbody tr th:only-of-type {\n",
       "        vertical-align: middle;\n",
       "    }\n",
       "\n",
       "    .dataframe tbody tr th {\n",
       "        vertical-align: top;\n",
       "    }\n",
       "\n",
       "    .dataframe thead th {\n",
       "        text-align: right;\n",
       "    }\n",
       "</style>\n",
       "<table border=\"1\" class=\"dataframe\">\n",
       "  <thead>\n",
       "    <tr style=\"text-align: right;\">\n",
       "      <th></th>\n",
       "      <th>ref_hash</th>\n",
       "    </tr>\n",
       "  </thead>\n",
       "  <tbody>\n",
       "    <tr>\n",
       "      <th>0</th>\n",
       "      <td>1000169251625791246</td>\n",
       "    </tr>\n",
       "    <tr>\n",
       "      <th>1</th>\n",
       "      <td>1000395625957344683</td>\n",
       "    </tr>\n",
       "    <tr>\n",
       "      <th>3</th>\n",
       "      <td>1003027494996471685</td>\n",
       "    </tr>\n",
       "    <tr>\n",
       "      <th>4</th>\n",
       "      <td>1006670001679961544</td>\n",
       "    </tr>\n",
       "    <tr>\n",
       "      <th>5</th>\n",
       "      <td>1007573308966476713</td>\n",
       "    </tr>\n",
       "  </tbody>\n",
       "</table>\n",
       "</div>"
      ],
      "text/plain": [
       "              ref_hash\n",
       "0  1000169251625791246\n",
       "1  1000395625957344683\n",
       "3  1003027494996471685\n",
       "4  1006670001679961544\n",
       "5  1007573308966476713"
      ]
     },
     "execution_count": 780,
     "metadata": {},
     "output_type": "execute_result"
    }
   ],
   "source": [
    "target1 =data.drop(['auctions_count', 'dia_semana_mean', 'hora_mean','cantidad de eventos','timeToAuction_min','pop_media_apps','%Modelo','st'], axis=1)\n",
    "target1.head()"
   ]
  },
  {
   "cell_type": "code",
   "execution_count": 781,
   "metadata": {},
   "outputs": [
    {
     "name": "stdout",
     "output_type": "stream",
     "text": [
      "<class 'pandas.core.frame.DataFrame'>\n",
      "Int64Index: 4037 entries, 0 to 4771\n",
      "Data columns (total 1 columns):\n",
      "ref_hash    4037 non-null int64\n",
      "dtypes: int64(1)\n",
      "memory usage: 63.1 KB\n"
     ]
    }
   ],
   "source": [
    "target1.info()"
   ]
  },
  {
   "cell_type": "code",
   "execution_count": 782,
   "metadata": {},
   "outputs": [],
   "source": [
    "submit = []\n",
    "for l in result_ponderado:\n",
    "    submit.append(l)\n",
    "target1['obj'] = submit"
   ]
  },
  {
   "cell_type": "code",
   "execution_count": 783,
   "metadata": {},
   "outputs": [
    {
     "data": {
      "text/html": [
       "<div>\n",
       "<style scoped>\n",
       "    .dataframe tbody tr th:only-of-type {\n",
       "        vertical-align: middle;\n",
       "    }\n",
       "\n",
       "    .dataframe tbody tr th {\n",
       "        vertical-align: top;\n",
       "    }\n",
       "\n",
       "    .dataframe thead th {\n",
       "        text-align: right;\n",
       "    }\n",
       "</style>\n",
       "<table border=\"1\" class=\"dataframe\">\n",
       "  <thead>\n",
       "    <tr style=\"text-align: right;\">\n",
       "      <th></th>\n",
       "      <th>ref_hash</th>\n",
       "      <th>obj</th>\n",
       "    </tr>\n",
       "  </thead>\n",
       "  <tbody>\n",
       "    <tr>\n",
       "      <th>0</th>\n",
       "      <td>1000169251625791246</td>\n",
       "      <td>89993.890625</td>\n",
       "    </tr>\n",
       "    <tr>\n",
       "      <th>1</th>\n",
       "      <td>1000395625957344683</td>\n",
       "      <td>102323.250000</td>\n",
       "    </tr>\n",
       "    <tr>\n",
       "      <th>3</th>\n",
       "      <td>1003027494996471685</td>\n",
       "      <td>71915.585938</td>\n",
       "    </tr>\n",
       "    <tr>\n",
       "      <th>4</th>\n",
       "      <td>1006670001679961544</td>\n",
       "      <td>169471.093750</td>\n",
       "    </tr>\n",
       "    <tr>\n",
       "      <th>5</th>\n",
       "      <td>1007573308966476713</td>\n",
       "      <td>119022.656250</td>\n",
       "    </tr>\n",
       "  </tbody>\n",
       "</table>\n",
       "</div>"
      ],
      "text/plain": [
       "              ref_hash            obj\n",
       "0  1000169251625791246   89993.890625\n",
       "1  1000395625957344683  102323.250000\n",
       "3  1003027494996471685   71915.585938\n",
       "4  1006670001679961544  169471.093750\n",
       "5  1007573308966476713  119022.656250"
      ]
     },
     "execution_count": 783,
     "metadata": {},
     "output_type": "execute_result"
    }
   ],
   "source": [
    "target1.head()\n"
   ]
  },
  {
   "cell_type": "code",
   "execution_count": 784,
   "metadata": {},
   "outputs": [
    {
     "name": "stdout",
     "output_type": "stream",
     "text": [
      "<class 'pandas.core.frame.DataFrame'>\n",
      "Int64Index: 4037 entries, 0 to 8072\n",
      "Data columns (total 2 columns):\n",
      "ref_hash    4037 non-null int64\n",
      "obj         4037 non-null int64\n",
      "dtypes: int64(2)\n",
      "memory usage: 94.6 KB\n"
     ]
    }
   ],
   "source": [
    "target.info()"
   ]
  },
  {
   "cell_type": "code",
   "execution_count": 785,
   "metadata": {},
   "outputs": [
    {
     "data": {
      "text/html": [
       "<div>\n",
       "<style scoped>\n",
       "    .dataframe tbody tr th:only-of-type {\n",
       "        vertical-align: middle;\n",
       "    }\n",
       "\n",
       "    .dataframe tbody tr th {\n",
       "        vertical-align: top;\n",
       "    }\n",
       "\n",
       "    .dataframe thead th {\n",
       "        text-align: right;\n",
       "    }\n",
       "</style>\n",
       "<table border=\"1\" class=\"dataframe\">\n",
       "  <thead>\n",
       "    <tr style=\"text-align: right;\">\n",
       "      <th></th>\n",
       "      <th>ref_hash</th>\n",
       "      <th>obj</th>\n",
       "    </tr>\n",
       "  </thead>\n",
       "  <tbody>\n",
       "    <tr>\n",
       "      <th>0</th>\n",
       "      <td>1000169251625791246_st</td>\n",
       "      <td>89993.890625</td>\n",
       "    </tr>\n",
       "    <tr>\n",
       "      <th>1</th>\n",
       "      <td>1000395625957344683_st</td>\n",
       "      <td>102323.250000</td>\n",
       "    </tr>\n",
       "    <tr>\n",
       "      <th>3</th>\n",
       "      <td>1003027494996471685_st</td>\n",
       "      <td>71915.585938</td>\n",
       "    </tr>\n",
       "    <tr>\n",
       "      <th>4</th>\n",
       "      <td>1006670001679961544_st</td>\n",
       "      <td>169471.093750</td>\n",
       "    </tr>\n",
       "    <tr>\n",
       "      <th>5</th>\n",
       "      <td>1007573308966476713_st</td>\n",
       "      <td>119022.656250</td>\n",
       "    </tr>\n",
       "  </tbody>\n",
       "</table>\n",
       "</div>"
      ],
      "text/plain": [
       "                 ref_hash            obj\n",
       "0  1000169251625791246_st   89993.890625\n",
       "1  1000395625957344683_st  102323.250000\n",
       "3  1003027494996471685_st   71915.585938\n",
       "4  1006670001679961544_st  169471.093750\n",
       "5  1007573308966476713_st  119022.656250"
      ]
     },
     "execution_count": 785,
     "metadata": {},
     "output_type": "execute_result"
    }
   ],
   "source": [
    "\n",
    "target1['ref_hash'] =  target1['ref_hash'].astype(str) +'_st'\n",
    "target1.head()"
   ]
  },
  {
   "cell_type": "code",
   "execution_count": 786,
   "metadata": {},
   "outputs": [
    {
     "data": {
      "text/plain": [
       "4037"
      ]
     },
     "execution_count": 786,
     "metadata": {},
     "output_type": "execute_result"
    }
   ],
   "source": [
    "target1['ref_hash'].size"
   ]
  },
  {
   "cell_type": "markdown",
   "metadata": {},
   "source": [
    "#  Corro los modelos installs"
   ]
  },
  {
   "cell_type": "markdown",
   "metadata": {},
   "source": [
    "# ventana 1 installs"
   ]
  },
  {
   "cell_type": "code",
   "execution_count": 787,
   "metadata": {},
   "outputs": [],
   "source": [
    "data=inst1"
   ]
  },
  {
   "cell_type": "code",
   "execution_count": 788,
   "metadata": {},
   "outputs": [
    {
     "ename": "KeyError",
     "evalue": "'st'",
     "output_type": "error",
     "traceback": [
      "\u001b[1;31m---------------------------------------------------------------------------\u001b[0m",
      "\u001b[1;31mKeyError\u001b[0m                                  Traceback (most recent call last)",
      "\u001b[1;32m~\\Anaconda3\\lib\\site-packages\\pandas\\core\\indexes\\base.py\u001b[0m in \u001b[0;36mget_loc\u001b[1;34m(self, key, method, tolerance)\u001b[0m\n\u001b[0;32m   2656\u001b[0m             \u001b[1;32mtry\u001b[0m\u001b[1;33m:\u001b[0m\u001b[1;33m\u001b[0m\u001b[1;33m\u001b[0m\u001b[0m\n\u001b[1;32m-> 2657\u001b[1;33m                 \u001b[1;32mreturn\u001b[0m \u001b[0mself\u001b[0m\u001b[1;33m.\u001b[0m\u001b[0m_engine\u001b[0m\u001b[1;33m.\u001b[0m\u001b[0mget_loc\u001b[0m\u001b[1;33m(\u001b[0m\u001b[0mkey\u001b[0m\u001b[1;33m)\u001b[0m\u001b[1;33m\u001b[0m\u001b[1;33m\u001b[0m\u001b[0m\n\u001b[0m\u001b[0;32m   2658\u001b[0m             \u001b[1;32mexcept\u001b[0m \u001b[0mKeyError\u001b[0m\u001b[1;33m:\u001b[0m\u001b[1;33m\u001b[0m\u001b[1;33m\u001b[0m\u001b[0m\n",
      "\u001b[1;32mpandas/_libs/index.pyx\u001b[0m in \u001b[0;36mpandas._libs.index.IndexEngine.get_loc\u001b[1;34m()\u001b[0m\n",
      "\u001b[1;32mpandas/_libs/index.pyx\u001b[0m in \u001b[0;36mpandas._libs.index.IndexEngine.get_loc\u001b[1;34m()\u001b[0m\n",
      "\u001b[1;32mpandas/_libs/hashtable_class_helper.pxi\u001b[0m in \u001b[0;36mpandas._libs.hashtable.PyObjectHashTable.get_item\u001b[1;34m()\u001b[0m\n",
      "\u001b[1;32mpandas/_libs/hashtable_class_helper.pxi\u001b[0m in \u001b[0;36mpandas._libs.hashtable.PyObjectHashTable.get_item\u001b[1;34m()\u001b[0m\n",
      "\u001b[1;31mKeyError\u001b[0m: 'st'",
      "\nDuring handling of the above exception, another exception occurred:\n",
      "\u001b[1;31mKeyError\u001b[0m                                  Traceback (most recent call last)",
      "\u001b[1;32m<ipython-input-788-8825bf0f6ff4>\u001b[0m in \u001b[0;36m<module>\u001b[1;34m\u001b[0m\n\u001b[1;32m----> 1\u001b[1;33m \u001b[0my\u001b[0m\u001b[1;33m=\u001b[0m \u001b[0mdata\u001b[0m\u001b[1;33m[\u001b[0m\u001b[1;34m'st'\u001b[0m\u001b[1;33m]\u001b[0m\u001b[1;33m\u001b[0m\u001b[1;33m\u001b[0m\u001b[0m\n\u001b[0m\u001b[0;32m      2\u001b[0m \u001b[0mX\u001b[0m \u001b[1;33m=\u001b[0m \u001b[0mdata\u001b[0m\u001b[1;33m.\u001b[0m\u001b[0mdrop\u001b[0m\u001b[1;33m(\u001b[0m\u001b[1;33m[\u001b[0m\u001b[1;34m'ref_hash'\u001b[0m\u001b[1;33m,\u001b[0m \u001b[1;34m'sc'\u001b[0m\u001b[1;33m]\u001b[0m\u001b[1;33m,\u001b[0m \u001b[0maxis\u001b[0m\u001b[1;33m=\u001b[0m\u001b[1;36m1\u001b[0m\u001b[1;33m)\u001b[0m\u001b[1;33m\u001b[0m\u001b[1;33m\u001b[0m\u001b[0m\n\u001b[0;32m      3\u001b[0m \u001b[1;33m\u001b[0m\u001b[0m\n\u001b[0;32m      4\u001b[0m \u001b[0mXGB1\u001b[0m \u001b[1;33m=\u001b[0m \u001b[0mxgb\u001b[0m\u001b[1;33m.\u001b[0m\u001b[0mXGBRegressor\u001b[0m\u001b[1;33m(\u001b[0m\u001b[1;33m)\u001b[0m\u001b[1;33m\u001b[0m\u001b[1;33m\u001b[0m\u001b[0m\n\u001b[0;32m      5\u001b[0m \u001b[0mXGB1\u001b[0m\u001b[1;33m.\u001b[0m\u001b[0mfit\u001b[0m\u001b[1;33m(\u001b[0m\u001b[0mX\u001b[0m\u001b[1;33m,\u001b[0m \u001b[0my\u001b[0m\u001b[1;33m)\u001b[0m\u001b[1;33m\u001b[0m\u001b[1;33m\u001b[0m\u001b[0m\n",
      "\u001b[1;32m~\\Anaconda3\\lib\\site-packages\\pandas\\core\\frame.py\u001b[0m in \u001b[0;36m__getitem__\u001b[1;34m(self, key)\u001b[0m\n\u001b[0;32m   2925\u001b[0m             \u001b[1;32mif\u001b[0m \u001b[0mself\u001b[0m\u001b[1;33m.\u001b[0m\u001b[0mcolumns\u001b[0m\u001b[1;33m.\u001b[0m\u001b[0mnlevels\u001b[0m \u001b[1;33m>\u001b[0m \u001b[1;36m1\u001b[0m\u001b[1;33m:\u001b[0m\u001b[1;33m\u001b[0m\u001b[1;33m\u001b[0m\u001b[0m\n\u001b[0;32m   2926\u001b[0m                 \u001b[1;32mreturn\u001b[0m \u001b[0mself\u001b[0m\u001b[1;33m.\u001b[0m\u001b[0m_getitem_multilevel\u001b[0m\u001b[1;33m(\u001b[0m\u001b[0mkey\u001b[0m\u001b[1;33m)\u001b[0m\u001b[1;33m\u001b[0m\u001b[1;33m\u001b[0m\u001b[0m\n\u001b[1;32m-> 2927\u001b[1;33m             \u001b[0mindexer\u001b[0m \u001b[1;33m=\u001b[0m \u001b[0mself\u001b[0m\u001b[1;33m.\u001b[0m\u001b[0mcolumns\u001b[0m\u001b[1;33m.\u001b[0m\u001b[0mget_loc\u001b[0m\u001b[1;33m(\u001b[0m\u001b[0mkey\u001b[0m\u001b[1;33m)\u001b[0m\u001b[1;33m\u001b[0m\u001b[1;33m\u001b[0m\u001b[0m\n\u001b[0m\u001b[0;32m   2928\u001b[0m             \u001b[1;32mif\u001b[0m \u001b[0mis_integer\u001b[0m\u001b[1;33m(\u001b[0m\u001b[0mindexer\u001b[0m\u001b[1;33m)\u001b[0m\u001b[1;33m:\u001b[0m\u001b[1;33m\u001b[0m\u001b[1;33m\u001b[0m\u001b[0m\n\u001b[0;32m   2929\u001b[0m                 \u001b[0mindexer\u001b[0m \u001b[1;33m=\u001b[0m \u001b[1;33m[\u001b[0m\u001b[0mindexer\u001b[0m\u001b[1;33m]\u001b[0m\u001b[1;33m\u001b[0m\u001b[1;33m\u001b[0m\u001b[0m\n",
      "\u001b[1;32m~\\Anaconda3\\lib\\site-packages\\pandas\\core\\indexes\\base.py\u001b[0m in \u001b[0;36mget_loc\u001b[1;34m(self, key, method, tolerance)\u001b[0m\n\u001b[0;32m   2657\u001b[0m                 \u001b[1;32mreturn\u001b[0m \u001b[0mself\u001b[0m\u001b[1;33m.\u001b[0m\u001b[0m_engine\u001b[0m\u001b[1;33m.\u001b[0m\u001b[0mget_loc\u001b[0m\u001b[1;33m(\u001b[0m\u001b[0mkey\u001b[0m\u001b[1;33m)\u001b[0m\u001b[1;33m\u001b[0m\u001b[1;33m\u001b[0m\u001b[0m\n\u001b[0;32m   2658\u001b[0m             \u001b[1;32mexcept\u001b[0m \u001b[0mKeyError\u001b[0m\u001b[1;33m:\u001b[0m\u001b[1;33m\u001b[0m\u001b[1;33m\u001b[0m\u001b[0m\n\u001b[1;32m-> 2659\u001b[1;33m                 \u001b[1;32mreturn\u001b[0m \u001b[0mself\u001b[0m\u001b[1;33m.\u001b[0m\u001b[0m_engine\u001b[0m\u001b[1;33m.\u001b[0m\u001b[0mget_loc\u001b[0m\u001b[1;33m(\u001b[0m\u001b[0mself\u001b[0m\u001b[1;33m.\u001b[0m\u001b[0m_maybe_cast_indexer\u001b[0m\u001b[1;33m(\u001b[0m\u001b[0mkey\u001b[0m\u001b[1;33m)\u001b[0m\u001b[1;33m)\u001b[0m\u001b[1;33m\u001b[0m\u001b[1;33m\u001b[0m\u001b[0m\n\u001b[0m\u001b[0;32m   2660\u001b[0m         \u001b[0mindexer\u001b[0m \u001b[1;33m=\u001b[0m \u001b[0mself\u001b[0m\u001b[1;33m.\u001b[0m\u001b[0mget_indexer\u001b[0m\u001b[1;33m(\u001b[0m\u001b[1;33m[\u001b[0m\u001b[0mkey\u001b[0m\u001b[1;33m]\u001b[0m\u001b[1;33m,\u001b[0m \u001b[0mmethod\u001b[0m\u001b[1;33m=\u001b[0m\u001b[0mmethod\u001b[0m\u001b[1;33m,\u001b[0m \u001b[0mtolerance\u001b[0m\u001b[1;33m=\u001b[0m\u001b[0mtolerance\u001b[0m\u001b[1;33m)\u001b[0m\u001b[1;33m\u001b[0m\u001b[1;33m\u001b[0m\u001b[0m\n\u001b[0;32m   2661\u001b[0m         \u001b[1;32mif\u001b[0m \u001b[0mindexer\u001b[0m\u001b[1;33m.\u001b[0m\u001b[0mndim\u001b[0m \u001b[1;33m>\u001b[0m \u001b[1;36m1\u001b[0m \u001b[1;32mor\u001b[0m \u001b[0mindexer\u001b[0m\u001b[1;33m.\u001b[0m\u001b[0msize\u001b[0m \u001b[1;33m>\u001b[0m \u001b[1;36m1\u001b[0m\u001b[1;33m:\u001b[0m\u001b[1;33m\u001b[0m\u001b[1;33m\u001b[0m\u001b[0m\n",
      "\u001b[1;32mpandas/_libs/index.pyx\u001b[0m in \u001b[0;36mpandas._libs.index.IndexEngine.get_loc\u001b[1;34m()\u001b[0m\n",
      "\u001b[1;32mpandas/_libs/index.pyx\u001b[0m in \u001b[0;36mpandas._libs.index.IndexEngine.get_loc\u001b[1;34m()\u001b[0m\n",
      "\u001b[1;32mpandas/_libs/hashtable_class_helper.pxi\u001b[0m in \u001b[0;36mpandas._libs.hashtable.PyObjectHashTable.get_item\u001b[1;34m()\u001b[0m\n",
      "\u001b[1;32mpandas/_libs/hashtable_class_helper.pxi\u001b[0m in \u001b[0;36mpandas._libs.hashtable.PyObjectHashTable.get_item\u001b[1;34m()\u001b[0m\n",
      "\u001b[1;31mKeyError\u001b[0m: 'st'"
     ]
    }
   ],
   "source": [
    "y= data['st']\n",
    "X = data.drop(['ref_hash', 'sc'], axis=1)\n",
    "\n",
    "XGB1 = xgb.XGBRegressor()\n",
    "XGB1.fit(X, y)\n",
    "\n",
    "scores = cross_val_score(XGB1 , X, y, scoring = \"neg_mean_squared_error\", cv=5)\n",
    "\n",
    "mse_scores = -scores\n",
    "# paso de MSE a RMSE\n",
    "rmse_scores = np.sqrt(mse_scores)\n",
    "rmse_scores.mean()"
   ]
  },
  {
   "cell_type": "markdown",
   "metadata": {},
   "source": [
    "# ventana 2 installs"
   ]
  },
  {
   "cell_type": "code",
   "execution_count": 789,
   "metadata": {},
   "outputs": [],
   "source": [
    "data=inst2"
   ]
  },
  {
   "cell_type": "code",
   "execution_count": 790,
   "metadata": {},
   "outputs": [
    {
     "name": "stdout",
     "output_type": "stream",
     "text": [
      "RMSE: 6402.669227\n"
     ]
    }
   ],
   "source": [
    "y= data['sc']\n",
    "X = data.drop(['ref_hash','sc'], axis=1)\n",
    "X_train, X_test, y_train, y_test = train_test_split(X, y, test_size=0.2, random_state=123)\n",
    "#XGB1 = xgb.XGBRegressor(objective ='reg:linear', colsample_bytree = 0.3, learning_rate = 0.1,\n",
    "#max_depth = 5, alpha = 10, n_estimators = 10)\n",
    "\n",
    "XGB2 = xgb.XGBRegressor()\n",
    "XGB2.fit(X_train,y_train)\n",
    "\n",
    "preds = XGB2.predict(X_test)\n",
    "#XGB1.fit(X, y)\n",
    "rmse = np.sqrt(mean_squared_error(y_test, preds))\n",
    "print(\"RMSE: %f\" % (rmse))\n",
    "#scores = cross_val_score(XGB1 , X, y, scoring = \"neg_mean_squared_error\", cv=5)\n",
    "\n",
    "#mse_scores = -scores\n",
    "# paso de MSE a RMSE\n",
    "#rmse_scores = np.sqrt(mse_scores)\n",
    "#rmse_scores.mean()"
   ]
  },
  {
   "cell_type": "markdown",
   "metadata": {},
   "source": [
    "# ventana 3 installs"
   ]
  },
  {
   "cell_type": "code",
   "execution_count": 791,
   "metadata": {},
   "outputs": [],
   "source": [
    "data=inst3"
   ]
  },
  {
   "cell_type": "code",
   "execution_count": 792,
   "metadata": {},
   "outputs": [
    {
     "name": "stdout",
     "output_type": "stream",
     "text": [
      "RMSE: 5111.338511\n"
     ]
    }
   ],
   "source": [
    "y= data['sc']\n",
    "X = data.drop(['ref_hash','sc'], axis=1)\n",
    "X_train, X_test, y_train, y_test = train_test_split(X, y, test_size=0.2, random_state=123)\n",
    "#XGB1 = xgb.XGBRegressor(objective ='reg:linear', colsample_bytree = 0.3, learning_rate = 0.1,\n",
    "#max_depth = 5, alpha = 10, n_estimators = 10)\n",
    "\n",
    "XGB3 = xgb.XGBRegressor()\n",
    "XGB3.fit(X_train,y_train)\n",
    "\n",
    "preds = XGB3.predict(X_test)\n",
    "#XGB1.fit(X, y)\n",
    "rmse = np.sqrt(mean_squared_error(y_test, preds))\n",
    "print(\"RMSE: %f\" % (rmse))\n",
    "#scores = cross_val_score(XGB1 , X, y, scoring = \"neg_mean_squared_error\", cv=5)\n",
    "\n",
    "#mse_scores = -scores\n",
    "# paso de MSE a RMSE\n",
    "#rmse_scores = np.sqrt(mse_scores)\n",
    "#rmse_scores.mean()"
   ]
  },
  {
   "cell_type": "markdown",
   "metadata": {},
   "source": [
    "# ventana 4 installs"
   ]
  },
  {
   "cell_type": "code",
   "execution_count": 793,
   "metadata": {},
   "outputs": [],
   "source": [
    "data=inst4"
   ]
  },
  {
   "cell_type": "code",
   "execution_count": 794,
   "metadata": {},
   "outputs": [
    {
     "name": "stdout",
     "output_type": "stream",
     "text": [
      "RMSE: 5018.290780\n"
     ]
    }
   ],
   "source": [
    "y= data['sc']\n",
    "X = data.drop(['ref_hash','sc'], axis=1)\n",
    "X_train, X_test, y_train, y_test = train_test_split(X, y, test_size=0.2, random_state=123)\n",
    "#XGB1 = xgb.XGBRegressor(objective ='reg:linear', colsample_bytree = 0.3, learning_rate = 0.1,\n",
    "#max_depth = 5, alpha = 10, n_estimators = 10)\n",
    "\n",
    "XGB4 = xgb.XGBRegressor()\n",
    "XGB4.fit(X_train,y_train)\n",
    "\n",
    "preds = XGB4.predict(X_test)\n",
    "#XGB1.fit(X, y)\n",
    "rmse = np.sqrt(mean_squared_error(y_test, preds))\n",
    "print(\"RMSE: %f\" % (rmse))\n",
    "#scores = cross_val_score(XGB1 , X, y, scoring = \"neg_mean_squared_error\", cv=5)\n",
    "\n",
    "#mse_scores = -scores\n",
    "# paso de MSE a RMSE\n",
    "#rmse_scores = np.sqrt(mse_scores)\n",
    "#rmse_scores.mean()"
   ]
  },
  {
   "cell_type": "markdown",
   "metadata": {},
   "source": [
    "# ventana 5 installs"
   ]
  },
  {
   "cell_type": "code",
   "execution_count": 795,
   "metadata": {},
   "outputs": [],
   "source": [
    "data=inst5"
   ]
  },
  {
   "cell_type": "code",
   "execution_count": 796,
   "metadata": {},
   "outputs": [
    {
     "name": "stdout",
     "output_type": "stream",
     "text": [
      "RMSE: 6596.370841\n"
     ]
    }
   ],
   "source": [
    "y= data['sc']\n",
    "X = data.drop(['ref_hash','sc'], axis=1)\n",
    "X_train, X_test, y_train, y_test = train_test_split(X, y, test_size=0.2, random_state=123)\n",
    "#XGB1 = xgb.XGBRegressor(objective ='reg:linear', colsample_bytree = 0.3, learning_rate = 0.1,\n",
    "#max_depth = 5, alpha = 10, n_estimators = 10)\n",
    "\n",
    "XGB5 = xgb.XGBRegressor()\n",
    "XGB5.fit(X_train,y_train)\n",
    "\n",
    "preds = XGB5.predict(X_test)\n",
    "#XGB1.fit(X, y)\n",
    "rmse = np.sqrt(mean_squared_error(y_test, preds))\n",
    "print(\"RMSE: %f\" % (rmse))\n",
    "#scores = cross_val_score(XGB1 , X, y, scoring = \"neg_mean_squared_error\", cv=5)\n",
    "\n",
    "#mse_scores = -scores\n",
    "# paso de MSE a RMSE\n",
    "#rmse_scores = np.sqrt(mse_scores)\n",
    "#rmse_scores.mean()"
   ]
  },
  {
   "cell_type": "markdown",
   "metadata": {},
   "source": [
    "# ventana 6 installs"
   ]
  },
  {
   "cell_type": "code",
   "execution_count": 797,
   "metadata": {},
   "outputs": [],
   "source": [
    "data=inst6"
   ]
  },
  {
   "cell_type": "code",
   "execution_count": 798,
   "metadata": {},
   "outputs": [
    {
     "name": "stdout",
     "output_type": "stream",
     "text": [
      "RMSE: 8233.633193\n"
     ]
    }
   ],
   "source": [
    "y= data['sc']\n",
    "X = data.drop(['ref_hash','sc'], axis=1)\n",
    "X_train, X_test, y_train, y_test = train_test_split(X, y, test_size=0.2, random_state=123)\n",
    "#XGB1 = xgb.XGBRegressor(objective ='reg:linear', colsample_bytree = 0.3, learning_rate = 0.1,\n",
    "#max_depth = 5, alpha = 10, n_estimators = 10)\n",
    "\n",
    "XGB6 = xgb.XGBRegressor()\n",
    "XGB6.fit(X_train,y_train)\n",
    "\n",
    "preds = XGB6.predict(X_test)\n",
    "#XGB1.fit(X, y)\n",
    "rmse = np.sqrt(mean_squared_error(y_test, preds))\n",
    "print(\"RMSE: %f\" % (rmse))\n",
    "#scores = cross_val_score(XGB1 , X, y, scoring = \"neg_mean_squared_error\", cv=5)\n",
    "\n",
    "#mse_scores = -scores\n",
    "# paso de MSE a RMSE\n",
    "#rmse_scores = np.sqrt(mse_scores)\n",
    "#rmse_scores.mean()"
   ]
  },
  {
   "cell_type": "markdown",
   "metadata": {},
   "source": [
    "# Predicciones  installs"
   ]
  },
  {
   "cell_type": "code",
   "execution_count": 799,
   "metadata": {},
   "outputs": [
    {
     "data": {
      "text/html": [
       "<div>\n",
       "<style scoped>\n",
       "    .dataframe tbody tr th:only-of-type {\n",
       "        vertical-align: middle;\n",
       "    }\n",
       "\n",
       "    .dataframe tbody tr th {\n",
       "        vertical-align: top;\n",
       "    }\n",
       "\n",
       "    .dataframe thead th {\n",
       "        text-align: right;\n",
       "    }\n",
       "</style>\n",
       "<table border=\"1\" class=\"dataframe\">\n",
       "  <thead>\n",
       "    <tr style=\"text-align: right;\">\n",
       "      <th></th>\n",
       "      <th>ref_hash</th>\n",
       "      <th>installs_count</th>\n",
       "      <th>dia_semana_mean</th>\n",
       "      <th>hora_mean</th>\n",
       "      <th>cantidad de eventos</th>\n",
       "      <th>timeToConversion_min</th>\n",
       "      <th>pop_media_apps</th>\n",
       "      <th>%Modelo</th>\n",
       "      <th>sc</th>\n",
       "    </tr>\n",
       "  </thead>\n",
       "  <tbody>\n",
       "    <tr>\n",
       "      <th>0</th>\n",
       "      <td>1000169251625791246</td>\n",
       "      <td>0.0</td>\n",
       "      <td>0.0</td>\n",
       "      <td>0.0</td>\n",
       "      <td>2.0</td>\n",
       "      <td>259200.0</td>\n",
       "      <td>372540.000000</td>\n",
       "      <td>0.750000</td>\n",
       "      <td>0</td>\n",
       "    </tr>\n",
       "    <tr>\n",
       "      <th>1</th>\n",
       "      <td>1000395625957344683</td>\n",
       "      <td>0.0</td>\n",
       "      <td>0.0</td>\n",
       "      <td>0.0</td>\n",
       "      <td>0.0</td>\n",
       "      <td>259200.0</td>\n",
       "      <td>0.000000</td>\n",
       "      <td>0.591765</td>\n",
       "      <td>0</td>\n",
       "    </tr>\n",
       "    <tr>\n",
       "      <th>3</th>\n",
       "      <td>1003027494996471685</td>\n",
       "      <td>0.0</td>\n",
       "      <td>0.0</td>\n",
       "      <td>0.0</td>\n",
       "      <td>9.0</td>\n",
       "      <td>259200.0</td>\n",
       "      <td>111596.111111</td>\n",
       "      <td>0.750000</td>\n",
       "      <td>0</td>\n",
       "    </tr>\n",
       "    <tr>\n",
       "      <th>4</th>\n",
       "      <td>1006670001679961544</td>\n",
       "      <td>0.0</td>\n",
       "      <td>0.0</td>\n",
       "      <td>0.0</td>\n",
       "      <td>0.0</td>\n",
       "      <td>259200.0</td>\n",
       "      <td>0.000000</td>\n",
       "      <td>0.750000</td>\n",
       "      <td>0</td>\n",
       "    </tr>\n",
       "    <tr>\n",
       "      <th>5</th>\n",
       "      <td>1007573308966476713</td>\n",
       "      <td>0.0</td>\n",
       "      <td>0.0</td>\n",
       "      <td>0.0</td>\n",
       "      <td>0.0</td>\n",
       "      <td>259200.0</td>\n",
       "      <td>0.000000</td>\n",
       "      <td>0.750000</td>\n",
       "      <td>0</td>\n",
       "    </tr>\n",
       "  </tbody>\n",
       "</table>\n",
       "</div>"
      ],
      "text/plain": [
       "              ref_hash  installs_count  dia_semana_mean  hora_mean  \\\n",
       "0  1000169251625791246             0.0              0.0        0.0   \n",
       "1  1000395625957344683             0.0              0.0        0.0   \n",
       "3  1003027494996471685             0.0              0.0        0.0   \n",
       "4  1006670001679961544             0.0              0.0        0.0   \n",
       "5  1007573308966476713             0.0              0.0        0.0   \n",
       "\n",
       "   cantidad de eventos  timeToConversion_min  pop_media_apps   %Modelo  sc  \n",
       "0                  2.0              259200.0   372540.000000  0.750000   0  \n",
       "1                  0.0              259200.0        0.000000  0.591765   0  \n",
       "3                  9.0              259200.0   111596.111111  0.750000   0  \n",
       "4                  0.0              259200.0        0.000000  0.750000   0  \n",
       "5                  0.0              259200.0        0.000000  0.750000   0  "
      ]
     },
     "execution_count": 799,
     "metadata": {},
     "output_type": "execute_result"
    }
   ],
   "source": [
    "data=target_inst\n",
    "data.head()"
   ]
  },
  {
   "cell_type": "code",
   "execution_count": 800,
   "metadata": {},
   "outputs": [
    {
     "data": {
      "text/html": [
       "<div>\n",
       "<style scoped>\n",
       "    .dataframe tbody tr th:only-of-type {\n",
       "        vertical-align: middle;\n",
       "    }\n",
       "\n",
       "    .dataframe tbody tr th {\n",
       "        vertical-align: top;\n",
       "    }\n",
       "\n",
       "    .dataframe thead th {\n",
       "        text-align: right;\n",
       "    }\n",
       "</style>\n",
       "<table border=\"1\" class=\"dataframe\">\n",
       "  <thead>\n",
       "    <tr style=\"text-align: right;\">\n",
       "      <th></th>\n",
       "      <th>ref_hash</th>\n",
       "    </tr>\n",
       "  </thead>\n",
       "  <tbody>\n",
       "    <tr>\n",
       "      <th>0</th>\n",
       "      <td>1000169251625791246</td>\n",
       "    </tr>\n",
       "    <tr>\n",
       "      <th>1</th>\n",
       "      <td>1000395625957344683</td>\n",
       "    </tr>\n",
       "    <tr>\n",
       "      <th>3</th>\n",
       "      <td>1003027494996471685</td>\n",
       "    </tr>\n",
       "    <tr>\n",
       "      <th>4</th>\n",
       "      <td>1006670001679961544</td>\n",
       "    </tr>\n",
       "    <tr>\n",
       "      <th>5</th>\n",
       "      <td>1007573308966476713</td>\n",
       "    </tr>\n",
       "  </tbody>\n",
       "</table>\n",
       "</div>"
      ],
      "text/plain": [
       "              ref_hash\n",
       "0  1000169251625791246\n",
       "1  1000395625957344683\n",
       "3  1003027494996471685\n",
       "4  1006670001679961544\n",
       "5  1007573308966476713"
      ]
     },
     "execution_count": 800,
     "metadata": {},
     "output_type": "execute_result"
    }
   ],
   "source": [
    "target2 =data.drop(['installs_count', 'dia_semana_mean', 'hora_mean','cantidad de eventos','timeToConversion_min','pop_media_apps','%Modelo','sc'], axis=1)\n",
    "target2.head()"
   ]
  },
  {
   "cell_type": "code",
   "execution_count": 801,
   "metadata": {},
   "outputs": [
    {
     "data": {
      "text/html": [
       "<div>\n",
       "<style scoped>\n",
       "    .dataframe tbody tr th:only-of-type {\n",
       "        vertical-align: middle;\n",
       "    }\n",
       "\n",
       "    .dataframe tbody tr th {\n",
       "        vertical-align: top;\n",
       "    }\n",
       "\n",
       "    .dataframe thead th {\n",
       "        text-align: right;\n",
       "    }\n",
       "</style>\n",
       "<table border=\"1\" class=\"dataframe\">\n",
       "  <thead>\n",
       "    <tr style=\"text-align: right;\">\n",
       "      <th></th>\n",
       "      <th>installs_count</th>\n",
       "      <th>dia_semana_mean</th>\n",
       "      <th>hora_mean</th>\n",
       "      <th>cantidad de eventos</th>\n",
       "      <th>timeToConversion_min</th>\n",
       "      <th>pop_media_apps</th>\n",
       "      <th>%Modelo</th>\n",
       "    </tr>\n",
       "  </thead>\n",
       "  <tbody>\n",
       "    <tr>\n",
       "      <th>0</th>\n",
       "      <td>0.0</td>\n",
       "      <td>0.0</td>\n",
       "      <td>0.0</td>\n",
       "      <td>2.0</td>\n",
       "      <td>259200.0</td>\n",
       "      <td>372540.000000</td>\n",
       "      <td>0.750000</td>\n",
       "    </tr>\n",
       "    <tr>\n",
       "      <th>1</th>\n",
       "      <td>0.0</td>\n",
       "      <td>0.0</td>\n",
       "      <td>0.0</td>\n",
       "      <td>0.0</td>\n",
       "      <td>259200.0</td>\n",
       "      <td>0.000000</td>\n",
       "      <td>0.591765</td>\n",
       "    </tr>\n",
       "    <tr>\n",
       "      <th>3</th>\n",
       "      <td>0.0</td>\n",
       "      <td>0.0</td>\n",
       "      <td>0.0</td>\n",
       "      <td>9.0</td>\n",
       "      <td>259200.0</td>\n",
       "      <td>111596.111111</td>\n",
       "      <td>0.750000</td>\n",
       "    </tr>\n",
       "    <tr>\n",
       "      <th>4</th>\n",
       "      <td>0.0</td>\n",
       "      <td>0.0</td>\n",
       "      <td>0.0</td>\n",
       "      <td>0.0</td>\n",
       "      <td>259200.0</td>\n",
       "      <td>0.000000</td>\n",
       "      <td>0.750000</td>\n",
       "    </tr>\n",
       "    <tr>\n",
       "      <th>5</th>\n",
       "      <td>0.0</td>\n",
       "      <td>0.0</td>\n",
       "      <td>0.0</td>\n",
       "      <td>0.0</td>\n",
       "      <td>259200.0</td>\n",
       "      <td>0.000000</td>\n",
       "      <td>0.750000</td>\n",
       "    </tr>\n",
       "  </tbody>\n",
       "</table>\n",
       "</div>"
      ],
      "text/plain": [
       "   installs_count  dia_semana_mean  hora_mean  cantidad de eventos  \\\n",
       "0             0.0              0.0        0.0                  2.0   \n",
       "1             0.0              0.0        0.0                  0.0   \n",
       "3             0.0              0.0        0.0                  9.0   \n",
       "4             0.0              0.0        0.0                  0.0   \n",
       "5             0.0              0.0        0.0                  0.0   \n",
       "\n",
       "   timeToConversion_min  pop_media_apps   %Modelo  \n",
       "0              259200.0   372540.000000  0.750000  \n",
       "1              259200.0        0.000000  0.591765  \n",
       "3              259200.0   111596.111111  0.750000  \n",
       "4              259200.0        0.000000  0.750000  \n",
       "5              259200.0        0.000000  0.750000  "
      ]
     },
     "execution_count": 801,
     "metadata": {},
     "output_type": "execute_result"
    }
   ],
   "source": [
    "feature_final2 = data.drop(columns = ['ref_hash','sc'])\n",
    "feature_final2.head()"
   ]
  },
  {
   "cell_type": "code",
   "execution_count": 802,
   "metadata": {},
   "outputs": [],
   "source": [
    "#result1 = XGB1.predict(feature_final2)\n",
    "result2 = XGB2.predict(feature_final2)\n",
    "result3 = XGB3.predict(feature_final2)\n",
    "result4 = XGB4.predict(feature_final2)\n",
    "result5 = XGB5.predict(feature_final2)\n",
    "result6 = XGB6.predict(feature_final2)"
   ]
  },
  {
   "cell_type": "code",
   "execution_count": 803,
   "metadata": {},
   "outputs": [],
   "source": [
    "#hago un promedio ponderado\n",
    "#result_ponderado2=result1 *0.05 + result2 * 0.10 + result3* 0.15 + result4 *0.20 + result5*0.23 + result6 *0.27\n",
    "#result_ponderado2= result2 * 0.07 + result3* 0.13 + result4 *0.20 + result5*0.25 + result6 *0.35\n",
    "result_ponderado2= result2 * 0.2 + result3* 0.2 + result4 *0.2 + result5*0.2 + result6 *0.2\n",
    "#result_ponderado2=result1 *0.03 + result2 * 0.07 + result3* 0.10 + result4 *0.20 + result5*0.25 + result6 *0.35"
   ]
  },
  {
   "cell_type": "code",
   "execution_count": 804,
   "metadata": {},
   "outputs": [],
   "source": [
    "submit = []\n",
    "for l in result_ponderado2:\n",
    "    submit.append(l)\n",
    "target2['obj'] = submit"
   ]
  },
  {
   "cell_type": "code",
   "execution_count": 805,
   "metadata": {},
   "outputs": [
    {
     "data": {
      "text/html": [
       "<div>\n",
       "<style scoped>\n",
       "    .dataframe tbody tr th:only-of-type {\n",
       "        vertical-align: middle;\n",
       "    }\n",
       "\n",
       "    .dataframe tbody tr th {\n",
       "        vertical-align: top;\n",
       "    }\n",
       "\n",
       "    .dataframe thead th {\n",
       "        text-align: right;\n",
       "    }\n",
       "</style>\n",
       "<table border=\"1\" class=\"dataframe\">\n",
       "  <thead>\n",
       "    <tr style=\"text-align: right;\">\n",
       "      <th></th>\n",
       "      <th>ref_hash</th>\n",
       "      <th>obj</th>\n",
       "    </tr>\n",
       "  </thead>\n",
       "  <tbody>\n",
       "    <tr>\n",
       "      <th>0</th>\n",
       "      <td>1000169251625791246_sc</td>\n",
       "      <td>258163.359375</td>\n",
       "    </tr>\n",
       "    <tr>\n",
       "      <th>1</th>\n",
       "      <td>1000395625957344683_sc</td>\n",
       "      <td>258727.828125</td>\n",
       "    </tr>\n",
       "    <tr>\n",
       "      <th>3</th>\n",
       "      <td>1003027494996471685_sc</td>\n",
       "      <td>258538.812500</td>\n",
       "    </tr>\n",
       "    <tr>\n",
       "      <th>4</th>\n",
       "      <td>1006670001679961544_sc</td>\n",
       "      <td>258727.828125</td>\n",
       "    </tr>\n",
       "    <tr>\n",
       "      <th>5</th>\n",
       "      <td>1007573308966476713_sc</td>\n",
       "      <td>258727.828125</td>\n",
       "    </tr>\n",
       "  </tbody>\n",
       "</table>\n",
       "</div>"
      ],
      "text/plain": [
       "                 ref_hash            obj\n",
       "0  1000169251625791246_sc  258163.359375\n",
       "1  1000395625957344683_sc  258727.828125\n",
       "3  1003027494996471685_sc  258538.812500\n",
       "4  1006670001679961544_sc  258727.828125\n",
       "5  1007573308966476713_sc  258727.828125"
      ]
     },
     "execution_count": 805,
     "metadata": {},
     "output_type": "execute_result"
    }
   ],
   "source": [
    "\n",
    "target2['ref_hash'] =  target2['ref_hash'].astype(str) +'_sc'\n",
    "target2.head()"
   ]
  },
  {
   "cell_type": "code",
   "execution_count": 806,
   "metadata": {},
   "outputs": [
    {
     "data": {
      "text/plain": [
       "4037"
      ]
     },
     "execution_count": 806,
     "metadata": {},
     "output_type": "execute_result"
    }
   ],
   "source": [
    "target2['ref_hash'].size"
   ]
  },
  {
   "cell_type": "code",
   "execution_count": 807,
   "metadata": {},
   "outputs": [
    {
     "data": {
      "text/html": [
       "<div>\n",
       "<style scoped>\n",
       "    .dataframe tbody tr th:only-of-type {\n",
       "        vertical-align: middle;\n",
       "    }\n",
       "\n",
       "    .dataframe tbody tr th {\n",
       "        vertical-align: top;\n",
       "    }\n",
       "\n",
       "    .dataframe thead th {\n",
       "        text-align: right;\n",
       "    }\n",
       "</style>\n",
       "<table border=\"1\" class=\"dataframe\">\n",
       "  <thead>\n",
       "    <tr style=\"text-align: right;\">\n",
       "      <th></th>\n",
       "      <th>ref_hash</th>\n",
       "      <th>obj</th>\n",
       "    </tr>\n",
       "  </thead>\n",
       "  <tbody>\n",
       "    <tr>\n",
       "      <th>0</th>\n",
       "      <td>1000169251625791246_sc</td>\n",
       "      <td>258163.359375</td>\n",
       "    </tr>\n",
       "    <tr>\n",
       "      <th>1</th>\n",
       "      <td>1000395625957344683_sc</td>\n",
       "      <td>258727.828125</td>\n",
       "    </tr>\n",
       "    <tr>\n",
       "      <th>3</th>\n",
       "      <td>1003027494996471685_sc</td>\n",
       "      <td>258538.812500</td>\n",
       "    </tr>\n",
       "    <tr>\n",
       "      <th>4</th>\n",
       "      <td>1006670001679961544_sc</td>\n",
       "      <td>258727.828125</td>\n",
       "    </tr>\n",
       "    <tr>\n",
       "      <th>5</th>\n",
       "      <td>1007573308966476713_sc</td>\n",
       "      <td>258727.828125</td>\n",
       "    </tr>\n",
       "  </tbody>\n",
       "</table>\n",
       "</div>"
      ],
      "text/plain": [
       "                 ref_hash            obj\n",
       "0  1000169251625791246_sc  258163.359375\n",
       "1  1000395625957344683_sc  258727.828125\n",
       "3  1003027494996471685_sc  258538.812500\n",
       "4  1006670001679961544_sc  258727.828125\n",
       "5  1007573308966476713_sc  258727.828125"
      ]
     },
     "execution_count": 807,
     "metadata": {},
     "output_type": "execute_result"
    }
   ],
   "source": [
    "\n",
    "target2.head()"
   ]
  },
  {
   "cell_type": "code",
   "execution_count": 808,
   "metadata": {},
   "outputs": [
    {
     "data": {
      "text/html": [
       "<div>\n",
       "<style scoped>\n",
       "    .dataframe tbody tr th:only-of-type {\n",
       "        vertical-align: middle;\n",
       "    }\n",
       "\n",
       "    .dataframe tbody tr th {\n",
       "        vertical-align: top;\n",
       "    }\n",
       "\n",
       "    .dataframe thead th {\n",
       "        text-align: right;\n",
       "    }\n",
       "</style>\n",
       "<table border=\"1\" class=\"dataframe\">\n",
       "  <thead>\n",
       "    <tr style=\"text-align: right;\">\n",
       "      <th></th>\n",
       "      <th>ref_hash</th>\n",
       "      <th>obj</th>\n",
       "    </tr>\n",
       "  </thead>\n",
       "  <tbody>\n",
       "    <tr>\n",
       "      <th>0</th>\n",
       "      <td>1000169251625791246_st</td>\n",
       "      <td>89993.890625</td>\n",
       "    </tr>\n",
       "    <tr>\n",
       "      <th>1</th>\n",
       "      <td>1000395625957344683_st</td>\n",
       "      <td>102323.250000</td>\n",
       "    </tr>\n",
       "    <tr>\n",
       "      <th>3</th>\n",
       "      <td>1003027494996471685_st</td>\n",
       "      <td>71915.585938</td>\n",
       "    </tr>\n",
       "    <tr>\n",
       "      <th>4</th>\n",
       "      <td>1006670001679961544_st</td>\n",
       "      <td>169471.093750</td>\n",
       "    </tr>\n",
       "    <tr>\n",
       "      <th>5</th>\n",
       "      <td>1007573308966476713_st</td>\n",
       "      <td>119022.656250</td>\n",
       "    </tr>\n",
       "  </tbody>\n",
       "</table>\n",
       "</div>"
      ],
      "text/plain": [
       "                 ref_hash            obj\n",
       "0  1000169251625791246_st   89993.890625\n",
       "1  1000395625957344683_st  102323.250000\n",
       "3  1003027494996471685_st   71915.585938\n",
       "4  1006670001679961544_st  169471.093750\n",
       "5  1007573308966476713_st  119022.656250"
      ]
     },
     "execution_count": 808,
     "metadata": {},
     "output_type": "execute_result"
    }
   ],
   "source": [
    "target1.head()"
   ]
  },
  {
   "cell_type": "code",
   "execution_count": 809,
   "metadata": {},
   "outputs": [
    {
     "data": {
      "text/html": [
       "<div>\n",
       "<style scoped>\n",
       "    .dataframe tbody tr th:only-of-type {\n",
       "        vertical-align: middle;\n",
       "    }\n",
       "\n",
       "    .dataframe tbody tr th {\n",
       "        vertical-align: top;\n",
       "    }\n",
       "\n",
       "    .dataframe thead th {\n",
       "        text-align: right;\n",
       "    }\n",
       "</style>\n",
       "<table border=\"1\" class=\"dataframe\">\n",
       "  <thead>\n",
       "    <tr style=\"text-align: right;\">\n",
       "      <th></th>\n",
       "      <th>ref_hash</th>\n",
       "      <th>obj</th>\n",
       "    </tr>\n",
       "  </thead>\n",
       "  <tbody>\n",
       "    <tr>\n",
       "      <th>0</th>\n",
       "      <td>1000169251625791246_st</td>\n",
       "      <td>89993.890625</td>\n",
       "    </tr>\n",
       "    <tr>\n",
       "      <th>1</th>\n",
       "      <td>1000395625957344683_st</td>\n",
       "      <td>102323.250000</td>\n",
       "    </tr>\n",
       "    <tr>\n",
       "      <th>3</th>\n",
       "      <td>1003027494996471685_st</td>\n",
       "      <td>71915.585938</td>\n",
       "    </tr>\n",
       "    <tr>\n",
       "      <th>4</th>\n",
       "      <td>1006670001679961544_st</td>\n",
       "      <td>169471.093750</td>\n",
       "    </tr>\n",
       "    <tr>\n",
       "      <th>5</th>\n",
       "      <td>1007573308966476713_st</td>\n",
       "      <td>119022.656250</td>\n",
       "    </tr>\n",
       "    <tr>\n",
       "      <th>6</th>\n",
       "      <td>1010070503877148763_st</td>\n",
       "      <td>255596.859375</td>\n",
       "    </tr>\n",
       "    <tr>\n",
       "      <th>7</th>\n",
       "      <td>1010265377387765028_st</td>\n",
       "      <td>257022.218750</td>\n",
       "    </tr>\n",
       "    <tr>\n",
       "      <th>8</th>\n",
       "      <td>1010531372912327058_st</td>\n",
       "      <td>127738.085938</td>\n",
       "    </tr>\n",
       "    <tr>\n",
       "      <th>9</th>\n",
       "      <td>1011610998357271358_st</td>\n",
       "      <td>100135.546875</td>\n",
       "    </tr>\n",
       "    <tr>\n",
       "      <th>10</th>\n",
       "      <td>1013543838965040946_st</td>\n",
       "      <td>88503.726562</td>\n",
       "    </tr>\n",
       "  </tbody>\n",
       "</table>\n",
       "</div>"
      ],
      "text/plain": [
       "                  ref_hash            obj\n",
       "0   1000169251625791246_st   89993.890625\n",
       "1   1000395625957344683_st  102323.250000\n",
       "3   1003027494996471685_st   71915.585938\n",
       "4   1006670001679961544_st  169471.093750\n",
       "5   1007573308966476713_st  119022.656250\n",
       "6   1010070503877148763_st  255596.859375\n",
       "7   1010265377387765028_st  257022.218750\n",
       "8   1010531372912327058_st  127738.085938\n",
       "9   1011610998357271358_st  100135.546875\n",
       "10  1013543838965040946_st   88503.726562"
      ]
     },
     "execution_count": 809,
     "metadata": {},
     "output_type": "execute_result"
    }
   ],
   "source": [
    "#target_final=target1.merge(target2, on='ref_hash',how='outer')\n",
    "target_final=pd.concat([target1, target2], join=\"inner\")\n",
    "target_final.head(10)\n"
   ]
  },
  {
   "cell_type": "code",
   "execution_count": 810,
   "metadata": {},
   "outputs": [
    {
     "data": {
      "text/plain": [
       "8074"
      ]
     },
     "execution_count": 810,
     "metadata": {},
     "output_type": "execute_result"
    }
   ],
   "source": [
    "target_final.ref_hash.size"
   ]
  },
  {
   "cell_type": "code",
   "execution_count": 811,
   "metadata": {},
   "outputs": [],
   "source": [
    "target_final.to_csv(path_or_buf = 'submit_final_5.csv', index = False)"
   ]
  },
  {
   "cell_type": "code",
   "execution_count": null,
   "metadata": {},
   "outputs": [],
   "source": []
  }
 ],
 "metadata": {
  "kernelspec": {
   "display_name": "Python 3",
   "language": "python",
   "name": "python3"
  },
  "language_info": {
   "codemirror_mode": {
    "name": "ipython",
    "version": 3
   },
   "file_extension": ".py",
   "mimetype": "text/x-python",
   "name": "python",
   "nbconvert_exporter": "python",
   "pygments_lexer": "ipython3",
   "version": "3.7.3"
  }
 },
 "nbformat": 4,
 "nbformat_minor": 2
}
