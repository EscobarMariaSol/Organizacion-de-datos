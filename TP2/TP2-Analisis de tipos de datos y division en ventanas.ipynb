{
 "cells": [
  {
   "cell_type": "code",
   "execution_count": null,
   "metadata": {},
   "outputs": [],
   "source": [
    "import pandas as pd\n",
    "import numpy as np"
   ]
  },
  {
   "cell_type": "markdown",
   "metadata": {},
   "source": [
    "## Función para leer \"n\" lineas del archivo \"auctions\""
   ]
  },
  {
   "cell_type": "code",
   "execution_count": null,
   "metadata": {},
   "outputs": [],
   "source": [
    "import gzip\n",
    "def ggzip(source_filepath, dest_filepath, block_size=65536):\n",
    "    with gzip.open(dest_filepath, 'wb') as d_file, \\\n",
    "            open(source_filepath, 'rb') as s_file:\n",
    "        for i in range(block_size ):\n",
    "            line = s_file.readline()\n",
    "            if not line:\n",
    "                break\n",
    "            else:\n",
    "                d_file.write(line)\n",
    "        #d_file.write(block)\n",
    "        \n",
    "ggzip(\"data/auctions.csv.gzip\", \"data/auctions_reducido.csv.gzip\", 1000000)"
   ]
  },
  {
   "cell_type": "code",
   "execution_count": null,
   "metadata": {},
   "outputs": [],
   "source": [
    "auct = pd.read_csv(\"data/auctions_reducido.csv.gzip\", compression = 'gzip' )"
   ]
  },
  {
   "cell_type": "code",
   "execution_count": null,
   "metadata": {},
   "outputs": [],
   "source": [
    "auct.count()"
   ]
  },
  {
   "cell_type": "code",
   "execution_count": null,
   "metadata": {},
   "outputs": [],
   "source": [
    "auct.head()"
   ]
  },
  {
   "cell_type": "markdown",
   "metadata": {},
   "source": [
    "## Leo todos los datos para tomar ventanas de 3 días"
   ]
  },
  {
   "cell_type": "code",
   "execution_count": null,
   "metadata": {},
   "outputs": [],
   "source": [
    "auct = pd.read_csv(\"data/auctions.csv.gzip\",dtype = {\"ref_type_id\": np.int8, \"source_id\": np.int8})\n",
    "#evts = pd.read_csv(\"data/events.csv.gzip\", dtype = {\"event_id\": np.int16, \"application_id\": np.int16})\n",
    "#clks = pd.read_csv(\"data/clicks.csv.gzip\", dtype = {\"advertiser_id\": np.int8, \"action_id\": np.float16, \"source_id\": np.int8, \"carrier_id\": np.float16, \"brand\": np.float16, \"touchX\": np.float16, \"touchY\": np.float16})"
   ]
  },
  {
   "cell_type": "code",
   "execution_count": null,
   "metadata": {},
   "outputs": [],
   "source": [
    "auct.head()"
   ]
  },
  {
   "cell_type": "code",
   "execution_count": null,
   "metadata": {},
   "outputs": [],
   "source": [
    "evts = pd.read_csv(\"data/events.csv.gzip\", dtype = {\"index\": np.int32, \"event_id\": np.int16, \"application_id\": np.int16})"
   ]
  },
  {
   "cell_type": "code",
   "execution_count": null,
   "metadata": {},
   "outputs": [],
   "source": [
    "evts.head(1)"
   ]
  },
  {
   "cell_type": "code",
   "execution_count": null,
   "metadata": {},
   "outputs": [],
   "source": [
    "evts.dtypes"
   ]
  },
  {
   "cell_type": "code",
   "execution_count": null,
   "metadata": {},
   "outputs": [],
   "source": []
  },
  {
   "cell_type": "markdown",
   "metadata": {},
   "source": [
    "# Armo los sets de datos por ventanas de 3 días"
   ]
  },
  {
   "cell_type": "markdown",
   "metadata": {},
   "source": [
    "## Ventana N° 1: 18 al 20 de abril"
   ]
  },
  {
   "cell_type": "code",
   "execution_count": null,
   "metadata": {},
   "outputs": [],
   "source": [
    "ventana1 = auct.loc[auct[\"date\"].str.contains('2019-04-18') | auct[\"date\"].str.contains('2019-04-19') | auct[\"date\"].str.contains('2019-04-20'), :]"
   ]
  },
  {
   "cell_type": "code",
   "execution_count": null,
   "metadata": {},
   "outputs": [],
   "source": [
    "ventana1.to_csv(path_or_buf = 'data/auctions_ventana1.csv', index = False)"
   ]
  },
  {
   "cell_type": "code",
   "execution_count": null,
   "metadata": {},
   "outputs": [],
   "source": [
    "evts_vent1 = evts.loc[evts[\"date\"].str.contains('2019-04-18') | evts[\"date\"].str.contains('2019-04-19') | evts[\"date\"].str.contains('2019-04-20'), :]"
   ]
  },
  {
   "cell_type": "code",
   "execution_count": null,
   "metadata": {},
   "outputs": [],
   "source": [
    "evts_vent1.to_csv(path_or_buf = 'data/events_ventana1.csv', index = False)"
   ]
  },
  {
   "cell_type": "markdown",
   "metadata": {},
   "source": [
    "## Ventana N° 1: 19 al 21 de abril"
   ]
  },
  {
   "cell_type": "code",
   "execution_count": null,
   "metadata": {},
   "outputs": [],
   "source": [
    "ventana2 = auct.loc[auct[\"date\"].str.contains('2019-04-19') | auct[\"date\"].str.contains('2019-04-20') | auct[\"date\"].str.contains('2019-04-21'), :]"
   ]
  },
  {
   "cell_type": "code",
   "execution_count": null,
   "metadata": {},
   "outputs": [],
   "source": [
    "ventana2.to_csv(path_or_buf = 'data/auctions_ventana2.csv', index = False)"
   ]
  },
  {
   "cell_type": "code",
   "execution_count": null,
   "metadata": {},
   "outputs": [],
   "source": [
    "evts_vent2 = evts.loc[evts[\"date\"].str.contains('2019-04-19') | evts[\"date\"].str.contains('2019-04-20') | evts[\"date\"].str.contains('2019-04-21'), :]"
   ]
  },
  {
   "cell_type": "code",
   "execution_count": null,
   "metadata": {},
   "outputs": [],
   "source": [
    "evts_vent2.to_csv(path_or_buf = 'data/events_ventana2.csv', index = False)"
   ]
  },
  {
   "cell_type": "markdown",
   "metadata": {},
   "source": [
    "## Ventana N° 1: 20 al 22 de abril"
   ]
  },
  {
   "cell_type": "code",
   "execution_count": null,
   "metadata": {},
   "outputs": [],
   "source": [
    "ventana3 = auct.loc[auct[\"date\"].str.contains('2019-04-20') | auct[\"date\"].str.contains('2019-04-21') | auct[\"date\"].str.contains('2019-04-22'), :]"
   ]
  },
  {
   "cell_type": "code",
   "execution_count": null,
   "metadata": {},
   "outputs": [],
   "source": [
    "ventana3.to_csv(path_or_buf = 'data/auctions_ventana3.csv', index = False)"
   ]
  },
  {
   "cell_type": "code",
   "execution_count": null,
   "metadata": {},
   "outputs": [],
   "source": [
    "evts_vent3 = evts.loc[evts[\"date\"].str.contains('2019-04-20') | evts[\"date\"].str.contains('2019-04-21') | evts[\"date\"].str.contains('2019-04-22'), :]"
   ]
  },
  {
   "cell_type": "code",
   "execution_count": null,
   "metadata": {},
   "outputs": [],
   "source": [
    "evts_vent3.to_csv(path_or_buf = 'data/events_ventana3.csv', index = False)"
   ]
  },
  {
   "cell_type": "markdown",
   "metadata": {},
   "source": [
    "## Ventana N° 1: 21 al 23 de abril"
   ]
  },
  {
   "cell_type": "code",
   "execution_count": null,
   "metadata": {},
   "outputs": [],
   "source": [
    "ventana4 = auct.loc[auct[\"date\"].str.contains('2019-04-21') | auct[\"date\"].str.contains('2019-04-22') | auct[\"date\"].str.contains('2019-04-23'), :]"
   ]
  },
  {
   "cell_type": "code",
   "execution_count": null,
   "metadata": {},
   "outputs": [],
   "source": [
    "ventana4.to_csv(path_or_buf = 'data/auctions_ventana4.csv', index = False)"
   ]
  },
  {
   "cell_type": "code",
   "execution_count": null,
   "metadata": {},
   "outputs": [],
   "source": [
    "evts_vent4 = evts.loc[evts[\"date\"].str.contains('2019-04-21') | evts[\"date\"].str.contains('2019-04-22') | evts[\"date\"].str.contains('2019-04-23'), :]"
   ]
  },
  {
   "cell_type": "code",
   "execution_count": null,
   "metadata": {},
   "outputs": [],
   "source": [
    "evts_vent4.to_csv(path_or_buf = 'data/events_ventana4.csv', index = False)"
   ]
  },
  {
   "cell_type": "markdown",
   "metadata": {},
   "source": [
    "## Ventana N° 1: 22 al 24 de abril"
   ]
  },
  {
   "cell_type": "code",
   "execution_count": null,
   "metadata": {},
   "outputs": [],
   "source": [
    "ventana5 = auct.loc[auct[\"date\"].str.contains('2019-04-22') | auct[\"date\"].str.contains('2019-04-23') | auct[\"date\"].str.contains('2019-04-24'), :]"
   ]
  },
  {
   "cell_type": "code",
   "execution_count": null,
   "metadata": {},
   "outputs": [],
   "source": [
    "ventana5.to_csv(path_or_buf = 'data/auctions_ventana5.csv', index = False)"
   ]
  },
  {
   "cell_type": "code",
   "execution_count": null,
   "metadata": {},
   "outputs": [],
   "source": [
    "evts_vent5 = evts.loc[evts[\"date\"].str.contains('2019-04-22') | evts[\"date\"].str.contains('2019-04-23') | evts[\"date\"].str.contains('2019-04-24'), :]"
   ]
  },
  {
   "cell_type": "code",
   "execution_count": null,
   "metadata": {},
   "outputs": [],
   "source": [
    "evts_vent5.to_csv(path_or_buf = 'data/events_ventana5.csv', index = False)"
   ]
  },
  {
   "cell_type": "markdown",
   "metadata": {},
   "source": [
    "## Como los sets de datos de clicks e installs son mucho más pequeños, no crearemos un archivo csv para cada ventana, sólo reduciremos su tamaño según tipos de datos.\n",
    "## Luego trabajaremos sobre cada ventana filtrando los datos según la ventana."
   ]
  },
  {
   "cell_type": "code",
   "execution_count": null,
   "metadata": {},
   "outputs": [],
   "source": [
    "inst = pd.read_csv(\"data/installs.csv.gzip\",)\n",
    "clks = pd.read_csv(\"data/clicks.csv.gzip\")"
   ]
  },
  {
   "cell_type": "markdown",
   "metadata": {},
   "source": [
    "# Installs"
   ]
  },
  {
   "cell_type": "code",
   "execution_count": null,
   "metadata": {},
   "outputs": [],
   "source": [
    "inst.head()"
   ]
  },
  {
   "cell_type": "code",
   "execution_count": null,
   "metadata": {},
   "outputs": [],
   "source": [
    "inst.dtypes"
   ]
  },
  {
   "cell_type": "code",
   "execution_count": null,
   "metadata": {},
   "outputs": [],
   "source": [
    "# Como los valores que se toman en application_id no son muy grandes puedo establecer su formato a un int de 16 bits\n",
    "inst['application_id'].max()"
   ]
  },
  {
   "cell_type": "code",
   "execution_count": null,
   "metadata": {},
   "outputs": [],
   "source": [
    "# Como el campo wifi no es más que un booleano lo podemos pasar a formato bool\n",
    "inst['wifi'].value_counts()"
   ]
  },
  {
   "cell_type": "markdown",
   "metadata": {},
   "source": [
    "# Clicks"
   ]
  },
  {
   "cell_type": "code",
   "execution_count": null,
   "metadata": {},
   "outputs": [],
   "source": [
    "clks.head()"
   ]
  },
  {
   "cell_type": "code",
   "execution_count": null,
   "metadata": {},
   "outputs": [],
   "source": [
    "clks.dtypes"
   ]
  },
  {
   "cell_type": "code",
   "execution_count": null,
   "metadata": {},
   "outputs": [],
   "source": [
    "# Como el máximo valor del campo advertiser_id es 4 entonces podemos forzar su tipo a un int de 8 bits\n",
    "clks['advertiser_id'].max()"
   ]
  },
  {
   "cell_type": "code",
   "execution_count": null,
   "metadata": {},
   "outputs": [],
   "source": [
    "clks['action_id'].value_counts()"
   ]
  },
  {
   "cell_type": "code",
   "execution_count": null,
   "metadata": {},
   "outputs": [],
   "source": [
    "clks['action_id'].astype(np.float32).value_counts()\n",
    "# Como se puede ver podemos forzar el tipo de dato del campo action_id a un float de 32 bits"
   ]
  },
  {
   "cell_type": "code",
   "execution_count": null,
   "metadata": {},
   "outputs": [],
   "source": [
    "clks['source_id'].max()\n",
    "# Como el máximo valor del campo advertiser_id es 8 entonces podemos forzar su tipo a un int de 8 bits"
   ]
  },
  {
   "cell_type": "code",
   "execution_count": null,
   "metadata": {},
   "outputs": [],
   "source": [
    "clks['carrier_id'].astype(np.float16).value_counts()\n",
    "# tambien puedo modificar el tipo del campo carrier_id a float de 32 bits"
   ]
  },
  {
   "cell_type": "code",
   "execution_count": null,
   "metadata": {},
   "outputs": [],
   "source": []
  }
 ],
 "metadata": {
  "kernelspec": {
   "display_name": "Python 3",
   "language": "python",
   "name": "python3"
  },
  "language_info": {
   "codemirror_mode": {
    "name": "ipython",
    "version": 3
   },
   "file_extension": ".py",
   "mimetype": "text/x-python",
   "name": "python",
   "nbconvert_exporter": "python",
   "pygments_lexer": "ipython3",
   "version": "3.6.7"
  }
 },
 "nbformat": 4,
 "nbformat_minor": 2
}
