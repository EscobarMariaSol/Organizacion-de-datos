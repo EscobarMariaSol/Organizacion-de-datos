{
 "cells": [
  {
   "cell_type": "code",
   "execution_count": 4,
   "metadata": {},
   "outputs": [],
   "source": [
    "import pandas as pd\n",
    "import numpy as np\n",
    "import matplotlib.pyplot as plt\n",
    "import seaborn as sns\n",
    "from sklearn.metrics import auc, accuracy_score\n",
    "from sklearn.model_selection import cross_val_score, cross_val_predict, GridSearchCV, KFold, RandomizedSearchCV, train_test_split\n",
    "import datetime as dt"
   ]
  },
  {
   "cell_type": "code",
   "execution_count": 357,
   "metadata": {},
   "outputs": [
    {
     "data": {
      "text/html": [
       "<div>\n",
       "<style scoped>\n",
       "    .dataframe tbody tr th:only-of-type {\n",
       "        vertical-align: middle;\n",
       "    }\n",
       "\n",
       "    .dataframe tbody tr th {\n",
       "        vertical-align: top;\n",
       "    }\n",
       "\n",
       "    .dataframe thead th {\n",
       "        text-align: right;\n",
       "    }\n",
       "</style>\n",
       "<table border=\"1\" class=\"dataframe\">\n",
       "  <thead>\n",
       "    <tr style=\"text-align: right;\">\n",
       "      <th></th>\n",
       "      <th>ref_hash</th>\n",
       "      <th>obj</th>\n",
       "    </tr>\n",
       "  </thead>\n",
       "  <tbody>\n",
       "    <tr>\n",
       "      <th>0</th>\n",
       "      <td>1000169251625791246_sc</td>\n",
       "      <td>0</td>\n",
       "    </tr>\n",
       "    <tr>\n",
       "      <th>1</th>\n",
       "      <td>1000169251625791246_st</td>\n",
       "      <td>0</td>\n",
       "    </tr>\n",
       "    <tr>\n",
       "      <th>2</th>\n",
       "      <td>1000395625957344683_sc</td>\n",
       "      <td>0</td>\n",
       "    </tr>\n",
       "    <tr>\n",
       "      <th>3</th>\n",
       "      <td>1000395625957344683_st</td>\n",
       "      <td>0</td>\n",
       "    </tr>\n",
       "    <tr>\n",
       "      <th>4</th>\n",
       "      <td>1003027494996471685_sc</td>\n",
       "      <td>0</td>\n",
       "    </tr>\n",
       "  </tbody>\n",
       "</table>\n",
       "</div>"
      ],
      "text/plain": [
       "                 ref_hash  obj\n",
       "0  1000169251625791246_sc    0\n",
       "1  1000169251625791246_st    0\n",
       "2  1000395625957344683_sc    0\n",
       "3  1000395625957344683_st    0\n",
       "4  1003027494996471685_sc    0"
      ]
     },
     "execution_count": 357,
     "metadata": {},
     "output_type": "execute_result"
    }
   ],
   "source": [
    "target = pd.read_csv('data/target_competencia_ids.csv')\n",
    "target.head()"
   ]
  },
  {
   "cell_type": "code",
   "execution_count": 356,
   "metadata": {},
   "outputs": [
    {
     "data": {
      "text/html": [
       "<div>\n",
       "<style scoped>\n",
       "    .dataframe tbody tr th:only-of-type {\n",
       "        vertical-align: middle;\n",
       "    }\n",
       "\n",
       "    .dataframe tbody tr th {\n",
       "        vertical-align: top;\n",
       "    }\n",
       "\n",
       "    .dataframe thead th {\n",
       "        text-align: right;\n",
       "    }\n",
       "</style>\n",
       "<table border=\"1\" class=\"dataframe\">\n",
       "  <thead>\n",
       "    <tr style=\"text-align: right;\">\n",
       "      <th></th>\n",
       "      <th>ref_hash</th>\n",
       "      <th>obj</th>\n",
       "    </tr>\n",
       "  </thead>\n",
       "  <tbody>\n",
       "    <tr>\n",
       "      <th>0</th>\n",
       "      <td>1000169251625791246</td>\n",
       "      <td>0</td>\n",
       "    </tr>\n",
       "    <tr>\n",
       "      <th>2</th>\n",
       "      <td>1000395625957344683</td>\n",
       "      <td>0</td>\n",
       "    </tr>\n",
       "    <tr>\n",
       "      <th>4</th>\n",
       "      <td>1003027494996471685</td>\n",
       "      <td>0</td>\n",
       "    </tr>\n",
       "    <tr>\n",
       "      <th>6</th>\n",
       "      <td>1006670001679961544</td>\n",
       "      <td>0</td>\n",
       "    </tr>\n",
       "    <tr>\n",
       "      <th>8</th>\n",
       "      <td>1007573308966476713</td>\n",
       "      <td>0</td>\n",
       "    </tr>\n",
       "  </tbody>\n",
       "</table>\n",
       "</div>"
      ],
      "text/plain": [
       "              ref_hash  obj\n",
       "0  1000169251625791246    0\n",
       "2  1000395625957344683    0\n",
       "4  1003027494996471685    0\n",
       "6  1006670001679961544    0\n",
       "8  1007573308966476713    0"
      ]
     },
     "execution_count": 356,
     "metadata": {},
     "output_type": "execute_result"
    }
   ],
   "source": [
    "target = pd.read_csv('data/target_competencia_ids.csv')\n",
    "target['ref_hash'] = target['ref_hash'].transform(lambda x: str(x)[:-3])\n",
    "target['ref_hash'] = target['ref_hash'].astype(np.int64)\n",
    "target.drop_duplicates(subset = 'ref_hash', inplace = True)\n",
    "target.head()"
   ]
  },
  {
   "cell_type": "code",
   "execution_count": 198,
   "metadata": {},
   "outputs": [],
   "source": [
    "auct1 = pd.read_csv('data/auctions_ventana6.csv', dtype = { \"ref_type_id\": np.int8, \"source_id\": np.int8})\n",
    "auct2 = pd.read_csv('data/auctions_ventana7.csv', dtype = { \"ref_type_id\": np.int8, \"source_id\": np.int8})"
   ]
  },
  {
   "cell_type": "code",
   "execution_count": 199,
   "metadata": {},
   "outputs": [
    {
     "name": "stderr",
     "output_type": "stream",
     "text": [
      "C:\\Users\\AJorg\\Anaconda3\\lib\\site-packages\\ipykernel_launcher.py:4: SettingWithCopyWarning: \n",
      "A value is trying to be set on a copy of a slice from a DataFrame.\n",
      "Try using .loc[row_indexer,col_indexer] = value instead\n",
      "\n",
      "See the caveats in the documentation: http://pandas.pydata.org/pandas-docs/stable/indexing.html#indexing-view-versus-copy\n",
      "  after removing the cwd from sys.path.\n"
     ]
    }
   ],
   "source": [
    "auct1['date'] = pd.to_datetime(auct1['date'])\n",
    "ids_list1=auct1['device_id'].unique()\n",
    "auct_predict1= auct2[auct2['device_id'].isin(ids_list1)]\n",
    "auct_predict1['date'] = pd.to_datetime(auct_predict1['date'])"
   ]
  },
  {
   "cell_type": "code",
   "execution_count": 200,
   "metadata": {
    "scrolled": true
   },
   "outputs": [
    {
     "name": "stderr",
     "output_type": "stream",
     "text": [
      "C:\\Users\\AJorg\\Anaconda3\\lib\\site-packages\\ipykernel_launcher.py:3: SettingWithCopyWarning: \n",
      "A value is trying to be set on a copy of a slice from a DataFrame.\n",
      "Try using .loc[row_indexer,col_indexer] = value instead\n",
      "\n",
      "See the caveats in the documentation: http://pandas.pydata.org/pandas-docs/stable/indexing.html#indexing-view-versus-copy\n",
      "  This is separate from the ipykernel package so we can avoid doing imports until\n",
      "C:\\Users\\AJorg\\Anaconda3\\lib\\site-packages\\ipykernel_launcher.py:4: SettingWithCopyWarning: \n",
      "A value is trying to be set on a copy of a slice from a DataFrame.\n",
      "Try using .loc[row_indexer,col_indexer] = value instead\n",
      "\n",
      "See the caveats in the documentation: http://pandas.pydata.org/pandas-docs/stable/indexing.html#indexing-view-versus-copy\n",
      "  after removing the cwd from sys.path.\n"
     ]
    }
   ],
   "source": [
    "\n",
    "#ojo cambiar la fecha de la ventana\n",
    "auct_predict1['date_inicial'] = dt.datetime(2019,4, 24)\n",
    "auct_predict1['timeToAuction'] = (auct_predict1['date'] - auct_predict1['date_inicial'])/np.timedelta64(1,'s')\n",
    "auction_time = auct_predict1.groupby('device_id').agg({'timeToAuction': 'min'}).reset_index()\n",
    "auction_time.columns = ['ref_hash', 'st']\n",
    "\n",
    "auction_time = target[['ref_hash']].merge(auction_time, on = 'ref_hash', how = 'outer')\n",
    "# lleno los tiempos vacios con cero\n",
    "auction_time['st'] = auction_time['st'].fillna((72 * 60 * 60))\n",
    "\n",
    "auction_count = auct1.groupby('device_id').agg({'date': 'count'}).reset_index()\n",
    "auction_count.columns = ['ref_hash', 'auctions_count']\n",
    "auction_count = target[['ref_hash']].merge(auction_count, on = 'ref_hash', how = 'outer')\n",
    "auction_count['auctions_count'] = auction_count['auctions_count'].fillna(0)\n",
    "\n",
    "data = auction_count.merge(auction_time, on = 'ref_hash')\n",
    "\n",
    "auct1['dia_semana'] = auct1['date'].dt.dayofweek\n",
    "auct1['dia_semana']=auct1['dia_semana'] + 1\n",
    "day_mean = auct1.groupby('device_id').agg({'dia_semana': 'mean'}).reset_index()\n",
    "day_mean.columns = ['ref_hash', 'dia_semana_mean']\n",
    "\n",
    "day_mean = target[['ref_hash']].merge(day_mean, on = 'ref_hash', how = 'outer')\n",
    "day_mean['dia_semana_mean'] = day_mean['dia_semana_mean'].fillna(0)\n",
    "\n",
    "data =data.merge(day_mean, on = 'ref_hash')\n",
    "\n",
    "auct1['hora']=auct1['date'].dt.hour\n",
    "hour_mean = auct1.groupby('device_id').agg({'hora': 'mean'}).reset_index()\n",
    "hour_mean.columns = ['ref_hash', 'hora_mean']\n",
    "hour_mean['hora_mean'] = hour_mean['hora_mean'] +1\n",
    "hour_mean = target[['ref_hash']].merge(hour_mean, on = 'ref_hash', how = 'outer')\n",
    "hour_mean['hora_mean'] = hour_mean['hora_mean'].fillna(0)\n",
    "\n",
    "data =data.merge(hour_mean, on = 'ref_hash')\n"
   ]
  },
  {
   "cell_type": "code",
   "execution_count": 201,
   "metadata": {},
   "outputs": [
    {
     "name": "stdout",
     "output_type": "stream",
     "text": [
      "<class 'pandas.core.frame.DataFrame'>\n",
      "Int64Index: 289982 entries, 0 to 289981\n",
      "Data columns (total 5 columns):\n",
      "ref_hash           289982 non-null int64\n",
      "auctions_count     289982 non-null float64\n",
      "st                 289982 non-null float64\n",
      "dia_semana_mean    289982 non-null float64\n",
      "hora_mean          289982 non-null float64\n",
      "dtypes: float64(4), int64(1)\n",
      "memory usage: 13.3 MB\n"
     ]
    }
   ],
   "source": [
    "data.info()"
   ]
  },
  {
   "cell_type": "code",
   "execution_count": 202,
   "metadata": {},
   "outputs": [
    {
     "data": {
      "text/plain": [
       "4037"
      ]
     },
     "execution_count": 202,
     "metadata": {},
     "output_type": "execute_result"
    }
   ],
   "source": [
    "merged=data.merge(target[['ref_hash']], on='ref_hash')\n",
    "merged['ref_hash'].unique().size"
   ]
  },
  {
   "cell_type": "code",
   "execution_count": 203,
   "metadata": {},
   "outputs": [],
   "source": [
    "evts1 = pd.read_csv(\"data/events_ventana6.csv\", dtype = {\"event_id\": np.int16, \"application_id\": np.int16, 'device_countrycode': 'category', 'device_os_version': 'category', 'device_brand': 'category', 'device_model': 'category', 'device_city': 'category', 'session_user_agent': 'category', 'trans_id': 'category', 'user_agent': 'category', 'carrier' : 'category', 'kind': 'category', 'device_os': 'category', 'connection_type': 'category', 'ip_address': 'category', 'device_language': 'category'})"
   ]
  },
  {
   "cell_type": "code",
   "execution_count": 204,
   "metadata": {},
   "outputs": [],
   "source": [
    "events_count = evts1.groupby('ref_hash').agg({'date': 'count'}).reset_index()\n",
    "events_count.columns = ['ref_hash', 'cantidad de eventos']\n",
    "\n",
    "events_count = target[['ref_hash']].merge(events_count, on = 'ref_hash', how = 'outer')\n",
    "events_count['cantidad de eventos'] = events_count['cantidad de eventos'].fillna(0)\n",
    "data =data.merge(events_count, on = 'ref_hash')\n",
    "data=data[['ref_hash', 'auctions_count', 'dia_semana_mean', 'hora_mean','cantidad de eventos','st']]\n"
   ]
  },
  {
   "cell_type": "code",
   "execution_count": 205,
   "metadata": {},
   "outputs": [
    {
     "data": {
      "text/html": [
       "<div>\n",
       "<style scoped>\n",
       "    .dataframe tbody tr th:only-of-type {\n",
       "        vertical-align: middle;\n",
       "    }\n",
       "\n",
       "    .dataframe tbody tr th {\n",
       "        vertical-align: top;\n",
       "    }\n",
       "\n",
       "    .dataframe thead th {\n",
       "        text-align: right;\n",
       "    }\n",
       "</style>\n",
       "<table border=\"1\" class=\"dataframe\">\n",
       "  <thead>\n",
       "    <tr style=\"text-align: right;\">\n",
       "      <th></th>\n",
       "      <th>ref_hash</th>\n",
       "      <th>auctions_count</th>\n",
       "      <th>dia_semana_mean</th>\n",
       "      <th>hora_mean</th>\n",
       "      <th>cantidad de eventos</th>\n",
       "      <th>st</th>\n",
       "    </tr>\n",
       "  </thead>\n",
       "  <tbody>\n",
       "    <tr>\n",
       "      <th>0</th>\n",
       "      <td>1000169251625791246</td>\n",
       "      <td>7.0</td>\n",
       "      <td>2.857143</td>\n",
       "      <td>17.428571</td>\n",
       "      <td>3.0</td>\n",
       "      <td>76114.647428</td>\n",
       "    </tr>\n",
       "    <tr>\n",
       "      <th>1</th>\n",
       "      <td>1000395625957344683</td>\n",
       "      <td>16.0</td>\n",
       "      <td>2.875000</td>\n",
       "      <td>13.750000</td>\n",
       "      <td>0.0</td>\n",
       "      <td>8034.974209</td>\n",
       "    </tr>\n",
       "    <tr>\n",
       "      <th>2</th>\n",
       "      <td>1003027494996471685</td>\n",
       "      <td>168.0</td>\n",
       "      <td>3.220238</td>\n",
       "      <td>8.952381</td>\n",
       "      <td>22.0</td>\n",
       "      <td>12171.691046</td>\n",
       "    </tr>\n",
       "    <tr>\n",
       "      <th>3</th>\n",
       "      <td>1006670001679961544</td>\n",
       "      <td>1.0</td>\n",
       "      <td>3.000000</td>\n",
       "      <td>19.000000</td>\n",
       "      <td>0.0</td>\n",
       "      <td>64857.606340</td>\n",
       "    </tr>\n",
       "    <tr>\n",
       "      <th>4</th>\n",
       "      <td>1007573308966476713</td>\n",
       "      <td>7.0</td>\n",
       "      <td>3.142857</td>\n",
       "      <td>13.857143</td>\n",
       "      <td>0.0</td>\n",
       "      <td>18726.239096</td>\n",
       "    </tr>\n",
       "  </tbody>\n",
       "</table>\n",
       "</div>"
      ],
      "text/plain": [
       "              ref_hash  auctions_count  dia_semana_mean  hora_mean  \\\n",
       "0  1000169251625791246             7.0         2.857143  17.428571   \n",
       "1  1000395625957344683            16.0         2.875000  13.750000   \n",
       "2  1003027494996471685           168.0         3.220238   8.952381   \n",
       "3  1006670001679961544             1.0         3.000000  19.000000   \n",
       "4  1007573308966476713             7.0         3.142857  13.857143   \n",
       "\n",
       "   cantidad de eventos            st  \n",
       "0                  3.0  76114.647428  \n",
       "1                  0.0   8034.974209  \n",
       "2                 22.0  12171.691046  \n",
       "3                  0.0  64857.606340  \n",
       "4                  0.0  18726.239096  "
      ]
     },
     "execution_count": 205,
     "metadata": {},
     "output_type": "execute_result"
    }
   ],
   "source": [
    "data.head()"
   ]
  },
  {
   "cell_type": "code",
   "execution_count": 206,
   "metadata": {},
   "outputs": [
    {
     "data": {
      "text/plain": [
       "ref_hash               0\n",
       "auctions_count         0\n",
       "dia_semana_mean        0\n",
       "hora_mean              0\n",
       "cantidad de eventos    0\n",
       "st                     0\n",
       "dtype: int64"
      ]
     },
     "execution_count": 206,
     "metadata": {},
     "output_type": "execute_result"
    }
   ],
   "source": [
    "data.isnull().sum()"
   ]
  },
  {
   "cell_type": "code",
   "execution_count": 207,
   "metadata": {},
   "outputs": [
    {
     "data": {
      "text/plain": [
       "4037"
      ]
     },
     "execution_count": 207,
     "metadata": {},
     "output_type": "execute_result"
    }
   ],
   "source": [
    "merged=data.merge(target[['ref_hash']], on='ref_hash')\n",
    "merged['ref_hash'].unique().size"
   ]
  },
  {
   "cell_type": "code",
   "execution_count": 208,
   "metadata": {},
   "outputs": [
    {
     "data": {
      "text/html": [
       "<div>\n",
       "<style scoped>\n",
       "    .dataframe tbody tr th:only-of-type {\n",
       "        vertical-align: middle;\n",
       "    }\n",
       "\n",
       "    .dataframe tbody tr th {\n",
       "        vertical-align: top;\n",
       "    }\n",
       "\n",
       "    .dataframe thead th {\n",
       "        text-align: right;\n",
       "    }\n",
       "</style>\n",
       "<table border=\"1\" class=\"dataframe\">\n",
       "  <thead>\n",
       "    <tr style=\"text-align: right;\">\n",
       "      <th></th>\n",
       "      <th>ref_hash</th>\n",
       "      <th>auctions_count</th>\n",
       "      <th>dia_semana_mean</th>\n",
       "      <th>hora_mean</th>\n",
       "      <th>cantidad de eventos</th>\n",
       "      <th>st</th>\n",
       "    </tr>\n",
       "  </thead>\n",
       "  <tbody>\n",
       "    <tr>\n",
       "      <th>0</th>\n",
       "      <td>1000169251625791246</td>\n",
       "      <td>7.0</td>\n",
       "      <td>2.857143</td>\n",
       "      <td>17.428571</td>\n",
       "      <td>3.0</td>\n",
       "      <td>76114.647428</td>\n",
       "    </tr>\n",
       "    <tr>\n",
       "      <th>1</th>\n",
       "      <td>1000395625957344683</td>\n",
       "      <td>16.0</td>\n",
       "      <td>2.875000</td>\n",
       "      <td>13.750000</td>\n",
       "      <td>0.0</td>\n",
       "      <td>8034.974209</td>\n",
       "    </tr>\n",
       "    <tr>\n",
       "      <th>2</th>\n",
       "      <td>1003027494996471685</td>\n",
       "      <td>168.0</td>\n",
       "      <td>3.220238</td>\n",
       "      <td>8.952381</td>\n",
       "      <td>22.0</td>\n",
       "      <td>12171.691046</td>\n",
       "    </tr>\n",
       "    <tr>\n",
       "      <th>3</th>\n",
       "      <td>1006670001679961544</td>\n",
       "      <td>1.0</td>\n",
       "      <td>3.000000</td>\n",
       "      <td>19.000000</td>\n",
       "      <td>0.0</td>\n",
       "      <td>64857.606340</td>\n",
       "    </tr>\n",
       "    <tr>\n",
       "      <th>4</th>\n",
       "      <td>1007573308966476713</td>\n",
       "      <td>7.0</td>\n",
       "      <td>3.142857</td>\n",
       "      <td>13.857143</td>\n",
       "      <td>0.0</td>\n",
       "      <td>18726.239096</td>\n",
       "    </tr>\n",
       "  </tbody>\n",
       "</table>\n",
       "</div>"
      ],
      "text/plain": [
       "              ref_hash  auctions_count  dia_semana_mean  hora_mean  \\\n",
       "0  1000169251625791246             7.0         2.857143  17.428571   \n",
       "1  1000395625957344683            16.0         2.875000  13.750000   \n",
       "2  1003027494996471685           168.0         3.220238   8.952381   \n",
       "3  1006670001679961544             1.0         3.000000  19.000000   \n",
       "4  1007573308966476713             7.0         3.142857  13.857143   \n",
       "\n",
       "   cantidad de eventos            st  \n",
       "0                  3.0  76114.647428  \n",
       "1                  0.0   8034.974209  \n",
       "2                 22.0  12171.691046  \n",
       "3                  0.0  64857.606340  \n",
       "4                  0.0  18726.239096  "
      ]
     },
     "execution_count": 208,
     "metadata": {},
     "output_type": "execute_result"
    }
   ],
   "source": [
    "#Guardo la ventana con los features\n",
    "data.to_csv(path_or_buf = 'data/features1_aut6.csv', index = False)\n",
    "ts1= pd.read_csv( 'data/features1_aut6.csv')\n",
    "ts1.head()"
   ]
  },
  {
   "cell_type": "code",
   "execution_count": 209,
   "metadata": {},
   "outputs": [
    {
     "name": "stdout",
     "output_type": "stream",
     "text": [
      "<class 'pandas.core.frame.DataFrame'>\n",
      "RangeIndex: 77527 entries, 0 to 77526\n",
      "Data columns (total 6 columns):\n",
      "ref_hash               77527 non-null int64\n",
      "auctions_count         77527 non-null float64\n",
      "dia_semana_mean        77527 non-null float64\n",
      "hora_mean              77527 non-null float64\n",
      "cantidad de eventos    77527 non-null float64\n",
      "st                     77527 non-null float64\n",
      "dtypes: float64(5), int64(1)\n",
      "memory usage: 3.5 MB\n"
     ]
    }
   ],
   "source": [
    "\n",
    "ts1.info()"
   ]
  },
  {
   "cell_type": "code",
   "execution_count": null,
   "metadata": {},
   "outputs": [],
   "source": []
  },
  {
   "cell_type": "code",
   "execution_count": null,
   "metadata": {},
   "outputs": [],
   "source": []
  },
  {
   "cell_type": "markdown",
   "metadata": {},
   "source": [
    "# Armo los fetures del target"
   ]
  },
  {
   "cell_type": "code",
   "execution_count": 216,
   "metadata": {},
   "outputs": [],
   "source": [
    "auct1 = pd.read_csv('data/auctions_ventana7.csv', dtype = { \"ref_type_id\": np.int8, \"source_id\": np.int8})\n",
    "auct1['date'] = pd.to_datetime(auct1['date'])\n",
    "ids_list1=target['ref_hash'].unique()\n",
    "auct1= auct1[auct1['device_id'].isin(ids_list1)]\n",
    "auct1['device_id'].unique().size"
   ]
  },
  {
   "cell_type": "code",
   "execution_count": 217,
   "metadata": {},
   "outputs": [
    {
     "data": {
      "text/plain": [
       "3351"
      ]
     },
     "execution_count": 217,
     "metadata": {},
     "output_type": "execute_result"
    }
   ],
   "source": []
  },
  {
   "cell_type": "code",
   "execution_count": 218,
   "metadata": {},
   "outputs": [],
   "source": [
    "auction_count = auct1.groupby('device_id').agg({'date': 'count'}).reset_index()\n",
    "auction_count.columns = ['ref_hash', 'auctions_count']\n",
    "#hago un merge left para que darme solo con los ids del target\n",
    "auction_count = target[['ref_hash']].merge(auction_count, on = 'ref_hash', how = 'left')\n",
    "auction_count['auctions_count'] = auction_count['auctions_count'].fillna(0)\n",
    "\n",
    "data = auction_count\n",
    "data['st']=0\n",
    "\n",
    "auct1['dia_semana'] = auct1['date'].dt.dayofweek\n",
    "auct1['dia_semana']=auct1['dia_semana'] + 1\n",
    "day_mean = auct1.groupby('device_id').agg({'dia_semana': 'mean'}).reset_index()\n",
    "day_mean.columns = ['ref_hash', 'dia_semana_mean']\n",
    "\n",
    "day_mean = target[['ref_hash']].merge(day_mean, on = 'ref_hash', how = 'left')\n",
    "day_mean['dia_semana_mean'] = day_mean['dia_semana_mean'].fillna(0)\n",
    "\n",
    "data =data.merge(day_mean, on = 'ref_hash')\n",
    "\n",
    "auct1['hora']=auct1['date'].dt.hour\n",
    "hour_mean = auct1.groupby('device_id').agg({'hora': 'mean'}).reset_index()\n",
    "hour_mean.columns = ['ref_hash', 'hora_mean']\n",
    "hour_mean['hora_mean'] = hour_mean['hora_mean'] +1\n",
    "hour_mean = target[['ref_hash']].merge(hour_mean, on = 'ref_hash', how = 'left')\n",
    "hour_mean['hora_mean'] = hour_mean['hora_mean'].fillna(0)\n",
    "\n",
    "data =data.merge(hour_mean, on = 'ref_hash')"
   ]
  },
  {
   "cell_type": "code",
   "execution_count": 219,
   "metadata": {},
   "outputs": [
    {
     "data": {
      "text/html": [
       "<div>\n",
       "<style scoped>\n",
       "    .dataframe tbody tr th:only-of-type {\n",
       "        vertical-align: middle;\n",
       "    }\n",
       "\n",
       "    .dataframe tbody tr th {\n",
       "        vertical-align: top;\n",
       "    }\n",
       "\n",
       "    .dataframe thead th {\n",
       "        text-align: right;\n",
       "    }\n",
       "</style>\n",
       "<table border=\"1\" class=\"dataframe\">\n",
       "  <thead>\n",
       "    <tr style=\"text-align: right;\">\n",
       "      <th></th>\n",
       "      <th>ref_hash</th>\n",
       "      <th>auctions_count</th>\n",
       "      <th>st</th>\n",
       "      <th>dia_semana_mean</th>\n",
       "      <th>hora_mean</th>\n",
       "    </tr>\n",
       "  </thead>\n",
       "  <tbody>\n",
       "    <tr>\n",
       "      <th>0</th>\n",
       "      <td>1000169251625791246</td>\n",
       "      <td>13.0</td>\n",
       "      <td>0</td>\n",
       "      <td>4.538462</td>\n",
       "      <td>11.923077</td>\n",
       "    </tr>\n",
       "    <tr>\n",
       "      <th>1</th>\n",
       "      <td>1000395625957344683</td>\n",
       "      <td>15.0</td>\n",
       "      <td>0</td>\n",
       "      <td>3.533333</td>\n",
       "      <td>15.733333</td>\n",
       "    </tr>\n",
       "    <tr>\n",
       "      <th>2</th>\n",
       "      <td>1003027494996471685</td>\n",
       "      <td>168.0</td>\n",
       "      <td>0</td>\n",
       "      <td>3.220238</td>\n",
       "      <td>8.952381</td>\n",
       "    </tr>\n",
       "    <tr>\n",
       "      <th>3</th>\n",
       "      <td>1006670001679961544</td>\n",
       "      <td>3.0</td>\n",
       "      <td>0</td>\n",
       "      <td>4.333333</td>\n",
       "      <td>19.000000</td>\n",
       "    </tr>\n",
       "    <tr>\n",
       "      <th>4</th>\n",
       "      <td>1007573308966476713</td>\n",
       "      <td>7.0</td>\n",
       "      <td>0</td>\n",
       "      <td>3.571429</td>\n",
       "      <td>15.857143</td>\n",
       "    </tr>\n",
       "  </tbody>\n",
       "</table>\n",
       "</div>"
      ],
      "text/plain": [
       "              ref_hash  auctions_count  st  dia_semana_mean  hora_mean\n",
       "0  1000169251625791246            13.0   0         4.538462  11.923077\n",
       "1  1000395625957344683            15.0   0         3.533333  15.733333\n",
       "2  1003027494996471685           168.0   0         3.220238   8.952381\n",
       "3  1006670001679961544             3.0   0         4.333333  19.000000\n",
       "4  1007573308966476713             7.0   0         3.571429  15.857143"
      ]
     },
     "execution_count": 219,
     "metadata": {},
     "output_type": "execute_result"
    }
   ],
   "source": [
    "data.head()"
   ]
  },
  {
   "cell_type": "code",
   "execution_count": 220,
   "metadata": {},
   "outputs": [
    {
     "data": {
      "text/plain": [
       "4037"
      ]
     },
     "execution_count": 220,
     "metadata": {},
     "output_type": "execute_result"
    }
   ],
   "source": [
    "merged=data.merge(target[['ref_hash']], on='ref_hash')\n",
    "merged['ref_hash'].unique().size"
   ]
  },
  {
   "cell_type": "code",
   "execution_count": 221,
   "metadata": {},
   "outputs": [],
   "source": [
    "evts1 = pd.read_csv(\"data/events_ventana7.csv\", dtype = {\"event_id\": np.int16, \"application_id\": np.int16, 'device_countrycode': 'category', 'device_os_version': 'category', 'device_brand': 'category', 'device_model': 'category', 'device_city': 'category', 'session_user_agent': 'category', 'trans_id': 'category', 'user_agent': 'category', 'carrier' : 'category', 'kind': 'category', 'device_os': 'category', 'connection_type': 'category', 'ip_address': 'category', 'device_language': 'category'})"
   ]
  },
  {
   "cell_type": "code",
   "execution_count": 222,
   "metadata": {},
   "outputs": [],
   "source": [
    "events_count = evts1.groupby('ref_hash').agg({'date': 'count'}).reset_index()\n",
    "events_count.columns = ['ref_hash', 'cantidad de eventos']\n",
    "\n",
    "events_count = target[['ref_hash']].merge(events_count, on = 'ref_hash', how = 'left')\n",
    "events_count['cantidad de eventos'] = events_count['cantidad de eventos'].fillna(0)\n",
    "data =data.merge(events_count, on = 'ref_hash')\n",
    "data=data[['ref_hash', 'auctions_count', 'dia_semana_mean', 'hora_mean','cantidad de eventos','st']]"
   ]
  },
  {
   "cell_type": "code",
   "execution_count": 223,
   "metadata": {},
   "outputs": [
    {
     "data": {
      "text/html": [
       "<div>\n",
       "<style scoped>\n",
       "    .dataframe tbody tr th:only-of-type {\n",
       "        vertical-align: middle;\n",
       "    }\n",
       "\n",
       "    .dataframe tbody tr th {\n",
       "        vertical-align: top;\n",
       "    }\n",
       "\n",
       "    .dataframe thead th {\n",
       "        text-align: right;\n",
       "    }\n",
       "</style>\n",
       "<table border=\"1\" class=\"dataframe\">\n",
       "  <thead>\n",
       "    <tr style=\"text-align: right;\">\n",
       "      <th></th>\n",
       "      <th>ref_hash</th>\n",
       "      <th>auctions_count</th>\n",
       "      <th>dia_semana_mean</th>\n",
       "      <th>hora_mean</th>\n",
       "      <th>cantidad de eventos</th>\n",
       "      <th>st</th>\n",
       "    </tr>\n",
       "  </thead>\n",
       "  <tbody>\n",
       "    <tr>\n",
       "      <th>0</th>\n",
       "      <td>1000169251625791246</td>\n",
       "      <td>13.0</td>\n",
       "      <td>4.538462</td>\n",
       "      <td>11.923077</td>\n",
       "      <td>2.0</td>\n",
       "      <td>0</td>\n",
       "    </tr>\n",
       "    <tr>\n",
       "      <th>1</th>\n",
       "      <td>1000395625957344683</td>\n",
       "      <td>15.0</td>\n",
       "      <td>3.533333</td>\n",
       "      <td>15.733333</td>\n",
       "      <td>0.0</td>\n",
       "      <td>0</td>\n",
       "    </tr>\n",
       "    <tr>\n",
       "      <th>2</th>\n",
       "      <td>1003027494996471685</td>\n",
       "      <td>168.0</td>\n",
       "      <td>3.220238</td>\n",
       "      <td>8.952381</td>\n",
       "      <td>9.0</td>\n",
       "      <td>0</td>\n",
       "    </tr>\n",
       "    <tr>\n",
       "      <th>3</th>\n",
       "      <td>1006670001679961544</td>\n",
       "      <td>3.0</td>\n",
       "      <td>4.333333</td>\n",
       "      <td>19.000000</td>\n",
       "      <td>0.0</td>\n",
       "      <td>0</td>\n",
       "    </tr>\n",
       "    <tr>\n",
       "      <th>4</th>\n",
       "      <td>1007573308966476713</td>\n",
       "      <td>7.0</td>\n",
       "      <td>3.571429</td>\n",
       "      <td>15.857143</td>\n",
       "      <td>0.0</td>\n",
       "      <td>0</td>\n",
       "    </tr>\n",
       "  </tbody>\n",
       "</table>\n",
       "</div>"
      ],
      "text/plain": [
       "              ref_hash  auctions_count  dia_semana_mean  hora_mean  \\\n",
       "0  1000169251625791246            13.0         4.538462  11.923077   \n",
       "1  1000395625957344683            15.0         3.533333  15.733333   \n",
       "2  1003027494996471685           168.0         3.220238   8.952381   \n",
       "3  1006670001679961544             3.0         4.333333  19.000000   \n",
       "4  1007573308966476713             7.0         3.571429  15.857143   \n",
       "\n",
       "   cantidad de eventos  st  \n",
       "0                  2.0   0  \n",
       "1                  0.0   0  \n",
       "2                  9.0   0  \n",
       "3                  0.0   0  \n",
       "4                  0.0   0  "
      ]
     },
     "execution_count": 223,
     "metadata": {},
     "output_type": "execute_result"
    }
   ],
   "source": [
    "data.head()"
   ]
  },
  {
   "cell_type": "code",
   "execution_count": 224,
   "metadata": {},
   "outputs": [
    {
     "data": {
      "text/plain": [
       "4037"
      ]
     },
     "execution_count": 224,
     "metadata": {},
     "output_type": "execute_result"
    }
   ],
   "source": [
    "merged=data.merge(target[['ref_hash']], on='ref_hash')\n",
    "merged['ref_hash'].unique().size"
   ]
  },
  {
   "cell_type": "code",
   "execution_count": 225,
   "metadata": {},
   "outputs": [
    {
     "data": {
      "text/html": [
       "<div>\n",
       "<style scoped>\n",
       "    .dataframe tbody tr th:only-of-type {\n",
       "        vertical-align: middle;\n",
       "    }\n",
       "\n",
       "    .dataframe tbody tr th {\n",
       "        vertical-align: top;\n",
       "    }\n",
       "\n",
       "    .dataframe thead th {\n",
       "        text-align: right;\n",
       "    }\n",
       "</style>\n",
       "<table border=\"1\" class=\"dataframe\">\n",
       "  <thead>\n",
       "    <tr style=\"text-align: right;\">\n",
       "      <th></th>\n",
       "      <th>ref_hash</th>\n",
       "      <th>auctions_count</th>\n",
       "      <th>dia_semana_mean</th>\n",
       "      <th>hora_mean</th>\n",
       "      <th>cantidad de eventos</th>\n",
       "      <th>st</th>\n",
       "    </tr>\n",
       "  </thead>\n",
       "  <tbody>\n",
       "    <tr>\n",
       "      <th>0</th>\n",
       "      <td>1000169251625791246</td>\n",
       "      <td>13.0</td>\n",
       "      <td>4.538462</td>\n",
       "      <td>11.923077</td>\n",
       "      <td>2.0</td>\n",
       "      <td>0</td>\n",
       "    </tr>\n",
       "    <tr>\n",
       "      <th>1</th>\n",
       "      <td>1000395625957344683</td>\n",
       "      <td>15.0</td>\n",
       "      <td>3.533333</td>\n",
       "      <td>15.733333</td>\n",
       "      <td>0.0</td>\n",
       "      <td>0</td>\n",
       "    </tr>\n",
       "    <tr>\n",
       "      <th>2</th>\n",
       "      <td>1003027494996471685</td>\n",
       "      <td>168.0</td>\n",
       "      <td>3.220238</td>\n",
       "      <td>8.952381</td>\n",
       "      <td>9.0</td>\n",
       "      <td>0</td>\n",
       "    </tr>\n",
       "    <tr>\n",
       "      <th>3</th>\n",
       "      <td>1006670001679961544</td>\n",
       "      <td>3.0</td>\n",
       "      <td>4.333333</td>\n",
       "      <td>19.000000</td>\n",
       "      <td>0.0</td>\n",
       "      <td>0</td>\n",
       "    </tr>\n",
       "    <tr>\n",
       "      <th>4</th>\n",
       "      <td>1007573308966476713</td>\n",
       "      <td>7.0</td>\n",
       "      <td>3.571429</td>\n",
       "      <td>15.857143</td>\n",
       "      <td>0.0</td>\n",
       "      <td>0</td>\n",
       "    </tr>\n",
       "  </tbody>\n",
       "</table>\n",
       "</div>"
      ],
      "text/plain": [
       "              ref_hash  auctions_count  dia_semana_mean  hora_mean  \\\n",
       "0  1000169251625791246            13.0         4.538462  11.923077   \n",
       "1  1000395625957344683            15.0         3.533333  15.733333   \n",
       "2  1003027494996471685           168.0         3.220238   8.952381   \n",
       "3  1006670001679961544             3.0         4.333333  19.000000   \n",
       "4  1007573308966476713             7.0         3.571429  15.857143   \n",
       "\n",
       "   cantidad de eventos  st  \n",
       "0                  2.0   0  \n",
       "1                  0.0   0  \n",
       "2                  9.0   0  \n",
       "3                  0.0   0  \n",
       "4                  0.0   0  "
      ]
     },
     "execution_count": 225,
     "metadata": {},
     "output_type": "execute_result"
    }
   ],
   "source": [
    "#Guardo la ventana con los features\n",
    "data.to_csv(path_or_buf = 'data/features1_target.csv', index = False)\n",
    "ts1= pd.read_csv( 'data/features1_target.csv')\n",
    "ts1.head()"
   ]
  },
  {
   "cell_type": "code",
   "execution_count": 226,
   "metadata": {},
   "outputs": [
    {
     "data": {
      "text/plain": [
       "4037"
      ]
     },
     "execution_count": 226,
     "metadata": {},
     "output_type": "execute_result"
    }
   ],
   "source": [
    "merged=ts1.merge(target[['ref_hash']], on='ref_hash')\n",
    "merged['ref_hash'].unique().size"
   ]
  },
  {
   "cell_type": "markdown",
   "metadata": {},
   "source": [
    "# Armo los  features del installs"
   ]
  },
  {
   "cell_type": "code",
   "execution_count": 333,
   "metadata": {},
   "outputs": [],
   "source": [
    "inst1 = pd.read_csv('data/installs_ventana6.csv', dtype = {'application_id': np.int16, 'ref_type': 'category', 'click_hash': 'category', 'device_country_code': 'category', 'device_brand': 'category', 'device_model': 'category', 'kind': 'category', 'device_language': 'category'})\n",
    "inst2 = pd.read_csv('data/installs_ventana7.csv', dtype = {'application_id': np.int16, 'ref_type': 'category', 'click_hash': 'category', 'device_country_code': 'category', 'device_brand': 'category', 'device_model': 'category', 'kind': 'category', 'device_language': 'category'})"
   ]
  },
  {
   "cell_type": "code",
   "execution_count": 334,
   "metadata": {},
   "outputs": [
    {
     "name": "stderr",
     "output_type": "stream",
     "text": [
      "C:\\Users\\AJorg\\Anaconda3\\lib\\site-packages\\ipykernel_launcher.py:4: SettingWithCopyWarning: \n",
      "A value is trying to be set on a copy of a slice from a DataFrame.\n",
      "Try using .loc[row_indexer,col_indexer] = value instead\n",
      "\n",
      "See the caveats in the documentation: http://pandas.pydata.org/pandas-docs/stable/indexing.html#indexing-view-versus-copy\n",
      "  after removing the cwd from sys.path.\n"
     ]
    }
   ],
   "source": [
    "inst1['created'] = pd.to_datetime(inst1['created'])\n",
    "ids_list1=inst1['ref_hash'].unique()\n",
    "inst_predict1= inst2[inst2['ref_hash'].isin(ids_list1)]\n",
    "inst_predict1['created'] = pd.to_datetime(inst_predict1['created'])"
   ]
  },
  {
   "cell_type": "code",
   "execution_count": 335,
   "metadata": {},
   "outputs": [
    {
     "name": "stderr",
     "output_type": "stream",
     "text": [
      "C:\\Users\\AJorg\\Anaconda3\\lib\\site-packages\\ipykernel_launcher.py:2: SettingWithCopyWarning: \n",
      "A value is trying to be set on a copy of a slice from a DataFrame.\n",
      "Try using .loc[row_indexer,col_indexer] = value instead\n",
      "\n",
      "See the caveats in the documentation: http://pandas.pydata.org/pandas-docs/stable/indexing.html#indexing-view-versus-copy\n",
      "  \n",
      "C:\\Users\\AJorg\\Anaconda3\\lib\\site-packages\\ipykernel_launcher.py:3: SettingWithCopyWarning: \n",
      "A value is trying to be set on a copy of a slice from a DataFrame.\n",
      "Try using .loc[row_indexer,col_indexer] = value instead\n",
      "\n",
      "See the caveats in the documentation: http://pandas.pydata.org/pandas-docs/stable/indexing.html#indexing-view-versus-copy\n",
      "  This is separate from the ipykernel package so we can avoid doing imports until\n"
     ]
    }
   ],
   "source": [
    "#ojo cambiar la fecha de la ventana\n",
    "inst_predict1['date_inicial'] = dt.datetime(2019,4, 24)\n",
    "inst_predict1['timeToconvertion'] = (inst_predict1['created'] - inst_predict1['date_inicial'])/np.timedelta64(1,'s')\n",
    "install_time = inst_predict1.groupby('ref_hash').agg({'timeToconvertion': 'min'}).reset_index()\n",
    "install_time.columns = ['ref_hash', 'sc']"
   ]
  },
  {
   "cell_type": "code",
   "execution_count": 336,
   "metadata": {},
   "outputs": [],
   "source": [
    "install_time = target[['ref_hash']].merge(install_time, on = 'ref_hash', how = 'outer')\n",
    "# lleno los tiempos vacios con cero\n",
    "install_time['sc'] = install_time['sc'].fillna((72 * 60 * 60))\n",
    "\n",
    "install_count = inst1.groupby('ref_hash').agg({'created': 'count'}).reset_index()\n",
    "install_count.columns = ['ref_hash', 'installs_count']\n",
    "install_count = target[['ref_hash']].merge(install_count, on = 'ref_hash', how = 'outer')\n",
    "install_count['installs_count'] = install_count['installs_count'].fillna(0)\n",
    "\n",
    "data = install_count.merge(install_time, on = 'ref_hash')\n",
    "\n",
    "inst1['dia_semana'] = inst1['created'].dt.dayofweek\n",
    "inst1['dia_semana']=inst1['dia_semana'] + 1\n",
    "day_mean = inst1.groupby('ref_hash').agg({'dia_semana': 'mean'}).reset_index()\n",
    "day_mean.columns = ['ref_hash', 'dia_semana_mean']\n",
    "\n",
    "day_mean = target[['ref_hash']].merge(day_mean, on = 'ref_hash', how = 'outer')\n",
    "day_mean['dia_semana_mean'] = day_mean['dia_semana_mean'].fillna(0)\n",
    "\n",
    "data =data.merge(day_mean, on = 'ref_hash')\n",
    "\n",
    "inst1['hora']=inst1['created'].dt.hour\n",
    "hour_mean = inst1.groupby('ref_hash').agg({'hora': 'mean'}).reset_index()\n",
    "hour_mean.columns = ['ref_hash', 'hora_mean']\n",
    "hour_mean['hora_mean'] = hour_mean['hora_mean'] + 1\n",
    "hour_mean = target[['ref_hash']].merge(hour_mean, on = 'ref_hash', how = 'outer')\n",
    "hour_mean['hora_mean'] = hour_mean['hora_mean'].fillna(0)\n",
    "\n",
    "data =data.merge(hour_mean, on = 'ref_hash')\n"
   ]
  },
  {
   "cell_type": "code",
   "execution_count": 337,
   "metadata": {},
   "outputs": [
    {
     "data": {
      "text/plain": [
       "4037"
      ]
     },
     "execution_count": 337,
     "metadata": {},
     "output_type": "execute_result"
    }
   ],
   "source": [
    "merged=data.merge(target[['ref_hash']], on='ref_hash')\n",
    "merged['ref_hash'].unique().size"
   ]
  },
  {
   "cell_type": "code",
   "execution_count": 237,
   "metadata": {},
   "outputs": [
    {
     "data": {
      "text/plain": [
       "4037"
      ]
     },
     "execution_count": 237,
     "metadata": {},
     "output_type": "execute_result"
    }
   ],
   "source": [
    "merged=auction_time.merge(target[['ref_hash']], on='ref_hash')\n",
    "merged['ref_hash'].unique().size"
   ]
  },
  {
   "cell_type": "code",
   "execution_count": 338,
   "metadata": {},
   "outputs": [],
   "source": [
    "evts1 = pd.read_csv(\"data/events_ventana6.csv\", dtype = {\"event_id\": np.int16, \"application_id\": np.int16, 'device_countrycode': 'category', 'device_os_version': 'category', 'device_brand': 'category', 'device_model': 'category', 'device_city': 'category', 'session_user_agent': 'category', 'trans_id': 'category', 'user_agent': 'category', 'carrier' : 'category', 'kind': 'category', 'device_os': 'category', 'connection_type': 'category', 'ip_address': 'category', 'device_language': 'category'})"
   ]
  },
  {
   "cell_type": "code",
   "execution_count": 339,
   "metadata": {},
   "outputs": [],
   "source": [
    "events_count = evts1.groupby('ref_hash').agg({'date': 'count'}).reset_index()\n",
    "events_count.columns = ['ref_hash', 'cantidad de eventos']\n",
    "\n",
    "events_count = target[['ref_hash']].merge(events_count, on = 'ref_hash', how = 'outer')\n",
    "events_count['cantidad de eventos'] = events_count['cantidad de eventos'].fillna(0)\n",
    "data =data.merge(events_count, on = 'ref_hash')\n",
    "data=data[['ref_hash', 'installs_count', 'dia_semana_mean', 'hora_mean','cantidad de eventos','sc']]\n"
   ]
  },
  {
   "cell_type": "code",
   "execution_count": 340,
   "metadata": {},
   "outputs": [
    {
     "data": {
      "text/plain": [
       "4037"
      ]
     },
     "execution_count": 340,
     "metadata": {},
     "output_type": "execute_result"
    }
   ],
   "source": [
    "merged=data.merge(target[['ref_hash']], on='ref_hash')\n",
    "merged['ref_hash'].unique().size"
   ]
  },
  {
   "cell_type": "code",
   "execution_count": 341,
   "metadata": {},
   "outputs": [
    {
     "data": {
      "text/html": [
       "<div>\n",
       "<style scoped>\n",
       "    .dataframe tbody tr th:only-of-type {\n",
       "        vertical-align: middle;\n",
       "    }\n",
       "\n",
       "    .dataframe tbody tr th {\n",
       "        vertical-align: top;\n",
       "    }\n",
       "\n",
       "    .dataframe thead th {\n",
       "        text-align: right;\n",
       "    }\n",
       "</style>\n",
       "<table border=\"1\" class=\"dataframe\">\n",
       "  <thead>\n",
       "    <tr style=\"text-align: right;\">\n",
       "      <th></th>\n",
       "      <th>ref_hash</th>\n",
       "      <th>installs_count</th>\n",
       "      <th>dia_semana_mean</th>\n",
       "      <th>hora_mean</th>\n",
       "      <th>cantidad de eventos</th>\n",
       "      <th>sc</th>\n",
       "    </tr>\n",
       "  </thead>\n",
       "  <tbody>\n",
       "    <tr>\n",
       "      <th>0</th>\n",
       "      <td>1000169251625791246</td>\n",
       "      <td>0.0</td>\n",
       "      <td>0.0</td>\n",
       "      <td>0.0</td>\n",
       "      <td>3.0</td>\n",
       "      <td>259200.0</td>\n",
       "    </tr>\n",
       "    <tr>\n",
       "      <th>1</th>\n",
       "      <td>1000395625957344683</td>\n",
       "      <td>0.0</td>\n",
       "      <td>0.0</td>\n",
       "      <td>0.0</td>\n",
       "      <td>0.0</td>\n",
       "      <td>259200.0</td>\n",
       "    </tr>\n",
       "    <tr>\n",
       "      <th>2</th>\n",
       "      <td>1003027494996471685</td>\n",
       "      <td>2.0</td>\n",
       "      <td>2.0</td>\n",
       "      <td>21.0</td>\n",
       "      <td>22.0</td>\n",
       "      <td>259200.0</td>\n",
       "    </tr>\n",
       "    <tr>\n",
       "      <th>3</th>\n",
       "      <td>1006670001679961544</td>\n",
       "      <td>0.0</td>\n",
       "      <td>0.0</td>\n",
       "      <td>0.0</td>\n",
       "      <td>0.0</td>\n",
       "      <td>259200.0</td>\n",
       "    </tr>\n",
       "    <tr>\n",
       "      <th>4</th>\n",
       "      <td>1007573308966476713</td>\n",
       "      <td>0.0</td>\n",
       "      <td>0.0</td>\n",
       "      <td>0.0</td>\n",
       "      <td>0.0</td>\n",
       "      <td>259200.0</td>\n",
       "    </tr>\n",
       "  </tbody>\n",
       "</table>\n",
       "</div>"
      ],
      "text/plain": [
       "              ref_hash  installs_count  dia_semana_mean  hora_mean  \\\n",
       "0  1000169251625791246             0.0              0.0        0.0   \n",
       "1  1000395625957344683             0.0              0.0        0.0   \n",
       "2  1003027494996471685             2.0              2.0       21.0   \n",
       "3  1006670001679961544             0.0              0.0        0.0   \n",
       "4  1007573308966476713             0.0              0.0        0.0   \n",
       "\n",
       "   cantidad de eventos        sc  \n",
       "0                  3.0  259200.0  \n",
       "1                  0.0  259200.0  \n",
       "2                 22.0  259200.0  \n",
       "3                  0.0  259200.0  \n",
       "4                  0.0  259200.0  "
      ]
     },
     "execution_count": 341,
     "metadata": {},
     "output_type": "execute_result"
    }
   ],
   "source": [
    "data.head()"
   ]
  },
  {
   "cell_type": "code",
   "execution_count": 342,
   "metadata": {},
   "outputs": [
    {
     "data": {
      "text/html": [
       "<div>\n",
       "<style scoped>\n",
       "    .dataframe tbody tr th:only-of-type {\n",
       "        vertical-align: middle;\n",
       "    }\n",
       "\n",
       "    .dataframe tbody tr th {\n",
       "        vertical-align: top;\n",
       "    }\n",
       "\n",
       "    .dataframe thead th {\n",
       "        text-align: right;\n",
       "    }\n",
       "</style>\n",
       "<table border=\"1\" class=\"dataframe\">\n",
       "  <thead>\n",
       "    <tr style=\"text-align: right;\">\n",
       "      <th></th>\n",
       "      <th>ref_hash</th>\n",
       "      <th>installs_count</th>\n",
       "      <th>dia_semana_mean</th>\n",
       "      <th>hora_mean</th>\n",
       "      <th>cantidad de eventos</th>\n",
       "      <th>sc</th>\n",
       "    </tr>\n",
       "  </thead>\n",
       "  <tbody>\n",
       "    <tr>\n",
       "      <th>0</th>\n",
       "      <td>1000169251625791246</td>\n",
       "      <td>0.0</td>\n",
       "      <td>0.0</td>\n",
       "      <td>0.0</td>\n",
       "      <td>3.0</td>\n",
       "      <td>259200.0</td>\n",
       "    </tr>\n",
       "    <tr>\n",
       "      <th>1</th>\n",
       "      <td>1000395625957344683</td>\n",
       "      <td>0.0</td>\n",
       "      <td>0.0</td>\n",
       "      <td>0.0</td>\n",
       "      <td>0.0</td>\n",
       "      <td>259200.0</td>\n",
       "    </tr>\n",
       "    <tr>\n",
       "      <th>2</th>\n",
       "      <td>1003027494996471685</td>\n",
       "      <td>2.0</td>\n",
       "      <td>2.0</td>\n",
       "      <td>21.0</td>\n",
       "      <td>22.0</td>\n",
       "      <td>259200.0</td>\n",
       "    </tr>\n",
       "    <tr>\n",
       "      <th>3</th>\n",
       "      <td>1006670001679961544</td>\n",
       "      <td>0.0</td>\n",
       "      <td>0.0</td>\n",
       "      <td>0.0</td>\n",
       "      <td>0.0</td>\n",
       "      <td>259200.0</td>\n",
       "    </tr>\n",
       "    <tr>\n",
       "      <th>4</th>\n",
       "      <td>1007573308966476713</td>\n",
       "      <td>0.0</td>\n",
       "      <td>0.0</td>\n",
       "      <td>0.0</td>\n",
       "      <td>0.0</td>\n",
       "      <td>259200.0</td>\n",
       "    </tr>\n",
       "  </tbody>\n",
       "</table>\n",
       "</div>"
      ],
      "text/plain": [
       "              ref_hash  installs_count  dia_semana_mean  hora_mean  \\\n",
       "0  1000169251625791246             0.0              0.0        0.0   \n",
       "1  1000395625957344683             0.0              0.0        0.0   \n",
       "2  1003027494996471685             2.0              2.0       21.0   \n",
       "3  1006670001679961544             0.0              0.0        0.0   \n",
       "4  1007573308966476713             0.0              0.0        0.0   \n",
       "\n",
       "   cantidad de eventos        sc  \n",
       "0                  3.0  259200.0  \n",
       "1                  0.0  259200.0  \n",
       "2                 22.0  259200.0  \n",
       "3                  0.0  259200.0  \n",
       "4                  0.0  259200.0  "
      ]
     },
     "execution_count": 342,
     "metadata": {},
     "output_type": "execute_result"
    }
   ],
   "source": [
    "#Guardo la ventana con los features\n",
    "data.to_csv(path_or_buf = 'data/features1_inst6.csv', index = False)\n",
    "ts1= pd.read_csv( 'data/features1_inst6.csv')\n",
    "ts1.head()"
   ]
  },
  {
   "cell_type": "code",
   "execution_count": 343,
   "metadata": {},
   "outputs": [
    {
     "data": {
      "text/plain": [
       "4037"
      ]
     },
     "execution_count": 343,
     "metadata": {},
     "output_type": "execute_result"
    }
   ],
   "source": [
    "merged=ts1.merge(target[['ref_hash']], on='ref_hash')\n",
    "merged['ref_hash'].unique().size"
   ]
  },
  {
   "cell_type": "markdown",
   "metadata": {},
   "source": [
    "# Armo los fetures del target"
   ]
  },
  {
   "cell_type": "code",
   "execution_count": 345,
   "metadata": {},
   "outputs": [],
   "source": [
    "inst1 = pd.read_csv('data/installs_ventana7.csv', dtype = {'application_id': np.int16, 'ref_type': 'category', 'click_hash': 'category', 'device_country_code': 'category', 'device_brand': 'category', 'device_model': 'category', 'kind': 'category', 'device_language': 'category'})\n",
    "inst1['created'] = pd.to_datetime(inst1['created'])\n",
    "ids_list1=target['ref_hash'].unique()\n",
    "inst1= inst1[inst1['ref_hash'].isin(ids_list1)]"
   ]
  },
  {
   "cell_type": "code",
   "execution_count": 346,
   "metadata": {},
   "outputs": [],
   "source": [
    "install_count = inst1.groupby('ref_hash').agg({'created': 'count'}).reset_index()\n",
    "install_count.columns = ['ref_hash', 'installs_count']\n",
    "#hago un merge left para que darme solo con los ids del target\n",
    "install_count = target[['ref_hash']].merge(install_count, on = 'ref_hash', how = 'left')\n",
    "install_count['installs_count'] = install_count['installs_count'].fillna(0)\n",
    "\n",
    "data = install_count\n",
    "data['sc']=0\n",
    "\n",
    "inst1['dia_semana'] = inst1['created'].dt.dayofweek\n",
    "inst1['dia_semana']=inst1['dia_semana'] + 1\n",
    "day_mean = inst1.groupby('ref_hash').agg({'dia_semana': 'mean'}).reset_index()\n",
    "day_mean.columns = ['ref_hash', 'dia_semana_mean']\n",
    "\n",
    "day_mean = target[['ref_hash']].merge(day_mean, on = 'ref_hash', how = 'left')\n",
    "day_mean['dia_semana_mean'] = day_mean['dia_semana_mean'].fillna(0)\n",
    "\n",
    "data =data.merge(day_mean, on = 'ref_hash')\n",
    "\n",
    "inst1['hora']=inst1['created'].dt.hour\n",
    "hour_mean = inst1.groupby('ref_hash').agg({'hora': 'mean'}).reset_index()\n",
    "hour_mean.columns = ['ref_hash', 'hora_mean']\n",
    "hour_mean['hora_mean'] = hour_mean['hora_mean'] +1\n",
    "hour_mean = target[['ref_hash']].merge(hour_mean, on = 'ref_hash', how = 'left')\n",
    "hour_mean['hora_mean'] = hour_mean['hora_mean'].fillna(0)\n",
    "\n",
    "data =data.merge(hour_mean, on = 'ref_hash')"
   ]
  },
  {
   "cell_type": "code",
   "execution_count": 347,
   "metadata": {},
   "outputs": [
    {
     "data": {
      "text/plain": [
       "4037"
      ]
     },
     "execution_count": 347,
     "metadata": {},
     "output_type": "execute_result"
    }
   ],
   "source": [
    "merged=data.merge(target[['ref_hash']], on='ref_hash')\n",
    "merged['ref_hash'].unique().size"
   ]
  },
  {
   "cell_type": "code",
   "execution_count": 351,
   "metadata": {},
   "outputs": [],
   "source": [
    "evts1 = pd.read_csv(\"data/events_ventana7.csv\", dtype = {\"event_id\": np.int16, \"application_id\": np.int16, 'device_countrycode': 'category', 'device_os_version': 'category', 'device_brand': 'category', 'device_model': 'category', 'device_city': 'category', 'session_user_agent': 'category', 'trans_id': 'category', 'user_agent': 'category', 'carrier' : 'category', 'kind': 'category', 'device_os': 'category', 'connection_type': 'category', 'ip_address': 'category', 'device_language': 'category'})"
   ]
  },
  {
   "cell_type": "code",
   "execution_count": 352,
   "metadata": {},
   "outputs": [],
   "source": [
    "events_count = evts1.groupby('ref_hash').agg({'date': 'count'}).reset_index()\n",
    "events_count.columns = ['ref_hash', 'cantidad de eventos']\n",
    "\n",
    "events_count = target[['ref_hash']].merge(events_count, on = 'ref_hash', how = 'left')\n",
    "events_count['cantidad de eventos'] = events_count['cantidad de eventos'].fillna(0)\n",
    "data =data.merge(events_count, on = 'ref_hash')\n",
    "data=data[['ref_hash', 'installs_count', 'dia_semana_mean', 'hora_mean','cantidad de eventos','sc']]"
   ]
  },
  {
   "cell_type": "code",
   "execution_count": 353,
   "metadata": {},
   "outputs": [
    {
     "data": {
      "text/plain": [
       "4037"
      ]
     },
     "execution_count": 353,
     "metadata": {},
     "output_type": "execute_result"
    }
   ],
   "source": [
    "merged=data.merge(target[['ref_hash']], on='ref_hash')\n",
    "merged['ref_hash'].unique().size"
   ]
  },
  {
   "cell_type": "code",
   "execution_count": 354,
   "metadata": {},
   "outputs": [
    {
     "data": {
      "text/html": [
       "<div>\n",
       "<style scoped>\n",
       "    .dataframe tbody tr th:only-of-type {\n",
       "        vertical-align: middle;\n",
       "    }\n",
       "\n",
       "    .dataframe tbody tr th {\n",
       "        vertical-align: top;\n",
       "    }\n",
       "\n",
       "    .dataframe thead th {\n",
       "        text-align: right;\n",
       "    }\n",
       "</style>\n",
       "<table border=\"1\" class=\"dataframe\">\n",
       "  <thead>\n",
       "    <tr style=\"text-align: right;\">\n",
       "      <th></th>\n",
       "      <th>ref_hash</th>\n",
       "      <th>installs_count</th>\n",
       "      <th>dia_semana_mean</th>\n",
       "      <th>hora_mean</th>\n",
       "      <th>cantidad de eventos</th>\n",
       "      <th>sc</th>\n",
       "    </tr>\n",
       "  </thead>\n",
       "  <tbody>\n",
       "    <tr>\n",
       "      <th>0</th>\n",
       "      <td>1000169251625791246</td>\n",
       "      <td>0.0</td>\n",
       "      <td>0.0</td>\n",
       "      <td>0.0</td>\n",
       "      <td>2.0</td>\n",
       "      <td>0</td>\n",
       "    </tr>\n",
       "    <tr>\n",
       "      <th>1</th>\n",
       "      <td>1000395625957344683</td>\n",
       "      <td>0.0</td>\n",
       "      <td>0.0</td>\n",
       "      <td>0.0</td>\n",
       "      <td>0.0</td>\n",
       "      <td>0</td>\n",
       "    </tr>\n",
       "    <tr>\n",
       "      <th>2</th>\n",
       "      <td>1003027494996471685</td>\n",
       "      <td>0.0</td>\n",
       "      <td>0.0</td>\n",
       "      <td>0.0</td>\n",
       "      <td>9.0</td>\n",
       "      <td>0</td>\n",
       "    </tr>\n",
       "    <tr>\n",
       "      <th>3</th>\n",
       "      <td>1006670001679961544</td>\n",
       "      <td>0.0</td>\n",
       "      <td>0.0</td>\n",
       "      <td>0.0</td>\n",
       "      <td>0.0</td>\n",
       "      <td>0</td>\n",
       "    </tr>\n",
       "    <tr>\n",
       "      <th>4</th>\n",
       "      <td>1007573308966476713</td>\n",
       "      <td>0.0</td>\n",
       "      <td>0.0</td>\n",
       "      <td>0.0</td>\n",
       "      <td>0.0</td>\n",
       "      <td>0</td>\n",
       "    </tr>\n",
       "  </tbody>\n",
       "</table>\n",
       "</div>"
      ],
      "text/plain": [
       "              ref_hash  installs_count  dia_semana_mean  hora_mean  \\\n",
       "0  1000169251625791246             0.0              0.0        0.0   \n",
       "1  1000395625957344683             0.0              0.0        0.0   \n",
       "2  1003027494996471685             0.0              0.0        0.0   \n",
       "3  1006670001679961544             0.0              0.0        0.0   \n",
       "4  1007573308966476713             0.0              0.0        0.0   \n",
       "\n",
       "   cantidad de eventos  sc  \n",
       "0                  2.0   0  \n",
       "1                  0.0   0  \n",
       "2                  9.0   0  \n",
       "3                  0.0   0  \n",
       "4                  0.0   0  "
      ]
     },
     "execution_count": 354,
     "metadata": {},
     "output_type": "execute_result"
    }
   ],
   "source": [
    "data.head()"
   ]
  },
  {
   "cell_type": "code",
   "execution_count": 355,
   "metadata": {},
   "outputs": [
    {
     "data": {
      "text/html": [
       "<div>\n",
       "<style scoped>\n",
       "    .dataframe tbody tr th:only-of-type {\n",
       "        vertical-align: middle;\n",
       "    }\n",
       "\n",
       "    .dataframe tbody tr th {\n",
       "        vertical-align: top;\n",
       "    }\n",
       "\n",
       "    .dataframe thead th {\n",
       "        text-align: right;\n",
       "    }\n",
       "</style>\n",
       "<table border=\"1\" class=\"dataframe\">\n",
       "  <thead>\n",
       "    <tr style=\"text-align: right;\">\n",
       "      <th></th>\n",
       "      <th>ref_hash</th>\n",
       "      <th>installs_count</th>\n",
       "      <th>dia_semana_mean</th>\n",
       "      <th>hora_mean</th>\n",
       "      <th>cantidad de eventos</th>\n",
       "      <th>sc</th>\n",
       "    </tr>\n",
       "  </thead>\n",
       "  <tbody>\n",
       "    <tr>\n",
       "      <th>0</th>\n",
       "      <td>1000169251625791246</td>\n",
       "      <td>0.0</td>\n",
       "      <td>0.0</td>\n",
       "      <td>0.0</td>\n",
       "      <td>2.0</td>\n",
       "      <td>0</td>\n",
       "    </tr>\n",
       "    <tr>\n",
       "      <th>1</th>\n",
       "      <td>1000395625957344683</td>\n",
       "      <td>0.0</td>\n",
       "      <td>0.0</td>\n",
       "      <td>0.0</td>\n",
       "      <td>0.0</td>\n",
       "      <td>0</td>\n",
       "    </tr>\n",
       "    <tr>\n",
       "      <th>2</th>\n",
       "      <td>1003027494996471685</td>\n",
       "      <td>0.0</td>\n",
       "      <td>0.0</td>\n",
       "      <td>0.0</td>\n",
       "      <td>9.0</td>\n",
       "      <td>0</td>\n",
       "    </tr>\n",
       "    <tr>\n",
       "      <th>3</th>\n",
       "      <td>1006670001679961544</td>\n",
       "      <td>0.0</td>\n",
       "      <td>0.0</td>\n",
       "      <td>0.0</td>\n",
       "      <td>0.0</td>\n",
       "      <td>0</td>\n",
       "    </tr>\n",
       "    <tr>\n",
       "      <th>4</th>\n",
       "      <td>1007573308966476713</td>\n",
       "      <td>0.0</td>\n",
       "      <td>0.0</td>\n",
       "      <td>0.0</td>\n",
       "      <td>0.0</td>\n",
       "      <td>0</td>\n",
       "    </tr>\n",
       "  </tbody>\n",
       "</table>\n",
       "</div>"
      ],
      "text/plain": [
       "              ref_hash  installs_count  dia_semana_mean  hora_mean  \\\n",
       "0  1000169251625791246             0.0              0.0        0.0   \n",
       "1  1000395625957344683             0.0              0.0        0.0   \n",
       "2  1003027494996471685             0.0              0.0        0.0   \n",
       "3  1006670001679961544             0.0              0.0        0.0   \n",
       "4  1007573308966476713             0.0              0.0        0.0   \n",
       "\n",
       "   cantidad de eventos  sc  \n",
       "0                  2.0   0  \n",
       "1                  0.0   0  \n",
       "2                  9.0   0  \n",
       "3                  0.0   0  \n",
       "4                  0.0   0  "
      ]
     },
     "execution_count": 355,
     "metadata": {},
     "output_type": "execute_result"
    }
   ],
   "source": [
    "#Guardo la ventana con los features\n",
    "data.to_csv(path_or_buf = 'data/features1_target_installs.csv', index = False)\n",
    "ts1= pd.read_csv( 'data/features1_target_installs.csv')\n",
    "ts1.head()"
   ]
  },
  {
   "cell_type": "code",
   "execution_count": null,
   "metadata": {},
   "outputs": [],
   "source": []
  }
 ],
 "metadata": {
  "kernelspec": {
   "display_name": "Python 3",
   "language": "python",
   "name": "python3"
  },
  "language_info": {
   "codemirror_mode": {
    "name": "ipython",
    "version": 3
   },
   "file_extension": ".py",
   "mimetype": "text/x-python",
   "name": "python",
   "nbconvert_exporter": "python",
   "pygments_lexer": "ipython3",
   "version": "3.7.3"
  }
 },
 "nbformat": 4,
 "nbformat_minor": 2
}
