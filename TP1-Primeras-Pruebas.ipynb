{
 "cells": [
  {
   "cell_type": "code",
   "execution_count": 1,
   "metadata": {},
   "outputs": [],
   "source": [
    "import pandas as pd\n",
    "import seaborn as sns \n",
    "import numpy as np\n",
    "import matplotlib.pyplot as plt"
   ]
  },
  {
   "cell_type": "code",
   "execution_count": 2,
   "metadata": {},
   "outputs": [
    {
     "name": "stderr",
     "output_type": "stream",
     "text": [
      "/home/sol/.local/lib/python3.6/site-packages/IPython/core/interactiveshell.py:3044: DtypeWarning: Columns (12,18,19) have mixed types. Specify dtype option on import or set low_memory=False.\n",
      "  interactivity=interactivity, compiler=compiler, result=result)\n"
     ]
    }
   ],
   "source": [
    "auc = pd.read_csv(\"data/auctions.csv\")\n",
    "evt = pd.read_csv(\"data/events.csv\")\n",
    "inst = pd.read_csv(\"data/installs.csv\")"
   ]
  },
  {
   "cell_type": "code",
   "execution_count": 3,
   "metadata": {},
   "outputs": [],
   "source": [
    "subs = auc"
   ]
  },
  {
   "cell_type": "code",
   "execution_count": 4,
   "metadata": {},
   "outputs": [
    {
     "data": {
      "text/plain": [
       "Index(['auction_type_id', 'country', 'date', 'device_id', 'platform',\n",
       "       'ref_type_id', 'source_id'],\n",
       "      dtype='object')"
      ]
     },
     "execution_count": 4,
     "metadata": {},
     "output_type": "execute_result"
    }
   ],
   "source": [
    "subs.columns"
   ]
  },
  {
   "cell_type": "code",
   "execution_count": 5,
   "metadata": {},
   "outputs": [
    {
     "data": {
      "text/plain": [
       "0    13354597\n",
       "1     4016739\n",
       "5     1466494\n",
       "2      582083\n",
       "6      151406\n",
       "Name: source_id, dtype: int64"
      ]
     },
     "execution_count": 5,
     "metadata": {},
     "output_type": "execute_result"
    }
   ],
   "source": [
    "subs['source_id'].value_counts()"
   ]
  },
  {
   "cell_type": "markdown",
   "metadata": {},
   "source": [
    "Quiero ver que información puedo encontrar en las fechas de las subastas\n",
    "\n"
   ]
  },
  {
   "cell_type": "code",
   "execution_count": 6,
   "metadata": {},
   "outputs": [
    {
     "data": {
      "text/plain": [
       "2019-03-13    2938373\n",
       "Name: real_date, dtype: int64"
      ]
     },
     "execution_count": 6,
     "metadata": {},
     "output_type": "execute_result"
    }
   ],
   "source": [
    "subs['real_date'] = pd.to_datetime(subs['date'], format='%Y%m%d %H:%M:%S.%f').dt.date\n",
    "subs_by_date = subs['real_date'].value_counts()\n",
    "subs_by_date.head(1)"
   ]
  },
  {
   "cell_type": "code",
   "execution_count": 7,
   "metadata": {
    "scrolled": true
   },
   "outputs": [
    {
     "name": "stderr",
     "output_type": "stream",
     "text": [
      "/home/sol/.local/lib/python3.6/site-packages/pandas/plotting/_converter.py:129: FutureWarning: Using an implicitly registered datetime converter for a matplotlib plotting method. The converter was registered by pandas on import. Future versions of pandas will require you to explicitly register matplotlib converters.\n",
      "\n",
      "To register the converters:\n",
      "\t>>> from pandas.plotting import register_matplotlib_converters\n",
      "\t>>> register_matplotlib_converters()\n",
      "  warnings.warn(msg, FutureWarning)\n"
     ]
    },
    {
     "data": {
      "image/png": "[encoded data removed]",
      "text/plain": [
       "<Figure size 432x288 with 1 Axes>"
      ]
     },
     "metadata": {
      "needs_background": "light"
     },
     "output_type": "display_data"
    }
   ],
   "source": [
    "plot1 = sns.lineplot(x = subs_by_date.index, y = subs_by_date.values)\n"
   ]
  },
  {
   "cell_type": "markdown",
   "metadata": {},
   "source": [
    "# Veo qué me dicen los events"
   ]
  },
  {
   "cell_type": "code",
   "execution_count": 8,
   "metadata": {},
   "outputs": [
    {
     "data": {
      "text/plain": [
       "Index(['date', 'event_id', 'ref_type', 'ref_hash', 'application_id',\n",
       "       'attributed', 'device_countrycode', 'device_os_version', 'device_brand',\n",
       "       'device_model', 'device_city', 'session_user_agent', 'trans_id',\n",
       "       'user_agent', 'event_uuid', 'carrier', 'kind', 'device_os', 'wifi',\n",
       "       'connection_type', 'ip_address', 'device_language'],\n",
       "      dtype='object')"
      ]
     },
     "execution_count": 8,
     "metadata": {},
     "output_type": "execute_result"
    }
   ],
   "source": [
    "evt.columns"
   ]
  },
  {
   "cell_type": "code",
   "execution_count": 9,
   "metadata": {},
   "outputs": [
    {
     "data": {
      "text/plain": [
       "date                   object\n",
       "event_id                int64\n",
       "ref_type                int64\n",
       "ref_hash                int64\n",
       "application_id          int64\n",
       "attributed               bool\n",
       "device_countrycode      int64\n",
       "device_os_version     float64\n",
       "device_brand          float64\n",
       "device_model          float64\n",
       "device_city           float64\n",
       "session_user_agent    float64\n",
       "trans_id               object\n",
       "user_agent            float64\n",
       "event_uuid             object\n",
       "carrier               float64\n",
       "kind                  float64\n",
       "device_os             float64\n",
       "wifi                   object\n",
       "connection_type        object\n",
       "ip_address              int64\n",
       "device_language       float64\n",
       "dtype: object"
      ]
     },
     "execution_count": 9,
     "metadata": {},
     "output_type": "execute_result"
    }
   ],
   "source": [
    "evt.dtypes"
   ]
  },
  {
   "cell_type": "code",
   "execution_count": 10,
   "metadata": {},
   "outputs": [
    {
     "data": {
      "text/plain": [
       "date                  2494423\n",
       "event_id              2494423\n",
       "ref_type              2494423\n",
       "ref_hash              2494423\n",
       "application_id        2494423\n",
       "attributed            2494423\n",
       "device_countrycode    2494423\n",
       "device_os_version     1022066\n",
       "device_brand          1164963\n",
       "device_model          2406456\n",
       "device_city            614698\n",
       "session_user_agent    2482637\n",
       "trans_id                   82\n",
       "user_agent            1391527\n",
       "event_uuid            2489324\n",
       "carrier                616434\n",
       "kind                  2489324\n",
       "device_os              657667\n",
       "wifi                  1378872\n",
       "connection_type        612463\n",
       "ip_address            2494423\n",
       "device_language       2406604\n",
       "dtype: int64"
      ]
     },
     "execution_count": 10,
     "metadata": {},
     "output_type": "execute_result"
    }
   ],
   "source": [
    "evt.count()"
   ]
  },
  {
   "cell_type": "markdown",
   "metadata": {},
   "source": [
    "## Catidad de eventos según el tipo de conexión"
   ]
  },
  {
   "cell_type": "code",
   "execution_count": 11,
   "metadata": {},
   "outputs": [
    {
     "data": {
      "text/plain": [
       "Cable/DSL    331948\n",
       "Cellular     280511\n",
       "Corporate         4\n",
       "Name: connection_type, dtype: int64"
      ]
     },
     "execution_count": 11,
     "metadata": {},
     "output_type": "execute_result"
    }
   ],
   "source": [
    "conexiones = evt['connection_type'].value_counts()\n",
    "conexiones"
   ]
  },
  {
   "cell_type": "code",
   "execution_count": 12,
   "metadata": {},
   "outputs": [
    {
     "data": {
      "text/plain": [
       "Text(0.5, 0, 'Tipo de conexión')"
      ]
     },
     "execution_count": 12,
     "metadata": {},
     "output_type": "execute_result"
    },
    {
     "data": {
      "image/png": "[encoded data removed]",
      "text/plain": [
       "<Figure size 432x288 with 1 Axes>"
      ]
     },
     "metadata": {
      "needs_background": "light"
     },
     "output_type": "display_data"
    }
   ],
   "source": [
    "grf = sns.barplot(x = conexiones.index, y = conexiones.values, orient = 'v', palette = 'Reds')\n",
    "grf.set_title(\"Cantidad de eventos según su tipo de conexión\", fontsize = 25)\n",
    "grf.set_ylabel(\"Cantidad de conexiones\", fontsize = 15)\n",
    "grf.set_xlabel(\"Tipo de conexión\", fontsize = 15)"
   ]
  },
  {
   "cell_type": "markdown",
   "metadata": {},
   "source": [
    "## Alternativa con piechart \n",
    "\n",
    "Como el tipo Corporate tiene tan solo 4 apariciones y los otros más de 200 mil tiene un valor despreciable frente a los otros dos."
   ]
  },
  {
   "cell_type": "code",
   "execution_count": 13,
   "metadata": {},
   "outputs": [
    {
     "data": {
      "image/png": "[encoded data removed]",
      "text/plain": [
       "<Figure size 576x576 with 1 Axes>"
      ]
     },
     "metadata": {},
     "output_type": "display_data"
    }
   ],
   "source": [
    "df_conexiones = conexiones.to_frame().loc[ conexiones.index != 'Corporate',]\n",
    "plot = df_conexiones.plot(kind='pie', subplots=True, figsize=(8, 8), title = 'Cantidad de eventos para las conexiones predominantes', )"
   ]
  },
  {
   "cell_type": "markdown",
   "metadata": {},
   "source": [
    "## Veo que hay en las instalaciones"
   ]
  },
  {
   "cell_type": "code",
   "execution_count": 14,
   "metadata": {},
   "outputs": [
    {
     "data": {
      "text/plain": [
       "created                object\n",
       "application_id          int64\n",
       "ref_type                int64\n",
       "ref_hash                int64\n",
       "click_hash            float64\n",
       "attributed               bool\n",
       "implicit                 bool\n",
       "device_countrycode      int64\n",
       "device_brand          float64\n",
       "device_model          float64\n",
       "session_user_agent     object\n",
       "user_agent             object\n",
       "event_uuid             object\n",
       "kind                   object\n",
       "wifi                   object\n",
       "trans_id               object\n",
       "ip_address              int64\n",
       "device_language       float64\n",
       "dtype: object"
      ]
     },
     "execution_count": 14,
     "metadata": {},
     "output_type": "execute_result"
    }
   ],
   "source": [
    "inst.dtypes"
   ]
  },
  {
   "cell_type": "markdown",
   "metadata": {},
   "source": [
    "Veamos que puedo encontrar entre los \"user_agent\""
   ]
  },
  {
   "cell_type": "code",
   "execution_count": 15,
   "metadata": {},
   "outputs": [
    {
     "data": {
      "text/html": [
       "<div>\n",
       "<style scoped>\n",
       "    .dataframe tbody tr th:only-of-type {\n",
       "        vertical-align: middle;\n",
       "    }\n",
       "\n",
       "    .dataframe tbody tr th {\n",
       "        vertical-align: top;\n",
       "    }\n",
       "\n",
       "    .dataframe thead th {\n",
       "        text-align: right;\n",
       "    }\n",
       "</style>\n",
       "<table border=\"1\" class=\"dataframe\">\n",
       "  <thead>\n",
       "    <tr style=\"text-align: right;\">\n",
       "      <th></th>\n",
       "      <th>MercadoPago/2.58.0.2 CFNetwork/976 Darwin/18.2.0</th>\n",
       "      <th>MercadoPago/2.59.0.1 CFNetwork/976 Darwin/18.2.0</th>\n",
       "      <th>MercadoPago/2.57.0.2 CFNetwork/976 Darwin/18.2.0</th>\n",
       "      <th>Dalvik/2.1.0 (Linux; U; Android 8.1.0; SM-G610M Build/M1AJQ)</th>\n",
       "      <th>Dalvik/2.1.0 (Linux; U; Android 6.0.1; SM-J500M Build/MMB29M)</th>\n",
       "      <th>Dalvik/2.1.0 (Linux; U; Android 6.0.1; SM-G532MT Build/MMB29T)</th>\n",
       "      <th>Dalvik/2.1.0 (Linux; U; Android 8.0.0; SM-G570M Build/R16NW)</th>\n",
       "      <th>Dalvik/2.1.0 (Linux; U; Android 6.0.1; SM-G532M Build/MMB29T)</th>\n",
       "      <th>Dalvik/2.1.0 (Linux; U; Android 7.0; LG-M250 Build/NRD90U)</th>\n",
       "      <th>Dalvik/2.1.0 (Linux; U; Android 7.1.1; Moto G Play Build/NPIS26.48-43-2)</th>\n",
       "      <th>...</th>\n",
       "      <th>MercadoPago/2.57.0.2 CFNetwork/889.9 Darwin/17.2.0</th>\n",
       "      <th>Dalvik/2.1.0 (Linux; U; Android 8.0.0; RNE-L23 Build/HUAWEIRNE-L23)</th>\n",
       "      <th>Dalvik/2.1.0 (Linux; U; Android 8.1.0; moto e5 play Build/OPGS28.54-53-2)</th>\n",
       "      <th>Dalvik/2.1.0 (Linux; U; Android 8.1.0; Moto G (5) Build/OPPS28.85-16-2)</th>\n",
       "      <th>Dalvik/2.1.0 (Linux; U; Android 6.0.1; D6543 Build/23.5.A.1.291)</th>\n",
       "      <th>HotelUrbano/2189 CFNetwork/902.2 Darwin/17.7.0</th>\n",
       "      <th>Dalvik/2.1.0 (Linux; U; Android 8.1.0; SM-N9600 Build/M1AJQ)</th>\n",
       "      <th>MercadoPago/2.32.0.8 CFNetwork/976 Darwin/18.2.0</th>\n",
       "      <th>Dalvik/2.1.0 (Linux; U; Android 6.0.1; ASUS_Z00UD Build/MMB29P)</th>\n",
       "      <th>Dalvik/2.1.0 (Linux; U; Android 7.0; SM-G950F Build/NRD90M)</th>\n",
       "    </tr>\n",
       "  </thead>\n",
       "  <tbody>\n",
       "    <tr>\n",
       "      <th>installs_count</th>\n",
       "      <td>393</td>\n",
       "      <td>141</td>\n",
       "      <td>89</td>\n",
       "      <td>37</td>\n",
       "      <td>36</td>\n",
       "      <td>36</td>\n",
       "      <td>28</td>\n",
       "      <td>22</td>\n",
       "      <td>18</td>\n",
       "      <td>17</td>\n",
       "      <td>...</td>\n",
       "      <td>1</td>\n",
       "      <td>1</td>\n",
       "      <td>1</td>\n",
       "      <td>1</td>\n",
       "      <td>1</td>\n",
       "      <td>1</td>\n",
       "      <td>1</td>\n",
       "      <td>1</td>\n",
       "      <td>1</td>\n",
       "      <td>1</td>\n",
       "    </tr>\n",
       "  </tbody>\n",
       "</table>\n",
       "<p>1 rows × 334 columns</p>\n",
       "</div>"
      ],
      "text/plain": [
       "                MercadoPago/2.58.0.2 CFNetwork/976 Darwin/18.2.0  \\\n",
       "installs_count                                               393   \n",
       "\n",
       "                MercadoPago/2.59.0.1 CFNetwork/976 Darwin/18.2.0  \\\n",
       "installs_count                                               141   \n",
       "\n",
       "                MercadoPago/2.57.0.2 CFNetwork/976 Darwin/18.2.0  \\\n",
       "installs_count                                                89   \n",
       "\n",
       "                Dalvik/2.1.0 (Linux; U; Android 8.1.0; SM-G610M Build/M1AJQ)  \\\n",
       "installs_count                                                 37              \n",
       "\n",
       "                Dalvik/2.1.0 (Linux; U; Android 6.0.1; SM-J500M Build/MMB29M)  \\\n",
       "installs_count                                                 36               \n",
       "\n",
       "                Dalvik/2.1.0 (Linux; U; Android 6.0.1; SM-G532MT Build/MMB29T)  \\\n",
       "installs_count                                                 36                \n",
       "\n",
       "                Dalvik/2.1.0 (Linux; U; Android 8.0.0; SM-G570M Build/R16NW)  \\\n",
       "installs_count                                                 28              \n",
       "\n",
       "                Dalvik/2.1.0 (Linux; U; Android 6.0.1; SM-G532M Build/MMB29T)  \\\n",
       "installs_count                                                 22               \n",
       "\n",
       "                Dalvik/2.1.0 (Linux; U; Android 7.0; LG-M250 Build/NRD90U)  \\\n",
       "installs_count                                                 18            \n",
       "\n",
       "                Dalvik/2.1.0 (Linux; U; Android 7.1.1; Moto G Play Build/NPIS26.48-43-2)  \\\n",
       "installs_count                                                 17                          \n",
       "\n",
       "                ...  MercadoPago/2.57.0.2 CFNetwork/889.9 Darwin/17.2.0  \\\n",
       "installs_count  ...                                                  1    \n",
       "\n",
       "                Dalvik/2.1.0 (Linux; U; Android 8.0.0; RNE-L23 Build/HUAWEIRNE-L23)  \\\n",
       "installs_count                                                  1                     \n",
       "\n",
       "                Dalvik/2.1.0 (Linux; U; Android 8.1.0; moto e5 play Build/OPGS28.54-53-2)  \\\n",
       "installs_count                                                  1                           \n",
       "\n",
       "                Dalvik/2.1.0 (Linux; U; Android 8.1.0; Moto G (5) Build/OPPS28.85-16-2)  \\\n",
       "installs_count                                                  1                         \n",
       "\n",
       "                Dalvik/2.1.0 (Linux; U; Android 6.0.1; D6543 Build/23.5.A.1.291)  \\\n",
       "installs_count                                                  1                  \n",
       "\n",
       "                HotelUrbano/2189 CFNetwork/902.2 Darwin/17.7.0  \\\n",
       "installs_count                                               1   \n",
       "\n",
       "                Dalvik/2.1.0 (Linux; U; Android 8.1.0; SM-N9600 Build/M1AJQ)  \\\n",
       "installs_count                                                  1              \n",
       "\n",
       "                MercadoPago/2.32.0.8 CFNetwork/976 Darwin/18.2.0  \\\n",
       "installs_count                                                 1   \n",
       "\n",
       "                Dalvik/2.1.0 (Linux; U; Android 6.0.1; ASUS_Z00UD Build/MMB29P)  \\\n",
       "installs_count                                                  1                 \n",
       "\n",
       "                Dalvik/2.1.0 (Linux; U; Android 7.0; SM-G950F Build/NRD90M)  \n",
       "installs_count                                                  1            \n",
       "\n",
       "[1 rows x 334 columns]"
      ]
     },
     "execution_count": 15,
     "metadata": {},
     "output_type": "execute_result"
    }
   ],
   "source": [
    "agentes = inst['user_agent'].value_counts().to_frame()\n",
    "agentes.columns = ['installs_count']\n",
    "agentes.T"
   ]
  },
  {
   "cell_type": "code",
   "execution_count": null,
   "metadata": {},
   "outputs": [],
   "source": []
  }
 ],
 "metadata": {
  "kernelspec": {
   "display_name": "Python 3",
   "language": "python",
   "name": "python3"
  },
  "language_info": {
   "codemirror_mode": {
    "name": "ipython",
    "version": 3
   },
   "file_extension": ".py",
   "mimetype": "text/x-python",
   "name": "python",
   "nbconvert_exporter": "python",
   "pygments_lexer": "ipython3",
   "version": "3.6.7"
  }
 },
 "nbformat": 4,
 "nbformat_minor": 2
}
