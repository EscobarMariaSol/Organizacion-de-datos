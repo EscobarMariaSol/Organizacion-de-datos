{
 "cells": [
  {
   "cell_type": "code",
   "execution_count": 1,
   "metadata": {},
   "outputs": [],
   "source": [
    "import pandas as pd\n",
    "import seaborn as sns \n",
    "import numpy as np\n",
    "import matplotlib.pyplot as plt"
   ]
  },
  {
   "cell_type": "code",
   "execution_count": 2,
   "metadata": {},
   "outputs": [
    {
     "name": "stderr",
     "output_type": "stream",
     "text": [
      "/home/sol/.local/lib/python3.6/site-packages/IPython/core/interactiveshell.py:3044: DtypeWarning: Columns (12,18,19) have mixed types. Specify dtype option on import or set low_memory=False.\n",
      "  interactivity=interactivity, compiler=compiler, result=result)\n"
     ]
    }
   ],
   "source": [
    "subs = pd.read_csv(\"data/auctions.csv\", dtype = {\"auction_type_id\": np.float16, \"platform\": np.int8, \"ref_type_id\": np.int8, \"source_id\": np.int8})\n",
    "evts = pd.read_csv(\"data/events.csv\", dtype = {\"event_id\": np.int16, \"application_id\": np.int16})\n",
    "inst = pd.read_csv(\"data/installs.csv\", dtype = {\"application_id\": np.int16, \"click_hash\": np.float16})\n",
    "clks = pd.read_csv(\"data/clicks.csv.gzip\", dtype = {\"advertiser_id\": np.int8, \"action_id\": np.float16, \"source_id\": np.int8, \"carrier_id\": np.float16, \"brand\": np.float16, \"touchX\": np.float16, \"touchY\": np.float16})"
   ]
  },
  {
   "cell_type": "code",
   "execution_count": 3,
   "metadata": {},
   "outputs": [],
   "source": [
    "desc = pd.read_json(\"data/desc.json\")"
   ]
  },
  {
   "cell_type": "code",
   "execution_count": 4,
   "metadata": {},
   "outputs": [
    {
     "data": {
      "text/html": [
       "<div>\n",
       "<style scoped>\n",
       "    .dataframe tbody tr th:only-of-type {\n",
       "        vertical-align: middle;\n",
       "    }\n",
       "\n",
       "    .dataframe tbody tr th {\n",
       "        vertical-align: top;\n",
       "    }\n",
       "\n",
       "    .dataframe thead th {\n",
       "        text-align: right;\n",
       "    }\n",
       "</style>\n",
       "<table border=\"1\" class=\"dataframe\">\n",
       "  <thead>\n",
       "    <tr style=\"text-align: right;\">\n",
       "      <th></th>\n",
       "      <th>clicks</th>\n",
       "      <th>installs</th>\n",
       "      <th>events</th>\n",
       "      <th>auctions</th>\n",
       "    </tr>\n",
       "  </thead>\n",
       "  <tbody>\n",
       "    <tr>\n",
       "      <th>action_id</th>\n",
       "      <td>{'desc': 'internal id for an action', 'transfo...</td>\n",
       "      <td>NaN</td>\n",
       "      <td>NaN</td>\n",
       "      <td>NaN</td>\n",
       "    </tr>\n",
       "    <tr>\n",
       "      <th>advertiser_id</th>\n",
       "      <td>{'desc': 'internal id for the advertiser, Jamp...</td>\n",
       "      <td>NaN</td>\n",
       "      <td>NaN</td>\n",
       "      <td>NaN</td>\n",
       "    </tr>\n",
       "    <tr>\n",
       "      <th>agent_device</th>\n",
       "      <td>{'desc': 'agent for the device the click was p...</td>\n",
       "      <td>NaN</td>\n",
       "      <td>NaN</td>\n",
       "      <td>NaN</td>\n",
       "    </tr>\n",
       "    <tr>\n",
       "      <th>application_id</th>\n",
       "      <td>NaN</td>\n",
       "      <td>{'desc': 'internal id for the installed app', ...</td>\n",
       "      <td>{'desc': 'internal id for the event on which t...</td>\n",
       "      <td>NaN</td>\n",
       "    </tr>\n",
       "    <tr>\n",
       "      <th>attributed</th>\n",
       "      <td>NaN</td>\n",
       "      <td>{'desc': 'whether the install was attributed t...</td>\n",
       "      <td>{'desc': 'whether the event was attributed to ...</td>\n",
       "      <td>NaN</td>\n",
       "    </tr>\n",
       "    <tr>\n",
       "      <th>auction_type_id</th>\n",
       "      <td>NaN</td>\n",
       "      <td>NaN</td>\n",
       "      <td>NaN</td>\n",
       "      <td>{'desc': 'type of auction', 'transformation': ...</td>\n",
       "    </tr>\n",
       "    <tr>\n",
       "      <th>brand</th>\n",
       "      <td>{'desc': 'device brand', 'transformation': 'La...</td>\n",
       "      <td>NaN</td>\n",
       "      <td>NaN</td>\n",
       "      <td>NaN</td>\n",
       "    </tr>\n",
       "    <tr>\n",
       "      <th>carrier</th>\n",
       "      <td>NaN</td>\n",
       "      <td>NaN</td>\n",
       "      <td>{'desc': 'device's mobile carrier', 'transform...</td>\n",
       "      <td>NaN</td>\n",
       "    </tr>\n",
       "    <tr>\n",
       "      <th>carrier_id</th>\n",
       "      <td>{'desc': 'Id for the mobile carrier of the dev...</td>\n",
       "      <td>NaN</td>\n",
       "      <td>NaN</td>\n",
       "      <td>NaN</td>\n",
       "    </tr>\n",
       "    <tr>\n",
       "      <th>click_hash</th>\n",
       "      <td>NaN</td>\n",
       "      <td>{'desc': 'hash for the install (like an id)', ...</td>\n",
       "      <td>NaN</td>\n",
       "      <td>NaN</td>\n",
       "    </tr>\n",
       "    <tr>\n",
       "      <th>connection_type</th>\n",
       "      <td>NaN</td>\n",
       "      <td>NaN</td>\n",
       "      <td>{'desc': '', 'transformation': None}</td>\n",
       "      <td>NaN</td>\n",
       "    </tr>\n",
       "    <tr>\n",
       "      <th>country</th>\n",
       "      <td>NaN</td>\n",
       "      <td>NaN</td>\n",
       "      <td>NaN</td>\n",
       "      <td>{'desc': 'country where the auction was origin...</td>\n",
       "    </tr>\n",
       "    <tr>\n",
       "      <th>country_code</th>\n",
       "      <td>{'desc': 'internal country code id', 'transfor...</td>\n",
       "      <td>NaN</td>\n",
       "      <td>NaN</td>\n",
       "      <td>NaN</td>\n",
       "    </tr>\n",
       "    <tr>\n",
       "      <th>created</th>\n",
       "      <td>{'desc': 'creation time for the click', 'trans...</td>\n",
       "      <td>{'desc': 'creation date for the install', 'tra...</td>\n",
       "      <td>NaN</td>\n",
       "      <td>NaN</td>\n",
       "    </tr>\n",
       "    <tr>\n",
       "      <th>date</th>\n",
       "      <td>NaN</td>\n",
       "      <td>NaN</td>\n",
       "      <td>{'desc': 'date when the event was performed', ...</td>\n",
       "      <td>{'desc': 'date for the auction', 'transformati...</td>\n",
       "    </tr>\n",
       "    <tr>\n",
       "      <th>device_brand</th>\n",
       "      <td>NaN</td>\n",
       "      <td>{'desc': 'device's brand', 'transformation': '...</td>\n",
       "      <td>{'desc': 'device's brand', 'transformation': '...</td>\n",
       "      <td>NaN</td>\n",
       "    </tr>\n",
       "    <tr>\n",
       "      <th>device_city</th>\n",
       "      <td>NaN</td>\n",
       "      <td>NaN</td>\n",
       "      <td>{'desc': 'inferred city where the event was pe...</td>\n",
       "      <td>NaN</td>\n",
       "    </tr>\n",
       "    <tr>\n",
       "      <th>device_countrycode</th>\n",
       "      <td>NaN</td>\n",
       "      <td>{'desc': 'country code for the device', 'trans...</td>\n",
       "      <td>{'desc': 'country code related to the device',...</td>\n",
       "      <td>NaN</td>\n",
       "    </tr>\n",
       "    <tr>\n",
       "      <th>device_id</th>\n",
       "      <td>NaN</td>\n",
       "      <td>NaN</td>\n",
       "      <td>NaN</td>\n",
       "      <td>{'desc': 'device the auction came from', 'tran...</td>\n",
       "    </tr>\n",
       "    <tr>\n",
       "      <th>device_language</th>\n",
       "      <td>NaN</td>\n",
       "      <td>{'desc': 'language related to the device', 'tr...</td>\n",
       "      <td>{'desc': 'language related to the device', 'tr...</td>\n",
       "      <td>NaN</td>\n",
       "    </tr>\n",
       "    <tr>\n",
       "      <th>device_model</th>\n",
       "      <td>NaN</td>\n",
       "      <td>{'desc': 'device's model', 'transformation': '...</td>\n",
       "      <td>{'desc': 'device's model', 'transformation': '...</td>\n",
       "      <td>NaN</td>\n",
       "    </tr>\n",
       "    <tr>\n",
       "      <th>device_os</th>\n",
       "      <td>NaN</td>\n",
       "      <td>NaN</td>\n",
       "      <td>{'desc': 'os used by the device', 'transformat...</td>\n",
       "      <td>NaN</td>\n",
       "    </tr>\n",
       "    <tr>\n",
       "      <th>device_os_version</th>\n",
       "      <td>NaN</td>\n",
       "      <td>NaN</td>\n",
       "      <td>{'desc': 'os version used by the device', 'tra...</td>\n",
       "      <td>NaN</td>\n",
       "    </tr>\n",
       "    <tr>\n",
       "      <th>event_id</th>\n",
       "      <td>NaN</td>\n",
       "      <td>NaN</td>\n",
       "      <td>{'desc': 'id generated for the event', 'transf...</td>\n",
       "      <td>NaN</td>\n",
       "    </tr>\n",
       "    <tr>\n",
       "      <th>event_uuid</th>\n",
       "      <td>NaN</td>\n",
       "      <td>{'desc': 'uuid4 generated for the event', 'tra...</td>\n",
       "      <td>{'desc': 'uuid4 generated for the event', 'tra...</td>\n",
       "      <td>NaN</td>\n",
       "    </tr>\n",
       "    <tr>\n",
       "      <th>implicit</th>\n",
       "      <td>NaN</td>\n",
       "      <td>{'desc': 'whether the install is implicit (the...</td>\n",
       "      <td>NaN</td>\n",
       "      <td>NaN</td>\n",
       "    </tr>\n",
       "    <tr>\n",
       "      <th>ip_address</th>\n",
       "      <td>NaN</td>\n",
       "      <td>{'desc': 'ip addres through which the install ...</td>\n",
       "      <td>{'desc': 'ip addres the event came through', '...</td>\n",
       "      <td>NaN</td>\n",
       "    </tr>\n",
       "    <tr>\n",
       "      <th>kind</th>\n",
       "      <td>NaN</td>\n",
       "      <td>{'desc': 'kind of install', 'transformation': ...</td>\n",
       "      <td>{'desc': '', 'transformation': 'string hashing'}</td>\n",
       "      <td>NaN</td>\n",
       "    </tr>\n",
       "    <tr>\n",
       "      <th>latitude</th>\n",
       "      <td>{'desc': 'estimated lat where the click was pe...</td>\n",
       "      <td>NaN</td>\n",
       "      <td>NaN</td>\n",
       "      <td>NaN</td>\n",
       "    </tr>\n",
       "    <tr>\n",
       "      <th>longitude</th>\n",
       "      <td>{'desc': 'estimated lon where then click was p...</td>\n",
       "      <td>NaN</td>\n",
       "      <td>NaN</td>\n",
       "      <td>NaN</td>\n",
       "    </tr>\n",
       "    <tr>\n",
       "      <th>os_major</th>\n",
       "      <td>{'desc': 'major version for the os', 'transfor...</td>\n",
       "      <td>NaN</td>\n",
       "      <td>NaN</td>\n",
       "      <td>NaN</td>\n",
       "    </tr>\n",
       "    <tr>\n",
       "      <th>os_minor</th>\n",
       "      <td>{'desc': 'minor version for the OS', 'transfor...</td>\n",
       "      <td>NaN</td>\n",
       "      <td>NaN</td>\n",
       "      <td>NaN</td>\n",
       "    </tr>\n",
       "    <tr>\n",
       "      <th>platform</th>\n",
       "      <td>NaN</td>\n",
       "      <td>NaN</td>\n",
       "      <td>NaN</td>\n",
       "      <td>{'desc': 'android, ios', 'transformation': None}</td>\n",
       "    </tr>\n",
       "    <tr>\n",
       "      <th>ref_hash</th>\n",
       "      <td>{'desc': 'device's apple_ifa or google_adverti...</td>\n",
       "      <td>{'desc': 'device's apple_ifa or google_adverti...</td>\n",
       "      <td>{'desc': 'the device's apple_ifa or google_adv...</td>\n",
       "      <td>NaN</td>\n",
       "    </tr>\n",
       "    <tr>\n",
       "      <th>ref_type</th>\n",
       "      <td>{'desc': 'either apple_ifa or google_advertisi...</td>\n",
       "      <td>{'desc': 'either apple_ifa or google_advertisi...</td>\n",
       "      <td>{'desc': 'either apple_ifa or google_advertisi...</td>\n",
       "      <td>NaN</td>\n",
       "    </tr>\n",
       "    <tr>\n",
       "      <th>ref_type_id</th>\n",
       "      <td>NaN</td>\n",
       "      <td>NaN</td>\n",
       "      <td>NaN</td>\n",
       "      <td>{'desc': 'internal id for the ref_typew', 'tra...</td>\n",
       "    </tr>\n",
       "    <tr>\n",
       "      <th>session_user_agent</th>\n",
       "      <td>NaN</td>\n",
       "      <td>{'desc': 'user-agent used for the install', 't...</td>\n",
       "      <td>{'desc': 'user agent sued in the session where...</td>\n",
       "      <td>NaN</td>\n",
       "    </tr>\n",
       "    <tr>\n",
       "      <th>source_id</th>\n",
       "      <td>{'desc': 'internal id for the source (exchange...</td>\n",
       "      <td>NaN</td>\n",
       "      <td>NaN</td>\n",
       "      <td>{'desc': 'source (exchange) the auction came f...</td>\n",
       "    </tr>\n",
       "    <tr>\n",
       "      <th>specs_brand</th>\n",
       "      <td>{'desc': '', 'transformation': 'string hashing'}</td>\n",
       "      <td>NaN</td>\n",
       "      <td>NaN</td>\n",
       "      <td>NaN</td>\n",
       "    </tr>\n",
       "    <tr>\n",
       "      <th>timeToClick</th>\n",
       "      <td>{'desc': 'time to click in seconds', 'transfor...</td>\n",
       "      <td>NaN</td>\n",
       "      <td>NaN</td>\n",
       "      <td>NaN</td>\n",
       "    </tr>\n",
       "    <tr>\n",
       "      <th>touchX</th>\n",
       "      <td>{'desc': 'X position for the click', 'transfor...</td>\n",
       "      <td>NaN</td>\n",
       "      <td>NaN</td>\n",
       "      <td>NaN</td>\n",
       "    </tr>\n",
       "    <tr>\n",
       "      <th>touchY</th>\n",
       "      <td>{'desc': 'Y position for the click', 'transfor...</td>\n",
       "      <td>NaN</td>\n",
       "      <td>NaN</td>\n",
       "      <td>NaN</td>\n",
       "    </tr>\n",
       "    <tr>\n",
       "      <th>trans_id</th>\n",
       "      <td>{'desc': 'internal transaction id', 'transform...</td>\n",
       "      <td>{'desc': 'transaction id, used for joining', '...</td>\n",
       "      <td>{'desc': 'transaction id', 'transformation': N...</td>\n",
       "      <td>NaN</td>\n",
       "    </tr>\n",
       "    <tr>\n",
       "      <th>user_agent</th>\n",
       "      <td>NaN</td>\n",
       "      <td>{'desc': 'user agent related to the device', '...</td>\n",
       "      <td>{'desc': 'user agent related to the device', '...</td>\n",
       "      <td>NaN</td>\n",
       "    </tr>\n",
       "    <tr>\n",
       "      <th>wifi</th>\n",
       "      <td>NaN</td>\n",
       "      <td>{'desc': 'boolean flagging if the install was ...</td>\n",
       "      <td>{'desc': 'boolean flagging whether the event w...</td>\n",
       "      <td>NaN</td>\n",
       "    </tr>\n",
       "    <tr>\n",
       "      <th>wifi_connection</th>\n",
       "      <td>{'desc': 'Boolean describing whether the click...</td>\n",
       "      <td>NaN</td>\n",
       "      <td>NaN</td>\n",
       "      <td>NaN</td>\n",
       "    </tr>\n",
       "  </tbody>\n",
       "</table>\n",
       "</div>"
      ],
      "text/plain": [
       "                                                               clicks  \\\n",
       "action_id           {'desc': 'internal id for an action', 'transfo...   \n",
       "advertiser_id       {'desc': 'internal id for the advertiser, Jamp...   \n",
       "agent_device        {'desc': 'agent for the device the click was p...   \n",
       "application_id                                                    NaN   \n",
       "attributed                                                        NaN   \n",
       "auction_type_id                                                   NaN   \n",
       "brand               {'desc': 'device brand', 'transformation': 'La...   \n",
       "carrier                                                           NaN   \n",
       "carrier_id          {'desc': 'Id for the mobile carrier of the dev...   \n",
       "click_hash                                                        NaN   \n",
       "connection_type                                                   NaN   \n",
       "country                                                           NaN   \n",
       "country_code        {'desc': 'internal country code id', 'transfor...   \n",
       "created             {'desc': 'creation time for the click', 'trans...   \n",
       "date                                                              NaN   \n",
       "device_brand                                                      NaN   \n",
       "device_city                                                       NaN   \n",
       "device_countrycode                                                NaN   \n",
       "device_id                                                         NaN   \n",
       "device_language                                                   NaN   \n",
       "device_model                                                      NaN   \n",
       "device_os                                                         NaN   \n",
       "device_os_version                                                 NaN   \n",
       "event_id                                                          NaN   \n",
       "event_uuid                                                        NaN   \n",
       "implicit                                                          NaN   \n",
       "ip_address                                                        NaN   \n",
       "kind                                                              NaN   \n",
       "latitude            {'desc': 'estimated lat where the click was pe...   \n",
       "longitude           {'desc': 'estimated lon where then click was p...   \n",
       "os_major            {'desc': 'major version for the os', 'transfor...   \n",
       "os_minor            {'desc': 'minor version for the OS', 'transfor...   \n",
       "platform                                                          NaN   \n",
       "ref_hash            {'desc': 'device's apple_ifa or google_adverti...   \n",
       "ref_type            {'desc': 'either apple_ifa or google_advertisi...   \n",
       "ref_type_id                                                       NaN   \n",
       "session_user_agent                                                NaN   \n",
       "source_id           {'desc': 'internal id for the source (exchange...   \n",
       "specs_brand          {'desc': '', 'transformation': 'string hashing'}   \n",
       "timeToClick         {'desc': 'time to click in seconds', 'transfor...   \n",
       "touchX              {'desc': 'X position for the click', 'transfor...   \n",
       "touchY              {'desc': 'Y position for the click', 'transfor...   \n",
       "trans_id            {'desc': 'internal transaction id', 'transform...   \n",
       "user_agent                                                        NaN   \n",
       "wifi                                                              NaN   \n",
       "wifi_connection     {'desc': 'Boolean describing whether the click...   \n",
       "\n",
       "                                                             installs  \\\n",
       "action_id                                                         NaN   \n",
       "advertiser_id                                                     NaN   \n",
       "agent_device                                                      NaN   \n",
       "application_id      {'desc': 'internal id for the installed app', ...   \n",
       "attributed          {'desc': 'whether the install was attributed t...   \n",
       "auction_type_id                                                   NaN   \n",
       "brand                                                             NaN   \n",
       "carrier                                                           NaN   \n",
       "carrier_id                                                        NaN   \n",
       "click_hash          {'desc': 'hash for the install (like an id)', ...   \n",
       "connection_type                                                   NaN   \n",
       "country                                                           NaN   \n",
       "country_code                                                      NaN   \n",
       "created             {'desc': 'creation date for the install', 'tra...   \n",
       "date                                                              NaN   \n",
       "device_brand        {'desc': 'device's brand', 'transformation': '...   \n",
       "device_city                                                       NaN   \n",
       "device_countrycode  {'desc': 'country code for the device', 'trans...   \n",
       "device_id                                                         NaN   \n",
       "device_language     {'desc': 'language related to the device', 'tr...   \n",
       "device_model        {'desc': 'device's model', 'transformation': '...   \n",
       "device_os                                                         NaN   \n",
       "device_os_version                                                 NaN   \n",
       "event_id                                                          NaN   \n",
       "event_uuid          {'desc': 'uuid4 generated for the event', 'tra...   \n",
       "implicit            {'desc': 'whether the install is implicit (the...   \n",
       "ip_address          {'desc': 'ip addres through which the install ...   \n",
       "kind                {'desc': 'kind of install', 'transformation': ...   \n",
       "latitude                                                          NaN   \n",
       "longitude                                                         NaN   \n",
       "os_major                                                          NaN   \n",
       "os_minor                                                          NaN   \n",
       "platform                                                          NaN   \n",
       "ref_hash            {'desc': 'device's apple_ifa or google_adverti...   \n",
       "ref_type            {'desc': 'either apple_ifa or google_advertisi...   \n",
       "ref_type_id                                                       NaN   \n",
       "session_user_agent  {'desc': 'user-agent used for the install', 't...   \n",
       "source_id                                                         NaN   \n",
       "specs_brand                                                       NaN   \n",
       "timeToClick                                                       NaN   \n",
       "touchX                                                            NaN   \n",
       "touchY                                                            NaN   \n",
       "trans_id            {'desc': 'transaction id, used for joining', '...   \n",
       "user_agent          {'desc': 'user agent related to the device', '...   \n",
       "wifi                {'desc': 'boolean flagging if the install was ...   \n",
       "wifi_connection                                                   NaN   \n",
       "\n",
       "                                                               events  \\\n",
       "action_id                                                         NaN   \n",
       "advertiser_id                                                     NaN   \n",
       "agent_device                                                      NaN   \n",
       "application_id      {'desc': 'internal id for the event on which t...   \n",
       "attributed          {'desc': 'whether the event was attributed to ...   \n",
       "auction_type_id                                                   NaN   \n",
       "brand                                                             NaN   \n",
       "carrier             {'desc': 'device's mobile carrier', 'transform...   \n",
       "carrier_id                                                        NaN   \n",
       "click_hash                                                        NaN   \n",
       "connection_type                  {'desc': '', 'transformation': None}   \n",
       "country                                                           NaN   \n",
       "country_code                                                      NaN   \n",
       "created                                                           NaN   \n",
       "date                {'desc': 'date when the event was performed', ...   \n",
       "device_brand        {'desc': 'device's brand', 'transformation': '...   \n",
       "device_city         {'desc': 'inferred city where the event was pe...   \n",
       "device_countrycode  {'desc': 'country code related to the device',...   \n",
       "device_id                                                         NaN   \n",
       "device_language     {'desc': 'language related to the device', 'tr...   \n",
       "device_model        {'desc': 'device's model', 'transformation': '...   \n",
       "device_os           {'desc': 'os used by the device', 'transformat...   \n",
       "device_os_version   {'desc': 'os version used by the device', 'tra...   \n",
       "event_id            {'desc': 'id generated for the event', 'transf...   \n",
       "event_uuid          {'desc': 'uuid4 generated for the event', 'tra...   \n",
       "implicit                                                          NaN   \n",
       "ip_address          {'desc': 'ip addres the event came through', '...   \n",
       "kind                 {'desc': '', 'transformation': 'string hashing'}   \n",
       "latitude                                                          NaN   \n",
       "longitude                                                         NaN   \n",
       "os_major                                                          NaN   \n",
       "os_minor                                                          NaN   \n",
       "platform                                                          NaN   \n",
       "ref_hash            {'desc': 'the device's apple_ifa or google_adv...   \n",
       "ref_type            {'desc': 'either apple_ifa or google_advertisi...   \n",
       "ref_type_id                                                       NaN   \n",
       "session_user_agent  {'desc': 'user agent sued in the session where...   \n",
       "source_id                                                         NaN   \n",
       "specs_brand                                                       NaN   \n",
       "timeToClick                                                       NaN   \n",
       "touchX                                                            NaN   \n",
       "touchY                                                            NaN   \n",
       "trans_id            {'desc': 'transaction id', 'transformation': N...   \n",
       "user_agent          {'desc': 'user agent related to the device', '...   \n",
       "wifi                {'desc': 'boolean flagging whether the event w...   \n",
       "wifi_connection                                                   NaN   \n",
       "\n",
       "                                                             auctions  \n",
       "action_id                                                         NaN  \n",
       "advertiser_id                                                     NaN  \n",
       "agent_device                                                      NaN  \n",
       "application_id                                                    NaN  \n",
       "attributed                                                        NaN  \n",
       "auction_type_id     {'desc': 'type of auction', 'transformation': ...  \n",
       "brand                                                             NaN  \n",
       "carrier                                                           NaN  \n",
       "carrier_id                                                        NaN  \n",
       "click_hash                                                        NaN  \n",
       "connection_type                                                   NaN  \n",
       "country             {'desc': 'country where the auction was origin...  \n",
       "country_code                                                      NaN  \n",
       "created                                                           NaN  \n",
       "date                {'desc': 'date for the auction', 'transformati...  \n",
       "device_brand                                                      NaN  \n",
       "device_city                                                       NaN  \n",
       "device_countrycode                                                NaN  \n",
       "device_id           {'desc': 'device the auction came from', 'tran...  \n",
       "device_language                                                   NaN  \n",
       "device_model                                                      NaN  \n",
       "device_os                                                         NaN  \n",
       "device_os_version                                                 NaN  \n",
       "event_id                                                          NaN  \n",
       "event_uuid                                                        NaN  \n",
       "implicit                                                          NaN  \n",
       "ip_address                                                        NaN  \n",
       "kind                                                              NaN  \n",
       "latitude                                                          NaN  \n",
       "longitude                                                         NaN  \n",
       "os_major                                                          NaN  \n",
       "os_minor                                                          NaN  \n",
       "platform             {'desc': 'android, ios', 'transformation': None}  \n",
       "ref_hash                                                          NaN  \n",
       "ref_type                                                          NaN  \n",
       "ref_type_id         {'desc': 'internal id for the ref_typew', 'tra...  \n",
       "session_user_agent                                                NaN  \n",
       "source_id           {'desc': 'source (exchange) the auction came f...  \n",
       "specs_brand                                                       NaN  \n",
       "timeToClick                                                       NaN  \n",
       "touchX                                                            NaN  \n",
       "touchY                                                            NaN  \n",
       "trans_id                                                          NaN  \n",
       "user_agent                                                        NaN  \n",
       "wifi                                                              NaN  \n",
       "wifi_connection                                                   NaN  "
      ]
     },
     "execution_count": 4,
     "metadata": {},
     "output_type": "execute_result"
    }
   ],
   "source": [
    "desc"
   ]
  },
  {
   "cell_type": "markdown",
   "metadata": {},
   "source": [
    "# Veo qué tengo en los datos"
   ]
  },
  {
   "cell_type": "code",
   "execution_count": 5,
   "metadata": {},
   "outputs": [
    {
     "data": {
      "text/plain": [
       "created                object\n",
       "application_id          int16\n",
       "ref_type                int64\n",
       "ref_hash                int64\n",
       "click_hash            float16\n",
       "attributed               bool\n",
       "implicit                 bool\n",
       "device_countrycode      int64\n",
       "device_brand          float64\n",
       "device_model          float64\n",
       "session_user_agent     object\n",
       "user_agent             object\n",
       "event_uuid             object\n",
       "kind                   object\n",
       "wifi                   object\n",
       "trans_id               object\n",
       "ip_address              int64\n",
       "device_language       float64\n",
       "dtype: object"
      ]
     },
     "execution_count": 5,
     "metadata": {},
     "output_type": "execute_result"
    }
   ],
   "source": [
    "inst.dtypes"
   ]
  },
  {
   "cell_type": "code",
   "execution_count": 6,
   "metadata": {},
   "outputs": [
    {
     "data": {
      "text/plain": [
       "auction_type_id    float16\n",
       "country              int64\n",
       "date                object\n",
       "device_id            int64\n",
       "platform              int8\n",
       "ref_type_id           int8\n",
       "source_id             int8\n",
       "dtype: object"
      ]
     },
     "execution_count": 6,
     "metadata": {},
     "output_type": "execute_result"
    }
   ],
   "source": [
    "subs.dtypes"
   ]
  },
  {
   "cell_type": "code",
   "execution_count": 7,
   "metadata": {
    "scrolled": false
   },
   "outputs": [
    {
     "data": {
      "text/html": [
       "<div>\n",
       "<style scoped>\n",
       "    .dataframe tbody tr th:only-of-type {\n",
       "        vertical-align: middle;\n",
       "    }\n",
       "\n",
       "    .dataframe tbody tr th {\n",
       "        vertical-align: top;\n",
       "    }\n",
       "\n",
       "    .dataframe thead th {\n",
       "        text-align: right;\n",
       "    }\n",
       "</style>\n",
       "<table border=\"1\" class=\"dataframe\">\n",
       "  <thead>\n",
       "    <tr style=\"text-align: right;\">\n",
       "      <th></th>\n",
       "      <th>auction_type_id</th>\n",
       "      <th>country</th>\n",
       "      <th>date</th>\n",
       "      <th>device_id</th>\n",
       "      <th>platform</th>\n",
       "      <th>ref_type_id</th>\n",
       "      <th>source_id</th>\n",
       "    </tr>\n",
       "  </thead>\n",
       "  <tbody>\n",
       "    <tr>\n",
       "      <th>0</th>\n",
       "      <td>NaN</td>\n",
       "      <td>6333597102633388268</td>\n",
       "      <td>2019-03-11 14:18:33.290763</td>\n",
       "      <td>6059599345986491085</td>\n",
       "      <td>1</td>\n",
       "      <td>1</td>\n",
       "      <td>0</td>\n",
       "    </tr>\n",
       "  </tbody>\n",
       "</table>\n",
       "</div>"
      ],
      "text/plain": [
       "   auction_type_id              country                        date  \\\n",
       "0              NaN  6333597102633388268  2019-03-11 14:18:33.290763   \n",
       "\n",
       "             device_id  platform  ref_type_id  source_id  \n",
       "0  6059599345986491085         1            1          0  "
      ]
     },
     "execution_count": 7,
     "metadata": {},
     "output_type": "execute_result"
    }
   ],
   "source": [
    "subs.head(1)"
   ]
  },
  {
   "cell_type": "code",
   "execution_count": 8,
   "metadata": {},
   "outputs": [
    {
     "data": {
      "text/plain": [
       "advertiser_id         int8\n",
       "action_id          float16\n",
       "source_id             int8\n",
       "created             object\n",
       "country_code         int64\n",
       "latitude           float64\n",
       "longitude          float64\n",
       "wifi_connection       bool\n",
       "carrier_id         float16\n",
       "trans_id            object\n",
       "os_minor           float64\n",
       "agent_device       float64\n",
       "os_major           float64\n",
       "specs_brand          int64\n",
       "brand              float16\n",
       "timeToClick        float64\n",
       "touchX             float16\n",
       "touchY             float16\n",
       "ref_type             int64\n",
       "ref_hash             int64\n",
       "dtype: object"
      ]
     },
     "execution_count": 8,
     "metadata": {},
     "output_type": "execute_result"
    }
   ],
   "source": [
    "clks.dtypes"
   ]
  },
  {
   "cell_type": "code",
   "execution_count": 9,
   "metadata": {},
   "outputs": [
    {
     "data": {
      "text/html": [
       "<div>\n",
       "<style scoped>\n",
       "    .dataframe tbody tr th:only-of-type {\n",
       "        vertical-align: middle;\n",
       "    }\n",
       "\n",
       "    .dataframe tbody tr th {\n",
       "        vertical-align: top;\n",
       "    }\n",
       "\n",
       "    .dataframe thead th {\n",
       "        text-align: right;\n",
       "    }\n",
       "</style>\n",
       "<table border=\"1\" class=\"dataframe\">\n",
       "  <thead>\n",
       "    <tr style=\"text-align: right;\">\n",
       "      <th></th>\n",
       "      <th>advertiser_id</th>\n",
       "      <th>action_id</th>\n",
       "      <th>source_id</th>\n",
       "      <th>created</th>\n",
       "      <th>country_code</th>\n",
       "      <th>latitude</th>\n",
       "      <th>longitude</th>\n",
       "      <th>wifi_connection</th>\n",
       "      <th>carrier_id</th>\n",
       "      <th>trans_id</th>\n",
       "      <th>os_minor</th>\n",
       "      <th>agent_device</th>\n",
       "      <th>os_major</th>\n",
       "      <th>specs_brand</th>\n",
       "      <th>brand</th>\n",
       "      <th>timeToClick</th>\n",
       "      <th>touchX</th>\n",
       "      <th>touchY</th>\n",
       "      <th>ref_type</th>\n",
       "      <th>ref_hash</th>\n",
       "    </tr>\n",
       "  </thead>\n",
       "  <tbody>\n",
       "    <tr>\n",
       "      <th>0</th>\n",
       "      <td>2</td>\n",
       "      <td>NaN</td>\n",
       "      <td>4</td>\n",
       "      <td>2019-03-06T22:42:12.755Z</td>\n",
       "      <td>6333597102633388268</td>\n",
       "      <td>1.205689</td>\n",
       "      <td>1.070234</td>\n",
       "      <td>False</td>\n",
       "      <td>1.0</td>\n",
       "      <td>iGgClCM9exiHF4K31g94XmvHEBSLKIY</td>\n",
       "      <td>6.768137e+18</td>\n",
       "      <td>NaN</td>\n",
       "      <td>3.072849e+18</td>\n",
       "      <td>2733035977666442898</td>\n",
       "      <td>NaN</td>\n",
       "      <td>1.563</td>\n",
       "      <td>0.904785</td>\n",
       "      <td>0.078003</td>\n",
       "      <td>1891515180541284343</td>\n",
       "      <td>1904083516767779093</td>\n",
       "    </tr>\n",
       "  </tbody>\n",
       "</table>\n",
       "</div>"
      ],
      "text/plain": [
       "   advertiser_id  action_id  source_id                   created  \\\n",
       "0              2        NaN          4  2019-03-06T22:42:12.755Z   \n",
       "\n",
       "          country_code  latitude  longitude  wifi_connection  carrier_id  \\\n",
       "0  6333597102633388268  1.205689   1.070234            False         1.0   \n",
       "\n",
       "                          trans_id      os_minor  agent_device      os_major  \\\n",
       "0  iGgClCM9exiHF4K31g94XmvHEBSLKIY  6.768137e+18           NaN  3.072849e+18   \n",
       "\n",
       "           specs_brand  brand  timeToClick    touchX    touchY  \\\n",
       "0  2733035977666442898    NaN        1.563  0.904785  0.078003   \n",
       "\n",
       "              ref_type             ref_hash  \n",
       "0  1891515180541284343  1904083516767779093  "
      ]
     },
     "execution_count": 9,
     "metadata": {},
     "output_type": "execute_result"
    }
   ],
   "source": [
    "clks.head(1)"
   ]
  },
  {
   "cell_type": "code",
   "execution_count": 10,
   "metadata": {},
   "outputs": [
    {
     "data": {
      "text/plain": [
       "created                object\n",
       "application_id          int16\n",
       "ref_type                int64\n",
       "ref_hash                int64\n",
       "click_hash            float16\n",
       "attributed               bool\n",
       "implicit                 bool\n",
       "device_countrycode      int64\n",
       "device_brand          float64\n",
       "device_model          float64\n",
       "session_user_agent     object\n",
       "user_agent             object\n",
       "event_uuid             object\n",
       "kind                   object\n",
       "wifi                   object\n",
       "trans_id               object\n",
       "ip_address              int64\n",
       "device_language       float64\n",
       "dtype: object"
      ]
     },
     "execution_count": 10,
     "metadata": {},
     "output_type": "execute_result"
    }
   ],
   "source": [
    "inst.dtypes"
   ]
  },
  {
   "cell_type": "code",
   "execution_count": 11,
   "metadata": {
    "scrolled": true
   },
   "outputs": [
    {
     "data": {
      "text/html": [
       "<div>\n",
       "<style scoped>\n",
       "    .dataframe tbody tr th:only-of-type {\n",
       "        vertical-align: middle;\n",
       "    }\n",
       "\n",
       "    .dataframe tbody tr th {\n",
       "        vertical-align: top;\n",
       "    }\n",
       "\n",
       "    .dataframe thead th {\n",
       "        text-align: right;\n",
       "    }\n",
       "</style>\n",
       "<table border=\"1\" class=\"dataframe\">\n",
       "  <thead>\n",
       "    <tr style=\"text-align: right;\">\n",
       "      <th></th>\n",
       "      <th>created</th>\n",
       "      <th>application_id</th>\n",
       "      <th>ref_type</th>\n",
       "      <th>ref_hash</th>\n",
       "      <th>click_hash</th>\n",
       "      <th>attributed</th>\n",
       "      <th>implicit</th>\n",
       "      <th>device_countrycode</th>\n",
       "      <th>device_brand</th>\n",
       "      <th>device_model</th>\n",
       "      <th>session_user_agent</th>\n",
       "      <th>user_agent</th>\n",
       "      <th>event_uuid</th>\n",
       "      <th>kind</th>\n",
       "      <th>wifi</th>\n",
       "      <th>trans_id</th>\n",
       "      <th>ip_address</th>\n",
       "      <th>device_language</th>\n",
       "    </tr>\n",
       "  </thead>\n",
       "  <tbody>\n",
       "    <tr>\n",
       "      <th>0</th>\n",
       "      <td>2019-03-13 01:43:33.445</td>\n",
       "      <td>0</td>\n",
       "      <td>1891515180541284343</td>\n",
       "      <td>8464844987297247076</td>\n",
       "      <td>NaN</td>\n",
       "      <td>False</td>\n",
       "      <td>False</td>\n",
       "      <td>6333597102633388268</td>\n",
       "      <td>3.083059e+17</td>\n",
       "      <td>4.445252e+18</td>\n",
       "      <td>NaN</td>\n",
       "      <td>NaN</td>\n",
       "      <td>NaN</td>\n",
       "      <td>NaN</td>\n",
       "      <td>NaN</td>\n",
       "      <td>NaN</td>\n",
       "      <td>5529284367937637301</td>\n",
       "      <td>NaN</td>\n",
       "    </tr>\n",
       "  </tbody>\n",
       "</table>\n",
       "</div>"
      ],
      "text/plain": [
       "                   created  application_id             ref_type  \\\n",
       "0  2019-03-13 01:43:33.445               0  1891515180541284343   \n",
       "\n",
       "              ref_hash  click_hash  attributed  implicit   device_countrycode  \\\n",
       "0  8464844987297247076         NaN       False     False  6333597102633388268   \n",
       "\n",
       "   device_brand  device_model session_user_agent user_agent event_uuid kind  \\\n",
       "0  3.083059e+17  4.445252e+18                NaN        NaN        NaN  NaN   \n",
       "\n",
       "  wifi trans_id           ip_address  device_language  \n",
       "0  NaN      NaN  5529284367937637301              NaN  "
      ]
     },
     "execution_count": 11,
     "metadata": {},
     "output_type": "execute_result"
    }
   ],
   "source": [
    "inst.head(1)"
   ]
  },
  {
   "cell_type": "markdown",
   "metadata": {},
   "source": [
    "# ¿Cómo se comportan los datos según el país?"
   ]
  },
  {
   "cell_type": "markdown",
   "metadata": {},
   "source": [
    "Analizo la información que tengo sobre los paises"
   ]
  },
  {
   "cell_type": "code",
   "execution_count": 12,
   "metadata": {},
   "outputs": [
    {
     "data": {
      "text/plain": [
       "0    6333597102633388268\n",
       "1    6333597102633388268\n",
       "2    6333597102633388268\n",
       "3    6333597102633388268\n",
       "4    6333597102633388268\n",
       "Name: country, dtype: int64"
      ]
     },
     "execution_count": 12,
     "metadata": {},
     "output_type": "execute_result"
    }
   ],
   "source": [
    "subs[\"country\"].head()"
   ]
  },
  {
   "cell_type": "code",
   "execution_count": 13,
   "metadata": {},
   "outputs": [
    {
     "data": {
      "text/plain": [
       "6333597102633388268    19571319\n",
       "Name: country, dtype: int64"
      ]
     },
     "execution_count": 13,
     "metadata": {},
     "output_type": "execute_result"
    }
   ],
   "source": [
    "subs[\"country\"].value_counts()"
   ]
  },
  {
   "cell_type": "code",
   "execution_count": 14,
   "metadata": {},
   "outputs": [
    {
     "data": {
      "text/plain": [
       "0    6333597102633388268\n",
       "1    6333597102633388268\n",
       "2    6333597102633388268\n",
       "3    6333597102633388268\n",
       "4    6333597102633388268\n",
       "Name: device_countrycode, dtype: int64"
      ]
     },
     "execution_count": 14,
     "metadata": {},
     "output_type": "execute_result"
    }
   ],
   "source": [
    "evts[\"device_countrycode\"].head()"
   ]
  },
  {
   "cell_type": "code",
   "execution_count": 15,
   "metadata": {},
   "outputs": [
    {
     "data": {
      "text/plain": [
       "6333597102633388268    2494423\n",
       "Name: device_countrycode, dtype: int64"
      ]
     },
     "execution_count": 15,
     "metadata": {},
     "output_type": "execute_result"
    }
   ],
   "source": [
    "evts[\"device_countrycode\"].value_counts()"
   ]
  },
  {
   "cell_type": "code",
   "execution_count": 16,
   "metadata": {},
   "outputs": [
    {
     "data": {
      "text/plain": [
       "0    6333597102633388268\n",
       "1    6333597102633388268\n",
       "2    6333597102633388268\n",
       "3    6333597102633388268\n",
       "4    6333597102633388268\n",
       "Name: country_code, dtype: int64"
      ]
     },
     "execution_count": 16,
     "metadata": {},
     "output_type": "execute_result"
    }
   ],
   "source": [
    "clks[\"country_code\"].head()"
   ]
  },
  {
   "cell_type": "code",
   "execution_count": 17,
   "metadata": {},
   "outputs": [
    {
     "data": {
      "text/plain": [
       "6333597102633388268    26351\n",
       "Name: country_code, dtype: int64"
      ]
     },
     "execution_count": 17,
     "metadata": {},
     "output_type": "execute_result"
    }
   ],
   "source": [
    "clks[\"country_code\"].value_counts()"
   ]
  },
  {
   "cell_type": "code",
   "execution_count": 18,
   "metadata": {},
   "outputs": [
    {
     "data": {
      "text/plain": [
       "0    6333597102633388268\n",
       "1    6333597102633388268\n",
       "2    6333597102633388268\n",
       "3    6333597102633388268\n",
       "4    6333597102633388268\n",
       "Name: device_countrycode, dtype: int64"
      ]
     },
     "execution_count": 18,
     "metadata": {},
     "output_type": "execute_result"
    }
   ],
   "source": [
    "inst[\"device_countrycode\"].head()"
   ]
  },
  {
   "cell_type": "code",
   "execution_count": 37,
   "metadata": {},
   "outputs": [
    {
     "data": {
      "text/plain": [
       "6333597102633388268    1820\n",
       "2970470518450881158    1592\n",
       "Name: device_countrycode, dtype: int64"
      ]
     },
     "execution_count": 37,
     "metadata": {},
     "output_type": "execute_result"
    }
   ],
   "source": [
    "paises_inst = inst[\"device_countrycode\"].value_counts()\n",
    "paises_inst"
   ]
  },
  {
   "cell_type": "code",
   "execution_count": 38,
   "metadata": {},
   "outputs": [
    {
     "data": {
      "text/plain": [
       "Text(0.5, 0, 'Código de identificación del país')"
      ]
     },
     "execution_count": 38,
     "metadata": {},
     "output_type": "execute_result"
    },
    {
     "data": {
      "image/png": "[encoded data removed]",
      "text/plain": [
       "<Figure size 432x288 with 1 Axes>"
      ]
     },
     "metadata": {},
     "output_type": "display_data"
    }
   ],
   "source": [
    "## Visualizamos las instalaciones para cada país\n",
    "grf = sns.barplot(x = paises_inst.index, y = paises_inst.values, orient = 'v')\n",
    "grf.set_title(\"Cantidad de instalaciones según el código de País\", fontsize = 25)\n",
    "grf.set_ylabel(\"Cantidad de instalaciones\", fontsize = 15)\n",
    "grf.set_xlabel(\"Código de identificación del país\", fontsize = 15)"
   ]
  },
  {
   "cell_type": "markdown",
   "metadata": {},
   "source": [
    "## Quiero ver que información puedo encontrar en las fechas de las subastas, eventos, clicks e intalaciones\n",
    "\n"
   ]
  },
  {
   "cell_type": "markdown",
   "metadata": {},
   "source": [
    " Quiero hacer un conteo para la cantidad de subastas, eventos, clicks e instalaciones para cada fecha"
   ]
  },
  {
   "cell_type": "code",
   "execution_count": 22,
   "metadata": {},
   "outputs": [],
   "source": [
    "#Creo una función para contar según la fecha\n",
    "def counter_by_date(df, date_name):\n",
    "    df['real_date'] = pd.to_datetime(df[date_name], format='%Y%m%d %H:%M:%S.%f').dt.date\n",
    "    return df['real_date'].value_counts()"
   ]
  },
  {
   "cell_type": "code",
   "execution_count": 23,
   "metadata": {},
   "outputs": [
    {
     "data": {
      "text/plain": [
       "2019-03-12    472\n",
       "2019-03-13    423\n",
       "2019-03-07    393\n",
       "2019-03-11    377\n",
       "2019-03-09    368\n",
       "2019-03-08    366\n",
       "2019-03-10    351\n",
       "2019-03-05    337\n",
       "2019-03-06    325\n",
       "Name: real_date, dtype: int64"
      ]
     },
     "execution_count": 23,
     "metadata": {},
     "output_type": "execute_result"
    }
   ],
   "source": [
    "# Cuento las instalaciones\n",
    "install_count = counter_by_date(inst, \"created\")\n",
    "install_count"
   ]
  },
  {
   "cell_type": "code",
   "execution_count": 24,
   "metadata": {},
   "outputs": [
    {
     "data": {
      "text/plain": [
       "2019-03-12    5204\n",
       "2019-03-11    4557\n",
       "2019-03-10    3966\n",
       "2019-03-13    3468\n",
       "2019-03-09    3283\n",
       "2019-03-07    2989\n",
       "2019-03-08    2839\n",
       "2019-03-05      31\n",
       "2019-03-06      14\n",
       "Name: real_date, dtype: int64"
      ]
     },
     "execution_count": 24,
     "metadata": {},
     "output_type": "execute_result"
    }
   ],
   "source": [
    "#Cuento los clicks\n",
    "clicks_count = counter_by_date(clks, \"created\")\n",
    "clicks_count"
   ]
  },
  {
   "cell_type": "code",
   "execution_count": 25,
   "metadata": {},
   "outputs": [
    {
     "data": {
      "text/plain": [
       "2019-03-13    316267\n",
       "2019-03-12    296665\n",
       "2019-03-10    293091\n",
       "2019-03-09    286221\n",
       "2019-03-08    285535\n",
       "2019-03-11    268884\n",
       "2019-03-07    253706\n",
       "2019-03-06    253505\n",
       "2019-03-05    240549\n",
       "Name: real_date, dtype: int64"
      ]
     },
     "execution_count": 25,
     "metadata": {},
     "output_type": "execute_result"
    }
   ],
   "source": [
    "#Cuento los eventos\n",
    "events_count = counter_by_date(evts, \"date\")\n",
    "events_count"
   ]
  },
  {
   "cell_type": "code",
   "execution_count": 26,
   "metadata": {},
   "outputs": [
    {
     "data": {
      "text/plain": [
       "2019-03-13    2938373\n",
       "2019-03-12    2779910\n",
       "2019-03-10    2637534\n",
       "2019-03-11    2574916\n",
       "2019-03-08    2303002\n",
       "2019-03-09    2074552\n",
       "2019-03-07    2047661\n",
       "2019-03-05    1182401\n",
       "2019-03-06    1032970\n",
       "Name: real_date, dtype: int64"
      ]
     },
     "execution_count": 26,
     "metadata": {},
     "output_type": "execute_result"
    }
   ],
   "source": [
    "#Cuento las subastas \n",
    "auctions_count = counter_by_date(subs, \"date\")\n",
    "auctions_count"
   ]
  },
  {
   "cell_type": "markdown",
   "metadata": {},
   "source": [
    "## Grafico para que se visualize mejor el contraste entre los números"
   ]
  },
  {
   "cell_type": "code",
   "execution_count": 27,
   "metadata": {
    "scrolled": false
   },
   "outputs": [
    {
     "name": "stderr",
     "output_type": "stream",
     "text": [
      "/home/sol/.local/lib/python3.6/site-packages/pandas/plotting/_converter.py:129: FutureWarning: Using an implicitly registered datetime converter for a matplotlib plotting method. The converter was registered by pandas on import. Future versions of pandas will require you to explicitly register matplotlib converters.\n",
      "\n",
      "To register the converters:\n",
      "\t>>> from pandas.plotting import register_matplotlib_converters\n",
      "\t>>> register_matplotlib_converters()\n",
      "  warnings.warn(msg, FutureWarning)\n"
     ]
    },
    {
     "data": {
      "text/plain": [
       "Text(0, 0.5, 'Cantidad de subastas')"
      ]
     },
     "execution_count": 27,
     "metadata": {},
     "output_type": "execute_result"
    },
    {
     "data": {
      "image/png": "[encoded data removed]",
      "text/plain": [
       "<Figure size 1080x360 with 1 Axes>"
      ]
     },
     "metadata": {
      "needs_background": "light"
     },
     "output_type": "display_data"
    }
   ],
   "source": [
    "plt.figure(figsize=(15,5))\n",
    "sns.set_style('darkgrid')\n",
    "plot1 = sns.lineplot(x = auctions_count.index, y = auctions_count.values)\n",
    "plot1.set_title(\"Cantidad de subastas en función del tiempo\", fontsize = 25)\n",
    "plot1.set_xlabel(\"Fecha\", fontsize = 15)\n",
    "plot1.set_ylabel(\"Cantidad de subastas\", fontsize = 15)"
   ]
  },
  {
   "cell_type": "code",
   "execution_count": 28,
   "metadata": {},
   "outputs": [
    {
     "data": {
      "text/plain": [
       "Text(0, 0.5, 'Cantidad de eventos')"
      ]
     },
     "execution_count": 28,
     "metadata": {},
     "output_type": "execute_result"
    },
    {
     "data": {
      "image/png": "[encoded data removed]",
      "text/plain": [
       "<Figure size 1080x360 with 1 Axes>"
      ]
     },
     "metadata": {},
     "output_type": "display_data"
    }
   ],
   "source": [
    "plt.figure(figsize=(15,5))\n",
    "sns.set_style('darkgrid')\n",
    "plot1 = sns.lineplot(x = events_count.index, y = events_count.values)\n",
    "plot1.set_title(\"Cantidad de eventos en función del tiempo\", fontsize = 25)\n",
    "plot1.set_xlabel(\"Fecha\", fontsize = 15)\n",
    "plot1.set_ylabel(\"Cantidad de eventos\", fontsize = 15)"
   ]
  },
  {
   "cell_type": "code",
   "execution_count": 29,
   "metadata": {},
   "outputs": [
    {
     "data": {
      "text/plain": [
       "Text(0, 0.5, 'Cantidad de clicks')"
      ]
     },
     "execution_count": 29,
     "metadata": {},
     "output_type": "execute_result"
    },
    {
     "data": {
      "image/png": "[encoded data removed]",
      "text/plain": [
       "<Figure size 1080x360 with 1 Axes>"
      ]
     },
     "metadata": {},
     "output_type": "display_data"
    }
   ],
   "source": [
    "plt.figure(figsize=(15,5))\n",
    "sns.set_style('darkgrid')\n",
    "plot1 = sns.lineplot(x = clicks_count.index, y = clicks_count.values)\n",
    "plot1.set_title(\"Cantidad de clicks en función del tiempo\", fontsize = 30)\n",
    "plot1.set_xlabel(\"Fecha\", fontsize = 18)\n",
    "plot1.set_ylabel(\"Cantidad de clicks\", fontsize = 18)"
   ]
  },
  {
   "cell_type": "code",
   "execution_count": 30,
   "metadata": {},
   "outputs": [
    {
     "data": {
      "text/plain": [
       "Text(0, 0.5, 'Cantidad de instalaciones')"
      ]
     },
     "execution_count": 30,
     "metadata": {},
     "output_type": "execute_result"
    },
    {
     "data": {
      "image/png": "[encoded data removed]",
      "text/plain": [
       "<Figure size 1080x360 with 1 Axes>"
      ]
     },
     "metadata": {},
     "output_type": "display_data"
    }
   ],
   "source": [
    "plt.figure(figsize=(15,5))\n",
    "sns.set_style('darkgrid')\n",
    "plot1 = sns.lineplot(x = install_count.index, y = install_count.values)\n",
    "plot1.set_title(\"Cantidad de instalaciones en función del tiempo\", fontsize = 30)\n",
    "plot1.set_xlabel(\"Fecha\", fontsize = 18)\n",
    "plot1.set_ylabel(\"Cantidad de instalaciones\", fontsize = 18)"
   ]
  },
  {
   "cell_type": "code",
   "execution_count": null,
   "metadata": {},
   "outputs": [],
   "source": []
  }
 ],
 "metadata": {
  "kernelspec": {
   "display_name": "Python 3",
   "language": "python",
   "name": "python3"
  },
  "language_info": {
   "codemirror_mode": {
    "name": "ipython",
    "version": 3
   },
   "file_extension": ".py",
   "mimetype": "text/x-python",
   "name": "python",
   "nbconvert_exporter": "python",
   "pygments_lexer": "ipython3",
   "version": "3.6.7"
  }
 },
 "nbformat": 4,
 "nbformat_minor": 2
}
