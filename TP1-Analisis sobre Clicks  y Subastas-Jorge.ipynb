{
 "cells": [
  {
   "cell_type": "code",
   "execution_count": 1,
   "metadata": {},
   "outputs": [],
   "source": [
    "import pandas as pd\n",
    "import seaborn as sns \n",
    "import numpy as np\n",
    "import matplotlib.pyplot as plt"
   ]
  },
  {
   "cell_type": "code",
   "execution_count": 3,
   "metadata": {},
   "outputs": [],
   "source": [
    "subs = pd.read_csv(\"data/auctions.csv\", dtype = {\"platform\": np.int8, \"ref_type_id\": np.int8, \"source_id\": np.int8}, usecols = ['date', 'platform', 'source_id'])\n",
    "clks = pd.read_csv(\"data/clicks.csv.gzip\", dtype = {\"advertiser_id\": np.int8, \"action_id\": np.float16, \"source_id\": np.int8, \"wifi_connection\": bool, \"carrier_id\": np.float16, \"brand\": np.float16, \"touchX\": np.float16, \"touchY\": np.float16})"
   ]
  },
  {
   "cell_type": "code",
   "execution_count": 4,
   "metadata": {},
   "outputs": [],
   "source": [
    "#Vconvierto las fechas a formato datetime\n",
    "subs['date']=pd.to_datetime(subs['date'])\n",
    "clks['created']=pd.to_datetime(clks['created'])"
   ]
  },
  {
   "cell_type": "markdown",
   "metadata": {},
   "source": [
    "# Análisis sobre los clicks"
   ]
  },
  {
   "cell_type": "code",
   "execution_count": 5,
   "metadata": {},
   "outputs": [
    {
     "data": {
      "text/html": [
       "<div>\n",
       "<style scoped>\n",
       "    .dataframe tbody tr th:only-of-type {\n",
       "        vertical-align: middle;\n",
       "    }\n",
       "\n",
       "    .dataframe tbody tr th {\n",
       "        vertical-align: top;\n",
       "    }\n",
       "\n",
       "    .dataframe thead th {\n",
       "        text-align: right;\n",
       "    }\n",
       "</style>\n",
       "<table border=\"1\" class=\"dataframe\">\n",
       "  <thead>\n",
       "    <tr style=\"text-align: right;\">\n",
       "      <th></th>\n",
       "      <th>advertiser_id</th>\n",
       "      <th>action_id</th>\n",
       "      <th>source_id</th>\n",
       "      <th>country_code</th>\n",
       "      <th>latitude</th>\n",
       "      <th>longitude</th>\n",
       "      <th>carrier_id</th>\n",
       "      <th>os_minor</th>\n",
       "      <th>agent_device</th>\n",
       "      <th>os_major</th>\n",
       "      <th>specs_brand</th>\n",
       "      <th>brand</th>\n",
       "      <th>timeToClick</th>\n",
       "      <th>touchX</th>\n",
       "      <th>touchY</th>\n",
       "      <th>ref_type</th>\n",
       "      <th>ref_hash</th>\n",
       "    </tr>\n",
       "  </thead>\n",
       "  <tbody>\n",
       "    <tr>\n",
       "      <th>count</th>\n",
       "      <td>26351.000000</td>\n",
       "      <td>0.0</td>\n",
       "      <td>26351.000000</td>\n",
       "      <td>2.635100e+04</td>\n",
       "      <td>26351.000000</td>\n",
       "      <td>26351.000000</td>\n",
       "      <td>2.634000e+04</td>\n",
       "      <td>2.633900e+04</td>\n",
       "      <td>3.243000e+03</td>\n",
       "      <td>2.633900e+04</td>\n",
       "      <td>2.635100e+04</td>\n",
       "      <td>6235.000000</td>\n",
       "      <td>22977.000000</td>\n",
       "      <td>23011.000000</td>\n",
       "      <td>23011.000000</td>\n",
       "      <td>2.635100e+04</td>\n",
       "      <td>2.635100e+04</td>\n",
       "    </tr>\n",
       "    <tr>\n",
       "      <th>mean</th>\n",
       "      <td>2.991993</td>\n",
       "      <td>NaN</td>\n",
       "      <td>1.245266</td>\n",
       "      <td>6.333597e+18</td>\n",
       "      <td>1.206906</td>\n",
       "      <td>1.070233</td>\n",
       "      <td>inf</td>\n",
       "      <td>4.635375e+18</td>\n",
       "      <td>4.171028e+18</td>\n",
       "      <td>3.913451e+18</td>\n",
       "      <td>1.299055e+18</td>\n",
       "      <td>1.481445</td>\n",
       "      <td>230.403309</td>\n",
       "      <td>0.639160</td>\n",
       "      <td>1.478516</td>\n",
       "      <td>1.888100e+18</td>\n",
       "      <td>4.611581e+18</td>\n",
       "    </tr>\n",
       "    <tr>\n",
       "      <th>std</th>\n",
       "      <td>0.164070</td>\n",
       "      <td>NaN</td>\n",
       "      <td>2.188948</td>\n",
       "      <td>1.024019e+03</td>\n",
       "      <td>0.004484</td>\n",
       "      <td>0.001896</td>\n",
       "      <td>7.015625e+00</td>\n",
       "      <td>1.642969e+18</td>\n",
       "      <td>2.460496e+18</td>\n",
       "      <td>1.885866e+18</td>\n",
       "      <td>1.149672e+18</td>\n",
       "      <td>1.583008</td>\n",
       "      <td>976.849149</td>\n",
       "      <td>0.302002</td>\n",
       "      <td>2.623047</td>\n",
       "      <td>1.721252e+17</td>\n",
       "      <td>2.673175e+18</td>\n",
       "    </tr>\n",
       "    <tr>\n",
       "      <th>min</th>\n",
       "      <td>0.000000</td>\n",
       "      <td>NaN</td>\n",
       "      <td>0.000000</td>\n",
       "      <td>6.333597e+18</td>\n",
       "      <td>1.205058</td>\n",
       "      <td>1.058204</td>\n",
       "      <td>0.000000e+00</td>\n",
       "      <td>6.666626e+17</td>\n",
       "      <td>4.513618e+16</td>\n",
       "      <td>7.436481e+17</td>\n",
       "      <td>3.921844e+17</td>\n",
       "      <td>0.000000</td>\n",
       "      <td>0.017000</td>\n",
       "      <td>0.000000</td>\n",
       "      <td>0.000000</td>\n",
       "      <td>1.494519e+18</td>\n",
       "      <td>9.286192e+14</td>\n",
       "    </tr>\n",
       "    <tr>\n",
       "      <th>25%</th>\n",
       "      <td>3.000000</td>\n",
       "      <td>NaN</td>\n",
       "      <td>0.000000</td>\n",
       "      <td>6.333597e+18</td>\n",
       "      <td>1.205689</td>\n",
       "      <td>1.070234</td>\n",
       "      <td>3.000000e+00</td>\n",
       "      <td>3.378640e+18</td>\n",
       "      <td>1.975183e+18</td>\n",
       "      <td>1.774085e+18</td>\n",
       "      <td>3.921844e+17</td>\n",
       "      <td>0.000000</td>\n",
       "      <td>2.915000</td>\n",
       "      <td>0.426025</td>\n",
       "      <td>0.182983</td>\n",
       "      <td>1.891515e+18</td>\n",
       "      <td>2.273798e+18</td>\n",
       "    </tr>\n",
       "    <tr>\n",
       "      <th>50%</th>\n",
       "      <td>3.000000</td>\n",
       "      <td>NaN</td>\n",
       "      <td>0.000000</td>\n",
       "      <td>6.333597e+18</td>\n",
       "      <td>1.205689</td>\n",
       "      <td>1.070234</td>\n",
       "      <td>6.000000e+00</td>\n",
       "      <td>3.511538e+18</td>\n",
       "      <td>3.516812e+18</td>\n",
       "      <td>3.072849e+18</td>\n",
       "      <td>3.921844e+17</td>\n",
       "      <td>1.000000</td>\n",
       "      <td>10.588000</td>\n",
       "      <td>0.726074</td>\n",
       "      <td>0.645020</td>\n",
       "      <td>1.891515e+18</td>\n",
       "      <td>4.623721e+18</td>\n",
       "    </tr>\n",
       "    <tr>\n",
       "      <th>75%</th>\n",
       "      <td>3.000000</td>\n",
       "      <td>NaN</td>\n",
       "      <td>1.000000</td>\n",
       "      <td>6.333597e+18</td>\n",
       "      <td>1.205689</td>\n",
       "      <td>1.070234</td>\n",
       "      <td>1.300000e+01</td>\n",
       "      <td>6.391567e+18</td>\n",
       "      <td>6.589622e+18</td>\n",
       "      <td>4.566454e+18</td>\n",
       "      <td>2.733036e+18</td>\n",
       "      <td>2.000000</td>\n",
       "      <td>71.703000</td>\n",
       "      <td>0.900879</td>\n",
       "      <td>0.991211</td>\n",
       "      <td>1.891515e+18</td>\n",
       "      <td>6.917850e+18</td>\n",
       "    </tr>\n",
       "    <tr>\n",
       "      <th>max</th>\n",
       "      <td>8.000000</td>\n",
       "      <td>NaN</td>\n",
       "      <td>10.000000</td>\n",
       "      <td>6.333597e+18</td>\n",
       "      <td>1.237861</td>\n",
       "      <td>1.085358</td>\n",
       "      <td>1.160000e+02</td>\n",
       "      <td>9.081082e+18</td>\n",
       "      <td>9.221733e+18</td>\n",
       "      <td>7.499732e+18</td>\n",
       "      <td>8.930605e+18</td>\n",
       "      <td>13.000000</td>\n",
       "      <td>17616.188000</td>\n",
       "      <td>1.000000</td>\n",
       "      <td>16.593750</td>\n",
       "      <td>6.323872e+18</td>\n",
       "      <td>9.221118e+18</td>\n",
       "    </tr>\n",
       "  </tbody>\n",
       "</table>\n",
       "</div>"
      ],
      "text/plain": [
       "       advertiser_id  action_id     source_id  country_code      latitude  \\\n",
       "count   26351.000000        0.0  26351.000000  2.635100e+04  26351.000000   \n",
       "mean        2.991993        NaN      1.245266  6.333597e+18      1.206906   \n",
       "std         0.164070        NaN      2.188948  1.024019e+03      0.004484   \n",
       "min         0.000000        NaN      0.000000  6.333597e+18      1.205058   \n",
       "25%         3.000000        NaN      0.000000  6.333597e+18      1.205689   \n",
       "50%         3.000000        NaN      0.000000  6.333597e+18      1.205689   \n",
       "75%         3.000000        NaN      1.000000  6.333597e+18      1.205689   \n",
       "max         8.000000        NaN     10.000000  6.333597e+18      1.237861   \n",
       "\n",
       "          longitude    carrier_id      os_minor  agent_device      os_major  \\\n",
       "count  26351.000000  2.634000e+04  2.633900e+04  3.243000e+03  2.633900e+04   \n",
       "mean       1.070233           inf  4.635375e+18  4.171028e+18  3.913451e+18   \n",
       "std        0.001896  7.015625e+00  1.642969e+18  2.460496e+18  1.885866e+18   \n",
       "min        1.058204  0.000000e+00  6.666626e+17  4.513618e+16  7.436481e+17   \n",
       "25%        1.070234  3.000000e+00  3.378640e+18  1.975183e+18  1.774085e+18   \n",
       "50%        1.070234  6.000000e+00  3.511538e+18  3.516812e+18  3.072849e+18   \n",
       "75%        1.070234  1.300000e+01  6.391567e+18  6.589622e+18  4.566454e+18   \n",
       "max        1.085358  1.160000e+02  9.081082e+18  9.221733e+18  7.499732e+18   \n",
       "\n",
       "        specs_brand        brand   timeToClick        touchX        touchY  \\\n",
       "count  2.635100e+04  6235.000000  22977.000000  23011.000000  23011.000000   \n",
       "mean   1.299055e+18     1.481445    230.403309      0.639160      1.478516   \n",
       "std    1.149672e+18     1.583008    976.849149      0.302002      2.623047   \n",
       "min    3.921844e+17     0.000000      0.017000      0.000000      0.000000   \n",
       "25%    3.921844e+17     0.000000      2.915000      0.426025      0.182983   \n",
       "50%    3.921844e+17     1.000000     10.588000      0.726074      0.645020   \n",
       "75%    2.733036e+18     2.000000     71.703000      0.900879      0.991211   \n",
       "max    8.930605e+18    13.000000  17616.188000      1.000000     16.593750   \n",
       "\n",
       "           ref_type      ref_hash  \n",
       "count  2.635100e+04  2.635100e+04  \n",
       "mean   1.888100e+18  4.611581e+18  \n",
       "std    1.721252e+17  2.673175e+18  \n",
       "min    1.494519e+18  9.286192e+14  \n",
       "25%    1.891515e+18  2.273798e+18  \n",
       "50%    1.891515e+18  4.623721e+18  \n",
       "75%    1.891515e+18  6.917850e+18  \n",
       "max    6.323872e+18  9.221118e+18  "
      ]
     },
     "execution_count": 5,
     "metadata": {},
     "output_type": "execute_result"
    }
   ],
   "source": [
    "clks.describe()"
   ]
  },
  {
   "cell_type": "code",
   "execution_count": 6,
   "metadata": {},
   "outputs": [
    {
     "data": {
      "text/html": [
       "<div>\n",
       "<style scoped>\n",
       "    .dataframe tbody tr th:only-of-type {\n",
       "        vertical-align: middle;\n",
       "    }\n",
       "\n",
       "    .dataframe tbody tr th {\n",
       "        vertical-align: top;\n",
       "    }\n",
       "\n",
       "    .dataframe thead th {\n",
       "        text-align: right;\n",
       "    }\n",
       "</style>\n",
       "<table border=\"1\" class=\"dataframe\">\n",
       "  <thead>\n",
       "    <tr style=\"text-align: right;\">\n",
       "      <th></th>\n",
       "      <th>advertiser_id</th>\n",
       "      <th>action_id</th>\n",
       "      <th>source_id</th>\n",
       "      <th>created</th>\n",
       "      <th>country_code</th>\n",
       "      <th>latitude</th>\n",
       "      <th>longitude</th>\n",
       "      <th>wifi_connection</th>\n",
       "      <th>carrier_id</th>\n",
       "      <th>trans_id</th>\n",
       "      <th>os_minor</th>\n",
       "      <th>agent_device</th>\n",
       "      <th>os_major</th>\n",
       "      <th>specs_brand</th>\n",
       "      <th>brand</th>\n",
       "      <th>timeToClick</th>\n",
       "      <th>touchX</th>\n",
       "      <th>touchY</th>\n",
       "      <th>ref_type</th>\n",
       "      <th>ref_hash</th>\n",
       "    </tr>\n",
       "  </thead>\n",
       "  <tbody>\n",
       "    <tr>\n",
       "      <th>0</th>\n",
       "      <td>2</td>\n",
       "      <td>NaN</td>\n",
       "      <td>4</td>\n",
       "      <td>2019-03-06 22:42:12.755000+00:00</td>\n",
       "      <td>6333597102633388268</td>\n",
       "      <td>1.205689</td>\n",
       "      <td>1.070234</td>\n",
       "      <td>False</td>\n",
       "      <td>1.0</td>\n",
       "      <td>iGgClCM9exiHF4K31g94XmvHEBSLKIY</td>\n",
       "      <td>6.768137e+18</td>\n",
       "      <td>NaN</td>\n",
       "      <td>3.072849e+18</td>\n",
       "      <td>2733035977666442898</td>\n",
       "      <td>NaN</td>\n",
       "      <td>1.563</td>\n",
       "      <td>0.904785</td>\n",
       "      <td>0.078003</td>\n",
       "      <td>1891515180541284343</td>\n",
       "      <td>1904083516767779093</td>\n",
       "    </tr>\n",
       "    <tr>\n",
       "      <th>1</th>\n",
       "      <td>0</td>\n",
       "      <td>NaN</td>\n",
       "      <td>0</td>\n",
       "      <td>2019-03-08 10:24:30.641000+00:00</td>\n",
       "      <td>6333597102633388268</td>\n",
       "      <td>1.218924</td>\n",
       "      <td>1.071209</td>\n",
       "      <td>False</td>\n",
       "      <td>4.0</td>\n",
       "      <td>MMHTOJ6qKAOeIH_Eywh1KIcCaxtO9oM</td>\n",
       "      <td>3.025219e+18</td>\n",
       "      <td>NaN</td>\n",
       "      <td>1.774085e+18</td>\n",
       "      <td>392184377613098015</td>\n",
       "      <td>NaN</td>\n",
       "      <td>NaN</td>\n",
       "      <td>NaN</td>\n",
       "      <td>NaN</td>\n",
       "      <td>1891515180541284343</td>\n",
       "      <td>3086509764961796666</td>\n",
       "    </tr>\n",
       "    <tr>\n",
       "      <th>2</th>\n",
       "      <td>0</td>\n",
       "      <td>NaN</td>\n",
       "      <td>0</td>\n",
       "      <td>2019-03-08 15:24:16.069000+00:00</td>\n",
       "      <td>6333597102633388268</td>\n",
       "      <td>1.205689</td>\n",
       "      <td>1.070234</td>\n",
       "      <td>False</td>\n",
       "      <td>6.0</td>\n",
       "      <td>vIrEIdf9izUaWdAri6Ezk7T3nHFvNQU</td>\n",
       "      <td>5.975656e+18</td>\n",
       "      <td>NaN</td>\n",
       "      <td>3.072849e+18</td>\n",
       "      <td>392184377613098015</td>\n",
       "      <td>NaN</td>\n",
       "      <td>NaN</td>\n",
       "      <td>0.945801</td>\n",
       "      <td>0.472900</td>\n",
       "      <td>1891515180541284343</td>\n",
       "      <td>6958163894863846647</td>\n",
       "    </tr>\n",
       "    <tr>\n",
       "      <th>3</th>\n",
       "      <td>2</td>\n",
       "      <td>NaN</td>\n",
       "      <td>3</td>\n",
       "      <td>2019-03-06 03:08:51.543000+00:00</td>\n",
       "      <td>6333597102633388268</td>\n",
       "      <td>1.205689</td>\n",
       "      <td>1.070234</td>\n",
       "      <td>False</td>\n",
       "      <td>45.0</td>\n",
       "      <td>YaKxxEAs2UmZhSpRfiCO9Zpa82B_AKM</td>\n",
       "      <td>6.768137e+18</td>\n",
       "      <td>NaN</td>\n",
       "      <td>3.072849e+18</td>\n",
       "      <td>2733035977666442898</td>\n",
       "      <td>NaN</td>\n",
       "      <td>19.013</td>\n",
       "      <td>0.035004</td>\n",
       "      <td>0.430908</td>\n",
       "      <td>1891515180541284343</td>\n",
       "      <td>4368617728156436525</td>\n",
       "    </tr>\n",
       "    <tr>\n",
       "      <th>4</th>\n",
       "      <td>2</td>\n",
       "      <td>NaN</td>\n",
       "      <td>3</td>\n",
       "      <td>2019-03-06 03:32:55.570000+00:00</td>\n",
       "      <td>6333597102633388268</td>\n",
       "      <td>1.205689</td>\n",
       "      <td>1.070234</td>\n",
       "      <td>False</td>\n",
       "      <td>45.0</td>\n",
       "      <td>X5XTOcYQovkl6yadYdAD7xioVGU9jiY</td>\n",
       "      <td>6.768137e+18</td>\n",
       "      <td>NaN</td>\n",
       "      <td>3.072849e+18</td>\n",
       "      <td>2733035977666442898</td>\n",
       "      <td>NaN</td>\n",
       "      <td>28.110</td>\n",
       "      <td>0.053986</td>\n",
       "      <td>0.423096</td>\n",
       "      <td>1891515180541284343</td>\n",
       "      <td>4368617728156436525</td>\n",
       "    </tr>\n",
       "  </tbody>\n",
       "</table>\n",
       "</div>"
      ],
      "text/plain": [
       "   advertiser_id  action_id  source_id                          created  \\\n",
       "0              2        NaN          4 2019-03-06 22:42:12.755000+00:00   \n",
       "1              0        NaN          0 2019-03-08 10:24:30.641000+00:00   \n",
       "2              0        NaN          0 2019-03-08 15:24:16.069000+00:00   \n",
       "3              2        NaN          3 2019-03-06 03:08:51.543000+00:00   \n",
       "4              2        NaN          3 2019-03-06 03:32:55.570000+00:00   \n",
       "\n",
       "          country_code  latitude  longitude  wifi_connection  carrier_id  \\\n",
       "0  6333597102633388268  1.205689   1.070234            False         1.0   \n",
       "1  6333597102633388268  1.218924   1.071209            False         4.0   \n",
       "2  6333597102633388268  1.205689   1.070234            False         6.0   \n",
       "3  6333597102633388268  1.205689   1.070234            False        45.0   \n",
       "4  6333597102633388268  1.205689   1.070234            False        45.0   \n",
       "\n",
       "                          trans_id      os_minor  agent_device      os_major  \\\n",
       "0  iGgClCM9exiHF4K31g94XmvHEBSLKIY  6.768137e+18           NaN  3.072849e+18   \n",
       "1  MMHTOJ6qKAOeIH_Eywh1KIcCaxtO9oM  3.025219e+18           NaN  1.774085e+18   \n",
       "2  vIrEIdf9izUaWdAri6Ezk7T3nHFvNQU  5.975656e+18           NaN  3.072849e+18   \n",
       "3  YaKxxEAs2UmZhSpRfiCO9Zpa82B_AKM  6.768137e+18           NaN  3.072849e+18   \n",
       "4  X5XTOcYQovkl6yadYdAD7xioVGU9jiY  6.768137e+18           NaN  3.072849e+18   \n",
       "\n",
       "           specs_brand  brand  timeToClick    touchX    touchY  \\\n",
       "0  2733035977666442898    NaN        1.563  0.904785  0.078003   \n",
       "1   392184377613098015    NaN          NaN       NaN       NaN   \n",
       "2   392184377613098015    NaN          NaN  0.945801  0.472900   \n",
       "3  2733035977666442898    NaN       19.013  0.035004  0.430908   \n",
       "4  2733035977666442898    NaN       28.110  0.053986  0.423096   \n",
       "\n",
       "              ref_type             ref_hash  \n",
       "0  1891515180541284343  1904083516767779093  \n",
       "1  1891515180541284343  3086509764961796666  \n",
       "2  1891515180541284343  6958163894863846647  \n",
       "3  1891515180541284343  4368617728156436525  \n",
       "4  1891515180541284343  4368617728156436525  "
      ]
     },
     "execution_count": 6,
     "metadata": {},
     "output_type": "execute_result"
    }
   ],
   "source": [
    "clks.head()"
   ]
  },
  {
   "cell_type": "code",
   "execution_count": 7,
   "metadata": {},
   "outputs": [
    {
     "data": {
      "text/plain": [
       "False    26351\n",
       "Name: wifi_connection, dtype: int64"
      ]
     },
     "execution_count": 7,
     "metadata": {},
     "output_type": "execute_result"
    }
   ],
   "source": [
    "clks['wifi_connection'].value_counts()"
   ]
  },
  {
   "cell_type": "code",
   "execution_count": 8,
   "metadata": {},
   "outputs": [
    {
     "data": {
      "text/plain": [
       "4980419"
      ]
     },
     "execution_count": 8,
     "metadata": {},
     "output_type": "execute_result"
    }
   ],
   "source": [
    "clks.memory_usage(deep = True).sum()"
   ]
  },
  {
   "cell_type": "code",
   "execution_count": null,
   "metadata": {},
   "outputs": [],
   "source": []
  },
  {
   "cell_type": "markdown",
   "metadata": {},
   "source": [
    "## ¿Cómo se distribuye el tiempo que tardan los usuarios en dar click?"
   ]
  },
  {
   "cell_type": "code",
   "execution_count": 9,
   "metadata": {},
   "outputs": [
    {
     "data": {
      "text/plain": [
       "advertiser_id      26351\n",
       "action_id              0\n",
       "source_id          26351\n",
       "created            26351\n",
       "country_code       26351\n",
       "latitude           26351\n",
       "longitude          26351\n",
       "wifi_connection    26351\n",
       "carrier_id         26340\n",
       "trans_id           26351\n",
       "os_minor           26339\n",
       "agent_device        3243\n",
       "os_major           26339\n",
       "specs_brand        26351\n",
       "brand               6235\n",
       "timeToClick        22977\n",
       "touchX             23011\n",
       "touchY             23011\n",
       "ref_type           26351\n",
       "ref_hash           26351\n",
       "dtype: int64"
      ]
     },
     "execution_count": 9,
     "metadata": {},
     "output_type": "execute_result"
    }
   ],
   "source": [
    "clks.count()"
   ]
  },
  {
   "cell_type": "code",
   "execution_count": 10,
   "metadata": {},
   "outputs": [
    {
     "data": {
      "text/plain": [
       "26351"
      ]
     },
     "execution_count": 10,
     "metadata": {},
     "output_type": "execute_result"
    }
   ],
   "source": [
    "clks['timeToClick'].isnull().count()"
   ]
  },
  {
   "cell_type": "code",
   "execution_count": 11,
   "metadata": {},
   "outputs": [],
   "source": [
    "clickTime = clks['timeToClick'].dropna()"
   ]
  },
  {
   "cell_type": "code",
   "execution_count": 12,
   "metadata": {},
   "outputs": [
    {
     "data": {
      "text/plain": [
       "22977"
      ]
     },
     "execution_count": 12,
     "metadata": {},
     "output_type": "execute_result"
    }
   ],
   "source": [
    "clickTime.count()"
   ]
  },
  {
   "cell_type": "code",
   "execution_count": 13,
   "metadata": {},
   "outputs": [
    {
     "data": {
      "text/plain": [
       "23818    17616.188\n",
       "5606     16915.195\n",
       "13465    16698.536\n",
       "14350    16466.667\n",
       "15691    15776.097\n",
       "Name: timeToClick, dtype: float64"
      ]
     },
     "execution_count": 13,
     "metadata": {},
     "output_type": "execute_result"
    }
   ],
   "source": [
    "clickTime.nlargest(5)"
   ]
  },
  {
   "cell_type": "code",
   "execution_count": 14,
   "metadata": {},
   "outputs": [
    {
     "data": {
      "text/plain": [
       "22355    0.017\n",
       "8827     0.026\n",
       "22833    0.026\n",
       "15298    0.029\n",
       "3516     0.034\n",
       "Name: timeToClick, dtype: float64"
      ]
     },
     "execution_count": 14,
     "metadata": {},
     "output_type": "execute_result"
    }
   ],
   "source": [
    "clickTime.nsmallest(5)"
   ]
  },
  {
   "cell_type": "code",
   "execution_count": 15,
   "metadata": {},
   "outputs": [
    {
     "data": {
      "text/plain": [
       "Text(0,0.5,'Frecuencia')"
      ]
     },
     "execution_count": 15,
     "metadata": {},
     "output_type": "execute_result"
    },
    {
     "data": {
      "image/png": "[encoded data removed]",
      "text/plain": [
       "<matplotlib.figure.Figure at 0x7f2971b97e10>"
      ]
     },
     "metadata": {
      "needs_background": "light"
     },
     "output_type": "display_data"
    }
   ],
   "source": [
    "# Analizar si conviene convertir la frecuencia a escala logaritmica\n",
    "grafico = clickTime.plot.hist(bins=50, color='cornflowerblue', figsize=(15,10))\n",
    "grafico.set_title(\"Distribución de la cantidad de segundos que tarda un usuario en dar click\", fontsize = 20)\n",
    "grafico.set_xlabel(\"Tiempo en segundos\",fontsize=15)\n",
    "grafico.set_ylabel(\"Frecuencia\", fontsize=15)\n",
    "#Convierto la frecuencia a escala logaritimica par lograr una mejor\n",
    "#visualizacion\n",
    "#grafico.set_yscale('log')"
   ]
  },
  {
   "cell_type": "markdown",
   "metadata": {},
   "source": [
    "Vemos que los usuarios en su mayor parte tardan menos de 2500 segundos hacer un click"
   ]
  },
  {
   "cell_type": "code",
   "execution_count": 16,
   "metadata": {},
   "outputs": [
    {
     "data": {
      "text/html": [
       "<div>\n",
       "<style scoped>\n",
       "    .dataframe tbody tr th:only-of-type {\n",
       "        vertical-align: middle;\n",
       "    }\n",
       "\n",
       "    .dataframe tbody tr th {\n",
       "        vertical-align: top;\n",
       "    }\n",
       "\n",
       "    .dataframe thead th {\n",
       "        text-align: right;\n",
       "    }\n",
       "</style>\n",
       "<table border=\"1\" class=\"dataframe\">\n",
       "  <thead>\n",
       "    <tr style=\"text-align: right;\">\n",
       "      <th></th>\n",
       "      <th>advertiser_id</th>\n",
       "      <th>action_id</th>\n",
       "      <th>source_id</th>\n",
       "      <th>created</th>\n",
       "      <th>country_code</th>\n",
       "      <th>latitude</th>\n",
       "      <th>longitude</th>\n",
       "      <th>wifi_connection</th>\n",
       "      <th>carrier_id</th>\n",
       "      <th>trans_id</th>\n",
       "      <th>os_minor</th>\n",
       "      <th>agent_device</th>\n",
       "      <th>os_major</th>\n",
       "      <th>specs_brand</th>\n",
       "      <th>brand</th>\n",
       "      <th>timeToClick</th>\n",
       "      <th>touchX</th>\n",
       "      <th>touchY</th>\n",
       "      <th>ref_type</th>\n",
       "      <th>ref_hash</th>\n",
       "    </tr>\n",
       "  </thead>\n",
       "  <tbody>\n",
       "    <tr>\n",
       "      <th>0</th>\n",
       "      <td>2</td>\n",
       "      <td>NaN</td>\n",
       "      <td>4</td>\n",
       "      <td>2019-03-06 22:42:12.755000+00:00</td>\n",
       "      <td>6333597102633388268</td>\n",
       "      <td>1.205689</td>\n",
       "      <td>1.070234</td>\n",
       "      <td>False</td>\n",
       "      <td>1.0</td>\n",
       "      <td>iGgClCM9exiHF4K31g94XmvHEBSLKIY</td>\n",
       "      <td>6.768137e+18</td>\n",
       "      <td>NaN</td>\n",
       "      <td>3.072849e+18</td>\n",
       "      <td>2733035977666442898</td>\n",
       "      <td>NaN</td>\n",
       "      <td>1.563</td>\n",
       "      <td>0.904785</td>\n",
       "      <td>0.078003</td>\n",
       "      <td>1891515180541284343</td>\n",
       "      <td>1904083516767779093</td>\n",
       "    </tr>\n",
       "    <tr>\n",
       "      <th>1</th>\n",
       "      <td>0</td>\n",
       "      <td>NaN</td>\n",
       "      <td>0</td>\n",
       "      <td>2019-03-08 10:24:30.641000+00:00</td>\n",
       "      <td>6333597102633388268</td>\n",
       "      <td>1.218924</td>\n",
       "      <td>1.071209</td>\n",
       "      <td>False</td>\n",
       "      <td>4.0</td>\n",
       "      <td>MMHTOJ6qKAOeIH_Eywh1KIcCaxtO9oM</td>\n",
       "      <td>3.025219e+18</td>\n",
       "      <td>NaN</td>\n",
       "      <td>1.774085e+18</td>\n",
       "      <td>392184377613098015</td>\n",
       "      <td>NaN</td>\n",
       "      <td>NaN</td>\n",
       "      <td>NaN</td>\n",
       "      <td>NaN</td>\n",
       "      <td>1891515180541284343</td>\n",
       "      <td>3086509764961796666</td>\n",
       "    </tr>\n",
       "    <tr>\n",
       "      <th>2</th>\n",
       "      <td>0</td>\n",
       "      <td>NaN</td>\n",
       "      <td>0</td>\n",
       "      <td>2019-03-08 15:24:16.069000+00:00</td>\n",
       "      <td>6333597102633388268</td>\n",
       "      <td>1.205689</td>\n",
       "      <td>1.070234</td>\n",
       "      <td>False</td>\n",
       "      <td>6.0</td>\n",
       "      <td>vIrEIdf9izUaWdAri6Ezk7T3nHFvNQU</td>\n",
       "      <td>5.975656e+18</td>\n",
       "      <td>NaN</td>\n",
       "      <td>3.072849e+18</td>\n",
       "      <td>392184377613098015</td>\n",
       "      <td>NaN</td>\n",
       "      <td>NaN</td>\n",
       "      <td>0.945801</td>\n",
       "      <td>0.472900</td>\n",
       "      <td>1891515180541284343</td>\n",
       "      <td>6958163894863846647</td>\n",
       "    </tr>\n",
       "    <tr>\n",
       "      <th>3</th>\n",
       "      <td>2</td>\n",
       "      <td>NaN</td>\n",
       "      <td>3</td>\n",
       "      <td>2019-03-06 03:08:51.543000+00:00</td>\n",
       "      <td>6333597102633388268</td>\n",
       "      <td>1.205689</td>\n",
       "      <td>1.070234</td>\n",
       "      <td>False</td>\n",
       "      <td>45.0</td>\n",
       "      <td>YaKxxEAs2UmZhSpRfiCO9Zpa82B_AKM</td>\n",
       "      <td>6.768137e+18</td>\n",
       "      <td>NaN</td>\n",
       "      <td>3.072849e+18</td>\n",
       "      <td>2733035977666442898</td>\n",
       "      <td>NaN</td>\n",
       "      <td>19.013</td>\n",
       "      <td>0.035004</td>\n",
       "      <td>0.430908</td>\n",
       "      <td>1891515180541284343</td>\n",
       "      <td>4368617728156436525</td>\n",
       "    </tr>\n",
       "    <tr>\n",
       "      <th>4</th>\n",
       "      <td>2</td>\n",
       "      <td>NaN</td>\n",
       "      <td>3</td>\n",
       "      <td>2019-03-06 03:32:55.570000+00:00</td>\n",
       "      <td>6333597102633388268</td>\n",
       "      <td>1.205689</td>\n",
       "      <td>1.070234</td>\n",
       "      <td>False</td>\n",
       "      <td>45.0</td>\n",
       "      <td>X5XTOcYQovkl6yadYdAD7xioVGU9jiY</td>\n",
       "      <td>6.768137e+18</td>\n",
       "      <td>NaN</td>\n",
       "      <td>3.072849e+18</td>\n",
       "      <td>2733035977666442898</td>\n",
       "      <td>NaN</td>\n",
       "      <td>28.110</td>\n",
       "      <td>0.053986</td>\n",
       "      <td>0.423096</td>\n",
       "      <td>1891515180541284343</td>\n",
       "      <td>4368617728156436525</td>\n",
       "    </tr>\n",
       "  </tbody>\n",
       "</table>\n",
       "</div>"
      ],
      "text/plain": [
       "   advertiser_id  action_id  source_id                          created  \\\n",
       "0              2        NaN          4 2019-03-06 22:42:12.755000+00:00   \n",
       "1              0        NaN          0 2019-03-08 10:24:30.641000+00:00   \n",
       "2              0        NaN          0 2019-03-08 15:24:16.069000+00:00   \n",
       "3              2        NaN          3 2019-03-06 03:08:51.543000+00:00   \n",
       "4              2        NaN          3 2019-03-06 03:32:55.570000+00:00   \n",
       "\n",
       "          country_code  latitude  longitude  wifi_connection  carrier_id  \\\n",
       "0  6333597102633388268  1.205689   1.070234            False         1.0   \n",
       "1  6333597102633388268  1.218924   1.071209            False         4.0   \n",
       "2  6333597102633388268  1.205689   1.070234            False         6.0   \n",
       "3  6333597102633388268  1.205689   1.070234            False        45.0   \n",
       "4  6333597102633388268  1.205689   1.070234            False        45.0   \n",
       "\n",
       "                          trans_id      os_minor  agent_device      os_major  \\\n",
       "0  iGgClCM9exiHF4K31g94XmvHEBSLKIY  6.768137e+18           NaN  3.072849e+18   \n",
       "1  MMHTOJ6qKAOeIH_Eywh1KIcCaxtO9oM  3.025219e+18           NaN  1.774085e+18   \n",
       "2  vIrEIdf9izUaWdAri6Ezk7T3nHFvNQU  5.975656e+18           NaN  3.072849e+18   \n",
       "3  YaKxxEAs2UmZhSpRfiCO9Zpa82B_AKM  6.768137e+18           NaN  3.072849e+18   \n",
       "4  X5XTOcYQovkl6yadYdAD7xioVGU9jiY  6.768137e+18           NaN  3.072849e+18   \n",
       "\n",
       "           specs_brand  brand  timeToClick    touchX    touchY  \\\n",
       "0  2733035977666442898    NaN        1.563  0.904785  0.078003   \n",
       "1   392184377613098015    NaN          NaN       NaN       NaN   \n",
       "2   392184377613098015    NaN          NaN  0.945801  0.472900   \n",
       "3  2733035977666442898    NaN       19.013  0.035004  0.430908   \n",
       "4  2733035977666442898    NaN       28.110  0.053986  0.423096   \n",
       "\n",
       "              ref_type             ref_hash  \n",
       "0  1891515180541284343  1904083516767779093  \n",
       "1  1891515180541284343  3086509764961796666  \n",
       "2  1891515180541284343  6958163894863846647  \n",
       "3  1891515180541284343  4368617728156436525  \n",
       "4  1891515180541284343  4368617728156436525  "
      ]
     },
     "execution_count": 16,
     "metadata": {},
     "output_type": "execute_result"
    }
   ],
   "source": [
    "clks.head()"
   ]
  },
  {
   "cell_type": "markdown",
   "metadata": {},
   "source": [
    "Veamos si aplicando el logaritmo se logra un gráfico más descriptivo:"
   ]
  },
  {
   "cell_type": "code",
   "execution_count": 17,
   "metadata": {},
   "outputs": [],
   "source": [
    "clickTimeLog = clickTime.transform(lambda x: np.log(x))"
   ]
  },
  {
   "cell_type": "code",
   "execution_count": 18,
   "metadata": {},
   "outputs": [
    {
     "data": {
      "text/plain": [
       "Text(0,0.5,'Frecuencia')"
      ]
     },
     "execution_count": 18,
     "metadata": {},
     "output_type": "execute_result"
    },
    {
     "data": {
      "image/png": "[encoded data removed]",
      "text/plain": [
       "<matplotlib.figure.Figure at 0x7f2972fde128>"
      ]
     },
     "metadata": {},
     "output_type": "display_data"
    }
   ],
   "source": [
    "sns.set_style('darkgrid')\n",
    "grafico_log = clickTimeLog.plot.hist(bins=50, color='skyblue', figsize=(10,5))\n",
    "grafico_log.set_title(\"Histograma: cantidad de segundos (log) que tarda un usuario en dar click\", fontsize = 20)\n",
    "grafico_log.set_xlabel(\"Tiempo en segundos (log)\",fontsize=15)\n",
    "grafico_log.set_ylabel(\"Frecuencia\", fontsize=15)"
   ]
  },
  {
   "cell_type": "markdown",
   "metadata": {},
   "source": [
    "## Veamos ahora qué sucede con la posición desde donde se dan los clicks:"
   ]
  },
  {
   "cell_type": "code",
   "execution_count": 19,
   "metadata": {},
   "outputs": [
    {
     "data": {
      "text/html": [
       "<div>\n",
       "<style scoped>\n",
       "    .dataframe tbody tr th:only-of-type {\n",
       "        vertical-align: middle;\n",
       "    }\n",
       "\n",
       "    .dataframe tbody tr th {\n",
       "        vertical-align: top;\n",
       "    }\n",
       "\n",
       "    .dataframe thead th {\n",
       "        text-align: right;\n",
       "    }\n",
       "</style>\n",
       "<table border=\"1\" class=\"dataframe\">\n",
       "  <thead>\n",
       "    <tr style=\"text-align: right;\">\n",
       "      <th></th>\n",
       "      <th>touchX</th>\n",
       "      <th>touchY</th>\n",
       "    </tr>\n",
       "  </thead>\n",
       "  <tbody>\n",
       "    <tr>\n",
       "      <th>0</th>\n",
       "      <td>0.904785</td>\n",
       "      <td>0.078003</td>\n",
       "    </tr>\n",
       "    <tr>\n",
       "      <th>2</th>\n",
       "      <td>0.945801</td>\n",
       "      <td>0.472900</td>\n",
       "    </tr>\n",
       "    <tr>\n",
       "      <th>3</th>\n",
       "      <td>0.035004</td>\n",
       "      <td>0.430908</td>\n",
       "    </tr>\n",
       "    <tr>\n",
       "      <th>4</th>\n",
       "      <td>0.053986</td>\n",
       "      <td>0.423096</td>\n",
       "    </tr>\n",
       "    <tr>\n",
       "      <th>5</th>\n",
       "      <td>0.605957</td>\n",
       "      <td>0.458984</td>\n",
       "    </tr>\n",
       "  </tbody>\n",
       "</table>\n",
       "</div>"
      ],
      "text/plain": [
       "     touchX    touchY\n",
       "0  0.904785  0.078003\n",
       "2  0.945801  0.472900\n",
       "3  0.035004  0.430908\n",
       "4  0.053986  0.423096\n",
       "5  0.605957  0.458984"
      ]
     },
     "execution_count": 19,
     "metadata": {},
     "output_type": "execute_result"
    }
   ],
   "source": [
    "clickPos = clks.loc[:, ['touchX', 'touchY']].dropna()\n",
    "clickPos.head()"
   ]
  },
  {
   "cell_type": "code",
   "execution_count": 20,
   "metadata": {},
   "outputs": [
    {
     "data": {
      "text/plain": [
       "0.996094    204\n",
       "0.994141    129\n",
       "0.995117    110\n",
       "0.937988     94\n",
       "0.998047     92\n",
       "Name: touchX, dtype: int64"
      ]
     },
     "execution_count": 20,
     "metadata": {},
     "output_type": "execute_result"
    }
   ],
   "source": [
    "clickPos['touchX'].value_counts().head()"
   ]
  },
  {
   "cell_type": "code",
   "execution_count": 21,
   "metadata": {},
   "outputs": [
    {
     "data": {
      "text/plain": [
       "0.000000    193\n",
       "0.998047    140\n",
       "0.994141     81\n",
       "0.996094     80\n",
       "0.022995     79\n",
       "Name: touchY, dtype: int64"
      ]
     },
     "execution_count": 21,
     "metadata": {},
     "output_type": "execute_result"
    }
   ],
   "source": [
    "clickPos['touchY'].value_counts().head()"
   ]
  },
  {
   "cell_type": "markdown",
   "metadata": {},
   "source": [
    "Veo si un gráfico de distribución conjunta me muestra algo sobre estos valores"
   ]
  },
  {
   "cell_type": "code",
   "execution_count": 22,
   "metadata": {},
   "outputs": [
    {
     "data": {
      "text/plain": [
       "<matplotlib.legend.Legend at 0x7f29a8210588>"
      ]
     },
     "execution_count": 22,
     "metadata": {},
     "output_type": "execute_result"
    },
    {
     "data": {
      "image/png": "[encoded data removed]",
      "text/plain": [
       "<matplotlib.figure.Figure at 0x7f296b547208>"
      ]
     },
     "metadata": {},
     "output_type": "display_data"
    }
   ],
   "source": [
    "plt.figure(figsize=(8,8))\n",
    "g_dist = sns.distplot(clickPos['touchX'], color='crimson', label = 'Posición en X')\n",
    "g_dist = sns.distplot(clickPos['touchY'], color='royalblue', label = 'posición en Y')\n",
    "g_dist.set_title(\"Distribución de la posición de clicks en pantalla\", fontsize = 25)\n",
    "g_dist.set_xlabel(\"Posición en pantalla\", fontsize = 15)\n",
    "g_dist.set_ylabel(\"Densidad\", fontsize = 15)\n",
    "g_dist.legend()"
   ]
  },
  {
   "cell_type": "markdown",
   "metadata": {},
   "source": [
    "Alternativa utilizando un Scatter plot"
   ]
  },
  {
   "cell_type": "code",
   "execution_count": 23,
   "metadata": {},
   "outputs": [
    {
     "data": {
      "text/plain": [
       "Text(0,0.5,'Posición en Y')"
      ]
     },
     "execution_count": 23,
     "metadata": {},
     "output_type": "execute_result"
    },
    {
     "data": {
      "image/png": "[encoded data removed]",
      "text/plain": [
       "<matplotlib.figure.Figure at 0x7f29afd15f60>"
      ]
     },
     "metadata": {},
     "output_type": "display_data"
    }
   ],
   "source": [
    "plt.figure(figsize = (10,5))\n",
    "g = sns.regplot(x = \"touchX\", y = \"touchY\", \n",
    "                    data = clickPos, color = 'orchid')\n",
    "g.set_title(\"Relacion entre los clicks en la posición X e Y\", fontsize = 20)\n",
    "g.set_xlabel(\"Posición en X\", fontsize = 15)\n",
    "g.set_ylabel(\"Posición en Y\", fontsize = 15)"
   ]
  },
  {
   "cell_type": "markdown",
   "metadata": {},
   "source": [
    "# Analizo como se distribuyen los clicks en el tiempo"
   ]
  },
  {
   "cell_type": "code",
   "execution_count": 24,
   "metadata": {},
   "outputs": [
    {
     "data": {
      "text/html": [
       "<div>\n",
       "<style scoped>\n",
       "    .dataframe tbody tr th:only-of-type {\n",
       "        vertical-align: middle;\n",
       "    }\n",
       "\n",
       "    .dataframe tbody tr th {\n",
       "        vertical-align: top;\n",
       "    }\n",
       "\n",
       "    .dataframe thead th {\n",
       "        text-align: right;\n",
       "    }\n",
       "</style>\n",
       "<table border=\"1\" class=\"dataframe\">\n",
       "  <thead>\n",
       "    <tr style=\"text-align: right;\">\n",
       "      <th></th>\n",
       "      <th>advertiser_id</th>\n",
       "      <th>action_id</th>\n",
       "      <th>source_id</th>\n",
       "      <th>created</th>\n",
       "      <th>country_code</th>\n",
       "      <th>latitude</th>\n",
       "      <th>longitude</th>\n",
       "      <th>wifi_connection</th>\n",
       "      <th>carrier_id</th>\n",
       "      <th>trans_id</th>\n",
       "      <th>...</th>\n",
       "      <th>touchX</th>\n",
       "      <th>touchY</th>\n",
       "      <th>ref_type</th>\n",
       "      <th>ref_hash</th>\n",
       "      <th>año</th>\n",
       "      <th>mes</th>\n",
       "      <th>día</th>\n",
       "      <th>hora</th>\n",
       "      <th>minuto</th>\n",
       "      <th>diaSemana</th>\n",
       "    </tr>\n",
       "  </thead>\n",
       "  <tbody>\n",
       "    <tr>\n",
       "      <th>0</th>\n",
       "      <td>2</td>\n",
       "      <td>NaN</td>\n",
       "      <td>4</td>\n",
       "      <td>2019-03-06 22:42:12.755000+00:00</td>\n",
       "      <td>6333597102633388268</td>\n",
       "      <td>1.205689</td>\n",
       "      <td>1.070234</td>\n",
       "      <td>False</td>\n",
       "      <td>1.0</td>\n",
       "      <td>iGgClCM9exiHF4K31g94XmvHEBSLKIY</td>\n",
       "      <td>...</td>\n",
       "      <td>0.904785</td>\n",
       "      <td>0.078003</td>\n",
       "      <td>1891515180541284343</td>\n",
       "      <td>1904083516767779093</td>\n",
       "      <td>2019</td>\n",
       "      <td>3</td>\n",
       "      <td>6</td>\n",
       "      <td>22</td>\n",
       "      <td>42</td>\n",
       "      <td>Wednesday</td>\n",
       "    </tr>\n",
       "    <tr>\n",
       "      <th>1</th>\n",
       "      <td>0</td>\n",
       "      <td>NaN</td>\n",
       "      <td>0</td>\n",
       "      <td>2019-03-08 10:24:30.641000+00:00</td>\n",
       "      <td>6333597102633388268</td>\n",
       "      <td>1.218924</td>\n",
       "      <td>1.071209</td>\n",
       "      <td>False</td>\n",
       "      <td>4.0</td>\n",
       "      <td>MMHTOJ6qKAOeIH_Eywh1KIcCaxtO9oM</td>\n",
       "      <td>...</td>\n",
       "      <td>NaN</td>\n",
       "      <td>NaN</td>\n",
       "      <td>1891515180541284343</td>\n",
       "      <td>3086509764961796666</td>\n",
       "      <td>2019</td>\n",
       "      <td>3</td>\n",
       "      <td>8</td>\n",
       "      <td>10</td>\n",
       "      <td>24</td>\n",
       "      <td>Friday</td>\n",
       "    </tr>\n",
       "    <tr>\n",
       "      <th>2</th>\n",
       "      <td>0</td>\n",
       "      <td>NaN</td>\n",
       "      <td>0</td>\n",
       "      <td>2019-03-08 15:24:16.069000+00:00</td>\n",
       "      <td>6333597102633388268</td>\n",
       "      <td>1.205689</td>\n",
       "      <td>1.070234</td>\n",
       "      <td>False</td>\n",
       "      <td>6.0</td>\n",
       "      <td>vIrEIdf9izUaWdAri6Ezk7T3nHFvNQU</td>\n",
       "      <td>...</td>\n",
       "      <td>0.945801</td>\n",
       "      <td>0.472900</td>\n",
       "      <td>1891515180541284343</td>\n",
       "      <td>6958163894863846647</td>\n",
       "      <td>2019</td>\n",
       "      <td>3</td>\n",
       "      <td>8</td>\n",
       "      <td>15</td>\n",
       "      <td>24</td>\n",
       "      <td>Friday</td>\n",
       "    </tr>\n",
       "    <tr>\n",
       "      <th>3</th>\n",
       "      <td>2</td>\n",
       "      <td>NaN</td>\n",
       "      <td>3</td>\n",
       "      <td>2019-03-06 03:08:51.543000+00:00</td>\n",
       "      <td>6333597102633388268</td>\n",
       "      <td>1.205689</td>\n",
       "      <td>1.070234</td>\n",
       "      <td>False</td>\n",
       "      <td>45.0</td>\n",
       "      <td>YaKxxEAs2UmZhSpRfiCO9Zpa82B_AKM</td>\n",
       "      <td>...</td>\n",
       "      <td>0.035004</td>\n",
       "      <td>0.430908</td>\n",
       "      <td>1891515180541284343</td>\n",
       "      <td>4368617728156436525</td>\n",
       "      <td>2019</td>\n",
       "      <td>3</td>\n",
       "      <td>6</td>\n",
       "      <td>3</td>\n",
       "      <td>8</td>\n",
       "      <td>Wednesday</td>\n",
       "    </tr>\n",
       "    <tr>\n",
       "      <th>4</th>\n",
       "      <td>2</td>\n",
       "      <td>NaN</td>\n",
       "      <td>3</td>\n",
       "      <td>2019-03-06 03:32:55.570000+00:00</td>\n",
       "      <td>6333597102633388268</td>\n",
       "      <td>1.205689</td>\n",
       "      <td>1.070234</td>\n",
       "      <td>False</td>\n",
       "      <td>45.0</td>\n",
       "      <td>X5XTOcYQovkl6yadYdAD7xioVGU9jiY</td>\n",
       "      <td>...</td>\n",
       "      <td>0.053986</td>\n",
       "      <td>0.423096</td>\n",
       "      <td>1891515180541284343</td>\n",
       "      <td>4368617728156436525</td>\n",
       "      <td>2019</td>\n",
       "      <td>3</td>\n",
       "      <td>6</td>\n",
       "      <td>3</td>\n",
       "      <td>32</td>\n",
       "      <td>Wednesday</td>\n",
       "    </tr>\n",
       "  </tbody>\n",
       "</table>\n",
       "<p>5 rows × 26 columns</p>\n",
       "</div>"
      ],
      "text/plain": [
       "   advertiser_id  action_id  source_id                          created  \\\n",
       "0              2        NaN          4 2019-03-06 22:42:12.755000+00:00   \n",
       "1              0        NaN          0 2019-03-08 10:24:30.641000+00:00   \n",
       "2              0        NaN          0 2019-03-08 15:24:16.069000+00:00   \n",
       "3              2        NaN          3 2019-03-06 03:08:51.543000+00:00   \n",
       "4              2        NaN          3 2019-03-06 03:32:55.570000+00:00   \n",
       "\n",
       "          country_code  latitude  longitude  wifi_connection  carrier_id  \\\n",
       "0  6333597102633388268  1.205689   1.070234            False         1.0   \n",
       "1  6333597102633388268  1.218924   1.071209            False         4.0   \n",
       "2  6333597102633388268  1.205689   1.070234            False         6.0   \n",
       "3  6333597102633388268  1.205689   1.070234            False        45.0   \n",
       "4  6333597102633388268  1.205689   1.070234            False        45.0   \n",
       "\n",
       "                          trans_id  ...    touchX    touchY  \\\n",
       "0  iGgClCM9exiHF4K31g94XmvHEBSLKIY  ...  0.904785  0.078003   \n",
       "1  MMHTOJ6qKAOeIH_Eywh1KIcCaxtO9oM  ...       NaN       NaN   \n",
       "2  vIrEIdf9izUaWdAri6Ezk7T3nHFvNQU  ...  0.945801  0.472900   \n",
       "3  YaKxxEAs2UmZhSpRfiCO9Zpa82B_AKM  ...  0.035004  0.430908   \n",
       "4  X5XTOcYQovkl6yadYdAD7xioVGU9jiY  ...  0.053986  0.423096   \n",
       "\n",
       "              ref_type             ref_hash   año  mes  día  hora  minuto  \\\n",
       "0  1891515180541284343  1904083516767779093  2019    3    6    22      42   \n",
       "1  1891515180541284343  3086509764961796666  2019    3    8    10      24   \n",
       "2  1891515180541284343  6958163894863846647  2019    3    8    15      24   \n",
       "3  1891515180541284343  4368617728156436525  2019    3    6     3       8   \n",
       "4  1891515180541284343  4368617728156436525  2019    3    6     3      32   \n",
       "\n",
       "   diaSemana  \n",
       "0  Wednesday  \n",
       "1     Friday  \n",
       "2     Friday  \n",
       "3  Wednesday  \n",
       "4  Wednesday  \n",
       "\n",
       "[5 rows x 26 columns]"
      ]
     },
     "execution_count": 24,
     "metadata": {},
     "output_type": "execute_result"
    }
   ],
   "source": [
    "clks['año'] = pd.DatetimeIndex(clks['created']).year\n",
    "clks['mes'] =clks['created'].dt.month\n",
    "clks['día'] = clks['created'].dt.day\n",
    "clks['hora'] = clks['created'].dt.hour\n",
    "clks['minuto'] = clks['created'].dt.minute\n",
    "clks['diaSemana'] = clks['created'].dt.weekday_name\n",
    "clks.head()"
   ]
  },
  {
   "cell_type": "code",
   "execution_count": 25,
   "metadata": {},
   "outputs": [
    {
     "data": {
      "text/html": [
       "<div>\n",
       "<style scoped>\n",
       "    .dataframe tbody tr th:only-of-type {\n",
       "        vertical-align: middle;\n",
       "    }\n",
       "\n",
       "    .dataframe tbody tr th {\n",
       "        vertical-align: top;\n",
       "    }\n",
       "\n",
       "    .dataframe thead th {\n",
       "        text-align: right;\n",
       "    }\n",
       "</style>\n",
       "<table border=\"1\" class=\"dataframe\">\n",
       "  <thead>\n",
       "    <tr style=\"text-align: right;\">\n",
       "      <th></th>\n",
       "      <th>diaSemana</th>\n",
       "      <th>Total clicks</th>\n",
       "    </tr>\n",
       "  </thead>\n",
       "  <tbody>\n",
       "    <tr>\n",
       "      <th>0</th>\n",
       "      <td>Tuesday</td>\n",
       "      <td>5235</td>\n",
       "    </tr>\n",
       "    <tr>\n",
       "      <th>1</th>\n",
       "      <td>Monday</td>\n",
       "      <td>4557</td>\n",
       "    </tr>\n",
       "    <tr>\n",
       "      <th>2</th>\n",
       "      <td>Sunday</td>\n",
       "      <td>3966</td>\n",
       "    </tr>\n",
       "    <tr>\n",
       "      <th>3</th>\n",
       "      <td>Wednesday</td>\n",
       "      <td>3482</td>\n",
       "    </tr>\n",
       "    <tr>\n",
       "      <th>4</th>\n",
       "      <td>Saturday</td>\n",
       "      <td>3283</td>\n",
       "    </tr>\n",
       "    <tr>\n",
       "      <th>5</th>\n",
       "      <td>Thursday</td>\n",
       "      <td>2989</td>\n",
       "    </tr>\n",
       "    <tr>\n",
       "      <th>6</th>\n",
       "      <td>Friday</td>\n",
       "      <td>2839</td>\n",
       "    </tr>\n",
       "  </tbody>\n",
       "</table>\n",
       "</div>"
      ],
      "text/plain": [
       "   diaSemana  Total clicks\n",
       "0    Tuesday          5235\n",
       "1     Monday          4557\n",
       "2     Sunday          3966\n",
       "3  Wednesday          3482\n",
       "4   Saturday          3283\n",
       "5   Thursday          2989\n",
       "6     Friday          2839"
      ]
     },
     "execution_count": 25,
     "metadata": {},
     "output_type": "execute_result"
    }
   ],
   "source": [
    "grupo_clicks_por_dia=clks.groupby(['diaSemana'])['diaSemana'].count().sort_values(ascending=False).rename(\"Total clicks\").reset_index()\n",
    "grupo_clicks_por_dia.head(10) "
   ]
  },
  {
   "cell_type": "code",
   "execution_count": 55,
   "metadata": {},
   "outputs": [
    {
     "data": {
      "image/png": "[encoded data removed]",
      "text/plain": [
       "<matplotlib.figure.Figure at 0x7f2966d714a8>"
      ]
     },
     "metadata": {},
     "output_type": "display_data"
    }
   ],
   "source": [
    "ax = sns.barplot(x='diaSemana', y='Total clicks', data=grupo_clicks_por_dia)\n",
    "ax.set_title('Clicks totales según dia de la semana dede 5/3/19 al 13/3/19', fontsize = 25)\n",
    "ax.set_xlabel(\"Días de la Semana\", fontsize = 15)\n",
    "ax.set_ylabel(\"Clicks Totales\", fontsize = 15)\n",
    "ax.figure.set_size_inches(14, 5)\n",
    "for p in ax.patches:\n",
    "    ax.annotate(format(p.get_height()), (p.get_x() + p.get_width() / 2.,\n",
    "                                               p.get_height()), ha = 'center', va = 'center', xytext = (0, 10), textcoords = 'offset points')"
   ]
  },
  {
   "cell_type": "markdown",
   "metadata": {},
   "source": [
    "Vemos que los dias martes, lunes y domingos son los días que se efectuan más clicks"
   ]
  },
  {
   "cell_type": "code",
   "execution_count": 27,
   "metadata": {},
   "outputs": [
    {
     "data": {
      "text/html": [
       "<div>\n",
       "<style scoped>\n",
       "    .dataframe tbody tr th:only-of-type {\n",
       "        vertical-align: middle;\n",
       "    }\n",
       "\n",
       "    .dataframe tbody tr th {\n",
       "        vertical-align: top;\n",
       "    }\n",
       "\n",
       "    .dataframe thead th {\n",
       "        text-align: right;\n",
       "    }\n",
       "</style>\n",
       "<table border=\"1\" class=\"dataframe\">\n",
       "  <thead>\n",
       "    <tr style=\"text-align: right;\">\n",
       "      <th></th>\n",
       "      <th>hora</th>\n",
       "      <th>Total clicks</th>\n",
       "    </tr>\n",
       "  </thead>\n",
       "  <tbody>\n",
       "    <tr>\n",
       "      <th>0</th>\n",
       "      <td>1</td>\n",
       "      <td>4209</td>\n",
       "    </tr>\n",
       "    <tr>\n",
       "      <th>1</th>\n",
       "      <td>23</td>\n",
       "      <td>2726</td>\n",
       "    </tr>\n",
       "    <tr>\n",
       "      <th>2</th>\n",
       "      <td>2</td>\n",
       "      <td>2327</td>\n",
       "    </tr>\n",
       "    <tr>\n",
       "      <th>3</th>\n",
       "      <td>11</td>\n",
       "      <td>1455</td>\n",
       "    </tr>\n",
       "    <tr>\n",
       "      <th>4</th>\n",
       "      <td>22</td>\n",
       "      <td>1386</td>\n",
       "    </tr>\n",
       "    <tr>\n",
       "      <th>5</th>\n",
       "      <td>12</td>\n",
       "      <td>1199</td>\n",
       "    </tr>\n",
       "    <tr>\n",
       "      <th>6</th>\n",
       "      <td>10</td>\n",
       "      <td>1143</td>\n",
       "    </tr>\n",
       "    <tr>\n",
       "      <th>7</th>\n",
       "      <td>4</td>\n",
       "      <td>1079</td>\n",
       "    </tr>\n",
       "    <tr>\n",
       "      <th>8</th>\n",
       "      <td>16</td>\n",
       "      <td>966</td>\n",
       "    </tr>\n",
       "    <tr>\n",
       "      <th>9</th>\n",
       "      <td>15</td>\n",
       "      <td>959</td>\n",
       "    </tr>\n",
       "  </tbody>\n",
       "</table>\n",
       "</div>"
      ],
      "text/plain": [
       "   hora  Total clicks\n",
       "0     1          4209\n",
       "1    23          2726\n",
       "2     2          2327\n",
       "3    11          1455\n",
       "4    22          1386\n",
       "5    12          1199\n",
       "6    10          1143\n",
       "7     4          1079\n",
       "8    16           966\n",
       "9    15           959"
      ]
     },
     "execution_count": 27,
     "metadata": {},
     "output_type": "execute_result"
    }
   ],
   "source": [
    "grupo_clicks_por_hora=clks.groupby(['hora'])['diaSemana'].count().sort_values(ascending=False).rename(\"Total clicks\").reset_index()\n",
    "grupo_clicks_por_hora.head(10) "
   ]
  },
  {
   "cell_type": "code",
   "execution_count": 63,
   "metadata": {},
   "outputs": [
    {
     "data": {
      "image/png": "[encoded data removed]",
      "text/plain": [
       "<matplotlib.figure.Figure at 0x7f296448bef0>"
      ]
     },
     "metadata": {},
     "output_type": "display_data"
    }
   ],
   "source": [
    "ax = sns.barplot(x='hora', y='Total clicks', data=grupo_clicks_por_hora)\n",
    "ax.set_title('Clicks totales según la hora del dia de la semana dede 5/3/19 al 13/3/19', fontsize = 24)\n",
    "ax.set_xlabel(\"Días de la Semana\", fontsize = 13)\n",
    "ax.set_ylabel(\"Clicks Totales\", fontsize = 13)\n",
    "ax.figure.set_size_inches(16, 4)"
   ]
  },
  {
   "cell_type": "markdown",
   "metadata": {},
   "source": [
    "Vemos que las horas en las cuales los usuarios hacen más clicks son: 1 23 y 2 de la mañana"
   ]
  },
  {
   "cell_type": "code",
   "execution_count": 29,
   "metadata": {},
   "outputs": [
    {
     "data": {
      "text/html": [
       "<div>\n",
       "<style scoped>\n",
       "    .dataframe tbody tr th:only-of-type {\n",
       "        vertical-align: middle;\n",
       "    }\n",
       "\n",
       "    .dataframe tbody tr th {\n",
       "        vertical-align: top;\n",
       "    }\n",
       "\n",
       "    .dataframe thead th {\n",
       "        text-align: right;\n",
       "    }\n",
       "</style>\n",
       "<table border=\"1\" class=\"dataframe\">\n",
       "  <thead>\n",
       "    <tr style=\"text-align: right;\">\n",
       "      <th></th>\n",
       "      <th>diaSemana</th>\n",
       "      <th>hora</th>\n",
       "      <th>Total clicks</th>\n",
       "    </tr>\n",
       "  </thead>\n",
       "  <tbody>\n",
       "    <tr>\n",
       "      <th>0</th>\n",
       "      <td>Thursday</td>\n",
       "      <td>23</td>\n",
       "      <td>2172</td>\n",
       "    </tr>\n",
       "    <tr>\n",
       "      <th>1</th>\n",
       "      <td>Saturday</td>\n",
       "      <td>1</td>\n",
       "      <td>1154</td>\n",
       "    </tr>\n",
       "    <tr>\n",
       "      <th>2</th>\n",
       "      <td>Friday</td>\n",
       "      <td>1</td>\n",
       "      <td>988</td>\n",
       "    </tr>\n",
       "    <tr>\n",
       "      <th>3</th>\n",
       "      <td>Sunday</td>\n",
       "      <td>2</td>\n",
       "      <td>887</td>\n",
       "    </tr>\n",
       "    <tr>\n",
       "      <th>4</th>\n",
       "      <td>Monday</td>\n",
       "      <td>1</td>\n",
       "      <td>878</td>\n",
       "    </tr>\n",
       "  </tbody>\n",
       "</table>\n",
       "</div>"
      ],
      "text/plain": [
       "  diaSemana  hora  Total clicks\n",
       "0  Thursday    23          2172\n",
       "1  Saturday     1          1154\n",
       "2    Friday     1           988\n",
       "3    Sunday     2           887\n",
       "4    Monday     1           878"
      ]
     },
     "execution_count": 29,
     "metadata": {},
     "output_type": "execute_result"
    }
   ],
   "source": [
    "grupo_clicks_por_dia_hora=clks.groupby(['diaSemana','hora'])['hora'].count().sort_values(ascending=False).rename(\"Total clicks\").reset_index()\n",
    "grupo_clicks_por_dia_hora.head(5) "
   ]
  },
  {
   "cell_type": "code",
   "execution_count": 30,
   "metadata": {
    "scrolled": true
   },
   "outputs": [
    {
     "data": {
      "image/png": "[encoded data removed]",
      "text/plain": [
       "<matplotlib.figure.Figure at 0x7f2963a24208>"
      ]
     },
     "metadata": {},
     "output_type": "display_data"
    }
   ],
   "source": [
    "grid = sns.FacetGrid(clks,col=\"diaSemana\", col_wrap=4, margin_titles=True,sharex=False)\n",
    "\n",
    "grid.map(plt.hist,\"hora\",bins=np.linspace(0, 23,15),color=\"m\");\n"
   ]
  },
  {
   "cell_type": "markdown",
   "metadata": {},
   "source": [
    "En los graficos anteriores vemos que la disrtibución de los clicks para cada dia según la hora"
   ]
  },
  {
   "cell_type": "code",
   "execution_count": null,
   "metadata": {},
   "outputs": [],
   "source": []
  },
  {
   "cell_type": "markdown",
   "metadata": {},
   "source": [
    "# Análisis sobre las subastas"
   ]
  },
  {
   "cell_type": "code",
   "execution_count": 31,
   "metadata": {},
   "outputs": [
    {
     "data": {
      "text/html": [
       "<div>\n",
       "<style scoped>\n",
       "    .dataframe tbody tr th:only-of-type {\n",
       "        vertical-align: middle;\n",
       "    }\n",
       "\n",
       "    .dataframe tbody tr th {\n",
       "        vertical-align: top;\n",
       "    }\n",
       "\n",
       "    .dataframe thead th {\n",
       "        text-align: right;\n",
       "    }\n",
       "</style>\n",
       "<table border=\"1\" class=\"dataframe\">\n",
       "  <thead>\n",
       "    <tr style=\"text-align: right;\">\n",
       "      <th></th>\n",
       "      <th>platform</th>\n",
       "      <th>source_id</th>\n",
       "    </tr>\n",
       "  </thead>\n",
       "  <tbody>\n",
       "    <tr>\n",
       "      <th>count</th>\n",
       "      <td>1.957132e+07</td>\n",
       "      <td>1.957132e+07</td>\n",
       "    </tr>\n",
       "    <tr>\n",
       "      <th>mean</th>\n",
       "      <td>1.205888e+00</td>\n",
       "      <td>6.857898e-01</td>\n",
       "    </tr>\n",
       "    <tr>\n",
       "      <th>std</th>\n",
       "      <td>4.043488e-01</td>\n",
       "      <td>1.416215e+00</td>\n",
       "    </tr>\n",
       "    <tr>\n",
       "      <th>min</th>\n",
       "      <td>1.000000e+00</td>\n",
       "      <td>0.000000e+00</td>\n",
       "    </tr>\n",
       "    <tr>\n",
       "      <th>25%</th>\n",
       "      <td>1.000000e+00</td>\n",
       "      <td>0.000000e+00</td>\n",
       "    </tr>\n",
       "    <tr>\n",
       "      <th>50%</th>\n",
       "      <td>1.000000e+00</td>\n",
       "      <td>0.000000e+00</td>\n",
       "    </tr>\n",
       "    <tr>\n",
       "      <th>75%</th>\n",
       "      <td>1.000000e+00</td>\n",
       "      <td>1.000000e+00</td>\n",
       "    </tr>\n",
       "    <tr>\n",
       "      <th>max</th>\n",
       "      <td>2.000000e+00</td>\n",
       "      <td>6.000000e+00</td>\n",
       "    </tr>\n",
       "  </tbody>\n",
       "</table>\n",
       "</div>"
      ],
      "text/plain": [
       "           platform     source_id\n",
       "count  1.957132e+07  1.957132e+07\n",
       "mean   1.205888e+00  6.857898e-01\n",
       "std    4.043488e-01  1.416215e+00\n",
       "min    1.000000e+00  0.000000e+00\n",
       "25%    1.000000e+00  0.000000e+00\n",
       "50%    1.000000e+00  0.000000e+00\n",
       "75%    1.000000e+00  1.000000e+00\n",
       "max    2.000000e+00  6.000000e+00"
      ]
     },
     "execution_count": 31,
     "metadata": {},
     "output_type": "execute_result"
    }
   ],
   "source": [
    "subs.describe()"
   ]
  },
  {
   "cell_type": "code",
   "execution_count": 32,
   "metadata": {},
   "outputs": [
    {
     "data": {
      "text/plain": [
       "date         19571319\n",
       "platform     19571319\n",
       "source_id    19571319\n",
       "dtype: int64"
      ]
     },
     "execution_count": 32,
     "metadata": {},
     "output_type": "execute_result"
    }
   ],
   "source": [
    "subs.count()"
   ]
  },
  {
   "cell_type": "markdown",
   "metadata": {},
   "source": [
    "## Veo que información puedo obtener de los días y horarios en que se realizan las subastas"
   ]
  },
  {
   "cell_type": "code",
   "execution_count": 33,
   "metadata": {},
   "outputs": [
    {
     "data": {
      "text/plain": [
       "195713270"
      ]
     },
     "execution_count": 33,
     "metadata": {},
     "output_type": "execute_result"
    }
   ],
   "source": [
    "subs.memory_usage(deep=True).sum()"
   ]
  },
  {
   "cell_type": "code",
   "execution_count": 34,
   "metadata": {},
   "outputs": [
    {
     "data": {
      "text/html": [
       "<div>\n",
       "<style scoped>\n",
       "    .dataframe tbody tr th:only-of-type {\n",
       "        vertical-align: middle;\n",
       "    }\n",
       "\n",
       "    .dataframe tbody tr th {\n",
       "        vertical-align: top;\n",
       "    }\n",
       "\n",
       "    .dataframe thead th {\n",
       "        text-align: right;\n",
       "    }\n",
       "</style>\n",
       "<table border=\"1\" class=\"dataframe\">\n",
       "  <thead>\n",
       "    <tr style=\"text-align: right;\">\n",
       "      <th></th>\n",
       "      <th>date</th>\n",
       "      <th>platform</th>\n",
       "      <th>source_id</th>\n",
       "      <th>año</th>\n",
       "      <th>mes</th>\n",
       "      <th>día</th>\n",
       "      <th>hora</th>\n",
       "      <th>minuto</th>\n",
       "      <th>diaSemana</th>\n",
       "    </tr>\n",
       "  </thead>\n",
       "  <tbody>\n",
       "    <tr>\n",
       "      <th>0</th>\n",
       "      <td>2019-03-11 14:18:33.290763</td>\n",
       "      <td>1</td>\n",
       "      <td>0</td>\n",
       "      <td>2019</td>\n",
       "      <td>3</td>\n",
       "      <td>11</td>\n",
       "      <td>14</td>\n",
       "      <td>18</td>\n",
       "      <td>Monday</td>\n",
       "    </tr>\n",
       "    <tr>\n",
       "      <th>1</th>\n",
       "      <td>2019-03-11 14:18:34.440157</td>\n",
       "      <td>1</td>\n",
       "      <td>0</td>\n",
       "      <td>2019</td>\n",
       "      <td>3</td>\n",
       "      <td>11</td>\n",
       "      <td>14</td>\n",
       "      <td>18</td>\n",
       "      <td>Monday</td>\n",
       "    </tr>\n",
       "    <tr>\n",
       "      <th>2</th>\n",
       "      <td>2019-03-11 14:18:35.862360</td>\n",
       "      <td>1</td>\n",
       "      <td>0</td>\n",
       "      <td>2019</td>\n",
       "      <td>3</td>\n",
       "      <td>11</td>\n",
       "      <td>14</td>\n",
       "      <td>18</td>\n",
       "      <td>Monday</td>\n",
       "    </tr>\n",
       "    <tr>\n",
       "      <th>3</th>\n",
       "      <td>2019-03-11 14:18:36.167163</td>\n",
       "      <td>1</td>\n",
       "      <td>0</td>\n",
       "      <td>2019</td>\n",
       "      <td>3</td>\n",
       "      <td>11</td>\n",
       "      <td>14</td>\n",
       "      <td>18</td>\n",
       "      <td>Monday</td>\n",
       "    </tr>\n",
       "    <tr>\n",
       "      <th>4</th>\n",
       "      <td>2019-03-11 14:18:37.728590</td>\n",
       "      <td>1</td>\n",
       "      <td>0</td>\n",
       "      <td>2019</td>\n",
       "      <td>3</td>\n",
       "      <td>11</td>\n",
       "      <td>14</td>\n",
       "      <td>18</td>\n",
       "      <td>Monday</td>\n",
       "    </tr>\n",
       "  </tbody>\n",
       "</table>\n",
       "</div>"
      ],
      "text/plain": [
       "                        date  platform  source_id   año mes día hora minuto  \\\n",
       "0 2019-03-11 14:18:33.290763         1          0  2019   3  11   14     18   \n",
       "1 2019-03-11 14:18:34.440157         1          0  2019   3  11   14     18   \n",
       "2 2019-03-11 14:18:35.862360         1          0  2019   3  11   14     18   \n",
       "3 2019-03-11 14:18:36.167163         1          0  2019   3  11   14     18   \n",
       "4 2019-03-11 14:18:37.728590         1          0  2019   3  11   14     18   \n",
       "\n",
       "  diaSemana  \n",
       "0    Monday  \n",
       "1    Monday  \n",
       "2    Monday  \n",
       "3    Monday  \n",
       "4    Monday  "
      ]
     },
     "execution_count": 34,
     "metadata": {},
     "output_type": "execute_result"
    }
   ],
   "source": [
    "subs['año'] = pd.DatetimeIndex(subs['date']).year.astype('category')\n",
    "subs['mes'] =subs['date'].dt.month.astype('category')\n",
    "subs['día'] = subs['date'].dt.day.astype('category')\n",
    "subs['hora'] = subs['date'].dt.hour.astype('category')\n",
    "subs['minuto'] = subs['date'].dt.minute.astype('category')\n",
    "subs['diaSemana'] = subs['date'].dt.weekday_name.astype('category')\n",
    "subs.head()"
   ]
  },
  {
   "cell_type": "code",
   "execution_count": 35,
   "metadata": {},
   "outputs": [
    {
     "data": {
      "text/plain": [
       "313146393"
      ]
     },
     "execution_count": 35,
     "metadata": {},
     "output_type": "execute_result"
    }
   ],
   "source": [
    "subs.memory_usage(deep=True).sum()"
   ]
  },
  {
   "cell_type": "code",
   "execution_count": 36,
   "metadata": {},
   "outputs": [
    {
     "name": "stdout",
     "output_type": "stream",
     "text": [
      "<class 'pandas.core.frame.DataFrame'>\n",
      "RangeIndex: 19571319 entries, 0 to 19571318\n",
      "Data columns (total 9 columns):\n",
      "date         datetime64[ns]\n",
      "platform     int8\n",
      "source_id    int8\n",
      "año          category\n",
      "mes          category\n",
      "día          category\n",
      "hora         category\n",
      "minuto       category\n",
      "diaSemana    category\n",
      "dtypes: category(6), datetime64[ns](1), int8(2)\n",
      "memory usage: 298.6 MB\n"
     ]
    }
   ],
   "source": [
    "subs.info()"
   ]
  },
  {
   "cell_type": "code",
   "execution_count": 37,
   "metadata": {},
   "outputs": [
    {
     "data": {
      "text/plain": [
       "313146393"
      ]
     },
     "execution_count": 37,
     "metadata": {},
     "output_type": "execute_result"
    }
   ],
   "source": [
    "subs.memory_usage(deep=True).sum()"
   ]
  },
  {
   "cell_type": "code",
   "execution_count": 38,
   "metadata": {},
   "outputs": [
    {
     "data": {
      "text/html": [
       "<div>\n",
       "<style scoped>\n",
       "    .dataframe tbody tr th:only-of-type {\n",
       "        vertical-align: middle;\n",
       "    }\n",
       "\n",
       "    .dataframe tbody tr th {\n",
       "        vertical-align: top;\n",
       "    }\n",
       "\n",
       "    .dataframe thead th {\n",
       "        text-align: right;\n",
       "    }\n",
       "</style>\n",
       "<table border=\"1\" class=\"dataframe\">\n",
       "  <thead>\n",
       "    <tr style=\"text-align: right;\">\n",
       "      <th></th>\n",
       "      <th>hora</th>\n",
       "      <th>Total subastas</th>\n",
       "    </tr>\n",
       "  </thead>\n",
       "  <tbody>\n",
       "    <tr>\n",
       "      <th>0</th>\n",
       "      <td>2</td>\n",
       "      <td>1388464</td>\n",
       "    </tr>\n",
       "    <tr>\n",
       "      <th>1</th>\n",
       "      <td>1</td>\n",
       "      <td>1371091</td>\n",
       "    </tr>\n",
       "    <tr>\n",
       "      <th>2</th>\n",
       "      <td>23</td>\n",
       "      <td>1173841</td>\n",
       "    </tr>\n",
       "    <tr>\n",
       "      <th>3</th>\n",
       "      <td>22</td>\n",
       "      <td>1108219</td>\n",
       "    </tr>\n",
       "    <tr>\n",
       "      <th>4</th>\n",
       "      <td>3</td>\n",
       "      <td>1027541</td>\n",
       "    </tr>\n",
       "    <tr>\n",
       "      <th>5</th>\n",
       "      <td>21</td>\n",
       "      <td>1015053</td>\n",
       "    </tr>\n",
       "    <tr>\n",
       "      <th>6</th>\n",
       "      <td>0</td>\n",
       "      <td>1005716</td>\n",
       "    </tr>\n",
       "    <tr>\n",
       "      <th>7</th>\n",
       "      <td>19</td>\n",
       "      <td>994381</td>\n",
       "    </tr>\n",
       "    <tr>\n",
       "      <th>8</th>\n",
       "      <td>18</td>\n",
       "      <td>989528</td>\n",
       "    </tr>\n",
       "    <tr>\n",
       "      <th>9</th>\n",
       "      <td>17</td>\n",
       "      <td>967539</td>\n",
       "    </tr>\n",
       "  </tbody>\n",
       "</table>\n",
       "</div>"
      ],
      "text/plain": [
       "  hora  Total subastas\n",
       "0    2         1388464\n",
       "1    1         1371091\n",
       "2   23         1173841\n",
       "3   22         1108219\n",
       "4    3         1027541\n",
       "5   21         1015053\n",
       "6    0         1005716\n",
       "7   19          994381\n",
       "8   18          989528\n",
       "9   17          967539"
      ]
     },
     "execution_count": 38,
     "metadata": {},
     "output_type": "execute_result"
    }
   ],
   "source": [
    "grupo_subastas_por_hora=subs.groupby(['hora'])['diaSemana'].count().sort_values(ascending=False).rename(\"Total subastas\").reset_index()\n",
    "grupo_subastas_por_hora.head(10) "
   ]
  },
  {
   "cell_type": "code",
   "execution_count": 39,
   "metadata": {},
   "outputs": [
    {
     "data": {
      "text/html": [
       "<div>\n",
       "<style scoped>\n",
       "    .dataframe tbody tr th:only-of-type {\n",
       "        vertical-align: middle;\n",
       "    }\n",
       "\n",
       "    .dataframe tbody tr th {\n",
       "        vertical-align: top;\n",
       "    }\n",
       "\n",
       "    .dataframe thead th {\n",
       "        text-align: right;\n",
       "    }\n",
       "</style>\n",
       "<table border=\"1\" class=\"dataframe\">\n",
       "  <thead>\n",
       "    <tr style=\"text-align: right;\">\n",
       "      <th></th>\n",
       "      <th>diaSemana</th>\n",
       "      <th>Totalauctions</th>\n",
       "    </tr>\n",
       "  </thead>\n",
       "  <tbody>\n",
       "    <tr>\n",
       "      <th>0</th>\n",
       "      <td>Wednesday</td>\n",
       "      <td>3971343</td>\n",
       "    </tr>\n",
       "    <tr>\n",
       "      <th>1</th>\n",
       "      <td>Tuesday</td>\n",
       "      <td>3962311</td>\n",
       "    </tr>\n",
       "    <tr>\n",
       "      <th>2</th>\n",
       "      <td>Sunday</td>\n",
       "      <td>2637534</td>\n",
       "    </tr>\n",
       "    <tr>\n",
       "      <th>3</th>\n",
       "      <td>Monday</td>\n",
       "      <td>2574916</td>\n",
       "    </tr>\n",
       "    <tr>\n",
       "      <th>4</th>\n",
       "      <td>Friday</td>\n",
       "      <td>2303002</td>\n",
       "    </tr>\n",
       "  </tbody>\n",
       "</table>\n",
       "</div>"
      ],
      "text/plain": [
       "   diaSemana  Totalauctions\n",
       "0  Wednesday        3971343\n",
       "1    Tuesday        3962311\n",
       "2     Sunday        2637534\n",
       "3     Monday        2574916\n",
       "4     Friday        2303002"
      ]
     },
     "execution_count": 39,
     "metadata": {},
     "output_type": "execute_result"
    }
   ],
   "source": [
    "grupo_auctions_por_dia=subs.groupby(['diaSemana'])['diaSemana'].count().sort_values(ascending=False).rename(\"Totalauctions\").reset_index()\n",
    "grupo_auctions_por_dia.head() "
   ]
  },
  {
   "cell_type": "code",
   "execution_count": 53,
   "metadata": {
    "scrolled": false
   },
   "outputs": [
    {
     "data": {
      "image/png": "[encoded data removed]",
      "text/plain": [
       "<matplotlib.figure.Figure at 0x7f296a0c99e8>"
      ]
     },
     "metadata": {},
     "output_type": "display_data"
    }
   ],
   "source": [
    "ax = sns.barplot(x='diaSemana', y='Totalauctions', data=grupo_auctions_por_dia)\n",
    "ax.set_title('Subastas totales según dia de la semana dede 5/3/19 al 13/3/19', fontsize = 20)\n",
    "ax.set_xlabel(\"Días de la Semana\", fontsize = 15)\n",
    "ax.set_ylabel(\"Subastas Totales\", fontsize = 15)\n",
    "ax.figure.set_size_inches(12, 7)"
   ]
  },
  {
   "cell_type": "code",
   "execution_count": 41,
   "metadata": {},
   "outputs": [],
   "source": [
    "subs['hora']=subs['hora'].astype('int8')"
   ]
  },
  {
   "cell_type": "code",
   "execution_count": 42,
   "metadata": {},
   "outputs": [
    {
     "data": {
      "text/html": [
       "<div>\n",
       "<style scoped>\n",
       "    .dataframe tbody tr th:only-of-type {\n",
       "        vertical-align: middle;\n",
       "    }\n",
       "\n",
       "    .dataframe tbody tr th {\n",
       "        vertical-align: top;\n",
       "    }\n",
       "\n",
       "    .dataframe thead th {\n",
       "        text-align: right;\n",
       "    }\n",
       "</style>\n",
       "<table border=\"1\" class=\"dataframe\">\n",
       "  <thead>\n",
       "    <tr style=\"text-align: right;\">\n",
       "      <th></th>\n",
       "      <th>diaSemana</th>\n",
       "      <th>hora</th>\n",
       "      <th>Subastas totales</th>\n",
       "    </tr>\n",
       "  </thead>\n",
       "  <tbody>\n",
       "    <tr>\n",
       "      <th>0</th>\n",
       "      <td>Tuesday</td>\n",
       "      <td>1</td>\n",
       "      <td>356341</td>\n",
       "    </tr>\n",
       "    <tr>\n",
       "      <th>1</th>\n",
       "      <td>Wednesday</td>\n",
       "      <td>1</td>\n",
       "      <td>333339</td>\n",
       "    </tr>\n",
       "    <tr>\n",
       "      <th>2</th>\n",
       "      <td>Wednesday</td>\n",
       "      <td>2</td>\n",
       "      <td>329299</td>\n",
       "    </tr>\n",
       "    <tr>\n",
       "      <th>3</th>\n",
       "      <td>Tuesday</td>\n",
       "      <td>2</td>\n",
       "      <td>318415</td>\n",
       "    </tr>\n",
       "    <tr>\n",
       "      <th>4</th>\n",
       "      <td>Tuesday</td>\n",
       "      <td>23</td>\n",
       "      <td>248071</td>\n",
       "    </tr>\n",
       "  </tbody>\n",
       "</table>\n",
       "</div>"
      ],
      "text/plain": [
       "   diaSemana  hora  Subastas totales\n",
       "0    Tuesday     1            356341\n",
       "1  Wednesday     1            333339\n",
       "2  Wednesday     2            329299\n",
       "3    Tuesday     2            318415\n",
       "4    Tuesday    23            248071"
      ]
     },
     "execution_count": 42,
     "metadata": {},
     "output_type": "execute_result"
    }
   ],
   "source": [
    "grupo_auctions_por_hora=subs.groupby(['diaSemana','hora'])['hora'].count().sort_values(ascending=False).rename(\"Subastas totales\").reset_index()\n",
    "grupo_auctions_por_hora.head(5) "
   ]
  },
  {
   "cell_type": "code",
   "execution_count": 43,
   "metadata": {
    "scrolled": true
   },
   "outputs": [
    {
     "data": {
      "image/png": "[encoded data removed]",
      "text/plain": [
       "<matplotlib.figure.Figure at 0x7f296d40dd30>"
      ]
     },
     "metadata": {},
     "output_type": "display_data"
    }
   ],
   "source": [
    "df2 = grupo_auctions_por_hora[['diaSemana', 'hora','Subastas totales']]\n",
    "heatmap2_data = pd.pivot_table(df2,values='Subastas totales', index=['diaSemana'], columns={'hora'})\n",
    "heatmap2_data.head(n=5)\n",
    "ax=sns.heatmap(heatmap2_data, cmap=\"BuGn\")\n",
    "ax.set_title('subastas totales según dia y hora de la semana dede 5/3/19 al 13/3/19')\n",
    "ax.figure.set_size_inches(16, 4)"
   ]
  },
  {
   "cell_type": "markdown",
   "metadata": {},
   "source": [
    "En el grafico anterior se puede ver un heat map de las subastas por dia y hora. Se ve que las subastas se son mayores en los dias martes y miercoles . La horas picos son de entre las 0 y las 3 am"
   ]
  },
  {
   "cell_type": "code",
   "execution_count": 44,
   "metadata": {},
   "outputs": [
    {
     "data": {
      "image/png": "[encoded data removed]",
      "text/plain": [
       "<matplotlib.figure.Figure at 0x7f296de3fc50>"
      ]
     },
     "metadata": {},
     "output_type": "display_data"
    }
   ],
   "source": [
    "grid = sns.FacetGrid(subs,col=\"diaSemana\", col_wrap=4, margin_titles=True,sharex=False)\n",
    "\n",
    "grid.map(plt.hist,\"hora\",bins=np.linspace(0, 23,15),color=\"m\");"
   ]
  },
  {
   "cell_type": "code",
   "execution_count": 56,
   "metadata": {},
   "outputs": [
    {
     "data": {
      "text/html": [
       "<div>\n",
       "<style scoped>\n",
       "    .dataframe tbody tr th:only-of-type {\n",
       "        vertical-align: middle;\n",
       "    }\n",
       "\n",
       "    .dataframe tbody tr th {\n",
       "        vertical-align: top;\n",
       "    }\n",
       "\n",
       "    .dataframe thead th {\n",
       "        text-align: right;\n",
       "    }\n",
       "</style>\n",
       "<table border=\"1\" class=\"dataframe\">\n",
       "  <thead>\n",
       "    <tr style=\"text-align: right;\">\n",
       "      <th></th>\n",
       "      <th>day</th>\n",
       "      <th>hour</th>\n",
       "      <th>date</th>\n",
       "      <th>platform</th>\n",
       "      <th>source_id</th>\n",
       "      <th>año</th>\n",
       "      <th>mes</th>\n",
       "      <th>día</th>\n",
       "      <th>hora</th>\n",
       "      <th>minuto</th>\n",
       "      <th>diaSemana</th>\n",
       "    </tr>\n",
       "  </thead>\n",
       "  <tbody>\n",
       "    <tr>\n",
       "      <th>0</th>\n",
       "      <td>5</td>\n",
       "      <td>0</td>\n",
       "      <td>14859</td>\n",
       "      <td>14859</td>\n",
       "      <td>14859</td>\n",
       "      <td>14859</td>\n",
       "      <td>14859</td>\n",
       "      <td>14859</td>\n",
       "      <td>14859</td>\n",
       "      <td>14859</td>\n",
       "      <td>14859</td>\n",
       "    </tr>\n",
       "    <tr>\n",
       "      <th>1</th>\n",
       "      <td>5</td>\n",
       "      <td>1</td>\n",
       "      <td>174893</td>\n",
       "      <td>174893</td>\n",
       "      <td>174893</td>\n",
       "      <td>174893</td>\n",
       "      <td>174893</td>\n",
       "      <td>174893</td>\n",
       "      <td>174893</td>\n",
       "      <td>174893</td>\n",
       "      <td>174893</td>\n",
       "    </tr>\n",
       "    <tr>\n",
       "      <th>2</th>\n",
       "      <td>5</td>\n",
       "      <td>2</td>\n",
       "      <td>155339</td>\n",
       "      <td>155339</td>\n",
       "      <td>155339</td>\n",
       "      <td>155339</td>\n",
       "      <td>155339</td>\n",
       "      <td>155339</td>\n",
       "      <td>155339</td>\n",
       "      <td>155339</td>\n",
       "      <td>155339</td>\n",
       "    </tr>\n",
       "    <tr>\n",
       "      <th>3</th>\n",
       "      <td>5</td>\n",
       "      <td>3</td>\n",
       "      <td>108498</td>\n",
       "      <td>108498</td>\n",
       "      <td>108498</td>\n",
       "      <td>108498</td>\n",
       "      <td>108498</td>\n",
       "      <td>108498</td>\n",
       "      <td>108498</td>\n",
       "      <td>108498</td>\n",
       "      <td>108498</td>\n",
       "    </tr>\n",
       "    <tr>\n",
       "      <th>4</th>\n",
       "      <td>5</td>\n",
       "      <td>4</td>\n",
       "      <td>74230</td>\n",
       "      <td>74230</td>\n",
       "      <td>74230</td>\n",
       "      <td>74230</td>\n",
       "      <td>74230</td>\n",
       "      <td>74230</td>\n",
       "      <td>74230</td>\n",
       "      <td>74230</td>\n",
       "      <td>74230</td>\n",
       "    </tr>\n",
       "  </tbody>\n",
       "</table>\n",
       "</div>"
      ],
      "text/plain": [
       "   day  hour    date  platform  source_id     año     mes     día    hora  \\\n",
       "0    5     0   14859     14859      14859   14859   14859   14859   14859   \n",
       "1    5     1  174893    174893     174893  174893  174893  174893  174893   \n",
       "2    5     2  155339    155339     155339  155339  155339  155339  155339   \n",
       "3    5     3  108498    108498     108498  108498  108498  108498  108498   \n",
       "4    5     4   74230     74230      74230   74230   74230   74230   74230   \n",
       "\n",
       "   minuto  diaSemana  \n",
       "0   14859      14859  \n",
       "1  174893     174893  \n",
       "2  155339     155339  \n",
       "3  108498     108498  \n",
       "4   74230      74230  "
      ]
     },
     "execution_count": 56,
     "metadata": {},
     "output_type": "execute_result"
    }
   ],
   "source": [
    "subs['day'] = pd.to_datetime(subs['date'], format='%Y%m%d %H:%M:%S.%f').dt.day\n",
    "subs['hour'] = pd.to_datetime(subs['date'], format='%Y%m%d %H:%M:%S.%f').dt.hour\n",
    "subs_counts = subs.groupby(['day', 'hour']).count()\n",
    "subs_counts = subs_counts.reset_index()\n",
    "subs_counts.head()"
   ]
  },
  {
   "cell_type": "code",
   "execution_count": 58,
   "metadata": {},
   "outputs": [
    {
     "data": {
      "text/html": [
       "<div>\n",
       "<style scoped>\n",
       "    .dataframe tbody tr th:only-of-type {\n",
       "        vertical-align: middle;\n",
       "    }\n",
       "\n",
       "    .dataframe tbody tr th {\n",
       "        vertical-align: top;\n",
       "    }\n",
       "\n",
       "    .dataframe thead th {\n",
       "        text-align: right;\n",
       "    }\n",
       "</style>\n",
       "<table border=\"1\" class=\"dataframe\">\n",
       "  <thead>\n",
       "    <tr style=\"text-align: right;\">\n",
       "      <th>hour</th>\n",
       "      <th>0</th>\n",
       "      <th>1</th>\n",
       "      <th>2</th>\n",
       "      <th>3</th>\n",
       "      <th>4</th>\n",
       "      <th>5</th>\n",
       "      <th>6</th>\n",
       "      <th>7</th>\n",
       "      <th>8</th>\n",
       "      <th>9</th>\n",
       "      <th>...</th>\n",
       "      <th>14</th>\n",
       "      <th>15</th>\n",
       "      <th>16</th>\n",
       "      <th>17</th>\n",
       "      <th>18</th>\n",
       "      <th>19</th>\n",
       "      <th>20</th>\n",
       "      <th>21</th>\n",
       "      <th>22</th>\n",
       "      <th>23</th>\n",
       "    </tr>\n",
       "    <tr>\n",
       "      <th>day</th>\n",
       "      <th></th>\n",
       "      <th></th>\n",
       "      <th></th>\n",
       "      <th></th>\n",
       "      <th></th>\n",
       "      <th></th>\n",
       "      <th></th>\n",
       "      <th></th>\n",
       "      <th></th>\n",
       "      <th></th>\n",
       "      <th></th>\n",
       "      <th></th>\n",
       "      <th></th>\n",
       "      <th></th>\n",
       "      <th></th>\n",
       "      <th></th>\n",
       "      <th></th>\n",
       "      <th></th>\n",
       "      <th></th>\n",
       "      <th></th>\n",
       "      <th></th>\n",
       "    </tr>\n",
       "  </thead>\n",
       "  <tbody>\n",
       "    <tr>\n",
       "      <th>5</th>\n",
       "      <td>14859</td>\n",
       "      <td>174893</td>\n",
       "      <td>155339</td>\n",
       "      <td>108498</td>\n",
       "      <td>74230</td>\n",
       "      <td>52970</td>\n",
       "      <td>38836</td>\n",
       "      <td>29149</td>\n",
       "      <td>25668</td>\n",
       "      <td>25213</td>\n",
       "      <td>...</td>\n",
       "      <td>20191</td>\n",
       "      <td>21520</td>\n",
       "      <td>24486</td>\n",
       "      <td>25590</td>\n",
       "      <td>27850</td>\n",
       "      <td>27216</td>\n",
       "      <td>32064</td>\n",
       "      <td>34112</td>\n",
       "      <td>32031</td>\n",
       "      <td>33081</td>\n",
       "    </tr>\n",
       "    <tr>\n",
       "      <th>6</th>\n",
       "      <td>34045</td>\n",
       "      <td>121530</td>\n",
       "      <td>144125</td>\n",
       "      <td>105575</td>\n",
       "      <td>79694</td>\n",
       "      <td>49859</td>\n",
       "      <td>32616</td>\n",
       "      <td>22241</td>\n",
       "      <td>19658</td>\n",
       "      <td>25923</td>\n",
       "      <td>...</td>\n",
       "      <td>15835</td>\n",
       "      <td>18415</td>\n",
       "      <td>19282</td>\n",
       "      <td>19893</td>\n",
       "      <td>21387</td>\n",
       "      <td>21257</td>\n",
       "      <td>25604</td>\n",
       "      <td>28133</td>\n",
       "      <td>27221</td>\n",
       "      <td>26983</td>\n",
       "    </tr>\n",
       "    <tr>\n",
       "      <th>7</th>\n",
       "      <td>33714</td>\n",
       "      <td>73944</td>\n",
       "      <td>117576</td>\n",
       "      <td>105663</td>\n",
       "      <td>69720</td>\n",
       "      <td>48781</td>\n",
       "      <td>30441</td>\n",
       "      <td>23366</td>\n",
       "      <td>25644</td>\n",
       "      <td>39185</td>\n",
       "      <td>...</td>\n",
       "      <td>107234</td>\n",
       "      <td>116834</td>\n",
       "      <td>120279</td>\n",
       "      <td>122796</td>\n",
       "      <td>118613</td>\n",
       "      <td>113646</td>\n",
       "      <td>110337</td>\n",
       "      <td>118925</td>\n",
       "      <td>128495</td>\n",
       "      <td>119828</td>\n",
       "    </tr>\n",
       "    <tr>\n",
       "      <th>8</th>\n",
       "      <td>147676</td>\n",
       "      <td>179568</td>\n",
       "      <td>132846</td>\n",
       "      <td>96914</td>\n",
       "      <td>66466</td>\n",
       "      <td>44932</td>\n",
       "      <td>28167</td>\n",
       "      <td>21769</td>\n",
       "      <td>22414</td>\n",
       "      <td>33677</td>\n",
       "      <td>...</td>\n",
       "      <td>90983</td>\n",
       "      <td>105656</td>\n",
       "      <td>112503</td>\n",
       "      <td>115820</td>\n",
       "      <td>112643</td>\n",
       "      <td>116859</td>\n",
       "      <td>126961</td>\n",
       "      <td>141799</td>\n",
       "      <td>150264</td>\n",
       "      <td>171646</td>\n",
       "    </tr>\n",
       "    <tr>\n",
       "      <th>9</th>\n",
       "      <td>159540</td>\n",
       "      <td>154556</td>\n",
       "      <td>137265</td>\n",
       "      <td>100093</td>\n",
       "      <td>72865</td>\n",
       "      <td>52740</td>\n",
       "      <td>35537</td>\n",
       "      <td>30032</td>\n",
       "      <td>29218</td>\n",
       "      <td>30745</td>\n",
       "      <td>...</td>\n",
       "      <td>114978</td>\n",
       "      <td>131906</td>\n",
       "      <td>140556</td>\n",
       "      <td>151099</td>\n",
       "      <td>169759</td>\n",
       "      <td>146123</td>\n",
       "      <td>31244</td>\n",
       "      <td>30868</td>\n",
       "      <td>31956</td>\n",
       "      <td>38739</td>\n",
       "    </tr>\n",
       "  </tbody>\n",
       "</table>\n",
       "<p>5 rows × 24 columns</p>\n",
       "</div>"
      ],
      "text/plain": [
       "hour      0       1       2       3      4      5      6      7      8   \\\n",
       "day                                                                       \n",
       "5      14859  174893  155339  108498  74230  52970  38836  29149  25668   \n",
       "6      34045  121530  144125  105575  79694  49859  32616  22241  19658   \n",
       "7      33714   73944  117576  105663  69720  48781  30441  23366  25644   \n",
       "8     147676  179568  132846   96914  66466  44932  28167  21769  22414   \n",
       "9     159540  154556  137265  100093  72865  52740  35537  30032  29218   \n",
       "\n",
       "hour     9   ...      14      15      16      17      18      19      20  \\\n",
       "day          ...                                                           \n",
       "5     25213  ...   20191   21520   24486   25590   27850   27216   32064   \n",
       "6     25923  ...   15835   18415   19282   19893   21387   21257   25604   \n",
       "7     39185  ...  107234  116834  120279  122796  118613  113646  110337   \n",
       "8     33677  ...   90983  105656  112503  115820  112643  116859  126961   \n",
       "9     30745  ...  114978  131906  140556  151099  169759  146123   31244   \n",
       "\n",
       "hour      21      22      23  \n",
       "day                           \n",
       "5      34112   32031   33081  \n",
       "6      28133   27221   26983  \n",
       "7     118925  128495  119828  \n",
       "8     141799  150264  171646  \n",
       "9      30868   31956   38739  \n",
       "\n",
       "[5 rows x 24 columns]"
      ]
     },
     "execution_count": 58,
     "metadata": {},
     "output_type": "execute_result"
    }
   ],
   "source": [
    "subs_day_hour = subs_counts.pivot_table(index='day', columns='hour', values='date', aggfunc='mean')\n",
    "subs_day_hour.head()"
   ]
  },
  {
   "cell_type": "markdown",
   "metadata": {},
   "source": [
    "## Veo que información encuentro sobre el campo platform"
   ]
  },
  {
   "cell_type": "code",
   "execution_count": 59,
   "metadata": {},
   "outputs": [
    {
     "data": {
      "text/plain": [
       "Text(69,0.5,'Día')"
      ]
     },
     "execution_count": 59,
     "metadata": {},
     "output_type": "execute_result"
    },
    {
     "data": {
      "image/png": "[encoded data removed]",
      "text/plain": [
       "<matplotlib.figure.Figure at 0x7f2976d87f60>"
      ]
     },
     "metadata": {},
     "output_type": "display_data"
    }
   ],
   "source": [
    "plt.figure(figsize = (10,5))\n",
    "heatMap = sns.heatmap(subs_day_hour,  cmap=\"PuRd\", )\n",
    "heatMap.set_title(\"Cantidad Promedio de Subastas por Día y Hora\", fontsize = 20)\n",
    "heatMap.set_xlabel(\"Hora\", fontsize = 15)\n",
    "heatMap.set_ylabel(\"Día\", fontsize = 15)"
   ]
  },
  {
   "cell_type": "code",
   "execution_count": 60,
   "metadata": {},
   "outputs": [
    {
     "data": {
      "image/png": "[encoded data removed]",
      "text/plain": [
       "<matplotlib.figure.Figure at 0x7f2973a45d30>"
      ]
     },
     "metadata": {},
     "output_type": "display_data"
    }
   ],
   "source": [
    "platformCount = subs['platform'].value_counts().reset_index()\n",
    "platformCount['platform_name'] = platformCount['index'].apply(lambda x: 'Android' if (x == 1) else 'IOS')\n",
    "platformCount.columns = ['platform_id', 'platform_count', 'platform_name']\n",
    "platformCount\n",
    "plt.pie(platformCount['platform_count'].to_list(), labels = platformCount['platform_name'].to_list(), autopct='%1.1f%%', colors = ['yellowgreen', 'mediumaquamarine'], shadow=True, radius = 1.6)\n",
    "plt.legend(platformCount['platform_name'].to_list(), loc = \"upper right\")\n",
    "plt.title(\"Subastas: Plataforma de Dispositivo Utilizadas\", {'fontsize': 20,\n",
    "        'fontweight' : 20,\n",
    "        'verticalalignment': 'bottom',\n",
    "        'horizontalalignment': 'center'})\n",
    "plt.show()"
   ]
  },
  {
   "cell_type": "code",
   "execution_count": null,
   "metadata": {},
   "outputs": [],
   "source": []
  }
 ],
 "metadata": {
  "kernelspec": {
   "display_name": "Python 3",
   "language": "python",
   "name": "python3"
  },
  "language_info": {
   "codemirror_mode": {
    "name": "ipython",
    "version": 3
   },
   "file_extension": ".py",
   "mimetype": "text/x-python",
   "name": "python",
   "nbconvert_exporter": "python",
   "pygments_lexer": "ipython3",
   "version": "3.6.7"
  }
 },
 "nbformat": 4,
 "nbformat_minor": 2
}
