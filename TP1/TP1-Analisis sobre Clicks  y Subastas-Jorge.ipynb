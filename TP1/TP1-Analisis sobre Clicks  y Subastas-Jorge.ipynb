{
 "cells": [
  {
   "cell_type": "code",
   "execution_count": 1,
   "metadata": {},
   "outputs": [],
   "source": [
    "import pandas as pd\n",
    "import seaborn as sns \n",
    "import numpy as np\n",
    "import matplotlib.pyplot as plt"
   ]
  },
  {
   "cell_type": "code",
   "execution_count": 2,
   "metadata": {},
   "outputs": [],
   "source": [
    "subs = pd.read_csv(\"data/auctions.csv\", dtype = {\"platform\": np.int8, \"ref_type_id\": np.int8, \"source_id\": np.int8}, usecols = ['date', 'platform', 'source_id'])\n",
    "clks = pd.read_csv(\"data/clicks.csv\", dtype = {\"advertiser_id\": np.int8, \"action_id\": np.float16, \"source_id\": np.int8, \"wifi_connection\": bool, \"carrier_id\": np.float16, \"brand\": np.float16, \"touchX\": np.float16, \"touchY\": np.float16})"
   ]
  },
  {
   "cell_type": "code",
   "execution_count": 3,
   "metadata": {},
   "outputs": [],
   "source": [
    "#Vconvierto las fechas a formato datetime\n",
    "subs['date']=pd.to_datetime(subs['date'])\n",
    "clks['created']=pd.to_datetime(clks['created'])"
   ]
  },
  {
   "cell_type": "markdown",
   "metadata": {},
   "source": [
    "# Análisis sobre los clicks"
   ]
  },
  {
   "cell_type": "code",
   "execution_count": 4,
   "metadata": {},
   "outputs": [
    {
     "name": "stderr",
     "output_type": "stream",
     "text": [
      "/home/jorge/anaconda3/lib/python3.7/site-packages/pandas/core/nanops.py:121: RuntimeWarning: Mean of empty slice\n",
      "  result = bn_func(values, axis=axis, **kwds)\n"
     ]
    },
    {
     "data": {
      "text/html": [
       "<div>\n",
       "<style scoped>\n",
       "    .dataframe tbody tr th:only-of-type {\n",
       "        vertical-align: middle;\n",
       "    }\n",
       "\n",
       "    .dataframe tbody tr th {\n",
       "        vertical-align: top;\n",
       "    }\n",
       "\n",
       "    .dataframe thead th {\n",
       "        text-align: right;\n",
       "    }\n",
       "</style>\n",
       "<table border=\"1\" class=\"dataframe\">\n",
       "  <thead>\n",
       "    <tr style=\"text-align: right;\">\n",
       "      <th></th>\n",
       "      <th>advertiser_id</th>\n",
       "      <th>action_id</th>\n",
       "      <th>source_id</th>\n",
       "      <th>country_code</th>\n",
       "      <th>latitude</th>\n",
       "      <th>longitude</th>\n",
       "      <th>carrier_id</th>\n",
       "      <th>os_minor</th>\n",
       "      <th>agent_device</th>\n",
       "      <th>os_major</th>\n",
       "      <th>specs_brand</th>\n",
       "      <th>brand</th>\n",
       "      <th>timeToClick</th>\n",
       "      <th>touchX</th>\n",
       "      <th>touchY</th>\n",
       "      <th>ref_type</th>\n",
       "      <th>ref_hash</th>\n",
       "    </tr>\n",
       "  </thead>\n",
       "  <tbody>\n",
       "    <tr>\n",
       "      <th>count</th>\n",
       "      <td>26351.000000</td>\n",
       "      <td>0.0</td>\n",
       "      <td>26351.000000</td>\n",
       "      <td>2.635100e+04</td>\n",
       "      <td>26351.000000</td>\n",
       "      <td>26351.000000</td>\n",
       "      <td>2.634000e+04</td>\n",
       "      <td>2.633900e+04</td>\n",
       "      <td>3.243000e+03</td>\n",
       "      <td>2.633900e+04</td>\n",
       "      <td>2.635100e+04</td>\n",
       "      <td>6235.000000</td>\n",
       "      <td>22977.000000</td>\n",
       "      <td>23011.000000</td>\n",
       "      <td>23011.000000</td>\n",
       "      <td>2.635100e+04</td>\n",
       "      <td>2.635100e+04</td>\n",
       "    </tr>\n",
       "    <tr>\n",
       "      <th>mean</th>\n",
       "      <td>2.991993</td>\n",
       "      <td>NaN</td>\n",
       "      <td>1.245266</td>\n",
       "      <td>6.333597e+18</td>\n",
       "      <td>1.206906</td>\n",
       "      <td>1.070233</td>\n",
       "      <td>inf</td>\n",
       "      <td>4.635375e+18</td>\n",
       "      <td>4.171028e+18</td>\n",
       "      <td>3.913451e+18</td>\n",
       "      <td>1.299055e+18</td>\n",
       "      <td>1.482422</td>\n",
       "      <td>230.403309</td>\n",
       "      <td>0.639160</td>\n",
       "      <td>1.478516</td>\n",
       "      <td>1.888100e+18</td>\n",
       "      <td>4.611581e+18</td>\n",
       "    </tr>\n",
       "    <tr>\n",
       "      <th>std</th>\n",
       "      <td>0.164070</td>\n",
       "      <td>NaN</td>\n",
       "      <td>2.188948</td>\n",
       "      <td>2.089000e+05</td>\n",
       "      <td>0.004484</td>\n",
       "      <td>0.001896</td>\n",
       "      <td>7.015625e+00</td>\n",
       "      <td>1.642969e+18</td>\n",
       "      <td>2.460496e+18</td>\n",
       "      <td>1.885866e+18</td>\n",
       "      <td>1.149672e+18</td>\n",
       "      <td>1.583984</td>\n",
       "      <td>976.849149</td>\n",
       "      <td>0.302002</td>\n",
       "      <td>2.623047</td>\n",
       "      <td>1.721252e+17</td>\n",
       "      <td>2.673175e+18</td>\n",
       "    </tr>\n",
       "    <tr>\n",
       "      <th>min</th>\n",
       "      <td>0.000000</td>\n",
       "      <td>NaN</td>\n",
       "      <td>0.000000</td>\n",
       "      <td>6.333597e+18</td>\n",
       "      <td>1.205058</td>\n",
       "      <td>1.058204</td>\n",
       "      <td>0.000000e+00</td>\n",
       "      <td>6.666626e+17</td>\n",
       "      <td>4.513618e+16</td>\n",
       "      <td>7.436481e+17</td>\n",
       "      <td>3.921844e+17</td>\n",
       "      <td>0.000000</td>\n",
       "      <td>0.017000</td>\n",
       "      <td>0.000000</td>\n",
       "      <td>0.000000</td>\n",
       "      <td>1.494519e+18</td>\n",
       "      <td>9.286192e+14</td>\n",
       "    </tr>\n",
       "    <tr>\n",
       "      <th>25%</th>\n",
       "      <td>3.000000</td>\n",
       "      <td>NaN</td>\n",
       "      <td>0.000000</td>\n",
       "      <td>6.333597e+18</td>\n",
       "      <td>1.205689</td>\n",
       "      <td>1.070234</td>\n",
       "      <td>3.000000e+00</td>\n",
       "      <td>3.378640e+18</td>\n",
       "      <td>1.975183e+18</td>\n",
       "      <td>1.774085e+18</td>\n",
       "      <td>3.921844e+17</td>\n",
       "      <td>0.000000</td>\n",
       "      <td>2.915000</td>\n",
       "      <td>0.426025</td>\n",
       "      <td>0.182983</td>\n",
       "      <td>1.891515e+18</td>\n",
       "      <td>2.273798e+18</td>\n",
       "    </tr>\n",
       "    <tr>\n",
       "      <th>50%</th>\n",
       "      <td>3.000000</td>\n",
       "      <td>NaN</td>\n",
       "      <td>0.000000</td>\n",
       "      <td>6.333597e+18</td>\n",
       "      <td>1.205689</td>\n",
       "      <td>1.070234</td>\n",
       "      <td>6.000000e+00</td>\n",
       "      <td>3.511538e+18</td>\n",
       "      <td>3.516812e+18</td>\n",
       "      <td>3.072849e+18</td>\n",
       "      <td>3.921844e+17</td>\n",
       "      <td>1.000000</td>\n",
       "      <td>10.588000</td>\n",
       "      <td>0.726074</td>\n",
       "      <td>0.645020</td>\n",
       "      <td>1.891515e+18</td>\n",
       "      <td>4.623721e+18</td>\n",
       "    </tr>\n",
       "    <tr>\n",
       "      <th>75%</th>\n",
       "      <td>3.000000</td>\n",
       "      <td>NaN</td>\n",
       "      <td>1.000000</td>\n",
       "      <td>6.333597e+18</td>\n",
       "      <td>1.205689</td>\n",
       "      <td>1.070234</td>\n",
       "      <td>1.300000e+01</td>\n",
       "      <td>6.391567e+18</td>\n",
       "      <td>6.589622e+18</td>\n",
       "      <td>4.566454e+18</td>\n",
       "      <td>2.733036e+18</td>\n",
       "      <td>2.000000</td>\n",
       "      <td>71.703000</td>\n",
       "      <td>0.900879</td>\n",
       "      <td>0.991211</td>\n",
       "      <td>1.891515e+18</td>\n",
       "      <td>6.917850e+18</td>\n",
       "    </tr>\n",
       "    <tr>\n",
       "      <th>max</th>\n",
       "      <td>8.000000</td>\n",
       "      <td>NaN</td>\n",
       "      <td>10.000000</td>\n",
       "      <td>6.333597e+18</td>\n",
       "      <td>1.237861</td>\n",
       "      <td>1.085358</td>\n",
       "      <td>1.160000e+02</td>\n",
       "      <td>9.081082e+18</td>\n",
       "      <td>9.221733e+18</td>\n",
       "      <td>7.499732e+18</td>\n",
       "      <td>8.930605e+18</td>\n",
       "      <td>13.000000</td>\n",
       "      <td>17616.188000</td>\n",
       "      <td>1.000000</td>\n",
       "      <td>16.593750</td>\n",
       "      <td>6.323872e+18</td>\n",
       "      <td>9.221118e+18</td>\n",
       "    </tr>\n",
       "  </tbody>\n",
       "</table>\n",
       "</div>"
      ],
      "text/plain": [
       "       advertiser_id  action_id     source_id  country_code      latitude  \\\n",
       "count   26351.000000        0.0  26351.000000  2.635100e+04  26351.000000   \n",
       "mean        2.991993        NaN      1.245266  6.333597e+18      1.206906   \n",
       "std         0.164070        NaN      2.188948  2.089000e+05      0.004484   \n",
       "min         0.000000        NaN      0.000000  6.333597e+18      1.205058   \n",
       "25%         3.000000        NaN      0.000000  6.333597e+18      1.205689   \n",
       "50%         3.000000        NaN      0.000000  6.333597e+18      1.205689   \n",
       "75%         3.000000        NaN      1.000000  6.333597e+18      1.205689   \n",
       "max         8.000000        NaN     10.000000  6.333597e+18      1.237861   \n",
       "\n",
       "          longitude    carrier_id      os_minor  agent_device      os_major  \\\n",
       "count  26351.000000  2.634000e+04  2.633900e+04  3.243000e+03  2.633900e+04   \n",
       "mean       1.070233           inf  4.635375e+18  4.171028e+18  3.913451e+18   \n",
       "std        0.001896  7.015625e+00  1.642969e+18  2.460496e+18  1.885866e+18   \n",
       "min        1.058204  0.000000e+00  6.666626e+17  4.513618e+16  7.436481e+17   \n",
       "25%        1.070234  3.000000e+00  3.378640e+18  1.975183e+18  1.774085e+18   \n",
       "50%        1.070234  6.000000e+00  3.511538e+18  3.516812e+18  3.072849e+18   \n",
       "75%        1.070234  1.300000e+01  6.391567e+18  6.589622e+18  4.566454e+18   \n",
       "max        1.085358  1.160000e+02  9.081082e+18  9.221733e+18  7.499732e+18   \n",
       "\n",
       "        specs_brand        brand   timeToClick        touchX        touchY  \\\n",
       "count  2.635100e+04  6235.000000  22977.000000  23011.000000  23011.000000   \n",
       "mean   1.299055e+18     1.482422    230.403309      0.639160      1.478516   \n",
       "std    1.149672e+18     1.583984    976.849149      0.302002      2.623047   \n",
       "min    3.921844e+17     0.000000      0.017000      0.000000      0.000000   \n",
       "25%    3.921844e+17     0.000000      2.915000      0.426025      0.182983   \n",
       "50%    3.921844e+17     1.000000     10.588000      0.726074      0.645020   \n",
       "75%    2.733036e+18     2.000000     71.703000      0.900879      0.991211   \n",
       "max    8.930605e+18    13.000000  17616.188000      1.000000     16.593750   \n",
       "\n",
       "           ref_type      ref_hash  \n",
       "count  2.635100e+04  2.635100e+04  \n",
       "mean   1.888100e+18  4.611581e+18  \n",
       "std    1.721252e+17  2.673175e+18  \n",
       "min    1.494519e+18  9.286192e+14  \n",
       "25%    1.891515e+18  2.273798e+18  \n",
       "50%    1.891515e+18  4.623721e+18  \n",
       "75%    1.891515e+18  6.917850e+18  \n",
       "max    6.323872e+18  9.221118e+18  "
      ]
     },
     "execution_count": 4,
     "metadata": {},
     "output_type": "execute_result"
    }
   ],
   "source": [
    "clks.describe()"
   ]
  },
  {
   "cell_type": "code",
   "execution_count": 5,
   "metadata": {},
   "outputs": [
    {
     "data": {
      "text/html": [
       "<div>\n",
       "<style scoped>\n",
       "    .dataframe tbody tr th:only-of-type {\n",
       "        vertical-align: middle;\n",
       "    }\n",
       "\n",
       "    .dataframe tbody tr th {\n",
       "        vertical-align: top;\n",
       "    }\n",
       "\n",
       "    .dataframe thead th {\n",
       "        text-align: right;\n",
       "    }\n",
       "</style>\n",
       "<table border=\"1\" class=\"dataframe\">\n",
       "  <thead>\n",
       "    <tr style=\"text-align: right;\">\n",
       "      <th></th>\n",
       "      <th>advertiser_id</th>\n",
       "      <th>action_id</th>\n",
       "      <th>source_id</th>\n",
       "      <th>created</th>\n",
       "      <th>country_code</th>\n",
       "      <th>latitude</th>\n",
       "      <th>longitude</th>\n",
       "      <th>wifi_connection</th>\n",
       "      <th>carrier_id</th>\n",
       "      <th>trans_id</th>\n",
       "      <th>os_minor</th>\n",
       "      <th>agent_device</th>\n",
       "      <th>os_major</th>\n",
       "      <th>specs_brand</th>\n",
       "      <th>brand</th>\n",
       "      <th>timeToClick</th>\n",
       "      <th>touchX</th>\n",
       "      <th>touchY</th>\n",
       "      <th>ref_type</th>\n",
       "      <th>ref_hash</th>\n",
       "    </tr>\n",
       "  </thead>\n",
       "  <tbody>\n",
       "    <tr>\n",
       "      <th>0</th>\n",
       "      <td>2</td>\n",
       "      <td>NaN</td>\n",
       "      <td>4</td>\n",
       "      <td>2019-03-06 22:42:12.755</td>\n",
       "      <td>6333597102633388268</td>\n",
       "      <td>1.205689</td>\n",
       "      <td>1.070234</td>\n",
       "      <td>False</td>\n",
       "      <td>1.0</td>\n",
       "      <td>iGgClCM9exiHF4K31g94XmvHEBSLKIY</td>\n",
       "      <td>6.768137e+18</td>\n",
       "      <td>NaN</td>\n",
       "      <td>3.072849e+18</td>\n",
       "      <td>2733035977666442898</td>\n",
       "      <td>NaN</td>\n",
       "      <td>1.563</td>\n",
       "      <td>0.904785</td>\n",
       "      <td>0.078003</td>\n",
       "      <td>1891515180541284343</td>\n",
       "      <td>1904083516767779093</td>\n",
       "    </tr>\n",
       "    <tr>\n",
       "      <th>1</th>\n",
       "      <td>0</td>\n",
       "      <td>NaN</td>\n",
       "      <td>0</td>\n",
       "      <td>2019-03-08 10:24:30.641</td>\n",
       "      <td>6333597102633388268</td>\n",
       "      <td>1.218924</td>\n",
       "      <td>1.071209</td>\n",
       "      <td>False</td>\n",
       "      <td>4.0</td>\n",
       "      <td>MMHTOJ6qKAOeIH_Eywh1KIcCaxtO9oM</td>\n",
       "      <td>3.025219e+18</td>\n",
       "      <td>NaN</td>\n",
       "      <td>1.774085e+18</td>\n",
       "      <td>392184377613098015</td>\n",
       "      <td>NaN</td>\n",
       "      <td>NaN</td>\n",
       "      <td>NaN</td>\n",
       "      <td>NaN</td>\n",
       "      <td>1891515180541284343</td>\n",
       "      <td>3086509764961796666</td>\n",
       "    </tr>\n",
       "    <tr>\n",
       "      <th>2</th>\n",
       "      <td>0</td>\n",
       "      <td>NaN</td>\n",
       "      <td>0</td>\n",
       "      <td>2019-03-08 15:24:16.069</td>\n",
       "      <td>6333597102633388268</td>\n",
       "      <td>1.205689</td>\n",
       "      <td>1.070234</td>\n",
       "      <td>False</td>\n",
       "      <td>6.0</td>\n",
       "      <td>vIrEIdf9izUaWdAri6Ezk7T3nHFvNQU</td>\n",
       "      <td>5.975656e+18</td>\n",
       "      <td>NaN</td>\n",
       "      <td>3.072849e+18</td>\n",
       "      <td>392184377613098015</td>\n",
       "      <td>NaN</td>\n",
       "      <td>NaN</td>\n",
       "      <td>0.945801</td>\n",
       "      <td>0.472900</td>\n",
       "      <td>1891515180541284343</td>\n",
       "      <td>6958163894863846647</td>\n",
       "    </tr>\n",
       "    <tr>\n",
       "      <th>3</th>\n",
       "      <td>2</td>\n",
       "      <td>NaN</td>\n",
       "      <td>3</td>\n",
       "      <td>2019-03-06 03:08:51.543</td>\n",
       "      <td>6333597102633388268</td>\n",
       "      <td>1.205689</td>\n",
       "      <td>1.070234</td>\n",
       "      <td>False</td>\n",
       "      <td>45.0</td>\n",
       "      <td>YaKxxEAs2UmZhSpRfiCO9Zpa82B_AKM</td>\n",
       "      <td>6.768137e+18</td>\n",
       "      <td>NaN</td>\n",
       "      <td>3.072849e+18</td>\n",
       "      <td>2733035977666442898</td>\n",
       "      <td>NaN</td>\n",
       "      <td>19.013</td>\n",
       "      <td>0.035004</td>\n",
       "      <td>0.430908</td>\n",
       "      <td>1891515180541284343</td>\n",
       "      <td>4368617728156436525</td>\n",
       "    </tr>\n",
       "    <tr>\n",
       "      <th>4</th>\n",
       "      <td>2</td>\n",
       "      <td>NaN</td>\n",
       "      <td>3</td>\n",
       "      <td>2019-03-06 03:32:55.570</td>\n",
       "      <td>6333597102633388268</td>\n",
       "      <td>1.205689</td>\n",
       "      <td>1.070234</td>\n",
       "      <td>False</td>\n",
       "      <td>45.0</td>\n",
       "      <td>X5XTOcYQovkl6yadYdAD7xioVGU9jiY</td>\n",
       "      <td>6.768137e+18</td>\n",
       "      <td>NaN</td>\n",
       "      <td>3.072849e+18</td>\n",
       "      <td>2733035977666442898</td>\n",
       "      <td>NaN</td>\n",
       "      <td>28.110</td>\n",
       "      <td>0.053986</td>\n",
       "      <td>0.423096</td>\n",
       "      <td>1891515180541284343</td>\n",
       "      <td>4368617728156436525</td>\n",
       "    </tr>\n",
       "  </tbody>\n",
       "</table>\n",
       "</div>"
      ],
      "text/plain": [
       "   advertiser_id  action_id  source_id                 created  \\\n",
       "0              2        NaN          4 2019-03-06 22:42:12.755   \n",
       "1              0        NaN          0 2019-03-08 10:24:30.641   \n",
       "2              0        NaN          0 2019-03-08 15:24:16.069   \n",
       "3              2        NaN          3 2019-03-06 03:08:51.543   \n",
       "4              2        NaN          3 2019-03-06 03:32:55.570   \n",
       "\n",
       "          country_code  latitude  longitude  wifi_connection  carrier_id  \\\n",
       "0  6333597102633388268  1.205689   1.070234            False         1.0   \n",
       "1  6333597102633388268  1.218924   1.071209            False         4.0   \n",
       "2  6333597102633388268  1.205689   1.070234            False         6.0   \n",
       "3  6333597102633388268  1.205689   1.070234            False        45.0   \n",
       "4  6333597102633388268  1.205689   1.070234            False        45.0   \n",
       "\n",
       "                          trans_id      os_minor  agent_device      os_major  \\\n",
       "0  iGgClCM9exiHF4K31g94XmvHEBSLKIY  6.768137e+18           NaN  3.072849e+18   \n",
       "1  MMHTOJ6qKAOeIH_Eywh1KIcCaxtO9oM  3.025219e+18           NaN  1.774085e+18   \n",
       "2  vIrEIdf9izUaWdAri6Ezk7T3nHFvNQU  5.975656e+18           NaN  3.072849e+18   \n",
       "3  YaKxxEAs2UmZhSpRfiCO9Zpa82B_AKM  6.768137e+18           NaN  3.072849e+18   \n",
       "4  X5XTOcYQovkl6yadYdAD7xioVGU9jiY  6.768137e+18           NaN  3.072849e+18   \n",
       "\n",
       "           specs_brand  brand  timeToClick    touchX    touchY  \\\n",
       "0  2733035977666442898    NaN        1.563  0.904785  0.078003   \n",
       "1   392184377613098015    NaN          NaN       NaN       NaN   \n",
       "2   392184377613098015    NaN          NaN  0.945801  0.472900   \n",
       "3  2733035977666442898    NaN       19.013  0.035004  0.430908   \n",
       "4  2733035977666442898    NaN       28.110  0.053986  0.423096   \n",
       "\n",
       "              ref_type             ref_hash  \n",
       "0  1891515180541284343  1904083516767779093  \n",
       "1  1891515180541284343  3086509764961796666  \n",
       "2  1891515180541284343  6958163894863846647  \n",
       "3  1891515180541284343  4368617728156436525  \n",
       "4  1891515180541284343  4368617728156436525  "
      ]
     },
     "execution_count": 5,
     "metadata": {},
     "output_type": "execute_result"
    }
   ],
   "source": [
    "clks.head()"
   ]
  },
  {
   "cell_type": "code",
   "execution_count": 6,
   "metadata": {},
   "outputs": [
    {
     "data": {
      "text/plain": [
       "False    26351\n",
       "Name: wifi_connection, dtype: int64"
      ]
     },
     "execution_count": 6,
     "metadata": {},
     "output_type": "execute_result"
    }
   ],
   "source": [
    "clks['wifi_connection'].value_counts()"
   ]
  },
  {
   "cell_type": "code",
   "execution_count": 7,
   "metadata": {},
   "outputs": [
    {
     "data": {
      "text/plain": [
       "4980419"
      ]
     },
     "execution_count": 7,
     "metadata": {},
     "output_type": "execute_result"
    }
   ],
   "source": [
    "clks.memory_usage(deep = True).sum()"
   ]
  },
  {
   "cell_type": "code",
   "execution_count": 8,
   "metadata": {},
   "outputs": [],
   "source": [
    "#funcion que recibe como argumento un dia en ingles y lodevuelve el dia en español\n",
    "def diaEspañol(dia):\n",
    "    if (dia==\"Monday\"): return \"Lunes\"\n",
    "    if (dia==\"Tuesday\"): return \"Martes\"\n",
    "    if (dia==\"Wednesday\"): return \"Miercoles\"\n",
    "    if (dia==\"Thursday\"): return \"Jueves\"\n",
    "    if (dia==\"Friday\"): return \"Viernes\"\n",
    "    if (dia==\"Saturday\"): return \"Sabado\"\n",
    "    if (dia==\"Sunday\"): return \"Domingo\"\n",
    "    else: return dia"
   ]
  },
  {
   "cell_type": "markdown",
   "metadata": {},
   "source": [
    "## ¿Cómo se distribuye el tiempo que tardan los usuarios en dar click?"
   ]
  },
  {
   "cell_type": "code",
   "execution_count": 9,
   "metadata": {},
   "outputs": [
    {
     "data": {
      "text/plain": [
       "advertiser_id      26351\n",
       "action_id              0\n",
       "source_id          26351\n",
       "created            26351\n",
       "country_code       26351\n",
       "latitude           26351\n",
       "longitude          26351\n",
       "wifi_connection    26351\n",
       "carrier_id         26340\n",
       "trans_id           26351\n",
       "os_minor           26339\n",
       "agent_device        3243\n",
       "os_major           26339\n",
       "specs_brand        26351\n",
       "brand               6235\n",
       "timeToClick        22977\n",
       "touchX             23011\n",
       "touchY             23011\n",
       "ref_type           26351\n",
       "ref_hash           26351\n",
       "dtype: int64"
      ]
     },
     "execution_count": 9,
     "metadata": {},
     "output_type": "execute_result"
    }
   ],
   "source": [
    "clks.count()"
   ]
  },
  {
   "cell_type": "code",
   "execution_count": 14,
   "metadata": {},
   "outputs": [
    {
     "data": {
      "text/plain": [
       "26351"
      ]
     },
     "execution_count": 14,
     "metadata": {},
     "output_type": "execute_result"
    }
   ],
   "source": [
    "clks['timeToClick'].isnull().count()"
   ]
  },
  {
   "cell_type": "code",
   "execution_count": 15,
   "metadata": {},
   "outputs": [],
   "source": [
    "clickTime = clks['timeToClick'].dropna()"
   ]
  },
  {
   "cell_type": "code",
   "execution_count": 16,
   "metadata": {},
   "outputs": [
    {
     "data": {
      "text/plain": [
       "22977"
      ]
     },
     "execution_count": 16,
     "metadata": {},
     "output_type": "execute_result"
    }
   ],
   "source": [
    "clickTime.count()"
   ]
  },
  {
   "cell_type": "code",
   "execution_count": 17,
   "metadata": {},
   "outputs": [
    {
     "data": {
      "text/plain": [
       "23818    17616.188\n",
       "5606     16915.195\n",
       "13465    16698.536\n",
       "14350    16466.667\n",
       "15691    15776.097\n",
       "Name: timeToClick, dtype: float64"
      ]
     },
     "execution_count": 17,
     "metadata": {},
     "output_type": "execute_result"
    }
   ],
   "source": [
    "clickTime.nlargest(5)"
   ]
  },
  {
   "cell_type": "code",
   "execution_count": 18,
   "metadata": {},
   "outputs": [
    {
     "data": {
      "text/plain": [
       "22355    0.017\n",
       "8827     0.026\n",
       "22833    0.026\n",
       "15298    0.029\n",
       "3516     0.034\n",
       "Name: timeToClick, dtype: float64"
      ]
     },
     "execution_count": 18,
     "metadata": {},
     "output_type": "execute_result"
    }
   ],
   "source": [
    "clickTime.nsmallest(5)"
   ]
  },
  {
<<<<<<< HEAD
=======
   "cell_type": "code",
   "execution_count": 19,
   "metadata": {},
   "outputs": [
    {
     "data": {
      "text/plain": [
       "Text(0, 0.5, 'Frecuencia')"
      ]
     },
     "execution_count": 19,
     "metadata": {},
     "output_type": "execute_result"
    },
    {
     "data": {
      "image/png": "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\n",
      "text/plain": [
       "<Figure size 1080x720 with 1 Axes>"
      ]
     },
     "metadata": {
      "needs_background": "light"
     },
     "output_type": "display_data"
    }
   ],
   "source": [
    "# Analizar si conviene convertir la frecuencia a escala logaritmica\n",
    "grafico = clickTime.plot.hist(bins=50, color='cornflowerblue', figsize=(15,10))\n",
    "grafico.set_title(\"Distribución de la cantidad de segundos que tarda un usuario en dar click\", fontsize = 20)\n",
    "grafico.set_xlabel(\"Tiempo en segundos\",fontsize=15)\n",
    "grafico.set_ylabel(\"Frecuencia\", fontsize=15)\n",
    "#Convierto la frecuencia a escala logaritimica par lograr una mejor\n",
    "#visualizacion\n",
    "#grafico.set_yscale('log')"
   ]
  },
  {
   "cell_type": "markdown",
   "metadata": {},
   "source": [
    "Vemos que los usuarios en su mayor parte tardan menos de 2500 segundos hacer un click"
   ]
  },
  {
   "cell_type": "code",
   "execution_count": 20,
   "metadata": {},
   "outputs": [
    {
     "data": {
      "text/html": [
       "<div>\n",
       "<style scoped>\n",
       "    .dataframe tbody tr th:only-of-type {\n",
       "        vertical-align: middle;\n",
       "    }\n",
       "\n",
       "    .dataframe tbody tr th {\n",
       "        vertical-align: top;\n",
       "    }\n",
       "\n",
       "    .dataframe thead th {\n",
       "        text-align: right;\n",
       "    }\n",
       "</style>\n",
       "<table border=\"1\" class=\"dataframe\">\n",
       "  <thead>\n",
       "    <tr style=\"text-align: right;\">\n",
       "      <th></th>\n",
       "      <th>advertiser_id</th>\n",
       "      <th>action_id</th>\n",
       "      <th>source_id</th>\n",
       "      <th>created</th>\n",
       "      <th>country_code</th>\n",
       "      <th>latitude</th>\n",
       "      <th>longitude</th>\n",
       "      <th>wifi_connection</th>\n",
       "      <th>carrier_id</th>\n",
       "      <th>trans_id</th>\n",
       "      <th>os_minor</th>\n",
       "      <th>agent_device</th>\n",
       "      <th>os_major</th>\n",
       "      <th>specs_brand</th>\n",
       "      <th>brand</th>\n",
       "      <th>timeToClick</th>\n",
       "      <th>touchX</th>\n",
       "      <th>touchY</th>\n",
       "      <th>ref_type</th>\n",
       "      <th>ref_hash</th>\n",
       "    </tr>\n",
       "  </thead>\n",
       "  <tbody>\n",
       "    <tr>\n",
       "      <th>0</th>\n",
       "      <td>2</td>\n",
       "      <td>NaN</td>\n",
       "      <td>4</td>\n",
       "      <td>2019-03-06 22:42:12.755</td>\n",
       "      <td>6333597102633388268</td>\n",
       "      <td>1.205689</td>\n",
       "      <td>1.070234</td>\n",
       "      <td>False</td>\n",
       "      <td>1.0</td>\n",
       "      <td>iGgClCM9exiHF4K31g94XmvHEBSLKIY</td>\n",
       "      <td>6.768137e+18</td>\n",
       "      <td>NaN</td>\n",
       "      <td>3.072849e+18</td>\n",
       "      <td>2733035977666442898</td>\n",
       "      <td>NaN</td>\n",
       "      <td>1.563</td>\n",
       "      <td>0.904785</td>\n",
       "      <td>0.078003</td>\n",
       "      <td>1891515180541284343</td>\n",
       "      <td>1904083516767779093</td>\n",
       "    </tr>\n",
       "    <tr>\n",
       "      <th>1</th>\n",
       "      <td>0</td>\n",
       "      <td>NaN</td>\n",
       "      <td>0</td>\n",
       "      <td>2019-03-08 10:24:30.641</td>\n",
       "      <td>6333597102633388268</td>\n",
       "      <td>1.218924</td>\n",
       "      <td>1.071209</td>\n",
       "      <td>False</td>\n",
       "      <td>4.0</td>\n",
       "      <td>MMHTOJ6qKAOeIH_Eywh1KIcCaxtO9oM</td>\n",
       "      <td>3.025219e+18</td>\n",
       "      <td>NaN</td>\n",
       "      <td>1.774085e+18</td>\n",
       "      <td>392184377613098015</td>\n",
       "      <td>NaN</td>\n",
       "      <td>NaN</td>\n",
       "      <td>NaN</td>\n",
       "      <td>NaN</td>\n",
       "      <td>1891515180541284343</td>\n",
       "      <td>3086509764961796666</td>\n",
       "    </tr>\n",
       "    <tr>\n",
       "      <th>2</th>\n",
       "      <td>0</td>\n",
       "      <td>NaN</td>\n",
       "      <td>0</td>\n",
       "      <td>2019-03-08 15:24:16.069</td>\n",
       "      <td>6333597102633388268</td>\n",
       "      <td>1.205689</td>\n",
       "      <td>1.070234</td>\n",
       "      <td>False</td>\n",
       "      <td>6.0</td>\n",
       "      <td>vIrEIdf9izUaWdAri6Ezk7T3nHFvNQU</td>\n",
       "      <td>5.975656e+18</td>\n",
       "      <td>NaN</td>\n",
       "      <td>3.072849e+18</td>\n",
       "      <td>392184377613098015</td>\n",
       "      <td>NaN</td>\n",
       "      <td>NaN</td>\n",
       "      <td>0.945801</td>\n",
       "      <td>0.472900</td>\n",
       "      <td>1891515180541284343</td>\n",
       "      <td>6958163894863846647</td>\n",
       "    </tr>\n",
       "    <tr>\n",
       "      <th>3</th>\n",
       "      <td>2</td>\n",
       "      <td>NaN</td>\n",
       "      <td>3</td>\n",
       "      <td>2019-03-06 03:08:51.543</td>\n",
       "      <td>6333597102633388268</td>\n",
       "      <td>1.205689</td>\n",
       "      <td>1.070234</td>\n",
       "      <td>False</td>\n",
       "      <td>45.0</td>\n",
       "      <td>YaKxxEAs2UmZhSpRfiCO9Zpa82B_AKM</td>\n",
       "      <td>6.768137e+18</td>\n",
       "      <td>NaN</td>\n",
       "      <td>3.072849e+18</td>\n",
       "      <td>2733035977666442898</td>\n",
       "      <td>NaN</td>\n",
       "      <td>19.013</td>\n",
       "      <td>0.035004</td>\n",
       "      <td>0.430908</td>\n",
       "      <td>1891515180541284343</td>\n",
       "      <td>4368617728156436525</td>\n",
       "    </tr>\n",
       "    <tr>\n",
       "      <th>4</th>\n",
       "      <td>2</td>\n",
       "      <td>NaN</td>\n",
       "      <td>3</td>\n",
       "      <td>2019-03-06 03:32:55.570</td>\n",
       "      <td>6333597102633388268</td>\n",
       "      <td>1.205689</td>\n",
       "      <td>1.070234</td>\n",
       "      <td>False</td>\n",
       "      <td>45.0</td>\n",
       "      <td>X5XTOcYQovkl6yadYdAD7xioVGU9jiY</td>\n",
       "      <td>6.768137e+18</td>\n",
       "      <td>NaN</td>\n",
       "      <td>3.072849e+18</td>\n",
       "      <td>2733035977666442898</td>\n",
       "      <td>NaN</td>\n",
       "      <td>28.110</td>\n",
       "      <td>0.053986</td>\n",
       "      <td>0.423096</td>\n",
       "      <td>1891515180541284343</td>\n",
       "      <td>4368617728156436525</td>\n",
       "    </tr>\n",
       "  </tbody>\n",
       "</table>\n",
       "</div>"
      ],
      "text/plain": [
       "   advertiser_id  action_id  source_id                 created  \\\n",
       "0              2        NaN          4 2019-03-06 22:42:12.755   \n",
       "1              0        NaN          0 2019-03-08 10:24:30.641   \n",
       "2              0        NaN          0 2019-03-08 15:24:16.069   \n",
       "3              2        NaN          3 2019-03-06 03:08:51.543   \n",
       "4              2        NaN          3 2019-03-06 03:32:55.570   \n",
       "\n",
       "          country_code  latitude  longitude  wifi_connection  carrier_id  \\\n",
       "0  6333597102633388268  1.205689   1.070234            False         1.0   \n",
       "1  6333597102633388268  1.218924   1.071209            False         4.0   \n",
       "2  6333597102633388268  1.205689   1.070234            False         6.0   \n",
       "3  6333597102633388268  1.205689   1.070234            False        45.0   \n",
       "4  6333597102633388268  1.205689   1.070234            False        45.0   \n",
       "\n",
       "                          trans_id      os_minor  agent_device      os_major  \\\n",
       "0  iGgClCM9exiHF4K31g94XmvHEBSLKIY  6.768137e+18           NaN  3.072849e+18   \n",
       "1  MMHTOJ6qKAOeIH_Eywh1KIcCaxtO9oM  3.025219e+18           NaN  1.774085e+18   \n",
       "2  vIrEIdf9izUaWdAri6Ezk7T3nHFvNQU  5.975656e+18           NaN  3.072849e+18   \n",
       "3  YaKxxEAs2UmZhSpRfiCO9Zpa82B_AKM  6.768137e+18           NaN  3.072849e+18   \n",
       "4  X5XTOcYQovkl6yadYdAD7xioVGU9jiY  6.768137e+18           NaN  3.072849e+18   \n",
       "\n",
       "           specs_brand  brand  timeToClick    touchX    touchY  \\\n",
       "0  2733035977666442898    NaN        1.563  0.904785  0.078003   \n",
       "1   392184377613098015    NaN          NaN       NaN       NaN   \n",
       "2   392184377613098015    NaN          NaN  0.945801  0.472900   \n",
       "3  2733035977666442898    NaN       19.013  0.035004  0.430908   \n",
       "4  2733035977666442898    NaN       28.110  0.053986  0.423096   \n",
       "\n",
       "              ref_type             ref_hash  \n",
       "0  1891515180541284343  1904083516767779093  \n",
       "1  1891515180541284343  3086509764961796666  \n",
       "2  1891515180541284343  6958163894863846647  \n",
       "3  1891515180541284343  4368617728156436525  \n",
       "4  1891515180541284343  4368617728156436525  "
      ]
     },
     "execution_count": 20,
     "metadata": {},
     "output_type": "execute_result"
    }
   ],
   "source": [
    "clks.head()"
   ]
  },
  {
   "cell_type": "markdown",
   "metadata": {},
   "source": [
    "Veamos si aplicando el logaritmo se logra un gráfico más descriptivo:"
   ]
  },
  {
   "cell_type": "code",
   "execution_count": 21,
   "metadata": {},
   "outputs": [],
   "source": [
    "clickTimeLog = clickTime.transform(lambda x: np.log(x))"
   ]
  },
  {
   "cell_type": "code",
   "execution_count": 22,
   "metadata": {},
   "outputs": [
    {
     "data": {
      "text/plain": [
       "Text(0, 0.5, 'Frecuencia')"
      ]
     },
     "execution_count": 22,
     "metadata": {},
     "output_type": "execute_result"
    },
    {
     "data": {
      "image/png": "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\n",
      "text/plain": [
       "<Figure size 720x360 with 1 Axes>"
      ]
     },
     "metadata": {},
     "output_type": "display_data"
    }
   ],
   "source": [
    "sns.set_style('darkgrid')\n",
    "grafico_log = clickTimeLog.plot.hist(bins=50, color='skyblue', figsize=(10,5))\n",
    "grafico_log.set_title(\"Histograma: cantidad de segundos (log) que tarda un usuario en dar click\", fontsize = 20)\n",
    "grafico_log.set_xlabel(\"Tiempo en segundos (log)\",fontsize=15)\n",
    "grafico_log.set_ylabel(\"Frecuencia\", fontsize=15)"
   ]
  },
  {
   "cell_type": "markdown",
   "metadata": {},
   "source": [
    "## Veamos ahora qué sucede con la posición desde donde se dan los clicks:"
   ]
  },
  {
   "cell_type": "code",
   "execution_count": 23,
   "metadata": {},
   "outputs": [
    {
     "data": {
      "text/html": [
       "<div>\n",
       "<style scoped>\n",
       "    .dataframe tbody tr th:only-of-type {\n",
       "        vertical-align: middle;\n",
       "    }\n",
       "\n",
       "    .dataframe tbody tr th {\n",
       "        vertical-align: top;\n",
       "    }\n",
       "\n",
       "    .dataframe thead th {\n",
       "        text-align: right;\n",
       "    }\n",
       "</style>\n",
       "<table border=\"1\" class=\"dataframe\">\n",
       "  <thead>\n",
       "    <tr style=\"text-align: right;\">\n",
       "      <th></th>\n",
       "      <th>touchX</th>\n",
       "      <th>touchY</th>\n",
       "    </tr>\n",
       "  </thead>\n",
       "  <tbody>\n",
       "    <tr>\n",
       "      <th>0</th>\n",
       "      <td>0.904785</td>\n",
       "      <td>0.078003</td>\n",
       "    </tr>\n",
       "    <tr>\n",
       "      <th>2</th>\n",
       "      <td>0.945801</td>\n",
       "      <td>0.472900</td>\n",
       "    </tr>\n",
       "    <tr>\n",
       "      <th>3</th>\n",
       "      <td>0.035004</td>\n",
       "      <td>0.430908</td>\n",
       "    </tr>\n",
       "    <tr>\n",
       "      <th>4</th>\n",
       "      <td>0.053986</td>\n",
       "      <td>0.423096</td>\n",
       "    </tr>\n",
       "    <tr>\n",
       "      <th>5</th>\n",
       "      <td>0.605957</td>\n",
       "      <td>0.458984</td>\n",
       "    </tr>\n",
       "  </tbody>\n",
       "</table>\n",
       "</div>"
      ],
      "text/plain": [
       "     touchX    touchY\n",
       "0  0.904785  0.078003\n",
       "2  0.945801  0.472900\n",
       "3  0.035004  0.430908\n",
       "4  0.053986  0.423096\n",
       "5  0.605957  0.458984"
      ]
     },
     "execution_count": 23,
     "metadata": {},
     "output_type": "execute_result"
    }
   ],
   "source": [
    "clickPos = clks.loc[:, ['touchX', 'touchY']].dropna()\n",
    "clickPos.head()"
   ]
  },
  {
   "cell_type": "code",
   "execution_count": 24,
   "metadata": {},
   "outputs": [
    {
     "data": {
      "text/plain": [
       "0.996094    204\n",
       "0.994141    129\n",
       "0.995117    110\n",
       "0.937988     94\n",
       "0.998047     92\n",
       "Name: touchX, dtype: int64"
      ]
     },
     "execution_count": 24,
     "metadata": {},
     "output_type": "execute_result"
    }
   ],
   "source": [
    "clickPos['touchX'].value_counts().head()"
   ]
  },
  {
   "cell_type": "code",
   "execution_count": 25,
   "metadata": {},
   "outputs": [
    {
     "data": {
      "text/plain": [
       "0.000000    193\n",
       "0.998047    140\n",
       "0.994141     81\n",
       "0.996094     80\n",
       "0.022995     79\n",
       "Name: touchY, dtype: int64"
      ]
     },
     "execution_count": 25,
     "metadata": {},
     "output_type": "execute_result"
    }
   ],
   "source": [
    "clickPos['touchY'].value_counts().head()"
   ]
  },
  {
   "cell_type": "markdown",
   "metadata": {},
   "source": [
    "Veo si un gráfico de distribución conjunta me muestra algo sobre estos valores"
   ]
  },
  {
   "cell_type": "code",
   "execution_count": 26,
   "metadata": {},
   "outputs": [
    {
     "name": "stderr",
     "output_type": "stream",
     "text": [
      "/home/jorge/anaconda3/lib/python3.7/site-packages/scipy/stats/stats.py:1713: FutureWarning: Using a non-tuple sequence for multidimensional indexing is deprecated; use `arr[tuple(seq)]` instead of `arr[seq]`. In the future this will be interpreted as an array index, `arr[np.array(seq)]`, which will result either in an error or a different result.\n",
      "  return np.add.reduce(sorted[indexer] * weights, axis=axis) / sumval\n"
     ]
    },
    {
     "data": {
      "text/plain": [
       "<matplotlib.legend.Legend at 0x7fbde68d8fd0>"
      ]
     },
     "execution_count": 26,
     "metadata": {},
     "output_type": "execute_result"
    },
    {
     "data": {
      "image/png": "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\n",
      "text/plain": [
       "<Figure size 576x576 with 1 Axes>"
      ]
     },
     "metadata": {},
     "output_type": "display_data"
    }
   ],
   "source": [
    "plt.figure(figsize=(8,8))\n",
    "g_dist = sns.distplot(clickPos['touchX'], color='crimson', label = 'Posición en X')\n",
    "g_dist = sns.distplot(clickPos['touchY'], color='royalblue', label = 'posición en Y')\n",
    "g_dist.set_title(\"Distribución de la posición de clicks en pantalla\", fontsize = 25)\n",
    "g_dist.set_xlabel(\"Posición en pantalla\", fontsize = 15)\n",
    "g_dist.set_ylabel(\"Densidad\", fontsize = 15)\n",
    "g_dist.legend()"
   ]
  },
  {
   "cell_type": "markdown",
   "metadata": {},
   "source": [
    "Alternativa utilizando un Scatter plot"
   ]
  },
  {
   "cell_type": "code",
   "execution_count": 27,
   "metadata": {},
   "outputs": [
    {
     "data": {
      "text/plain": [
       "Text(0, 0.5, 'Posición en Y')"
      ]
     },
     "execution_count": 27,
     "metadata": {},
     "output_type": "execute_result"
    },
    {
     "data": {
      "image/png": "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\n",
      "text/plain": [
       "<Figure size 720x360 with 1 Axes>"
      ]
     },
     "metadata": {},
     "output_type": "display_data"
    }
   ],
   "source": [
    "plt.figure(figsize = (10,5))\n",
    "g = sns.regplot(x = \"touchX\", y = \"touchY\", \n",
    "                    data = clickPos, color = 'orchid')\n",
    "g.set_title(\"Relacion entre los clicks en la posición X e Y\", fontsize = 20)\n",
    "g.set_xlabel(\"Posición en X\", fontsize = 15)\n",
    "g.set_ylabel(\"Posición en Y\", fontsize = 15)"
   ]
  },
  {
>>>>>>> 282929afe46fd4d45c883108070559b62233bd3b
   "cell_type": "markdown",
   "metadata": {},
   "source": [
    "# Analizo como se distribuyen los clicks en el tiempo"
   ]
  },
  {
   "cell_type": "code",
   "execution_count": 28,
   "metadata": {},
   "outputs": [
    {
     "data": {
      "text/html": [
       "<div>\n",
       "<style scoped>\n",
       "    .dataframe tbody tr th:only-of-type {\n",
       "        vertical-align: middle;\n",
       "    }\n",
       "\n",
       "    .dataframe tbody tr th {\n",
       "        vertical-align: top;\n",
       "    }\n",
       "\n",
       "    .dataframe thead th {\n",
       "        text-align: right;\n",
       "    }\n",
       "</style>\n",
       "<table border=\"1\" class=\"dataframe\">\n",
       "  <thead>\n",
       "    <tr style=\"text-align: right;\">\n",
       "      <th></th>\n",
       "      <th>advertiser_id</th>\n",
       "      <th>action_id</th>\n",
       "      <th>source_id</th>\n",
       "      <th>created</th>\n",
       "      <th>country_code</th>\n",
       "      <th>latitude</th>\n",
       "      <th>longitude</th>\n",
       "      <th>wifi_connection</th>\n",
       "      <th>carrier_id</th>\n",
       "      <th>trans_id</th>\n",
       "      <th>...</th>\n",
       "      <th>touchX</th>\n",
       "      <th>touchY</th>\n",
       "      <th>ref_type</th>\n",
       "      <th>ref_hash</th>\n",
       "      <th>año</th>\n",
       "      <th>mes</th>\n",
       "      <th>día</th>\n",
       "      <th>hora</th>\n",
       "      <th>minuto</th>\n",
       "      <th>diaSemana</th>\n",
       "    </tr>\n",
       "  </thead>\n",
       "  <tbody>\n",
       "    <tr>\n",
       "      <th>0</th>\n",
       "      <td>2</td>\n",
       "      <td>NaN</td>\n",
       "      <td>4</td>\n",
       "      <td>2019-03-06 22:42:12.755</td>\n",
       "      <td>6333597102633388268</td>\n",
       "      <td>1.205689</td>\n",
       "      <td>1.070234</td>\n",
       "      <td>False</td>\n",
       "      <td>1.0</td>\n",
       "      <td>iGgClCM9exiHF4K31g94XmvHEBSLKIY</td>\n",
       "      <td>...</td>\n",
       "      <td>0.904785</td>\n",
       "      <td>0.078003</td>\n",
       "      <td>1891515180541284343</td>\n",
       "      <td>1904083516767779093</td>\n",
       "      <td>2019</td>\n",
       "      <td>3</td>\n",
       "      <td>6</td>\n",
       "      <td>22</td>\n",
       "      <td>42</td>\n",
       "      <td>Wednesday</td>\n",
       "    </tr>\n",
       "    <tr>\n",
       "      <th>1</th>\n",
       "      <td>0</td>\n",
       "      <td>NaN</td>\n",
       "      <td>0</td>\n",
       "      <td>2019-03-08 10:24:30.641</td>\n",
       "      <td>6333597102633388268</td>\n",
       "      <td>1.218924</td>\n",
       "      <td>1.071209</td>\n",
       "      <td>False</td>\n",
       "      <td>4.0</td>\n",
       "      <td>MMHTOJ6qKAOeIH_Eywh1KIcCaxtO9oM</td>\n",
       "      <td>...</td>\n",
       "      <td>NaN</td>\n",
       "      <td>NaN</td>\n",
       "      <td>1891515180541284343</td>\n",
       "      <td>3086509764961796666</td>\n",
       "      <td>2019</td>\n",
       "      <td>3</td>\n",
       "      <td>8</td>\n",
       "      <td>10</td>\n",
       "      <td>24</td>\n",
       "      <td>Friday</td>\n",
       "    </tr>\n",
       "    <tr>\n",
       "      <th>2</th>\n",
       "      <td>0</td>\n",
       "      <td>NaN</td>\n",
       "      <td>0</td>\n",
       "      <td>2019-03-08 15:24:16.069</td>\n",
       "      <td>6333597102633388268</td>\n",
       "      <td>1.205689</td>\n",
       "      <td>1.070234</td>\n",
       "      <td>False</td>\n",
       "      <td>6.0</td>\n",
       "      <td>vIrEIdf9izUaWdAri6Ezk7T3nHFvNQU</td>\n",
       "      <td>...</td>\n",
       "      <td>0.945801</td>\n",
       "      <td>0.472900</td>\n",
       "      <td>1891515180541284343</td>\n",
       "      <td>6958163894863846647</td>\n",
       "      <td>2019</td>\n",
       "      <td>3</td>\n",
       "      <td>8</td>\n",
       "      <td>15</td>\n",
       "      <td>24</td>\n",
       "      <td>Friday</td>\n",
       "    </tr>\n",
       "    <tr>\n",
       "      <th>3</th>\n",
       "      <td>2</td>\n",
       "      <td>NaN</td>\n",
       "      <td>3</td>\n",
       "      <td>2019-03-06 03:08:51.543</td>\n",
       "      <td>6333597102633388268</td>\n",
       "      <td>1.205689</td>\n",
       "      <td>1.070234</td>\n",
       "      <td>False</td>\n",
       "      <td>45.0</td>\n",
       "      <td>YaKxxEAs2UmZhSpRfiCO9Zpa82B_AKM</td>\n",
       "      <td>...</td>\n",
       "      <td>0.035004</td>\n",
       "      <td>0.430908</td>\n",
       "      <td>1891515180541284343</td>\n",
       "      <td>4368617728156436525</td>\n",
       "      <td>2019</td>\n",
       "      <td>3</td>\n",
       "      <td>6</td>\n",
       "      <td>3</td>\n",
       "      <td>8</td>\n",
       "      <td>Wednesday</td>\n",
       "    </tr>\n",
       "    <tr>\n",
       "      <th>4</th>\n",
       "      <td>2</td>\n",
       "      <td>NaN</td>\n",
       "      <td>3</td>\n",
       "      <td>2019-03-06 03:32:55.570</td>\n",
       "      <td>6333597102633388268</td>\n",
       "      <td>1.205689</td>\n",
       "      <td>1.070234</td>\n",
       "      <td>False</td>\n",
       "      <td>45.0</td>\n",
       "      <td>X5XTOcYQovkl6yadYdAD7xioVGU9jiY</td>\n",
       "      <td>...</td>\n",
       "      <td>0.053986</td>\n",
       "      <td>0.423096</td>\n",
       "      <td>1891515180541284343</td>\n",
       "      <td>4368617728156436525</td>\n",
       "      <td>2019</td>\n",
       "      <td>3</td>\n",
       "      <td>6</td>\n",
       "      <td>3</td>\n",
       "      <td>32</td>\n",
       "      <td>Wednesday</td>\n",
       "    </tr>\n",
       "  </tbody>\n",
       "</table>\n",
       "<p>5 rows × 26 columns</p>\n",
       "</div>"
      ],
      "text/plain": [
       "   advertiser_id  action_id  source_id                 created  \\\n",
       "0              2        NaN          4 2019-03-06 22:42:12.755   \n",
       "1              0        NaN          0 2019-03-08 10:24:30.641   \n",
       "2              0        NaN          0 2019-03-08 15:24:16.069   \n",
       "3              2        NaN          3 2019-03-06 03:08:51.543   \n",
       "4              2        NaN          3 2019-03-06 03:32:55.570   \n",
       "\n",
       "          country_code  latitude  longitude  wifi_connection  carrier_id  \\\n",
       "0  6333597102633388268  1.205689   1.070234            False         1.0   \n",
       "1  6333597102633388268  1.218924   1.071209            False         4.0   \n",
       "2  6333597102633388268  1.205689   1.070234            False         6.0   \n",
       "3  6333597102633388268  1.205689   1.070234            False        45.0   \n",
       "4  6333597102633388268  1.205689   1.070234            False        45.0   \n",
       "\n",
       "                          trans_id    ...        touchX    touchY  \\\n",
       "0  iGgClCM9exiHF4K31g94XmvHEBSLKIY    ...      0.904785  0.078003   \n",
       "1  MMHTOJ6qKAOeIH_Eywh1KIcCaxtO9oM    ...           NaN       NaN   \n",
       "2  vIrEIdf9izUaWdAri6Ezk7T3nHFvNQU    ...      0.945801  0.472900   \n",
       "3  YaKxxEAs2UmZhSpRfiCO9Zpa82B_AKM    ...      0.035004  0.430908   \n",
       "4  X5XTOcYQovkl6yadYdAD7xioVGU9jiY    ...      0.053986  0.423096   \n",
       "\n",
       "              ref_type             ref_hash   año  mes  día  hora  minuto  \\\n",
       "0  1891515180541284343  1904083516767779093  2019    3    6    22      42   \n",
       "1  1891515180541284343  3086509764961796666  2019    3    8    10      24   \n",
       "2  1891515180541284343  6958163894863846647  2019    3    8    15      24   \n",
       "3  1891515180541284343  4368617728156436525  2019    3    6     3       8   \n",
       "4  1891515180541284343  4368617728156436525  2019    3    6     3      32   \n",
       "\n",
       "   diaSemana  \n",
       "0  Wednesday  \n",
       "1     Friday  \n",
       "2     Friday  \n",
       "3  Wednesday  \n",
       "4  Wednesday  \n",
       "\n",
       "[5 rows x 26 columns]"
      ]
     },
     "execution_count": 28,
     "metadata": {},
     "output_type": "execute_result"
    }
   ],
   "source": [
    "clks['año'] = pd.DatetimeIndex(clks['created']).year\n",
    "clks['mes'] =clks['created'].dt.month\n",
    "clks['día'] = clks['created'].dt.day\n",
    "clks['hora'] = clks['created'].dt.hour\n",
    "clks['minuto'] = clks['created'].dt.minute\n",
    "clks['diaSemana'] = clks['created'].dt.weekday_name\n",
    "clks.head()"
   ]
  },
  {
   "cell_type": "code",
   "execution_count": 29,
   "metadata": {},
   "outputs": [
    {
     "name": "stdout",
     "output_type": "stream",
     "text": [
      "<class 'pandas.core.frame.DataFrame'>\n",
      "RangeIndex: 26351 entries, 0 to 26350\n",
      "Data columns (total 26 columns):\n",
      "advertiser_id      26351 non-null int8\n",
      "action_id          0 non-null float16\n",
      "source_id          26351 non-null int8\n",
      "created            26351 non-null datetime64[ns]\n",
      "country_code       26351 non-null int64\n",
      "latitude           26351 non-null float64\n",
      "longitude          26351 non-null float64\n",
      "wifi_connection    26351 non-null bool\n",
      "carrier_id         26340 non-null float16\n",
      "trans_id           26351 non-null object\n",
      "os_minor           26339 non-null float64\n",
      "agent_device       3243 non-null float64\n",
      "os_major           26339 non-null float64\n",
      "specs_brand        26351 non-null int64\n",
      "brand              6235 non-null float16\n",
      "timeToClick        22977 non-null float64\n",
      "touchX             23011 non-null float16\n",
      "touchY             23011 non-null float16\n",
      "ref_type           26351 non-null int64\n",
      "ref_hash           26351 non-null int64\n",
      "año                26351 non-null int64\n",
      "mes                26351 non-null int64\n",
      "día                26351 non-null int64\n",
      "hora               26351 non-null int64\n",
      "minuto             26351 non-null int64\n",
      "diaSemana          26351 non-null object\n",
      "dtypes: bool(1), datetime64[ns](1), float16(5), float64(6), int64(9), int8(2), object(2)\n",
      "memory usage: 3.9+ MB\n"
     ]
    }
   ],
   "source": [
    "clks.info()"
   ]
  },
  {
   "cell_type": "code",
   "execution_count": 30,
   "metadata": {},
   "outputs": [
    {
     "data": {
      "text/html": [
       "<div>\n",
       "<style scoped>\n",
       "    .dataframe tbody tr th:only-of-type {\n",
       "        vertical-align: middle;\n",
       "    }\n",
       "\n",
       "    .dataframe tbody tr th {\n",
       "        vertical-align: top;\n",
       "    }\n",
       "\n",
       "    .dataframe thead th {\n",
       "        text-align: right;\n",
       "    }\n",
       "</style>\n",
       "<table border=\"1\" class=\"dataframe\">\n",
       "  <thead>\n",
       "    <tr style=\"text-align: right;\">\n",
       "      <th></th>\n",
       "      <th>diaSemana</th>\n",
       "      <th>Total clicks</th>\n",
       "    </tr>\n",
       "  </thead>\n",
       "  <tbody>\n",
       "    <tr>\n",
       "      <th>0</th>\n",
       "      <td>Martes</td>\n",
       "      <td>5235</td>\n",
       "    </tr>\n",
       "    <tr>\n",
       "      <th>1</th>\n",
       "      <td>Lunes</td>\n",
       "      <td>4557</td>\n",
       "    </tr>\n",
       "    <tr>\n",
       "      <th>2</th>\n",
       "      <td>Domingo</td>\n",
       "      <td>3966</td>\n",
       "    </tr>\n",
       "    <tr>\n",
       "      <th>3</th>\n",
       "      <td>Miercoles</td>\n",
       "      <td>3482</td>\n",
       "    </tr>\n",
       "    <tr>\n",
       "      <th>4</th>\n",
       "      <td>Sabado</td>\n",
       "      <td>3283</td>\n",
       "    </tr>\n",
       "    <tr>\n",
       "      <th>5</th>\n",
       "      <td>Jueves</td>\n",
       "      <td>2989</td>\n",
       "    </tr>\n",
       "    <tr>\n",
       "      <th>6</th>\n",
       "      <td>Viernes</td>\n",
       "      <td>2839</td>\n",
       "    </tr>\n",
       "  </tbody>\n",
       "</table>\n",
       "</div>"
      ],
      "text/plain": [
       "   diaSemana  Total clicks\n",
       "0     Martes          5235\n",
       "1      Lunes          4557\n",
       "2    Domingo          3966\n",
       "3  Miercoles          3482\n",
       "4     Sabado          3283\n",
       "5     Jueves          2989\n",
       "6    Viernes          2839"
      ]
     },
     "execution_count": 30,
     "metadata": {},
     "output_type": "execute_result"
    }
   ],
   "source": [
    "grupo_clicks_por_dia=clks.groupby(['diaSemana'])['diaSemana'].count().sort_values(ascending=False).rename(\"Total clicks\").reset_index()\n",
    "grupo_clicks_por_dia['diaSemana']=grupo_clicks_por_dia['diaSemana'].apply(diaEspañol)\n",
    "grupo_clicks_por_dia.head(10) "
   ]
  },
  {
   "cell_type": "code",
   "execution_count": null,
   "metadata": {},
   "outputs": [],
   "source": []
  },
  {
   "cell_type": "code",
   "execution_count": 31,
   "metadata": {
    "scrolled": true
   },
   "outputs": [
    {
     "data": {
      "image/png": "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\n",
      "text/plain": [
       "<Figure size 1152x504 with 1 Axes>"
      ]
     },
     "metadata": {},
     "output_type": "display_data"
    }
   ],
   "source": [
    "ax = sns.barplot(x='diaSemana', y='Total clicks', data=grupo_clicks_por_dia)\n",
    "\n",
    "figure = ax.get_figure()   \n",
    "ax.set_xlabel(\"Día\", fontsize = 20)\n",
    "ax.figure.set_size_inches(16, 7)\n",
    "ax.set_ylabel(\"Cantidad\", fontsize = 20)\n",
    "ax.set_title('Clicks totales según dia de la semana',fontsize = 25)\n",
    "figure.savefig(\"Clicks totales según dia de la semana.png\")"
   ]
  },
  {
   "cell_type": "markdown",
   "metadata": {},
   "source": [
    "Vemos que los dias martes, lunes y domingos son los días que se efectuan más clicks"
   ]
  },
  {
   "cell_type": "code",
   "execution_count": 32,
   "metadata": {},
   "outputs": [
    {
     "data": {
      "text/html": [
       "<div>\n",
       "<style scoped>\n",
       "    .dataframe tbody tr th:only-of-type {\n",
       "        vertical-align: middle;\n",
       "    }\n",
       "\n",
       "    .dataframe tbody tr th {\n",
       "        vertical-align: top;\n",
       "    }\n",
       "\n",
       "    .dataframe thead th {\n",
       "        text-align: right;\n",
       "    }\n",
       "</style>\n",
       "<table border=\"1\" class=\"dataframe\">\n",
       "  <thead>\n",
       "    <tr style=\"text-align: right;\">\n",
       "      <th></th>\n",
       "      <th>hora</th>\n",
       "      <th>Total clicks</th>\n",
       "    </tr>\n",
       "  </thead>\n",
       "  <tbody>\n",
       "    <tr>\n",
       "      <th>0</th>\n",
       "      <td>1</td>\n",
       "      <td>4209</td>\n",
       "    </tr>\n",
       "    <tr>\n",
       "      <th>1</th>\n",
       "      <td>23</td>\n",
       "      <td>2726</td>\n",
       "    </tr>\n",
       "    <tr>\n",
       "      <th>2</th>\n",
       "      <td>2</td>\n",
       "      <td>2327</td>\n",
       "    </tr>\n",
       "    <tr>\n",
       "      <th>3</th>\n",
       "      <td>11</td>\n",
       "      <td>1455</td>\n",
       "    </tr>\n",
       "    <tr>\n",
       "      <th>4</th>\n",
       "      <td>22</td>\n",
       "      <td>1386</td>\n",
       "    </tr>\n",
       "    <tr>\n",
       "      <th>5</th>\n",
       "      <td>12</td>\n",
       "      <td>1199</td>\n",
       "    </tr>\n",
       "    <tr>\n",
       "      <th>6</th>\n",
       "      <td>10</td>\n",
       "      <td>1143</td>\n",
       "    </tr>\n",
       "    <tr>\n",
       "      <th>7</th>\n",
       "      <td>4</td>\n",
       "      <td>1079</td>\n",
       "    </tr>\n",
       "    <tr>\n",
       "      <th>8</th>\n",
       "      <td>16</td>\n",
       "      <td>966</td>\n",
       "    </tr>\n",
       "    <tr>\n",
       "      <th>9</th>\n",
       "      <td>15</td>\n",
       "      <td>959</td>\n",
       "    </tr>\n",
       "  </tbody>\n",
       "</table>\n",
       "</div>"
      ],
      "text/plain": [
       "   hora  Total clicks\n",
       "0     1          4209\n",
       "1    23          2726\n",
       "2     2          2327\n",
       "3    11          1455\n",
       "4    22          1386\n",
       "5    12          1199\n",
       "6    10          1143\n",
       "7     4          1079\n",
       "8    16           966\n",
       "9    15           959"
      ]
     },
     "execution_count": 32,
     "metadata": {},
     "output_type": "execute_result"
    }
   ],
   "source": [
    "grupo_clicks_por_hora=clks.groupby(['hora'])['diaSemana'].count().sort_values(ascending=False).rename(\"Total clicks\").reset_index()\n",
    "grupo_clicks_por_hora.head(10) "
   ]
  },
  {
   "cell_type": "code",
   "execution_count": 33,
   "metadata": {},
   "outputs": [
    {
     "data": {
      "image/png": "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\n",
      "text/plain": [
       "<Figure size 1152x288 with 1 Axes>"
      ]
     },
     "metadata": {},
     "output_type": "display_data"
    }
   ],
   "source": [
    "ax = sns.barplot(x='hora', y='Total clicks', data=grupo_clicks_por_hora)\n",
    "ax.set_title('Clicks totales según la hora del dia de la semana dede 5/3/19 al 13/3/19')\n",
    "ax.figure.set_size_inches(16, 4)"
   ]
  },
  {
   "cell_type": "markdown",
   "metadata": {},
   "source": [
    "Vemos que las horas en las cuales los usuarios hacen más clicks son: 1 23 y 2 de la mañana"
   ]
  },
  {
   "cell_type": "code",
   "execution_count": 34,
   "metadata": {},
   "outputs": [
    {
     "data": {
      "text/html": [
       "<div>\n",
       "<style scoped>\n",
       "    .dataframe tbody tr th:only-of-type {\n",
       "        vertical-align: middle;\n",
       "    }\n",
       "\n",
       "    .dataframe tbody tr th {\n",
       "        vertical-align: top;\n",
       "    }\n",
       "\n",
       "    .dataframe thead th {\n",
       "        text-align: right;\n",
       "    }\n",
       "</style>\n",
       "<table border=\"1\" class=\"dataframe\">\n",
       "  <thead>\n",
       "    <tr style=\"text-align: right;\">\n",
       "      <th></th>\n",
       "      <th>diaSemana</th>\n",
       "      <th>hora</th>\n",
       "      <th>Total clicks</th>\n",
       "    </tr>\n",
       "  </thead>\n",
       "  <tbody>\n",
       "    <tr>\n",
       "      <th>0</th>\n",
       "      <td>Thursday</td>\n",
       "      <td>23</td>\n",
       "      <td>2172</td>\n",
       "    </tr>\n",
       "    <tr>\n",
       "      <th>1</th>\n",
       "      <td>Saturday</td>\n",
       "      <td>1</td>\n",
       "      <td>1154</td>\n",
<<<<<<< HEAD
=======
       "    </tr>\n",
       "    <tr>\n",
       "      <th>2</th>\n",
       "      <td>Friday</td>\n",
       "      <td>1</td>\n",
       "      <td>988</td>\n",
       "    </tr>\n",
       "    <tr>\n",
       "      <th>3</th>\n",
       "      <td>Sunday</td>\n",
       "      <td>2</td>\n",
       "      <td>887</td>\n",
       "    </tr>\n",
       "    <tr>\n",
       "      <th>4</th>\n",
       "      <td>Monday</td>\n",
       "      <td>1</td>\n",
       "      <td>878</td>\n",
       "    </tr>\n",
       "  </tbody>\n",
       "</table>\n",
       "</div>"
      ],
      "text/plain": [
       "  diaSemana  hora  Total clicks\n",
       "0  Thursday    23          2172\n",
       "1  Saturday     1          1154\n",
       "2    Friday     1           988\n",
       "3    Sunday     2           887\n",
       "4    Monday     1           878"
      ]
     },
     "execution_count": 34,
     "metadata": {},
     "output_type": "execute_result"
    }
   ],
   "source": [
    "grupo_clicks_por_dia_hora=clks.groupby(['diaSemana','hora'])['hora'].count().sort_values(ascending=False).rename(\"Total clicks\").reset_index()\n",
    "grupo_clicks_por_dia_hora.head(5) "
   ]
  },
  {
   "cell_type": "code",
   "execution_count": 35,
   "metadata": {},
   "outputs": [],
   "source": [
    "clks['diaSemana']=clks['diaSemana'].apply(diaEspañol)"
   ]
  },
  {
   "cell_type": "code",
   "execution_count": 36,
   "metadata": {
    "scrolled": true
   },
   "outputs": [
    {
     "data": {
      "image/png": "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\n",
      "text/plain": [
       "<Figure size 864x432 with 7 Axes>"
      ]
     },
     "metadata": {},
     "output_type": "display_data"
    }
   ],
   "source": [
    "sns.set(style=\"ticks\")\n",
    "grid = sns.FacetGrid(clks,col=\"diaSemana\",col_wrap=4, margin_titles=True,sharex=False,sharey=False)\n",
    "\n",
    "grid.map(plt.hist,\"hora\",bins=24);\n",
    "\n",
    "plt.subplots_adjust(top=0.8)\n",
    "grid.fig.suptitle('Distribución del número de  clicks según el día',fontsize = 25) # can also get the figure from plt.gcf()\n",
    "grid.savefig(\"Cantidad clicks según día y hora.png\")"
   ]
  },
  {
   "cell_type": "markdown",
   "metadata": {},
   "source": [
    "En los graficos anteriores vemos que la disrtibución de los clicks para cada dia según la hora"
   ]
  },
  {
   "cell_type": "code",
   "execution_count": null,
   "metadata": {},
   "outputs": [],
   "source": []
  },
  {
   "cell_type": "markdown",
   "metadata": {},
   "source": [
    "# Análisis sobre las subastas"
   ]
  },
  {
   "cell_type": "code",
   "execution_count": 37,
   "metadata": {},
   "outputs": [
    {
     "data": {
      "text/html": [
       "<div>\n",
       "<style scoped>\n",
       "    .dataframe tbody tr th:only-of-type {\n",
       "        vertical-align: middle;\n",
       "    }\n",
       "\n",
       "    .dataframe tbody tr th {\n",
       "        vertical-align: top;\n",
       "    }\n",
       "\n",
       "    .dataframe thead th {\n",
       "        text-align: right;\n",
       "    }\n",
       "</style>\n",
       "<table border=\"1\" class=\"dataframe\">\n",
       "  <thead>\n",
       "    <tr style=\"text-align: right;\">\n",
       "      <th></th>\n",
       "      <th>platform</th>\n",
       "      <th>source_id</th>\n",
       "    </tr>\n",
       "  </thead>\n",
       "  <tbody>\n",
       "    <tr>\n",
       "      <th>count</th>\n",
       "      <td>1.957132e+07</td>\n",
       "      <td>1.957132e+07</td>\n",
       "    </tr>\n",
       "    <tr>\n",
       "      <th>mean</th>\n",
       "      <td>1.205888e+00</td>\n",
       "      <td>6.857898e-01</td>\n",
       "    </tr>\n",
       "    <tr>\n",
       "      <th>std</th>\n",
       "      <td>4.043488e-01</td>\n",
       "      <td>1.416215e+00</td>\n",
       "    </tr>\n",
       "    <tr>\n",
       "      <th>min</th>\n",
       "      <td>1.000000e+00</td>\n",
       "      <td>0.000000e+00</td>\n",
       "    </tr>\n",
       "    <tr>\n",
       "      <th>25%</th>\n",
       "      <td>1.000000e+00</td>\n",
       "      <td>0.000000e+00</td>\n",
>>>>>>> 282929afe46fd4d45c883108070559b62233bd3b
       "    </tr>\n",
       "    <tr>\n",
       "      <th>2</th>\n",
       "      <td>Friday</td>\n",
       "      <td>1</td>\n",
       "      <td>988</td>\n",
       "    </tr>\n",
       "    <tr>\n",
       "      <th>3</th>\n",
       "      <td>Sunday</td>\n",
       "      <td>2</td>\n",
       "      <td>887</td>\n",
       "    </tr>\n",
       "    <tr>\n",
       "      <th>4</th>\n",
       "      <td>Monday</td>\n",
       "      <td>1</td>\n",
       "      <td>878</td>\n",
       "    </tr>\n",
       "  </tbody>\n",
       "</table>\n",
       "</div>"
      ],
      "text/plain": [
       "  diaSemana  hora  Total clicks\n",
       "0  Thursday    23          2172\n",
       "1  Saturday     1          1154\n",
       "2    Friday     1           988\n",
       "3    Sunday     2           887\n",
       "4    Monday     1           878"
      ]
     },
<<<<<<< HEAD
     "execution_count": 29,
=======
     "execution_count": 37,
>>>>>>> 282929afe46fd4d45c883108070559b62233bd3b
     "metadata": {},
     "output_type": "execute_result"
    }
   ],
   "source": [
    "grupo_clicks_por_dia_hora=clks.groupby(['diaSemana','hora'])['hora'].count().sort_values(ascending=False).rename(\"Total clicks\").reset_index()\n",
    "grupo_clicks_por_dia_hora.head(5) "
   ]
  },
  {
   "cell_type": "code",
<<<<<<< HEAD
   "execution_count": 30,
   "metadata": {
    "scrolled": true
   },
=======
   "execution_count": 38,
   "metadata": {},
>>>>>>> 282929afe46fd4d45c883108070559b62233bd3b
   "outputs": [
    {
     "data": {
      "image/png": "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\n",
      "text/plain": [
       "<matplotlib.figure.Figure at 0x7f2963a24208>"
      ]
     },
<<<<<<< HEAD
=======
     "execution_count": 38,
>>>>>>> 282929afe46fd4d45c883108070559b62233bd3b
     "metadata": {},
     "output_type": "display_data"
    }
   ],
   "source": [
    "grid = sns.FacetGrid(clks,col=\"diaSemana\", col_wrap=4, margin_titles=True,sharex=False)\n",
    "\n",
    "grid.map(plt.hist,\"hora\",bins=np.linspace(0, 23,15),color=\"m\");\n"
   ]
  },
  {
   "cell_type": "markdown",
   "metadata": {},
   "source": [
    "En los graficos anteriores vemos que la disrtibución de los clicks para cada dia según la hora"
   ]
  },
  {
   "cell_type": "code",
   "execution_count": null,
   "metadata": {},
   "outputs": [],
   "source": []
  },
  {
   "cell_type": "markdown",
   "metadata": {},
   "source": [
    "# Análisis sobre las subastas"
   ]
  },
  {
   "cell_type": "markdown",
   "metadata": {},
   "source": [
    "## Veo que información puedo obtener de los días y horarios en que se realizan las subastas"
   ]
  },
  {
   "cell_type": "code",
   "execution_count": 39,
   "metadata": {},
   "outputs": [
    {
     "data": {
      "text/plain": [
       "195713270"
      ]
     },
     "execution_count": 39,
     "metadata": {},
     "output_type": "execute_result"
    }
   ],
   "source": [
    "subs.memory_usage(deep=True).sum()"
   ]
  },
  {
   "cell_type": "code",
   "execution_count": 40,
   "metadata": {},
   "outputs": [
    {
     "data": {
      "text/html": [
       "<div>\n",
       "<style scoped>\n",
       "    .dataframe tbody tr th:only-of-type {\n",
       "        vertical-align: middle;\n",
       "    }\n",
       "\n",
       "    .dataframe tbody tr th {\n",
       "        vertical-align: top;\n",
       "    }\n",
       "\n",
       "    .dataframe thead th {\n",
       "        text-align: right;\n",
       "    }\n",
       "</style>\n",
       "<table border=\"1\" class=\"dataframe\">\n",
       "  <thead>\n",
       "    <tr style=\"text-align: right;\">\n",
       "      <th></th>\n",
       "      <th>date</th>\n",
       "      <th>platform</th>\n",
       "      <th>source_id</th>\n",
       "      <th>año</th>\n",
       "      <th>mes</th>\n",
       "      <th>día</th>\n",
       "      <th>hora</th>\n",
       "      <th>minuto</th>\n",
       "      <th>diaSemana</th>\n",
       "    </tr>\n",
       "  </thead>\n",
       "  <tbody>\n",
       "    <tr>\n",
       "      <th>0</th>\n",
       "      <td>2019-03-11 14:18:33.290763</td>\n",
       "      <td>1</td>\n",
       "      <td>0</td>\n",
       "      <td>2019</td>\n",
       "      <td>3</td>\n",
       "      <td>11</td>\n",
       "      <td>14</td>\n",
       "      <td>18</td>\n",
       "      <td>Monday</td>\n",
       "    </tr>\n",
       "    <tr>\n",
       "      <th>1</th>\n",
       "      <td>2019-03-11 14:18:34.440157</td>\n",
       "      <td>1</td>\n",
       "      <td>0</td>\n",
       "      <td>2019</td>\n",
       "      <td>3</td>\n",
       "      <td>11</td>\n",
       "      <td>14</td>\n",
       "      <td>18</td>\n",
       "      <td>Monday</td>\n",
       "    </tr>\n",
       "    <tr>\n",
       "      <th>2</th>\n",
       "      <td>2019-03-11 14:18:35.862360</td>\n",
       "      <td>1</td>\n",
       "      <td>0</td>\n",
       "      <td>2019</td>\n",
       "      <td>3</td>\n",
       "      <td>11</td>\n",
       "      <td>14</td>\n",
       "      <td>18</td>\n",
       "      <td>Monday</td>\n",
       "    </tr>\n",
       "    <tr>\n",
       "      <th>3</th>\n",
       "      <td>2019-03-11 14:18:36.167163</td>\n",
       "      <td>1</td>\n",
       "      <td>0</td>\n",
       "      <td>2019</td>\n",
       "      <td>3</td>\n",
       "      <td>11</td>\n",
       "      <td>14</td>\n",
       "      <td>18</td>\n",
       "      <td>Monday</td>\n",
       "    </tr>\n",
       "    <tr>\n",
       "      <th>4</th>\n",
       "      <td>2019-03-11 14:18:37.728590</td>\n",
       "      <td>1</td>\n",
       "      <td>0</td>\n",
       "      <td>2019</td>\n",
       "      <td>3</td>\n",
       "      <td>11</td>\n",
       "      <td>14</td>\n",
       "      <td>18</td>\n",
       "      <td>Monday</td>\n",
       "    </tr>\n",
       "  </tbody>\n",
       "</table>\n",
       "</div>"
      ],
      "text/plain": [
       "                        date  platform  source_id   año mes día hora minuto  \\\n",
       "0 2019-03-11 14:18:33.290763         1          0  2019   3  11   14     18   \n",
       "1 2019-03-11 14:18:34.440157         1          0  2019   3  11   14     18   \n",
       "2 2019-03-11 14:18:35.862360         1          0  2019   3  11   14     18   \n",
       "3 2019-03-11 14:18:36.167163         1          0  2019   3  11   14     18   \n",
       "4 2019-03-11 14:18:37.728590         1          0  2019   3  11   14     18   \n",
       "\n",
       "  diaSemana  \n",
       "0    Monday  \n",
       "1    Monday  \n",
       "2    Monday  \n",
       "3    Monday  \n",
       "4    Monday  "
      ]
     },
     "execution_count": 40,
     "metadata": {},
     "output_type": "execute_result"
    }
   ],
   "source": [
    "subs['año'] = pd.DatetimeIndex(subs['date']).year.astype('category')\n",
    "subs['mes'] =subs['date'].dt.month.astype('category')\n",
    "subs['día'] = subs['date'].dt.day.astype('category')\n",
    "subs['hora'] = subs['date'].dt.hour.astype('category')\n",
    "subs['minuto'] = subs['date'].dt.minute.astype('category')\n",
    "subs['diaSemana'] = subs['date'].dt.weekday_name.astype('category')\n",
    "subs.head()"
   ]
  },
  {
   "cell_type": "code",
<<<<<<< HEAD
   "execution_count": 38,
=======
   "execution_count": 41,
   "metadata": {},
   "outputs": [
    {
     "data": {
      "text/plain": [
       "313146393"
      ]
     },
     "execution_count": 41,
     "metadata": {},
     "output_type": "execute_result"
    }
   ],
   "source": [
    "subs.memory_usage(deep=True).sum()"
   ]
  },
  {
   "cell_type": "code",
   "execution_count": 42,
   "metadata": {},
   "outputs": [
    {
     "name": "stdout",
     "output_type": "stream",
     "text": [
      "<class 'pandas.core.frame.DataFrame'>\n",
      "RangeIndex: 19571319 entries, 0 to 19571318\n",
      "Data columns (total 9 columns):\n",
      "date         datetime64[ns]\n",
      "platform     int8\n",
      "source_id    int8\n",
      "año          category\n",
      "mes          category\n",
      "día          category\n",
      "hora         category\n",
      "minuto       category\n",
      "diaSemana    category\n",
      "dtypes: category(6), datetime64[ns](1), int8(2)\n",
      "memory usage: 298.6 MB\n"
     ]
    }
   ],
   "source": [
    "subs.info()"
   ]
  },
  {
   "cell_type": "code",
   "execution_count": 43,
   "metadata": {},
   "outputs": [
    {
     "data": {
      "text/plain": [
       "313146393"
      ]
     },
     "execution_count": 43,
     "metadata": {},
     "output_type": "execute_result"
    }
   ],
   "source": [
    "subs.memory_usage(deep=True).sum()"
   ]
  },
  {
   "cell_type": "code",
   "execution_count": 44,
>>>>>>> 282929afe46fd4d45c883108070559b62233bd3b
   "metadata": {},
   "outputs": [
    {
     "data": {
      "text/html": [
       "<div>\n",
       "<style scoped>\n",
       "    .dataframe tbody tr th:only-of-type {\n",
       "        vertical-align: middle;\n",
       "    }\n",
       "\n",
       "    .dataframe tbody tr th {\n",
       "        vertical-align: top;\n",
       "    }\n",
       "\n",
       "    .dataframe thead th {\n",
       "        text-align: right;\n",
       "    }\n",
       "</style>\n",
       "<table border=\"1\" class=\"dataframe\">\n",
       "  <thead>\n",
       "    <tr style=\"text-align: right;\">\n",
       "      <th></th>\n",
       "      <th>hora</th>\n",
       "      <th>Total subastas</th>\n",
       "    </tr>\n",
       "  </thead>\n",
       "  <tbody>\n",
       "    <tr>\n",
       "      <th>0</th>\n",
       "      <td>2</td>\n",
       "      <td>1388464</td>\n",
       "    </tr>\n",
       "    <tr>\n",
       "      <th>1</th>\n",
       "      <td>1</td>\n",
       "      <td>1371091</td>\n",
       "    </tr>\n",
       "    <tr>\n",
       "      <th>2</th>\n",
       "      <td>23</td>\n",
       "      <td>1173841</td>\n",
       "    </tr>\n",
       "    <tr>\n",
       "      <th>3</th>\n",
       "      <td>22</td>\n",
       "      <td>1108219</td>\n",
       "    </tr>\n",
       "    <tr>\n",
       "      <th>4</th>\n",
       "      <td>3</td>\n",
       "      <td>1027541</td>\n",
       "    </tr>\n",
       "    <tr>\n",
       "      <th>5</th>\n",
       "      <td>21</td>\n",
       "      <td>1015053</td>\n",
       "    </tr>\n",
       "    <tr>\n",
       "      <th>6</th>\n",
       "      <td>0</td>\n",
       "      <td>1005716</td>\n",
       "    </tr>\n",
       "    <tr>\n",
       "      <th>7</th>\n",
       "      <td>19</td>\n",
       "      <td>994381</td>\n",
       "    </tr>\n",
       "    <tr>\n",
       "      <th>8</th>\n",
       "      <td>18</td>\n",
       "      <td>989528</td>\n",
       "    </tr>\n",
       "    <tr>\n",
       "      <th>9</th>\n",
       "      <td>17</td>\n",
       "      <td>967539</td>\n",
       "    </tr>\n",
       "  </tbody>\n",
       "</table>\n",
       "</div>"
      ],
      "text/plain": [
       "  hora  Total subastas\n",
       "0    2         1388464\n",
       "1    1         1371091\n",
       "2   23         1173841\n",
       "3   22         1108219\n",
       "4    3         1027541\n",
       "5   21         1015053\n",
       "6    0         1005716\n",
       "7   19          994381\n",
       "8   18          989528\n",
       "9   17          967539"
      ]
     },
     "execution_count": 44,
     "metadata": {},
     "output_type": "execute_result"
    }
   ],
   "source": [
    "grupo_subastas_por_hora=subs.groupby(['hora'])['diaSemana'].count().sort_values(ascending=False).rename(\"Total subastas\").reset_index()\n",
    "grupo_subastas_por_hora.head(10) "
   ]
  },
  {
   "cell_type": "code",
   "execution_count": 45,
   "metadata": {},
   "outputs": [
    {
     "data": {
      "text/html": [
       "<div>\n",
       "<style scoped>\n",
       "    .dataframe tbody tr th:only-of-type {\n",
       "        vertical-align: middle;\n",
       "    }\n",
       "\n",
       "    .dataframe tbody tr th {\n",
       "        vertical-align: top;\n",
       "    }\n",
       "\n",
       "    .dataframe thead th {\n",
       "        text-align: right;\n",
       "    }\n",
       "</style>\n",
       "<table border=\"1\" class=\"dataframe\">\n",
       "  <thead>\n",
       "    <tr style=\"text-align: right;\">\n",
       "      <th></th>\n",
       "      <th>diaSemana</th>\n",
       "      <th>Subastas totales</th>\n",
       "    </tr>\n",
       "  </thead>\n",
       "  <tbody>\n",
       "    <tr>\n",
       "      <th>0</th>\n",
       "      <td>Friday</td>\n",
       "      <td>2303002</td>\n",
       "    </tr>\n",
       "    <tr>\n",
       "      <th>1</th>\n",
       "      <td>Monday</td>\n",
       "      <td>2574916</td>\n",
       "    </tr>\n",
       "    <tr>\n",
       "      <th>2</th>\n",
       "      <td>Saturday</td>\n",
       "      <td>2074552</td>\n",
       "    </tr>\n",
       "    <tr>\n",
       "      <th>3</th>\n",
       "      <td>Sunday</td>\n",
       "      <td>2637534</td>\n",
       "    </tr>\n",
       "    <tr>\n",
       "      <th>4</th>\n",
       "      <td>Thursday</td>\n",
       "      <td>2047661</td>\n",
       "    </tr>\n",
       "    <tr>\n",
       "      <th>5</th>\n",
       "      <td>Tuesday</td>\n",
       "      <td>3962311</td>\n",
       "    </tr>\n",
       "    <tr>\n",
       "      <th>6</th>\n",
       "      <td>Wednesday</td>\n",
       "      <td>3971343</td>\n",
       "    </tr>\n",
       "  </tbody>\n",
       "</table>\n",
       "</div>"
      ],
      "text/plain": [
       "   diaSemana  Subastas totales\n",
       "0     Friday           2303002\n",
       "1     Monday           2574916\n",
       "2   Saturday           2074552\n",
       "3     Sunday           2637534\n",
       "4   Thursday           2047661\n",
       "5    Tuesday           3962311\n",
       "6  Wednesday           3971343"
      ]
     },
     "execution_count": 45,
     "metadata": {},
     "output_type": "execute_result"
    }
   ],
   "source": [
    "grupo_auctions_por_dia_prom=subs.groupby(['diaSemana']).agg({'diaSemana':'count'})\\\n",
    "            .rename(columns={'diaSemana':'Subastas totales'}).reset_index()\n",
    "grupo_auctions_por_dia_prom.head(10)"
   ]
  },
  {
   "cell_type": "code",
   "execution_count": null,
   "metadata": {},
   "outputs": [],
   "source": []
  },
  {
   "cell_type": "code",
   "execution_count": 46,
   "metadata": {},
   "outputs": [
    {
     "data": {
      "text/plain": [
       "'Viernes'"
      ]
     },
     "execution_count": 46,
     "metadata": {},
     "output_type": "execute_result"
    }
   ],
   "source": [
    "diaEspañol(\"Friday\")"
   ]
  },
  {
   "cell_type": "code",
   "execution_count": 47,
   "metadata": {},
   "outputs": [
    {
     "data": {
      "text/html": [
       "<div>\n",
       "<style scoped>\n",
       "    .dataframe tbody tr th:only-of-type {\n",
       "        vertical-align: middle;\n",
       "    }\n",
       "\n",
       "    .dataframe tbody tr th {\n",
       "        vertical-align: top;\n",
       "    }\n",
       "\n",
       "    .dataframe thead th {\n",
       "        text-align: right;\n",
       "    }\n",
       "</style>\n",
       "<table border=\"1\" class=\"dataframe\">\n",
       "  <thead>\n",
       "    <tr style=\"text-align: right;\">\n",
       "      <th></th>\n",
       "      <th>diaSemana</th>\n",
       "      <th>Subastas totales</th>\n",
       "    </tr>\n",
       "  </thead>\n",
       "  <tbody>\n",
       "    <tr>\n",
       "      <th>0</th>\n",
       "      <td>Miercoles</td>\n",
       "      <td>3971343</td>\n",
       "    </tr>\n",
       "    <tr>\n",
       "      <th>1</th>\n",
       "      <td>Martes</td>\n",
       "      <td>3962311</td>\n",
       "    </tr>\n",
       "    <tr>\n",
       "      <th>2</th>\n",
       "      <td>Domingo</td>\n",
       "      <td>2637534</td>\n",
       "    </tr>\n",
       "    <tr>\n",
       "      <th>3</th>\n",
       "      <td>Lunes</td>\n",
       "      <td>2574916</td>\n",
       "    </tr>\n",
       "    <tr>\n",
       "      <th>4</th>\n",
       "      <td>Viernes</td>\n",
       "      <td>2303002</td>\n",
       "    </tr>\n",
       "    <tr>\n",
       "      <th>5</th>\n",
       "      <td>Sabado</td>\n",
       "      <td>2074552</td>\n",
       "    </tr>\n",
       "    <tr>\n",
       "      <th>6</th>\n",
       "      <td>Jueves</td>\n",
       "      <td>2047661</td>\n",
       "    </tr>\n",
       "  </tbody>\n",
       "</table>\n",
       "</div>"
      ],
      "text/plain": [
       "   diaSemana  Subastas totales\n",
       "0  Miercoles           3971343\n",
       "1     Martes           3962311\n",
       "2    Domingo           2637534\n",
       "3      Lunes           2574916\n",
       "4    Viernes           2303002\n",
       "5     Sabado           2074552\n",
       "6     Jueves           2047661"
      ]
     },
     "execution_count": 47,
     "metadata": {},
     "output_type": "execute_result"
    }
   ],
   "source": [
    "grupo_auctions_por_dia=subs.groupby(['diaSemana'])['diaSemana'].count().sort_values(ascending=False).rename(\"Subastas totales\").reset_index()\n",
    "grupo_auctions_por_dia['diaSemana']=grupo_auctions_por_dia['diaSemana'].apply(diaEspañol)\n",
    "grupo_auctions_por_dia.head(7) "
   ]
  },
  {
   "cell_type": "code",
   "execution_count": 49,
   "metadata": {},
   "outputs": [
    {
     "data": {
      "image/png": "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\n",
      "text/plain": [
       "<Figure size 1152x432 with 1 Axes>"
      ]
     },
     "metadata": {},
     "output_type": "display_data"
    }
   ],
   "source": [
    "ax = sns.barplot(x='diaSemana', y='Subastas totales', data=grupo_auctions_por_dia)\n",
    "\n",
    "ax.figure.set_size_inches(16, 8)\n",
    "ax.set_title('Subastas totales según el dia de la semana',fontsize = 25)\n",
    "ax.set_xlabel(\"Subastas totales\", fontsize = 20)\n",
    "ax.set_ylabel(\"Día\", fontsize = 20)\n",
    "figure = ax.get_figure()   \n",
    "figure.savefig(\"Subastas_por_dia.png\")\n"
   ]
  },
  {
   "cell_type": "markdown",
   "metadata": {},
   "source": [
    "# ¿Cómo varían las subastas promedio por hora según el día?"
   ]
  },
  {
   "cell_type": "code",
   "execution_count": 46,
   "metadata": {},
   "outputs": [],
   "source": [
    "subs['hora']=subs['hora'].astype('int8')"
   ]
  },
  {
   "cell_type": "code",
   "execution_count": 48,
   "metadata": {},
   "outputs": [
    {
     "ename": "NameError",
     "evalue": "name 'grupo_auctions_por_hora' is not defined",
     "output_type": "error",
     "traceback": [
      "\u001b[0;31m---------------------------------------------------------------------------\u001b[0m",
      "\u001b[0;31mNameError\u001b[0m                                 Traceback (most recent call last)",
      "\u001b[0;32m<ipython-input-48-185a73c3d8bf>\u001b[0m in \u001b[0;36m<module>\u001b[0;34m\u001b[0m\n\u001b[1;32m      1\u001b[0m \u001b[0mgrupo_average\u001b[0m\u001b[0;34m=\u001b[0m\u001b[0msubs\u001b[0m\u001b[0;34m.\u001b[0m\u001b[0mgroupby\u001b[0m\u001b[0;34m(\u001b[0m\u001b[0;34m[\u001b[0m\u001b[0;34m'diaSemana'\u001b[0m\u001b[0;34m,\u001b[0m\u001b[0;34m'hora'\u001b[0m\u001b[0;34m]\u001b[0m\u001b[0;34m)\u001b[0m\u001b[0;34m.\u001b[0m\u001b[0magg\u001b[0m\u001b[0;34m(\u001b[0m\u001b[0;34m{\u001b[0m\u001b[0;34m'diaSemana'\u001b[0m\u001b[0;34m:\u001b[0m\u001b[0;34m'count'\u001b[0m\u001b[0;34m,\u001b[0m\u001b[0;34m'hora'\u001b[0m\u001b[0;34m:\u001b[0m\u001b[0;34m'count'\u001b[0m\u001b[0;34m}\u001b[0m\u001b[0;34m)\u001b[0m\u001b[0;34m.\u001b[0m\u001b[0mrename\u001b[0m\u001b[0;34m(\u001b[0m\u001b[0mcolumns\u001b[0m\u001b[0;34m=\u001b[0m\u001b[0;34m{\u001b[0m\u001b[0;34m'diaSemana'\u001b[0m\u001b[0;34m:\u001b[0m\u001b[0;34m'num dias'\u001b[0m\u001b[0;34m,\u001b[0m \u001b[0;34m'hora'\u001b[0m\u001b[0;34m:\u001b[0m\u001b[0;34m'cantidad por hora'\u001b[0m\u001b[0;34m}\u001b[0m\u001b[0;34m)\u001b[0m\u001b[0;34m.\u001b[0m\u001b[0mreset_index\u001b[0m\u001b[0;34m(\u001b[0m\u001b[0;34m)\u001b[0m\u001b[0;34m\u001b[0m\u001b[0;34m\u001b[0m\u001b[0m\n\u001b[0;32m----> 2\u001b[0;31m \u001b[0mgrupo_average\u001b[0m\u001b[0;34m[\u001b[0m\u001b[0;34m'diaSemana'\u001b[0m\u001b[0;34m]\u001b[0m\u001b[0;34m=\u001b[0m\u001b[0mgrupo_auctions_por_hora\u001b[0m\u001b[0;34m[\u001b[0m\u001b[0;34m'diaSemana'\u001b[0m\u001b[0;34m]\u001b[0m\u001b[0;34m.\u001b[0m\u001b[0mapply\u001b[0m\u001b[0;34m(\u001b[0m\u001b[0mdiaEspañol\u001b[0m\u001b[0;34m)\u001b[0m\u001b[0;34m\u001b[0m\u001b[0;34m\u001b[0m\u001b[0m\n\u001b[0m\u001b[1;32m      3\u001b[0m \u001b[0mgrupo_average\u001b[0m\u001b[0;34m.\u001b[0m\u001b[0mhead\u001b[0m\u001b[0;34m(\u001b[0m\u001b[0;36m5\u001b[0m\u001b[0;34m)\u001b[0m\u001b[0;34m\u001b[0m\u001b[0;34m\u001b[0m\u001b[0m\n",
      "\u001b[0;31mNameError\u001b[0m: name 'grupo_auctions_por_hora' is not defined"
     ]
    }
   ],
   "source": [
    "grupo_average=subs.groupby(['diaSemana','hora']).agg({'diaSemana':'count','hora':'count'}).rename(columns={'diaSemana':'num dias', 'hora':'cantidad por hora'}).reset_index()\n",
    "grupo_average['diaSemana']=grupo_auctions_por_hora['diaSemana'].apply(diaEspañol)\n",
    "grupo_average.head(5) "
   ]
  },
  {
   "cell_type": "code",
   "execution_count": null,
   "metadata": {},
   "outputs": [],
   "source": [
    "grupo_auctions_por_hora=subs.groupby(['diaSemana','hora'])['hora'].count().sort_values(ascending=False).rename(\"Subastas totales\").reset_index()\n",
    "grupo_auctions_por_hora['num dias']= grupo_auctions_por_hora.groupby('diaSemana')['diaSemana'].count()\n",
    "grupo_auctions_por_hora['diaSemana']=grupo_auctions_por_hora['diaSemana'].apply(diaEspañol)\n",
    "\n",
    "grupo_auctions_por_hora.head(5)"
   ]
  },
  {
   "cell_type": "code",
   "execution_count": null,
   "metadata": {},
   "outputs": [],
   "source": [
    "grupo_auctions_por_hora=grupo_auctions_por_hora.groupby(['diaSemana'])['Subastas totales'].mean().sort_values(ascending=False).rename(\"Subastas promedios por hora\").reset_index()\n",
    "grupo_auctions_por_hora['diaSemana']=grupo_auctions_por_dia['diaSemana'].apply(diaEspañol)\n",
    "grupo_auctions_por_hora.head(10)"
   ]
  },
  {
   "cell_type": "code",
   "execution_count": null,
   "metadata": {
    "scrolled": true
   },
   "outputs": [],
   "source": [
    "df2 = grupo_auctions_por_hora[['diaSemana', 'hora','Subastas totales']]\n",
    "heatmap2_data = pd.pivot_table(df2,values='Subastas totales', index=['diaSemana'], columns={'hora'})\n",
    "heatmap2_data.head(n=5)\n",
    "ax=sns.heatmap(heatmap2_data, cmap=\"BuGn\")\n",
    "ax.set_title('Subastas totales según dia y hora',fontsize = 25)\n",
    "ax.set_xlabel(\"Hora\", fontsize = 15)\n",
    "ax.set_ylabel(\"Día\", fontsize = 15)\n",
    "ax.figure.set_size_inches(16, 7)\n",
    "figure = ax.get_figure()   \n",
    "figure.savefig(\"Subastas_por_dia_hora.png\")"
   ]
  },
  {
   "cell_type": "markdown",
   "metadata": {},
   "source": [
    "En el grafico anterior se puede ver un heat map de las subastas por dia y hora. Se ve que las subastas se son mayores en los dias martes y miercoles . La horas picos son de entre las 0 y las 3 am"
   ]
  },
  {
   "cell_type": "code",
   "execution_count": null,
   "metadata": {},
   "outputs": [],
   "source": [
    "grid = sns.FacetGrid(subs,col=\"diaSemana\", col_wrap=4, margin_titles=True,sharex=False)\n",
    "\n",
    "grid.map(plt.hist,\"hora\",bins=np.linspace(0, 23,15),color=\"m\");"
   ]
  },
  {
   "cell_type": "code",
   "execution_count": null,
   "metadata": {},
   "outputs": [],
   "source": [
    "subs_counts = subs_counts.reset_index()\n",
    "subs_counts.head()"
   ]
  },
  {
   "cell_type": "markdown",
   "metadata": {},
   "source": [
    "## Veo que información encuentro sobre el campo platform"
   ]
  },
  {
   "cell_type": "code",
   "execution_count": null,
   "metadata": {},
   "outputs": [],
   "source": [
    "platformCount = subs['platform'].value_counts().reset_index()\n",
    "platformCount['platform_name'] = platformCount['index'].apply(lambda x: 'Android' if (x == 1) else 'IOS')\n",
    "platformCount.columns = ['platform_id', 'platform_count', 'platform_name']\n",
    "platformCount"
   ]
  },
  {
   "cell_type": "code",
   "execution_count": null,
   "metadata": {},
   "outputs": [],
   "source": [
    "platformCount = subs['platform'].value_counts().reset_index()\n",
    "platformCount['platform_name'] = platformCount['index'].apply(lambda x: 'Android' if (x == 1) else 'IOS')\n",
    "platformCount.columns = ['platform_id', 'platform_count', 'platform_name']\n",
    "platformCount\n",
    "plt.pie(platformCount['platform_count'].to_list(), labels = platformCount['platform_name'].to_list(), autopct='%1.1f%%', colors = ['yellowgreen', 'mediumaquamarine'], shadow=True, radius = 1.7)\n",
    "plt.legend(platformCount['platform_name'].to_list(), loc = \"upper right\")\n",
    "plt.title(\"Subastas: Plataforma de Dispositivo Utilizadas\", {'fontsize': 20,\n",
    "        'fontweight' : 20,\n",
    "        'verticalalignment': 'center',\n",
    "        'horizontalalignment': 'center'})\n",
    "plt.show()"
   ]
  },
  {
   "cell_type": "markdown",
   "metadata": {},
   "source": [
    "# hago un join"
   ]
  },
  {
   "cell_type": "code",
   "execution_count": 14,
   "metadata": {},
   "outputs": [
    {
     "data": {
      "text/html": [
       "<div>\n",
       "<style scoped>\n",
       "    .dataframe tbody tr th:only-of-type {\n",
       "        vertical-align: middle;\n",
       "    }\n",
       "\n",
       "    .dataframe tbody tr th {\n",
       "        vertical-align: top;\n",
       "    }\n",
       "\n",
       "    .dataframe thead th {\n",
       "        text-align: right;\n",
       "    }\n",
       "</style>\n",
       "<table border=\"1\" class=\"dataframe\">\n",
       "  <thead>\n",
       "    <tr style=\"text-align: right;\">\n",
       "      <th></th>\n",
       "      <th>source_id</th>\n",
       "    </tr>\n",
       "  </thead>\n",
       "  <tbody>\n",
       "    <tr>\n",
       "      <th>0</th>\n",
       "      <td>4</td>\n",
       "    </tr>\n",
       "    <tr>\n",
       "      <th>1</th>\n",
       "      <td>0</td>\n",
       "    </tr>\n",
       "    <tr>\n",
       "      <th>2</th>\n",
       "      <td>0</td>\n",
       "    </tr>\n",
       "    <tr>\n",
       "      <th>3</th>\n",
       "      <td>3</td>\n",
       "    </tr>\n",
       "    <tr>\n",
       "      <th>4</th>\n",
       "      <td>3</td>\n",
       "    </tr>\n",
       "  </tbody>\n",
       "</table>\n",
       "</div>"
      ],
      "text/plain": [
       "   source_id\n",
       "0          4\n",
       "1          0\n",
       "2          0\n",
       "3          3\n",
       "4          3"
      ]
     },
     "execution_count": 14,
     "metadata": {},
     "output_type": "execute_result"
    }
   ],
   "source": [
    "df_a = pd.DataFrame(clks, columns = ['source_id'])\n",
    "df_b = pd.DataFrame(subs, columns = ['source_id','device_id'])\n",
    "df_a.head()"
   ]
  },
  {
   "cell_type": "code",
<<<<<<< HEAD
=======
   "execution_count": 15,
   "metadata": {},
   "outputs": [
    {
     "data": {
      "text/html": [
       "<div>\n",
       "<style scoped>\n",
       "    .dataframe tbody tr th:only-of-type {\n",
       "        vertical-align: middle;\n",
       "    }\n",
       "\n",
       "    .dataframe tbody tr th {\n",
       "        vertical-align: top;\n",
       "    }\n",
       "\n",
       "    .dataframe thead th {\n",
       "        text-align: right;\n",
       "    }\n",
       "</style>\n",
       "<table border=\"1\" class=\"dataframe\">\n",
       "  <thead>\n",
       "    <tr style=\"text-align: right;\">\n",
       "      <th></th>\n",
       "      <th>source_id</th>\n",
       "      <th>device_id</th>\n",
       "    </tr>\n",
       "  </thead>\n",
       "  <tbody>\n",
       "    <tr>\n",
       "      <th>0</th>\n",
       "      <td>0</td>\n",
       "      <td>NaN</td>\n",
       "    </tr>\n",
       "    <tr>\n",
       "      <th>1</th>\n",
       "      <td>0</td>\n",
       "      <td>NaN</td>\n",
       "    </tr>\n",
       "    <tr>\n",
       "      <th>2</th>\n",
       "      <td>0</td>\n",
       "      <td>NaN</td>\n",
       "    </tr>\n",
       "    <tr>\n",
       "      <th>3</th>\n",
       "      <td>0</td>\n",
       "      <td>NaN</td>\n",
       "    </tr>\n",
       "    <tr>\n",
       "      <th>4</th>\n",
       "      <td>0</td>\n",
       "      <td>NaN</td>\n",
       "    </tr>\n",
       "  </tbody>\n",
       "</table>\n",
       "</div>"
      ],
      "text/plain": [
       "   source_id  device_id\n",
       "0          0        NaN\n",
       "1          0        NaN\n",
       "2          0        NaN\n",
       "3          0        NaN\n",
       "4          0        NaN"
      ]
     },
     "execution_count": 15,
     "metadata": {},
     "output_type": "execute_result"
    }
   ],
   "source": [
    "df_b.head()"
   ]
  },
  {
   "cell_type": "code",
   "execution_count": 20,
   "metadata": {},
   "outputs": [
    {
     "data": {
      "text/plain": [
       "count    0.0\n",
       "mean     NaN\n",
       "std      NaN\n",
       "min      NaN\n",
       "25%      NaN\n",
       "50%      NaN\n",
       "75%      NaN\n",
       "max      NaN\n",
       "Name: device_id, dtype: float64"
      ]
     },
     "execution_count": 20,
     "metadata": {},
     "output_type": "execute_result"
    }
   ],
   "source": [
    "df_b.device_id.describe()"
   ]
  },
  {
   "cell_type": "code",
   "execution_count": 19,
   "metadata": {},
   "outputs": [
    {
     "data": {
      "text/plain": [
       "176141951"
      ]
     },
     "execution_count": 19,
     "metadata": {},
     "output_type": "execute_result"
    }
   ],
   "source": [
    "df_a.memory_usage(deep=True).sum()\n",
    "df_b.memory_usage(deep=True).sum()"
   ]
  },
  {
   "cell_type": "code",
   "execution_count": 17,
   "metadata": {},
   "outputs": [
    {
     "ename": "MemoryError",
     "evalue": "",
     "output_type": "error",
     "traceback": [
      "\u001b[0;31m---------------------------------------------------------------------------\u001b[0m",
      "\u001b[0;31mMemoryError\u001b[0m                               Traceback (most recent call last)",
      "\u001b[0;32m<ipython-input-17-c7d15e62f4c8>\u001b[0m in \u001b[0;36m<module>\u001b[0;34m\u001b[0m\n\u001b[0;32m----> 1\u001b[0;31m \u001b[0mjoin_1\u001b[0m\u001b[0;34m=\u001b[0m\u001b[0mpd\u001b[0m\u001b[0;34m.\u001b[0m\u001b[0mmerge\u001b[0m\u001b[0;34m(\u001b[0m\u001b[0mdf_a\u001b[0m\u001b[0;34m,\u001b[0m \u001b[0mdf_b\u001b[0m\u001b[0;34m,\u001b[0m \u001b[0mon\u001b[0m\u001b[0;34m=\u001b[0m\u001b[0;34m'source_id'\u001b[0m\u001b[0;34m)\u001b[0m\u001b[0;34m\u001b[0m\u001b[0;34m\u001b[0m\u001b[0m\n\u001b[0m\u001b[1;32m      2\u001b[0m \u001b[0mjoin_1\u001b[0m\u001b[0;34m.\u001b[0m\u001b[0mhead\u001b[0m\u001b[0;34m(\u001b[0m\u001b[0;34m)\u001b[0m\u001b[0;34m\u001b[0m\u001b[0;34m\u001b[0m\u001b[0m\n",
      "\u001b[0;32m~/anaconda3/lib/python3.7/site-packages/pandas/core/reshape/merge.py\u001b[0m in \u001b[0;36mmerge\u001b[0;34m(left, right, how, on, left_on, right_on, left_index, right_index, sort, suffixes, copy, indicator, validate)\u001b[0m\n\u001b[1;32m     60\u001b[0m                          \u001b[0mcopy\u001b[0m\u001b[0;34m=\u001b[0m\u001b[0mcopy\u001b[0m\u001b[0;34m,\u001b[0m \u001b[0mindicator\u001b[0m\u001b[0;34m=\u001b[0m\u001b[0mindicator\u001b[0m\u001b[0;34m,\u001b[0m\u001b[0;34m\u001b[0m\u001b[0;34m\u001b[0m\u001b[0m\n\u001b[1;32m     61\u001b[0m                          validate=validate)\n\u001b[0;32m---> 62\u001b[0;31m     \u001b[0;32mreturn\u001b[0m \u001b[0mop\u001b[0m\u001b[0;34m.\u001b[0m\u001b[0mget_result\u001b[0m\u001b[0;34m(\u001b[0m\u001b[0;34m)\u001b[0m\u001b[0;34m\u001b[0m\u001b[0;34m\u001b[0m\u001b[0m\n\u001b[0m\u001b[1;32m     63\u001b[0m \u001b[0;34m\u001b[0m\u001b[0m\n\u001b[1;32m     64\u001b[0m \u001b[0;34m\u001b[0m\u001b[0m\n",
      "\u001b[0;32m~/anaconda3/lib/python3.7/site-packages/pandas/core/reshape/merge.py\u001b[0m in \u001b[0;36mget_result\u001b[0;34m(self)\u001b[0m\n\u001b[1;32m    566\u001b[0m                 self.left, self.right)\n\u001b[1;32m    567\u001b[0m \u001b[0;34m\u001b[0m\u001b[0m\n\u001b[0;32m--> 568\u001b[0;31m         \u001b[0mjoin_index\u001b[0m\u001b[0;34m,\u001b[0m \u001b[0mleft_indexer\u001b[0m\u001b[0;34m,\u001b[0m \u001b[0mright_indexer\u001b[0m \u001b[0;34m=\u001b[0m \u001b[0mself\u001b[0m\u001b[0;34m.\u001b[0m\u001b[0m_get_join_info\u001b[0m\u001b[0;34m(\u001b[0m\u001b[0;34m)\u001b[0m\u001b[0;34m\u001b[0m\u001b[0;34m\u001b[0m\u001b[0m\n\u001b[0m\u001b[1;32m    569\u001b[0m \u001b[0;34m\u001b[0m\u001b[0m\n\u001b[1;32m    570\u001b[0m         \u001b[0mldata\u001b[0m\u001b[0;34m,\u001b[0m \u001b[0mrdata\u001b[0m \u001b[0;34m=\u001b[0m \u001b[0mself\u001b[0m\u001b[0;34m.\u001b[0m\u001b[0mleft\u001b[0m\u001b[0;34m.\u001b[0m\u001b[0m_data\u001b[0m\u001b[0;34m,\u001b[0m \u001b[0mself\u001b[0m\u001b[0;34m.\u001b[0m\u001b[0mright\u001b[0m\u001b[0;34m.\u001b[0m\u001b[0m_data\u001b[0m\u001b[0;34m\u001b[0m\u001b[0;34m\u001b[0m\u001b[0m\n",
      "\u001b[0;32m~/anaconda3/lib/python3.7/site-packages/pandas/core/reshape/merge.py\u001b[0m in \u001b[0;36m_get_join_info\u001b[0;34m(self)\u001b[0m\n\u001b[1;32m    775\u001b[0m         \u001b[0;32melse\u001b[0m\u001b[0;34m:\u001b[0m\u001b[0;34m\u001b[0m\u001b[0;34m\u001b[0m\u001b[0m\n\u001b[1;32m    776\u001b[0m             (left_indexer,\n\u001b[0;32m--> 777\u001b[0;31m              right_indexer) = self._get_join_indexers()\n\u001b[0m\u001b[1;32m    778\u001b[0m \u001b[0;34m\u001b[0m\u001b[0m\n\u001b[1;32m    779\u001b[0m             \u001b[0;32mif\u001b[0m \u001b[0mself\u001b[0m\u001b[0;34m.\u001b[0m\u001b[0mright_index\u001b[0m\u001b[0;34m:\u001b[0m\u001b[0;34m\u001b[0m\u001b[0;34m\u001b[0m\u001b[0m\n",
      "\u001b[0;32m~/anaconda3/lib/python3.7/site-packages/pandas/core/reshape/merge.py\u001b[0m in \u001b[0;36m_get_join_indexers\u001b[0;34m(self)\u001b[0m\n\u001b[1;32m    754\u001b[0m                                   \u001b[0mself\u001b[0m\u001b[0;34m.\u001b[0m\u001b[0mright_join_keys\u001b[0m\u001b[0;34m,\u001b[0m\u001b[0;34m\u001b[0m\u001b[0;34m\u001b[0m\u001b[0m\n\u001b[1;32m    755\u001b[0m                                   \u001b[0msort\u001b[0m\u001b[0;34m=\u001b[0m\u001b[0mself\u001b[0m\u001b[0;34m.\u001b[0m\u001b[0msort\u001b[0m\u001b[0;34m,\u001b[0m\u001b[0;34m\u001b[0m\u001b[0;34m\u001b[0m\u001b[0m\n\u001b[0;32m--> 756\u001b[0;31m                                   how=self.how)\n\u001b[0m\u001b[1;32m    757\u001b[0m \u001b[0;34m\u001b[0m\u001b[0m\n\u001b[1;32m    758\u001b[0m     \u001b[0;32mdef\u001b[0m \u001b[0m_get_join_info\u001b[0m\u001b[0;34m(\u001b[0m\u001b[0mself\u001b[0m\u001b[0;34m)\u001b[0m\u001b[0;34m:\u001b[0m\u001b[0;34m\u001b[0m\u001b[0;34m\u001b[0m\u001b[0m\n",
      "\u001b[0;32m~/anaconda3/lib/python3.7/site-packages/pandas/core/reshape/merge.py\u001b[0m in \u001b[0;36m_get_join_indexers\u001b[0;34m(left_keys, right_keys, sort, how, **kwargs)\u001b[0m\n\u001b[1;32m   1146\u001b[0m     \u001b[0mjoin_func\u001b[0m \u001b[0;34m=\u001b[0m \u001b[0m_join_functions\u001b[0m\u001b[0;34m[\u001b[0m\u001b[0mhow\u001b[0m\u001b[0;34m]\u001b[0m\u001b[0;34m\u001b[0m\u001b[0;34m\u001b[0m\u001b[0m\n\u001b[1;32m   1147\u001b[0m \u001b[0;34m\u001b[0m\u001b[0m\n\u001b[0;32m-> 1148\u001b[0;31m     \u001b[0;32mreturn\u001b[0m \u001b[0mjoin_func\u001b[0m\u001b[0;34m(\u001b[0m\u001b[0mlkey\u001b[0m\u001b[0;34m,\u001b[0m \u001b[0mrkey\u001b[0m\u001b[0;34m,\u001b[0m \u001b[0mcount\u001b[0m\u001b[0;34m,\u001b[0m \u001b[0;34m**\u001b[0m\u001b[0mkwargs\u001b[0m\u001b[0;34m)\u001b[0m\u001b[0;34m\u001b[0m\u001b[0;34m\u001b[0m\u001b[0m\n\u001b[0m\u001b[1;32m   1149\u001b[0m \u001b[0;34m\u001b[0m\u001b[0m\n\u001b[1;32m   1150\u001b[0m \u001b[0;34m\u001b[0m\u001b[0m\n",
      "\u001b[0;32mpandas/_libs/join.pyx\u001b[0m in \u001b[0;36mpandas._libs.join.inner_join\u001b[0;34m()\u001b[0m\n",
      "\u001b[0;31mMemoryError\u001b[0m: "
     ]
    }
   ],
   "source": [
    "join_1=pd.merge(df_a, df_b, on='source_id')\n",
    "join_1.head()"
   ]
  },
  {
   "cell_type": "code",
>>>>>>> 282929afe46fd4d45c883108070559b62233bd3b
   "execution_count": null,
   "metadata": {},
   "outputs": [],
   "source": []
  }
 ],
 "metadata": {
  "kernelspec": {
   "display_name": "Python 3",
   "language": "python",
   "name": "python3"
  },
  "language_info": {
   "codemirror_mode": {
    "name": "ipython",
    "version": 3
   },
   "file_extension": ".py",
   "mimetype": "text/x-python",
   "name": "python",
   "nbconvert_exporter": "python",
   "pygments_lexer": "ipython3",
   "version": "3.7.1"
  }
 },
 "nbformat": 4,
 "nbformat_minor": 2
}
