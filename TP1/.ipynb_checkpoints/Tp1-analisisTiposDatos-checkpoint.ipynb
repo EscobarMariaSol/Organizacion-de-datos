{
 "cells": [
  {
   "cell_type": "code",
   "execution_count": 1,
   "metadata": {},
   "outputs": [],
   "source": [
    "import pandas as pd\n",
    "import seaborn as sns \n",
    "import numpy as np\n",
    "import matplotlib.pyplot as plt"
   ]
  },
  {
   "cell_type": "code",
   "execution_count": 2,
   "metadata": {},
   "outputs": [],
   "source": [
    "subs = pd.read_csv(\"data/auctions.csv\", dtype = {\"auction_type_id\": np.float16, \"platform\": np.int8, \"ref_type_id\": np.int8, \"source_id\": np.int8})\n"
   ]
  },
  {
   "cell_type": "code",
   "execution_count": 3,
   "metadata": {},
   "outputs": [
    {
     "data": {
      "text/html": [
       "<div>\n",
       "<style scoped>\n",
       "    .dataframe tbody tr th:only-of-type {\n",
       "        vertical-align: middle;\n",
       "    }\n",
       "\n",
       "    .dataframe tbody tr th {\n",
       "        vertical-align: top;\n",
       "    }\n",
       "\n",
       "    .dataframe thead th {\n",
       "        text-align: right;\n",
       "    }\n",
       "</style>\n",
       "<table border=\"1\" class=\"dataframe\">\n",
       "  <thead>\n",
       "    <tr style=\"text-align: right;\">\n",
       "      <th></th>\n",
       "      <th>auction_type_id</th>\n",
       "      <th>country</th>\n",
       "      <th>date</th>\n",
       "      <th>device_id</th>\n",
       "      <th>platform</th>\n",
       "      <th>ref_type_id</th>\n",
       "      <th>source_id</th>\n",
       "    </tr>\n",
       "  </thead>\n",
       "  <tbody>\n",
       "    <tr>\n",
       "      <th>0</th>\n",
       "      <td>NaN</td>\n",
       "      <td>6333597102633388268</td>\n",
       "      <td>2019-03-11 14:18:33.290763</td>\n",
       "      <td>6059599345986491085</td>\n",
       "      <td>1</td>\n",
       "      <td>1</td>\n",
       "      <td>0</td>\n",
       "    </tr>\n",
       "    <tr>\n",
       "      <th>1</th>\n",
       "      <td>NaN</td>\n",
       "      <td>6333597102633388268</td>\n",
       "      <td>2019-03-11 14:18:34.440157</td>\n",
       "      <td>1115994996230693426</td>\n",
       "      <td>1</td>\n",
       "      <td>1</td>\n",
       "      <td>0</td>\n",
       "    </tr>\n",
       "    <tr>\n",
       "      <th>2</th>\n",
       "      <td>NaN</td>\n",
       "      <td>6333597102633388268</td>\n",
       "      <td>2019-03-11 14:18:35.862360</td>\n",
       "      <td>7463856250762200923</td>\n",
       "      <td>1</td>\n",
       "      <td>1</td>\n",
       "      <td>0</td>\n",
       "    </tr>\n",
       "    <tr>\n",
       "      <th>3</th>\n",
       "      <td>NaN</td>\n",
       "      <td>6333597102633388268</td>\n",
       "      <td>2019-03-11 14:18:36.167163</td>\n",
       "      <td>7829815350267792040</td>\n",
       "      <td>1</td>\n",
       "      <td>1</td>\n",
       "      <td>0</td>\n",
       "    </tr>\n",
       "    <tr>\n",
       "      <th>4</th>\n",
       "      <td>NaN</td>\n",
       "      <td>6333597102633388268</td>\n",
       "      <td>2019-03-11 14:18:37.728590</td>\n",
       "      <td>1448534231953777480</td>\n",
       "      <td>1</td>\n",
       "      <td>1</td>\n",
       "      <td>0</td>\n",
       "    </tr>\n",
       "  </tbody>\n",
       "</table>\n",
       "</div>"
      ],
      "text/plain": [
       "   auction_type_id              country                        date  \\\n",
       "0              NaN  6333597102633388268  2019-03-11 14:18:33.290763   \n",
       "1              NaN  6333597102633388268  2019-03-11 14:18:34.440157   \n",
       "2              NaN  6333597102633388268  2019-03-11 14:18:35.862360   \n",
       "3              NaN  6333597102633388268  2019-03-11 14:18:36.167163   \n",
       "4              NaN  6333597102633388268  2019-03-11 14:18:37.728590   \n",
       "\n",
       "             device_id  platform  ref_type_id  source_id  \n",
       "0  6059599345986491085         1            1          0  \n",
       "1  1115994996230693426         1            1          0  \n",
       "2  7463856250762200923         1            1          0  \n",
       "3  7829815350267792040         1            1          0  \n",
       "4  1448534231953777480         1            1          0  "
      ]
     },
     "execution_count": 3,
     "metadata": {},
     "output_type": "execute_result"
    }
   ],
   "source": [
    "subs.head()"
   ]
  },
  {
   "cell_type": "code",
   "execution_count": 4,
   "metadata": {},
   "outputs": [
    {
     "name": "stderr",
     "output_type": "stream",
     "text": [
      "/home/jorge/anaconda3/lib/python3.7/site-packages/IPython/core/interactiveshell.py:3020: DtypeWarning: Columns (12,18,19) have mixed types. Specify dtype option on import or set low_memory=False.\n",
      "  interactivity=interactivity, compiler=compiler, result=result)\n"
     ]
    }
   ],
   "source": [
    "evts = pd.read_csv(\"data/events.csv\", dtype = {\"event_id\": np.int16, \"application_id\": np.int16})\n"
   ]
  },
  {
   "cell_type": "code",
   "execution_count": 5,
   "metadata": {},
   "outputs": [
    {
     "data": {
      "text/html": [
       "<div>\n",
       "<style scoped>\n",
       "    .dataframe tbody tr th:only-of-type {\n",
       "        vertical-align: middle;\n",
       "    }\n",
       "\n",
       "    .dataframe tbody tr th {\n",
       "        vertical-align: top;\n",
       "    }\n",
       "\n",
       "    .dataframe thead th {\n",
       "        text-align: right;\n",
       "    }\n",
       "</style>\n",
       "<table border=\"1\" class=\"dataframe\">\n",
       "  <thead>\n",
       "    <tr style=\"text-align: right;\">\n",
       "      <th></th>\n",
       "      <th>date</th>\n",
       "      <th>event_id</th>\n",
       "      <th>ref_type</th>\n",
       "      <th>ref_hash</th>\n",
       "      <th>application_id</th>\n",
       "      <th>attributed</th>\n",
       "      <th>device_countrycode</th>\n",
       "      <th>device_os_version</th>\n",
       "      <th>device_brand</th>\n",
       "      <th>device_model</th>\n",
       "      <th>...</th>\n",
       "      <th>trans_id</th>\n",
       "      <th>user_agent</th>\n",
       "      <th>event_uuid</th>\n",
       "      <th>carrier</th>\n",
       "      <th>kind</th>\n",
       "      <th>device_os</th>\n",
       "      <th>wifi</th>\n",
       "      <th>connection_type</th>\n",
       "      <th>ip_address</th>\n",
       "      <th>device_language</th>\n",
       "    </tr>\n",
       "  </thead>\n",
       "  <tbody>\n",
       "    <tr>\n",
       "      <th>0</th>\n",
       "      <td>2019-03-05 00:09:36.966</td>\n",
       "      <td>0</td>\n",
       "      <td>1891515180541284343</td>\n",
       "      <td>2688759737656491380</td>\n",
       "      <td>38</td>\n",
       "      <td>False</td>\n",
       "      <td>6333597102633388268</td>\n",
       "      <td>5.908703e+17</td>\n",
       "      <td>NaN</td>\n",
       "      <td>5.990117e+18</td>\n",
       "      <td>...</td>\n",
       "      <td>NaN</td>\n",
       "      <td>NaN</td>\n",
       "      <td>a9c0b263-acb2-4577-92c5-cbde5d7a5db1</td>\n",
       "      <td>2.248157e+17</td>\n",
       "      <td>5.516623e+18</td>\n",
       "      <td>7.531669e+18</td>\n",
       "      <td>NaN</td>\n",
       "      <td>Cable/DSL</td>\n",
       "      <td>7858558567428669000</td>\n",
       "      <td>4.077062e+17</td>\n",
       "    </tr>\n",
       "    <tr>\n",
       "      <th>1</th>\n",
       "      <td>2019-03-05 00:09:38.920</td>\n",
       "      <td>1</td>\n",
       "      <td>1891515180541284343</td>\n",
       "      <td>2688759737656491380</td>\n",
       "      <td>38</td>\n",
       "      <td>False</td>\n",
       "      <td>6333597102633388268</td>\n",
       "      <td>5.908703e+17</td>\n",
       "      <td>NaN</td>\n",
       "      <td>5.990117e+18</td>\n",
       "      <td>...</td>\n",
       "      <td>NaN</td>\n",
       "      <td>NaN</td>\n",
       "      <td>1cd98205-0d97-4ec2-a019-667997dbfe7a</td>\n",
       "      <td>2.248157e+17</td>\n",
       "      <td>9.977660e+17</td>\n",
       "      <td>7.531669e+18</td>\n",
       "      <td>NaN</td>\n",
       "      <td>Cable/DSL</td>\n",
       "      <td>7858558567428669000</td>\n",
       "      <td>4.077062e+17</td>\n",
       "    </tr>\n",
       "    <tr>\n",
       "      <th>2</th>\n",
       "      <td>2019-03-05 00:09:26.195</td>\n",
       "      <td>0</td>\n",
       "      <td>1891515180541284343</td>\n",
       "      <td>2688759737656491380</td>\n",
       "      <td>38</td>\n",
       "      <td>False</td>\n",
       "      <td>6333597102633388268</td>\n",
       "      <td>5.908703e+17</td>\n",
       "      <td>NaN</td>\n",
       "      <td>5.990117e+18</td>\n",
       "      <td>...</td>\n",
       "      <td>NaN</td>\n",
       "      <td>NaN</td>\n",
       "      <td>f02e2924-21ae-492b-b625-9021ae0a4eca</td>\n",
       "      <td>2.248157e+17</td>\n",
       "      <td>5.516623e+18</td>\n",
       "      <td>7.531669e+18</td>\n",
       "      <td>NaN</td>\n",
       "      <td>Cable/DSL</td>\n",
       "      <td>7858558567428669000</td>\n",
       "      <td>4.077062e+17</td>\n",
       "    </tr>\n",
       "    <tr>\n",
       "      <th>3</th>\n",
       "      <td>2019-03-05 00:09:31.107</td>\n",
       "      <td>2</td>\n",
       "      <td>1891515180541284343</td>\n",
       "      <td>2688759737656491380</td>\n",
       "      <td>38</td>\n",
       "      <td>False</td>\n",
       "      <td>6333597102633388268</td>\n",
       "      <td>5.908703e+17</td>\n",
       "      <td>NaN</td>\n",
       "      <td>5.990117e+18</td>\n",
       "      <td>...</td>\n",
       "      <td>NaN</td>\n",
       "      <td>NaN</td>\n",
       "      <td>a813cf45-a36e-4668-85e2-5395f1564e98</td>\n",
       "      <td>2.248157e+17</td>\n",
       "      <td>8.561153e+18</td>\n",
       "      <td>7.531669e+18</td>\n",
       "      <td>NaN</td>\n",
       "      <td>Cable/DSL</td>\n",
       "      <td>6324037615828123965</td>\n",
       "      <td>4.077062e+17</td>\n",
       "    </tr>\n",
       "    <tr>\n",
       "      <th>4</th>\n",
       "      <td>2019-03-09 21:00:36.585</td>\n",
       "      <td>3</td>\n",
       "      <td>1891515180541284343</td>\n",
       "      <td>2635154697734164782</td>\n",
       "      <td>38</td>\n",
       "      <td>False</td>\n",
       "      <td>6333597102633388268</td>\n",
       "      <td>7.391844e+18</td>\n",
       "      <td>NaN</td>\n",
       "      <td>5.960896e+18</td>\n",
       "      <td>...</td>\n",
       "      <td>NaN</td>\n",
       "      <td>NaN</td>\n",
       "      <td>63a4f0aa-e147-469f-8c55-4ca4f8d0e310</td>\n",
       "      <td>2.248157e+17</td>\n",
       "      <td>8.731902e+17</td>\n",
       "      <td>7.531669e+18</td>\n",
       "      <td>NaN</td>\n",
       "      <td>Cable/DSL</td>\n",
       "      <td>2894495631302821483</td>\n",
       "      <td>3.301378e+18</td>\n",
       "    </tr>\n",
       "  </tbody>\n",
       "</table>\n",
       "<p>5 rows × 22 columns</p>\n",
       "</div>"
      ],
      "text/plain": [
       "                      date  event_id             ref_type  \\\n",
       "0  2019-03-05 00:09:36.966         0  1891515180541284343   \n",
       "1  2019-03-05 00:09:38.920         1  1891515180541284343   \n",
       "2  2019-03-05 00:09:26.195         0  1891515180541284343   \n",
       "3  2019-03-05 00:09:31.107         2  1891515180541284343   \n",
       "4  2019-03-09 21:00:36.585         3  1891515180541284343   \n",
       "\n",
       "              ref_hash  application_id  attributed   device_countrycode  \\\n",
       "0  2688759737656491380              38       False  6333597102633388268   \n",
       "1  2688759737656491380              38       False  6333597102633388268   \n",
       "2  2688759737656491380              38       False  6333597102633388268   \n",
       "3  2688759737656491380              38       False  6333597102633388268   \n",
       "4  2635154697734164782              38       False  6333597102633388268   \n",
       "\n",
       "   device_os_version  device_brand  device_model       ...        trans_id  \\\n",
       "0       5.908703e+17           NaN  5.990117e+18       ...             NaN   \n",
       "1       5.908703e+17           NaN  5.990117e+18       ...             NaN   \n",
       "2       5.908703e+17           NaN  5.990117e+18       ...             NaN   \n",
       "3       5.908703e+17           NaN  5.990117e+18       ...             NaN   \n",
       "4       7.391844e+18           NaN  5.960896e+18       ...             NaN   \n",
       "\n",
       "   user_agent                            event_uuid       carrier  \\\n",
       "0         NaN  a9c0b263-acb2-4577-92c5-cbde5d7a5db1  2.248157e+17   \n",
       "1         NaN  1cd98205-0d97-4ec2-a019-667997dbfe7a  2.248157e+17   \n",
       "2         NaN  f02e2924-21ae-492b-b625-9021ae0a4eca  2.248157e+17   \n",
       "3         NaN  a813cf45-a36e-4668-85e2-5395f1564e98  2.248157e+17   \n",
       "4         NaN  63a4f0aa-e147-469f-8c55-4ca4f8d0e310  2.248157e+17   \n",
       "\n",
       "           kind     device_os  wifi  connection_type           ip_address  \\\n",
       "0  5.516623e+18  7.531669e+18   NaN        Cable/DSL  7858558567428669000   \n",
       "1  9.977660e+17  7.531669e+18   NaN        Cable/DSL  7858558567428669000   \n",
       "2  5.516623e+18  7.531669e+18   NaN        Cable/DSL  7858558567428669000   \n",
       "3  8.561153e+18  7.531669e+18   NaN        Cable/DSL  6324037615828123965   \n",
       "4  8.731902e+17  7.531669e+18   NaN        Cable/DSL  2894495631302821483   \n",
       "\n",
       "  device_language  \n",
       "0    4.077062e+17  \n",
       "1    4.077062e+17  \n",
       "2    4.077062e+17  \n",
       "3    4.077062e+17  \n",
       "4    3.301378e+18  \n",
       "\n",
       "[5 rows x 22 columns]"
      ]
     },
     "execution_count": 5,
     "metadata": {},
     "output_type": "execute_result"
    }
   ],
   "source": [
    "evts.head()"
   ]
  },
  {
   "cell_type": "code",
   "execution_count": 214,
   "metadata": {},
   "outputs": [
    {
     "data": {
      "text/html": [
       "<div>\n",
       "<style scoped>\n",
       "    .dataframe tbody tr th:only-of-type {\n",
       "        vertical-align: middle;\n",
       "    }\n",
       "\n",
       "    .dataframe tbody tr th {\n",
       "        vertical-align: top;\n",
       "    }\n",
       "\n",
       "    .dataframe thead th {\n",
       "        text-align: right;\n",
       "    }\n",
       "</style>\n",
       "<table border=\"1\" class=\"dataframe\">\n",
       "  <thead>\n",
       "    <tr style=\"text-align: right;\">\n",
       "      <th></th>\n",
       "      <th>created</th>\n",
       "      <th>application_id</th>\n",
       "      <th>ref_type</th>\n",
       "      <th>ref_hash</th>\n",
       "      <th>click_hash</th>\n",
       "      <th>attributed</th>\n",
       "      <th>implicit</th>\n",
       "      <th>device_countrycode</th>\n",
       "      <th>device_brand</th>\n",
       "      <th>device_model</th>\n",
       "      <th>session_user_agent</th>\n",
       "      <th>user_agent</th>\n",
       "      <th>event_uuid</th>\n",
       "      <th>kind</th>\n",
       "      <th>wifi</th>\n",
       "      <th>trans_id</th>\n",
       "      <th>ip_address</th>\n",
       "      <th>device_language</th>\n",
       "    </tr>\n",
       "  </thead>\n",
       "  <tbody>\n",
       "    <tr>\n",
       "      <th>0</th>\n",
       "      <td>2019-03-13 01:43:33.445</td>\n",
       "      <td>0</td>\n",
       "      <td>1891515180541284343</td>\n",
       "      <td>8464844987297247076</td>\n",
       "      <td>NaN</td>\n",
       "      <td>False</td>\n",
       "      <td>False</td>\n",
       "      <td>6333597102633388268</td>\n",
       "      <td>3.083059e+17</td>\n",
       "      <td>4.445252e+18</td>\n",
       "      <td>NaN</td>\n",
       "      <td>NaN</td>\n",
       "      <td>NaN</td>\n",
       "      <td>NaN</td>\n",
       "      <td>NaN</td>\n",
       "      <td>NaN</td>\n",
       "      <td>5529284367937637301</td>\n",
       "      <td>NaN</td>\n",
       "    </tr>\n",
       "    <tr>\n",
       "      <th>1</th>\n",
       "      <td>2019-03-13 04:58:35.078</td>\n",
       "      <td>0</td>\n",
       "      <td>1891515180541284343</td>\n",
       "      <td>3250564871270161533</td>\n",
       "      <td>NaN</td>\n",
       "      <td>False</td>\n",
       "      <td>False</td>\n",
       "      <td>6333597102633388268</td>\n",
       "      <td>3.083059e+17</td>\n",
       "      <td>4.445252e+18</td>\n",
       "      <td>NaN</td>\n",
       "      <td>NaN</td>\n",
       "      <td>NaN</td>\n",
       "      <td>NaN</td>\n",
       "      <td>NaN</td>\n",
       "      <td>NaN</td>\n",
       "      <td>6098022721363533304</td>\n",
       "      <td>NaN</td>\n",
       "    </tr>\n",
       "    <tr>\n",
       "      <th>2</th>\n",
       "      <td>2019-03-13 04:20:57.666</td>\n",
       "      <td>0</td>\n",
       "      <td>1891515180541284343</td>\n",
       "      <td>7953318831018100268</td>\n",
       "      <td>NaN</td>\n",
       "      <td>False</td>\n",
       "      <td>True</td>\n",
       "      <td>6333597102633388268</td>\n",
       "      <td>5.137992e+17</td>\n",
       "      <td>6.026543e+18</td>\n",
       "      <td>HasOffers Mobile AppTracking v1.0</td>\n",
       "      <td>NaN</td>\n",
       "      <td>0bfa9b4c-e07a-4522-b32d-138e3165ac98</td>\n",
       "      <td>Open</td>\n",
       "      <td>NaN</td>\n",
       "      <td>NaN</td>\n",
       "      <td>4636407223847323867</td>\n",
       "      <td>3.301378e+18</td>\n",
       "    </tr>\n",
       "    <tr>\n",
       "      <th>3</th>\n",
       "      <td>2019-03-13 04:20:57.698</td>\n",
       "      <td>0</td>\n",
       "      <td>1891515180541284343</td>\n",
       "      <td>7953318831018100268</td>\n",
       "      <td>NaN</td>\n",
       "      <td>False</td>\n",
       "      <td>False</td>\n",
       "      <td>6333597102633388268</td>\n",
       "      <td>5.137992e+17</td>\n",
       "      <td>6.026543e+18</td>\n",
       "      <td>NaN</td>\n",
       "      <td>NaN</td>\n",
       "      <td>NaN</td>\n",
       "      <td>NaN</td>\n",
       "      <td>NaN</td>\n",
       "      <td>NaN</td>\n",
       "      <td>4636407223847323867</td>\n",
       "      <td>NaN</td>\n",
       "    </tr>\n",
       "    <tr>\n",
       "      <th>4</th>\n",
       "      <td>2019-03-10 22:24:56.684</td>\n",
       "      <td>0</td>\n",
       "      <td>1891515180541284343</td>\n",
       "      <td>8355110941557237501</td>\n",
       "      <td>NaN</td>\n",
       "      <td>False</td>\n",
       "      <td>True</td>\n",
       "      <td>6333597102633388268</td>\n",
       "      <td>1.083369e+18</td>\n",
       "      <td>7.876612e+18</td>\n",
       "      <td>HasOffers Mobile AppTracking v1.0</td>\n",
       "      <td>NaN</td>\n",
       "      <td>8f235a8c-41bf-4399-b33d-c41577c949b0</td>\n",
       "      <td>Open</td>\n",
       "      <td>NaN</td>\n",
       "      <td>NaN</td>\n",
       "      <td>685400811232710215</td>\n",
       "      <td>3.301378e+18</td>\n",
       "    </tr>\n",
       "    <tr>\n",
       "      <th>5</th>\n",
       "      <td>2019-03-10 22:24:57.545</td>\n",
       "      <td>0</td>\n",
       "      <td>1891515180541284343</td>\n",
       "      <td>8355110941557237501</td>\n",
       "      <td>NaN</td>\n",
       "      <td>False</td>\n",
       "      <td>False</td>\n",
       "      <td>6333597102633388268</td>\n",
       "      <td>1.083369e+18</td>\n",
       "      <td>7.876612e+18</td>\n",
       "      <td>NaN</td>\n",
       "      <td>NaN</td>\n",
       "      <td>NaN</td>\n",
       "      <td>NaN</td>\n",
       "      <td>NaN</td>\n",
       "      <td>NaN</td>\n",
       "      <td>685400811232710215</td>\n",
       "      <td>NaN</td>\n",
       "    </tr>\n",
       "    <tr>\n",
       "      <th>6</th>\n",
       "      <td>2019-03-11 03:47:22.802</td>\n",
       "      <td>0</td>\n",
       "      <td>1891515180541284343</td>\n",
       "      <td>4306303321567254439</td>\n",
       "      <td>NaN</td>\n",
       "      <td>False</td>\n",
       "      <td>True</td>\n",
       "      <td>6333597102633388268</td>\n",
       "      <td>3.083059e+17</td>\n",
       "      <td>9.179743e+18</td>\n",
       "      <td>HasOffers Mobile AppTracking v1.0</td>\n",
       "      <td>NaN</td>\n",
       "      <td>b3f7905b-5058-4eca-853c-b3c670d7ac54</td>\n",
       "      <td>Open</td>\n",
       "      <td>NaN</td>\n",
       "      <td>NaN</td>\n",
       "      <td>7462893331703692427</td>\n",
       "      <td>4.073835e+18</td>\n",
       "    </tr>\n",
       "    <tr>\n",
       "      <th>7</th>\n",
       "      <td>2019-03-11 21:21:05.986</td>\n",
       "      <td>0</td>\n",
       "      <td>1891515180541284343</td>\n",
       "      <td>1670430602051291592</td>\n",
       "      <td>NaN</td>\n",
       "      <td>False</td>\n",
       "      <td>False</td>\n",
       "      <td>6333597102633388268</td>\n",
       "      <td>1.083369e+18</td>\n",
       "      <td>7.551685e+17</td>\n",
       "      <td>NaN</td>\n",
       "      <td>NaN</td>\n",
       "      <td>NaN</td>\n",
       "      <td>NaN</td>\n",
       "      <td>NaN</td>\n",
       "      <td>NaN</td>\n",
       "      <td>5634136297886425939</td>\n",
       "      <td>NaN</td>\n",
       "    </tr>\n",
       "    <tr>\n",
       "      <th>8</th>\n",
       "      <td>2019-03-11 21:21:05.855</td>\n",
       "      <td>0</td>\n",
       "      <td>1891515180541284343</td>\n",
       "      <td>1670430602051291592</td>\n",
       "      <td>NaN</td>\n",
       "      <td>False</td>\n",
       "      <td>True</td>\n",
       "      <td>6333597102633388268</td>\n",
       "      <td>1.083369e+18</td>\n",
       "      <td>7.551685e+17</td>\n",
       "      <td>HasOffers Mobile AppTracking v1.0</td>\n",
       "      <td>NaN</td>\n",
       "      <td>28a6e6a0-ba70-46a2-a63f-1e74b0dd5235</td>\n",
       "      <td>Open</td>\n",
       "      <td>NaN</td>\n",
       "      <td>NaN</td>\n",
       "      <td>5634136297886425939</td>\n",
       "      <td>3.301378e+18</td>\n",
       "    </tr>\n",
       "    <tr>\n",
       "      <th>9</th>\n",
       "      <td>2019-03-13 08:29:31.875</td>\n",
       "      <td>2</td>\n",
       "      <td>1891515180541284343</td>\n",
       "      <td>5651666841804012468</td>\n",
       "      <td>NaN</td>\n",
       "      <td>False</td>\n",
       "      <td>False</td>\n",
       "      <td>6333597102633388268</td>\n",
       "      <td>3.083059e+17</td>\n",
       "      <td>8.656854e+18</td>\n",
       "      <td>http-kit/2.0</td>\n",
       "      <td>Dalvik/2.1.0 (Linux; U; Android 22; SM-J200M B...</td>\n",
       "      <td>NaN</td>\n",
       "      <td>NaN</td>\n",
       "      <td>True</td>\n",
       "      <td>NaN</td>\n",
       "      <td>5997848429649592955</td>\n",
       "      <td>9.028383e+18</td>\n",
       "    </tr>\n",
       "  </tbody>\n",
       "</table>\n",
       "</div>"
      ],
      "text/plain": [
       "                   created  application_id             ref_type  \\\n",
       "0  2019-03-13 01:43:33.445               0  1891515180541284343   \n",
       "1  2019-03-13 04:58:35.078               0  1891515180541284343   \n",
       "2  2019-03-13 04:20:57.666               0  1891515180541284343   \n",
       "3  2019-03-13 04:20:57.698               0  1891515180541284343   \n",
       "4  2019-03-10 22:24:56.684               0  1891515180541284343   \n",
       "5  2019-03-10 22:24:57.545               0  1891515180541284343   \n",
       "6  2019-03-11 03:47:22.802               0  1891515180541284343   \n",
       "7  2019-03-11 21:21:05.986               0  1891515180541284343   \n",
       "8  2019-03-11 21:21:05.855               0  1891515180541284343   \n",
       "9  2019-03-13 08:29:31.875               2  1891515180541284343   \n",
       "\n",
       "              ref_hash  click_hash  attributed  implicit   device_countrycode  \\\n",
       "0  8464844987297247076         NaN       False     False  6333597102633388268   \n",
       "1  3250564871270161533         NaN       False     False  6333597102633388268   \n",
       "2  7953318831018100268         NaN       False      True  6333597102633388268   \n",
       "3  7953318831018100268         NaN       False     False  6333597102633388268   \n",
       "4  8355110941557237501         NaN       False      True  6333597102633388268   \n",
       "5  8355110941557237501         NaN       False     False  6333597102633388268   \n",
       "6  4306303321567254439         NaN       False      True  6333597102633388268   \n",
       "7  1670430602051291592         NaN       False     False  6333597102633388268   \n",
       "8  1670430602051291592         NaN       False      True  6333597102633388268   \n",
       "9  5651666841804012468         NaN       False     False  6333597102633388268   \n",
       "\n",
       "   device_brand  device_model                 session_user_agent  \\\n",
       "0  3.083059e+17  4.445252e+18                                NaN   \n",
       "1  3.083059e+17  4.445252e+18                                NaN   \n",
       "2  5.137992e+17  6.026543e+18  HasOffers Mobile AppTracking v1.0   \n",
       "3  5.137992e+17  6.026543e+18                                NaN   \n",
       "4  1.083369e+18  7.876612e+18  HasOffers Mobile AppTracking v1.0   \n",
       "5  1.083369e+18  7.876612e+18                                NaN   \n",
       "6  3.083059e+17  9.179743e+18  HasOffers Mobile AppTracking v1.0   \n",
       "7  1.083369e+18  7.551685e+17                                NaN   \n",
       "8  1.083369e+18  7.551685e+17  HasOffers Mobile AppTracking v1.0   \n",
       "9  3.083059e+17  8.656854e+18                       http-kit/2.0   \n",
       "\n",
       "                                          user_agent  \\\n",
       "0                                                NaN   \n",
       "1                                                NaN   \n",
       "2                                                NaN   \n",
       "3                                                NaN   \n",
       "4                                                NaN   \n",
       "5                                                NaN   \n",
       "6                                                NaN   \n",
       "7                                                NaN   \n",
       "8                                                NaN   \n",
       "9  Dalvik/2.1.0 (Linux; U; Android 22; SM-J200M B...   \n",
       "\n",
       "                             event_uuid  kind  wifi trans_id  \\\n",
       "0                                   NaN   NaN   NaN      NaN   \n",
       "1                                   NaN   NaN   NaN      NaN   \n",
       "2  0bfa9b4c-e07a-4522-b32d-138e3165ac98  Open   NaN      NaN   \n",
       "3                                   NaN   NaN   NaN      NaN   \n",
       "4  8f235a8c-41bf-4399-b33d-c41577c949b0  Open   NaN      NaN   \n",
       "5                                   NaN   NaN   NaN      NaN   \n",
       "6  b3f7905b-5058-4eca-853c-b3c670d7ac54  Open   NaN      NaN   \n",
       "7                                   NaN   NaN   NaN      NaN   \n",
       "8  28a6e6a0-ba70-46a2-a63f-1e74b0dd5235  Open   NaN      NaN   \n",
       "9                                   NaN   NaN  True      NaN   \n",
       "\n",
       "            ip_address  device_language  \n",
       "0  5529284367937637301              NaN  \n",
       "1  6098022721363533304              NaN  \n",
       "2  4636407223847323867     3.301378e+18  \n",
       "3  4636407223847323867              NaN  \n",
       "4   685400811232710215     3.301378e+18  \n",
       "5   685400811232710215              NaN  \n",
       "6  7462893331703692427     4.073835e+18  \n",
       "7  5634136297886425939              NaN  \n",
       "8  5634136297886425939     3.301378e+18  \n",
       "9  5997848429649592955     9.028383e+18  "
      ]
     },
     "execution_count": 214,
     "metadata": {},
     "output_type": "execute_result"
    }
   ],
   "source": [
    "inst = pd.read_csv(\"data/installs.csv\", dtype = {\"application_id\": np.int16, \"click_hash\": np.float16})\n",
    "inst.head(10)"
   ]
  },
  {
   "cell_type": "markdown",
   "metadata": {},
   "source": [
    "# Analisis de los tipos de datos del dataframe instalaciones\n"
   ]
  },
  {
   "cell_type": "code",
   "execution_count": 215,
   "metadata": {},
   "outputs": [
    {
     "data": {
      "text/plain": [
       "1495715"
      ]
     },
     "execution_count": 215,
     "metadata": {},
     "output_type": "execute_result"
    }
   ],
   "source": [
    "#Primero analizo cuanto ocupa el datframe instalciones \n",
    "# para ello uso la funcion memory_usage()\n",
    "inst.memory_usage(deep=True).sum()"
   ]
  },
  {
   "cell_type": "code",
   "execution_count": 216,
   "metadata": {},
   "outputs": [
    {
     "data": {
      "text/plain": [
       "Index                     80\n",
       "created               272960\n",
       "application_id          6824\n",
       "ref_type               27296\n",
       "ref_hash               27296\n",
       "click_hash              6824\n",
       "attributed              3412\n",
       "implicit                3412\n",
       "device_countrycode     27296\n",
       "device_brand           27296\n",
       "device_model           27296\n",
       "session_user_agent    233678\n",
       "user_agent            250559\n",
       "event_uuid            161949\n",
       "kind                  140818\n",
       "wifi                  114692\n",
       "trans_id              109435\n",
       "ip_address             27296\n",
       "device_language        27296\n",
       "dtype: int64"
      ]
     },
     "execution_count": 216,
     "metadata": {},
     "output_type": "execute_result"
    }
   ],
   "source": [
    "# Vemos que el dataframa inst ocupa 1,4 gb vemos cuanto ocupa cada campo\n",
    "inst.memory_usage(deep=True)"
   ]
  },
  {
   "cell_type": "code",
   "execution_count": 217,
   "metadata": {},
   "outputs": [
    {
     "name": "stdout",
     "output_type": "stream",
     "text": [
      "<class 'pandas.core.frame.DataFrame'>\n",
      "RangeIndex: 3412 entries, 0 to 3411\n",
      "Data columns (total 18 columns):\n",
      "created               3412 non-null object\n",
      "application_id        3412 non-null int16\n",
      "ref_type              3412 non-null int64\n",
      "ref_hash              3412 non-null int64\n",
      "click_hash            0 non-null float16\n",
      "attributed            3412 non-null bool\n",
      "implicit              3412 non-null bool\n",
      "device_countrycode    3412 non-null int64\n",
      "device_brand          1047 non-null float64\n",
      "device_model          3411 non-null float64\n",
      "session_user_agent    3364 non-null object\n",
      "user_agent            1729 non-null object\n",
      "event_uuid            865 non-null object\n",
      "kind                  865 non-null object\n",
      "wifi                  1729 non-null object\n",
      "trans_id              6 non-null object\n",
      "ip_address            3412 non-null int64\n",
      "device_language       3378 non-null float64\n",
      "dtypes: bool(2), float16(1), float64(3), int16(1), int64(4), object(7)\n",
      "memory usage: 393.3+ KB\n"
     ]
    }
   ],
   "source": [
    "#vemos que las columnas created , session_user_agent, user_agent,event_uuid, kinf , wiffi y trans_id \n",
    "#son la que mas memoria ocupan\n",
    "# ahora anlizamos los tipos de datos\n",
    "inst.info()"
   ]
  },
  {
   "cell_type": "code",
   "execution_count": 218,
   "metadata": {},
   "outputs": [
    {
     "data": {
      "text/plain": [
       "Index                     80\n",
       "created                27296\n",
       "application_id          6824\n",
       "ref_type               27296\n",
       "ref_hash               27296\n",
       "click_hash              6824\n",
       "attributed              3412\n",
       "implicit                3412\n",
       "device_countrycode     27296\n",
       "device_brand           27296\n",
       "device_model           27296\n",
       "session_user_agent    233678\n",
       "user_agent            250559\n",
       "event_uuid            161949\n",
       "kind                  140818\n",
       "wifi                  114692\n",
       "trans_id              109435\n",
       "ip_address             27296\n",
       "device_language        27296\n",
       "dtype: int64"
      ]
     },
     "execution_count": 218,
     "metadata": {},
     "output_type": "execute_result"
    }
   ],
   "source": [
    "#Se puede ver que la columna created que almacena fecha y hora esta como object. \n",
    "#Convertimos la columna crated a datetime\n",
    "inst['created']=pd.to_datetime(inst['created'])\n",
    "inst.memory_usage(deep=True)"
   ]
  },
  {
   "cell_type": "code",
   "execution_count": 219,
   "metadata": {},
   "outputs": [
    {
     "data": {
      "text/plain": [
       "Index                     80\n",
       "created                27296\n",
       "application_id          6824\n",
       "ref_type               27296\n",
       "ref_hash               27296\n",
       "click_hash              6824\n",
       "attributed              3412\n",
       "implicit                3412\n",
       "device_countrycode     27296\n",
       "device_brand           27296\n",
       "device_model           27296\n",
       "session_user_agent    233678\n",
       "user_agent            250559\n",
       "event_uuid            161949\n",
       "kind                  140818\n",
       "wifi                    3412\n",
       "trans_id              109435\n",
       "ip_address             27296\n",
       "device_language        27296\n",
       "dtype: int64"
      ]
     },
     "execution_count": 219,
     "metadata": {},
     "output_type": "execute_result"
    }
   ],
   "source": [
    "#Vemos que logramos bajar de aproximadamente 270 mb a 27 mb el tamaño de la columna created\n",
    "#Convertimos el campo wifi a bool y reducimos tambien la memoria\n",
    "inst['wifi']=inst['wifi'].astype('bool')\n",
    "inst.memory_usage(deep=True)"
   ]
  },
  {
   "cell_type": "code",
   "execution_count": 220,
   "metadata": {},
   "outputs": [
    {
     "data": {
      "text/plain": [
       "48"
      ]
     },
     "execution_count": 220,
     "metadata": {},
     "output_type": "execute_result"
    }
   ],
   "source": [
    "# Analizamos session_user_agent que ocpa 236 mb\n",
    "inst['session_user_agent'].isnull().sum()"
   ]
  },
  {
   "cell_type": "code",
   "execution_count": 221,
   "metadata": {},
   "outputs": [
    {
     "data": {
      "text/plain": [
       "count             3364\n",
       "unique              12\n",
       "top       http-kit/2.0\n",
       "freq              1729\n",
       "Name: session_user_agent, dtype: object"
      ]
     },
     "execution_count": 221,
     "metadata": {},
     "output_type": "execute_result"
    }
   ],
   "source": [
    "#vemps que session_user_agent hay 48 valores nulos y 12 valores únicos\n",
    "\n",
    "inst['session_user_agent'].describe()"
   ]
  },
  {
   "cell_type": "code",
   "execution_count": 222,
   "metadata": {},
   "outputs": [
    {
     "data": {
      "text/plain": [
       "48"
      ]
     },
     "execution_count": 222,
     "metadata": {},
     "output_type": "execute_result"
    }
   ],
   "source": [
    "# Como son pocos valores nulos, elejimps elimnar esas filas y convertir el tipo de dato a category\n",
    "inst['session_user_agent']=inst['session_user_agent'].dropna()\n",
    "inst['session_user_agent'].isnull().sum()"
   ]
  },
  {
   "cell_type": "code",
   "execution_count": 223,
   "metadata": {},
   "outputs": [
    {
     "data": {
      "text/plain": [
       "Index                     80\n",
       "created                27296\n",
       "application_id          6824\n",
       "ref_type               27296\n",
       "ref_hash               27296\n",
       "click_hash              6824\n",
       "attributed              3412\n",
       "implicit                3412\n",
       "device_countrycode     27296\n",
       "device_brand           27296\n",
       "device_model           27296\n",
       "session_user_agent      5817\n",
       "user_agent            250559\n",
       "event_uuid            161949\n",
       "kind                  140818\n",
       "wifi                    3412\n",
       "trans_id              109435\n",
       "ip_address             27296\n",
       "device_language        27296\n",
       "dtype: int64"
      ]
     },
     "execution_count": 223,
     "metadata": {},
     "output_type": "execute_result"
    }
   ],
   "source": [
    "inst['session_user_agent']=inst['session_user_agent'].astype('category')\n",
    "inst.memory_usage(deep=True)"
   ]
  },
  {
   "cell_type": "code",
   "execution_count": 224,
   "metadata": {},
   "outputs": [
    {
     "name": "stdout",
     "output_type": "stream",
     "text": [
      "<class 'pandas.core.frame.DataFrame'>\n",
      "RangeIndex: 3412 entries, 0 to 3411\n",
      "Data columns (total 18 columns):\n",
      "created               3412 non-null datetime64[ns]\n",
      "application_id        3412 non-null int16\n",
      "ref_type              3412 non-null int64\n",
      "ref_hash              3412 non-null int64\n",
      "click_hash            0 non-null float16\n",
      "attributed            3412 non-null bool\n",
      "implicit              3412 non-null bool\n",
      "device_countrycode    3412 non-null int64\n",
      "device_brand          1047 non-null float64\n",
      "device_model          3411 non-null float64\n",
      "session_user_agent    3364 non-null category\n",
      "user_agent            1729 non-null object\n",
      "event_uuid            865 non-null object\n",
      "kind                  865 non-null object\n",
      "wifi                  3412 non-null bool\n",
      "trans_id              6 non-null object\n",
      "ip_address            3412 non-null int64\n",
      "device_language       3378 non-null float64\n",
      "dtypes: bool(3), category(1), datetime64[ns](1), float16(1), float64(3), int16(1), int64(4), object(4)\n",
      "memory usage: 347.0+ KB\n"
     ]
    }
   ],
   "source": [
    "inst.info()"
   ]
  },
  {
   "cell_type": "code",
   "execution_count": 225,
   "metadata": {},
   "outputs": [
    {
     "data": {
      "text/plain": [
       "count          6\n",
       "unique         4\n",
       "top       {hash}\n",
       "freq           3\n",
       "Name: trans_id, dtype: object"
      ]
     },
     "execution_count": 225,
     "metadata": {},
     "output_type": "execute_result"
    }
   ],
   "source": [
    "#analizo trans:id\n",
    "inst['trans_id'].describe()"
   ]
  },
  {
   "cell_type": "code",
   "execution_count": 226,
   "metadata": {},
   "outputs": [],
   "source": [
    "#veo que trans_ide solo tiene 6 valores no nulos por lo no tiene sentido que si\n",
    "del inst['trans_id']\n"
   ]
  },
  {
   "cell_type": "code",
   "execution_count": 227,
   "metadata": {},
   "outputs": [
    {
     "data": {
      "text/plain": [
       "801475"
      ]
     },
     "execution_count": 227,
     "metadata": {},
     "output_type": "execute_result"
    }
   ],
   "source": [
    "inst.memory_usage(deep=True).sum()"
   ]
  },
  {
   "cell_type": "code",
   "execution_count": 228,
   "metadata": {},
   "outputs": [
    {
     "data": {
      "text/plain": [
       "count               865\n",
       "unique               20\n",
       "top       af_app_opened\n",
       "freq                428\n",
       "Name: kind, dtype: object"
      ]
     },
     "execution_count": 228,
     "metadata": {},
     "output_type": "execute_result"
    }
   ],
   "source": [
    "#analizo kind\n",
    "inst['kind'].describe()"
   ]
  },
  {
   "cell_type": "code",
   "execution_count": 229,
   "metadata": {},
   "outputs": [
    {
     "data": {
      "text/plain": [
       "806936"
      ]
     },
     "execution_count": 229,
     "metadata": {},
     "output_type": "execute_result"
    }
   ],
   "source": [
    "#vemos que la columan kind tiene 20 valores distintos por lo que puedo pasarlo a categorica\n",
    "inst['kindt']=inst['kind'].astype('category')\n",
    "inst.memory_usage(deep=True).sum()"
   ]
  },
  {
   "cell_type": "code",
   "execution_count": 230,
   "metadata": {},
   "outputs": [
    {
     "data": {
      "text/plain": [
       "count                                      865\n",
       "unique                                     865\n",
       "top       77de689a-87fb-4246-9122-87bef19e13db\n",
       "freq                                         1\n",
       "Name: event_uuid, dtype: object"
      ]
     },
     "execution_count": 230,
     "metadata": {},
     "output_type": "execute_result"
    }
   ],
   "source": [
    "#analizo eventi uuid\n",
    "inst['event_uuid'].describe()"
   ]
  },
  {
   "cell_type": "code",
   "execution_count": 231,
   "metadata": {},
   "outputs": [],
   "source": [
    "# como vemos que tien 865 valores unicos no se podria exraer conclusion alguna por lo que puedo eleiminar esa columna\n",
    "del inst['event_uuid']"
   ]
  },
  {
   "cell_type": "code",
   "execution_count": 232,
   "metadata": {},
   "outputs": [
    {
     "data": {
      "text/plain": [
       "644987"
      ]
     },
     "execution_count": 232,
     "metadata": {},
     "output_type": "execute_result"
    }
   ],
   "source": [
    "inst.memory_usage(deep=True).sum()"
   ]
  },
  {
   "cell_type": "code",
   "execution_count": 233,
   "metadata": {},
   "outputs": [
    {
     "data": {
      "text/plain": [
       "count                                                 1729\n",
       "unique                                                 334\n",
       "top       MercadoPago/2.58.0.2 CFNetwork/976 Darwin/18.2.0\n",
       "freq                                                   393\n",
       "Name: user_agent, dtype: object"
      ]
     },
     "execution_count": 233,
     "metadata": {},
     "output_type": "execute_result"
    }
   ],
   "source": [
    "#analizo user_agent\n",
    "inst['user_agent'].describe()"
   ]
  },
  {
   "cell_type": "code",
   "execution_count": 234,
   "metadata": {},
   "outputs": [
    {
     "data": {
      "text/plain": [
       "Index                     80\n",
       "created                27296\n",
       "application_id          6824\n",
       "ref_type               27296\n",
       "ref_hash               27296\n",
       "click_hash              6824\n",
       "attributed              3412\n",
       "implicit                3412\n",
       "device_countrycode     27296\n",
       "device_brand           27296\n",
       "device_model           27296\n",
       "session_user_agent      5817\n",
       "user_agent             56854\n",
       "kind                  140818\n",
       "wifi                    3412\n",
       "ip_address             27296\n",
       "device_language        27296\n",
       "kindt                   5461\n",
       "dtype: int64"
      ]
     },
     "execution_count": 234,
     "metadata": {},
     "output_type": "execute_result"
    }
   ],
   "source": [
    "inst['user_agent']=inst['user_agent'].astype('category')\n",
    "inst.memory_usage(deep=True)"
   ]
  },
  {
   "cell_type": "code",
   "execution_count": 235,
   "metadata": {},
   "outputs": [
    {
     "data": {
      "text/plain": [
       "Index                    80\n",
       "created               27296\n",
       "application_id         6824\n",
       "ref_type              27296\n",
       "ref_hash              27296\n",
       "click_hash             6824\n",
       "attributed             3412\n",
       "implicit               3412\n",
       "device_countrycode    27296\n",
       "device_brand          27296\n",
       "device_model          27296\n",
       "session_user_agent     5817\n",
       "user_agent            56854\n",
       "kind                   5461\n",
       "wifi                   3412\n",
       "ip_address            27296\n",
       "device_language       27296\n",
       "kindt                  5461\n",
       "dtype: int64"
      ]
     },
     "execution_count": 235,
     "metadata": {},
     "output_type": "execute_result"
    }
   ],
   "source": [
    "inst['kind']=inst['kind'].astype('category')\n",
    "inst.memory_usage(deep=True)"
   ]
  },
  {
   "cell_type": "code",
   "execution_count": 236,
   "metadata": {},
   "outputs": [
    {
     "name": "stdout",
     "output_type": "stream",
     "text": [
      "<class 'pandas.core.frame.DataFrame'>\n",
      "RangeIndex: 3412 entries, 0 to 3411\n",
      "Data columns (total 17 columns):\n",
      "created               3412 non-null datetime64[ns]\n",
      "application_id        3412 non-null int16\n",
      "ref_type              3412 non-null int64\n",
      "ref_hash              3412 non-null int64\n",
      "click_hash            0 non-null float16\n",
      "attributed            3412 non-null bool\n",
      "implicit              3412 non-null bool\n",
      "device_countrycode    3412 non-null int64\n",
      "device_brand          1047 non-null float64\n",
      "device_model          3411 non-null float64\n",
      "session_user_agent    3364 non-null category\n",
      "user_agent            1729 non-null category\n",
      "kind                  865 non-null category\n",
      "wifi                  3412 non-null bool\n",
      "ip_address            3412 non-null int64\n",
      "device_language       3378 non-null float64\n",
      "kindt                 865 non-null category\n",
      "dtypes: bool(3), category(4), datetime64[ns](1), float16(1), float64(3), int16(1), int64(4)\n",
      "memory usage: 267.9 KB\n"
     ]
    }
   ],
   "source": [
    "inst.info()"
   ]
  },
  {
   "cell_type": "code",
   "execution_count": 237,
   "metadata": {},
   "outputs": [],
   "source": [
    "#vemos que la columna click_hash es no tiene valores no nulos\n",
    "del inst['click_hash']"
   ]
  },
  {
   "cell_type": "code",
   "execution_count": 246,
   "metadata": {},
   "outputs": [
    {
     "data": {
      "text/plain": [
       "Index                    80\n",
       "created               27296\n",
       "application_id         6824\n",
       "ref_type              27296\n",
       "ref_hash              27296\n",
       "attributed             3412\n",
       "implicit               3412\n",
       "device_countrycode     3508\n",
       "device_brand           4908\n",
       "device_model          27296\n",
       "session_user_agent     5817\n",
       "user_agent            56854\n",
       "kind                   5461\n",
       "wifi                   3412\n",
       "ip_address            27296\n",
       "device_language        4932\n",
       "kindt                  5461\n",
       "dtype: int64"
      ]
     },
     "execution_count": 246,
     "metadata": {},
     "output_type": "execute_result"
    }
   ],
   "source": [
    "inst.memory_usage(deep=True)"
   ]
  },
  {
   "cell_type": "code",
   "execution_count": 239,
   "metadata": {},
   "outputs": [
    {
     "data": {
      "text/plain": [
       "Index                    80\n",
       "created               27296\n",
       "application_id         6824\n",
       "ref_type              27296\n",
       "ref_hash              27296\n",
       "attributed             3412\n",
       "implicit               3412\n",
       "device_countrycode     3508\n",
       "device_brand           4908\n",
       "device_model          27296\n",
       "session_user_agent     5817\n",
       "user_agent            56854\n",
       "kind                   5461\n",
       "wifi                   3412\n",
       "ip_address            27296\n",
       "device_language        4932\n",
       "kindt                  5461\n",
       "dtype: int64"
      ]
     },
     "execution_count": 239,
     "metadata": {},
     "output_type": "execute_result"
    }
   ],
   "source": [
    "#paso a categorias algunos campos\n",
    "inst['device_countrycode']=inst['device_countrycode'].astype('category')\n",
    "inst['device_brand']=inst['device_brand'].astype('category')\n",
    "#inst['device_model']=inst['device_model'].astype('category')\n",
    "inst['device_language']=inst['device_language'].astype('category')\n",
    "\n",
    "inst.memory_usage(deep=True)"
   ]
  },
  {
   "cell_type": "code",
   "execution_count": 245,
   "metadata": {},
   "outputs": [
    {
     "data": {
      "text/plain": [
       "240561"
      ]
     },
     "execution_count": 245,
     "metadata": {},
     "output_type": "execute_result"
    }
   ],
   "source": [
    "# El dataframa inst paso de casi 1,5 gb a 240 mb!!!\n",
    "inst.memory_usage(deep=True).sum()\n"
   ]
  },
  {
   "cell_type": "markdown",
   "metadata": {},
   "source": [
    "# Analisis de los tipos de datos del dataframe clicks\n"
   ]
  },
  {
   "cell_type": "markdown",
   "metadata": {},
   "source": [
    "# Analisis de los tipos de datos del dataframe auctions"
   ]
  },
  {
   "cell_type": "markdown",
   "metadata": {},
   "source": [
    "# Analisis de los tipos de datos del dataframe eventos"
   ]
  },
  {
   "cell_type": "code",
   "execution_count": null,
   "metadata": {},
   "outputs": [],
   "source": []
  },
  {
   "cell_type": "code",
   "execution_count": null,
   "metadata": {},
   "outputs": [],
   "source": []
  },
  {
   "cell_type": "code",
   "execution_count": null,
   "metadata": {},
   "outputs": [],
   "source": []
  },
  {
   "cell_type": "code",
   "execution_count": null,
   "metadata": {},
   "outputs": [],
   "source": []
  }
 ],
 "metadata": {
  "kernelspec": {
   "display_name": "Python 3",
   "language": "python",
   "name": "python3"
  },
  "language_info": {
   "codemirror_mode": {
    "name": "ipython",
    "version": 3
   },
   "file_extension": ".py",
   "mimetype": "text/x-python",
   "name": "python",
   "nbconvert_exporter": "python",
   "pygments_lexer": "ipython3",
   "version": "3.6.7"
  }
 },
 "nbformat": 4,
 "nbformat_minor": 2
}
