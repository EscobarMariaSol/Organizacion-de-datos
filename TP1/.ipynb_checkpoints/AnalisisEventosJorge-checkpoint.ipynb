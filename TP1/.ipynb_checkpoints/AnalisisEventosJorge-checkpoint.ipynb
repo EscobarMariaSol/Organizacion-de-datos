{
 "cells": [
  {
   "cell_type": "code",
   "execution_count": 1,
   "metadata": {},
   "outputs": [],
   "source": [
    "import pandas as pd\n",
    "import seaborn as sns \n",
    "import numpy as np\n",
    "import matplotlib.pyplot as plt"
   ]
  },
  {
   "cell_type": "code",
   "execution_count": 2,
   "metadata": {},
   "outputs": [
    {
     "name": "stderr",
     "output_type": "stream",
     "text": [
      "/home/jorge/anaconda3/lib/python3.7/site-packages/IPython/core/interactiveshell.py:3020: DtypeWarning: Columns (12,18,19) have mixed types. Specify dtype option on import or set low_memory=False.\n",
      "  interactivity=interactivity, compiler=compiler, result=result)\n"
     ]
    }
   ],
   "source": [
    "events = pd.read_csv(\"data/events.csv\", dtype = {\"event_id\": np.int16, \"application_id\": np.int16})\n"
   ]
  },
  {
   "cell_type": "code",
   "execution_count": 3,
   "metadata": {},
   "outputs": [
    {
     "data": {
      "text/plain": [
       "986807484"
      ]
     },
     "execution_count": 3,
     "metadata": {},
     "output_type": "execute_result"
    }
   ],
   "source": [
    "events.memory_usage(deep=True).sum()"
   ]
  },
  {
   "cell_type": "code",
   "execution_count": 4,
   "metadata": {},
   "outputs": [],
   "source": [
    "events['date']=pd.to_datetime(events['date'])\n",
    "del events['event_uuid']\n",
    "events['wifi']=events['wifi'].astype('bool')\n",
    "events['connection_type']=events['connection_type'].astype('category')\n",
    "del events['trans_id']"
   ]
  },
  {
   "cell_type": "code",
   "execution_count": 5,
   "metadata": {},
   "outputs": [
    {
     "data": {
      "text/plain": [
       "316792078"
      ]
     },
     "execution_count": 5,
     "metadata": {},
     "output_type": "execute_result"
    }
   ],
   "source": [
    "events.memory_usage(deep=True).sum()"
   ]
  },
  {
   "cell_type": "code",
   "execution_count": 6,
   "metadata": {},
   "outputs": [
    {
     "data": {
      "text/html": [
       "<div>\n",
       "<style scoped>\n",
       "    .dataframe tbody tr th:only-of-type {\n",
       "        vertical-align: middle;\n",
       "    }\n",
       "\n",
       "    .dataframe tbody tr th {\n",
       "        vertical-align: top;\n",
       "    }\n",
       "\n",
       "    .dataframe thead th {\n",
       "        text-align: right;\n",
       "    }\n",
       "</style>\n",
       "<table border=\"1\" class=\"dataframe\">\n",
       "  <thead>\n",
       "    <tr style=\"text-align: right;\">\n",
       "      <th></th>\n",
       "      <th>date</th>\n",
       "      <th>event_id</th>\n",
       "      <th>ref_type</th>\n",
       "      <th>ref_hash</th>\n",
       "      <th>application_id</th>\n",
       "      <th>attributed</th>\n",
       "      <th>device_countrycode</th>\n",
       "      <th>device_os_version</th>\n",
       "      <th>device_brand</th>\n",
       "      <th>device_model</th>\n",
       "      <th>device_city</th>\n",
       "      <th>session_user_agent</th>\n",
       "      <th>user_agent</th>\n",
       "      <th>carrier</th>\n",
       "      <th>kind</th>\n",
       "      <th>device_os</th>\n",
       "      <th>wifi</th>\n",
       "      <th>connection_type</th>\n",
       "      <th>ip_address</th>\n",
       "      <th>device_language</th>\n",
       "    </tr>\n",
       "  </thead>\n",
       "  <tbody>\n",
       "    <tr>\n",
       "      <th>0</th>\n",
       "      <td>2019-03-05 00:09:36.966</td>\n",
       "      <td>0</td>\n",
       "      <td>1891515180541284343</td>\n",
       "      <td>2688759737656491380</td>\n",
       "      <td>38</td>\n",
       "      <td>False</td>\n",
       "      <td>6333597102633388268</td>\n",
       "      <td>5.908703e+17</td>\n",
       "      <td>NaN</td>\n",
       "      <td>5.990117e+18</td>\n",
       "      <td>3.258215e+18</td>\n",
       "      <td>7.164321e+18</td>\n",
       "      <td>NaN</td>\n",
       "      <td>2.248157e+17</td>\n",
       "      <td>5.516623e+18</td>\n",
       "      <td>7.531669e+18</td>\n",
       "      <td>True</td>\n",
       "      <td>Cable/DSL</td>\n",
       "      <td>7858558567428669000</td>\n",
       "      <td>4.077062e+17</td>\n",
       "    </tr>\n",
       "    <tr>\n",
       "      <th>1</th>\n",
       "      <td>2019-03-05 00:09:38.920</td>\n",
       "      <td>1</td>\n",
       "      <td>1891515180541284343</td>\n",
       "      <td>2688759737656491380</td>\n",
       "      <td>38</td>\n",
       "      <td>False</td>\n",
       "      <td>6333597102633388268</td>\n",
       "      <td>5.908703e+17</td>\n",
       "      <td>NaN</td>\n",
       "      <td>5.990117e+18</td>\n",
       "      <td>3.258215e+18</td>\n",
       "      <td>7.164321e+18</td>\n",
       "      <td>NaN</td>\n",
       "      <td>2.248157e+17</td>\n",
       "      <td>9.977660e+17</td>\n",
       "      <td>7.531669e+18</td>\n",
       "      <td>True</td>\n",
       "      <td>Cable/DSL</td>\n",
       "      <td>7858558567428669000</td>\n",
       "      <td>4.077062e+17</td>\n",
       "    </tr>\n",
       "    <tr>\n",
       "      <th>2</th>\n",
       "      <td>2019-03-05 00:09:26.195</td>\n",
       "      <td>0</td>\n",
       "      <td>1891515180541284343</td>\n",
       "      <td>2688759737656491380</td>\n",
       "      <td>38</td>\n",
       "      <td>False</td>\n",
       "      <td>6333597102633388268</td>\n",
       "      <td>5.908703e+17</td>\n",
       "      <td>NaN</td>\n",
       "      <td>5.990117e+18</td>\n",
       "      <td>3.258215e+18</td>\n",
       "      <td>7.164321e+18</td>\n",
       "      <td>NaN</td>\n",
       "      <td>2.248157e+17</td>\n",
       "      <td>5.516623e+18</td>\n",
       "      <td>7.531669e+18</td>\n",
       "      <td>True</td>\n",
       "      <td>Cable/DSL</td>\n",
       "      <td>7858558567428669000</td>\n",
       "      <td>4.077062e+17</td>\n",
       "    </tr>\n",
       "    <tr>\n",
       "      <th>3</th>\n",
       "      <td>2019-03-05 00:09:31.107</td>\n",
       "      <td>2</td>\n",
       "      <td>1891515180541284343</td>\n",
       "      <td>2688759737656491380</td>\n",
       "      <td>38</td>\n",
       "      <td>False</td>\n",
       "      <td>6333597102633388268</td>\n",
       "      <td>5.908703e+17</td>\n",
       "      <td>NaN</td>\n",
       "      <td>5.990117e+18</td>\n",
       "      <td>2.551781e+18</td>\n",
       "      <td>7.164321e+18</td>\n",
       "      <td>NaN</td>\n",
       "      <td>2.248157e+17</td>\n",
       "      <td>8.561153e+18</td>\n",
       "      <td>7.531669e+18</td>\n",
       "      <td>True</td>\n",
       "      <td>Cable/DSL</td>\n",
       "      <td>6324037615828123965</td>\n",
       "      <td>4.077062e+17</td>\n",
       "    </tr>\n",
       "    <tr>\n",
       "      <th>4</th>\n",
       "      <td>2019-03-09 21:00:36.585</td>\n",
       "      <td>3</td>\n",
       "      <td>1891515180541284343</td>\n",
       "      <td>2635154697734164782</td>\n",
       "      <td>38</td>\n",
       "      <td>False</td>\n",
       "      <td>6333597102633388268</td>\n",
       "      <td>7.391844e+18</td>\n",
       "      <td>NaN</td>\n",
       "      <td>5.960896e+18</td>\n",
       "      <td>6.959330e+18</td>\n",
       "      <td>7.164321e+18</td>\n",
       "      <td>NaN</td>\n",
       "      <td>2.248157e+17</td>\n",
       "      <td>8.731902e+17</td>\n",
       "      <td>7.531669e+18</td>\n",
       "      <td>True</td>\n",
       "      <td>Cable/DSL</td>\n",
       "      <td>2894495631302821483</td>\n",
       "      <td>3.301378e+18</td>\n",
       "    </tr>\n",
       "  </tbody>\n",
       "</table>\n",
       "</div>"
      ],
      "text/plain": [
       "                     date  event_id             ref_type             ref_hash  \\\n",
       "0 2019-03-05 00:09:36.966         0  1891515180541284343  2688759737656491380   \n",
       "1 2019-03-05 00:09:38.920         1  1891515180541284343  2688759737656491380   \n",
       "2 2019-03-05 00:09:26.195         0  1891515180541284343  2688759737656491380   \n",
       "3 2019-03-05 00:09:31.107         2  1891515180541284343  2688759737656491380   \n",
       "4 2019-03-09 21:00:36.585         3  1891515180541284343  2635154697734164782   \n",
       "\n",
       "   application_id  attributed   device_countrycode  device_os_version  \\\n",
       "0              38       False  6333597102633388268       5.908703e+17   \n",
       "1              38       False  6333597102633388268       5.908703e+17   \n",
       "2              38       False  6333597102633388268       5.908703e+17   \n",
       "3              38       False  6333597102633388268       5.908703e+17   \n",
       "4              38       False  6333597102633388268       7.391844e+18   \n",
       "\n",
       "   device_brand  device_model   device_city  session_user_agent  user_agent  \\\n",
       "0           NaN  5.990117e+18  3.258215e+18        7.164321e+18         NaN   \n",
       "1           NaN  5.990117e+18  3.258215e+18        7.164321e+18         NaN   \n",
       "2           NaN  5.990117e+18  3.258215e+18        7.164321e+18         NaN   \n",
       "3           NaN  5.990117e+18  2.551781e+18        7.164321e+18         NaN   \n",
       "4           NaN  5.960896e+18  6.959330e+18        7.164321e+18         NaN   \n",
       "\n",
       "        carrier          kind     device_os  wifi connection_type  \\\n",
       "0  2.248157e+17  5.516623e+18  7.531669e+18  True       Cable/DSL   \n",
       "1  2.248157e+17  9.977660e+17  7.531669e+18  True       Cable/DSL   \n",
       "2  2.248157e+17  5.516623e+18  7.531669e+18  True       Cable/DSL   \n",
       "3  2.248157e+17  8.561153e+18  7.531669e+18  True       Cable/DSL   \n",
       "4  2.248157e+17  8.731902e+17  7.531669e+18  True       Cable/DSL   \n",
       "\n",
       "            ip_address  device_language  \n",
       "0  7858558567428669000     4.077062e+17  \n",
       "1  7858558567428669000     4.077062e+17  \n",
       "2  7858558567428669000     4.077062e+17  \n",
       "3  6324037615828123965     4.077062e+17  \n",
       "4  2894495631302821483     3.301378e+18  "
      ]
     },
     "execution_count": 6,
     "metadata": {},
     "output_type": "execute_result"
    }
   ],
   "source": [
    "events.head()"
   ]
  },
  {
   "cell_type": "code",
   "execution_count": 7,
   "metadata": {},
   "outputs": [
    {
     "data": {
      "text/plain": [
       "count                        2494423\n",
       "unique                       2488829\n",
       "top       2019-03-12 14:36:58.017000\n",
       "freq                               3\n",
       "first     2019-03-05 00:00:00.255000\n",
       "last      2019-03-13 23:59:59.984000\n",
       "Name: date, dtype: object"
      ]
     },
     "execution_count": 7,
     "metadata": {},
     "output_type": "execute_result"
    }
   ],
   "source": [
    "events['date'].describe()"
   ]
  },
  {
   "cell_type": "code",
   "execution_count": 11,
   "metadata": {},
   "outputs": [
    {
     "data": {
      "text/plain": [
       "count    2.494423e+06\n",
       "mean     9.970445e+01\n",
       "std      1.070903e+02\n",
       "min      0.000000e+00\n",
       "25%      2.200000e+01\n",
       "50%      3.100000e+01\n",
       "75%      1.610000e+02\n",
       "max      7.120000e+02\n",
       "Name: event_id, dtype: float64"
      ]
     },
     "execution_count": 11,
     "metadata": {},
     "output_type": "execute_result"
    }
   ],
   "source": [
    "events['event_id'].describe()"
   ]
  },
  {
   "cell_type": "code",
   "execution_count": 93,
   "metadata": {},
   "outputs": [
    {
     "data": {
      "image/png": "[encoded data removed]",
      "text/plain": [
       "<Figure size 576x288 with 4 Axes>"
      ]
     },
     "metadata": {
      "needs_background": "light"
     },
     "output_type": "display_data"
    }
   ],
   "source": [
    "f, ax = plt.subplots(2,2,figsize=(8,4))\n",
    "vis1 = sns.distplot(events[\"event_id\"],bins=10, ax= ax[0][0])\n",
    "vis2 = sns.distplot(events[\"application_id\"],bins=10, ax=ax[0][1])\n",
    "vis3 = sns.distplot(events[\"application_id\"],bins=10, ax=ax[1][0])\n",
    "vis4 = sns.distplot(events[\"device_city\"],bins=10, ax=ax[1][1])"
   ]
  },
  {
   "cell_type": "code",
   "execution_count": 38,
   "metadata": {},
   "outputs": [
    {
     "data": {
      "text/html": [
       "<div>\n",
       "<style scoped>\n",
       "    .dataframe tbody tr th:only-of-type {\n",
       "        vertical-align: middle;\n",
       "    }\n",
       "\n",
       "    .dataframe tbody tr th {\n",
       "        vertical-align: top;\n",
       "    }\n",
       "\n",
       "    .dataframe thead th {\n",
       "        text-align: right;\n",
       "    }\n",
       "</style>\n",
       "<table border=\"1\" class=\"dataframe\">\n",
       "  <thead>\n",
       "    <tr style=\"text-align: right;\">\n",
       "      <th></th>\n",
       "      <th>event_id</th>\n",
       "      <th>device_language</th>\n",
       "      <th>Cantidad</th>\n",
       "      <th>Total</th>\n",
       "      <th>%Total</th>\n",
       "    </tr>\n",
       "  </thead>\n",
       "  <tbody>\n",
       "    <tr>\n",
       "      <th>0</th>\n",
       "      <td>22</td>\n",
       "      <td>6.977049e+18</td>\n",
       "      <td>386864</td>\n",
       "      <td>2406604</td>\n",
       "      <td>16.075100</td>\n",
       "    </tr>\n",
       "    <tr>\n",
       "      <th>1</th>\n",
       "      <td>31</td>\n",
       "      <td>6.804428e+18</td>\n",
       "      <td>283738</td>\n",
       "      <td>2406604</td>\n",
       "      <td>11.789975</td>\n",
       "    </tr>\n",
       "    <tr>\n",
       "      <th>2</th>\n",
       "      <td>161</td>\n",
       "      <td>3.301378e+18</td>\n",
       "      <td>210336</td>\n",
       "      <td>2406604</td>\n",
       "      <td>8.739951</td>\n",
       "    </tr>\n",
       "    <tr>\n",
       "      <th>3</th>\n",
       "      <td>22</td>\n",
       "      <td>9.028383e+18</td>\n",
       "      <td>186469</td>\n",
       "      <td>2406604</td>\n",
       "      <td>7.748221</td>\n",
       "    </tr>\n",
       "    <tr>\n",
       "      <th>4</th>\n",
       "      <td>1</td>\n",
       "      <td>3.301378e+18</td>\n",
       "      <td>134833</td>\n",
       "      <td>2406604</td>\n",
       "      <td>5.602625</td>\n",
       "    </tr>\n",
       "    <tr>\n",
       "      <th>5</th>\n",
       "      <td>31</td>\n",
       "      <td>6.977049e+18</td>\n",
       "      <td>98270</td>\n",
       "      <td>2406604</td>\n",
       "      <td>4.083347</td>\n",
       "    </tr>\n",
       "    <tr>\n",
       "      <th>6</th>\n",
       "      <td>138</td>\n",
       "      <td>9.028383e+18</td>\n",
       "      <td>88882</td>\n",
       "      <td>2406604</td>\n",
       "      <td>3.693254</td>\n",
       "    </tr>\n",
       "    <tr>\n",
       "      <th>7</th>\n",
       "      <td>162</td>\n",
       "      <td>3.301378e+18</td>\n",
       "      <td>81592</td>\n",
       "      <td>2406604</td>\n",
       "      <td>3.390338</td>\n",
       "    </tr>\n",
       "    <tr>\n",
       "      <th>8</th>\n",
       "      <td>329</td>\n",
       "      <td>6.804428e+18</td>\n",
       "      <td>53186</td>\n",
       "      <td>2406604</td>\n",
       "      <td>2.210002</td>\n",
       "    </tr>\n",
       "    <tr>\n",
       "      <th>9</th>\n",
       "      <td>310</td>\n",
       "      <td>3.301378e+18</td>\n",
       "      <td>38999</td>\n",
       "      <td>2406604</td>\n",
       "      <td>1.620499</td>\n",
       "    </tr>\n",
       "  </tbody>\n",
       "</table>\n",
       "</div>"
      ],
      "text/plain": [
       "   event_id  device_language  Cantidad    Total     %Total\n",
       "0        22     6.977049e+18    386864  2406604  16.075100\n",
       "1        31     6.804428e+18    283738  2406604  11.789975\n",
       "2       161     3.301378e+18    210336  2406604   8.739951\n",
       "3        22     9.028383e+18    186469  2406604   7.748221\n",
       "4         1     3.301378e+18    134833  2406604   5.602625\n",
       "5        31     6.977049e+18     98270  2406604   4.083347\n",
       "6       138     9.028383e+18     88882  2406604   3.693254\n",
       "7       162     3.301378e+18     81592  2406604   3.390338\n",
       "8       329     6.804428e+18     53186  2406604   2.210002\n",
       "9       310     3.301378e+18     38999  2406604   1.620499"
      ]
     },
     "execution_count": 38,
     "metadata": {},
     "output_type": "execute_result"
    }
   ],
   "source": [
    "grupo_event_id=events.groupby(['event_id','device_language'])['event_id'].count().sort_values(ascending=False).rename(\"Cantidad\").reset_index()\n",
    "grupo_event_id['Total']=grupo_event_id['Cantidad'].sum()\n",
    "\n",
    "grupo_event_id['%Total']=grupo_event_id['Cantidad']/grupo_event_id['Total']*100\n",
    "grupo_event_id=grupo_event_id.head(10)\n",
    "grupo_event_id"
   ]
  },
  {
   "cell_type": "code",
   "execution_count": 39,
   "metadata": {},
   "outputs": [
    {
     "data": {
      "text/plain": [
       "<matplotlib.axes._subplots.AxesSubplot at 0x7fce4fd10828>"
      ]
     },
     "execution_count": 39,
     "metadata": {},
     "output_type": "execute_result"
    },
    {
     "data": {
      "image/png": "[encoded data removed]",
      "text/plain": [
       "<Figure size 432x288 with 1 Axes>"
      ]
     },
     "metadata": {
      "needs_background": "light"
     },
     "output_type": "display_data"
    }
   ],
   "source": [
    "sns.countplot(x='event_id', data=grupo_event_id)"
   ]
  },
  {
   "cell_type": "code",
   "execution_count": 40,
   "metadata": {},
   "outputs": [
    {
     "name": "stderr",
     "output_type": "stream",
     "text": [
      "/home/jorge/anaconda3/lib/python3.7/site-packages/scipy/stats/stats.py:1713: FutureWarning: Using a non-tuple sequence for multidimensional indexing is deprecated; use `arr[tuple(seq)]` instead of `arr[seq]`. In the future this will be interpreted as an array index, `arr[np.array(seq)]`, which will result either in an error or a different result.\n",
      "  return np.add.reduce(sorted[indexer] * weights, axis=axis) / sumval\n"
     ]
    },
    {
     "data": {
      "image/png": "[encoded data removed]",
      "text/plain": [
       "<Figure size 1152x288 with 1 Axes>"
      ]
     },
     "metadata": {
      "needs_background": "light"
     },
     "output_type": "display_data"
    }
   ],
   "source": [
    "ax = sns.barplot(x='event_id', y='Cantidad', data=grupo_event_id)\n",
    "ax.set_title('Eventos totales segun id del evento')\n",
    "ax.figure.set_size_inches(16, 4)"
   ]
  },
  {
   "cell_type": "code",
   "execution_count": 66,
   "metadata": {},
   "outputs": [
    {
     "data": {
      "image/png": "[encoded data removed]",
      "text/plain": [
       "<Figure size 432x288 with 1 Axes>"
      ]
     },
     "metadata": {
      "needs_background": "light"
     },
     "output_type": "display_data"
    }
   ],
   "source": [
    "sns.countplot(y=\"event_id\", hue=\"device_language\", data=grupo_event_id);"
   ]
  },
  {
   "cell_type": "code",
   "execution_count": 33,
   "metadata": {},
   "outputs": [],
   "source": [
    "import matplotlib.pyplot as plt\n",
    " \n",
    "# Basic correlogram\n",
    "#sns.pairplot(events)\n",
    "#sns.plt.show()\n"
   ]
  },
  {
   "cell_type": "code",
   "execution_count": 68,
   "metadata": {},
   "outputs": [
    {
     "data": {
      "text/html": [
       "<div>\n",
       "<style scoped>\n",
       "    .dataframe tbody tr th:only-of-type {\n",
       "        vertical-align: middle;\n",
       "    }\n",
       "\n",
       "    .dataframe tbody tr th {\n",
       "        vertical-align: top;\n",
       "    }\n",
       "\n",
       "    .dataframe thead th {\n",
       "        text-align: right;\n",
       "    }\n",
       "</style>\n",
       "<table border=\"1\" class=\"dataframe\">\n",
       "  <thead>\n",
       "    <tr style=\"text-align: right;\">\n",
       "      <th></th>\n",
       "      <th>event_id</th>\n",
       "      <th>device_language</th>\n",
       "      <th>Cantidad</th>\n",
       "      <th>Total</th>\n",
       "      <th>%Total</th>\n",
       "    </tr>\n",
       "  </thead>\n",
       "  <tbody>\n",
       "    <tr>\n",
       "      <th>0</th>\n",
       "      <td>22</td>\n",
       "      <td>6.977049e+18</td>\n",
       "      <td>386864</td>\n",
       "      <td>2406604</td>\n",
       "      <td>16.075100</td>\n",
       "    </tr>\n",
       "    <tr>\n",
       "      <th>1</th>\n",
       "      <td>31</td>\n",
       "      <td>6.804428e+18</td>\n",
       "      <td>283738</td>\n",
       "      <td>2406604</td>\n",
       "      <td>11.789975</td>\n",
       "    </tr>\n",
       "    <tr>\n",
       "      <th>2</th>\n",
       "      <td>161</td>\n",
       "      <td>3.301378e+18</td>\n",
       "      <td>210336</td>\n",
       "      <td>2406604</td>\n",
       "      <td>8.739951</td>\n",
       "    </tr>\n",
       "    <tr>\n",
       "      <th>3</th>\n",
       "      <td>22</td>\n",
       "      <td>9.028383e+18</td>\n",
       "      <td>186469</td>\n",
       "      <td>2406604</td>\n",
       "      <td>7.748221</td>\n",
       "    </tr>\n",
       "    <tr>\n",
       "      <th>4</th>\n",
       "      <td>1</td>\n",
       "      <td>3.301378e+18</td>\n",
       "      <td>134833</td>\n",
       "      <td>2406604</td>\n",
       "      <td>5.602625</td>\n",
       "    </tr>\n",
       "  </tbody>\n",
       "</table>\n",
       "</div>"
      ],
      "text/plain": [
       "   event_id  device_language  Cantidad    Total     %Total\n",
       "0        22     6.977049e+18    386864  2406604  16.075100\n",
       "1        31     6.804428e+18    283738  2406604  11.789975\n",
       "2       161     3.301378e+18    210336  2406604   8.739951\n",
       "3        22     9.028383e+18    186469  2406604   7.748221\n",
       "4         1     3.301378e+18    134833  2406604   5.602625"
      ]
     },
     "execution_count": 68,
     "metadata": {},
     "output_type": "execute_result"
    }
   ],
   "source": [
    "grupo_event_id=events.groupby(['event_id','device_language'])['event_id'].count().sort_values(ascending=False).rename(\"Cantidad\").reset_index()\n",
    "grupo_event_id['Total']=grupo_event_id['Cantidad'].sum()\n",
    "\n",
    "grupo_event_id['%Total']=grupo_event_id['Cantidad']/grupo_event_id['Total']*100\n",
    "grupo_event_id=grupo_event_id.head(100)\n",
    "grupo_event_id.head()"
   ]
  },
  {
   "cell_type": "code",
   "execution_count": 69,
   "metadata": {},
   "outputs": [
    {
     "name": "stderr",
     "output_type": "stream",
     "text": [
      "/home/jorge/anaconda3/lib/python3.7/site-packages/seaborn/regression.py:546: UserWarning: The `size` paramter has been renamed to `height`; please update your code.\n",
      "  warnings.warn(msg, UserWarning)\n"
     ]
    },
    {
     "data": {
      "image/png": "[encoded data removed]",
      "text/plain": [
       "<Figure size 822.125x432 with 1 Axes>"
      ]
     },
     "metadata": {
      "needs_background": "light"
     },
     "output_type": "display_data"
    }
   ],
   "source": [
    "vis7 = sns.lmplot(data = grupo_event_id, x = \"event_id\", y = \"Cantidad\",fit_reg=False, hue = \"device_language\",size = 6, aspect=1.5, scatter_kws = {'s':200}, )\n"
   ]
  },
  {
   "cell_type": "code",
   "execution_count": 50,
   "metadata": {},
   "outputs": [
    {
     "data": {
      "text/html": [
       "<div>\n",
       "<style scoped>\n",
       "    .dataframe tbody tr th:only-of-type {\n",
       "        vertical-align: middle;\n",
       "    }\n",
       "\n",
       "    .dataframe tbody tr th {\n",
       "        vertical-align: top;\n",
       "    }\n",
       "\n",
       "    .dataframe thead th {\n",
       "        text-align: right;\n",
       "    }\n",
       "</style>\n",
       "<table border=\"1\" class=\"dataframe\">\n",
       "  <thead>\n",
       "    <tr style=\"text-align: right;\">\n",
       "      <th></th>\n",
       "      <th>date</th>\n",
       "      <th>event_id</th>\n",
       "      <th>ref_type</th>\n",
       "      <th>ref_hash</th>\n",
       "      <th>application_id</th>\n",
       "      <th>attributed</th>\n",
       "      <th>device_countrycode</th>\n",
       "      <th>device_os_version</th>\n",
       "      <th>device_brand</th>\n",
       "      <th>device_model</th>\n",
       "      <th>...</th>\n",
       "      <th>wifi</th>\n",
       "      <th>connection_type</th>\n",
       "      <th>ip_address</th>\n",
       "      <th>device_language</th>\n",
       "      <th>diaSemana</th>\n",
       "      <th>año</th>\n",
       "      <th>mes</th>\n",
       "      <th>día</th>\n",
       "      <th>hora</th>\n",
       "      <th>minuto</th>\n",
       "    </tr>\n",
       "  </thead>\n",
       "  <tbody>\n",
       "    <tr>\n",
       "      <th>0</th>\n",
       "      <td>2019-03-05 00:09:36.966</td>\n",
       "      <td>0</td>\n",
       "      <td>1891515180541284343</td>\n",
       "      <td>2688759737656491380</td>\n",
       "      <td>38</td>\n",
       "      <td>False</td>\n",
       "      <td>6333597102633388268</td>\n",
       "      <td>5.908703e+17</td>\n",
       "      <td>NaN</td>\n",
       "      <td>5.990117e+18</td>\n",
       "      <td>...</td>\n",
       "      <td>True</td>\n",
       "      <td>Cable/DSL</td>\n",
       "      <td>7858558567428669000</td>\n",
       "      <td>4.077062e+17</td>\n",
       "      <td>Tuesday</td>\n",
       "      <td>2019</td>\n",
       "      <td>3</td>\n",
       "      <td>5</td>\n",
       "      <td>0</td>\n",
       "      <td>9</td>\n",
       "    </tr>\n",
       "    <tr>\n",
       "      <th>1</th>\n",
       "      <td>2019-03-05 00:09:38.920</td>\n",
       "      <td>1</td>\n",
       "      <td>1891515180541284343</td>\n",
       "      <td>2688759737656491380</td>\n",
       "      <td>38</td>\n",
       "      <td>False</td>\n",
       "      <td>6333597102633388268</td>\n",
       "      <td>5.908703e+17</td>\n",
       "      <td>NaN</td>\n",
       "      <td>5.990117e+18</td>\n",
       "      <td>...</td>\n",
       "      <td>True</td>\n",
       "      <td>Cable/DSL</td>\n",
       "      <td>7858558567428669000</td>\n",
       "      <td>4.077062e+17</td>\n",
       "      <td>Tuesday</td>\n",
       "      <td>2019</td>\n",
       "      <td>3</td>\n",
       "      <td>5</td>\n",
       "      <td>0</td>\n",
       "      <td>9</td>\n",
       "    </tr>\n",
       "    <tr>\n",
       "      <th>2</th>\n",
       "      <td>2019-03-05 00:09:26.195</td>\n",
       "      <td>0</td>\n",
       "      <td>1891515180541284343</td>\n",
       "      <td>2688759737656491380</td>\n",
       "      <td>38</td>\n",
       "      <td>False</td>\n",
       "      <td>6333597102633388268</td>\n",
       "      <td>5.908703e+17</td>\n",
       "      <td>NaN</td>\n",
       "      <td>5.990117e+18</td>\n",
       "      <td>...</td>\n",
       "      <td>True</td>\n",
       "      <td>Cable/DSL</td>\n",
       "      <td>7858558567428669000</td>\n",
       "      <td>4.077062e+17</td>\n",
       "      <td>Tuesday</td>\n",
       "      <td>2019</td>\n",
       "      <td>3</td>\n",
       "      <td>5</td>\n",
       "      <td>0</td>\n",
       "      <td>9</td>\n",
       "    </tr>\n",
       "    <tr>\n",
       "      <th>3</th>\n",
       "      <td>2019-03-05 00:09:31.107</td>\n",
       "      <td>2</td>\n",
       "      <td>1891515180541284343</td>\n",
       "      <td>2688759737656491380</td>\n",
       "      <td>38</td>\n",
       "      <td>False</td>\n",
       "      <td>6333597102633388268</td>\n",
       "      <td>5.908703e+17</td>\n",
       "      <td>NaN</td>\n",
       "      <td>5.990117e+18</td>\n",
       "      <td>...</td>\n",
       "      <td>True</td>\n",
       "      <td>Cable/DSL</td>\n",
       "      <td>6324037615828123965</td>\n",
       "      <td>4.077062e+17</td>\n",
       "      <td>Tuesday</td>\n",
       "      <td>2019</td>\n",
       "      <td>3</td>\n",
       "      <td>5</td>\n",
       "      <td>0</td>\n",
       "      <td>9</td>\n",
       "    </tr>\n",
       "    <tr>\n",
       "      <th>4</th>\n",
       "      <td>2019-03-09 21:00:36.585</td>\n",
       "      <td>3</td>\n",
       "      <td>1891515180541284343</td>\n",
       "      <td>2635154697734164782</td>\n",
       "      <td>38</td>\n",
       "      <td>False</td>\n",
       "      <td>6333597102633388268</td>\n",
       "      <td>7.391844e+18</td>\n",
       "      <td>NaN</td>\n",
       "      <td>5.960896e+18</td>\n",
       "      <td>...</td>\n",
       "      <td>True</td>\n",
       "      <td>Cable/DSL</td>\n",
       "      <td>2894495631302821483</td>\n",
       "      <td>3.301378e+18</td>\n",
       "      <td>Saturday</td>\n",
       "      <td>2019</td>\n",
       "      <td>3</td>\n",
       "      <td>9</td>\n",
       "      <td>21</td>\n",
       "      <td>0</td>\n",
       "    </tr>\n",
       "  </tbody>\n",
       "</table>\n",
       "<p>5 rows × 26 columns</p>\n",
       "</div>"
      ],
      "text/plain": [
       "                     date  event_id             ref_type             ref_hash  \\\n",
       "0 2019-03-05 00:09:36.966         0  1891515180541284343  2688759737656491380   \n",
       "1 2019-03-05 00:09:38.920         1  1891515180541284343  2688759737656491380   \n",
       "2 2019-03-05 00:09:26.195         0  1891515180541284343  2688759737656491380   \n",
       "3 2019-03-05 00:09:31.107         2  1891515180541284343  2688759737656491380   \n",
       "4 2019-03-09 21:00:36.585         3  1891515180541284343  2635154697734164782   \n",
       "\n",
       "   application_id  attributed   device_countrycode  device_os_version  \\\n",
       "0              38       False  6333597102633388268       5.908703e+17   \n",
       "1              38       False  6333597102633388268       5.908703e+17   \n",
       "2              38       False  6333597102633388268       5.908703e+17   \n",
       "3              38       False  6333597102633388268       5.908703e+17   \n",
       "4              38       False  6333597102633388268       7.391844e+18   \n",
       "\n",
       "   device_brand  device_model   ...    wifi  connection_type  \\\n",
       "0           NaN  5.990117e+18   ...    True        Cable/DSL   \n",
       "1           NaN  5.990117e+18   ...    True        Cable/DSL   \n",
       "2           NaN  5.990117e+18   ...    True        Cable/DSL   \n",
       "3           NaN  5.990117e+18   ...    True        Cable/DSL   \n",
       "4           NaN  5.960896e+18   ...    True        Cable/DSL   \n",
       "\n",
       "            ip_address  device_language  diaSemana   año  mes día  hora  \\\n",
       "0  7858558567428669000     4.077062e+17    Tuesday  2019    3   5     0   \n",
       "1  7858558567428669000     4.077062e+17    Tuesday  2019    3   5     0   \n",
       "2  7858558567428669000     4.077062e+17    Tuesday  2019    3   5     0   \n",
       "3  6324037615828123965     4.077062e+17    Tuesday  2019    3   5     0   \n",
       "4  2894495631302821483     3.301378e+18   Saturday  2019    3   9    21   \n",
       "\n",
       "   minuto  \n",
       "0       9  \n",
       "1       9  \n",
       "2       9  \n",
       "3       9  \n",
       "4       0  \n",
       "\n",
       "[5 rows x 26 columns]"
      ]
     },
     "execution_count": 50,
     "metadata": {},
     "output_type": "execute_result"
    }
   ],
   "source": [
    "events['año'] = pd.DatetimeIndex(events['date']).year\n",
    "events['mes'] =events['date'].dt.month\n",
    "events['día'] = events['date'].dt.day\n",
    "events['hora'] = events['date'].dt.hour\n",
    "events['minuto'] = events['date'].dt.minute\n",
    "events.head()"
   ]
  },
  {
   "cell_type": "code",
   "execution_count": 70,
   "metadata": {},
   "outputs": [
    {
     "data": {
      "text/html": [
       "<div>\n",
       "<style scoped>\n",
       "    .dataframe tbody tr th:only-of-type {\n",
       "        vertical-align: middle;\n",
       "    }\n",
       "\n",
       "    .dataframe tbody tr th {\n",
       "        vertical-align: top;\n",
       "    }\n",
       "\n",
       "    .dataframe thead th {\n",
       "        text-align: right;\n",
       "    }\n",
       "</style>\n",
       "<table border=\"1\" class=\"dataframe\">\n",
       "  <thead>\n",
       "    <tr style=\"text-align: right;\">\n",
       "      <th></th>\n",
       "      <th>event_id</th>\n",
       "      <th>diaSemana</th>\n",
       "      <th>hora</th>\n",
       "      <th>Cantidad Eventos</th>\n",
       "    </tr>\n",
       "  </thead>\n",
       "  <tbody>\n",
       "    <tr>\n",
       "      <th>0</th>\n",
       "      <td>22</td>\n",
       "      <td>Tuesday</td>\n",
       "      <td>0</td>\n",
       "      <td>10032</td>\n",
       "    </tr>\n",
       "    <tr>\n",
       "      <th>1</th>\n",
       "      <td>22</td>\n",
       "      <td>Wednesday</td>\n",
       "      <td>23</td>\n",
       "      <td>9406</td>\n",
       "    </tr>\n",
       "    <tr>\n",
       "      <th>2</th>\n",
       "      <td>22</td>\n",
       "      <td>Tuesday</td>\n",
       "      <td>23</td>\n",
       "      <td>9194</td>\n",
       "    </tr>\n",
       "    <tr>\n",
       "      <th>3</th>\n",
       "      <td>22</td>\n",
       "      <td>Wednesday</td>\n",
       "      <td>0</td>\n",
       "      <td>9057</td>\n",
       "    </tr>\n",
       "    <tr>\n",
       "      <th>4</th>\n",
       "      <td>22</td>\n",
       "      <td>Tuesday</td>\n",
       "      <td>22</td>\n",
       "      <td>8927</td>\n",
       "    </tr>\n",
       "  </tbody>\n",
       "</table>\n",
       "</div>"
      ],
      "text/plain": [
       "   event_id  diaSemana  hora  Cantidad Eventos\n",
       "0        22    Tuesday     0             10032\n",
       "1        22  Wednesday    23              9406\n",
       "2        22    Tuesday    23              9194\n",
       "3        22  Wednesday     0              9057\n",
       "4        22    Tuesday    22              8927"
      ]
     },
     "execution_count": 70,
     "metadata": {},
     "output_type": "execute_result"
    }
   ],
   "source": [
    "grupo_events_por_hora=events.groupby(['event_id','diaSemana','hora'])['event_id'].count().sort_values(ascending=False).rename(\"Cantidad Eventos\").reset_index()\n",
    "grupo_events_por_hora=grupo_events_por_hora.head(100) \n",
    "grupo_events_por_hora.head()"
   ]
  },
  {
   "cell_type": "code",
   "execution_count": 71,
   "metadata": {},
   "outputs": [
    {
     "name": "stderr",
     "output_type": "stream",
     "text": [
      "/home/jorge/anaconda3/lib/python3.7/site-packages/seaborn/regression.py:546: UserWarning: The `size` paramter has been renamed to `height`; please update your code.\n",
      "  warnings.warn(msg, UserWarning)\n"
     ]
    },
    {
     "data": {
      "image/png": "[encoded data removed]",
      "text/plain": [
       "<Figure size 703.125x432 with 1 Axes>"
      ]
     },
     "metadata": {
      "needs_background": "light"
     },
     "output_type": "display_data"
    }
   ],
   "source": [
    "vis7 = sns.lmplot(data = grupo_events_por_hora, x = \"hora\", y =\"Cantidad Eventos\",fit_reg=False, hue = \"event_id\",size = 6, aspect=1.5, scatter_kws = {'s':200}, )\n"
   ]
  },
  {
   "cell_type": "code",
   "execution_count": 45,
   "metadata": {},
   "outputs": [
    {
     "data": {
      "text/html": [
       "<div>\n",
       "<style scoped>\n",
       "    .dataframe tbody tr th:only-of-type {\n",
       "        vertical-align: middle;\n",
       "    }\n",
       "\n",
       "    .dataframe tbody tr th {\n",
       "        vertical-align: top;\n",
       "    }\n",
       "\n",
       "    .dataframe thead th {\n",
       "        text-align: right;\n",
       "    }\n",
       "</style>\n",
       "<table border=\"1\" class=\"dataframe\">\n",
       "  <thead>\n",
       "    <tr style=\"text-align: right;\">\n",
       "      <th></th>\n",
       "      <th>date</th>\n",
       "      <th>event_id</th>\n",
       "      <th>ref_type</th>\n",
       "      <th>ref_hash</th>\n",
       "      <th>application_id</th>\n",
       "      <th>attributed</th>\n",
       "      <th>device_countrycode</th>\n",
       "      <th>device_os_version</th>\n",
       "      <th>device_brand</th>\n",
       "      <th>device_model</th>\n",
       "      <th>...</th>\n",
       "      <th>session_user_agent</th>\n",
       "      <th>user_agent</th>\n",
       "      <th>carrier</th>\n",
       "      <th>kind</th>\n",
       "      <th>device_os</th>\n",
       "      <th>wifi</th>\n",
       "      <th>connection_type</th>\n",
       "      <th>ip_address</th>\n",
       "      <th>device_language</th>\n",
       "      <th>diaSemana</th>\n",
       "    </tr>\n",
       "  </thead>\n",
       "  <tbody>\n",
       "    <tr>\n",
       "      <th>0</th>\n",
       "      <td>2019-03-05 00:09:36.966</td>\n",
       "      <td>0</td>\n",
       "      <td>1891515180541284343</td>\n",
       "      <td>2688759737656491380</td>\n",
       "      <td>38</td>\n",
       "      <td>False</td>\n",
       "      <td>6333597102633388268</td>\n",
       "      <td>5.908703e+17</td>\n",
       "      <td>NaN</td>\n",
       "      <td>5.990117e+18</td>\n",
       "      <td>...</td>\n",
       "      <td>7.164321e+18</td>\n",
       "      <td>NaN</td>\n",
       "      <td>2.248157e+17</td>\n",
       "      <td>5.516623e+18</td>\n",
       "      <td>7.531669e+18</td>\n",
       "      <td>True</td>\n",
       "      <td>Cable/DSL</td>\n",
       "      <td>7858558567428669000</td>\n",
       "      <td>4.077062e+17</td>\n",
       "      <td>Tuesday</td>\n",
       "    </tr>\n",
       "    <tr>\n",
       "      <th>1</th>\n",
       "      <td>2019-03-05 00:09:38.920</td>\n",
       "      <td>1</td>\n",
       "      <td>1891515180541284343</td>\n",
       "      <td>2688759737656491380</td>\n",
       "      <td>38</td>\n",
       "      <td>False</td>\n",
       "      <td>6333597102633388268</td>\n",
       "      <td>5.908703e+17</td>\n",
       "      <td>NaN</td>\n",
       "      <td>5.990117e+18</td>\n",
       "      <td>...</td>\n",
       "      <td>7.164321e+18</td>\n",
       "      <td>NaN</td>\n",
       "      <td>2.248157e+17</td>\n",
       "      <td>9.977660e+17</td>\n",
       "      <td>7.531669e+18</td>\n",
       "      <td>True</td>\n",
       "      <td>Cable/DSL</td>\n",
       "      <td>7858558567428669000</td>\n",
       "      <td>4.077062e+17</td>\n",
       "      <td>Tuesday</td>\n",
       "    </tr>\n",
       "    <tr>\n",
       "      <th>2</th>\n",
       "      <td>2019-03-05 00:09:26.195</td>\n",
       "      <td>0</td>\n",
       "      <td>1891515180541284343</td>\n",
       "      <td>2688759737656491380</td>\n",
       "      <td>38</td>\n",
       "      <td>False</td>\n",
       "      <td>6333597102633388268</td>\n",
       "      <td>5.908703e+17</td>\n",
       "      <td>NaN</td>\n",
       "      <td>5.990117e+18</td>\n",
       "      <td>...</td>\n",
       "      <td>7.164321e+18</td>\n",
       "      <td>NaN</td>\n",
       "      <td>2.248157e+17</td>\n",
       "      <td>5.516623e+18</td>\n",
       "      <td>7.531669e+18</td>\n",
       "      <td>True</td>\n",
       "      <td>Cable/DSL</td>\n",
       "      <td>7858558567428669000</td>\n",
       "      <td>4.077062e+17</td>\n",
       "      <td>Tuesday</td>\n",
       "    </tr>\n",
       "    <tr>\n",
       "      <th>3</th>\n",
       "      <td>2019-03-05 00:09:31.107</td>\n",
       "      <td>2</td>\n",
       "      <td>1891515180541284343</td>\n",
       "      <td>2688759737656491380</td>\n",
       "      <td>38</td>\n",
       "      <td>False</td>\n",
       "      <td>6333597102633388268</td>\n",
       "      <td>5.908703e+17</td>\n",
       "      <td>NaN</td>\n",
       "      <td>5.990117e+18</td>\n",
       "      <td>...</td>\n",
       "      <td>7.164321e+18</td>\n",
       "      <td>NaN</td>\n",
       "      <td>2.248157e+17</td>\n",
       "      <td>8.561153e+18</td>\n",
       "      <td>7.531669e+18</td>\n",
       "      <td>True</td>\n",
       "      <td>Cable/DSL</td>\n",
       "      <td>6324037615828123965</td>\n",
       "      <td>4.077062e+17</td>\n",
       "      <td>Tuesday</td>\n",
       "    </tr>\n",
       "    <tr>\n",
       "      <th>4</th>\n",
       "      <td>2019-03-09 21:00:36.585</td>\n",
       "      <td>3</td>\n",
       "      <td>1891515180541284343</td>\n",
       "      <td>2635154697734164782</td>\n",
       "      <td>38</td>\n",
       "      <td>False</td>\n",
       "      <td>6333597102633388268</td>\n",
       "      <td>7.391844e+18</td>\n",
       "      <td>NaN</td>\n",
       "      <td>5.960896e+18</td>\n",
       "      <td>...</td>\n",
       "      <td>7.164321e+18</td>\n",
       "      <td>NaN</td>\n",
       "      <td>2.248157e+17</td>\n",
       "      <td>8.731902e+17</td>\n",
       "      <td>7.531669e+18</td>\n",
       "      <td>True</td>\n",
       "      <td>Cable/DSL</td>\n",
       "      <td>2894495631302821483</td>\n",
       "      <td>3.301378e+18</td>\n",
       "      <td>Saturday</td>\n",
       "    </tr>\n",
       "  </tbody>\n",
       "</table>\n",
       "<p>5 rows × 21 columns</p>\n",
       "</div>"
      ],
      "text/plain": [
       "                     date  event_id             ref_type             ref_hash  \\\n",
       "0 2019-03-05 00:09:36.966         0  1891515180541284343  2688759737656491380   \n",
       "1 2019-03-05 00:09:38.920         1  1891515180541284343  2688759737656491380   \n",
       "2 2019-03-05 00:09:26.195         0  1891515180541284343  2688759737656491380   \n",
       "3 2019-03-05 00:09:31.107         2  1891515180541284343  2688759737656491380   \n",
       "4 2019-03-09 21:00:36.585         3  1891515180541284343  2635154697734164782   \n",
       "\n",
       "   application_id  attributed   device_countrycode  device_os_version  \\\n",
       "0              38       False  6333597102633388268       5.908703e+17   \n",
       "1              38       False  6333597102633388268       5.908703e+17   \n",
       "2              38       False  6333597102633388268       5.908703e+17   \n",
       "3              38       False  6333597102633388268       5.908703e+17   \n",
       "4              38       False  6333597102633388268       7.391844e+18   \n",
       "\n",
       "   device_brand  device_model    ...      session_user_agent  user_agent  \\\n",
       "0           NaN  5.990117e+18    ...            7.164321e+18         NaN   \n",
       "1           NaN  5.990117e+18    ...            7.164321e+18         NaN   \n",
       "2           NaN  5.990117e+18    ...            7.164321e+18         NaN   \n",
       "3           NaN  5.990117e+18    ...            7.164321e+18         NaN   \n",
       "4           NaN  5.960896e+18    ...            7.164321e+18         NaN   \n",
       "\n",
       "        carrier          kind     device_os  wifi  connection_type  \\\n",
       "0  2.248157e+17  5.516623e+18  7.531669e+18  True        Cable/DSL   \n",
       "1  2.248157e+17  9.977660e+17  7.531669e+18  True        Cable/DSL   \n",
       "2  2.248157e+17  5.516623e+18  7.531669e+18  True        Cable/DSL   \n",
       "3  2.248157e+17  8.561153e+18  7.531669e+18  True        Cable/DSL   \n",
       "4  2.248157e+17  8.731902e+17  7.531669e+18  True        Cable/DSL   \n",
       "\n",
       "            ip_address  device_language  diaSemana  \n",
       "0  7858558567428669000     4.077062e+17    Tuesday  \n",
       "1  7858558567428669000     4.077062e+17    Tuesday  \n",
       "2  7858558567428669000     4.077062e+17    Tuesday  \n",
       "3  6324037615828123965     4.077062e+17    Tuesday  \n",
       "4  2894495631302821483     3.301378e+18   Saturday  \n",
       "\n",
       "[5 rows x 21 columns]"
      ]
     },
     "execution_count": 45,
     "metadata": {},
     "output_type": "execute_result"
    }
   ],
   "source": [
    "events['diaSemana'] = events['date'].dt.weekday_name\n",
    "events.head()"
   ]
  },
  {
   "cell_type": "code",
   "execution_count": 73,
   "metadata": {},
   "outputs": [
    {
     "data": {
      "text/html": [
       "<div>\n",
       "<style scoped>\n",
       "    .dataframe tbody tr th:only-of-type {\n",
       "        vertical-align: middle;\n",
       "    }\n",
       "\n",
       "    .dataframe tbody tr th {\n",
       "        vertical-align: top;\n",
       "    }\n",
       "\n",
       "    .dataframe thead th {\n",
       "        text-align: right;\n",
       "    }\n",
       "</style>\n",
       "<table border=\"1\" class=\"dataframe\">\n",
       "  <thead>\n",
       "    <tr style=\"text-align: right;\">\n",
       "      <th></th>\n",
       "      <th>event_id</th>\n",
       "      <th>diaSemana</th>\n",
       "      <th>Totalevents</th>\n",
       "    </tr>\n",
       "  </thead>\n",
       "  <tbody>\n",
       "    <tr>\n",
       "      <th>0</th>\n",
       "      <td>22</td>\n",
       "      <td>Tuesday</td>\n",
       "      <td>130422</td>\n",
       "    </tr>\n",
       "    <tr>\n",
       "      <th>1</th>\n",
       "      <td>22</td>\n",
       "      <td>Wednesday</td>\n",
       "      <td>129990</td>\n",
       "    </tr>\n",
       "    <tr>\n",
       "      <th>2</th>\n",
       "      <td>31</td>\n",
       "      <td>Wednesday</td>\n",
       "      <td>98745</td>\n",
       "    </tr>\n",
       "    <tr>\n",
       "      <th>3</th>\n",
       "      <td>31</td>\n",
       "      <td>Tuesday</td>\n",
       "      <td>87741</td>\n",
       "    </tr>\n",
       "    <tr>\n",
       "      <th>4</th>\n",
       "      <td>22</td>\n",
       "      <td>Saturday</td>\n",
       "      <td>77156</td>\n",
       "    </tr>\n",
       "  </tbody>\n",
       "</table>\n",
       "</div>"
      ],
      "text/plain": [
       "   event_id  diaSemana  Totalevents\n",
       "0        22    Tuesday       130422\n",
       "1        22  Wednesday       129990\n",
       "2        31  Wednesday        98745\n",
       "3        31    Tuesday        87741\n",
       "4        22   Saturday        77156"
      ]
     },
     "execution_count": 73,
     "metadata": {},
     "output_type": "execute_result"
    }
   ],
   "source": [
    "grupo_events_por_dia=events.groupby(['event_id','diaSemana'])['diaSemana'].count().sort_values(ascending=False).rename(\"Totalevents\").reset_index()\n",
    "grupo_events_por_dia.head()  "
   ]
  },
  {
   "cell_type": "code",
   "execution_count": 74,
   "metadata": {},
   "outputs": [
    {
     "data": {
      "image/png": "[encoded data removed]",
      "text/plain": [
       "<Figure size 1152x288 with 1 Axes>"
      ]
     },
     "metadata": {
      "needs_background": "light"
     },
     "output_type": "display_data"
    }
   ],
   "source": [
    "ax = sns.barplot(x='diaSemana', y='Totalevents', data=grupo_events_por_dia)\n",
    "ax.set_title('Eventos totales según dia de la semana dede 5/3/19 al 13/3/19')\n",
    "ax.figure.set_size_inches(16, 4)"
   ]
  },
  {
   "cell_type": "code",
   "execution_count": 81,
   "metadata": {},
   "outputs": [],
   "source": [
    "grupo_events_por_dia=events.groupby(['event_id','diaSemana'])['diaSemana'].count().sort_values(ascending=False).rename(\"Totalevents\").reset_index()\n",
    "grupo_events_por_dia=grupo_events_por_dia.head(50) "
   ]
  },
  {
   "cell_type": "code",
   "execution_count": 82,
   "metadata": {},
   "outputs": [
    {
     "data": {
      "image/png": "[encoded data removed]",
      "text/plain": [
       "<Figure size 432x288 with 1 Axes>"
      ]
     },
     "metadata": {
      "needs_background": "light"
     },
     "output_type": "display_data"
    }
   ],
   "source": [
    "vis9 = sns.swarmplot(x=\"Totalevents\", y=\"diaSemana\", hue=\"event_id\", data=grupo_events_por_dia)\n",
    "vis9.legend_.remove()\n",
    "plt.legend(loc=\"upper left\", bbox_to_anchor=(1,1))\n",
    "plt.show()"
   ]
  },
  {
   "cell_type": "code",
   "execution_count": 84,
   "metadata": {},
   "outputs": [
    {
     "data": {
      "image/png": "[encoded data removed]",
      "text/plain": [
       "<Figure size 432x288 with 1 Axes>"
      ]
     },
     "metadata": {
      "needs_background": "light"
     },
     "output_type": "display_data"
    }
   ],
   "source": [
    "vis5 = sns.boxplot(data = grupo_events_por_dia, y = \"Totalevents\", x = \"diaSemana\")\n",
    "fig = vis5.get_figure()\n",
    "#fig.savefig(\"fig1.png\")"
   ]
  },
  {
   "cell_type": "code",
   "execution_count": null,
   "metadata": {},
   "outputs": [],
   "source": []
  }
 ],
 "metadata": {
  "kernelspec": {
   "display_name": "Python 3",
   "language": "python",
   "name": "python3"
  },
  "language_info": {
   "codemirror_mode": {
    "name": "ipython",
    "version": 3
   },
   "file_extension": ".py",
   "mimetype": "text/x-python",
   "name": "python",
   "nbconvert_exporter": "python",
   "pygments_lexer": "ipython3",
   "version": "3.6.7"
  }
 },
 "nbformat": 4,
 "nbformat_minor": 2
}
