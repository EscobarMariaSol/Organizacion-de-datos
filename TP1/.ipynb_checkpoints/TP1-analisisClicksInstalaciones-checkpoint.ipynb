{
 "cells": [
  {
   "cell_type": "code",
   "execution_count": 2,
   "metadata": {},
   "outputs": [],
   "source": [
    "import pandas as pd\n",
    "import seaborn as sns \n",
    "import numpy as np\n",
    "import matplotlib.pyplot as plt"
   ]
  },
  {
   "cell_type": "code",
   "execution_count": 3,
   "metadata": {},
   "outputs": [
    {
     "data": {
      "text/html": [
       "<div>\n",
       "<style scoped>\n",
       "    .dataframe tbody tr th:only-of-type {\n",
       "        vertical-align: middle;\n",
       "    }\n",
       "\n",
       "    .dataframe tbody tr th {\n",
       "        vertical-align: top;\n",
       "    }\n",
       "\n",
       "    .dataframe thead th {\n",
       "        text-align: right;\n",
       "    }\n",
       "</style>\n",
       "<table border=\"1\" class=\"dataframe\">\n",
       "  <thead>\n",
       "    <tr style=\"text-align: right;\">\n",
       "      <th></th>\n",
       "      <th>advertiser_id</th>\n",
       "      <th>source_id</th>\n",
       "      <th>created</th>\n",
       "      <th>country_code</th>\n",
       "      <th>latitude</th>\n",
       "      <th>longitude</th>\n",
       "      <th>wifi_connection</th>\n",
       "      <th>carrier_id</th>\n",
       "      <th>trans_id</th>\n",
       "      <th>os_minor</th>\n",
       "      <th>agent_device</th>\n",
       "      <th>os_major</th>\n",
       "      <th>specs_brand</th>\n",
       "      <th>brand</th>\n",
       "      <th>timeToClick</th>\n",
       "      <th>touchX</th>\n",
       "      <th>touchY</th>\n",
       "      <th>ref_type</th>\n",
       "      <th>ref_hash</th>\n",
       "    </tr>\n",
       "  </thead>\n",
       "  <tbody>\n",
       "    <tr>\n",
       "      <th>0</th>\n",
       "      <td>2</td>\n",
       "      <td>4</td>\n",
       "      <td>2019-03-06T22:42:12.755Z</td>\n",
       "      <td>6333597102633388268</td>\n",
       "      <td>1.205689</td>\n",
       "      <td>1.070234</td>\n",
       "      <td>False</td>\n",
       "      <td>1.0</td>\n",
       "      <td>iGgClCM9exiHF4K31g94XmvHEBSLKIY</td>\n",
       "      <td>6.768137e+18</td>\n",
       "      <td>NaN</td>\n",
       "      <td>3.072849e+18</td>\n",
       "      <td>2733035977666442898</td>\n",
       "      <td>NaN</td>\n",
       "      <td>1.563</td>\n",
       "      <td>0.904785</td>\n",
       "      <td>0.078003</td>\n",
       "      <td>1891515180541284343</td>\n",
       "      <td>1904083516767779093</td>\n",
       "    </tr>\n",
       "    <tr>\n",
       "      <th>1</th>\n",
       "      <td>0</td>\n",
       "      <td>0</td>\n",
       "      <td>2019-03-08T10:24:30.641Z</td>\n",
       "      <td>6333597102633388268</td>\n",
       "      <td>1.218924</td>\n",
       "      <td>1.071209</td>\n",
       "      <td>False</td>\n",
       "      <td>4.0</td>\n",
       "      <td>MMHTOJ6qKAOeIH_Eywh1KIcCaxtO9oM</td>\n",
       "      <td>3.025219e+18</td>\n",
       "      <td>NaN</td>\n",
       "      <td>1.774085e+18</td>\n",
       "      <td>392184377613098015</td>\n",
       "      <td>NaN</td>\n",
       "      <td>NaN</td>\n",
       "      <td>NaN</td>\n",
       "      <td>NaN</td>\n",
       "      <td>1891515180541284343</td>\n",
       "      <td>3086509764961796666</td>\n",
       "    </tr>\n",
       "    <tr>\n",
       "      <th>2</th>\n",
       "      <td>0</td>\n",
       "      <td>0</td>\n",
       "      <td>2019-03-08T15:24:16.069Z</td>\n",
       "      <td>6333597102633388268</td>\n",
       "      <td>1.205689</td>\n",
       "      <td>1.070234</td>\n",
       "      <td>False</td>\n",
       "      <td>6.0</td>\n",
       "      <td>vIrEIdf9izUaWdAri6Ezk7T3nHFvNQU</td>\n",
       "      <td>5.975656e+18</td>\n",
       "      <td>NaN</td>\n",
       "      <td>3.072849e+18</td>\n",
       "      <td>392184377613098015</td>\n",
       "      <td>NaN</td>\n",
       "      <td>NaN</td>\n",
       "      <td>0.945801</td>\n",
       "      <td>0.472900</td>\n",
       "      <td>1891515180541284343</td>\n",
       "      <td>6958163894863846647</td>\n",
       "    </tr>\n",
       "    <tr>\n",
       "      <th>3</th>\n",
       "      <td>2</td>\n",
       "      <td>3</td>\n",
       "      <td>2019-03-06T03:08:51.543Z</td>\n",
       "      <td>6333597102633388268</td>\n",
       "      <td>1.205689</td>\n",
       "      <td>1.070234</td>\n",
       "      <td>False</td>\n",
       "      <td>45.0</td>\n",
       "      <td>YaKxxEAs2UmZhSpRfiCO9Zpa82B_AKM</td>\n",
       "      <td>6.768137e+18</td>\n",
       "      <td>NaN</td>\n",
       "      <td>3.072849e+18</td>\n",
       "      <td>2733035977666442898</td>\n",
       "      <td>NaN</td>\n",
       "      <td>19.013</td>\n",
       "      <td>0.035004</td>\n",
       "      <td>0.430908</td>\n",
       "      <td>1891515180541284343</td>\n",
       "      <td>4368617728156436525</td>\n",
       "    </tr>\n",
       "    <tr>\n",
       "      <th>4</th>\n",
       "      <td>2</td>\n",
       "      <td>3</td>\n",
       "      <td>2019-03-06T03:32:55.570Z</td>\n",
       "      <td>6333597102633388268</td>\n",
       "      <td>1.205689</td>\n",
       "      <td>1.070234</td>\n",
       "      <td>False</td>\n",
       "      <td>45.0</td>\n",
       "      <td>X5XTOcYQovkl6yadYdAD7xioVGU9jiY</td>\n",
       "      <td>6.768137e+18</td>\n",
       "      <td>NaN</td>\n",
       "      <td>3.072849e+18</td>\n",
       "      <td>2733035977666442898</td>\n",
       "      <td>NaN</td>\n",
       "      <td>28.110</td>\n",
       "      <td>0.053986</td>\n",
       "      <td>0.423096</td>\n",
       "      <td>1891515180541284343</td>\n",
       "      <td>4368617728156436525</td>\n",
       "    </tr>\n",
       "    <tr>\n",
       "      <th>5</th>\n",
       "      <td>5</td>\n",
       "      <td>4</td>\n",
       "      <td>2019-03-07T18:02:25.833Z</td>\n",
       "      <td>6333597102633388268</td>\n",
       "      <td>1.209638</td>\n",
       "      <td>1.064208</td>\n",
       "      <td>False</td>\n",
       "      <td>27.0</td>\n",
       "      <td>dhc5iaRvlrI9OgkXDWnMRrAY47xWozY</td>\n",
       "      <td>3.025219e+18</td>\n",
       "      <td>NaN</td>\n",
       "      <td>1.774085e+18</td>\n",
       "      <td>392184377613098015</td>\n",
       "      <td>1.0</td>\n",
       "      <td>NaN</td>\n",
       "      <td>0.605957</td>\n",
       "      <td>0.458984</td>\n",
       "      <td>1891515180541284343</td>\n",
       "      <td>7925959310979071406</td>\n",
       "    </tr>\n",
       "    <tr>\n",
       "      <th>6</th>\n",
       "      <td>3</td>\n",
       "      <td>1</td>\n",
       "      <td>2019-03-12T15:17:04.453Z</td>\n",
       "      <td>6333597102633388268</td>\n",
       "      <td>1.209638</td>\n",
       "      <td>1.064208</td>\n",
       "      <td>False</td>\n",
       "      <td>27.0</td>\n",
       "      <td>cOm-_s2_6NkoDWYNu_QaMk-v4sf34h4</td>\n",
       "      <td>3.378640e+18</td>\n",
       "      <td>3.032809e+17</td>\n",
       "      <td>4.566454e+18</td>\n",
       "      <td>2733035977666442898</td>\n",
       "      <td>1.0</td>\n",
       "      <td>NaN</td>\n",
       "      <td>NaN</td>\n",
       "      <td>NaN</td>\n",
       "      <td>1891515180541284343</td>\n",
       "      <td>1709687652740629839</td>\n",
       "    </tr>\n",
       "    <tr>\n",
       "      <th>7</th>\n",
       "      <td>1</td>\n",
       "      <td>2</td>\n",
       "      <td>2019-03-06T19:15:47.249Z</td>\n",
       "      <td>6333597102633388268</td>\n",
       "      <td>1.205393</td>\n",
       "      <td>1.077238</td>\n",
       "      <td>False</td>\n",
       "      <td>NaN</td>\n",
       "      <td>MbDYk_2nKmKtOQgAIRx-aDJ66VIGsrE</td>\n",
       "      <td>NaN</td>\n",
       "      <td>NaN</td>\n",
       "      <td>NaN</td>\n",
       "      <td>8930605132947907029</td>\n",
       "      <td>NaN</td>\n",
       "      <td>NaN</td>\n",
       "      <td>NaN</td>\n",
       "      <td>NaN</td>\n",
       "      <td>1891515180541284343</td>\n",
       "      <td>2127839020694198991</td>\n",
       "    </tr>\n",
       "    <tr>\n",
       "      <th>8</th>\n",
       "      <td>3</td>\n",
       "      <td>0</td>\n",
       "      <td>2019-03-07T23:11:01.934Z</td>\n",
       "      <td>6333597102633388268</td>\n",
       "      <td>1.205058</td>\n",
       "      <td>1.077332</td>\n",
       "      <td>False</td>\n",
       "      <td>19.0</td>\n",
       "      <td>1wsFgNNvk6PT1QSSIdmmwmqp0E3k7io</td>\n",
       "      <td>3.025219e+18</td>\n",
       "      <td>NaN</td>\n",
       "      <td>1.774085e+18</td>\n",
       "      <td>392184377613098015</td>\n",
       "      <td>NaN</td>\n",
       "      <td>3.129</td>\n",
       "      <td>0.889160</td>\n",
       "      <td>0.977051</td>\n",
       "      <td>1891515180541284343</td>\n",
       "      <td>5073558237453939035</td>\n",
       "    </tr>\n",
       "    <tr>\n",
       "      <th>9</th>\n",
       "      <td>3</td>\n",
       "      <td>1</td>\n",
       "      <td>2019-03-07T23:06:30.642Z</td>\n",
       "      <td>6333597102633388268</td>\n",
       "      <td>1.205689</td>\n",
       "      <td>1.070234</td>\n",
       "      <td>False</td>\n",
       "      <td>18.0</td>\n",
       "      <td>ZLZz1XHsA5Xkuq_TXNfT49j_H4mfTwg</td>\n",
       "      <td>3.378640e+18</td>\n",
       "      <td>NaN</td>\n",
       "      <td>4.566454e+18</td>\n",
       "      <td>2733035977666442898</td>\n",
       "      <td>1.0</td>\n",
       "      <td>1.707</td>\n",
       "      <td>0.466064</td>\n",
       "      <td>0.984863</td>\n",
       "      <td>1891515180541284343</td>\n",
       "      <td>70349377423764005</td>\n",
       "    </tr>\n",
       "  </tbody>\n",
       "</table>\n",
       "</div>"
      ],
      "text/plain": [
       "   advertiser_id  source_id                   created         country_code  \\\n",
       "0              2          4  2019-03-06T22:42:12.755Z  6333597102633388268   \n",
       "1              0          0  2019-03-08T10:24:30.641Z  6333597102633388268   \n",
       "2              0          0  2019-03-08T15:24:16.069Z  6333597102633388268   \n",
       "3              2          3  2019-03-06T03:08:51.543Z  6333597102633388268   \n",
       "4              2          3  2019-03-06T03:32:55.570Z  6333597102633388268   \n",
       "5              5          4  2019-03-07T18:02:25.833Z  6333597102633388268   \n",
       "6              3          1  2019-03-12T15:17:04.453Z  6333597102633388268   \n",
       "7              1          2  2019-03-06T19:15:47.249Z  6333597102633388268   \n",
       "8              3          0  2019-03-07T23:11:01.934Z  6333597102633388268   \n",
       "9              3          1  2019-03-07T23:06:30.642Z  6333597102633388268   \n",
       "\n",
       "   latitude  longitude  wifi_connection  carrier_id  \\\n",
       "0  1.205689   1.070234            False         1.0   \n",
       "1  1.218924   1.071209            False         4.0   \n",
       "2  1.205689   1.070234            False         6.0   \n",
       "3  1.205689   1.070234            False        45.0   \n",
       "4  1.205689   1.070234            False        45.0   \n",
       "5  1.209638   1.064208            False        27.0   \n",
       "6  1.209638   1.064208            False        27.0   \n",
       "7  1.205393   1.077238            False         NaN   \n",
       "8  1.205058   1.077332            False        19.0   \n",
       "9  1.205689   1.070234            False        18.0   \n",
       "\n",
       "                          trans_id      os_minor  agent_device      os_major  \\\n",
       "0  iGgClCM9exiHF4K31g94XmvHEBSLKIY  6.768137e+18           NaN  3.072849e+18   \n",
       "1  MMHTOJ6qKAOeIH_Eywh1KIcCaxtO9oM  3.025219e+18           NaN  1.774085e+18   \n",
       "2  vIrEIdf9izUaWdAri6Ezk7T3nHFvNQU  5.975656e+18           NaN  3.072849e+18   \n",
       "3  YaKxxEAs2UmZhSpRfiCO9Zpa82B_AKM  6.768137e+18           NaN  3.072849e+18   \n",
       "4  X5XTOcYQovkl6yadYdAD7xioVGU9jiY  6.768137e+18           NaN  3.072849e+18   \n",
       "5  dhc5iaRvlrI9OgkXDWnMRrAY47xWozY  3.025219e+18           NaN  1.774085e+18   \n",
       "6  cOm-_s2_6NkoDWYNu_QaMk-v4sf34h4  3.378640e+18  3.032809e+17  4.566454e+18   \n",
       "7  MbDYk_2nKmKtOQgAIRx-aDJ66VIGsrE           NaN           NaN           NaN   \n",
       "8  1wsFgNNvk6PT1QSSIdmmwmqp0E3k7io  3.025219e+18           NaN  1.774085e+18   \n",
       "9  ZLZz1XHsA5Xkuq_TXNfT49j_H4mfTwg  3.378640e+18           NaN  4.566454e+18   \n",
       "\n",
       "           specs_brand  brand  timeToClick    touchX    touchY  \\\n",
       "0  2733035977666442898    NaN        1.563  0.904785  0.078003   \n",
       "1   392184377613098015    NaN          NaN       NaN       NaN   \n",
       "2   392184377613098015    NaN          NaN  0.945801  0.472900   \n",
       "3  2733035977666442898    NaN       19.013  0.035004  0.430908   \n",
       "4  2733035977666442898    NaN       28.110  0.053986  0.423096   \n",
       "5   392184377613098015    1.0          NaN  0.605957  0.458984   \n",
       "6  2733035977666442898    1.0          NaN       NaN       NaN   \n",
       "7  8930605132947907029    NaN          NaN       NaN       NaN   \n",
       "8   392184377613098015    NaN        3.129  0.889160  0.977051   \n",
       "9  2733035977666442898    1.0        1.707  0.466064  0.984863   \n",
       "\n",
       "              ref_type             ref_hash  \n",
       "0  1891515180541284343  1904083516767779093  \n",
       "1  1891515180541284343  3086509764961796666  \n",
       "2  1891515180541284343  6958163894863846647  \n",
       "3  1891515180541284343  4368617728156436525  \n",
       "4  1891515180541284343  4368617728156436525  \n",
       "5  1891515180541284343  7925959310979071406  \n",
       "6  1891515180541284343  1709687652740629839  \n",
       "7  1891515180541284343  2127839020694198991  \n",
       "8  1891515180541284343  5073558237453939035  \n",
       "9  1891515180541284343    70349377423764005  "
      ]
     },
     "execution_count": 3,
     "metadata": {},
     "output_type": "execute_result"
    }
   ],
   "source": [
    "clicks = pd.read_csv(\"data/clicks.csv\", dtype = {\"advertiser_id\": np.int8, \"action_id\": np.float16, \"source_id\": np.int8, \"wifi_connection\": bool, \"carrier_id\": np.float16, \"brand\": np.float16, \"touchX\": np.float16, \"touchY\": np.float16})\n",
    "del clicks['action_id']\n",
    "clicks.head(10)"
   ]
  },
  {
   "cell_type": "code",
   "execution_count": 68,
   "metadata": {},
   "outputs": [
    {
     "data": {
      "text/plain": [
       "[OrderedDict([('lat', '51.51116'),\n",
       "              ('lon', '-0.18426'),\n",
       "              ('name', 'Bayswater'),\n",
       "              ('admin1', 'England'),\n",
       "              ('admin2', 'Greater London'),\n",
       "              ('cc', 'GB')]),\n",
       " OrderedDict([('lat', '9.93988'),\n",
       "              ('lon', '76.26022'),\n",
       "              ('name', 'Cochin'),\n",
       "              ('admin1', 'Kerala'),\n",
       "              ('admin2', 'Ernakulam'),\n",
       "              ('cc', 'IN')]),\n",
       " OrderedDict([('lat', '37.38605'),\n",
       "              ('lon', '-122.08385'),\n",
       "              ('name', 'Mountain View'),\n",
       "              ('admin1', 'California'),\n",
       "              ('admin2', 'Santa Clara County'),\n",
       "              ('cc', 'US')])]"
      ]
     },
     "execution_count": 68,
     "metadata": {},
     "output_type": "execute_result"
    }
   ],
   "source": [
    "\n",
    "coordinates = (51.5214588,-0.1729636),(9.936033, 76.259952),(37.38605,-122.08385)\n",
    "rg.search(coordinates)"
   ]
  },
  {
   "cell_type": "code",
   "execution_count": 95,
   "metadata": {},
   "outputs": [],
   "source": [
    "import reverse_geocoder as rg\n",
    "def get_Country(coord):\n",
    "        a=rg.search(coord)\n",
    "        return a[0]['cc']\n",
    "def get_City(coord):\n",
    "        a=rg.search(coord)\n",
    "        return a[0]['name']"
   ]
  },
  {
   "cell_type": "code",
   "execution_count": 96,
   "metadata": {},
   "outputs": [
    {
     "data": {
      "text/plain": [
       "'Pale'"
      ]
     },
     "execution_count": 96,
     "metadata": {},
     "output_type": "execute_result"
    }
   ],
   "source": [
    "get_City((-1.205689 ,1.070234))"
   ]
  },
  {
   "cell_type": "code",
   "execution_count": 97,
   "metadata": {},
   "outputs": [
    {
     "data": {
      "text/plain": [
       "'GQ'"
      ]
     },
     "execution_count": 97,
     "metadata": {},
     "output_type": "execute_result"
    }
   ],
   "source": [
    "get_Country((-1.205689 ,1.070234))"
   ]
  },
  {
   "cell_type": "code",
   "execution_count": null,
   "metadata": {},
   "outputs": [],
   "source": [
    "#### explorar la posibilidad de hacer un mapa con las ubicaciones"
   ]
  },
  {
   "cell_type": "code",
   "execution_count": 107,
   "metadata": {},
   "outputs": [
    {
     "data": {
      "text/plain": [
       "<matplotlib.axes._subplots.AxesSubplot at 0x7f8cdb727710>"
      ]
     },
     "execution_count": 107,
     "metadata": {},
     "output_type": "execute_result"
    },
    {
     "data": {
      "image/png": "[encoded data removed]",
      "text/plain": [
       "<Figure size 432x288 with 1 Axes>"
      ]
     },
     "metadata": {
      "needs_background": "light"
     },
     "output_type": "display_data"
    }
   ],
   "source": [
    "#son datos de un solo pais\n",
    "sns.countplot(x='country_code', data=clicks)"
   ]
  },
  {
   "cell_type": "code",
   "execution_count": 108,
   "metadata": {},
   "outputs": [
    {
     "data": {
      "text/plain": [
       "<matplotlib.axes._subplots.AxesSubplot at 0x7f8cdb3d0f60>"
      ]
     },
     "execution_count": 108,
     "metadata": {},
     "output_type": "execute_result"
    },
    {
     "data": {
      "image/png": "[encoded data removed]",
      "text/plain": [
       "<Figure size 432x288 with 1 Axes>"
      ]
     },
     "metadata": {
      "needs_background": "light"
     },
     "output_type": "display_data"
    }
   ],
   "source": [
    "sns.countplot(x='advertiser_id', data=clicks)"
   ]
  },
  {
   "cell_type": "code",
   "execution_count": 112,
   "metadata": {},
   "outputs": [],
   "source": [
    "clicks['created']=pd.to_datetime(clicks['created'])"
   ]
  },
  {
   "cell_type": "code",
   "execution_count": 116,
   "metadata": {},
   "outputs": [
    {
     "data": {
      "text/html": [
       "<div>\n",
       "<style scoped>\n",
       "    .dataframe tbody tr th:only-of-type {\n",
       "        vertical-align: middle;\n",
       "    }\n",
       "\n",
       "    .dataframe tbody tr th {\n",
       "        vertical-align: top;\n",
       "    }\n",
       "\n",
       "    .dataframe thead th {\n",
       "        text-align: right;\n",
       "    }\n",
       "</style>\n",
       "<table border=\"1\" class=\"dataframe\">\n",
       "  <thead>\n",
       "    <tr style=\"text-align: right;\">\n",
       "      <th></th>\n",
       "      <th>advertiser_id</th>\n",
       "      <th>source_id</th>\n",
       "      <th>created</th>\n",
       "      <th>country_code</th>\n",
       "      <th>latitude</th>\n",
       "      <th>longitude</th>\n",
       "      <th>wifi_connection</th>\n",
       "      <th>carrier_id</th>\n",
       "      <th>trans_id</th>\n",
       "      <th>os_minor</th>\n",
       "      <th>...</th>\n",
       "      <th>touchX</th>\n",
       "      <th>touchY</th>\n",
       "      <th>ref_type</th>\n",
       "      <th>ref_hash</th>\n",
       "      <th>año</th>\n",
       "      <th>mes</th>\n",
       "      <th>día</th>\n",
       "      <th>hora</th>\n",
       "      <th>minuto</th>\n",
       "      <th>diaSemana</th>\n",
       "    </tr>\n",
       "  </thead>\n",
       "  <tbody>\n",
       "    <tr>\n",
       "      <th>0</th>\n",
       "      <td>2</td>\n",
       "      <td>4</td>\n",
       "      <td>2019-03-06 22:42:12.755</td>\n",
       "      <td>6333597102633388268</td>\n",
       "      <td>1.205689</td>\n",
       "      <td>1.070234</td>\n",
       "      <td>False</td>\n",
       "      <td>1.0</td>\n",
       "      <td>iGgClCM9exiHF4K31g94XmvHEBSLKIY</td>\n",
       "      <td>6.768137e+18</td>\n",
       "      <td>...</td>\n",
       "      <td>0.904785</td>\n",
       "      <td>0.078003</td>\n",
       "      <td>1891515180541284343</td>\n",
       "      <td>1904083516767779093</td>\n",
       "      <td>2019</td>\n",
       "      <td>3</td>\n",
       "      <td>6</td>\n",
       "      <td>22</td>\n",
       "      <td>42</td>\n",
       "      <td>Wednesday</td>\n",
       "    </tr>\n",
       "    <tr>\n",
       "      <th>1</th>\n",
       "      <td>0</td>\n",
       "      <td>0</td>\n",
       "      <td>2019-03-08 10:24:30.641</td>\n",
       "      <td>6333597102633388268</td>\n",
       "      <td>1.218924</td>\n",
       "      <td>1.071209</td>\n",
       "      <td>False</td>\n",
       "      <td>4.0</td>\n",
       "      <td>MMHTOJ6qKAOeIH_Eywh1KIcCaxtO9oM</td>\n",
       "      <td>3.025219e+18</td>\n",
       "      <td>...</td>\n",
       "      <td>NaN</td>\n",
       "      <td>NaN</td>\n",
       "      <td>1891515180541284343</td>\n",
       "      <td>3086509764961796666</td>\n",
       "      <td>2019</td>\n",
       "      <td>3</td>\n",
       "      <td>8</td>\n",
       "      <td>10</td>\n",
       "      <td>24</td>\n",
       "      <td>Friday</td>\n",
       "    </tr>\n",
       "    <tr>\n",
       "      <th>2</th>\n",
       "      <td>0</td>\n",
       "      <td>0</td>\n",
       "      <td>2019-03-08 15:24:16.069</td>\n",
       "      <td>6333597102633388268</td>\n",
       "      <td>1.205689</td>\n",
       "      <td>1.070234</td>\n",
       "      <td>False</td>\n",
       "      <td>6.0</td>\n",
       "      <td>vIrEIdf9izUaWdAri6Ezk7T3nHFvNQU</td>\n",
       "      <td>5.975656e+18</td>\n",
       "      <td>...</td>\n",
       "      <td>0.945801</td>\n",
       "      <td>0.472900</td>\n",
       "      <td>1891515180541284343</td>\n",
       "      <td>6958163894863846647</td>\n",
       "      <td>2019</td>\n",
       "      <td>3</td>\n",
       "      <td>8</td>\n",
       "      <td>15</td>\n",
       "      <td>24</td>\n",
       "      <td>Friday</td>\n",
       "    </tr>\n",
       "    <tr>\n",
       "      <th>3</th>\n",
       "      <td>2</td>\n",
       "      <td>3</td>\n",
       "      <td>2019-03-06 03:08:51.543</td>\n",
       "      <td>6333597102633388268</td>\n",
       "      <td>1.205689</td>\n",
       "      <td>1.070234</td>\n",
       "      <td>False</td>\n",
       "      <td>45.0</td>\n",
       "      <td>YaKxxEAs2UmZhSpRfiCO9Zpa82B_AKM</td>\n",
       "      <td>6.768137e+18</td>\n",
       "      <td>...</td>\n",
       "      <td>0.035004</td>\n",
       "      <td>0.430908</td>\n",
       "      <td>1891515180541284343</td>\n",
       "      <td>4368617728156436525</td>\n",
       "      <td>2019</td>\n",
       "      <td>3</td>\n",
       "      <td>6</td>\n",
       "      <td>3</td>\n",
       "      <td>8</td>\n",
       "      <td>Wednesday</td>\n",
       "    </tr>\n",
       "    <tr>\n",
       "      <th>4</th>\n",
       "      <td>2</td>\n",
       "      <td>3</td>\n",
       "      <td>2019-03-06 03:32:55.570</td>\n",
       "      <td>6333597102633388268</td>\n",
       "      <td>1.205689</td>\n",
       "      <td>1.070234</td>\n",
       "      <td>False</td>\n",
       "      <td>45.0</td>\n",
       "      <td>X5XTOcYQovkl6yadYdAD7xioVGU9jiY</td>\n",
       "      <td>6.768137e+18</td>\n",
       "      <td>...</td>\n",
       "      <td>0.053986</td>\n",
       "      <td>0.423096</td>\n",
       "      <td>1891515180541284343</td>\n",
       "      <td>4368617728156436525</td>\n",
       "      <td>2019</td>\n",
       "      <td>3</td>\n",
       "      <td>6</td>\n",
       "      <td>3</td>\n",
       "      <td>32</td>\n",
       "      <td>Wednesday</td>\n",
       "    </tr>\n",
       "  </tbody>\n",
       "</table>\n",
       "<p>5 rows × 25 columns</p>\n",
       "</div>"
      ],
      "text/plain": [
       "   advertiser_id  source_id                 created         country_code  \\\n",
       "0              2          4 2019-03-06 22:42:12.755  6333597102633388268   \n",
       "1              0          0 2019-03-08 10:24:30.641  6333597102633388268   \n",
       "2              0          0 2019-03-08 15:24:16.069  6333597102633388268   \n",
       "3              2          3 2019-03-06 03:08:51.543  6333597102633388268   \n",
       "4              2          3 2019-03-06 03:32:55.570  6333597102633388268   \n",
       "\n",
       "   latitude  longitude  wifi_connection  carrier_id  \\\n",
       "0  1.205689   1.070234            False         1.0   \n",
       "1  1.218924   1.071209            False         4.0   \n",
       "2  1.205689   1.070234            False         6.0   \n",
       "3  1.205689   1.070234            False        45.0   \n",
       "4  1.205689   1.070234            False        45.0   \n",
       "\n",
       "                          trans_id      os_minor    ...        touchX  \\\n",
       "0  iGgClCM9exiHF4K31g94XmvHEBSLKIY  6.768137e+18    ...      0.904785   \n",
       "1  MMHTOJ6qKAOeIH_Eywh1KIcCaxtO9oM  3.025219e+18    ...           NaN   \n",
       "2  vIrEIdf9izUaWdAri6Ezk7T3nHFvNQU  5.975656e+18    ...      0.945801   \n",
       "3  YaKxxEAs2UmZhSpRfiCO9Zpa82B_AKM  6.768137e+18    ...      0.035004   \n",
       "4  X5XTOcYQovkl6yadYdAD7xioVGU9jiY  6.768137e+18    ...      0.053986   \n",
       "\n",
       "     touchY             ref_type             ref_hash   año  mes  día  hora  \\\n",
       "0  0.078003  1891515180541284343  1904083516767779093  2019    3    6    22   \n",
       "1       NaN  1891515180541284343  3086509764961796666  2019    3    8    10   \n",
       "2  0.472900  1891515180541284343  6958163894863846647  2019    3    8    15   \n",
       "3  0.430908  1891515180541284343  4368617728156436525  2019    3    6     3   \n",
       "4  0.423096  1891515180541284343  4368617728156436525  2019    3    6     3   \n",
       "\n",
       "   minuto  diaSemana  \n",
       "0      42  Wednesday  \n",
       "1      24     Friday  \n",
       "2      24     Friday  \n",
       "3       8  Wednesday  \n",
       "4      32  Wednesday  \n",
       "\n",
       "[5 rows x 25 columns]"
      ]
     },
     "execution_count": 116,
     "metadata": {},
     "output_type": "execute_result"
    }
   ],
   "source": [
    "clicks['año'] = pd.DatetimeIndex(clicks['created']).year\n",
    "clicks['mes'] =clicks['created'].dt.month\n",
    "clicks['día'] = clicks['created'].dt.day\n",
    "clicks['hora'] = clicks['created'].dt.hour\n",
    "clicks['minuto'] = clicks['created'].dt.minute\n",
    "clicks['diaSemana'] = clicks['created'].dt.weekday_name\n",
    "clicks.head()"
   ]
  },
  {
   "cell_type": "code",
   "execution_count": 117,
   "metadata": {},
   "outputs": [],
   "source": [
    "grupo_clicks_por_dia=clicks.groupby(['advertiser_id','diaSemana'])['diaSemana'].count().sort_values(ascending=False).rename(\"Totalclicks\").reset_index()\n",
    "#grupo_clicks_por_dia=grupo_clicks_por_dia.head(50) "
   ]
  },
  {
   "cell_type": "code",
   "execution_count": 118,
   "metadata": {},
   "outputs": [
    {
     "name": "stderr",
     "output_type": "stream",
     "text": [
      "/home/jorge/anaconda3/lib/python3.7/site-packages/scipy/stats/stats.py:1713: FutureWarning: Using a non-tuple sequence for multidimensional indexing is deprecated; use `arr[tuple(seq)]` instead of `arr[seq]`. In the future this will be interpreted as an array index, `arr[np.array(seq)]`, which will result either in an error or a different result.\n",
      "  return np.add.reduce(sorted[indexer] * weights, axis=axis) / sumval\n"
     ]
    },
    {
     "data": {
      "image/png": "[encoded data removed]",
      "text/plain": [
       "<Figure size 1152x288 with 1 Axes>"
      ]
     },
     "metadata": {
      "needs_background": "light"
     },
     "output_type": "display_data"
    }
   ],
   "source": [
    "ax = sns.barplot(x='diaSemana', y='Totalclicks', data=grupo_clicks_por_dia)\n",
    "ax.set_title('Clicslltotales según dia de la semana dede 5/3/19 al 13/3/19')\n",
    "ax.figure.set_size_inches(16, 4)\n"
   ]
  },
  {
   "cell_type": "code",
   "execution_count": 119,
   "metadata": {},
   "outputs": [
    {
     "data": {
      "image/png": "[encoded data removed]",
      "text/plain": [
       "<Figure size 432x288 with 1 Axes>"
      ]
     },
     "metadata": {
      "needs_background": "light"
     },
     "output_type": "display_data"
    }
   ],
   "source": [
    "vis9 = sns.swarmplot(x=\"Totalclicks\", y=\"diaSemana\", hue=\"advertiser_id\", data=grupo_clicks_por_dia)\n",
    "vis9.legend_.remove()\n",
    "plt.legend(loc=\"upper left\", bbox_to_anchor=(1,1))\n",
    "plt.show()"
   ]
  },
  {
   "cell_type": "markdown",
   "metadata": {},
   "source": [
    "# Analizo installs"
   ]
  },
  {
   "cell_type": "code",
   "execution_count": 141,
   "metadata": {},
   "outputs": [],
   "source": [
    "inst = pd.read_csv(\"data/installs.csv\", dtype = {\"application_id\": np.int16, \"click_hash\": np.float16})\n"
   ]
  },
  {
   "cell_type": "code",
   "execution_count": 138,
   "metadata": {},
   "outputs": [
    {
     "data": {
      "text/plain": [
       "1495715"
      ]
     },
     "execution_count": 138,
     "metadata": {},
     "output_type": "execute_result"
    }
   ],
   "source": [
    "inst.memory_usage(deep=True).sum()"
   ]
  },
  {
   "cell_type": "code",
   "execution_count": 142,
   "metadata": {},
   "outputs": [],
   "source": [
    "del inst['event_uuid']\n",
    "del inst['click_hash']\n",
    "del inst['trans_id']\n",
    "inst['created']=pd.to_datetime(inst['created'])\n",
    "inst['wifi']=inst['wifi'].astype('bool')\n",
    "inst['session_user_agent']=inst['session_user_agent'].dropna()\n",
    "inst['session_user_agent']=inst['session_user_agent'].astype('category')\n",
    "\n",
    "inst['user_agent']=inst['user_agent'].astype('category')\n",
    "inst['device_countrycode']=inst['device_countrycode'].astype('category')\n",
    "inst['device_brand']=inst['device_brand'].astype('category')\n",
    "inst['device_language']=inst['device_language'].astype('category')\n",
    "inst['kind']=inst['kind'].astype('category')\n"
   ]
  },
  {
   "cell_type": "code",
   "execution_count": 143,
   "metadata": {},
   "outputs": [
    {
     "data": {
      "text/plain": [
       "235100"
      ]
     },
     "execution_count": 143,
     "metadata": {},
     "output_type": "execute_result"
    }
   ],
   "source": [
    "inst.memory_usage(deep=True).sum()"
   ]
  },
  {
   "cell_type": "code",
   "execution_count": 146,
   "metadata": {},
   "outputs": [
    {
     "data": {
      "text/html": [
       "<div>\n",
       "<style scoped>\n",
       "    .dataframe tbody tr th:only-of-type {\n",
       "        vertical-align: middle;\n",
       "    }\n",
       "\n",
       "    .dataframe tbody tr th {\n",
       "        vertical-align: top;\n",
       "    }\n",
       "\n",
       "    .dataframe thead th {\n",
       "        text-align: right;\n",
       "    }\n",
       "</style>\n",
       "<table border=\"1\" class=\"dataframe\">\n",
       "  <thead>\n",
       "    <tr style=\"text-align: right;\">\n",
       "      <th></th>\n",
       "      <th>created</th>\n",
       "      <th>application_id</th>\n",
       "      <th>ref_type</th>\n",
       "      <th>ref_hash</th>\n",
       "      <th>attributed</th>\n",
       "      <th>implicit</th>\n",
       "      <th>device_countrycode</th>\n",
       "      <th>device_brand</th>\n",
       "      <th>device_model</th>\n",
       "      <th>session_user_agent</th>\n",
       "      <th>...</th>\n",
       "      <th>kind</th>\n",
       "      <th>wifi</th>\n",
       "      <th>ip_address</th>\n",
       "      <th>device_language</th>\n",
       "      <th>año</th>\n",
       "      <th>mes</th>\n",
       "      <th>día</th>\n",
       "      <th>hora</th>\n",
       "      <th>minuto</th>\n",
       "      <th>diaSemana</th>\n",
       "    </tr>\n",
       "  </thead>\n",
       "  <tbody>\n",
       "    <tr>\n",
       "      <th>0</th>\n",
       "      <td>2019-03-13 01:43:33.445</td>\n",
       "      <td>0</td>\n",
       "      <td>1891515180541284343</td>\n",
       "      <td>8464844987297247076</td>\n",
       "      <td>False</td>\n",
       "      <td>False</td>\n",
       "      <td>6333597102633388268</td>\n",
       "      <td>3.083059e+17</td>\n",
       "      <td>4.445252e+18</td>\n",
       "      <td>NaN</td>\n",
       "      <td>...</td>\n",
       "      <td>NaN</td>\n",
       "      <td>True</td>\n",
       "      <td>5529284367937637301</td>\n",
       "      <td>NaN</td>\n",
       "      <td>2019</td>\n",
       "      <td>3</td>\n",
       "      <td>13</td>\n",
       "      <td>1</td>\n",
       "      <td>43</td>\n",
       "      <td>Wednesday</td>\n",
       "    </tr>\n",
       "    <tr>\n",
       "      <th>1</th>\n",
       "      <td>2019-03-13 04:58:35.078</td>\n",
       "      <td>0</td>\n",
       "      <td>1891515180541284343</td>\n",
       "      <td>3250564871270161533</td>\n",
       "      <td>False</td>\n",
       "      <td>False</td>\n",
       "      <td>6333597102633388268</td>\n",
       "      <td>3.083059e+17</td>\n",
       "      <td>4.445252e+18</td>\n",
       "      <td>NaN</td>\n",
       "      <td>...</td>\n",
       "      <td>NaN</td>\n",
       "      <td>True</td>\n",
       "      <td>6098022721363533304</td>\n",
       "      <td>NaN</td>\n",
       "      <td>2019</td>\n",
       "      <td>3</td>\n",
       "      <td>13</td>\n",
       "      <td>4</td>\n",
       "      <td>58</td>\n",
       "      <td>Wednesday</td>\n",
       "    </tr>\n",
       "    <tr>\n",
       "      <th>2</th>\n",
       "      <td>2019-03-13 04:20:57.666</td>\n",
       "      <td>0</td>\n",
       "      <td>1891515180541284343</td>\n",
       "      <td>7953318831018100268</td>\n",
       "      <td>False</td>\n",
       "      <td>True</td>\n",
       "      <td>6333597102633388268</td>\n",
       "      <td>5.137992e+17</td>\n",
       "      <td>6.026543e+18</td>\n",
       "      <td>HasOffers Mobile AppTracking v1.0</td>\n",
       "      <td>...</td>\n",
       "      <td>Open</td>\n",
       "      <td>True</td>\n",
       "      <td>4636407223847323867</td>\n",
       "      <td>3.301378e+18</td>\n",
       "      <td>2019</td>\n",
       "      <td>3</td>\n",
       "      <td>13</td>\n",
       "      <td>4</td>\n",
       "      <td>20</td>\n",
       "      <td>Wednesday</td>\n",
       "    </tr>\n",
       "    <tr>\n",
       "      <th>3</th>\n",
       "      <td>2019-03-13 04:20:57.698</td>\n",
       "      <td>0</td>\n",
       "      <td>1891515180541284343</td>\n",
       "      <td>7953318831018100268</td>\n",
       "      <td>False</td>\n",
       "      <td>False</td>\n",
       "      <td>6333597102633388268</td>\n",
       "      <td>5.137992e+17</td>\n",
       "      <td>6.026543e+18</td>\n",
       "      <td>NaN</td>\n",
       "      <td>...</td>\n",
       "      <td>NaN</td>\n",
       "      <td>True</td>\n",
       "      <td>4636407223847323867</td>\n",
       "      <td>NaN</td>\n",
       "      <td>2019</td>\n",
       "      <td>3</td>\n",
       "      <td>13</td>\n",
       "      <td>4</td>\n",
       "      <td>20</td>\n",
       "      <td>Wednesday</td>\n",
       "    </tr>\n",
       "    <tr>\n",
       "      <th>4</th>\n",
       "      <td>2019-03-10 22:24:56.684</td>\n",
       "      <td>0</td>\n",
       "      <td>1891515180541284343</td>\n",
       "      <td>8355110941557237501</td>\n",
       "      <td>False</td>\n",
       "      <td>True</td>\n",
       "      <td>6333597102633388268</td>\n",
       "      <td>1.083369e+18</td>\n",
       "      <td>7.876612e+18</td>\n",
       "      <td>HasOffers Mobile AppTracking v1.0</td>\n",
       "      <td>...</td>\n",
       "      <td>Open</td>\n",
       "      <td>True</td>\n",
       "      <td>685400811232710215</td>\n",
       "      <td>3.301378e+18</td>\n",
       "      <td>2019</td>\n",
       "      <td>3</td>\n",
       "      <td>10</td>\n",
       "      <td>22</td>\n",
       "      <td>24</td>\n",
       "      <td>Sunday</td>\n",
       "    </tr>\n",
       "  </tbody>\n",
       "</table>\n",
       "<p>5 rows × 21 columns</p>\n",
       "</div>"
      ],
      "text/plain": [
       "                  created  application_id             ref_type  \\\n",
       "0 2019-03-13 01:43:33.445               0  1891515180541284343   \n",
       "1 2019-03-13 04:58:35.078               0  1891515180541284343   \n",
       "2 2019-03-13 04:20:57.666               0  1891515180541284343   \n",
       "3 2019-03-13 04:20:57.698               0  1891515180541284343   \n",
       "4 2019-03-10 22:24:56.684               0  1891515180541284343   \n",
       "\n",
       "              ref_hash  attributed  implicit   device_countrycode  \\\n",
       "0  8464844987297247076       False     False  6333597102633388268   \n",
       "1  3250564871270161533       False     False  6333597102633388268   \n",
       "2  7953318831018100268       False      True  6333597102633388268   \n",
       "3  7953318831018100268       False     False  6333597102633388268   \n",
       "4  8355110941557237501       False      True  6333597102633388268   \n",
       "\n",
       "   device_brand  device_model                 session_user_agent    ...      \\\n",
       "0  3.083059e+17  4.445252e+18                                NaN    ...       \n",
       "1  3.083059e+17  4.445252e+18                                NaN    ...       \n",
       "2  5.137992e+17  6.026543e+18  HasOffers Mobile AppTracking v1.0    ...       \n",
       "3  5.137992e+17  6.026543e+18                                NaN    ...       \n",
       "4  1.083369e+18  7.876612e+18  HasOffers Mobile AppTracking v1.0    ...       \n",
       "\n",
       "   kind  wifi           ip_address  device_language   año  mes  día  hora  \\\n",
       "0   NaN  True  5529284367937637301              NaN  2019    3   13     1   \n",
       "1   NaN  True  6098022721363533304              NaN  2019    3   13     4   \n",
       "2  Open  True  4636407223847323867     3.301378e+18  2019    3   13     4   \n",
       "3   NaN  True  4636407223847323867              NaN  2019    3   13     4   \n",
       "4  Open  True   685400811232710215     3.301378e+18  2019    3   10    22   \n",
       "\n",
       "   minuto  diaSemana  \n",
       "0      43  Wednesday  \n",
       "1      58  Wednesday  \n",
       "2      20  Wednesday  \n",
       "3      20  Wednesday  \n",
       "4      24     Sunday  \n",
       "\n",
       "[5 rows x 21 columns]"
      ]
     },
     "execution_count": 146,
     "metadata": {},
     "output_type": "execute_result"
    }
   ],
   "source": [
    "inst['año'] = pd.DatetimeIndex(inst['created']).year\n",
    "inst['mes'] =inst['created'].dt.month\n",
    "inst['día'] = inst['created'].dt.day\n",
    "inst['hora'] = inst['created'].dt.hour\n",
    "inst['minuto'] = inst['created'].dt.minute\n",
    "inst['diaSemana'] = inst['created'].dt.weekday_name\n",
    "inst.head()"
   ]
  },
  {
   "cell_type": "code",
   "execution_count": 159,
   "metadata": {},
   "outputs": [
    {
     "data": {
      "text/plain": [
       "count                           3412\n",
       "unique                          3412\n",
       "top       2019-03-09 04:34:41.291000\n",
       "freq                               1\n",
       "first     2019-03-05 00:00:38.219000\n",
       "last      2019-03-13 23:54:00.526000\n",
       "Name: created, dtype: object"
      ]
     },
     "execution_count": 159,
     "metadata": {},
     "output_type": "execute_result"
    }
   ],
   "source": [
    "inst['created'].describe()"
   ]
  },
  {
   "cell_type": "code",
   "execution_count": 158,
   "metadata": {},
   "outputs": [
    {
     "data": {
      "image/png": "[encoded data removed]",
      "text/plain": [
       "<Figure size 1152x288 with 1 Axes>"
      ]
     },
     "metadata": {
      "needs_background": "light"
     },
     "output_type": "display_data"
    }
   ],
   "source": [
    "ax=sns.countplot(x='wifi', data=inst)\n",
    "ax.set_title('Instalaciones totales en función del si estaba conectada a una red WIFI según dia de la semana dede 5/3/19 al 13/3/19')\n",
    "ax.figure.set_size_inches(16, 4)\n"
   ]
  },
  {
   "cell_type": "code",
   "execution_count": 161,
   "metadata": {},
   "outputs": [
    {
     "data": {
      "text/plain": [
       "count      3412\n",
       "unique        1\n",
       "top       False\n",
       "freq       3412\n",
       "Name: attributed, dtype: object"
      ]
     },
     "execution_count": 161,
     "metadata": {},
     "output_type": "execute_result"
    }
   ],
   "source": [
    "inst['attributed'].describe()"
   ]
  },
  {
   "cell_type": "code",
   "execution_count": 149,
   "metadata": {},
   "outputs": [
    {
     "data": {
      "text/html": [
       "<div>\n",
       "<style scoped>\n",
       "    .dataframe tbody tr th:only-of-type {\n",
       "        vertical-align: middle;\n",
       "    }\n",
       "\n",
       "    .dataframe tbody tr th {\n",
       "        vertical-align: top;\n",
       "    }\n",
       "\n",
       "    .dataframe thead th {\n",
       "        text-align: right;\n",
       "    }\n",
       "</style>\n",
       "<table border=\"1\" class=\"dataframe\">\n",
       "  <thead>\n",
       "    <tr style=\"text-align: right;\">\n",
       "      <th></th>\n",
       "      <th>application_id</th>\n",
       "      <th>diaSemana</th>\n",
       "      <th>Total instalaciones</th>\n",
       "    </tr>\n",
       "  </thead>\n",
       "  <tbody>\n",
       "    <tr>\n",
       "      <th>0</th>\n",
       "      <td>7</td>\n",
       "      <td>Tuesday</td>\n",
       "      <td>222</td>\n",
       "    </tr>\n",
       "    <tr>\n",
       "      <th>1</th>\n",
       "      <td>7</td>\n",
       "      <td>Wednesday</td>\n",
       "      <td>211</td>\n",
       "    </tr>\n",
       "    <tr>\n",
       "      <th>2</th>\n",
       "      <td>9</td>\n",
       "      <td>Wednesday</td>\n",
       "      <td>190</td>\n",
       "    </tr>\n",
       "    <tr>\n",
       "      <th>3</th>\n",
       "      <td>9</td>\n",
       "      <td>Tuesday</td>\n",
       "      <td>175</td>\n",
       "    </tr>\n",
       "    <tr>\n",
       "      <th>4</th>\n",
       "      <td>7</td>\n",
       "      <td>Thursday</td>\n",
       "      <td>122</td>\n",
       "    </tr>\n",
       "    <tr>\n",
       "      <th>5</th>\n",
       "      <td>7</td>\n",
       "      <td>Friday</td>\n",
       "      <td>108</td>\n",
       "    </tr>\n",
       "    <tr>\n",
       "      <th>6</th>\n",
       "      <td>9</td>\n",
       "      <td>Thursday</td>\n",
       "      <td>100</td>\n",
       "    </tr>\n",
       "    <tr>\n",
       "      <th>7</th>\n",
       "      <td>10</td>\n",
       "      <td>Tuesday</td>\n",
       "      <td>99</td>\n",
       "    </tr>\n",
       "    <tr>\n",
       "      <th>8</th>\n",
       "      <td>7</td>\n",
       "      <td>Monday</td>\n",
       "      <td>97</td>\n",
       "    </tr>\n",
       "    <tr>\n",
       "      <th>9</th>\n",
       "      <td>7</td>\n",
       "      <td>Saturday</td>\n",
       "      <td>97</td>\n",
       "    </tr>\n",
       "    <tr>\n",
       "      <th>10</th>\n",
       "      <td>7</td>\n",
       "      <td>Sunday</td>\n",
       "      <td>90</td>\n",
       "    </tr>\n",
       "    <tr>\n",
       "      <th>11</th>\n",
       "      <td>16</td>\n",
       "      <td>Tuesday</td>\n",
       "      <td>85</td>\n",
       "    </tr>\n",
       "    <tr>\n",
       "      <th>12</th>\n",
       "      <td>9</td>\n",
       "      <td>Friday</td>\n",
       "      <td>85</td>\n",
       "    </tr>\n",
       "    <tr>\n",
       "      <th>13</th>\n",
       "      <td>10</td>\n",
       "      <td>Wednesday</td>\n",
       "      <td>83</td>\n",
       "    </tr>\n",
       "    <tr>\n",
       "      <th>14</th>\n",
       "      <td>16</td>\n",
       "      <td>Wednesday</td>\n",
       "      <td>77</td>\n",
       "    </tr>\n",
       "    <tr>\n",
       "      <th>15</th>\n",
       "      <td>9</td>\n",
       "      <td>Monday</td>\n",
       "      <td>74</td>\n",
       "    </tr>\n",
       "    <tr>\n",
       "      <th>16</th>\n",
       "      <td>8</td>\n",
       "      <td>Tuesday</td>\n",
       "      <td>73</td>\n",
       "    </tr>\n",
       "    <tr>\n",
       "      <th>17</th>\n",
       "      <td>8</td>\n",
       "      <td>Wednesday</td>\n",
       "      <td>67</td>\n",
       "    </tr>\n",
       "    <tr>\n",
       "      <th>18</th>\n",
       "      <td>9</td>\n",
       "      <td>Sunday</td>\n",
       "      <td>54</td>\n",
       "    </tr>\n",
       "    <tr>\n",
       "      <th>19</th>\n",
       "      <td>9</td>\n",
       "      <td>Saturday</td>\n",
       "      <td>53</td>\n",
       "    </tr>\n",
       "  </tbody>\n",
       "</table>\n",
       "</div>"
      ],
      "text/plain": [
       "    application_id  diaSemana  Total instalaciones\n",
       "0                7    Tuesday                  222\n",
       "1                7  Wednesday                  211\n",
       "2                9  Wednesday                  190\n",
       "3                9    Tuesday                  175\n",
       "4                7   Thursday                  122\n",
       "5                7     Friday                  108\n",
       "6                9   Thursday                  100\n",
       "7               10    Tuesday                   99\n",
       "8                7     Monday                   97\n",
       "9                7   Saturday                   97\n",
       "10               7     Sunday                   90\n",
       "11              16    Tuesday                   85\n",
       "12               9     Friday                   85\n",
       "13              10  Wednesday                   83\n",
       "14              16  Wednesday                   77\n",
       "15               9     Monday                   74\n",
       "16               8    Tuesday                   73\n",
       "17               8  Wednesday                   67\n",
       "18               9     Sunday                   54\n",
       "19               9   Saturday                   53"
      ]
     },
     "execution_count": 149,
     "metadata": {},
     "output_type": "execute_result"
    }
   ],
   "source": [
    "grupo_inst_por_dia=inst.groupby(['application_id','diaSemana'])['application_id'].count().sort_values(ascending=False).rename(\"Total instalaciones\").reset_index()\n",
    "grupo_inst_por_dia.head(20)"
   ]
  },
  {
   "cell_type": "code",
   "execution_count": 151,
   "metadata": {},
   "outputs": [
    {
     "data": {
      "image/png": "[encoded data removed]",
      "text/plain": [
       "<Figure size 1152x288 with 1 Axes>"
      ]
     },
     "metadata": {
      "needs_background": "light"
     },
     "output_type": "display_data"
    }
   ],
   "source": [
    "# Conversiones por dia de smeana\n",
    "ax = sns.barplot(x='diaSemana', y='Total instalaciones', data=grupo_inst_por_dia)\n",
    "ax.set_title('Instalaciones totales según dia de la semana dede 5/3/19 al 13/3/19')\n",
    "ax.figure.set_size_inches(16, 4)"
   ]
  },
  {
   "cell_type": "code",
   "execution_count": 150,
   "metadata": {},
   "outputs": [
    {
     "data": {
      "image/png": "[encoded data removed]",
      "text/plain": [
       "<Figure size 432x288 with 1 Axes>"
      ]
     },
     "metadata": {
      "needs_background": "light"
     },
     "output_type": "display_data"
    }
   ],
   "source": [
    "vis9 = sns.swarmplot(x=\"Total instalaciones\", y=\"diaSemana\", hue=\"application_id\", data=grupo_inst_por_dia)\n",
    "vis9.legend_.remove()\n",
    "plt.legend(loc=\"upper left\", bbox_to_anchor=(1,1))\n",
    "plt.show()data:image/png;base64,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"
   ]
  },
  {
   "cell_type": "code",
   "execution_count": 153,
   "metadata": {},
   "outputs": [
    {
     "data": {
      "text/html": [
       "<div>\n",
       "<style scoped>\n",
       "    .dataframe tbody tr th:only-of-type {\n",
       "        vertical-align: middle;\n",
       "    }\n",
       "\n",
       "    .dataframe tbody tr th {\n",
       "        vertical-align: top;\n",
       "    }\n",
       "\n",
       "    .dataframe thead th {\n",
       "        text-align: right;\n",
       "    }\n",
       "</style>\n",
       "<table border=\"1\" class=\"dataframe\">\n",
       "  <thead>\n",
       "    <tr style=\"text-align: right;\">\n",
       "      <th></th>\n",
       "      <th>application_id</th>\n",
       "      <th>diaSemana</th>\n",
       "      <th>hora</th>\n",
       "      <th>Cantidad instalaciones</th>\n",
       "    </tr>\n",
       "  </thead>\n",
       "  <tbody>\n",
       "    <tr>\n",
       "      <th>0</th>\n",
       "      <td>7</td>\n",
       "      <td>Wednesday</td>\n",
       "      <td>21</td>\n",
       "      <td>18</td>\n",
       "    </tr>\n",
       "    <tr>\n",
       "      <th>1</th>\n",
       "      <td>9</td>\n",
       "      <td>Tuesday</td>\n",
       "      <td>14</td>\n",
       "      <td>18</td>\n",
       "    </tr>\n",
       "    <tr>\n",
       "      <th>2</th>\n",
       "      <td>9</td>\n",
       "      <td>Tuesday</td>\n",
       "      <td>23</td>\n",
       "      <td>17</td>\n",
       "    </tr>\n",
       "    <tr>\n",
       "      <th>3</th>\n",
       "      <td>7</td>\n",
       "      <td>Tuesday</td>\n",
       "      <td>1</td>\n",
       "      <td>17</td>\n",
       "    </tr>\n",
       "    <tr>\n",
       "      <th>4</th>\n",
       "      <td>7</td>\n",
       "      <td>Wednesday</td>\n",
       "      <td>15</td>\n",
       "      <td>17</td>\n",
       "    </tr>\n",
       "  </tbody>\n",
       "</table>\n",
       "</div>"
      ],
      "text/plain": [
       "   application_id  diaSemana  hora  Cantidad instalaciones\n",
       "0               7  Wednesday    21                      18\n",
       "1               9    Tuesday    14                      18\n",
       "2               9    Tuesday    23                      17\n",
       "3               7    Tuesday     1                      17\n",
       "4               7  Wednesday    15                      17"
      ]
     },
     "execution_count": 153,
     "metadata": {},
     "output_type": "execute_result"
    }
   ],
   "source": [
    "grupo_inst_por_hora=inst.groupby(['application_id','diaSemana','hora'])['application_id'].count().sort_values(ascending=False).rename(\"Cantidad instalaciones\").reset_index()\n",
    "#grupo_inst_por_hora=grupo_inst_por_hora.head(100) \n",
    "grupo_inst_por_hora.head()"
   ]
  },
  {
   "cell_type": "code",
   "execution_count": 155,
   "metadata": {},
   "outputs": [
    {
     "name": "stderr",
     "output_type": "stream",
     "text": [
      "/home/jorge/anaconda3/lib/python3.7/site-packages/seaborn/regression.py:546: UserWarning: The `size` paramter has been renamed to `height`; please update your code.\n",
      "  warnings.warn(msg, UserWarning)\n"
     ]
    },
    {
     "data": {
      "image/png": "[encoded data removed]",
      "text/plain": [
       "<Figure size 725.375x432 with 1 Axes>"
      ]
     },
     "metadata": {
      "needs_background": "light"
     },
     "output_type": "display_data"
    }
   ],
   "source": [
    "vis7 = sns.lmplot(data = grupo_inst_por_hora, x = \"hora\", y =\"Cantidad instalaciones\",fit_reg=False, hue = \"application_id\",size = 6, aspect=1.5, scatter_kws = {'s':200}, )"
   ]
  },
  {
   "cell_type": "code",
   "execution_count": 156,
   "metadata": {},
   "outputs": [
    {
     "data": {
      "image/png": "[encoded data removed]",
      "text/plain": [
       "<Figure size 432x288 with 1 Axes>"
      ]
     },
     "metadata": {
      "needs_background": "light"
     },
     "output_type": "display_data"
    }
   ],
   "source": [
    "vis5 = sns.boxplot(data = grupo_inst_por_dia, y = \"Total instalaciones\", x = \"diaSemana\")\n",
    "fig = vis5.get_figure()"
   ]
  },
  {
   "cell_type": "code",
   "execution_count": null,
   "metadata": {},
   "outputs": [],
   "source": []
  }
 ],
 "metadata": {
  "kernelspec": {
   "display_name": "Python 3",
   "language": "python",
   "name": "python3"
  },
  "language_info": {
   "codemirror_mode": {
    "name": "ipython",
    "version": 3
   },
   "file_extension": ".py",
   "mimetype": "text/x-python",
   "name": "python",
   "nbconvert_exporter": "python",
   "pygments_lexer": "ipython3",
   "version": "3.6.7"
  }
 },
 "nbformat": 4,
 "nbformat_minor": 2
}
